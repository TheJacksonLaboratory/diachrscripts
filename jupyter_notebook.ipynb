{
 "cells": [
  {
   "cell_type": "markdown",
   "metadata": {},
   "source": [
    "# Analysis of simple and twisted interactions\n",
    "\n",
    "This notebook consists of two main parts: *Data preparation* and *Data analysis*. The first provides information about the source of the data, all preprocessing steps and where to download annotation files and precomputed interaction files. The second part contains one section for each script. Each section provides a brief description of the analysis, cells that can be executed to perform the analysis on individual datasets as well as tables and plots for the reults."
   ]
  },
  {
   "cell_type": "markdown",
   "metadata": {},
   "source": [
    "## Data preparation\n",
    "\n",
    "\n",
    "### Data sources\n",
    "\n",
    "We analyzed datasets from the following pulications:\n",
    "\n",
    "1. [Nora et al. 2017](https://www.ncbi.nlm.nih.gov/pubmed/28525758), mouse embryonic stem cells, Hi-C, HindIII\n",
    "2. [Mifsud et al. 2015](https://www.ncbi.nlm.nih.gov/pubmed/25938943), human GM12878 and CD34+ blood cells, promoter capture Hi-C, HindIII\n",
    "3. [Schoenefelder et al. 2015](https://www.ncbi.nlm.nih.gov/pubmed/25752748), mouse embryonic stem cells, promoter capture Hi-C, HindIII\n",
    "4. [Chesi et al. 2019](https://www.ncbi.nlm.nih.gov/pubmed/30890710), human BMP2 induced osteoblasts and liver carcinoma HepG2 cells, Capture-C, DpnII\n",
    "\n",
    "Paired-end reads were downloaded from the European Nucleotide Archive ([ENA](https://www.ebi.ac.uk/ena)) using the command line utility program ```wget```. Paired-end FASTQ files from ENA are in sync and can be processed directly.\n",
    "\n",
    "### Trucation, mapping and counting of read pairs with Diachromatic\n",
    "\n",
    "We used our Java application ```Diachromatic``` in order to derive read pair counts for interacting pairs of restriction digests. Source code and binaries are available on [GitHub](https://github.com/TheJacksonLaboratory/diachromatic) and documantation on [Read the Docs](https://diachromatic.readthedocs.io/en/latest/). Furthermore, a [recently published review article](https://www.mdpi.com/2073-4425/10/7/548) gives some application examples of ```Diachromatic```. We chose appropriate genome builds and restriction enzymes and default parameters otherwise with one exception. For the data of Chesi et al., we used the ```--sticky-end``` option for truncation because, for Capture-C, no fill-in of sticky ends is performed.\n",
    "\n",
    "### Digest map preparation using GOPHER\n",
    "\n",
    "```Diachromatic``` expects a *digest map* for the corresponding genome build and restriction enzyme as input. A *digest map* is a text file in which each line corresponds to restriction digest in the genome. The following line gives one example.\n",
    "```\n",
    "chr1    15172   15749   14      DpnII   DpnII   578     0.272   0.272   0.157   0.000   F       0       0\n",
    "```\n",
    "The first three columns contain the coordinates of a DpnII restriction digest of on chromosome 1. We used our Java application [GOPHER](https://www.ncbi.nlm.nih.gov/pubmed/30642251/) in order to prepare *digest maps* for mouse and human with DpnII or HindIII.\n",
    "\n",
    "GOPHER flags digests that were selected for target enrichment as *selected* or *active* which is indicated by an F or T (FALSE or TRUE) in column 12. This information is used in ```Diachromatic``` to derive a quality metric that reflects the efficiency of target enrichment. Furthermore, the states (inactive/active) of digests are passed through the reported interactions. For the promoter capture Hi-C and Capture-C datasets, we used the preset option *All protein-coding genes* in order to flag all digests that overlap a transcription start site (TSS) of a protein-coding gene as *active*. For the CTCF depletion data, we manually prepared a digest map in which all digests that overlap predic TAD boundary that was *gone* upon CTCF depletion are selected.\n",
    "\n",
    "### Diachromatic interaction files\n",
    "\n",
    "All analyses presented here are based on Diachromatic interaction files in which each line represents one interaction. For instance, the line\n",
    "```\n",
    "chr5\t156958482\t156963927\tA\tchr5\t157097590\t157104795\tI\t0:2\n",
    "```\n",
    "represents an interaction between two restriction digests on chromosome 5. The first digest is flagged as active (A) and the second digest as inactive (I). The last column contains the number of simple and twisted read pairs for the given interaction separated by a colon. For the example above, there were no simple and two twisted read pairs.\n",
    "\n",
    "Interactions with only one read pairs are not informative when analyzing shifts between simple and twisted read pairs. Therefore, all analyses presented here were performed on interactions with more than one read pair only (gt1 stands for greater than 1).\n",
    "\n",
    "### UCSC's refGene.txt.gz file\n",
    "\n",
    "The RefSeq annotation of TSS for ```mm10``` and ```hg38``` were taken from UCSC's ```refGene.txt.gz``` file. This file is used for various analysis steps including:\n",
    "\n",
    "1. Preparation of a *digest map* as input for Diachromatic using GOPHER\n",
    "2. TSS strand analysis\n",
    "3. Expression analysis\n",
    "\n",
    "It is important to use the same version of the ```refGene.txt.gz``` file for the different analysis steps in order to avoid inconsistencies due to changes of annotations.\n",
    "\n",
    "\n",
    "### GTF input file for Tophat/Cufflinks\n",
    "\n",
    "The GTF files that were used as input for Tophat and Cuffdiff were derived from the ```refGene.txt.gz``` file that was also used for the prepartion of the *digest map* as follows:\n",
    "\n",
    "```shell\n",
    "gzip -d refGene.txt.gz\n",
    "cut -f 2- refGene.txt > refGene.input\n",
    "genePredToGtf file refGene.input hg38refGene.gtf\n",
    "cat hg38refGene.gtf  | sort -k1,1 -k4,4n > hg38refGene.gtf.sorted\n",
    "```\n",
    "\n",
    "### Calculation of FPKM values for known genes using Tophat and Cufflinks\n",
    "\n",
    "This analysis was performed following the instructions given in [Trapnell et al. 2014](https://www.ncbi.nlm.nih.gov/pubmed/22383036).\n",
    "\n",
    "### Download precalculated data from Owncloud\n",
    "\n",
    "Precalculated files for interactions with more than one read pair (gt1), TSS annotation and FPKM values can be downloaded from [Owncloud](https://owncloud-ext.charite.de/owncloud/index.php/s/A0JPPRt8v9LCSVK). All files are packed within the file ```diascripts_data```. Unzip this file to your cloned diachscripts directory. For instance, by executing the following command:\n",
    "\n",
    "```shell\n",
    "unzip diachrscripts_data.zip -d /Users/hansep/PycharmProjects/diachrscripts/\n",
    "```\n",
    "\n",
    "This will create a directory ```diachrscripts_data``` with the following structure:\n",
    "\n",
    "* nora_2017_mm9\n",
    "* mifsud_2015_hg38\n",
    "    * data\n",
    "        * annotation\n",
    "            * hg38_chromInfo.txt (**file containg chromosome sizes**)\n",
    "            * hg38_gopher_refGene.txt (**UCSC's refGen file**)\n",
    "            * hg38_gopher_refGene.gtf.sorted.gz (**refGen file converted to GTF format**)\n",
    "            * mifsud_all_promoters_hg38_HindIII_DigestedGenome.txt.gz (**digest map**)\n",
    "        * gzdir\n",
    "            * MIFSUD_R10.interaction.counts.table.gt1.tsv.gz (**gt1 interactions for replicate 1**)\n",
    "            * MIFSUD_R20.interaction.counts.table.gt1.tsv.gz (**gt1 interactions for replicate 2**)\n",
    "            * MIFSUD_R30.interaction.counts.table.gt1.tsv.gz (**gt1 interactions for replicate 3**)\n",
    "    * qc (**Diachromatic's quality reports for truncation and mapping**)\n",
    "    * results (*** results precalculated with this Jupyter notebook***)\n",
    "* schoenefelder_2015_mm10\n",
    "* chesi_2019_hg38"
   ]
  },
  {
   "cell_type": "markdown",
   "metadata": {},
   "source": [
    "## Data analysis"
   ]
  },
  {
   "cell_type": "markdown",
   "metadata": {},
   "source": [
    "### Preparations\n",
    "\n",
    "The execution of the scripts assume the directory structure given above.\n",
    "So far, we use ```pandas``` data frames.\n",
    "Use ```autoreload``` if you plan to edit and excute the scripts alternately, otherwise your changes will not become effective in this notebook."
   ]
  },
  {
   "cell_type": "code",
   "execution_count": 7,
   "metadata": {
    "scrolled": true
   },
   "outputs": [],
   "source": [
    "import pandas as pd\n",
    "%load_ext autoreload\n",
    "%autoreload 2"
   ]
  },
  {
   "cell_type": "markdown",
   "metadata": {},
   "source": [
    "### k-interaction analysis\n",
    "\n",
    "In order to reroduce the k-interaction alalysis, use the script ```diachrscripts/analyze_k_interactions_script.py```. This script has the following parameters:\n",
    "\n",
    "- ```--out-prefix```, e.g. ```results/mifsud/mifsud_r1```\n",
    "- ```--interaction-file```, e.g. ```data/mifsud/gzdir/MIFSUD_R10.interaction.counts.table.gt1.tsv.gz```"
   ]
  },
  {
   "cell_type": "markdown",
   "metadata": {},
   "source": [
    "#### Mifsud - Replicate 1"
   ]
  },
  {
   "cell_type": "code",
   "execution_count": 2,
   "metadata": {},
   "outputs": [],
   "source": [
    "!mkdir -p results/mifsud # create directory for your output"
   ]
  },
  {
   "cell_type": "code",
   "execution_count": 19,
   "metadata": {
    "scrolled": false
   },
   "outputs": [
    {
     "name": "stdout",
     "output_type": "stream",
     "text": [
      "[INFO] --out_prefix: results/mifsud/k_interaction_analysis_mifsud_r1\n",
      "[INFO] --interaction-file: diachrscripts_data/mifsud_2015_hg38/data/gzdir/MIFSUD_R10.interaction.counts.table.gt1.tsv.gz\n",
      "[INFO] Determining number of k-interactions with zero simple or twisted read pairs in diachrscripts_data/mifsud_2015_hg38/data/gzdir/MIFSUD_R10.interaction.counts.table.gt1.tsv.gz ...\n",
      "('\\t[INFO]', 0, 'interactions processed ...')\n",
      "('\\t[INFO]', 1000000, 'interactions processed ...')\n",
      "... done.\n",
      "[INFO] Total number of interactions: 1175807\n",
      "[INFO] Number of trans and short range interactions: 181256 (discarded)\n",
      "[INFO] Output written to: results/mifsud/k_interaction_analysis_mifsud_r1_k_inter.tab\n",
      "[INFO] Done.\n"
     ]
    },
    {
     "data": {
      "text/html": [
       "<div>\n",
       "<style scoped>\n",
       "    .dataframe tbody tr th:only-of-type {\n",
       "        vertical-align: middle;\n",
       "    }\n",
       "\n",
       "    .dataframe tbody tr th {\n",
       "        vertical-align: top;\n",
       "    }\n",
       "\n",
       "    .dataframe thead th {\n",
       "        text-align: right;\n",
       "    }\n",
       "</style>\n",
       "<table border=\"1\" class=\"dataframe\">\n",
       "  <thead>\n",
       "    <tr style=\"text-align: right;\">\n",
       "      <th></th>\n",
       "      <th>K</th>\n",
       "      <th>N_INTER</th>\n",
       "      <th>N_ZERO_SIMP</th>\n",
       "      <th>N_ZERO_TWIST</th>\n",
       "      <th>N_ZERO_TOT</th>\n",
       "      <th>F_ZERO_TOT</th>\n",
       "      <th>N_ZERO_TOT_EXP</th>\n",
       "      <th>F_EXP_AMONG_OBS</th>\n",
       "      <th>LOG10_P_VAL</th>\n",
       "    </tr>\n",
       "  </thead>\n",
       "  <tbody>\n",
       "    <tr>\n",
       "      <th>0</th>\n",
       "      <td>2</td>\n",
       "      <td>630963</td>\n",
       "      <td>170679</td>\n",
       "      <td>171407</td>\n",
       "      <td>342086</td>\n",
       "      <td>0.54</td>\n",
       "      <td>315482</td>\n",
       "      <td>0.92</td>\n",
       "      <td>&lt;323.31</td>\n",
       "    </tr>\n",
       "    <tr>\n",
       "      <th>1</th>\n",
       "      <td>3</td>\n",
       "      <td>173606</td>\n",
       "      <td>23903</td>\n",
       "      <td>23879</td>\n",
       "      <td>47782</td>\n",
       "      <td>0.28</td>\n",
       "      <td>43402</td>\n",
       "      <td>0.91</td>\n",
       "      <td>127.11</td>\n",
       "    </tr>\n",
       "    <tr>\n",
       "      <th>2</th>\n",
       "      <td>4</td>\n",
       "      <td>77991</td>\n",
       "      <td>5607</td>\n",
       "      <td>5658</td>\n",
       "      <td>11265</td>\n",
       "      <td>0.14</td>\n",
       "      <td>9749</td>\n",
       "      <td>0.87</td>\n",
       "      <td>57.76</td>\n",
       "    </tr>\n",
       "    <tr>\n",
       "      <th>3</th>\n",
       "      <td>5</td>\n",
       "      <td>41027</td>\n",
       "      <td>1651</td>\n",
       "      <td>1632</td>\n",
       "      <td>3283</td>\n",
       "      <td>0.08</td>\n",
       "      <td>2564</td>\n",
       "      <td>0.78</td>\n",
       "      <td>44.72</td>\n",
       "    </tr>\n",
       "    <tr>\n",
       "      <th>4</th>\n",
       "      <td>6</td>\n",
       "      <td>23578</td>\n",
       "      <td>432</td>\n",
       "      <td>504</td>\n",
       "      <td>936</td>\n",
       "      <td>0.04</td>\n",
       "      <td>737</td>\n",
       "      <td>0.79</td>\n",
       "      <td>12.48</td>\n",
       "    </tr>\n",
       "  </tbody>\n",
       "</table>\n",
       "</div>"
      ],
      "text/plain": [
       "   K  N_INTER  N_ZERO_SIMP  N_ZERO_TWIST  N_ZERO_TOT  F_ZERO_TOT  \\\n",
       "0  2   630963       170679        171407      342086        0.54   \n",
       "1  3   173606        23903         23879       47782        0.28   \n",
       "2  4    77991         5607          5658       11265        0.14   \n",
       "3  5    41027         1651          1632        3283        0.08   \n",
       "4  6    23578          432           504         936        0.04   \n",
       "\n",
       "   N_ZERO_TOT_EXP  F_EXP_AMONG_OBS LOG10_P_VAL  \n",
       "0          315482             0.92     <323.31  \n",
       "1           43402             0.91      127.11  \n",
       "2            9749             0.87       57.76  \n",
       "3            2564             0.78       44.72  \n",
       "4             737             0.79       12.48  "
      ]
     },
     "execution_count": 19,
     "metadata": {},
     "output_type": "execute_result"
    }
   ],
   "source": [
    "!python analyze_k_interactions_script.py --out-prefix results/mifsud/k_interaction_analysis_mifsud_r1 --interaction-file diachrscripts_data/mifsud_2015_hg38/data/gzdir/MIFSUD_R10.interaction.counts.table.gt1.tsv.gz\n",
    "df_mifsud_r1 = pd.read_csv('results/mifsud/k_interaction_analysis_mifsud_r1_k_inter.tab', header = (0), sep = '\\t')\n",
    "df_mifsud_r1.head()"
   ]
  },
  {
   "cell_type": "code",
   "execution_count": 9,
   "metadata": {},
   "outputs": [],
   "source": [
    "import matplotlib"
   ]
  },
  {
   "cell_type": "code",
   "execution_count": 10,
   "metadata": {},
   "outputs": [],
   "source": [
    "import matplotlib.pyplot as plt"
   ]
  },
  {
   "cell_type": "code",
   "execution_count": 20,
   "metadata": {},
   "outputs": [
    {
     "data": {
      "text/plain": [
       "[<matplotlib.lines.Line2D at 0x7f791914d390>]"
      ]
     },
     "execution_count": 20,
     "metadata": {},
     "output_type": "execute_result"
    },
    {
     "data": {
      "image/png": "[encoded data removed]",
      "text/plain": [
       "<Figure size 432x288 with 1 Axes>"
      ]
     },
     "metadata": {
      "needs_background": "light"
     },
     "output_type": "display_data"
    }
   ],
   "source": [
    "plt.xlim(0,25)\n",
    "plt.plot(df_mifsud_r1['F_EXP_AMONG_OBS'])"
   ]
  },
  {
   "cell_type": "markdown",
   "metadata": {},
   "source": [
    "#### Mifsud - Replicate 2"
   ]
  },
  {
   "cell_type": "code",
   "execution_count": 21,
   "metadata": {},
   "outputs": [
    {
     "name": "stdout",
     "output_type": "stream",
     "text": [
      "[INFO] --out_prefix: results/mifsud/k_interaction_analysis_mifsud_r2\n",
      "[INFO] --interaction-file: diachrscripts_data/mifsud_2015_hg38/data/gzdir/MIFSUD_R20.interaction.counts.table.gt1.tsv.gz\n",
      "[INFO] Determining number of k-interactions with zero simple or twisted read pairs in diachrscripts_data/mifsud_2015_hg38/data/gzdir/MIFSUD_R20.interaction.counts.table.gt1.tsv.gz ...\n",
      "('\\t[INFO]', 0, 'interactions processed ...')\n",
      "('\\t[INFO]', 1000000, 'interactions processed ...')\n",
      "('\\t[INFO]', 2000000, 'interactions processed ...')\n",
      "('\\t[INFO]', 3000000, 'interactions processed ...')\n",
      "('\\t[INFO]', 4000000, 'interactions processed ...')\n",
      "('\\t[INFO]', 5000000, 'interactions processed ...')\n",
      "('\\t[INFO]', 6000000, 'interactions processed ...')\n",
      "('\\t[INFO]', 7000000, 'interactions processed ...')\n",
      "('\\t[INFO]', 8000000, 'interactions processed ...')\n",
      "('\\t[INFO]', 9000000, 'interactions processed ...')\n",
      "('\\t[INFO]', 10000000, 'interactions processed ...')\n",
      "... done.\n",
      "[INFO] Total number of interactions: 10355044\n",
      "[INFO] Number of trans and short range interactions: 906668 (discarded)\n",
      "[INFO] Output written to: results/mifsud/k_interaction_analysis_mifsud_r2_k_inter.tab\n",
      "[INFO] Done.\n"
     ]
    },
    {
     "data": {
      "text/html": [
       "<div>\n",
       "<style scoped>\n",
       "    .dataframe tbody tr th:only-of-type {\n",
       "        vertical-align: middle;\n",
       "    }\n",
       "\n",
       "    .dataframe tbody tr th {\n",
       "        vertical-align: top;\n",
       "    }\n",
       "\n",
       "    .dataframe thead th {\n",
       "        text-align: right;\n",
       "    }\n",
       "</style>\n",
       "<table border=\"1\" class=\"dataframe\">\n",
       "  <thead>\n",
       "    <tr style=\"text-align: right;\">\n",
       "      <th></th>\n",
       "      <th>K</th>\n",
       "      <th>N_INTER</th>\n",
       "      <th>N_ZERO_SIMP</th>\n",
       "      <th>N_ZERO_TWIST</th>\n",
       "      <th>N_ZERO_TOT</th>\n",
       "      <th>F_ZERO_TOT</th>\n",
       "      <th>N_ZERO_TOT_EXP</th>\n",
       "      <th>F_EXP_AMONG_OBS</th>\n",
       "      <th>LOG10_P_VAL</th>\n",
       "    </tr>\n",
       "  </thead>\n",
       "  <tbody>\n",
       "    <tr>\n",
       "      <th>0</th>\n",
       "      <td>2</td>\n",
       "      <td>5277680</td>\n",
       "      <td>1363465</td>\n",
       "      <td>1360731</td>\n",
       "      <td>2724196</td>\n",
       "      <td>0.52</td>\n",
       "      <td>2638840</td>\n",
       "      <td>0.97</td>\n",
       "      <td>&lt;323.31</td>\n",
       "    </tr>\n",
       "    <tr>\n",
       "      <th>1</th>\n",
       "      <td>3</td>\n",
       "      <td>1463744</td>\n",
       "      <td>198925</td>\n",
       "      <td>198861</td>\n",
       "      <td>397786</td>\n",
       "      <td>0.27</td>\n",
       "      <td>365936</td>\n",
       "      <td>0.92</td>\n",
       "      <td>&lt;323.31</td>\n",
       "    </tr>\n",
       "    <tr>\n",
       "      <th>2</th>\n",
       "      <td>4</td>\n",
       "      <td>732942</td>\n",
       "      <td>54511</td>\n",
       "      <td>54024</td>\n",
       "      <td>108535</td>\n",
       "      <td>0.15</td>\n",
       "      <td>91618</td>\n",
       "      <td>0.84</td>\n",
       "      <td>&lt;323.31</td>\n",
       "    </tr>\n",
       "    <tr>\n",
       "      <th>3</th>\n",
       "      <td>5</td>\n",
       "      <td>458302</td>\n",
       "      <td>18998</td>\n",
       "      <td>19048</td>\n",
       "      <td>38046</td>\n",
       "      <td>0.08</td>\n",
       "      <td>28644</td>\n",
       "      <td>0.75</td>\n",
       "      <td>&lt;323.31</td>\n",
       "    </tr>\n",
       "    <tr>\n",
       "      <th>4</th>\n",
       "      <td>6</td>\n",
       "      <td>316228</td>\n",
       "      <td>7570</td>\n",
       "      <td>7539</td>\n",
       "      <td>15109</td>\n",
       "      <td>0.05</td>\n",
       "      <td>9882</td>\n",
       "      <td>0.65</td>\n",
       "      <td>&lt;323.31</td>\n",
       "    </tr>\n",
       "  </tbody>\n",
       "</table>\n",
       "</div>"
      ],
      "text/plain": [
       "   K  N_INTER  N_ZERO_SIMP  N_ZERO_TWIST  N_ZERO_TOT  F_ZERO_TOT  \\\n",
       "0  2  5277680      1363465       1360731     2724196        0.52   \n",
       "1  3  1463744       198925        198861      397786        0.27   \n",
       "2  4   732942        54511         54024      108535        0.15   \n",
       "3  5   458302        18998         19048       38046        0.08   \n",
       "4  6   316228         7570          7539       15109        0.05   \n",
       "\n",
       "   N_ZERO_TOT_EXP  F_EXP_AMONG_OBS LOG10_P_VAL  \n",
       "0         2638840             0.97     <323.31  \n",
       "1          365936             0.92     <323.31  \n",
       "2           91618             0.84     <323.31  \n",
       "3           28644             0.75     <323.31  \n",
       "4            9882             0.65     <323.31  "
      ]
     },
     "execution_count": 21,
     "metadata": {},
     "output_type": "execute_result"
    }
   ],
   "source": [
    "!python analyze_k_interactions_script.py --out-prefix results/mifsud/k_interaction_analysis_mifsud_r2 --interaction-file diachrscripts_data/mifsud_2015_hg38/data/gzdir/MIFSUD_R20.interaction.counts.table.gt1.tsv.gz\n",
    "df_mifsud_r2 = pd.read_csv('results/mifsud/k_interaction_analysis_mifsud_r2_k_inter.tab', header = (0), sep = '\\t')\n",
    "df_mifsud_r2.head()"
   ]
  },
  {
   "cell_type": "markdown",
   "metadata": {},
   "source": [
    "#### Mifsud - Replicate 3"
   ]
  },
  {
   "cell_type": "code",
   "execution_count": 15,
   "metadata": {},
   "outputs": [
    {
     "name": "stdout",
     "output_type": "stream",
     "text": [
      "[INFO] --out_prefix: results/mifsud/k_interaction_analysis_mifsud_r3\n",
      "[INFO] --interaction-file: diachrscripts_data/mifsud_2015_hg38/data/gzdir/MIFSUD_R30.interaction.counts.table.gt1.tsv.gz\n",
      "[INFO] Determining number of k-interactions with zero simple or twisted read pairs in diachrscripts_data/mifsud_2015_hg38/data/gzdir/MIFSUD_R30.interaction.counts.table.gt1.tsv.gz ...\n",
      "('\\t[INFO]', 0, 'interactions processed ...')\n",
      "('\\t[INFO]', 1000000, 'interactions processed ...')\n",
      "('\\t[INFO]', 2000000, 'interactions processed ...')\n",
      "('\\t[INFO]', 3000000, 'interactions processed ...')\n",
      "('\\t[INFO]', 4000000, 'interactions processed ...')\n",
      "('\\t[INFO]', 5000000, 'interactions processed ...')\n",
      "('\\t[INFO]', 6000000, 'interactions processed ...')\n",
      "... done.\n",
      "[INFO] Total number of interactions: 6422936\n",
      "[INFO] Number of trans and short range interactions: 652982 (discarded)\n",
      "[INFO] Output written to: results/mifsud/k_interaction_analysis_mifsud_r3_k_inter.tab\n",
      "[INFO] Done.\n"
     ]
    },
    {
     "data": {
      "text/html": [
       "<div>\n",
       "<style scoped>\n",
       "    .dataframe tbody tr th:only-of-type {\n",
       "        vertical-align: middle;\n",
       "    }\n",
       "\n",
       "    .dataframe tbody tr th {\n",
       "        vertical-align: top;\n",
       "    }\n",
       "\n",
       "    .dataframe thead th {\n",
       "        text-align: right;\n",
       "    }\n",
       "</style>\n",
       "<table border=\"1\" class=\"dataframe\">\n",
       "  <thead>\n",
       "    <tr style=\"text-align: right;\">\n",
       "      <th></th>\n",
       "      <th>K</th>\n",
       "      <th>N_INTER</th>\n",
       "      <th>N_ZERO_SIMP</th>\n",
       "      <th>N_ZERO_TWIST</th>\n",
       "      <th>N_ZERO_TOT</th>\n",
       "      <th>F_ZERO_TOT</th>\n",
       "      <th>N_ZERO_TOT_EXP</th>\n",
       "      <th>F_EXP_AMONG_OBS</th>\n",
       "      <th>LOG10_P_VAL</th>\n",
       "    </tr>\n",
       "  </thead>\n",
       "  <tbody>\n",
       "    <tr>\n",
       "      <th>0</th>\n",
       "      <td>2</td>\n",
       "      <td>3271001</td>\n",
       "      <td>845106</td>\n",
       "      <td>841313</td>\n",
       "      <td>1686419</td>\n",
       "      <td>0.52</td>\n",
       "      <td>1635501</td>\n",
       "      <td>0.97</td>\n",
       "      <td>&lt;323.31</td>\n",
       "    </tr>\n",
       "    <tr>\n",
       "      <th>1</th>\n",
       "      <td>3</td>\n",
       "      <td>947257</td>\n",
       "      <td>128843</td>\n",
       "      <td>128003</td>\n",
       "      <td>256846</td>\n",
       "      <td>0.27</td>\n",
       "      <td>236814</td>\n",
       "      <td>0.92</td>\n",
       "      <td>&lt;323.31</td>\n",
       "    </tr>\n",
       "    <tr>\n",
       "      <th>2</th>\n",
       "      <td>4</td>\n",
       "      <td>479992</td>\n",
       "      <td>35498</td>\n",
       "      <td>34847</td>\n",
       "      <td>70345</td>\n",
       "      <td>0.15</td>\n",
       "      <td>59999</td>\n",
       "      <td>0.85</td>\n",
       "      <td>&lt;323.31</td>\n",
       "    </tr>\n",
       "    <tr>\n",
       "      <th>3</th>\n",
       "      <td>5</td>\n",
       "      <td>293608</td>\n",
       "      <td>11780</td>\n",
       "      <td>11790</td>\n",
       "      <td>23570</td>\n",
       "      <td>0.08</td>\n",
       "      <td>18351</td>\n",
       "      <td>0.78</td>\n",
       "      <td>319.22</td>\n",
       "    </tr>\n",
       "    <tr>\n",
       "      <th>4</th>\n",
       "      <td>6</td>\n",
       "      <td>195081</td>\n",
       "      <td>4560</td>\n",
       "      <td>4452</td>\n",
       "      <td>9012</td>\n",
       "      <td>0.05</td>\n",
       "      <td>6096</td>\n",
       "      <td>0.68</td>\n",
       "      <td>275.45</td>\n",
       "    </tr>\n",
       "  </tbody>\n",
       "</table>\n",
       "</div>"
      ],
      "text/plain": [
       "   K  N_INTER  N_ZERO_SIMP  N_ZERO_TWIST  N_ZERO_TOT  F_ZERO_TOT  \\\n",
       "0  2  3271001       845106        841313     1686419        0.52   \n",
       "1  3   947257       128843        128003      256846        0.27   \n",
       "2  4   479992        35498         34847       70345        0.15   \n",
       "3  5   293608        11780         11790       23570        0.08   \n",
       "4  6   195081         4560          4452        9012        0.05   \n",
       "\n",
       "   N_ZERO_TOT_EXP  F_EXP_AMONG_OBS LOG10_P_VAL  \n",
       "0         1635501             0.97     <323.31  \n",
       "1          236814             0.92     <323.31  \n",
       "2           59999             0.85     <323.31  \n",
       "3           18351             0.78      319.22  \n",
       "4            6096             0.68      275.45  "
      ]
     },
     "execution_count": 15,
     "metadata": {},
     "output_type": "execute_result"
    }
   ],
   "source": [
    "!python analyze_k_interactions_script.py --out-prefix results/mifsud/k_interaction_analysis_mifsud_r3 --interaction-file diachrscripts_data/mifsud_2015_hg38/data/gzdir/MIFSUD_R30.interaction.counts.table.gt1.tsv.gz\n",
    "df_mifsud_r3 = pd.read_csv('results/mifsud/k_interaction_analysis_mifsud_r3_k_inter.tab', header = (0), sep = '\\t')\n",
    "df_mifsud_r3.head()"
   ]
  },
  {
   "cell_type": "code",
   "execution_count": 16,
   "metadata": {},
   "outputs": [
    {
     "data": {
      "text/plain": [
       "[<matplotlib.lines.Line2D at 0x7f791926d2d0>]"
      ]
     },
     "execution_count": 16,
     "metadata": {},
     "output_type": "execute_result"
    },
    {
     "data": {
      "image/png": "[encoded data removed]",
      "text/plain": [
       "<Figure size 432x288 with 1 Axes>"
      ]
     },
     "metadata": {
      "needs_background": "light"
     },
     "output_type": "display_data"
    }
   ],
   "source": [
    "plt.xlim(0,25)\n",
    "plt.plot(df['F_EXP_AMONG_OBS'])"
   ]
  },
  {
   "cell_type": "markdown",
   "metadata": {},
   "source": [
    "### TSS strand analysis\n",
    "\n",
    "In order to reroduce the k-interaction alalysis, use the script ```diachrscripts/analyze_tss_strand_distribution_script.py```. This script has the following parameters:\n",
    "\n",
    "- ```--out-prefix```, e.g. ```results/mifsud/mifsud_r1```\n",
    "- ```--ref-gene-file```, e.g. ```diachrscripts/data/mifsud/hg38_gopher_refGene.txt.gz```\n",
    "- ```--interaction-file```, e.g. ```diachrscripts/data/mifsud/gzdir/MIFSUD_R10.interaction.counts.table.gt1.test.tsv.gz```\n"
   ]
  },
  {
   "cell_type": "markdown",
   "metadata": {},
   "source": [
    "#### Mifsud - Replicate 1"
   ]
  },
  {
   "cell_type": "code",
   "execution_count": 4,
   "metadata": {},
   "outputs": [
    {
     "name": "stdout",
     "output_type": "stream",
     "text": [
      "[INFO] Parsing refGene annotation file: data/mifsud/hg38_gopher_refGene.txt.gz ...\n",
      "\t[INFO] Found 46945 coordinates that host TSS for 48697 genes.\n",
      "\t[INFO] Found 860 coordinates that host TSS for more than one gene.\n",
      "\t[INFO] Found 4 coordinates that host TSS on different strands.\n",
      "[INFO] Determining pair category for each interaction in data/mifsud/gzdir/MIFSUD_R10.interaction.counts.table.gt1.test.tsv.gz ...\n",
      "\t[INFO] 0 interactions processed ...\n",
      "\t[INFO] 10000 interactions processed ...\n",
      "\t[INFO] 20000 interactions processed ...\n",
      "\t[INFO] 30000 interactions processed ...\n",
      "\t[INFO] 40000 interactions processed ...\n",
      "\t[INFO] 50000 interactions processed ...\n",
      "\t[INFO] 60000 interactions processed ...\n",
      "\t[INFO] 70000 interactions processed ...\n",
      "\t[INFO] 80000 interactions processed ...\n",
      "\t[INFO] 90000 interactions processed ...\n",
      "... done.\n",
      "mifsud_r1\n",
      "PAIR\tSIMPLE\tTWISTED\tSIMPLE+SIMPLE\tUNDIRECTED\tINDEFINABLE\tSIMPLE\tTWISTED\tSIMPLE+SIMPLE\tUNDIRECTED\tINDEFINABLE\n",
      "'+/-1'\t0\t0\t0\t0\t0 \t0.00\t0.00\t0.00\t0.00\t0.00\n",
      "'d/+'\t3\t3\t6\t51\t219 \t0.12\t0.14\t0.13\t0.09\t0.08\n",
      "'+/+'\t5\t6\t11\t105\t512 \t0.20\t0.27\t0.23\t0.18\t0.18\n",
      "'+/-'\t4\t0\t4\t63\t411 \t0.16\t0.00\t0.09\t0.11\t0.15\n",
      "'d/-'\t1\t1\t2\t38\t209 \t0.04\t0.05\t0.04\t0.07\t0.08\n",
      "'-1/+'\t0\t0\t0\t0\t0 \t0.00\t0.00\t0.00\t0.00\t0.00\n",
      "'-/-1'\t0\t0\t0\t0\t0 \t0.00\t0.00\t0.00\t0.00\t0.00\n",
      "'-1/d'\t0\t0\t0\t0\t0 \t0.00\t0.00\t0.00\t0.00\t0.00\n",
      "'+/d'\t0\t2\t2\t35\t214 \t0.00\t0.09\t0.04\t0.06\t0.08\n",
      "'d/d'\t2\t1\t3\t32\t104 \t0.08\t0.05\t0.06\t0.06\t0.04\n",
      "'-/+'\t5\t4\t9\t85\t440 \t0.20\t0.18\t0.19\t0.15\t0.16\n",
      "'-1/-'\t0\t0\t0\t0\t0 \t0.00\t0.00\t0.00\t0.00\t0.00\n",
      "'-/-'\t3\t3\t6\t127\t469 \t0.12\t0.14\t0.13\t0.22\t0.17\n",
      "'d/-1'\t0\t0\t0\t0\t0 \t0.00\t0.00\t0.00\t0.00\t0.00\n",
      "'-1/-1'\t0\t0\t0\t0\t0 \t0.00\t0.00\t0.00\t0.00\t0.00\n",
      "'-/d'\t2\t2\t4\t42\t206 \t0.08\t0.09\t0.09\t0.07\t0.07\n",
      "Total number of interactions: 100000\n",
      "Number of trans and short range interactions: 15325 (discarded)\n",
      "Number of non promoter-promoter interactions: 81266 (discarded)\n",
      "Number of directed simple interactions: 25\n",
      "Number of directed twisted interactions: 22\n",
      "Number of undirected interactions: 578\n",
      "Number of indefinable interactions: 2784\n"
     ]
    }
   ],
   "source": [
    "!python analyze_tss_strand_distribution_script.py --out-prefix mifsud_r1 --ref-gene-file data/mifsud/hg38_gopher_refGene.txt.gz --interaction-file data/mifsud/gzdir/MIFSUD_R10.interaction.counts.table.gt1.test.tsv.gz"
   ]
  },
  {
   "cell_type": "markdown",
   "metadata": {},
   "source": [
    "## Expression analysis\n",
    "\n",
    "Use the script ```diachrscripts/analyze_expression_levels_script.py```."
   ]
  },
  {
   "cell_type": "code",
   "execution_count": 17,
   "metadata": {
    "scrolled": true
   },
   "outputs": [
    {
     "name": "stdout",
     "output_type": "stream",
     "text": [
      "Hallo\n"
     ]
    }
   ],
   "source": [
    "print(\"Hallo\")"
   ]
  },
  {
   "cell_type": "code",
   "execution_count": 18,
   "metadata": {},
   "outputs": [
    {
     "name": "stdout",
     "output_type": "stream",
     "text": [
      "data/mifsud/gzdir/MIFSUD_R10.interaction.counts.table.gt1.tsv.gz\r\n"
     ]
    }
   ],
   "source": [
    "!ls data/mifsud/gzdir/MIFSUD_R10.interaction.counts.table.gt1.tsv.gz"
   ]
  },
  {
   "cell_type": "code",
   "execution_count": 19,
   "metadata": {},
   "outputs": [
    {
     "data": {
      "application/json": {
       "cell": {
        "!": "OSMagics",
        "HTML": "Other",
        "SVG": "Other",
        "bash": "Other",
        "capture": "ExecutionMagics",
        "debug": "ExecutionMagics",
        "file": "Other",
        "html": "DisplayMagics",
        "javascript": "DisplayMagics",
        "js": "DisplayMagics",
        "latex": "DisplayMagics",
        "perl": "Other",
        "prun": "ExecutionMagics",
        "pypy": "Other",
        "python": "Other",
        "python2": "Other",
        "python3": "Other",
        "ruby": "Other",
        "script": "ScriptMagics",
        "sh": "Other",
        "svg": "DisplayMagics",
        "sx": "OSMagics",
        "system": "OSMagics",
        "time": "ExecutionMagics",
        "timeit": "ExecutionMagics",
        "writefile": "OSMagics"
       },
       "line": {
        "alias": "OSMagics",
        "alias_magic": "BasicMagics",
        "autocall": "AutoMagics",
        "automagic": "AutoMagics",
        "autosave": "KernelMagics",
        "bookmark": "OSMagics",
        "cat": "Other",
        "cd": "OSMagics",
        "clear": "KernelMagics",
        "colors": "BasicMagics",
        "config": "ConfigMagics",
        "connect_info": "KernelMagics",
        "cp": "Other",
        "debug": "ExecutionMagics",
        "dhist": "OSMagics",
        "dirs": "OSMagics",
        "doctest_mode": "BasicMagics",
        "ed": "Other",
        "edit": "KernelMagics",
        "env": "OSMagics",
        "gui": "BasicMagics",
        "hist": "Other",
        "history": "HistoryMagics",
        "killbgscripts": "ScriptMagics",
        "ldir": "Other",
        "less": "KernelMagics",
        "lf": "Other",
        "lk": "Other",
        "ll": "Other",
        "load": "CodeMagics",
        "load_ext": "ExtensionMagics",
        "loadpy": "CodeMagics",
        "logoff": "LoggingMagics",
        "logon": "LoggingMagics",
        "logstart": "LoggingMagics",
        "logstate": "LoggingMagics",
        "logstop": "LoggingMagics",
        "ls": "Other",
        "lsmagic": "BasicMagics",
        "lx": "Other",
        "macro": "ExecutionMagics",
        "magic": "BasicMagics",
        "man": "KernelMagics",
        "matplotlib": "PylabMagics",
        "mkdir": "Other",
        "more": "KernelMagics",
        "mv": "Other",
        "notebook": "BasicMagics",
        "page": "BasicMagics",
        "pastebin": "CodeMagics",
        "pdb": "ExecutionMagics",
        "pdef": "NamespaceMagics",
        "pdoc": "NamespaceMagics",
        "pfile": "NamespaceMagics",
        "pinfo": "NamespaceMagics",
        "pinfo2": "NamespaceMagics",
        "popd": "OSMagics",
        "pprint": "BasicMagics",
        "precision": "BasicMagics",
        "profile": "BasicMagics",
        "prun": "ExecutionMagics",
        "psearch": "NamespaceMagics",
        "psource": "NamespaceMagics",
        "pushd": "OSMagics",
        "pwd": "OSMagics",
        "pycat": "OSMagics",
        "pylab": "PylabMagics",
        "qtconsole": "KernelMagics",
        "quickref": "BasicMagics",
        "recall": "HistoryMagics",
        "rehashx": "OSMagics",
        "reload_ext": "ExtensionMagics",
        "rep": "Other",
        "rerun": "HistoryMagics",
        "reset": "NamespaceMagics",
        "reset_selective": "NamespaceMagics",
        "rm": "Other",
        "rmdir": "Other",
        "run": "ExecutionMagics",
        "save": "CodeMagics",
        "sc": "OSMagics",
        "set_env": "OSMagics",
        "store": "StoreMagics",
        "sx": "OSMagics",
        "system": "OSMagics",
        "tb": "ExecutionMagics",
        "time": "ExecutionMagics",
        "timeit": "ExecutionMagics",
        "unalias": "OSMagics",
        "unload_ext": "ExtensionMagics",
        "who": "NamespaceMagics",
        "who_ls": "NamespaceMagics",
        "whos": "NamespaceMagics",
        "xdel": "NamespaceMagics",
        "xmode": "BasicMagics"
       }
      },
      "text/plain": [
       "Available line magics:\n",
       "%alias  %alias_magic  %autocall  %automagic  %autosave  %bookmark  %cat  %cd  %clear  %colors  %config  %connect_info  %cp  %debug  %dhist  %dirs  %doctest_mode  %ed  %edit  %env  %gui  %hist  %history  %killbgscripts  %ldir  %less  %lf  %lk  %ll  %load  %load_ext  %loadpy  %logoff  %logon  %logstart  %logstate  %logstop  %ls  %lsmagic  %lx  %macro  %magic  %man  %matplotlib  %mkdir  %more  %mv  %notebook  %page  %pastebin  %pdb  %pdef  %pdoc  %pfile  %pinfo  %pinfo2  %popd  %pprint  %precision  %profile  %prun  %psearch  %psource  %pushd  %pwd  %pycat  %pylab  %qtconsole  %quickref  %recall  %rehashx  %reload_ext  %rep  %rerun  %reset  %reset_selective  %rm  %rmdir  %run  %save  %sc  %set_env  %store  %sx  %system  %tb  %time  %timeit  %unalias  %unload_ext  %who  %who_ls  %whos  %xdel  %xmode\n",
       "\n",
       "Available cell magics:\n",
       "%%!  %%HTML  %%SVG  %%bash  %%capture  %%debug  %%file  %%html  %%javascript  %%js  %%latex  %%perl  %%prun  %%pypy  %%python  %%python2  %%python3  %%ruby  %%script  %%sh  %%svg  %%sx  %%system  %%time  %%timeit  %%writefile\n",
       "\n",
       "Automagic is ON, % prefix IS NOT needed for line magics."
      ]
     },
     "execution_count": 19,
     "metadata": {},
     "output_type": "execute_result"
    }
   ],
   "source": [
    "%lsmagic"
   ]
  },
  {
   "cell_type": "markdown",
   "metadata": {},
   "source": [
    "%%HTML"
   ]
  },
  {
   "cell_type": "code",
   "execution_count": 18,
   "metadata": {},
   "outputs": [
    {
     "data": {
      "text/plain": [
       "'/home/peter/anaconda2/envs/diachscripts_env/bin/python'"
      ]
     },
     "execution_count": 18,
     "metadata": {},
     "output_type": "execute_result"
    }
   ],
   "source": [
    "import sys\n",
    "sys.executable"
   ]
  },
  {
   "cell_type": "code",
   "execution_count": 2,
   "metadata": {},
   "outputs": [],
   "source": [
    "import numpy"
   ]
  }
 ],
 "metadata": {
  "kernelspec": {
   "display_name": "Python 2",
   "language": "python",
   "name": "python2"
  },
  "language_info": {
   "codemirror_mode": {
    "name": "ipython",
    "version": 2
   },
   "file_extension": ".py",
   "mimetype": "text/x-python",
   "name": "python",
   "nbconvert_exporter": "python",
   "pygments_lexer": "ipython2",
   "version": "2.7.16"
  }
 },
 "nbformat": 4,
 "nbformat_minor": 2
}
