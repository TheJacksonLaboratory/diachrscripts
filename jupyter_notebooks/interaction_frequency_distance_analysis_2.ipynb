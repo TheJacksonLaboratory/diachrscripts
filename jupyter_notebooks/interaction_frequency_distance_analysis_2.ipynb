{
 "cells": [
  {
   "cell_type": "markdown",
   "metadata": {},
   "source": [
    "#  Combine results from different cell types\n",
    "\n",
    "We had used the function `ia_freq_dist_analysis.write_num_table()` to export all results on read pair numbers and interaction distances for each cell type to a table. Here we read in the results for all cell types to do a higher-level analysis."
   ]
  },
  {
   "cell_type": "markdown",
   "metadata": {},
   "source": [
    "## Two tables with the results for all cell types\n",
    "\n",
    "We have added two tables with the results on read pair counts and interaction distances to the repository:\n",
    "\n",
    "```\n",
    "diachrscripts/additional_files/ia_freq_dist/rp_num_tab.txt\n",
    "diachrscripts/additional_files/ia_freq_dist/i_dist_tab.txt\n",
    "```\n",
    "\n",
    "Each of these tables contains 17 rows, one for each cell type. The first column contains descriptions of the rows on cell type, number type and chromosomes taken into account. Here is an example for megakaryocytes and read pair numbers integrated across all chromosomes:\n",
    "\n",
    "```\n",
    "MK|RP_NUM|CHR_ALL\n",
    "```\n",
    "\n",
    "The second column contains only a short tag for the cell type (`MK`). This is followed by 72 columns, which result from the six interaction categories (`DI`, `DI_S`, `DI_T`, `UIR`, `UI`, `ALL`), four enrichment categories (`N`, `NE`, `EN`, `EE`) and three meassured values (`N`, `MED`, `MAD`). `N` stands for the number of interactions and is identical in both tables.\n",
    "\n",
    "```\n",
    "DI|NN|N\n",
    "```\n",
    "\n",
    "The last column contains a list of chromosomes over which the numbers were integrated.\n",
    "\n",
    "```\n",
    "'chr7','chr5','chr8','chr6','chr2','chr3','chr10','chr12','chr14','chr20','chr4','chr16','chr11','chrX','chr1','chr13','chr17','chr22','chr9','chr19','chr21','chr18','chr15','chrY'\n",
    "```"
   ]
  },
  {
   "cell_type": "markdown",
   "metadata": {},
   "source": [
    "## Reading a table\n",
    "\n",
    "For the sake of clarity, we have created a second class `IaFreqDistAnalysis_2` for the combined analyzes of different cell types. The function `x` can be used to read one of the tables described above."
   ]
  },
  {
   "cell_type": "code",
   "execution_count": null,
   "metadata": {},
   "outputs": [],
   "source": [
    "import sys\n",
    "import os\n",
    "import pandas\n",
    "sys.path.append(\"..\")\n",
    "from diachr import IaFreqDistAnalysis_2\n",
    "import matplotlib.pyplot as plt\n",
    "\n",
    "INPUT_TABLE_PATH = '../additional_files/ia_freq_dist/i_dist_tab_2.txt'\n",
    "\n",
    "ia_freq_dist_analysis_2 = IaFreqDistAnalysis_2(input_table_path = INPUT_TABLE_PATH)"
   ]
  },
  {
   "cell_type": "code",
   "execution_count": null,
   "metadata": {},
   "outputs": [],
   "source": [
    "#ia_freq_dist_analysis_2._grouped_numbers"
   ]
  },
  {
   "cell_type": "markdown",
   "metadata": {},
   "source": [
    "## Create scatterplots"
   ]
  },
  {
   "cell_type": "markdown",
   "metadata": {},
   "source": [
    "Directed interactions are shorter than undirected reference interaactions."
   ]
  },
  {
   "cell_type": "code",
   "execution_count": null,
   "metadata": {},
   "outputs": [],
   "source": [
    "fig = ia_freq_dist_analysis_2.create_scatterplot(\n",
    "    i_cat_1 = 'DI',\n",
    "    i_cat_2 = 'UIR',\n",
    "    e_cat_1 = 'NE',\n",
    "    e_cat_2 = 'NE',\n",
    "    m_type = 'MED',\n",
    "    pdf_file_name='scatterplot_DI_NE_UIR_NE_N.pdf'\n",
    ")"
   ]
  },
  {
   "cell_type": "markdown",
   "metadata": {},
   "source": [
    "Directed simple interactions are shorter than directed twisted interactions."
   ]
  },
  {
   "cell_type": "code",
   "execution_count": null,
   "metadata": {},
   "outputs": [],
   "source": [
    "fig = ia_freq_dist_analysis_2.create_scatterplot(\n",
    "    i_cat_1 = 'DI_S',\n",
    "    i_cat_2 = 'DI_T',\n",
    "    e_cat_1 = 'NE',\n",
    "    e_cat_2 = 'NE',\n",
    "    m_type = 'MED',\n",
    "    pdf_file_name='scatterplot_DI_NE_UIR_NE_MED.pdf'\n",
    ")"
   ]
  },
  {
   "cell_type": "markdown",
   "metadata": {},
   "source": [
    "### Interaction number\n",
    "\n",
    "There are more directed EN interactions than directed NE interactions."
   ]
  },
  {
   "cell_type": "code",
   "execution_count": null,
   "metadata": {},
   "outputs": [],
   "source": [
    "fig = ia_freq_dist_analysis_2.create_scatterplot(\n",
    "    i_cat_1 = 'DI',\n",
    "    i_cat_2 = 'DI',\n",
    "    e_cat_1 = 'NE',\n",
    "    e_cat_2 = 'EN',\n",
    "    m_type = 'N',\n",
    "    pdf_file_name='scatterplot_DI_NE_DI_EN_N.pdf'\n",
    ")"
   ]
  },
  {
   "cell_type": "code",
   "execution_count": null,
   "metadata": {},
   "outputs": [],
   "source": [
    "fig = ia_freq_dist_analysis_2.create_scatterplot(\n",
    "    i_cat_1 = 'DI_S',\n",
    "    i_cat_2 = 'DI_S',\n",
    "    e_cat_1 = 'NE',\n",
    "    e_cat_2 = 'EN',\n",
    "    m_type = 'N',\n",
    "    pdf_file_name='scatterplot_DIS_NE_DIS_EN_N.pdf'\n",
    ")"
   ]
  },
  {
   "cell_type": "code",
   "execution_count": null,
   "metadata": {},
   "outputs": [],
   "source": [
    "fig = ia_freq_dist_analysis_2.create_scatterplot(\n",
    "    i_cat_1 = 'DI_T',\n",
    "    i_cat_2 = 'DI_T',\n",
    "    e_cat_1 = 'NE',\n",
    "    e_cat_2 = 'EN',\n",
    "    m_type = 'N',\n",
    "    pdf_file_name='scatterplot_DIT_NE_DIT_EN_N.pdf'\n",
    ")"
   ]
  },
  {
   "cell_type": "markdown",
   "metadata": {},
   "source": [
    "In the undirected reference interactions, there are approximately the same number of NE and EN interactions."
   ]
  },
  {
   "cell_type": "code",
   "execution_count": null,
   "metadata": {},
   "outputs": [],
   "source": [
    "fig = ia_freq_dist_analysis_2.create_scatterplot(\n",
    "    i_cat_1 = 'UIR',\n",
    "    i_cat_2 = 'UIR',\n",
    "    e_cat_1 = 'NE',\n",
    "    e_cat_2 = 'EN',\n",
    "    m_type = 'N',\n",
    "    pdf_file_name='scatterplot_UIR_NE_UIR_EN_N.pdf'\n",
    ")"
   ]
  },
  {
   "cell_type": "markdown",
   "metadata": {},
   "source": [
    "In the undirected interactions, there are approximately the same number of NE and EN interactions."
   ]
  },
  {
   "cell_type": "code",
   "execution_count": null,
   "metadata": {},
   "outputs": [],
   "source": [
    "fig = ia_freq_dist_analysis_2.create_scatterplot(\n",
    "    i_cat_1 = 'UI',\n",
    "    i_cat_2 = 'UI',\n",
    "    e_cat_1 = 'NE',\n",
    "    e_cat_2 = 'EN',\n",
    "    m_type = 'N',\n",
    "    pdf_file_name='scatterplot_UI_NE_UI_EN_N.pdf'\n",
    ")"
   ]
  },
  {
   "cell_type": "markdown",
   "metadata": {},
   "source": [
    "In all interactions, there are approximately the same number of NE and EN interactions."
   ]
  },
  {
   "cell_type": "code",
   "execution_count": null,
   "metadata": {},
   "outputs": [],
   "source": [
    "fig = ia_freq_dist_analysis_2.create_scatterplot(\n",
    "    i_cat_1 = 'ALL',\n",
    "    i_cat_2 = 'ALL',\n",
    "    e_cat_1 = 'NE',\n",
    "    e_cat_2 = 'EN',\n",
    "    m_type = 'N',\n",
    "    pdf_file_name='scatterplot_ALL_NE_ALL_EN_N.pdf'\n",
    ")"
   ]
  },
  {
   "cell_type": "markdown",
   "metadata": {},
   "source": [
    "### Median interaction distance"
   ]
  },
  {
   "cell_type": "markdown",
   "metadata": {},
   "source": [
    "Directed EN interactions have shorter median distances than directed NE interactions."
   ]
  },
  {
   "cell_type": "code",
   "execution_count": null,
   "metadata": {},
   "outputs": [],
   "source": [
    "fig = ia_freq_dist_analysis_2.create_scatterplot(\n",
    "    i_cat_1 = 'DI',\n",
    "    i_cat_2 = 'DI',\n",
    "    e_cat_1 = 'NE',\n",
    "    e_cat_2 = 'EN',\n",
    "    m_type = 'MED',\n",
    "    pdf_file_name='scatterplot_DI_NE_DI_EN_MED.pdf'\n",
    ")"
   ]
  },
  {
   "cell_type": "code",
   "execution_count": null,
   "metadata": {},
   "outputs": [],
   "source": [
    "fig = ia_freq_dist_analysis_2.create_scatterplot(\n",
    "    i_cat_1 = 'DI_S',\n",
    "    i_cat_2 = 'DI_S',\n",
    "    e_cat_1 = 'NE',\n",
    "    e_cat_2 = 'EN',\n",
    "    m_type = 'MED',\n",
    "    pdf_file_name='scatterplot_DIS_NE_DIS_EN_MED.pdf'\n",
    ")"
   ]
  },
  {
   "cell_type": "code",
   "execution_count": null,
   "metadata": {},
   "outputs": [],
   "source": [
    "fig = ia_freq_dist_analysis_2.create_scatterplot(\n",
    "    i_cat_1 = 'DI_T',\n",
    "    i_cat_2 = 'DI_T',\n",
    "    e_cat_1 = 'NE',\n",
    "    e_cat_2 = 'EN',\n",
    "    m_type = 'MED',\n",
    "    pdf_file_name='scatterplot_DIT_NE_DIT_EN_MED.pdf'\n",
    ")"
   ]
  },
  {
   "cell_type": "markdown",
   "metadata": {},
   "source": [
    "In the undirected reference interactions, NE and EN interactions have approximately the same median distance."
   ]
  },
  {
   "cell_type": "code",
   "execution_count": null,
   "metadata": {},
   "outputs": [],
   "source": [
    "fig = ia_freq_dist_analysis_2.create_scatterplot(\n",
    "    i_cat_1 = 'UIR',\n",
    "    i_cat_2 = 'UIR',\n",
    "    e_cat_1 = 'NE',\n",
    "    e_cat_2 = 'EN',\n",
    "    m_type = 'MED',\n",
    "    pdf_file_name='scatterplot_UIR_NE_UIR_EN_MED.pdf'\n",
    ")"
   ]
  },
  {
   "cell_type": "markdown",
   "metadata": {},
   "source": [
    "In the undirected interactions, NE and EN interactions have approximately the same median distance."
   ]
  },
  {
   "cell_type": "code",
   "execution_count": null,
   "metadata": {},
   "outputs": [],
   "source": [
    "fig = ia_freq_dist_analysis_2.create_scatterplot(\n",
    "    i_cat_1 = 'UI',\n",
    "    i_cat_2 = 'UI',\n",
    "    e_cat_1 = 'NE',\n",
    "    e_cat_2 = 'EN',\n",
    "    m_type = 'MED',\n",
    "    pdf_file_name='scatterplot_UI_NE_UI_EN_MED.pdf'\n",
    ")"
   ]
  },
  {
   "cell_type": "markdown",
   "metadata": {},
   "source": [
    "In all interactions, NE and EN interactions have approximately the same median distance."
   ]
  },
  {
   "cell_type": "code",
   "execution_count": null,
   "metadata": {},
   "outputs": [],
   "source": [
    "fig = ia_freq_dist_analysis_2.create_scatterplot(\n",
    "    i_cat_1 = 'ALL',\n",
    "    i_cat_2 = 'ALL',\n",
    "    e_cat_1 = 'NE',\n",
    "    e_cat_2 = 'EN',\n",
    "    m_type = 'MED',\n",
    "    pdf_file_name='scatterplot_ALL_NE_ALL_EN_MED.pdf'\n",
    ")"
   ]
  },
  {
   "cell_type": "markdown",
   "metadata": {},
   "source": [
    "These are the results averaged over all chromosomes. The shifts look very different for individual chromosomes and  sometimes even go in the opposite direction."
   ]
  }
 ],
 "metadata": {
  "kernelspec": {
   "display_name": "Python 3 (diachscripts_p37env)",
   "language": "python",
   "name": "diachscripts_p37env"
  },
  "language_info": {
   "codemirror_mode": {
    "name": "ipython",
    "version": 3
   },
   "file_extension": ".py",
   "mimetype": "text/x-python",
   "name": "python",
   "nbconvert_exporter": "python",
   "pygments_lexer": "ipython3",
   "version": "3.7.4"
  }
 },
 "nbformat": 4,
 "nbformat_minor": 2
}
