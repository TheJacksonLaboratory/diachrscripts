{
 "cells": [
  {
   "cell_type": "code",
   "execution_count": 1,
   "metadata": {},
   "outputs": [],
   "source": [
    "import sys\n",
    "import os\n",
    "import pandas\n",
    "sys.path.append(\"..\")\n",
    "from diachr import IaFreqDistAnalysis_2\n",
    "import matplotlib.pyplot as plt"
   ]
  },
  {
   "cell_type": "markdown",
   "metadata": {},
   "source": [
    "#  Combine results from different cell types\n",
    "\n",
    "We had used the function `ia_freq_dist_analysis.write_num_table()` to export all results on read pair numbers and interaction distances for each cell type to a table. Here we read in the results for all cell types to do a higher-level analysis."
   ]
  },
  {
   "cell_type": "markdown",
   "metadata": {},
   "source": [
    "## Two tables with the results for all cell types\n",
    "\n",
    "We have added two tables with the results on read pair counts and interaction distances to the repository:\n",
    "\n",
    "```\n",
    "diachrscripts/additional_files/ia_freq_dist/rp_num_tab.txt\n",
    "diachrscripts/additional_files/ia_freq_dist/i_dist_tab.txt\n",
    "```\n",
    "\n",
    "Each of these tables contains 17 rows, one for each cell type. The first column contains descriptions of the rows on cell type, number type and chromosomes taken into account. Here is an example for megakaryocytes and read pair numbers integrated across all chromosomes:\n",
    "\n",
    "```\n",
    "MK|RP_NUM|CHR_ALL\n",
    "```\n",
    "\n",
    "The second column contains only a short tag for the cell type (`MK`). This is followed by 62 columns, which result from the six interaction categories (`DIX`, `DI`, `UIR`, `UI`, `ALL`), four enrichment categories (`NN`, `NE`, `EN`, `EE`) and three meassured values (`N`, `MED`, `MAD`). `N` stands for the number of interactions and is identical in both tables.\n",
    "\n",
    "```\n",
    "DI|NN|N\n",
    "```\n",
    "\n",
    "The last column contains a list of chromosomes over which the numbers were integrated.\n",
    "\n",
    "```\n",
    "'chr7','chr5','chr8','chr6','chr2','chr3','chr10','chr12','chr14','chr20','chr4','chr16','chr11','chrX','chr1','chr13','chr17','chr22','chr9','chr19','chr21','chr18','chr15','chrY'\n",
    "```"
   ]
  },
  {
   "cell_type": "markdown",
   "metadata": {},
   "source": [
    "## Reading a table\n",
    "\n",
    "For the sake of clarity, we have created a second class `IaFreqDistAnalysis_2` for the combined analyzes of different cell types. The table with the median interaction distances is passed to the constructor."
   ]
  },
  {
   "cell_type": "code",
   "execution_count": 2,
   "metadata": {},
   "outputs": [],
   "source": [
    "INPUT_TABLE_PATH = '../additional_files/ia_freq_dist/i_dist_tab.txt'\n",
    "ia_freq_dist_analysis_2 = IaFreqDistAnalysis_2(input_table_path = INPUT_TABLE_PATH)"
   ]
  },
  {
   "cell_type": "markdown",
   "metadata": {},
   "source": [
    "The data is read into a dictionary grouped by interaction category and enrichment state."
   ]
  },
  {
   "cell_type": "code",
   "execution_count": 4,
   "metadata": {
    "scrolled": true
   },
   "outputs": [],
   "source": [
    "#ia_freq_dist_analysis_2._grouped_numbers"
   ]
  },
  {
   "cell_type": "markdown",
   "metadata": {},
   "source": [
    "## Scatterplot for interaction distances"
   ]
  },
  {
   "cell_type": "markdown",
   "metadata": {},
   "source": [
    "The function `create_i_dist_scatterplot` can then be used to generate scatterplots for all combinations of interaction categories and enrichmentstates."
   ]
  },
  {
   "cell_type": "code",
   "execution_count": 8,
   "metadata": {},
   "outputs": [
    {
     "name": "stdout",
     "output_type": "stream",
     "text": [
      "P-value: 1.53e-05\n",
      "Test statistic: 0.00\n",
      "Average difference of medians: 15,947\n"
     ]
    },
    {
     "data": {
      "image/png": "[encoded data removed]",
      "text/plain": [
       "<Figure size 288x288 with 1 Axes>"
      ]
     },
     "metadata": {
      "needs_background": "light"
     },
     "output_type": "display_data"
    }
   ],
   "source": [
    "i_cat_1 = 'DI'\n",
    "i_cat_2 = 'UIR'\n",
    "e_cat_1 = 'NN'\n",
    "e_cat_2 = 'NN'\n",
    "m_type = 'MED'\n",
    "fig = ia_freq_dist_analysis_2.create_i_dist_scatterplot(\n",
    "    i_cat_1 = i_cat_1,\n",
    "    i_cat_2 = i_cat_2,\n",
    "    e_cat_1 = e_cat_1,\n",
    "    e_cat_2 = e_cat_2,\n",
    "    m_type = m_type,\n",
    "    pdf_file_name='i_dist_scatterplot_' + i_cat_1 + '_' + e_cat_1 + '_' + i_cat_2 + '_' + e_cat_2 + '_' + m_type + '.pdf'\n",
    ")"
   ]
  }
 ],
 "metadata": {
  "kernelspec": {
   "display_name": "diachrscripts",
   "language": "python",
   "name": "diachrscripts"
  },
  "language_info": {
   "codemirror_mode": {
    "name": "ipython",
    "version": 3
   },
   "file_extension": ".py",
   "mimetype": "text/x-python",
   "name": "python",
   "nbconvert_exporter": "python",
   "pygments_lexer": "ipython3",
   "version": "3.7.11"
  }
 },
 "nbformat": 4,
 "nbformat_minor": 2
}
