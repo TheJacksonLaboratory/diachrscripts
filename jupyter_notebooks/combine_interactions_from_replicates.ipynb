{
 "cells": [
  {
   "cell_type": "markdown",
   "metadata": {},
   "source": [
    "# Combine interactions from different Diachromatic interaction files\n",
    "\n",
    "In this notebook, we describe how to use the modules of ``diachrscripts`` to combine interactions from different Diachromatic interaction files. Two interactions are considered equal if they have the same coordinates and the simple and twisted read pair counts are summed up separately. For instance, the two interactions:\n",
    "\n",
    "```\n",
    "chr2\t95043367\t95054745\tE\tchr2\t121918565\t121924527\tN\t5:2\n",
    "chr2\t95043367\t95054745\tE\tchr2\t121918565\t121924527\tN\t4:1\n",
    "```\n",
    "\n",
    "will be combined to:\n",
    "\n",
    "```\n",
    "chr2\t95043367\t95054745\tE\tchr2\t121918565\t121924527\tN\t9:3\n",
    "```\n",
    "\n",
    "It does not matter whether the interactions occur in the same file or in different files. This condition can be met by first applying the combine procedure to individual files and then to different files. In this notebook, we assume that interactions occur only once within idividual files."
   ]
  },
  {
   "cell_type": "markdown",
   "metadata": {},
   "source": [
    "## Setting up the notebook"
   ]
  },
  {
   "cell_type": "code",
   "execution_count": 1,
   "metadata": {},
   "outputs": [],
   "source": [
    "import sys\n",
    "import os\n",
    "import pandas\n",
    "pandas.set_option('max_colwidth', 400)\n",
    "sys.path.append(\"..\")\n",
    "from diachr import DiachromaticInteractionSet"
   ]
  },
  {
   "cell_type": "markdown",
   "metadata": {},
   "source": [
    "In this notebook, we use only class ``DiachromaticInteractionSet`` and the following functions from this class:\n",
    "- ``parse_file``: Read interactions from file\n",
    "- ``get_read_file_info_dict``: Get information about files that have already been read\n",
    "- ``get_read_file_info_report``: Get information about files that have already been read in form of a formatted string\n",
    "- ``write_diachromatic_interaction_file``: Writing to interaction file"
   ]
  },
  {
   "cell_type": "markdown",
   "metadata": {},
   "source": [
    "## Test files\n",
    "\n",
    "In this notebook, the four Diachromatic interaction test files are used. We prepared these files by creating one file with four interactions and then gradually deleting one interaction to create the other files. Execute the following four cells to see the content of these files."
   ]
  },
  {
   "cell_type": "code",
   "execution_count": 2,
   "metadata": {},
   "outputs": [
    {
     "name": "stdout",
     "output_type": "stream",
     "text": [
      "chr1\t46297999\t46305684\tE\tchr1\t51777391\t51781717\tN\t2:1\r\n"
     ]
    }
   ],
   "source": [
    "!gunzip -c ../tests/data/test_01/diachromatic_interaction_file_r1.tsv.gz"
   ]
  },
  {
   "cell_type": "code",
   "execution_count": 3,
   "metadata": {},
   "outputs": [
    {
     "name": "stdout",
     "output_type": "stream",
     "text": [
      "chr1\t46297999\t46305684\tE\tchr1\t51777391\t51781717\tN\t2:1\r\n",
      "chr17\t72411026\t72411616\tN\tchr17\t72712662\t72724357\tN\t3:2\r\n"
     ]
    }
   ],
   "source": [
    "!gunzip -c ../tests/data/test_01/diachromatic_interaction_file_r2.tsv.gz"
   ]
  },
  {
   "cell_type": "code",
   "execution_count": 4,
   "metadata": {},
   "outputs": [
    {
     "name": "stdout",
     "output_type": "stream",
     "text": [
      "chr1\t46297999\t46305684\tE\tchr1\t51777391\t51781717\tN\t2:1\r\n",
      "chr17\t72411026\t72411616\tN\tchr17\t72712662\t72724357\tN\t3:2\r\n",
      "chr7\t69513952\t69514636\tN\tchr7\t87057837\t87061499\tE\t4:3\r\n"
     ]
    }
   ],
   "source": [
    "!gunzip -c ../tests/data/test_01/diachromatic_interaction_file_r3.tsv.gz"
   ]
  },
  {
   "cell_type": "code",
   "execution_count": 5,
   "metadata": {},
   "outputs": [
    {
     "name": "stdout",
     "output_type": "stream",
     "text": [
      "chr1\t46297999\t46305684\tE\tchr1\t51777391\t51781717\tN\t2:1\r\n",
      "chr17\t72411026\t72411616\tN\tchr17\t72712662\t72724357\tN\t3:2\r\n",
      "chr7\t69513952\t69514636\tN\tchr7\t87057837\t87061499\tE\t4:3\r\n",
      "chr11\t91641153\t91642657\tN\tchr11\t47259263\t47272706\tE\t5:4\r\n"
     ]
    }
   ],
   "source": [
    "!gunzip -c ../tests/data/test_01/diachromatic_interaction_file_r4.tsv.gz"
   ]
  },
  {
   "cell_type": "markdown",
   "metadata": {},
   "source": [
    "## Reading interactions from multiple Diachromatic interaction files\n",
    "\n",
    "The class ``DiachromaticInteractionSet`` is instantiated as follows:"
   ]
  },
  {
   "cell_type": "code",
   "execution_count": 2,
   "metadata": {},
   "outputs": [],
   "source": [
    "interaction_set = DiachromaticInteractionSet()"
   ]
  },
  {
   "cell_type": "markdown",
   "metadata": {},
   "source": [
    "The function ``parse_file`` can be used to read interactions from Diachromatic interaction files."
   ]
  },
  {
   "cell_type": "code",
   "execution_count": 3,
   "metadata": {},
   "outputs": [],
   "source": [
    "interaction_set.parse_file(i_file=\"../tests/data/test_01/diachromatic_interaction_file_r1.tsv.gz\")"
   ]
  },
  {
   "cell_type": "markdown",
   "metadata": {},
   "source": [
    "An ``DiachromaticInteractionSet`` keeps tracks how many interactions were from which files. This information can be queried using the function ``get_read_file_info_dict``."
   ]
  },
  {
   "cell_type": "code",
   "execution_count": 4,
   "metadata": {},
   "outputs": [
    {
     "data": {
      "text/html": [
       "<div>\n",
       "<style scoped>\n",
       "    .dataframe tbody tr th:only-of-type {\n",
       "        vertical-align: middle;\n",
       "    }\n",
       "\n",
       "    .dataframe tbody tr th {\n",
       "        vertical-align: top;\n",
       "    }\n",
       "\n",
       "    .dataframe thead th {\n",
       "        text-align: right;\n",
       "    }\n",
       "</style>\n",
       "<table border=\"1\" class=\"dataframe\">\n",
       "  <thead>\n",
       "    <tr style=\"text-align: right;\">\n",
       "      <th></th>\n",
       "      <th>I_FILE</th>\n",
       "      <th>I_NUM</th>\n",
       "      <th>MIN_RP_NUM</th>\n",
       "      <th>MIN_DIST</th>\n",
       "      <th>I_NUM_SKIPPED_RP</th>\n",
       "      <th>I_NUM_SKIPPED_DIST</th>\n",
       "      <th>I_NUM_ADDED</th>\n",
       "      <th>I_SET_SIZE</th>\n",
       "    </tr>\n",
       "  </thead>\n",
       "  <tbody>\n",
       "    <tr>\n",
       "      <td>0</td>\n",
       "      <td>../tests/data/test_01/diachromatic_interaction_file_r1.tsv.gz</td>\n",
       "      <td>1</td>\n",
       "      <td>0</td>\n",
       "      <td>0</td>\n",
       "      <td>0</td>\n",
       "      <td>0</td>\n",
       "      <td>1</td>\n",
       "      <td>1</td>\n",
       "    </tr>\n",
       "  </tbody>\n",
       "</table>\n",
       "</div>"
      ],
      "text/plain": [
       "                                                          I_FILE  I_NUM  \\\n",
       "0  ../tests/data/test_01/diachromatic_interaction_file_r1.tsv.gz      1   \n",
       "\n",
       "   MIN_RP_NUM  MIN_DIST  I_NUM_SKIPPED_RP  I_NUM_SKIPPED_DIST  I_NUM_ADDED  \\\n",
       "0           0         0                 0                   0            1   \n",
       "\n",
       "   I_SET_SIZE  \n",
       "0           1  "
      ]
     },
     "execution_count": 4,
     "metadata": {},
     "output_type": "execute_result"
    }
   ],
   "source": [
    "read_file_info_dict = interaction_set.get_read_file_info_dict()\n",
    "pandas.DataFrame(read_file_info_dict)"
   ]
  },
  {
   "cell_type": "markdown",
   "metadata": {},
   "source": [
    "Internally, the interaction set contains a dictionary with interaction objects that are considered to be the same if they have the same coordinates. In addition to the number of interactions from individual files (``I_NUM``), the current size of the interaction set is tracked (``I_SET_SIZE``)."
   ]
  },
  {
   "cell_type": "markdown",
   "metadata": {},
   "source": [
    "For a given interaction set, the function ``parse_file`` can be applied to multiple files. Execute the cell below to read in the second file and to query the information about read files."
   ]
  },
  {
   "cell_type": "code",
   "execution_count": 9,
   "metadata": {},
   "outputs": [
    {
     "data": {
      "text/html": [
       "<div>\n",
       "<style scoped>\n",
       "    .dataframe tbody tr th:only-of-type {\n",
       "        vertical-align: middle;\n",
       "    }\n",
       "\n",
       "    .dataframe tbody tr th {\n",
       "        vertical-align: top;\n",
       "    }\n",
       "\n",
       "    .dataframe thead th {\n",
       "        text-align: right;\n",
       "    }\n",
       "</style>\n",
       "<table border=\"1\" class=\"dataframe\">\n",
       "  <thead>\n",
       "    <tr style=\"text-align: right;\">\n",
       "      <th></th>\n",
       "      <th>I_FILE</th>\n",
       "      <th>I_NUM</th>\n",
       "      <th>I_SET_SIZE</th>\n",
       "    </tr>\n",
       "  </thead>\n",
       "  <tbody>\n",
       "    <tr>\n",
       "      <td>0</td>\n",
       "      <td>../tests/data/test_01/diachromatic_interaction_file_r1.tsv.gz</td>\n",
       "      <td>1</td>\n",
       "      <td>1</td>\n",
       "    </tr>\n",
       "    <tr>\n",
       "      <td>1</td>\n",
       "      <td>../tests/data/test_01/diachromatic_interaction_file_r2.tsv.gz</td>\n",
       "      <td>2</td>\n",
       "      <td>2</td>\n",
       "    </tr>\n",
       "  </tbody>\n",
       "</table>\n",
       "</div>"
      ],
      "text/plain": [
       "                                                          I_FILE  I_NUM  \\\n",
       "0  ../tests/data/test_01/diachromatic_interaction_file_r1.tsv.gz      1   \n",
       "1  ../tests/data/test_01/diachromatic_interaction_file_r2.tsv.gz      2   \n",
       "\n",
       "   I_SET_SIZE  \n",
       "0           1  \n",
       "1           2  "
      ]
     },
     "execution_count": 9,
     "metadata": {},
     "output_type": "execute_result"
    }
   ],
   "source": [
    "interaction_set.parse_file(i_file=\"../tests/data/test_01/diachromatic_interaction_file_r2.tsv.gz\")\n",
    "read_file_info_dict = interaction_set.get_read_file_info_dict()\n",
    "pandas.DataFrame(read_file_info_dict)"
   ]
  },
  {
   "cell_type": "markdown",
   "metadata": {},
   "source": [
    "A total of three interactions have been read from two files. The size of the interaction set is two because the interaction on chromosome ``chr1`` occurs in both files. Execute the cell below to read the interactions from the remaining files."
   ]
  },
  {
   "cell_type": "code",
   "execution_count": 4,
   "metadata": {},
   "outputs": [
    {
     "data": {
      "text/html": [
       "<div>\n",
       "<style scoped>\n",
       "    .dataframe tbody tr th:only-of-type {\n",
       "        vertical-align: middle;\n",
       "    }\n",
       "\n",
       "    .dataframe tbody tr th {\n",
       "        vertical-align: top;\n",
       "    }\n",
       "\n",
       "    .dataframe thead th {\n",
       "        text-align: right;\n",
       "    }\n",
       "</style>\n",
       "<table border=\"1\" class=\"dataframe\">\n",
       "  <thead>\n",
       "    <tr style=\"text-align: right;\">\n",
       "      <th></th>\n",
       "      <th>I_FILE</th>\n",
       "      <th>I_NUM</th>\n",
       "      <th>MIN_RP_NUM</th>\n",
       "      <th>MIN_DIST</th>\n",
       "      <th>I_NUM_SKIPPED_RP</th>\n",
       "      <th>I_NUM_SKIPPED_DIST</th>\n",
       "      <th>I_NUM_ADDED</th>\n",
       "      <th>I_SET_SIZE</th>\n",
       "    </tr>\n",
       "  </thead>\n",
       "  <tbody>\n",
       "    <tr>\n",
       "      <td>0</td>\n",
       "      <td>../tests/data/test_01/diachromatic_interaction_file_r3.tsv.gz</td>\n",
       "      <td>3</td>\n",
       "      <td>0</td>\n",
       "      <td>0</td>\n",
       "      <td>0</td>\n",
       "      <td>0</td>\n",
       "      <td>3</td>\n",
       "      <td>3</td>\n",
       "    </tr>\n",
       "    <tr>\n",
       "      <td>1</td>\n",
       "      <td>../tests/data/test_01/diachromatic_interaction_file_r4.tsv.gz</td>\n",
       "      <td>4</td>\n",
       "      <td>0</td>\n",
       "      <td>0</td>\n",
       "      <td>0</td>\n",
       "      <td>0</td>\n",
       "      <td>4</td>\n",
       "      <td>4</td>\n",
       "    </tr>\n",
       "  </tbody>\n",
       "</table>\n",
       "</div>"
      ],
      "text/plain": [
       "                                                          I_FILE  I_NUM  \\\n",
       "0  ../tests/data/test_01/diachromatic_interaction_file_r3.tsv.gz      3   \n",
       "1  ../tests/data/test_01/diachromatic_interaction_file_r4.tsv.gz      4   \n",
       "\n",
       "   MIN_RP_NUM  MIN_DIST  I_NUM_SKIPPED_RP  I_NUM_SKIPPED_DIST  I_NUM_ADDED  \\\n",
       "0           0         0                 0                   0            3   \n",
       "1           0         0                 0                   0            4   \n",
       "\n",
       "   I_SET_SIZE  \n",
       "0           3  \n",
       "1           4  "
      ]
     },
     "execution_count": 4,
     "metadata": {},
     "output_type": "execute_result"
    }
   ],
   "source": [
    "interaction_set.parse_file(i_file=\"../tests/data/test_01/diachromatic_interaction_file_r3.tsv.gz\")\n",
    "interaction_set.parse_file(i_file=\"../tests/data/test_01/diachromatic_interaction_file_r4.tsv.gz\")\n",
    "read_file_info_dict = interaction_set.get_read_file_info_dict()\n",
    "pandas.DataFrame(read_file_info_dict)"
   ]
  },
  {
   "cell_type": "markdown",
   "metadata": {},
   "source": [
    "A total of 10 interactions have been read from four files. The interaction set has a size of 4. This corresponds to what we expect for these test files.  "
   ]
  },
  {
   "cell_type": "markdown",
   "metadata": {},
   "source": [
    "Alternatively, the information about read files and interaction set size can be returned as a formatted string."
   ]
  },
  {
   "cell_type": "code",
   "execution_count": 5,
   "metadata": {},
   "outputs": [
    {
     "name": "stdout",
     "output_type": "stream",
     "text": [
      "[INFO] Report on reading files:\n",
      "\t[INFO] Read interaction data from 2 files:\n",
      "\t\t[INFO] 3 interactions from: \n",
      "\t\t\t[INFO] ../tests/data/test_01/diachromatic_interaction_file_r3.tsv.gz\n",
      "\t\t\t[INFO] Minimum number of read pairs: 0\n",
      "\t\t\t[INFO] Skipped because less than 0 read pairs: 0\n",
      "\t\t\t[INFO] Skipped because shorter than 0 bp: 0\n",
      "\t\t\t[INFO] Added to set: 3\n",
      "\t\t\t[INFO] Set size: 3\n",
      "\t\t[INFO] 4 interactions from: \n",
      "\t\t\t[INFO] ../tests/data/test_01/diachromatic_interaction_file_r4.tsv.gz\n",
      "\t\t\t[INFO] Minimum number of read pairs: 0\n",
      "\t\t\t[INFO] Skipped because less than 0 read pairs: 0\n",
      "\t\t\t[INFO] Skipped because shorter than 0 bp: 0\n",
      "\t\t\t[INFO] Added to set: 4\n",
      "\t\t\t[INFO] Set size: 4\n",
      "\t[INFO] The interaction set has 4 interactions.\n",
      "[INFO] End of report.\n",
      "\n"
     ]
    }
   ],
   "source": [
    "print(interaction_set.get_read_file_info_report())"
   ]
  },
  {
   "cell_type": "markdown",
   "metadata": {},
   "source": [
    "### Warning when reading the same file multiple times\n",
    "\n",
    "The function ``DiachromaticInteractionSet.parse_file`` can be used multiple times for a given interaction set. However, it is not possible to add the same file more than once. In this case, no real new interaction would be added to the set, but the simple and twisted read pair counts would still be added up. An interaction set keeps track of the names (including path) of the files that have already been read. If a file is read in repeatedly, a warning is issued and the interaction set remains unchanged. Execute the following cell to trigger the warning."
   ]
  },
  {
   "cell_type": "code",
   "execution_count": 12,
   "metadata": {},
   "outputs": [
    {
     "name": "stderr",
     "output_type": "stream",
     "text": [
      "../diachr/diachromatic_interaction_set.py:80: UserWarning: This interaction file has already been read!\n",
      "Filename: ../tests/data/test_01/diachromatic_interaction_file_r1.tsv.gz\n",
      "Won't add interactions from this file to the interaction set.\n",
      "  \"Won't add interactions from this file to the interaction set.\")\n"
     ]
    }
   ],
   "source": [
    "interaction_set.parse_file(i_file=\"../tests/data/test_01/diachromatic_interaction_file_r1.tsv.gz\")"
   ]
  },
  {
   "cell_type": "markdown",
   "metadata": {},
   "source": [
    "## Write interactions that occur in a required number replicates to an interaction file\n",
    "\n",
    "As soon as interactions have been read in to a DiachromaticInteractionSet object, they can be written out to a file in Diachromatic interaction format using the function write_diachromatic_interaction_file. The function expects a path to an output file as an argument. In addition, a required number of replicates can be specified. Every object of class ``DiachromaticInteraction`` contains the information, how often an interaction with identical coordinates was added to the interaction set. When the number of required replicates is 2, then only interactions that have been read in at least twice are written out."
   ]
  },
  {
   "cell_type": "code",
   "execution_count": 13,
   "metadata": {},
   "outputs": [],
   "source": [
    "target_file = \"combined_interactions.tsv.gz\"\n",
    "required_replicates = 2\n",
    "write_file_info_dict = interaction_set.write_diachromatic_interaction_file(target_file=target_file, required_replicates=required_replicates)"
   ]
  },
  {
   "cell_type": "markdown",
   "metadata": {},
   "source": [
    "As the other functions of class DiachromaticInteractionSet, this function returns a dictionary with informations about the performed operation."
   ]
  },
  {
   "cell_type": "code",
   "execution_count": 14,
   "metadata": {
    "scrolled": true
   },
   "outputs": [
    {
     "data": {
      "text/html": [
       "<div>\n",
       "<style scoped>\n",
       "    .dataframe tbody tr th:only-of-type {\n",
       "        vertical-align: middle;\n",
       "    }\n",
       "\n",
       "    .dataframe tbody tr th {\n",
       "        vertical-align: top;\n",
       "    }\n",
       "\n",
       "    .dataframe thead th {\n",
       "        text-align: right;\n",
       "    }\n",
       "</style>\n",
       "<table border=\"1\" class=\"dataframe\">\n",
       "  <thead>\n",
       "    <tr style=\"text-align: right;\">\n",
       "      <th></th>\n",
       "      <th>TARGET_FILE</th>\n",
       "      <th>REQUIRED_REPLICATES</th>\n",
       "      <th>N_INCOMPLETE_DATA</th>\n",
       "      <th>N_COMPLETE_DATA</th>\n",
       "    </tr>\n",
       "  </thead>\n",
       "  <tbody>\n",
       "    <tr>\n",
       "      <td>0</td>\n",
       "      <td>combined_interactions.tsv.gz</td>\n",
       "      <td>2</td>\n",
       "      <td>1</td>\n",
       "      <td>3</td>\n",
       "    </tr>\n",
       "  </tbody>\n",
       "</table>\n",
       "</div>"
      ],
      "text/plain": [
       "                    TARGET_FILE  REQUIRED_REPLICATES  N_INCOMPLETE_DATA  \\\n",
       "0  combined_interactions.tsv.gz                    2                  1   \n",
       "\n",
       "   N_COMPLETE_DATA  \n",
       "0                3  "
      ]
     },
     "execution_count": 14,
     "metadata": {},
     "output_type": "execute_result"
    }
   ],
   "source": [
    "pandas.DataFrame(write_file_info_dict)"
   ]
  },
  {
   "cell_type": "markdown",
   "metadata": {},
   "source": [
    "The dictionary contains the following information:\n",
    "- ``TARGET_FILE``: Output file in Diachromatic interaction format\n",
    "- ``REQUIRED_REPLICATES``: Chosen number of required replicates (defaults to 1)\n",
    "- ``N_INCOMPLETE_DATA``: Number of interactions that occur in fewer replicates than required\n",
    "- ``N_COMPLETE_DATA``: Number of interactions that occur in required number of replicates and were written to the output file"
   ]
  },
  {
   "cell_type": "markdown",
   "metadata": {},
   "source": [
    "Alternatively, the same information can be retieved as a formatted string."
   ]
  },
  {
   "cell_type": "code",
   "execution_count": 15,
   "metadata": {
    "scrolled": true
   },
   "outputs": [
    {
     "name": "stdout",
     "output_type": "stream",
     "text": [
      "[INFO] Report on writing files:\n",
      "\t[INFO] Wrote interactions that occur in at least 2 replicates to:\n",
      "\t\t[INFO] combined_interactions.tsv.gz\n",
      "\t[INFO] Interactions that occur in at least 2 replicates: 3\n",
      "\t[INFO] Other interactions: 1\n",
      "[INFO] End of report.\n",
      "\n"
     ]
    }
   ],
   "source": [
    "print(interaction_set.get_write_file_info_report())"
   ]
  },
  {
   "cell_type": "markdown",
   "metadata": {},
   "source": [
    "Or in form of a table that consists only of two tab separated lines, a header line and a line with values."
   ]
  },
  {
   "cell_type": "code",
   "execution_count": 16,
   "metadata": {},
   "outputs": [
    {
     "name": "stdout",
     "output_type": "stream",
     "text": [
      "TARGET_FILE\tREQUIRED_REPLICATES\tN_INCOMPLETE_DATA\tN_COMPLETE_DATA\n",
      "combined_interactions.tsv.gz\t2\t1\t3\n",
      "\n"
     ]
    }
   ],
   "source": [
    "print(interaction_set.get_write_file_info_table_row())"
   ]
  },
  {
   "cell_type": "markdown",
   "metadata": {},
   "source": [
    "If the interaction have not yet been evaluated and categorized, then the generated file contains nine columns. The first eight columns contain the coordinates and enrichment states of the digests involved and column nine the simple and twisted read pair counts separated by a colon."
   ]
  },
  {
   "cell_type": "code",
   "execution_count": 17,
   "metadata": {
    "scrolled": false
   },
   "outputs": [
    {
     "data": {
      "text/html": [
       "<div>\n",
       "<style scoped>\n",
       "    .dataframe tbody tr th:only-of-type {\n",
       "        vertical-align: middle;\n",
       "    }\n",
       "\n",
       "    .dataframe tbody tr th {\n",
       "        vertical-align: top;\n",
       "    }\n",
       "\n",
       "    .dataframe thead th {\n",
       "        text-align: right;\n",
       "    }\n",
       "</style>\n",
       "<table border=\"1\" class=\"dataframe\">\n",
       "  <thead>\n",
       "    <tr style=\"text-align: right;\">\n",
       "      <th></th>\n",
       "      <th>CHR_D1</th>\n",
       "      <th>STA_D1</th>\n",
       "      <th>END_D1</th>\n",
       "      <th>ENR_CAT_D1</th>\n",
       "      <th>CHR_D2</th>\n",
       "      <th>STA_D2</th>\n",
       "      <th>END_D2</th>\n",
       "      <th>ENR_CAT_D2</th>\n",
       "      <th>RP_S:RP_T</th>\n",
       "    </tr>\n",
       "  </thead>\n",
       "  <tbody>\n",
       "    <tr>\n",
       "      <td>0</td>\n",
       "      <td>chr1</td>\n",
       "      <td>46297999</td>\n",
       "      <td>46305684</td>\n",
       "      <td>E</td>\n",
       "      <td>chr1</td>\n",
       "      <td>51777391</td>\n",
       "      <td>51781717</td>\n",
       "      <td>N</td>\n",
       "      <td>8:4</td>\n",
       "    </tr>\n",
       "    <tr>\n",
       "      <td>1</td>\n",
       "      <td>chr17</td>\n",
       "      <td>72411026</td>\n",
       "      <td>72411616</td>\n",
       "      <td>N</td>\n",
       "      <td>chr17</td>\n",
       "      <td>72712662</td>\n",
       "      <td>72724357</td>\n",
       "      <td>N</td>\n",
       "      <td>9:6</td>\n",
       "    </tr>\n",
       "    <tr>\n",
       "      <td>2</td>\n",
       "      <td>chr7</td>\n",
       "      <td>69513952</td>\n",
       "      <td>69514636</td>\n",
       "      <td>N</td>\n",
       "      <td>chr7</td>\n",
       "      <td>87057837</td>\n",
       "      <td>87061499</td>\n",
       "      <td>E</td>\n",
       "      <td>8:6</td>\n",
       "    </tr>\n",
       "  </tbody>\n",
       "</table>\n",
       "</div>"
      ],
      "text/plain": [
       "  CHR_D1    STA_D1    END_D1 ENR_CAT_D1 CHR_D2    STA_D2    END_D2 ENR_CAT_D2  \\\n",
       "0   chr1  46297999  46305684          E   chr1  51777391  51781717          N   \n",
       "1  chr17  72411026  72411616          N  chr17  72712662  72724357          N   \n",
       "2   chr7  69513952  69514636          N   chr7  87057837  87061499          E   \n",
       "\n",
       "  RP_S:RP_T  \n",
       "0       8:4  \n",
       "1       9:6  \n",
       "2       8:6  "
      ]
     },
     "execution_count": 17,
     "metadata": {},
     "output_type": "execute_result"
    }
   ],
   "source": [
    "df_interaction_file = pandas.read_csv('combined_interactions.tsv.gz', compression='gzip', sep='\\t', header=None)\n",
    "df_interaction_file.columns = ['CHR_D1','STA_D1','END_D1','ENR_CAT_D1',\n",
    "                               'CHR_D2','STA_D2','END_D2','ENR_CAT_D2',\n",
    "                               'RP_S:RP_T']\n",
    "df_interaction_file"
   ]
  },
  {
   "cell_type": "markdown",
   "metadata": {},
   "source": [
    "The file contains three interactions. The interactions on chromosome ``chr11`` was discarded because it only occurs once. The summed up simple and twisted read pair counts correspond to what we expect for this test dataset."
   ]
  },
  {
   "cell_type": "markdown",
   "metadata": {},
   "source": [
    "## Run the entire workflow with one script\n",
    "\n",
    "The steps described in this notebook are summarized in a script that can be executed as follows:"
   ]
  },
  {
   "cell_type": "code",
   "execution_count": 8,
   "metadata": {},
   "outputs": [
    {
     "name": "stdout",
     "output_type": "stream",
     "text": [
      "[INFO] Input parameters\n",
      "\t[INFO] --out-prefix: DEMO\n",
      "\t[INFO] --interaction-files-path: ../tests/data/test_01/\n",
      "\t[INFO] --required-replicates: 2\n",
      "\n",
      "[INFO] Parsing Diachromatic interaction file ...\n",
      "\t[INFO] ../tests/data/test_01/diachromatic_interaction_file_r1.tsv.gz\n",
      "\t[INFO] Set size: 1\n",
      "[INFO] ... done.\n",
      "[INFO] Parsing Diachromatic interaction file ...\n",
      "\t[INFO] ../tests/data/test_01/diachromatic_interaction_file_r3.tsv.gz\n",
      "\t[INFO] Set size: 3\n",
      "[INFO] ... done.\n",
      "[INFO] Parsing Diachromatic interaction file ...\n",
      "\t[INFO] ../tests/data/test_01/diachromatic_interaction_file_r4.tsv.gz\n",
      "\t[INFO] Set size: 4\n",
      "[INFO] ... done.\n",
      "[INFO] Parsing Diachromatic interaction file ...\n",
      "\t[INFO] ../tests/data/test_01/diachromatic_interaction_file_r2.tsv.gz\n",
      "\t[INFO] Set size: 4\n",
      "[INFO] ... done.\n",
      "\n",
      "[INFO] Writing Diachromatic interaction file ...\n",
      "\t[INFO] Required replicates: 2\n",
      "\t[INFO] Target file: DEMO_at_least_2_combined_interactions.tsv.gz\n",
      "[INFO] ... done.\n"
     ]
    }
   ],
   "source": [
    "%run ../01_combine_interactions_from_replicates.py \\\n",
    "--out-prefix DEMO \\\n",
    "--required-replicates 2 \\\n",
    "--interaction-files-path ../tests/data/test_01/"
   ]
  },
  {
   "cell_type": "markdown",
   "metadata": {},
   "source": [
    "The script outputs information about the status of processing and creates two files. The first file contains the reports and summary statistics that were presented above for each step individually."
   ]
  },
  {
   "cell_type": "code",
   "execution_count": 19,
   "metadata": {},
   "outputs": [
    {
     "name": "stdout",
     "output_type": "stream",
     "text": [
      "[INFO] Input parameters\r\n",
      "\t[INFO] --out-prefix: DEMO\r\n",
      "\t[INFO] --interaction-files-path: ../tests/data/test_01/\r\n",
      "\t[INFO] --required-replicates: 2\r\n",
      "\r\n",
      "[INFO] Report on reading files:\r\n",
      "\t[INFO] Read interaction data from 4 files:\r\n",
      "\t\t[INFO] 1 interactions from: \r\n",
      "\t\t\t[INFO] ../tests/data/test_01/diachromatic_interaction_file_r1.tsv.gz\r\n",
      "\t\t\t[INFO] Set size: 1\r\n",
      "\t\t[INFO] 3 interactions from: \r\n",
      "\t\t\t[INFO] ../tests/data/test_01/diachromatic_interaction_file_r3.tsv.gz\r\n",
      "\t\t\t[INFO] Set size: 3\r\n",
      "\t\t[INFO] 4 interactions from: \r\n",
      "\t\t\t[INFO] ../tests/data/test_01/diachromatic_interaction_file_r4.tsv.gz\r\n",
      "\t\t\t[INFO] Set size: 4\r\n",
      "\t\t[INFO] 2 interactions from: \r\n",
      "\t\t\t[INFO] ../tests/data/test_01/diachromatic_interaction_file_r2.tsv.gz\r\n",
      "\t\t\t[INFO] Set size: 4\r\n",
      "\t[INFO] The interaction set has 4 interactions.\r\n",
      "[INFO] End of report.\r\n",
      "\r\n",
      "[INFO] Report on writing files:\r\n",
      "\t[INFO] Wrote interactions that occur in at least 2 replicates to:\r\n",
      "\t\t[INFO] DEMO_at_least_2_combined_interactions.tsv.gz\r\n",
      "\t[INFO] Interactions that occur in at least 2 replicates: 3\r\n",
      "\t[INFO] Other interactions: 1\r\n",
      "[INFO] End of report.\r\n",
      "\r\n",
      "TARGET_FILE\tREQUIRED_REPLICATES\tN_INCOMPLETE_DATA\tN_COMPLETE_DATA\r\n",
      "DEMO_at_least_2_combined_interactions.tsv.gz\t2\t1\t3\r\n",
      "\r\n",
      "[INFO] Generated files:\r\n",
      "\t[INFO] DEMO_at_least_2_combined_summary.txt\r\n",
      "\t[INFO] DEMO_at_least_2_combined_interactions.tsv.gz\r\n"
     ]
    }
   ],
   "source": [
    "cat DEMO_at_least_2_combined_summary.txt"
   ]
  },
  {
   "cell_type": "markdown",
   "metadata": {},
   "source": [
    "The second file contains the combined interactions."
   ]
  },
  {
   "cell_type": "code",
   "execution_count": 20,
   "metadata": {},
   "outputs": [
    {
     "name": "stdout",
     "output_type": "stream",
     "text": [
      "chr1\t46297999\t46305684\tE\tchr1\t51777391\t51781717\tN\t8:4\r\n",
      "chr17\t72411026\t72411616\tN\tchr17\t72712662\t72724357\tN\t9:6\r\n",
      "chr7\t69513952\t69514636\tN\tchr7\t87057837\t87061499\tE\t8:6\r\n"
     ]
    }
   ],
   "source": [
    "!gunzip -c DEMO_at_least_2_combined_interactions.tsv.gz | head"
   ]
  }
 ],
 "metadata": {
  "kernelspec": {
   "display_name": "Python 3 (diachscripts_p37env)",
   "language": "python",
   "name": "diachscripts_p37env"
  },
  "language_info": {
   "codemirror_mode": {
    "name": "ipython",
    "version": 3
   },
   "file_extension": ".py",
   "mimetype": "text/x-python",
   "name": "python",
   "nbconvert_exporter": "python",
   "pygments_lexer": "ipython3",
   "version": "3.7.4"
  }
 },
 "nbformat": 4,
 "nbformat_minor": 2
}
