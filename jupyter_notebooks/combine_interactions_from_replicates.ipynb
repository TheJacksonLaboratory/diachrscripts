{
 "cells": [
  {
   "cell_type": "markdown",
   "metadata": {},
   "source": [
    "# Combine interactions from different replicates"
   ]
  },
  {
   "cell_type": "markdown",
   "metadata": {},
   "source": [
    "## Setting up the notebook"
   ]
  },
  {
   "cell_type": "code",
   "execution_count": 5,
   "metadata": {},
   "outputs": [],
   "source": [
    "import sys\n",
    "import os\n",
    "import matplotlib.pyplot as plt\n",
    "import scipy, scipy.stats, numpy\n",
    "import pandas\n",
    "pandas.set_option('max_colwidth', 400)\n",
    "\n",
    "\n",
    "%matplotlib inline\n",
    "sys.path.append(\"..\")\n",
    "\n",
    "from diachr import DiachromaticInteractionSet"
   ]
  },
  {
   "cell_type": "markdown",
   "metadata": {},
   "source": [
    "## Reading interactions from different replicates"
   ]
  },
  {
   "cell_type": "code",
   "execution_count": 6,
   "metadata": {},
   "outputs": [
    {
     "name": "stdout",
     "output_type": "stream",
     "text": [
      "diachromatic_interaction_file_r1.tsv.gz\r\n",
      "diachromatic_interaction_file_r2.tsv.gz\r\n",
      "diachromatic_interaction_file_r3.tsv.gz\r\n",
      "diachromatic_interaction_file_r4.tsv.gz\r\n"
     ]
    }
   ],
   "source": [
    "ls ../tests/data/test_01/"
   ]
  },
  {
   "cell_type": "code",
   "execution_count": 7,
   "metadata": {},
   "outputs": [
    {
     "data": {
      "text/html": [
       "<div>\n",
       "<style scoped>\n",
       "    .dataframe tbody tr th:only-of-type {\n",
       "        vertical-align: middle;\n",
       "    }\n",
       "\n",
       "    .dataframe tbody tr th {\n",
       "        vertical-align: top;\n",
       "    }\n",
       "\n",
       "    .dataframe thead th {\n",
       "        text-align: right;\n",
       "    }\n",
       "</style>\n",
       "<table border=\"1\" class=\"dataframe\">\n",
       "  <thead>\n",
       "    <tr style=\"text-align: right;\">\n",
       "      <th></th>\n",
       "      <th>I_FILE</th>\n",
       "      <th>I_NUM</th>\n",
       "    </tr>\n",
       "  </thead>\n",
       "  <tbody>\n",
       "    <tr>\n",
       "      <td>0</td>\n",
       "      <td>../tests/data/test_01/diachromatic_interaction_file_r1.tsv.gz</td>\n",
       "      <td>1</td>\n",
       "    </tr>\n",
       "    <tr>\n",
       "      <td>1</td>\n",
       "      <td>../tests/data/test_01/diachromatic_interaction_file_r2.tsv.gz</td>\n",
       "      <td>2</td>\n",
       "    </tr>\n",
       "    <tr>\n",
       "      <td>2</td>\n",
       "      <td>../tests/data/test_01/diachromatic_interaction_file_r3.tsv.gz</td>\n",
       "      <td>3</td>\n",
       "    </tr>\n",
       "    <tr>\n",
       "      <td>3</td>\n",
       "      <td>../tests/data/test_01/diachromatic_interaction_file_r4.tsv.gz</td>\n",
       "      <td>4</td>\n",
       "    </tr>\n",
       "    <tr>\n",
       "      <td>4</td>\n",
       "      <td>UNION</td>\n",
       "      <td>4</td>\n",
       "    </tr>\n",
       "  </tbody>\n",
       "</table>\n",
       "</div>"
      ],
      "text/plain": [
       "                                                          I_FILE  I_NUM\n",
       "0  ../tests/data/test_01/diachromatic_interaction_file_r1.tsv.gz      1\n",
       "1  ../tests/data/test_01/diachromatic_interaction_file_r2.tsv.gz      2\n",
       "2  ../tests/data/test_01/diachromatic_interaction_file_r3.tsv.gz      3\n",
       "3  ../tests/data/test_01/diachromatic_interaction_file_r4.tsv.gz      4\n",
       "4                                                          UNION      4"
      ]
     },
     "execution_count": 7,
     "metadata": {},
     "output_type": "execute_result"
    }
   ],
   "source": [
    "interaction_set = DiachromaticInteractionSet()\n",
    "\n",
    "interaction_set.parse_file(i_file=\"../tests/data/test_01/diachromatic_interaction_file_r1.tsv.gz\")\n",
    "interaction_set.parse_file(i_file=\"../tests/data/test_01/diachromatic_interaction_file_r2.tsv.gz\")\n",
    "interaction_set.parse_file(i_file=\"../tests/data/test_01/diachromatic_interaction_file_r3.tsv.gz\")\n",
    "interaction_set.parse_file(i_file=\"../tests/data/test_01/diachromatic_interaction_file_r4.tsv.gz\")\n",
    "\n",
    "file_dict_info = interaction_set.get_file_info_dict()\n",
    "pandas.DataFrame(file_dict_info)"
   ]
  },
  {
   "cell_type": "code",
   "execution_count": null,
   "metadata": {},
   "outputs": [],
   "source": []
  }
 ],
 "metadata": {
  "kernelspec": {
   "display_name": "Python 3 (diachscripts_p37env)",
   "language": "python",
   "name": "diachscripts_p37env"
  },
  "language_info": {
   "codemirror_mode": {
    "name": "ipython",
    "version": 3
   },
   "file_extension": ".py",
   "mimetype": "text/x-python",
   "name": "python",
   "nbconvert_exporter": "python",
   "pygments_lexer": "ipython3",
   "version": "3.7.4"
  }
 },
 "nbformat": 4,
 "nbformat_minor": 2
}
