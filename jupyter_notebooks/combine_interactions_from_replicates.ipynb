{
 "cells": [
  {
   "cell_type": "markdown",
   "metadata": {},
   "source": [
    "# Combine interactions from different replicates"
   ]
  },
  {
   "cell_type": "markdown",
   "metadata": {},
   "source": [
    "## Setting up the notebook"
   ]
  },
  {
   "cell_type": "code",
   "execution_count": 1,
   "metadata": {},
   "outputs": [],
   "source": [
    "import sys\n",
    "import os\n",
    "import pandas\n",
    "pandas.set_option('max_colwidth', 400)\n",
    "sys.path.append(\"..\")\n",
    "from diachr import DiachromaticInteractionSet"
   ]
  },
  {
   "cell_type": "markdown",
   "metadata": {},
   "source": [
    "## Reading interactions from different replicates"
   ]
  },
  {
   "cell_type": "code",
   "execution_count": 2,
   "metadata": {},
   "outputs": [
    {
     "data": {
      "text/html": [
       "<div>\n",
       "<style scoped>\n",
       "    .dataframe tbody tr th:only-of-type {\n",
       "        vertical-align: middle;\n",
       "    }\n",
       "\n",
       "    .dataframe tbody tr th {\n",
       "        vertical-align: top;\n",
       "    }\n",
       "\n",
       "    .dataframe thead th {\n",
       "        text-align: right;\n",
       "    }\n",
       "</style>\n",
       "<table border=\"1\" class=\"dataframe\">\n",
       "  <thead>\n",
       "    <tr style=\"text-align: right;\">\n",
       "      <th></th>\n",
       "      <th>I_FILE</th>\n",
       "      <th>I_NUM</th>\n",
       "      <th>I_UNION_NUM</th>\n",
       "    </tr>\n",
       "  </thead>\n",
       "  <tbody>\n",
       "    <tr>\n",
       "      <td>0</td>\n",
       "      <td>../tests/data/test_01/diachromatic_interaction_file_r1.tsv.gz</td>\n",
       "      <td>1</td>\n",
       "      <td>1</td>\n",
       "    </tr>\n",
       "    <tr>\n",
       "      <td>1</td>\n",
       "      <td>../tests/data/test_01/diachromatic_interaction_file_r2.tsv.gz</td>\n",
       "      <td>2</td>\n",
       "      <td>2</td>\n",
       "    </tr>\n",
       "    <tr>\n",
       "      <td>2</td>\n",
       "      <td>../tests/data/test_01/diachromatic_interaction_file_r3.tsv.gz</td>\n",
       "      <td>3</td>\n",
       "      <td>3</td>\n",
       "    </tr>\n",
       "    <tr>\n",
       "      <td>3</td>\n",
       "      <td>../tests/data/test_01/diachromatic_interaction_file_r4.tsv.gz</td>\n",
       "      <td>4</td>\n",
       "      <td>4</td>\n",
       "    </tr>\n",
       "  </tbody>\n",
       "</table>\n",
       "</div>"
      ],
      "text/plain": [
       "                                                          I_FILE  I_NUM  \\\n",
       "0  ../tests/data/test_01/diachromatic_interaction_file_r1.tsv.gz      1   \n",
       "1  ../tests/data/test_01/diachromatic_interaction_file_r2.tsv.gz      2   \n",
       "2  ../tests/data/test_01/diachromatic_interaction_file_r3.tsv.gz      3   \n",
       "3  ../tests/data/test_01/diachromatic_interaction_file_r4.tsv.gz      4   \n",
       "\n",
       "   I_UNION_NUM  \n",
       "0            1  \n",
       "1            2  \n",
       "2            3  \n",
       "3            4  "
      ]
     },
     "execution_count": 2,
     "metadata": {},
     "output_type": "execute_result"
    }
   ],
   "source": [
    "interaction_set = DiachromaticInteractionSet()\n",
    "\n",
    "interaction_set.parse_file(i_file=\"../tests/data/test_01/diachromatic_interaction_file_r1.tsv.gz\")\n",
    "interaction_set.parse_file(i_file=\"../tests/data/test_01/diachromatic_interaction_file_r2.tsv.gz\")\n",
    "interaction_set.parse_file(i_file=\"../tests/data/test_01/diachromatic_interaction_file_r3.tsv.gz\")\n",
    "interaction_set.parse_file(i_file=\"../tests/data/test_01/diachromatic_interaction_file_r4.tsv.gz\")\n",
    "\n",
    "read_file_info_dict = interaction_set.get_read_file_info_dict()\n",
    "pandas.DataFrame(read_file_info_dict)"
   ]
  },
  {
   "cell_type": "markdown",
   "metadata": {},
   "source": [
    "## Write interactions that occur in a required number replicates to an interaction file"
   ]
  },
  {
   "cell_type": "code",
   "execution_count": 12,
   "metadata": {},
   "outputs": [],
   "source": [
    "target_file = \"combined_interactions.tsv.gz\"\n",
    "required_replicates = 2\n",
    "write_file_info_dict = interaction_set.write_diachromatic_interaction_file(target_file=target_file, required_replicates=required_replicates)"
   ]
  },
  {
   "cell_type": "code",
   "execution_count": 9,
   "metadata": {},
   "outputs": [
    {
     "data": {
      "text/html": [
       "<div>\n",
       "<style scoped>\n",
       "    .dataframe tbody tr th:only-of-type {\n",
       "        vertical-align: middle;\n",
       "    }\n",
       "\n",
       "    .dataframe tbody tr th {\n",
       "        vertical-align: top;\n",
       "    }\n",
       "\n",
       "    .dataframe thead th {\n",
       "        text-align: right;\n",
       "    }\n",
       "</style>\n",
       "<table border=\"1\" class=\"dataframe\">\n",
       "  <thead>\n",
       "    <tr style=\"text-align: right;\">\n",
       "      <th></th>\n",
       "      <th>TARGET_FILE</th>\n",
       "      <th>REQUIRED_REPLICATES</th>\n",
       "      <th>N_INCOMPLETE_DATA</th>\n",
       "      <th>N_COMPLETE_DATA</th>\n",
       "    </tr>\n",
       "  </thead>\n",
       "  <tbody>\n",
       "    <tr>\n",
       "      <td>0</td>\n",
       "      <td>combined_interactions.tsv.gz</td>\n",
       "      <td>3</td>\n",
       "      <td>2</td>\n",
       "      <td>2</td>\n",
       "    </tr>\n",
       "  </tbody>\n",
       "</table>\n",
       "</div>"
      ],
      "text/plain": [
       "                    TARGET_FILE  REQUIRED_REPLICATES  N_INCOMPLETE_DATA  \\\n",
       "0  combined_interactions.tsv.gz                    3                  2   \n",
       "\n",
       "   N_COMPLETE_DATA  \n",
       "0                2  "
      ]
     },
     "execution_count": 9,
     "metadata": {},
     "output_type": "execute_result"
    }
   ],
   "source": [
    "pandas.DataFrame(write_file_info_dict)"
   ]
  },
  {
   "cell_type": "code",
   "execution_count": 5,
   "metadata": {},
   "outputs": [
    {
     "name": "stdout",
     "output_type": "stream",
     "text": [
      "[INFO] Report on writing files:\n",
      "\t[INFO] Wrote interactions that occur in at least 2 replicates to: combined_interactions.tsv.gz\n",
      "\t[INFO] Interactions that occur in at least 2 replicates: 3\n",
      "\t[INFO] Other interactions: 1\n",
      "[INFO] End of report.\n",
      "\n"
     ]
    }
   ],
   "source": [
    "print(interaction_set.get_write_file_info_report())"
   ]
  },
  {
   "cell_type": "code",
   "execution_count": 10,
   "metadata": {},
   "outputs": [
    {
     "name": "stdout",
     "output_type": "stream",
     "text": [
      "TARGET_FILE\tREQUIRED_REPLICATES\tN_INCOMPLETE_DATA\tN_COMPLETE_DATA\n",
      "combined_interactions.tsv.gz\t3\t2\t2\n",
      "\n"
     ]
    }
   ],
   "source": [
    "print(interaction_set.get_write_file_info_table_row())"
   ]
  },
  {
   "cell_type": "code",
   "execution_count": 11,
   "metadata": {},
   "outputs": [
    {
     "data": {
      "text/html": [
       "<div>\n",
       "<style scoped>\n",
       "    .dataframe tbody tr th:only-of-type {\n",
       "        vertical-align: middle;\n",
       "    }\n",
       "\n",
       "    .dataframe tbody tr th {\n",
       "        vertical-align: top;\n",
       "    }\n",
       "\n",
       "    .dataframe thead th {\n",
       "        text-align: right;\n",
       "    }\n",
       "</style>\n",
       "<table border=\"1\" class=\"dataframe\">\n",
       "  <thead>\n",
       "    <tr style=\"text-align: right;\">\n",
       "      <th></th>\n",
       "      <th>CHR_D1</th>\n",
       "      <th>STA_D1</th>\n",
       "      <th>END_D1</th>\n",
       "      <th>ENR_CAT_D1</th>\n",
       "      <th>CHR_D2</th>\n",
       "      <th>STA_D2</th>\n",
       "      <th>END_D2</th>\n",
       "      <th>ENR_CAT_D2</th>\n",
       "      <th>RP_S:RP_T</th>\n",
       "    </tr>\n",
       "  </thead>\n",
       "  <tbody>\n",
       "    <tr>\n",
       "      <td>0</td>\n",
       "      <td>chr1</td>\n",
       "      <td>46297999</td>\n",
       "      <td>46305684</td>\n",
       "      <td>E</td>\n",
       "      <td>chr1</td>\n",
       "      <td>51777391</td>\n",
       "      <td>51781717</td>\n",
       "      <td>N</td>\n",
       "      <td>8:4</td>\n",
       "    </tr>\n",
       "    <tr>\n",
       "      <td>1</td>\n",
       "      <td>chr17</td>\n",
       "      <td>72411026</td>\n",
       "      <td>72411616</td>\n",
       "      <td>N</td>\n",
       "      <td>chr17</td>\n",
       "      <td>72712662</td>\n",
       "      <td>72724357</td>\n",
       "      <td>N</td>\n",
       "      <td>9:6</td>\n",
       "    </tr>\n",
       "  </tbody>\n",
       "</table>\n",
       "</div>"
      ],
      "text/plain": [
       "  CHR_D1    STA_D1    END_D1 ENR_CAT_D1 CHR_D2    STA_D2    END_D2 ENR_CAT_D2  \\\n",
       "0   chr1  46297999  46305684          E   chr1  51777391  51781717          N   \n",
       "1  chr17  72411026  72411616          N  chr17  72712662  72724357          N   \n",
       "\n",
       "  RP_S:RP_T  \n",
       "0       8:4  \n",
       "1       9:6  "
      ]
     },
     "execution_count": 11,
     "metadata": {},
     "output_type": "execute_result"
    }
   ],
   "source": [
    "df_interaction_file = pandas.read_csv('combined_interactions.tsv.gz', compression='gzip', sep='\\t', header=None)\n",
    "df_interaction_file.columns = ['CHR_D1','STA_D1','END_D1','ENR_CAT_D1',\n",
    "                               'CHR_D2','STA_D2','END_D2','ENR_CAT_D2',\n",
    "                               'RP_S:RP_T']\n",
    "df_interaction_file"
   ]
  }
 ],
 "metadata": {
  "kernelspec": {
   "display_name": "Python 3 (diachscripts_p37env)",
   "language": "python",
   "name": "diachscripts_p37env"
  },
  "language_info": {
   "codemirror_mode": {
    "name": "ipython",
    "version": 3
   },
   "file_extension": ".py",
   "mimetype": "text/x-python",
   "name": "python",
   "nbconvert_exporter": "python",
   "pygments_lexer": "ipython3",
   "version": "3.7.4"
  }
 },
 "nbformat": 4,
 "nbformat_minor": 2
}
