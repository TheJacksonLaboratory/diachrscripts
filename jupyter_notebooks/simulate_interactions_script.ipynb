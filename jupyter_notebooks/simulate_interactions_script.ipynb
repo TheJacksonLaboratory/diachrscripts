{
 "cells": [
  {
   "cell_type": "markdown",
   "metadata": {},
   "source": [
    "# Shuffling of simple and twisted read pairs"
   ]
  },
  {
   "cell_type": "markdown",
   "metadata": {},
   "source": [
    "## Description of the analysis\n",
    "\n",
    "In this notebook, we use the script [```diachrscripts/simulate_interactions_script.py```](https://github.com/TheJacksonLaboratory/diachrscripts/blob/master/simulate_interactions_script.py) to generate two interaction files supplemented with binomial P-values. One file contains the original interactions, the other file contains interactions with the same coordinates but with randomly shuffled proportions of simple and twisted read pairs, for instance, if the original interaction has one simple and five twisted read pairs, a new number of simple read pairs is drawn from ```binom.rvs(6, 0.5)```, which could result in four simple and consequently two twisted read pairs.\n",
    "\n",
    "Apart from the interactions files, numpy arrays with P-values for original and simulated data are saved to disk that can be loaded into this notebook in order examine the distribution of P-values using, for instance, a qq-plot."
   ]
  },
  {
   "cell_type": "markdown",
   "metadata": {},
   "source": [
    "## Choose dataset\n",
    "\n",
    "We analyzed four datasets, three capture Hi-C (Mifsud 2015, Schoenfelder 2015, Chesi 2019) and one Hi-C dataset (Nora 2017). In this section, individual datasets can be selected for the analysis that can be performed in the third section of this notebook."
   ]
  },
  {
   "cell_type": "markdown",
   "metadata": {},
   "source": [
    "### Mifsud 2015 (Promoter capture Hi-C, GM12878 and CD34+ blood cells, hg38, HindIII)"
   ]
  },
  {
   "cell_type": "code",
   "execution_count": 3,
   "metadata": {},
   "outputs": [],
   "source": [
    "# Create output directory\n",
    "!mkdir -p ../results/mifsud/simulated_interactions"
   ]
  },
  {
   "cell_type": "markdown",
   "metadata": {},
   "source": [
    "#### Replicate 1"
   ]
  },
  {
   "cell_type": "code",
   "execution_count": 1,
   "metadata": {},
   "outputs": [],
   "source": [
    "OUT_PREFIX = \"../results/mifsud/simulated_interactions/simulated_interactions_mifsud_r1\"\n",
    "INTERACTION_FILE = \"../diachrscripts_data/mifsud_2015_hg38/data/gzdir/MIFSUD_R10.interaction.counts.table.gt1.tsv.gz\""
   ]
  },
  {
   "cell_type": "markdown",
   "metadata": {},
   "source": [
    "#### Replicate 2"
   ]
  },
  {
   "cell_type": "code",
   "execution_count": 83,
   "metadata": {},
   "outputs": [],
   "source": [
    "OUT_PREFIX = \"../results/mifsud/simulated_interactions/simulated_interactions_mifsud_r2\"\n",
    "INTERACTION_FILE = \"../diachrscripts_data/mifsud_2015_hg38/data/gzdir/MIFSUD_R20.interaction.counts.table.gt1.tsv.gz\""
   ]
  },
  {
   "cell_type": "markdown",
   "metadata": {},
   "source": [
    "#### Replicate 3"
   ]
  },
  {
   "cell_type": "code",
   "execution_count": 3,
   "metadata": {},
   "outputs": [],
   "source": [
    "OUT_PREFIX = \"../results/mifsud/simulated_interactions/simulated_interactions_mifsud_r3\"\n",
    "INTERACTION_FILE = \"../diachrscripts_data/mifsud_2015_hg38/data/gzdir/MIFSUD_R30.interaction.counts.table.gt1.tsv.gz\""
   ]
  },
  {
   "cell_type": "markdown",
   "metadata": {},
   "source": [
    "### Schoenfelder 2015 (Promoter capture Hi-C, mES cells, mm10, HindIII)"
   ]
  },
  {
   "cell_type": "code",
   "execution_count": null,
   "metadata": {},
   "outputs": [],
   "source": [
    "# Create output directory\n",
    "!mkdir -p ../results/schoenefelder/simulated_interactions"
   ]
  },
  {
   "cell_type": "markdown",
   "metadata": {},
   "source": [
    "#### Replicate 1"
   ]
  },
  {
   "cell_type": "code",
   "execution_count": 3,
   "metadata": {},
   "outputs": [],
   "source": [
    "OUT_PREFIX = \"../results/schoenefelder/simulated_interactions/simulated_interactions_schoenefelder_r1\"\n",
    "INTERACTION_FILE = \"../diachrscripts_data/schoenefelder_2015_mm10/data/gzdir/SCHOEN_R10.interaction.counts.table.gt1.tsv.gz"
   ]
  },
  {
   "cell_type": "markdown",
   "metadata": {},
   "source": [
    "#### Replicate 2"
   ]
  },
  {
   "cell_type": "code",
   "execution_count": 3,
   "metadata": {},
   "outputs": [],
   "source": [
    "OUT_PREFIX = \"../results/schoenefelder/simulated_interactions/simulated_interactions_schoenefelder_r2\"\n",
    "INTERACTION_FILE = \"../diachrscripts_data/schoenefelder_2015_mm10/data/gzdir/SCHOEN_R20.interaction.counts.table.gt1.tsv.gz"
   ]
  },
  {
   "cell_type": "markdown",
   "metadata": {},
   "source": [
    "### Chesi 2019 (Promoter Capture-C, BMP2 induced osteoblasts and HepG2 cells, hg38, DpnII)"
   ]
  },
  {
   "cell_type": "markdown",
   "metadata": {},
   "source": [
    "#### Replicate 1"
   ]
  },
  {
   "cell_type": "markdown",
   "metadata": {},
   "source": [
    "## Perform analysis"
   ]
  },
  {
   "cell_type": "code",
   "execution_count": 288,
   "metadata": {},
   "outputs": [
    {
     "name": "stdout",
     "output_type": "stream",
     "text": [
      "[INFO] Input parameters\n",
      "\t[INFO] Analysis for: ../results/mifsud/simulated_interactions/simulated_interactions_mifsud_r1\n",
      "\t[INFO] Interaction file: ../diachrscripts_data/mifsud_2015_hg38/data/gzdir/MIFSUD_R10.interaction.counts.table.gt1.tsv.gz\n",
      "[INFO] Simulating random simple twisted read pairs for each interaction in ../diachrscripts_data/mifsud_2015_hg38/data/gzdir/MIFSUD_R10.interaction.counts.table.gt1.tsv.gz ...\n",
      "\t[INFO] 0 interactions processed ...\n",
      "\t[INFO] 100000 interactions processed ...\n",
      "\t[INFO] 200000 interactions processed ...\n",
      "\t[INFO] 300000 interactions processed ...\n",
      "\t[INFO] 400000 interactions processed ...\n",
      "\t[INFO] 500000 interactions processed ...\n",
      "\t[INFO] 600000 interactions processed ...\n",
      "\t[INFO] 700000 interactions processed ...\n",
      "\t[INFO] 800000 interactions processed ...\n",
      "\t[INFO] 900000 interactions processed ...\n",
      "\t[INFO] 1000000 interactions processed ...\n",
      "\t[INFO] 1100000 interactions processed ...\n",
      "... done.\n",
      "[INFO] Summary statistics\n",
      "\t[INFO] Total number of interactions: 1175807\n",
      "\t[INFO] Number of trans short range interactions (discarded): 181256\n",
      "\t[INFO] Number of simple interactions (original vs. simulated): 3919\t2672\n",
      "\t[INFO] Number of twisted interactions (original vs. simulated): 3380\t2720\n",
      "\t[INFO] Number of undirected interactions (original vs. simulated): 104692\t106599\n",
      "\t[INFO] Number of indefinable interactions (original vs. simulated): 882560\t882560\n",
      "[INFO] Writing numpy arrays with distances to disk ...\n",
      "[INFO] ... done.\n",
      "[INFO] Two files with interactions were generated:\n",
      "\t[INFO] Original interactions with P-values: ../results/mifsud/simulated_interactions/simulated_interactions_mifsud_r1_original_interactions.tsv.gz\n",
      "\t[INFO] Simulated interactions with P-values: ../results/mifsud/simulated_interactions/simulated_interactions_mifsud_r1_simulated_interactions.tsv.gz\n",
      "[INFO] Two numpy arrays with P-values were saved to disk:\n",
      "\t[INFO] P-values of original data: ../results/mifsud/simulated_interactions/simulated_interactions_mifsud_r1_original_pvals\n",
      "\t[INFO] P-values of simulated data: ../results/mifsud/simulated_interactions/simulated_interactions_mifsud_r1_simulated_pvals\n"
     ]
    }
   ],
   "source": [
    "# Run Python script\n",
    "!python ../simulate_interactions_script.py --out-prefix $OUT_PREFIX --interaction-file $INTERACTION_FILE"
   ]
  },
  {
   "cell_type": "code",
   "execution_count": 289,
   "metadata": {},
   "outputs": [],
   "source": [
    "# Load modules\n",
    "import numpy as np\n",
    "from scipy import stats\n",
    "import matplotlib.pyplot as plt\n",
    "import pylab"
   ]
  },
  {
   "cell_type": "code",
   "execution_count": 290,
   "metadata": {},
   "outputs": [],
   "source": [
    "# Load saved numpy arrays from disk\n",
    "array_path = OUT_PREFIX + \"_original_pvals.npy\"\n",
    "pval_array_original = np.load(array_path)\n",
    "array_path = OUT_PREFIX + \"_simulated_pvals.npy\"\n",
    "pval_array_simulated = np.load(array_path)"
   ]
  },
  {
   "cell_type": "code",
   "execution_count": 291,
   "metadata": {},
   "outputs": [
    {
     "data": {
      "text/plain": [
       "[(0, 1), Text(0, 0.5, 'Simulated data'), (0, 1), Text(0.5, 0, 'Original data')]"
      ]
     },
     "execution_count": 291,
     "metadata": {},
     "output_type": "execute_result"
    },
    {
     "data": {
      "image/png": "[encoded data removed]",
      "text/plain": [
       "<Figure size 432x432 with 1 Axes>"
      ]
     },
     "metadata": {
      "needs_background": "light"
     },
     "output_type": "display_data"
    }
   ],
   "source": [
    "# Create scatterplot of original and simulated data for the range 0.0, ..., 1.0\n",
    "f, ax = plt.subplots(figsize=(6, 6))\n",
    "ax.scatter(np.sort(pval_array_original), np.sort(pval_array_simulated), c=\".3\")\n",
    "ax.plot([0, 1], [0, 1], ls=\"--\", c=\".3\")\n",
    "ax.set(xlim=(0, 1), ylim=(0, 1), xlabel=\"Original data\", ylabel=\"Simulated data\")"
   ]
  },
  {
   "cell_type": "code",
   "execution_count": 292,
   "metadata": {},
   "outputs": [
    {
     "data": {
      "text/plain": [
       "[(0, 0.1),\n",
       " Text(0, 0.5, 'Simulated data'),\n",
       " (0, 0.1),\n",
       " Text(0.5, 0, 'Original data')]"
      ]
     },
     "execution_count": 292,
     "metadata": {},
     "output_type": "execute_result"
    },
    {
     "data": {
      "image/png": "[encoded data removed]",
      "text/plain": [
       "<Figure size 432x432 with 1 Axes>"
      ]
     },
     "metadata": {
      "needs_background": "light"
     },
     "output_type": "display_data"
    }
   ],
   "source": [
    "# Create scatterplot of original and simulated data for the range 0.0, ..., 0.1\n",
    "f, ax = plt.subplots(figsize=(6, 6))\n",
    "ax.scatter(np.sort(pval_array_original), np.sort(pval_array_simulated), c=\".3\")\n",
    "ax.plot([0, 0.1], [0, 0.1], ls=\"--\", c=\".3\")\n",
    "ax.set(xlim=(0, 0.1), ylim=(0, 0.1), xlabel=\"Original data\", ylabel=\"Simulated data\")"
   ]
  },
  {
   "cell_type": "code",
   "execution_count": 293,
   "metadata": {},
   "outputs": [
    {
     "data": {
      "text/plain": [
       "((array([6.96944590e-07, 1.69171755e-06, 2.69719604e-06, ...,\n",
       "         9.99997303e-01, 9.99998308e-01, 9.99999303e-01]),\n",
       "  array([1.11022302e-16, 1.11022302e-16, 4.06896739e-13, ...,\n",
       "         7.50000000e-01, 7.50000000e-01, 7.50000000e-01])),\n",
       " (0.7689475236861065, 0.0605444740448246, 0.9528224491785978))"
      ]
     },
     "execution_count": 293,
     "metadata": {},
     "output_type": "execute_result"
    },
    {
     "data": {
      "image/png": "[encoded data removed]",
      "text/plain": [
       "<Figure size 432x288 with 1 Axes>"
      ]
     },
     "metadata": {
      "needs_background": "light"
     },
     "output_type": "display_data"
    }
   ],
   "source": [
    "stats.probplot(pval_array_original, dist=\"uniform\", plot=pylab)"
   ]
  },
  {
   "cell_type": "code",
   "execution_count": 276,
   "metadata": {},
   "outputs": [
    {
     "data": {
      "text/plain": [
       "((array([5.89507442e-07, 1.43093167e-06, 2.28141112e-06, ...,\n",
       "         9.99997719e-01, 9.99998569e-01, 9.99999410e-01]),\n",
       "  array([1.22099615e-04, 4.89645199e-04, 4.89645199e-04, ...,\n",
       "         1.00000000e+00, 1.00000000e+00, 1.00000000e+00])),\n",
       " (0.7564481905554, 0.11994293689483798, 0.9816555559253757))"
      ]
     },
     "execution_count": 276,
     "metadata": {},
     "output_type": "execute_result"
    },
    {
     "data": {
      "image/png": "[encoded data removed]",
      "text/plain": [
       "<Figure size 432x288 with 1 Axes>"
      ]
     },
     "metadata": {
      "needs_background": "light"
     },
     "output_type": "display_data"
    }
   ],
   "source": [
    "stats.probplot(pval_array_simulated, dist=\"uniform\", plot=pylab)"
   ]
  },
  {
   "cell_type": "code",
   "execution_count": 283,
   "metadata": {},
   "outputs": [
    {
     "data": {
      "image/png": "[encoded data removed]",
      "text/plain": [
       "<Figure size 432x288 with 1 Axes>"
      ]
     },
     "metadata": {
      "needs_background": "light"
     },
     "output_type": "display_data"
    }
   ],
   "source": [
    "plt.hist(pval_array_original, bins=10)\n",
    "plt.gca().set(title='Original', ylabel='Frequency', xlim=(0,1));"
   ]
  },
  {
   "cell_type": "code",
   "execution_count": 284,
   "metadata": {},
   "outputs": [
    {
     "data": {
      "image/png": "[encoded data removed]",
      "text/plain": [
       "<Figure size 432x288 with 1 Axes>"
      ]
     },
     "metadata": {
      "needs_background": "light"
     },
     "output_type": "display_data"
    }
   ],
   "source": [
    "plt.hist(pval_array_simulated, bins=10)\n",
    "plt.gca().set(title='Simulated', ylabel='Frequency', xlim=(0,1));"
   ]
  },
  {
   "cell_type": "code",
   "execution_count": 191,
   "metadata": {},
   "outputs": [
    {
     "name": "stdout",
     "output_type": "stream",
     "text": [
      "\n",
      "-----Fixed simple-----\n",
      "0:1\t0.5\n",
      "1:1\t0.75\n",
      "2:1\t0.5\n",
      "3:1\t0.3125\n",
      "4:1\t0.1875\n",
      "5:1\t0.109375\n",
      "6:1\t0.0625\n",
      "7:1\t0.03515625\n",
      "8:1\t0.01953125\n",
      "9:1\t0.0107421875\n",
      "10:1\t0.005859375\n",
      "11:1\t0.003173828125\n",
      "12:1\t0.001708984375\n",
      "13:1\t0.00091552734375\n",
      "14:1\t0.00048828125\n",
      "15:1\t0.0002593994140625\n",
      "16:1\t0.0001373291015625\n",
      "17:1\t7.2479248046875e-05\n",
      "18:1\t3.814697265625e-05\n",
      "19:1\t2.002716064453125e-05\n",
      "\n",
      "-----Fixed twisted-----\n",
      "1:0\t0.5\n",
      "1:1\t0.75\n",
      "1:2\t0.5\n",
      "1:3\t0.3125\n",
      "1:4\t0.1875\n",
      "1:5\t0.109375\n",
      "1:6\t0.0625\n",
      "1:7\t0.03515625\n",
      "1:8\t0.01953125\n",
      "1:9\t0.0107421875\n",
      "1:10\t0.005859375\n",
      "1:11\t0.003173828125\n",
      "1:12\t0.001708984375\n",
      "1:13\t0.00091552734375\n",
      "1:14\t0.00048828125\n",
      "1:15\t0.0002593994140625\n",
      "1:16\t0.0001373291015625\n",
      "1:17\t7.2479248046875e-05\n",
      "1:18\t3.814697265625e-05\n",
      "1:19\t2.002716064453125e-05\n"
     ]
    }
   ],
   "source": [
    "# Check function for P-value calculation\n",
    "import importlib.util\n",
    "spec = importlib.util.spec_from_file_location(\"diachrscripts_toolkit\", \"../diachrscripts_toolkit.py\")\n",
    "foo = importlib.util.module_from_spec(spec)\n",
    "spec.loader.exec_module(foo)\n",
    "\n",
    "fixed_val = 1\n",
    "print(\"\\n-----Fixed simple-----\")\n",
    "t=fixed_val\n",
    "for s in range(0,20):\n",
    "    i = foo.Interaction(\"chrX\\t123865109\\t123881107\\tI\\tchrX\\t123886906\\t123888573\\tI\\t\" + str(s) + \":\" + str(t))\n",
    "    pv = i.get_binomial_p_value()\n",
    "    print(str(s) + \":\" + str(t) + \"\\t\" + str(pv))\n",
    "print(\"\\n-----Fixed twisted-----\")    \n",
    "s=fixed_val\n",
    "for t in range(0,20):\n",
    "    i = foo.Interaction(\"chrX\\t123865109\\t123881107\\tI\\tchrX\\t123886906\\t123888573\\tI\\t\" + str(s) + \":\" + str(t))\n",
    "    pv = i.get_binomial_p_value()\n",
    "    print(str(s) + \":\" + str(t) + \"\\t\" + str(pv))\n"
   ]
  }
 ],
 "metadata": {
  "kernelspec": {
   "display_name": "Python 3 (diachscripts_p37env)",
   "language": "python",
   "name": "diachscripts_p37env"
  },
  "language_info": {
   "codemirror_mode": {
    "name": "ipython",
    "version": 3
   },
   "file_extension": ".py",
   "mimetype": "text/x-python",
   "name": "python",
   "nbconvert_exporter": "python",
   "pygments_lexer": "ipython3",
   "version": "3.7.4"
  }
 },
 "nbformat": 4,
 "nbformat_minor": 2
}
