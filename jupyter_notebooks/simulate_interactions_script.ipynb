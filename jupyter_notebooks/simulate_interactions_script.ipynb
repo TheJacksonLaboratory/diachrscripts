{
 "cells": [
  {
   "cell_type": "markdown",
   "metadata": {},
   "source": [
    "# Shuffling of simple and twisted read pairs"
   ]
  },
  {
   "cell_type": "markdown",
   "metadata": {},
   "source": [
    "## Description of the analysis\n",
    "\n",
    "In this notebook, we use the script [```diachrscripts/simulate_interactions_script.py```](https://github.com/TheJacksonLaboratory/diachrscripts/blob/master/simulate_interactions_script.py) to generate two interaction files supplemented with binomial P-values. One file contains the original interactions, the other file contains interactions with the same coordinates but with randomly shuffled proportions of simple and twisted read pairs, for instance, if the original interaction has one simple and five twisted read pairs, a new number of simple read pairs is drawn from ```binom.rvs(6, 0.5)```, which could result in four simple and consequently two twisted read pairs.\n",
    "\n",
    "Apart from the interactions files, numpy arrays with P-values for original and simulated data are saved to disk that can be loaded into this notebook in order examine the distribution of P-values using, for instance, a qq-plot."
   ]
  },
  {
   "cell_type": "markdown",
   "metadata": {},
   "source": [
    "## Choose dataset\n",
    "\n",
    "We analyzed four datasets, three capture Hi-C (Mifsud 2015, Schoenfelder 2015, Chesi 2019) and one Hi-C dataset (Nora 2017). In this section, individual datasets can be selected for the analysis that can be performed in the third section of this notebook."
   ]
  },
  {
   "cell_type": "markdown",
   "metadata": {},
   "source": [
    "### Mifsud 2015 (Promoter capture Hi-C, GM12878 and CD34+ blood cells, hg38, HindIII)"
   ]
  },
  {
   "cell_type": "code",
   "execution_count": 1,
   "metadata": {},
   "outputs": [],
   "source": [
    "# Create output directory\n",
    "!mkdir -p ../results/mifsud/simulated_interactions"
   ]
  },
  {
   "cell_type": "markdown",
   "metadata": {},
   "source": [
    "#### Replicate 1"
   ]
  },
  {
   "cell_type": "code",
   "execution_count": 27,
   "metadata": {},
   "outputs": [],
   "source": [
    "OUT_PREFIX = \"../results/mifsud/simulated_interactions/simulated_interactions_mifsud_r1\"\n",
    "INTERACTION_FILE = \"../diachrscripts_data/mifsud_2015_hg38/data/gzdir/MIFSUD_R10.interaction.counts.table.gt1.tsv.gz\""
   ]
  },
  {
   "cell_type": "markdown",
   "metadata": {},
   "source": [
    "#### Replicate 2"
   ]
  },
  {
   "cell_type": "code",
   "execution_count": 22,
   "metadata": {},
   "outputs": [],
   "source": [
    "OUT_PREFIX = \"../results/mifsud/simulated_interactions/simulated_interactions_mifsud_r2\"\n",
    "INTERACTION_FILE = \"../diachrscripts_data/mifsud_2015_hg38/data/gzdir/MIFSUD_R20.interaction.counts.table.gt1.tsv.gz\""
   ]
  },
  {
   "cell_type": "markdown",
   "metadata": {},
   "source": [
    "#### Replicate 3"
   ]
  },
  {
   "cell_type": "code",
   "execution_count": 3,
   "metadata": {},
   "outputs": [],
   "source": [
    "OUT_PREFIX = \"../results/mifsud/simulated_interactions/simulated_interactions_mifsud_r3\"\n",
    "INTERACTION_FILE = \"../diachrscripts_data/mifsud_2015_hg38/data/gzdir/MIFSUD_R30.interaction.counts.table.gt1.tsv.gz\""
   ]
  },
  {
   "cell_type": "markdown",
   "metadata": {},
   "source": [
    "### Schoenfelder 2015 (Promoter capture Hi-C, mES cells, mm10, HindIII)"
   ]
  },
  {
   "cell_type": "code",
   "execution_count": null,
   "metadata": {},
   "outputs": [],
   "source": [
    "# Create output directory\n",
    "!mkdir -p ../results/schoenefelder/simulated_interactions"
   ]
  },
  {
   "cell_type": "markdown",
   "metadata": {},
   "source": [
    "#### Replicate 1"
   ]
  },
  {
   "cell_type": "code",
   "execution_count": 3,
   "metadata": {},
   "outputs": [],
   "source": [
    "OUT_PREFIX = \"../results/schoenefelder/simulated_interactions/simulated_interactions_schoenefelder_r1\"\n",
    "INTERACTION_FILE = \"../diachrscripts_data/schoenefelder_2015_mm10/data/gzdir/SCHOEN_R10.interaction.counts.table.gt1.tsv.gz"
   ]
  },
  {
   "cell_type": "markdown",
   "metadata": {},
   "source": [
    "#### Replicate 2"
   ]
  },
  {
   "cell_type": "code",
   "execution_count": 3,
   "metadata": {},
   "outputs": [],
   "source": [
    "OUT_PREFIX = \"../results/schoenefelder/simulated_interactions/simulated_interactions_schoenefelder_r2\"\n",
    "INTERACTION_FILE = \"../diachrscripts_data/schoenefelder_2015_mm10/data/gzdir/SCHOEN_R20.interaction.counts.table.gt1.tsv.gz"
   ]
  },
  {
   "cell_type": "markdown",
   "metadata": {},
   "source": [
    "### Chesi 2019 (Promoter Capture-C, BMP2 induced osteoblasts and HepG2 cells, hg38, DpnII)"
   ]
  },
  {
   "cell_type": "markdown",
   "metadata": {},
   "source": [
    "#### Replicate 1"
   ]
  },
  {
   "cell_type": "markdown",
   "metadata": {},
   "source": [
    "## Perform analysis"
   ]
  },
  {
   "cell_type": "code",
   "execution_count": 49,
   "metadata": {},
   "outputs": [
    {
     "name": "stdout",
     "output_type": "stream",
     "text": [
      "[INFO] Input parameters\n",
      "\t[INFO] Analysis for: ../results/mifsud/simulated_interactions/simulated_interactions_mifsud_r1\n",
      "\t[INFO] Interaction file: ../diachrscripts_data/mifsud_2015_hg38/data/gzdir/MIFSUD_R10.interaction.counts.table.gt1.tsv.gz\n",
      "[INFO] Simulating random simple twisted read pairs for each interaction in ../diachrscripts_data/mifsud_2015_hg38/data/gzdir/MIFSUD_R10.interaction.counts.table.gt1.tsv.gz ...\n",
      "\t[INFO] 0 interactions processed ...\n",
      "\t[INFO] 1000000 interactions processed ...\n",
      "... done.\n",
      "[INFO] Summary statistics\n",
      "\t[INFO] Total number of interactions: 1175807\n",
      "\t[INFO] Number of trans short range interactions (discarded): 181256\n",
      "\t[INFO] Number of simple interactions (original vs. simulated): 3919\t2637\n",
      "\t[INFO] Number of twisted interactions (original vs. simulated): 3380\t2731\n",
      "\t[INFO] Number of undirected interactions (original vs. simulated): 104692\t106623\n",
      "\t[INFO] Number of indefinable interactions (original vs. simulated): 882560\t882560\n",
      "[INFO] Writing numpy arrays with distances to disk ...\n",
      "[INFO] ... done.\n",
      "[INFO] Two files with interactions were generated:\n",
      "\t[INFO] Original interactions with P-values: ../results/mifsud/simulated_interactions/simulated_interactions_mifsud_r1_original_interactions.tsv.gz\n",
      "\t[INFO] Simulated interactions with P-values: ../results/mifsud/simulated_interactions/simulated_interactions_mifsud_r1_simulated_interactions.tsv.gz\n",
      "[INFO] Two numpy arrays with P-values were saved to disk:\n",
      "\t[INFO] P-values of original data: ../results/mifsud/simulated_interactions/simulated_interactions_mifsud_r1_original_pvals\n",
      "\t[INFO] P-values of simulated data: ../results/mifsud/simulated_interactions/simulated_interactions_mifsud_r1_simulated_pvals\n"
     ]
    }
   ],
   "source": [
    "# Run Python script\n",
    "!python ../simulate_interactions_script.py --out-prefix $OUT_PREFIX --interaction-file $INTERACTION_FILE"
   ]
  },
  {
   "cell_type": "code",
   "execution_count": 12,
   "metadata": {},
   "outputs": [],
   "source": [
    "# Load modules\n",
    "import numpy as np\n",
    "from scipy import stats\n",
    "import matplotlib.pyplot as plt\n",
    "import pylab"
   ]
  },
  {
   "cell_type": "code",
   "execution_count": 6,
   "metadata": {},
   "outputs": [],
   "source": [
    "# Load saved numpy arrays from disk\n",
    "array_path = OUT_PREFIX + \"_original_pvals.npy\"\n",
    "pval_array_original = np.load(array_path)\n",
    "array_path = OUT_PREFIX + \"_simulated_pvals.npy\"\n",
    "pval_array_simulated = np.load(array_path)"
   ]
  },
  {
   "cell_type": "code",
   "execution_count": 45,
   "metadata": {},
   "outputs": [
    {
     "data": {
      "text/plain": [
       "[(0, 1), Text(0, 0.5, 'Simulated data'), (0, 1), Text(0.5, 0, 'Original data')]"
      ]
     },
     "execution_count": 45,
     "metadata": {},
     "output_type": "execute_result"
    },
    {
     "data": {
      "image/png": "[encoded data removed]",
      "text/plain": [
       "<Figure size 432x432 with 1 Axes>"
      ]
     },
     "metadata": {
      "needs_background": "light"
     },
     "output_type": "display_data"
    }
   ],
   "source": [
    "# Create scatterplot of original and simulated data for the range 0.0, ..., 1.0\n",
    "f, ax = plt.subplots(figsize=(6, 6))\n",
    "ax.scatter(np.sort(pval_array_original), np.sort(pval_array_simulated), c=\".3\")\n",
    "ax.plot([0, 1], [0, 1], ls=\"--\", c=\".3\")\n",
    "ax.set(xlim=(0, 1), ylim=(0, 1), xlabel=\"Original data\", ylabel=\"Simulated data\")"
   ]
  },
  {
   "cell_type": "code",
   "execution_count": 48,
   "metadata": {},
   "outputs": [
    {
     "data": {
      "text/plain": [
       "[(0, 0.1),\n",
       " Text(0, 0.5, 'Simulated data'),\n",
       " (0, 0.1),\n",
       " Text(0.5, 0, 'Original data')]"
      ]
     },
     "execution_count": 48,
     "metadata": {},
     "output_type": "execute_result"
    },
    {
     "data": {
      "image/png": "[encoded data removed]",
      "text/plain": [
       "<Figure size 432x432 with 1 Axes>"
      ]
     },
     "metadata": {
      "needs_background": "light"
     },
     "output_type": "display_data"
    }
   ],
   "source": [
    "# Create scatterplot of original and simulated data for the range 0.0, ..., 0.1\n",
    "f, ax = plt.subplots(figsize=(6, 6))\n",
    "ax.scatter(np.sort(pval_array_original), np.sort(pval_array_simulated), c=\".3\")\n",
    "ax.plot([0, 0.1], [0, 0.1], ls=\"--\", c=\".3\")\n",
    "ax.set(xlim=(0, 0.1), ylim=(0, 0.1), xlabel=\"Original data\", ylabel=\"Simulated data\")"
   ]
  },
  {
   "cell_type": "code",
   "execution_count": 32,
   "metadata": {},
   "outputs": [
    {
     "data": {
      "text/plain": [
       "((array([6.96944590e-07, 1.69171755e-06, 2.69719604e-06, ...,\n",
       "         9.99997303e-01, 9.99998308e-01, 9.99999303e-01]),\n",
       "  array([1.11022302e-16, 1.11022302e-16, 4.06896739e-13, ...,\n",
       "         7.50000000e-01, 7.50000000e-01, 7.50000000e-01])),\n",
       " (0.7689475236861079, 0.06054447404482394, 0.9528224491786607))"
      ]
     },
     "execution_count": 32,
     "metadata": {},
     "output_type": "execute_result"
    },
    {
     "data": {
      "image/png": "[encoded data removed]",
      "text/plain": [
       "<Figure size 432x288 with 1 Axes>"
      ]
     },
     "metadata": {
      "needs_background": "light"
     },
     "output_type": "display_data"
    }
   ],
   "source": [
    "stats.probplot(pval_array_original, dist=\"uniform\", plot=pylab)"
   ]
  },
  {
   "cell_type": "code",
   "execution_count": 33,
   "metadata": {},
   "outputs": [
    {
     "data": {
      "text/plain": [
       "((array([6.96944590e-07, 1.69171755e-06, 2.69719604e-06, ...,\n",
       "         9.99997303e-01, 9.99998308e-01, 9.99999303e-01]),\n",
       "  array([2.44140625e-04, 4.55260277e-04, 4.88281250e-04, ...,\n",
       "         7.50000000e-01, 7.50000000e-01, 7.50000000e-01])),\n",
       " (0.7721901603225021, 0.0764147499339885, 0.955776935567964))"
      ]
     },
     "execution_count": 33,
     "metadata": {},
     "output_type": "execute_result"
    },
    {
     "data": {
      "image/png": "[encoded data removed]",
      "text/plain": [
       "<Figure size 432x288 with 1 Axes>"
      ]
     },
     "metadata": {
      "needs_background": "light"
     },
     "output_type": "display_data"
    }
   ],
   "source": [
    "stats.probplot(pval_array_simulated, dist=\"uniform\", plot=pylab)"
   ]
  }
 ],
 "metadata": {
  "kernelspec": {
   "display_name": "Python 3 (diachscripts_env)",
   "language": "python",
   "name": "diachscripts_env"
  },
  "language_info": {
   "codemirror_mode": {
    "name": "ipython",
    "version": 3
   },
   "file_extension": ".py",
   "mimetype": "text/x-python",
   "name": "python",
   "nbconvert_exporter": "python",
   "pygments_lexer": "ipython3",
   "version": "3.7.4"
  }
 },
 "nbformat": 4,
 "nbformat_minor": 2
}
