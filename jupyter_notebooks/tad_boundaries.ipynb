{
 "cells": [
  {
   "cell_type": "code",
   "execution_count": 1,
   "id": "b748639f",
   "metadata": {},
   "outputs": [],
   "source": [
    "import sys\n",
    "import os\n",
    "import numpy as np\n",
    "sys.path.append(\"..\")\n",
    "from diachr import TadBoundarySet\n",
    "from diachr import DiachromaticInteractionSet\n",
    "from scipy import stats\n",
    "import random"
   ]
  },
  {
   "cell_type": "markdown",
   "id": "b529bda8",
   "metadata": {},
   "source": [
    "# Realtionship between interactions and TAD boundaries\n",
    "\n",
    "The aim here is to investigate the relationship between interactions and TADs. For this purpose, there is the module `TadBoundarySet`, which contains TAD boundaries and supports two functions:\n",
    "\n",
    "1. `get_distance_to_nearest_tad_boundary(chr, pos) -> distance_to_next_tad`\n",
    "2. `get_number_of_boundaries_spanned_by_region(chr, sta_pos, end_pos) -> number_of_spanned_tads`\n",
    "\n",
    "The first function returns the distance to the next TAD boudary for a given position. The second function returns the number of TAD boundaries that are spanned by a given region. To process the interactions, the module `DiachromaticInteractionSet` is used."
   ]
  },
  {
   "cell_type": "markdown",
   "id": "fatal-declaration",
   "metadata": {},
   "source": [
    "## Input data"
   ]
  },
  {
   "cell_type": "markdown",
   "id": "3460f92f",
   "metadata": {},
   "source": [
    "There is one CHC dataset for each of the 17 cell types and, for eight of the cell types, there are HC data and TAD boundaries."
   ]
  },
  {
   "cell_type": "code",
   "execution_count": 2,
   "id": "251390d5",
   "metadata": {},
   "outputs": [],
   "source": [
    "#CELL_TYPE_SHORT = 'MK'            # Has HC data\n",
    "#CELL_TYPE_SHORT = 'ERY'           # Has HC data\n",
    "#CELL_TYPE_SHORT = 'NEU'           # Has HC data\n",
    "#CELL_TYPE_SHORT = 'MON'           # Has HC data\n",
    "CELL_TYPE_SHORT = 'MAC_M0'        # Has HC data\n",
    "#CELL_TYPE_SHORT = 'MAC_M1'\n",
    "#CELL_TYPE_SHORT = 'MAC_M2'\n",
    "#CELL_TYPE_SHORT = 'EP'\n",
    "#CELL_TYPE_SHORT = 'NB'            # Has HC data\n",
    "#CELL_TYPE_SHORT = 'TB'\n",
    "#CELL_TYPE_SHORT = 'FOET'\n",
    "#CELL_TYPE_SHORT = 'NCD4'          # Has HC data\n",
    "#CELL_TYPE_SHORT = 'TCD4'\n",
    "#CELL_TYPE_SHORT = 'NACD4'\n",
    "#CELL_TYPE_SHORT = 'ACD4'\n",
    "#CELL_TYPE_SHORT = 'NCD8'          # Has HC data\n",
    "#CELL_TYPE_SHORT = 'TCD8'"
   ]
  },
  {
   "cell_type": "markdown",
   "id": "5ee50bb1",
   "metadata": {},
   "source": [
    "A `TadBoundarySet` can be created with one of the eight BED files with the published TADs or a BED file with TAD boundaries from all eight cell types that was created using `BedTools`. See bash script in: `../additional_files/javierre_2016/tad_regions_hg38/`."
   ]
  },
  {
   "cell_type": "code",
   "execution_count": 16,
   "id": "2b00c078",
   "metadata": {},
   "outputs": [],
   "source": [
    "#tad_boundary_bed_file = '../additional_files/javierre_2016/tad_regions_hg38/hglft_genome_TADs_' + CELL_TYPE_SHORT + '_hg38.bed'\n",
    "#tad_boundary_bed_file = '../additional_files/javierre_2016/tad_regions_hg38/hglft_genome_TADs_' + 'NEU' + '_hg38.bed'\n",
    "#tad_boundary_bed_file = '../additional_files/javierre_2016/tad_regions_hg38/hglft_genome_TADs_' + 'MK' + '_hg38.bed'\n",
    "tad_boundary_bed_file = '../additional_files/javierre_2016/tad_regions_hg38/merged_tad_boundary_centers.bed'"
   ]
  },
  {
   "cell_type": "code",
   "execution_count": 19,
   "id": "molecular-alexandria",
   "metadata": {},
   "outputs": [
    {
     "name": "stdout",
     "output_type": "stream",
     "text": [
      "TadBoundarySet has 12949 boundaries.\n"
     ]
    }
   ],
   "source": [
    "chr_size_file = '../additional_files/hg38.chrom.sizes.txt'\n",
    "tbs = TadBoundarySet(tad_boundary_bed_file = tad_boundary_bed_file, chr_size_file = chr_size_file)\n",
    "print('TadBoundarySet has ' + str(tbs.n_tad_boundaries) + ' boundaries.')"
   ]
  },
  {
   "cell_type": "markdown",
   "id": "65ff0ad7",
   "metadata": {},
   "source": [
    "Read an interaction file that was created with `DICer`."
   ]
  },
  {
   "cell_type": "code",
   "execution_count": 5,
   "id": "084c51ba",
   "metadata": {
    "scrolled": true
   },
   "outputs": [
    {
     "name": "stdout",
     "output_type": "stream",
     "text": [
      "[INFO] Parsing Diachromatic interaction file ...\n",
      "\t[INFO] ../DICer_interactions/HT/FDR005/CHC/JAV_MAC_M0_RALT_20000_ht_fdr0.05_evaluated_and_categorized_interactions.tsv.gz\n",
      "\t[INFO] Parsed 1,000,000 interaction lines ...\n",
      "\t[INFO] Parsed 2,000,000 interaction lines ...\n",
      "\t[INFO] Parsed 3,000,000 interaction lines ...\n",
      "\t[INFO] Parsed 4,000,000 interaction lines ...\n",
      "\t[INFO] Parsed 5,000,000 interaction lines ...\n",
      "\t[INFO] Parsed 6,000,000 interaction lines ...\n",
      "\t[INFO] Parsed 7,000,000 interaction lines ...\n",
      "\t[INFO] Parsed 8,000,000 interaction lines ...\n",
      "\t[INFO] Parsed 9,000,000 interaction lines ...\n",
      "\t[INFO] Set size: 9,648,210\n",
      "[INFO] ... done.\n"
     ]
    }
   ],
   "source": [
    "PROTOCOL = 'CHC'\n",
    "MIN_I_DIST = '20000'\n",
    "FDR = '05'\n",
    "RPC_RULE = 'ht'\n",
    "if PROTOCOL == 'CHC':\n",
    "    INTERACTION_FILE = '../DICer_interactions/' + RPC_RULE.upper() + '/FDR0' + FDR + '/CHC/JAV_' + CELL_TYPE_SHORT + '_RALT_20000_' + RPC_RULE + '_fdr0.' + FDR + '_evaluated_and_categorized_interactions.tsv.gz'\n",
    "    OUT_PREFIX = 'JAV_' + CELL_TYPE_SHORT + '_CHC_RALT_' + MIN_I_DIST + '_' + RPC_RULE.lower()\n",
    "if PROTOCOL == 'HC':\n",
    "    INTERACTION_FILE = '../DICer_interactions/' + RPC_RULE.upper() + '/FDR0' + FDR + '/HC/' + MIN_I_DIST + '/JAV_' + CELL_TYPE_SHORT + '_HC_RALT_' + MIN_I_DIST + '_' + RPC_RULE + '_fdr0.' + FDR + '_evaluated_and_categorized_interactions.tsv.gz'\n",
    "    OUT_PREFIX = 'JAV_' + CELL_TYPE_SHORT + '_HC_RALT_'  + MIN_I_DIST + '_' + RPC_RULE.lower()\n",
    "if PROTOCOL == 'HC_POOLED':\n",
    "    INTERACTION_FILE = '../DICer_interactions/HT/FDR0' + FDR + '/HC/20000/JAV_ALL_HC_RALL_ALT_20000_ht_fdr0.' + FDR + '_evaluated_and_categorized_interactions.tsv.gz'\n",
    "    OUT_PREFIX = 'JAV_' + 'POOLED_HC_FDR005' + '_HC_RALT_20000_' + RPC_RULE.lower()\n",
    "\n",
    "d11_interaction_set = DiachromaticInteractionSet(rpc_rule = RPC_RULE)\n",
    "d11_interaction_set.parse_file(\n",
    "    i_file = INTERACTION_FILE,\n",
    "    verbose = True)"
   ]
  },
  {
   "cell_type": "markdown",
   "id": "b311bb6b",
   "metadata": {},
   "source": [
    "## Test whether interactions end closer to TAD boundaries than expected by chance\n",
    "\n",
    "We compare the distances to the next TAD for the following interaction categories:\n",
    "\n",
    "1. `DIX`: Imbalanced interactions with high read pair counts and without counterpart in the reference interactions\n",
    "2. `DI`: Imbalanced interactions with counterpart in the reference interactions\n",
    "3. `URI`: Balanced reference interactions (comparable to `DI` with respect to total number and distribution of read pair numbers)\n",
    "4. `UI`: Balanced interactions (remaining powered interactions)\n",
    "5. `ALL`: All interaction categories combined"
   ]
  },
  {
   "cell_type": "markdown",
   "id": "db2e84e3",
   "metadata": {},
   "source": [
    "### Distances between interactions and next TAD boundaries\n",
    "\n",
    "The following function determines the distances of CHC interactions to their next TAD boundary for all interactions and saves them to separate lists for the various interaction categories. For capture Hi-C data, we only consider the distances from the non-enriched (`N`) digest to the next TAD boundary. "
   ]
  },
  {
   "cell_type": "code",
   "execution_count": 6,
   "id": "84a1dc18",
   "metadata": {},
   "outputs": [],
   "source": [
    "def determine_distances_to_next_tad_boundaries_chc(\n",
    "    d11_interaction_set: DiachromaticInteractionSet = None,\n",
    "    tbs: TadBoundarySet = None,\n",
    "    random_range: int = 0):\n",
    "    \n",
    "    # Dictionary with lists of distances between interactions and their next TAD boundaries\n",
    "    ntb_dist_lists = {\n",
    "        'DIX': [],\n",
    "        'DI': [],\n",
    "        'UIR': [],\n",
    "        'UI': [],\n",
    "        'ALL': []\n",
    "    }\n",
    "    for d11_inter in d11_interaction_set._inter_dict.values():\n",
    "        \n",
    "        # This analysis is restricted to NE and EN interactions, which typically make up mor than 90% of CHC data\n",
    "        if d11_inter.enrichment_status_tag_pair == 'EN' or d11_inter.enrichment_status_tag_pair == 'NE':\n",
    "        \n",
    "            # Determine outermost position of the 'N' digest\n",
    "            if d11_inter.enrichment_status_tag_pair == 'NE':\n",
    "                pos = d11_inter.fromA\n",
    "\n",
    "            if d11_inter.enrichment_status_tag_pair == 'EN':\n",
    "                pos = d11_inter.toB\n",
    "\n",
    "            # Determine distance to nearest TAD boundary\n",
    "            dist = tbs.get_distance_to_nearest_tad_boundary(d11_inter.chrA, pos)\n",
    "\n",
    "            # Add determined distance to list\n",
    "            ntb_dist_lists[d11_inter.get_category()].append(dist)\n",
    "            ntb_dist_lists['ALL'].append(dist)     \n",
    "    \n",
    "    return ntb_dist_lists"
   ]
  },
  {
   "cell_type": "markdown",
   "id": "a2566fb3",
   "metadata": {},
   "source": [
    "The following function determines the distances of Hi-C interactions to the next TAD boundary for all interactions and saves them to separate lists for the various interaction categories. For Hi-C data, there are no enriched digests. Therefore, we determine both distances to the next TAD boundary and only add the shorter distance to the list."
   ]
  },
  {
   "cell_type": "code",
   "execution_count": 7,
   "id": "8a2bcba0",
   "metadata": {},
   "outputs": [],
   "source": [
    "def determine_distances_to_next_tad_boundaries_hc(\n",
    "    d11_interaction_set: DiachromaticInteractionSet = None,\n",
    "    tbs: TadBoundarySet = None):\n",
    "    \n",
    "    # Dictionary with lists of distances to nearest TAD boundary\n",
    "    ntb_dist_lists = {\n",
    "        'DIX': [],\n",
    "        'DI': [],\n",
    "        'UIR': [],\n",
    "        'UI': [],\n",
    "        'ALL': []\n",
    "    }\n",
    "    for d11_inter in d11_interaction_set._inter_dict.values():\n",
    "        \n",
    "        pos_1 = d11_inter.fromA\n",
    "        pos_2 = d11_inter.toB\n",
    "\n",
    "        # Determine distance to nearest TAD boundary\n",
    "        dist_1 = tbs.get_distance_to_nearest_tad_boundary(d11_inter.chrA, pos_1)\n",
    "        dist_2 = tbs.get_distance_to_nearest_tad_boundary(d11_inter.chrA, pos_2)\n",
    "        dist = min(dist_1, dist_2)\n",
    "\n",
    "        # Add determined distance to list\n",
    "        ntb_dist_lists[d11_inter.get_category()].append(dist)\n",
    "        ntb_dist_lists['ALL'].append(dist)     \n",
    "    \n",
    "    return ntb_dist_lists"
   ]
  },
  {
   "cell_type": "markdown",
   "id": "distinct-insert",
   "metadata": {},
   "source": [
    "This function wraps the two functions from above into one function. Depending on which protocol has been selected, either the one or the other funtion is used."
   ]
  },
  {
   "cell_type": "code",
   "execution_count": 8,
   "id": "9459ad21",
   "metadata": {},
   "outputs": [],
   "source": [
    "def determine_distances_to_next_tad_boundaries(\n",
    "    d11_interaction_set: DiachromaticInteractionSet=None,\n",
    "    tbs: TadBoundarySet = None,\n",
    "    protocol: str = 'CHC',\n",
    "    random_range: int = 0):\n",
    "    \n",
    "    if protocol == 'CHC':\n",
    "        return determine_distances_to_next_tad_boundaries_chc(\n",
    "            d11_interaction_set = d11_interaction_set,\n",
    "            tbs = tbs,\n",
    "            random_range = random_range)\n",
    "    elif protocol == 'HC' or protocol == 'HC_POOLED':\n",
    "        return determine_distances_to_next_tad_boundaries_hc(\n",
    "            d11_interaction_set = d11_interaction_set,\n",
    "            tbs = tbs)"
   ]
  },
  {
   "cell_type": "markdown",
   "id": "confidential-block",
   "metadata": {},
   "source": [
    "The following code determines the medians for the observed distances between interactions and the next TAD."
   ]
  },
  {
   "cell_type": "code",
   "execution_count": 9,
   "id": "noble-deadline",
   "metadata": {},
   "outputs": [],
   "source": [
    "def determine_median_distances_to_next_tad_boundaries(\n",
    "    d11_interaction_set: DiachromaticInteractionSet = None,\n",
    "    tbs: TadBoundarySet = None,\n",
    "    protocol: str = 'CHC',\n",
    "    random_range: int = 0):\n",
    "    \n",
    "    # Get lists of distances between interactions and their next TAD boundary\n",
    "    ntb_dist_lists = determine_distances_to_next_tad_boundaries(\n",
    "        d11_interaction_set = d11_interaction_set,\n",
    "        tbs = tbs,\n",
    "        protocol = protocol,\n",
    "        random_range = random_range)\n",
    "\n",
    "    # Determine median distances for all interaction categories\n",
    "    ntb_dist_medians = {}\n",
    "    ntb_dist_i_nums = {}\n",
    "    for i_cat in ['DIX', 'DI', 'UIR', 'UI', 'ALL']:\n",
    "        ntb_dist_medians[i_cat] = np.median(ntb_dist_lists[i_cat])\n",
    "        ntb_dist_i_nums[i_cat] = len(ntb_dist_lists[i_cat])\n",
    "\n",
    "    # Determine difference in median distances between DI and UIR (same number of interactions)\n",
    "    if ntb_dist_i_nums['DI'] == ntb_dist_i_nums['UIR']:\n",
    "        ntb_dist_i_nums['DI-UIR'] = ntb_dist_i_nums['DI']\n",
    "        ntb_dist_medians['DI-UIR'] = ntb_dist_medians['DI'] - ntb_dist_medians['UIR']\n",
    "    else:\n",
    "        print(\"[ERROR] DI and UIR must have the same number of interactions!\")\n",
    "\n",
    "    return ntb_dist_medians, ntb_dist_i_nums"
   ]
  },
  {
   "cell_type": "markdown",
   "id": "breeding-citizen",
   "metadata": {},
   "source": [
    "In the following cell, an `TadBoundarySet` is created and the medians of distances to the next TAD boundaries are determined for each interaction category."
   ]
  },
  {
   "cell_type": "code",
   "execution_count": 10,
   "id": "brown-safety",
   "metadata": {},
   "outputs": [
    {
     "name": "stdout",
     "output_type": "stream",
     "text": [
      "Observed\n",
      "{'DIX': 107465.0, 'DI': 118282.0, 'UIR': 124185.0, 'UI': 130412.0, 'ALL': 120208.0, 'DI-UIR': -5903.0}\n",
      "\n"
     ]
    }
   ],
   "source": [
    "# Create a TAD boundary set\n",
    "tbs = TadBoundarySet(tad_boundary_bed_file = tad_boundary_bed_file, chr_size_file = chr_size_file)\n",
    "\n",
    "# Determine median distances to next TAD boundaries\n",
    "ntb_dist_medians, ntb_dist_i_nums = determine_median_distances_to_next_tad_boundaries(\n",
    "    d11_interaction_set = d11_interaction_set,\n",
    "    tbs = tbs,\n",
    "    protocol = PROTOCOL)\n",
    "print('Observed')\n",
    "print(ntb_dist_medians)\n",
    "print()"
   ]
  },
  {
   "cell_type": "markdown",
   "id": "40801929",
   "metadata": {},
   "source": [
    "### Randomize TAD boundaries\n",
    "\n",
    "The aim here is to investigate whether capture Hi-C or Hi-C interactions for a given cell type are indpendent of the corresponding TAD boundaries or not. To do this, we first determine the distance from each interaction to the next TAD boundary, sepeartely for each interaction category (using the function above). From these distances, we determine the median for each interaction category."
   ]
  },
  {
   "cell_type": "markdown",
   "id": "c05385ac",
   "metadata": {},
   "source": [
    "Then we randomize the TAD boundaries by selecting the appropriate number of random TAD boundary positions for each chromosome and again determine the median distances from interactions to the next (randomized) TAD boundary. We perform `iter_num` iterations of this procedure, which gives us `iter_num` median distances for each interaction category. For these median distances, we calculate the mean, the standard deviation and finally the Z-score."
   ]
  },
  {
   "cell_type": "code",
   "execution_count": 11,
   "id": "088fe2a6",
   "metadata": {},
   "outputs": [],
   "source": [
    "iter_num = 10"
   ]
  },
  {
   "cell_type": "markdown",
   "id": "hawaiian-bloom",
   "metadata": {},
   "source": [
    "We have implmented two approaches for the randomization of TAD boundaries:\n",
    "\n",
    "1. For each chromosome, a corresponding number of random positions is randomly selected from the entire sequence of the chromosome.\n",
    "2. For each TAD boundary, a random postion is selected from the sourrounding sequence."
   ]
  },
  {
   "cell_type": "markdown",
   "id": "63d216f6",
   "metadata": {},
   "source": [
    "#### Approach 1: Randomly select from entire sequence\n",
    "\n",
    "For each chromosome, a corresponding number of random TAD boundaries is randomly selected from the entire sequence of the chromosome. For this randomization procedure, we have to call the function `TadBoundarySet.get_randomized_tad_boundary_set()` with `random_range = 0` in each iteration."
   ]
  },
  {
   "cell_type": "code",
   "execution_count": 12,
   "id": "adverse-patio",
   "metadata": {},
   "outputs": [],
   "source": [
    "random_range = 0"
   ]
  },
  {
   "cell_type": "code",
   "execution_count": 13,
   "id": "8658ce5b",
   "metadata": {
    "scrolled": true
   },
   "outputs": [],
   "source": [
    "def perform_tad_boundary_randomization(iter_num,\n",
    "                                       d11_interaction_set,\n",
    "                                       tad_boundary_set,\n",
    "                                       random_range,\n",
    "                                       protocol,\n",
    "                                       randomize_interaction_ends = False):\n",
    "\n",
    "    print('Randomization')\n",
    "    ntb_dist_medians_random_dict = {\n",
    "        'DIX': {\n",
    "            'I_NUMS': None,\n",
    "            'MEDIANS': [],\n",
    "        },\n",
    "        'DI': {\n",
    "            'I_NUMS': None,\n",
    "            'MEDIANS': [],\n",
    "        },\n",
    "        'UIR': {\n",
    "            'I_NUMS': None,\n",
    "            'MEDIANS': [],\n",
    "        },\n",
    "        'UI': {\n",
    "            'I_NUMS': None,\n",
    "            'MEDIANS': [],\n",
    "        },\n",
    "        'ALL': {\n",
    "            'I_NUMS': None,\n",
    "            'MEDIANS': [],\n",
    "        },\n",
    "        'DI-UIR': {\n",
    "            'I_NUMS': None,\n",
    "            'MEDIANS': []\n",
    "        }\n",
    "    }\n",
    "    for random_seed in range(0, iter_num):\n",
    "\n",
    "        # Select type of randomization\n",
    "        if not randomize_interaction_ends:\n",
    "            # Randomize TAD boundaries and not interaction ends\n",
    "            iter_tbs = tbs.get_randomized_tad_boundary_set(random_seed=random_seed, random_range=random_range)\n",
    "            random_range_interaction_ends = 0\n",
    "        else:\n",
    "            # Randomize interaction ends and not TAD boundaries \n",
    "            iter_tbs = tad_boundary_set\n",
    "            random_range_interaction_ends = random_range\n",
    "            \n",
    "        # Determine median distances to next randomized TAD boundaries\n",
    "        ntb_dist_medians_random, ntb_dist_i_nums_random = determine_median_distances_to_next_tad_boundaries(\n",
    "        d11_interaction_set = d11_interaction_set,\n",
    "        tbs = iter_tbs,\n",
    "        protocol = PROTOCOL,\n",
    "        random_range = random_range_interaction_ends)\n",
    "\n",
    "        # Append median distances and interaction numbers to lists\n",
    "        for i_cat in ['DIX', 'DI', 'UIR', 'UI', 'ALL', 'DI-UIR']:\n",
    "            ntb_dist_medians_random_dict[i_cat]['I_NUMS'] = ntb_dist_i_nums_random[i_cat]\n",
    "            ntb_dist_medians_random_dict[i_cat]['MEDIANS'].append(ntb_dist_medians_random[i_cat])\n",
    "\n",
    "        print(ntb_dist_medians_random)\n",
    "    \n",
    "    print(\"Done.\")\n",
    "    return ntb_dist_medians_random_dict"
   ]
  },
  {
   "cell_type": "code",
   "execution_count": 14,
   "id": "strange-representative",
   "metadata": {},
   "outputs": [
    {
     "name": "stdout",
     "output_type": "stream",
     "text": [
      "Observed\n",
      "{'DIX': 107465.0, 'DI': 118282.0, 'UIR': 124185.0, 'UI': 130412.0, 'ALL': 120208.0, 'DI-UIR': -5903.0}\n",
      "\n",
      "Randomization\n",
      "{'DIX': 149780.0, 'DI': 150126.0, 'UIR': 149055.0, 'UI': 149767.0, 'ALL': 149610.0, 'DI-UIR': 1071.0}\n",
      "{'DIX': 146017.0, 'DI': 147986.5, 'UIR': 147368.0, 'UI': 147500.0, 'ALL': 147431.0, 'DI-UIR': 618.5}\n",
      "{'DIX': 147512.0, 'DI': 147739.0, 'UIR': 147349.0, 'UI': 147125.0, 'ALL': 147501.0, 'DI-UIR': 390.0}\n",
      "{'DIX': 148141.5, 'DI': 148589.0, 'UIR': 147193.0, 'UI': 147987.0, 'ALL': 147920.0, 'DI-UIR': 1396.0}\n",
      "{'DIX': 146127.0, 'DI': 147328.0, 'UIR': 147160.0, 'UI': 146920.0, 'ALL': 147064.0, 'DI-UIR': 168.0}\n",
      "{'DIX': 149312.0, 'DI': 148665.0, 'UIR': 149120.0, 'UI': 149388.0, 'ALL': 149017.0, 'DI-UIR': -455.0}\n",
      "{'DIX': 149314.0, 'DI': 150238.5, 'UIR': 148993.0, 'UI': 148455.0, 'ALL': 149447.0, 'DI-UIR': 1245.5}\n",
      "{'DIX': 148817.5, 'DI': 149612.5, 'UIR': 149131.0, 'UI': 149309.0, 'ALL': 149299.0, 'DI-UIR': 481.5}\n",
      "{'DIX': 148339.5, 'DI': 148569.5, 'UIR': 148340.0, 'UI': 147977.0, 'ALL': 148369.0, 'DI-UIR': 229.5}\n",
      "{'DIX': 146535.5, 'DI': 145594.0, 'UIR': 146104.0, 'UI': 146844.0, 'ALL': 146034.0, 'DI-UIR': -510.0}\n",
      "Done.\n"
     ]
    }
   ],
   "source": [
    "print('Observed')\n",
    "print(ntb_dist_medians)\n",
    "print()\n",
    "ntb_dist_medians_random_dict = perform_tad_boundary_randomization(\n",
    "    iter_num = iter_num,\n",
    "    d11_interaction_set = d11_interaction_set,\n",
    "    tad_boundary_set = tbs,\n",
    "    random_range = 0,\n",
    "    protocol = PROTOCOL)"
   ]
  },
  {
   "cell_type": "markdown",
   "id": "088de57a",
   "metadata": {},
   "source": [
    "Calculate Z-score and write out the results in table format."
   ]
  },
  {
   "cell_type": "code",
   "execution_count": 15,
   "id": "04a094c8",
   "metadata": {},
   "outputs": [
    {
     "name": "stdout",
     "output_type": "stream",
     "text": [
      "JAV_MK_CHC_RALT_20000_ht\n",
      "Interaction file:\n",
      "\t../DICer_interactions/HT/FDR005/CHC/JAV_MK_RALT_20000_ht_fdr0.05_evaluated_and_categorized_interactions.tsv.gz\n",
      "BED file with TAD boundaries:\n",
      "\t../additional_files/javierre_2016/tad_regions_hg38/hglft_genome_TADs_MK_hg38.bed\n",
      "Number of iterations: 10\n",
      "Random range: 0\n",
      "\n",
      "I_CAT\tI_NUMS\tOBS\tMEAN_RAND\tSTD_RAND\tZ_SCORE\tST_OBS\n",
      "DIX\t1055134\t107465.0\t147989.6\t1313.1\t-30.86\t0/10\n",
      "DI\t3008766\t118282.0\t148444.8\t1325.7\t-22.75\t0/10\n",
      "UIR\t3008766\t124185.0\t147981.3\t1025.7\t-23.20\t0/10\n",
      "UI\t884785\t130412.0\t148127.2\t1016.2\t-17.43\t0/10\n",
      "ALL\t7957451\t120208.0\t148169.2\t1121.5\t-24.93\t0/10\n",
      "DI-UIR\t3008766\t-5903.0\t463.5\t617.5\t-10.31\t0/10\n"
     ]
    }
   ],
   "source": [
    "print(OUT_PREFIX)\n",
    "print('Interaction file:\\n\\t' + INTERACTION_FILE)\n",
    "print('BED file with TAD boundaries:\\n\\t' + tad_boundary_bed_file)\n",
    "print('Number of iterations: ' + str(iter_num))\n",
    "print('Random range: ' + str(random_range))\n",
    "print()\n",
    "\n",
    "def get_randomization_results_table(ntb_dist_medians, ntb_dist_medians_random_dict):\n",
    "    print('I_CAT\\tI_NUMS\\tOBS\\tMEAN_RAND\\tSTD_RAND\\tZ_SCORE\\tST_OBS')\n",
    "    for i_cat in ['DIX', 'DI', 'UIR', 'UI', 'ALL', 'DI-UIR']:\n",
    "        i_num = ntb_dist_medians_random_dict[i_cat]['I_NUMS']\n",
    "        observed = ntb_dist_medians[i_cat]\n",
    "        mean = np.mean(ntb_dist_medians_random_dict[i_cat]['MEDIANS'])\n",
    "        std = np.std(ntb_dist_medians_random_dict[i_cat]['MEDIANS'])\n",
    "        z_score = (observed - mean) / std\n",
    "        # Find number of smaller than observed\n",
    "        st_obs = 0\n",
    "        for median in ntb_dist_medians_random_dict[i_cat]['MEDIANS']:\n",
    "            if median < observed:\n",
    "                st_obs += 1\n",
    "        print(i_cat + '\\t' + str(i_num) + '\\t' + str(observed) + '\\t' + \"{:.1f}\".format(mean) + '\\t' + \"{:.1f}\".format(std) + '\\t' + \"{:.2f}\".format(z_score) + '\\t' + str(st_obs) + '/' + str(iter_num))\n",
    "\n",
    "get_randomization_results_table(ntb_dist_medians = ntb_dist_medians,\n",
    "                                ntb_dist_medians_random_dict = ntb_dist_medians_random_dict)\n"
   ]
  },
  {
   "cell_type": "markdown",
   "id": "65f6e36d",
   "metadata": {},
   "source": [
    "#### Approach 2: Randomly select from surrounding sequence\n",
    "\n",
    "Instead of picking a random TAD boundary positions from the entire chromosome, we now do the following. For each TAD boundary, a random postion is selected from the sourrounding sequence. To do this, we create a new `TadBoundarySet` and set the `random_range` that can be used to control the width of the sourrounding sequence from `0` to `100000`."
   ]
  },
  {
   "cell_type": "code",
   "execution_count": 16,
   "id": "21536f1d",
   "metadata": {},
   "outputs": [
    {
     "name": "stdout",
     "output_type": "stream",
     "text": [
      "Observed\n",
      "{'DIX': 107465.0, 'DI': 118282.0, 'UIR': 124185.0, 'UI': 130412.0, 'ALL': 120208.0, 'DI-UIR': -5903.0}\n",
      "\n",
      "Randomization\n",
      "{'DIX': 115537.5, 'DI': 121213.0, 'UIR': 124805.0, 'UI': 127423.0, 'ALL': 122391.0, 'DI-UIR': -3592.0}\n",
      "{'DIX': 113138.0, 'DI': 120607.0, 'UIR': 123766.0, 'UI': 126450.0, 'ALL': 121305.0, 'DI-UIR': -3159.0}\n",
      "{'DIX': 116518.0, 'DI': 122108.0, 'UIR': 125111.0, 'UI': 127726.0, 'ALL': 123048.0, 'DI-UIR': -3003.0}\n",
      "{'DIX': 117069.0, 'DI': 123553.0, 'UIR': 125104.0, 'UI': 126511.0, 'ALL': 123609.0, 'DI-UIR': -1551.0}\n",
      "{'DIX': 116091.0, 'DI': 122701.5, 'UIR': 125556.0, 'UI': 127675.0, 'ALL': 123400.0, 'DI-UIR': -2854.5}\n",
      "{'DIX': 116766.5, 'DI': 122887.0, 'UIR': 125486.0, 'UI': 127180.0, 'ALL': 123483.0, 'DI-UIR': -2599.0}\n",
      "{'DIX': 116318.5, 'DI': 122904.0, 'UIR': 125400.0, 'UI': 127808.0, 'ALL': 123445.0, 'DI-UIR': -2496.0}\n",
      "{'DIX': 116029.0, 'DI': 122315.0, 'UIR': 125018.0, 'UI': 127603.0, 'ALL': 123018.0, 'DI-UIR': -2703.0}\n",
      "{'DIX': 115053.0, 'DI': 121099.0, 'UIR': 123730.0, 'UI': 126643.0, 'ALL': 121871.0, 'DI-UIR': -2631.0}\n",
      "{'DIX': 116554.0, 'DI': 122263.0, 'UIR': 124397.0, 'UI': 126348.0, 'ALL': 122717.0, 'DI-UIR': -2134.0}\n",
      "Done.\n"
     ]
    }
   ],
   "source": [
    "# Set random range\n",
    "random_range = 1000000\n",
    "\n",
    "print('Observed')\n",
    "print(ntb_dist_medians)\n",
    "print()\n",
    "ntb_dist_medians_random_dict = perform_tad_boundary_randomization(\n",
    "    iter_num = 10,\n",
    "    d11_interaction_set = d11_interaction_set,\n",
    "    tad_boundary_set = tbs,\n",
    "    random_range = random_range,\n",
    "    protocol = PROTOCOL)"
   ]
  },
  {
   "cell_type": "code",
   "execution_count": 17,
   "id": "cd226e6d",
   "metadata": {
    "scrolled": false
   },
   "outputs": [
    {
     "name": "stdout",
     "output_type": "stream",
     "text": [
      "JAV_MK_CHC_RALT_20000_ht\n",
      "Interaction file:\n",
      "\t../DICer_interactions/HT/FDR005/CHC/JAV_MK_RALT_20000_ht_fdr0.05_evaluated_and_categorized_interactions.tsv.gz\n",
      "BED file with TAD boundaries:\n",
      "\t../additional_files/javierre_2016/tad_regions_hg38/hglft_genome_TADs_MK_hg38.bed\n",
      "Number of iterations: 10\n",
      "Random range: 1000000\n",
      "\n",
      "I_CAT\tI_NUMS\tOBS\tMEAN_RAND\tSTD_RAND\tZ_SCORE\tST_OBS\n",
      "DIX\t1055134\t107465.0\t115907.4\t1078.5\t-7.83\t0/10\n",
      "DI\t3008766\t118282.0\t122165.1\t882.4\t-4.40\t0/10\n",
      "UIR\t3008766\t124185.0\t124837.3\t632.6\t-1.03\t2/10\n",
      "UI\t884785\t130412.0\t127136.7\t558.4\t5.87\t10/10\n",
      "ALL\t7957451\t120208.0\t122828.7\t725.9\t-3.61\t0/10\n",
      "DI-UIR\t3008766\t-5903.0\t-2672.2\t530.2\t-6.09\t0/10\n"
     ]
    }
   ],
   "source": [
    "print(OUT_PREFIX)\n",
    "print('Interaction file:\\n\\t' + INTERACTION_FILE)\n",
    "print('BED file with TAD boundaries:\\n\\t' + tad_boundary_bed_file)\n",
    "print('Number of iterations: ' + str(iter_num))\n",
    "print('Random range: ' + str(random_range))\n",
    "print()\n",
    "get_randomization_results_table(ntb_dist_medians = ntb_dist_medians,\n",
    "                                ntb_dist_medians_random_dict = ntb_dist_medians_random_dict)"
   ]
  },
  {
   "cell_type": "markdown",
   "id": "worse-arrival",
   "metadata": {},
   "source": [
    "The results of the randomization depend heavily on the `random_range` parameter. Here are the results for `1,000,000`, `500,000`, `400,000`, `300,000`, `200,000` and `100,000`.\n",
    "\n",
    "```\n",
    "JAV_MK_CHC_RALT_20000_ht\n",
    "Interaction file:\n",
    "\t../DICer_interactions/HT/FDR005/CHC/JAV_MK_RALT_20000_ht_fdr0.05_evaluated_and_categorized_interactions.tsv.gz\n",
    "BED file with TAD boundaries:\n",
    "\t../additional_files/javierre_2016/tad_regions_hg38/hglft_genome_TADs_MK_hg38.bed\n",
    "Number of iterations: 10\n",
    "-> Random range: 1000000 <-\n",
    "\n",
    "I_CAT\tI_NUMS\tOBS\tMEAN_RAND\tSTD_RAND\tZ_SCORE\tST_OBS\n",
    "DIX\t1055134\t107465.0\t115907.4\t1078.5\t-7.83\t0/10\n",
    "DI\t3008766\t118282.0\t122165.1\t882.4\t-4.40\t0/10\n",
    "UIR\t3008766\t124185.0\t124837.3\t632.6\t-1.03\t2/10\n",
    "UI\t884785\t130412.0\t127136.7\t558.4\t5.87\t10/10\n",
    "ALL\t7957451\t120208.0\t122828.7\t725.9\t-3.61\t0/10\n",
    "DI-UIR\t3008766\t-5903.0\t-2672.2\t530.2\t-6.09\t0/10\n",
    "\n",
    "\n",
    "JAV_MK_CHC_RALT_20000_ht\n",
    "Interaction file:\n",
    "\t../DICer_interactions/HT/FDR005/CHC/JAV_MK_RALT_20000_ht_fdr0.05_evaluated_and_categorized_interactions.tsv.gz\n",
    "BED file with TAD boundaries:\n",
    "\t../additional_files/javierre_2016/tad_regions_hg38/hglft_genome_TADs_MK_hg38.bed\n",
    "Number of iterations: 10\n",
    "-> Random range: 500000 <-\n",
    "\n",
    "I_CAT\tI_NUMS\tOBS\tMEAN_RAND\tSTD_RAND\tZ_SCORE\tST_OBS\n",
    "DIX\t1055134\t107465.0\t110309.4\t994.3\t-2.86\t0/10\n",
    "DI\t3008766\t118282.0\t119625.8\t829.8\t-1.62\t1/10\n",
    "UIR\t3008766\t124185.0\t123163.2\t1015.2\t1.01\t9/10\n",
    "UI\t884785\t130412.0\t125785.6\t915.6\t5.05\t10/10\n",
    "ALL\t7957451\t120208.0\t120289.4\t909.9\t-0.09\t4/10\n",
    "DI-UIR\t3008766\t-5903.0\t-3537.4\t377.6\t-6.27\t0/10\n",
    "\n",
    "\n",
    "JAV_MK_CHC_RALT_20000_ht\n",
    "Interaction file:\n",
    "\t../DICer_interactions/HT/FDR005/CHC/JAV_MK_RALT_20000_ht_fdr0.05_evaluated_and_categorized_interactions.tsv.gz\n",
    "BED file with TAD boundaries:\n",
    "\t../additional_files/javierre_2016/tad_regions_hg38/hglft_genome_TADs_MK_hg38.bed\n",
    "Number of iterations: 10\n",
    "-> Random range: 400000 <-\n",
    "\n",
    "I_CAT\tI_NUMS\tOBS\tMEAN_RAND\tSTD_RAND\tZ_SCORE\tST_OBS\n",
    "DIX\t1055134\t107465.0\t108612.1\t778.4\t-1.47\t1/10\n",
    "DI\t3008766\t118282.0\t118252.9\t644.4\t0.05\t5/10\n",
    "UIR\t3008766\t124185.0\t121547.0\t744.4\t3.54\t10/10\n",
    "UI\t884785\t130412.0\t124244.3\t895.3\t6.89\t10/10\n",
    "ALL\t7957451\t120208.0\t118765.2\t697.9\t2.07\t9/10\n",
    "DI-UIR\t3008766\t-5903.0\t-3294.1\t255.6\t-10.21\t0/10\n",
    "\n",
    "\n",
    "JAV_MK_CHC_RALT_20000_ht\n",
    "Interaction file:\n",
    "\t../DICer_interactions/HT/FDR005/CHC/JAV_MK_RALT_20000_ht_fdr0.05_evaluated_and_categorized_interactions.tsv.gz\n",
    "BED file with TAD boundaries:\n",
    "\t../additional_files/javierre_2016/tad_regions_hg38/hglft_genome_TADs_MK_hg38.bed\n",
    "Number of iterations: 10\n",
    "-> Random range: 300000 <-\n",
    "\n",
    "I_CAT\tI_NUMS\tOBS\tMEAN_RAND\tSTD_RAND\tZ_SCORE\tST_OBS\n",
    "DIX\t1055134\t107465.0\t106879.6\t1330.0\t0.44\t7/10\n",
    "DI\t3008766\t118282.0\t116601.7\t985.3\t1.71\t10/10\n",
    "UIR\t3008766\t124185.0\t120242.7\t839.2\t4.70\t10/10\n",
    "UI\t884785\t130412.0\t123172.8\t848.5\t8.53\t10/10\n",
    "ALL\t7957451\t120208.0\t117269.7\t893.0\t3.29\t10/10\n",
    "DI-UIR\t3008766\t-5903.0\t-3641.0\t463.2\t-4.88\t0/10\n",
    "\n",
    "\n",
    "JAV_MK_CHC_RALT_20000_ht\n",
    "Interaction file:\n",
    "\t../DICer_interactions/HT/FDR005/CHC/JAV_MK_RALT_20000_ht_fdr0.05_evaluated_and_categorized_interactions.tsv.gz\n",
    "BED file with TAD boundaries:\n",
    "\t../additional_files/javierre_2016/tad_regions_hg38/hglft_genome_TADs_MK_hg38.bed\n",
    "Number of iterations: 10\n",
    "-> Random range: 200000 <-\n",
    "\n",
    "I_CAT\tI_NUMS\tOBS\tMEAN_RAND\tSTD_RAND\tZ_SCORE\tST_OBS\n",
    "DIX\t1055134\t107465.0\t104065.1\t522.7\t6.50\t10/10\n",
    "DI\t3008766\t118282.0\t113685.0\t523.6\t8.78\t10/10\n",
    "UIR\t3008766\t124185.0\t117934.7\t625.9\t9.99\t10/10\n",
    "UI\t884785\t130412.0\t122040.4\t754.0\t11.10\t10/10\n",
    "ALL\t7957451\t120208.0\t114731.1\t553.5\t9.90\t10/10\n",
    "DI-UIR\t3008766\t-5903.0\t-4249.7\t309.9\t-5.33\t0/10\n",
    "\n",
    "\n",
    "JAV_MK_CHC_RALT_20000_ht\n",
    "Interaction file:\n",
    "\t../DICer_interactions/HT/FDR005/CHC/JAV_MK_RALT_20000_ht_fdr0.05_evaluated_and_categorized_interactions.tsv.gz\n",
    "BED file with TAD boundaries:\n",
    "\t../additional_files/javierre_2016/tad_regions_hg38/hglft_genome_TADs_MK_hg38.bed\n",
    "Number of iterations: 10\n",
    "-> Random range: 100000 <-\n",
    "\n",
    "I_CAT\tI_NUMS\tOBS\tMEAN_RAND\tSTD_RAND\tZ_SCORE\tST_OBS\n",
    "DIX\t1055134\t107465.0\t102608.4\t314.0\t15.47\t10/10\n",
    "DI\t3008766\t118282.0\t113421.4\t214.7\t22.64\t10/10\n",
    "UIR\t3008766\t124185.0\t118851.2\t249.2\t21.40\t10/10\n",
    "UI\t884785\t130412.0\t124527.0\t286.5\t20.54\t10/10\n",
    "ALL\t7957451\t120208.0\t115099.6\t214.3\t23.83\t10/10\n",
    "DI-UIR\t3008766\t-5903.0\t-5429.8\t222.5\t-2.13\t0/10\n",
    "```"
   ]
  },
  {
   "cell_type": "markdown",
   "id": "tough-scenario",
   "metadata": {},
   "source": [
    "### Randomize interaction end positions\n",
    "\n",
    "In another randomization approach, we leave the TAD boundaries unchanged and select random positions from the sequences that sorround the interaction end positions."
   ]
  },
  {
   "cell_type": "markdown",
   "id": "24584f3e",
   "metadata": {},
   "source": [
    "To do this, we need to update the function `determine_distances_to_next_tad_boundaries_chc`. If the following updated function is called with `random_range = 0` it works as before. If `random_range` is greater than `0`, a position at the interaction end with the `N` digest is randomly drawn from the surrounding sequence for each interaction. Note that this works only for capture Hi-C interactions with enrichment states `NE` and `EN`. Finally, we need to take care of the case when we select positions outside a chromosome."
   ]
  },
  {
   "cell_type": "code",
   "execution_count": 18,
   "id": "e672030f",
   "metadata": {},
   "outputs": [],
   "source": [
    "def determine_distances_to_next_tad_boundaries_chc(\n",
    "    d11_interaction_set: DiachromaticInteractionSet = None,\n",
    "    tbs: TadBoundarySet = None,\n",
    "    random_range = 0):\n",
    "    \n",
    "    # Dictionary with lists of distances to nearest TAD boundary\n",
    "    ntb_dist_lists = {\n",
    "        'DIX': [],\n",
    "        'DI': [],\n",
    "        'UIR': [],\n",
    "        'UI': [],\n",
    "        'ALL': []\n",
    "    }\n",
    "    for d11_inter in d11_interaction_set._inter_dict.values():\n",
    "        \n",
    "        # This analysis is restricted to NE and EN interactions, which typically make up mor than 90% of CHC data\n",
    "        if d11_inter.enrichment_status_tag_pair == 'EN' or d11_inter.enrichment_status_tag_pair == 'NE':\n",
    "        \n",
    "            # Determine the distance to the next TAD from the outermost position of the 'N' digest\n",
    "            if d11_inter.enrichment_status_tag_pair == 'NE':\n",
    "                pos = d11_inter.fromA\n",
    "                if random_range != 0:\n",
    "                    # Randomize position\n",
    "                    pos = random.randint(pos - random_range, pos + random_range)\n",
    "\n",
    "            if d11_inter.enrichment_status_tag_pair == 'EN':\n",
    "                pos = d11_inter.toB\n",
    "                if random_range != 0:\n",
    "                    # Randomize position\n",
    "                    pos = random.randint(pos - random_range, pos + random_range)\n",
    "            \n",
    "            # Correct invalid positions that may result from randomization\n",
    "            if tbs.chr_size_dict[d11_inter.chrA] < pos:\n",
    "                pos = tbs.chr_size_dict[d11_inter.chrA]\n",
    "            if pos < 0:\n",
    "                pos = 0\n",
    "\n",
    "            # Determine distance to nearest TAD boundary\n",
    "            dist = tbs.get_distance_to_nearest_tad_boundary(d11_inter.chrA, pos)\n",
    "\n",
    "            # Add determined distance to list\n",
    "            ntb_dist_lists[d11_inter.get_category()].append(dist)\n",
    "            ntb_dist_lists['ALL'].append(dist)     \n",
    "    \n",
    "    return ntb_dist_lists"
   ]
  },
  {
   "cell_type": "markdown",
   "id": "institutional-prefix",
   "metadata": {},
   "source": [
    "Now we can use the same functions as before for randomizing the TAD boundaries, but this time we leave the TAD boundaries unchanged and only randomize the ends of interactions (`randomize_interaction_ends = True`)."
   ]
  },
  {
   "cell_type": "code",
   "execution_count": 25,
   "id": "assigned-airline",
   "metadata": {
    "scrolled": true
   },
   "outputs": [
    {
     "name": "stdout",
     "output_type": "stream",
     "text": [
      "Observed\n",
      "{'DIX': 107465.0, 'DI': 118282.0, 'UIR': 124185.0, 'UI': 130412.0, 'ALL': 120208.0, 'DI-UIR': -5903.0}\n",
      "\n",
      "Randomization\n",
      "{'DIX': 112350.0, 'DI': 122636.5, 'UIR': 126962.5, 'UI': 129771.0, 'ALL': 123495.0, 'DI-UIR': -4326.0}\n",
      "{'DIX': 112130.0, 'DI': 122624.0, 'UIR': 126887.0, 'UI': 129583.0, 'ALL': 123428.0, 'DI-UIR': -4263.0}\n",
      "{'DIX': 112366.0, 'DI': 122512.0, 'UIR': 126829.0, 'UI': 129732.0, 'ALL': 123405.0, 'DI-UIR': -4317.0}\n",
      "{'DIX': 112291.0, 'DI': 122553.0, 'UIR': 127102.0, 'UI': 129731.0, 'ALL': 123501.0, 'DI-UIR': -4549.0}\n",
      "{'DIX': 112230.5, 'DI': 122437.0, 'UIR': 126770.0, 'UI': 129864.0, 'ALL': 123344.0, 'DI-UIR': -4333.0}\n",
      "{'DIX': 112247.0, 'DI': 122519.0, 'UIR': 126773.0, 'UI': 129553.0, 'ALL': 123359.0, 'DI-UIR': -4254.0}\n",
      "{'DIX': 112162.0, 'DI': 122621.0, 'UIR': 126820.0, 'UI': 129821.0, 'ALL': 123423.0, 'DI-UIR': -4199.0}\n",
      "{'DIX': 112284.0, 'DI': 122552.0, 'UIR': 127044.0, 'UI': 129760.0, 'ALL': 123483.0, 'DI-UIR': -4492.0}\n",
      "{'DIX': 112375.0, 'DI': 122561.0, 'UIR': 126767.0, 'UI': 129672.0, 'ALL': 123418.0, 'DI-UIR': -4206.0}\n",
      "{'DIX': 112126.5, 'DI': 122678.0, 'UIR': 126832.0, 'UI': 129690.0, 'ALL': 123407.0, 'DI-UIR': -4154.0}\n",
      "Done.\n"
     ]
    }
   ],
   "source": [
    "# Set random range\n",
    "random_range = 300000\n",
    "\n",
    "print('Observed')\n",
    "print(ntb_dist_medians)\n",
    "print()\n",
    "ntb_dist_medians_random_dict = perform_tad_boundary_randomization(\n",
    "    iter_num = 10,\n",
    "    d11_interaction_set = d11_interaction_set,\n",
    "    tad_boundary_set = tbs,\n",
    "    random_range = random_range,\n",
    "    protocol = PROTOCOL,\n",
    "    randomize_interaction_ends = True\n",
    ")"
   ]
  },
  {
   "cell_type": "code",
   "execution_count": 26,
   "id": "referenced-livestock",
   "metadata": {
    "scrolled": true
   },
   "outputs": [
    {
     "name": "stdout",
     "output_type": "stream",
     "text": [
      "JAV_MK_CHC_RALT_20000_ht\n",
      "Interaction file:\n",
      "\t../DICer_interactions/HT/FDR005/CHC/JAV_MK_RALT_20000_ht_fdr0.05_evaluated_and_categorized_interactions.tsv.gz\n",
      "BED file with TAD boundaries:\n",
      "\t../additional_files/javierre_2016/tad_regions_hg38/hglft_genome_TADs_MK_hg38.bed\n",
      "Number of iterations: 10\n",
      "Random range: 300000\n",
      "\n",
      "I_CAT\tI_NUMS\tOBS\tMEAN_RAND\tSTD_RAND\tZ_SCORE\tST_OBS\n",
      "DIX\t1055134\t107465.0\t112256.2\t89.1\t-53.80\t0/10\n",
      "DI\t3008766\t118282.0\t122569.4\t67.8\t-63.25\t0/10\n",
      "UIR\t3008766\t124185.0\t126878.6\t113.1\t-23.82\t0/10\n",
      "UI\t884785\t130412.0\t129717.7\t92.3\t7.52\t10/10\n",
      "ALL\t7957451\t120208.0\t123426.3\t50.7\t-63.45\t0/10\n",
      "DI-UIR\t3008766\t-5903.0\t-4309.3\t120.0\t-13.29\t0/10\n"
     ]
    }
   ],
   "source": [
    "print(OUT_PREFIX)\n",
    "print('Interaction file:\\n\\t' + INTERACTION_FILE)\n",
    "print('BED file with TAD boundaries:\\n\\t' + tad_boundary_bed_file)\n",
    "print('Number of iterations: ' + str(iter_num))\n",
    "print('Random range: ' + str(random_range))\n",
    "print()\n",
    "get_randomization_results_table(ntb_dist_medians = ntb_dist_medians,\n",
    "                                ntb_dist_medians_random_dict = ntb_dist_medians_random_dict)"
   ]
  },
  {
   "cell_type": "markdown",
   "id": "spatial-immune",
   "metadata": {},
   "source": [
    "```\n",
    "JAV_MK_CHC_RALT_20000_ht\n",
    "Interaction file:\n",
    "\t../DICer_interactions/HT/FDR005/CHC/JAV_MK_RALT_20000_ht_fdr0.05_evaluated_and_categorized_interactions.tsv.gz\n",
    "BED file with TAD boundaries:\n",
    "\t../additional_files/javierre_2016/tad_regions_hg38/hglft_genome_TADs_MK_hg38.bed\n",
    "Number of iterations: 10\n",
    "Random range: 300000\n",
    "\n",
    "I_CAT\tI_NUMS\tOBS\tMEAN_RAND\tSTD_RAND\tZ_SCORE\tST_OBS\n",
    "DIX\t1055134\t107465.0\t112256.2\t89.1\t-53.80\t0/10\n",
    "DI\t3008766\t118282.0\t122569.4\t67.8\t-63.25\t0/10\n",
    "UIR\t3008766\t124185.0\t126878.6\t113.1\t-23.82\t0/10\n",
    "UI\t884785\t130412.0\t129717.7\t92.3\t7.52\t10/10\n",
    "ALL\t7957451\t120208.0\t123426.3\t50.7\t-63.45\t0/10\n",
    "DI-UIR\t3008766\t-5903.0\t-4309.3\t120.0\t-13.29\t0/10\n",
    "\n",
    "\n",
    "JAV_MK_CHC_RALT_20000_ht\n",
    "Interaction file:\n",
    "\t../DICer_interactions/HT/FDR005/CHC/JAV_MK_RALT_20000_ht_fdr0.05_evaluated_and_categorized_interactions.tsv.gz\n",
    "BED file with TAD boundaries:\n",
    "\t../additional_files/javierre_2016/tad_regions_hg38/hglft_genome_TADs_MK_hg38.bed\n",
    "Number of iterations: 10\n",
    "-> Random range: 200000 <-\n",
    "\n",
    "I_CAT\tI_NUMS\tOBS\tMEAN_RAND\tSTD_RAND\tZ_SCORE\tST_OBS\n",
    "DIX\t1055134\t107465.0\t110725.6\t108.2\t-30.15\t0/10\n",
    "DI\t3008766\t118282.0\t120913.1\t56.3\t-46.70\t0/10\n",
    "UIR\t3008766\t124185.0\t125553.8\t87.2\t-15.70\t0/10\n",
    "UI\t884785\t130412.0\t129354.3\t91.9\t11.51\t10/10\n",
    "ALL\t7957451\t120208.0\t122023.6\t44.9\t-40.42\t0/10\n",
    "DI-UIR\t3008766\t-5903.0\t-4640.6\t101.8\t-12.41\t0/10\n",
    "\n",
    "\n",
    "JAV_MK_CHC_RALT_20000_ht\n",
    "Interaction file:\n",
    "\t../DICer_interactions/HT/FDR005/CHC/JAV_MK_RALT_20000_ht_fdr0.05_evaluated_and_categorized_interactions.tsv.gz\n",
    "BED file with TAD boundaries:\n",
    "\t../additional_files/javierre_2016/tad_regions_hg38/hglft_genome_TADs_MK_hg38.bed\n",
    "Number of iterations: 10\n",
    "-> Random range: 100000 <-\n",
    "\n",
    "I_CAT\tI_NUMS\tOBS\tMEAN_RAND\tSTD_RAND\tZ_SCORE\tST_OBS\n",
    "DIX\t1055134\t107465.0\t108646.9\t87.9\t-13.45\t0/10\n",
    "DI\t3008766\t118282.0\t119359.6\t49.5\t-21.77\t0/10\n",
    "UIR\t3008766\t124185.0\t124961.3\t54.6\t-14.23\t0/10\n",
    "UI\t884785\t130412.0\t130315.1\t123.3\t0.79\t9/10\n",
    "ALL\t7957451\t120208.0\t121049.1\t33.7\t-24.97\t0/10\n",
    "DI-UIR\t3008766\t-5903.0\t-5601.6\t78.7\t-3.83\t0/10\n",
    "\n",
    "```"
   ]
  },
  {
   "cell_type": "markdown",
   "id": "349c28b3",
   "metadata": {},
   "source": [
    "## Test whether interactions span TAD boundaries less often than expected by chance\n",
    "\n",
    "In the second analysis it is investigated how often interctions span TAD boundaries. Because we already know that the interactions from the different categories differ in length, we normalize the number of boundaries spanned to the total length of the of the region that is spanned. In addition, we have seen that there are different levels of dependencies between interactions and TAD boundaries in the various interaction categories.\n",
    "\n",
    "We randomize capture Hi-C interactions by randomly flipping half of all interactions at baits. For example, an `NE` spans the region between the first position of the `N` digest and the last position of the `E` digest. The corresponding randomized interactions spans the region with the same length starting at the first position of the `E` digest. For `EN` interactions, the randomization works in the same way, but the interactions are flipped in the other direction."
   ]
  },
  {
   "cell_type": "markdown",
   "id": "bizarre-rates",
   "metadata": {},
   "source": [
    "For a given interaction set, the following function determines the total number of spanned boundaries, the total length of the spanned region and the total number of interactions for each category."
   ]
  },
  {
   "cell_type": "code",
   "execution_count": 6,
   "id": "prospective-discharge",
   "metadata": {},
   "outputs": [],
   "source": [
    "def get_sum_of_spanned_boundaries_and_total_length(\n",
    "    d11_interaction_set: DiachromaticInteractionSet=None,\n",
    "    tbs: TadBoundarySet=None,\n",
    "    random_flip_interaction=False):\n",
    "        \n",
    "    spanned_boundary_length_dict = {\n",
    "        'DIX': {\n",
    "            'SB_NUM': 0, \n",
    "            'I_DIST': 0, \n",
    "            'I_NUM': 0\n",
    "        },\n",
    "            'DI': {\n",
    "            'SB_NUM': 0, \n",
    "            'I_DIST': 0, \n",
    "            'I_NUM': 0       \n",
    "        },\n",
    "        'UIR': {\n",
    "            'SB_NUM': 0, \n",
    "            'I_DIST': 0, \n",
    "            'I_NUM': 0          \n",
    "        },\n",
    "        'UI': {\n",
    "            'SB_NUM': 0, \n",
    "            'I_DIST': 0, \n",
    "            'I_NUM': 0         \n",
    "        },\n",
    "        'ALL': {\n",
    "            'SB_NUM': 0, \n",
    "            'I_DIST': 0, \n",
    "            'I_NUM': 0     \n",
    "        }\n",
    "    }\n",
    "    \n",
    "    # Count number of randomized interactions with positions outside chromosome exception\n",
    "    exception_count_dict = {'DIX': 0, 'DI': 0, 'UIR': 0, 'UI': 0, 'ALL': 0}\n",
    "    \n",
    "    # Iterate interactions\n",
    "    for d11_inter in d11_interaction_set._inter_dict.values():\n",
    "\n",
    "        if d11_inter.enrichment_status_tag_pair == 'NE' or d11_inter.enrichment_status_tag_pair == 'EN':\n",
    "            \n",
    "            i_cat = d11_inter.get_category()\n",
    "            e_cat = d11_inter.enrichment_status_tag_pair\n",
    "            chrom = d11_inter.chrA\n",
    "            i_dist = d11_inter.i_dist\n",
    "            \n",
    "            # Get the coordiantes of the spanned region\n",
    "            if random_flip_interaction and random.uniform(0,1) <= 0.5:\n",
    "                \n",
    "                if e_cat == 'NE':\n",
    "                    \n",
    "                    # Flip interaction at the baited digest from the left to the right\n",
    "                    sta_pos = d11_inter.toB # last position of 'E' digest\n",
    "                    end_pos = sta_pos + i_dist\n",
    "                    \n",
    "                    # Flipped interaction protudes beyond the end of the chromosome\n",
    "                    if tbs.chr_size_dict[chrom] < end_pos:\n",
    "                        end_pos = tbs.chr_size_dict[d11_inter.chrA]                        \n",
    "\n",
    "                else: # EN\n",
    "                    \n",
    "                    # Flip interaction at the baited digest from the right to the left\n",
    "                    end_pos = d11_inter.fromA # first position of 'E' digest\n",
    "                    sta_pos = end_pos - i_dist\n",
    "                    \n",
    "                    # Flipped interaction protudes beyond the beginning of the chromosome\n",
    "                    if sta_pos < 0:\n",
    "                        sta_pos = 0 \n",
    "                    \n",
    "            else:\n",
    "                \n",
    "                # Use the original coordiantes\n",
    "                sta_pos = d11_inter.toA \n",
    "                end_pos = d11_inter.fromB\n",
    "                \n",
    "            \n",
    "            # Determine length of spanned_region (equal to 'i_dist' if no exceptions occurred)\n",
    "            spanned_region_length = end_pos - sta_pos\n",
    "            \n",
    "            # Count number of exceptions for different interaction categories\n",
    "            if i_dist != spanned_region_length:\n",
    "                exception_count_dict[i_cat] += 1\n",
    "                exception_count_dict['ALL'] += 1\n",
    "            \n",
    "            # Determine number of boundaries spanned by the flipped interaction\n",
    "            sb_num = tbs.get_number_of_boundaries_spanned_by_region(chrom, sta_pos, end_pos)\n",
    "\n",
    "            # Increment numbers for interaction category\n",
    "            spanned_boundary_length_dict[i_cat]['I_NUM'] += 1\n",
    "            spanned_boundary_length_dict[i_cat]['I_DIST'] += spanned_region_length\n",
    "            spanned_boundary_length_dict[i_cat]['SB_NUM'] += sb_num\n",
    "\n",
    "            # Increment numbers for all interaction categories combined\n",
    "            spanned_boundary_length_dict['ALL']['I_NUM'] += 1\n",
    "            spanned_boundary_length_dict['ALL']['I_DIST'] += spanned_region_length\n",
    "            spanned_boundary_length_dict['ALL']['SB_NUM'] += sb_num\n",
    "            \n",
    "    # Calculate spanned TAD boundaries per million bases\n",
    "    STBPMB_dict = {'DIX': 0, 'DI': 0, 'UIR': 0, 'UI': 0, 'ALL': 0, 'DI-UIR': 0}\n",
    "    I_NUM_dict = {'DIX': 0, 'DI': 0, 'UIR': 0, 'UI': 0, 'ALL': 0, 'DI-UIR': 0}\n",
    "    for i_cat in ['DIX', 'DI', 'UIR', 'UI', 'ALL']:\n",
    "        STBPMB = 1000000*spanned_boundary_length_dict[i_cat]['SB_NUM']/spanned_boundary_length_dict[i_cat]['I_DIST']\n",
    "        STBPMB_dict[i_cat] = STBPMB\n",
    "        I_NUM_dict[i_cat] = spanned_boundary_length_dict[i_cat]['I_NUM']\n",
    "        \n",
    "    STBPMB_dict['DI-UIR'] = STBPMB_dict['DI'] - STBPMB_dict['UIR']\n",
    "    \n",
    "    # Check whether DI and UIR have the same number of interactions\n",
    "    if spanned_boundary_length_dict['DI']['I_NUM'] == spanned_boundary_length_dict['UIR']['I_NUM']:\n",
    "        I_NUM_dict['DI-UIR'] = spanned_boundary_length_dict['DI']['I_NUM']\n",
    "    else:\n",
    "        print('[ERROR] DI and UIR must have the same number of interactions!')\n",
    "        \n",
    "            \n",
    "    return STBPMB_dict, I_NUM_dict, spanned_boundary_length_dict, exception_count_dict"
   ]
  },
  {
   "cell_type": "code",
   "execution_count": 20,
   "id": "jewish-nelson",
   "metadata": {},
   "outputs": [],
   "source": [
    "STBPMB_dict, I_NUM_dict, spanned_boundary_length_dict, exception_count_dict = \\\n",
    "get_sum_of_spanned_boundaries_and_total_length(\n",
    "    d11_interaction_set = d11_interaction_set,\n",
    "    tbs = tbs)"
   ]
  },
  {
   "cell_type": "code",
   "execution_count": 21,
   "id": "robust-paper",
   "metadata": {},
   "outputs": [
    {
     "name": "stdout",
     "output_type": "stream",
     "text": [
      "Observed\n",
      "{'DIX': '4.3767', 'DI': '4.8356', 'UIR': '4.8815', 'UI': '4.8951', 'ALL': '4.8583', 'DI-UIR': '-0.0459'}\n",
      "\n"
     ]
    }
   ],
   "source": [
    "print('Observed')\n",
    "STBPMB_dict_print = {}\n",
    "for i_cat in ['DIX', 'DI', 'UIR', 'UI', 'ALL', 'DI-UIR']:\n",
    "    STBPMB_dict_print[i_cat] = \"{:.4f}\".format(STBPMB_dict[i_cat])\n",
    "print(STBPMB_dict_print)\n",
    "print()"
   ]
  },
  {
   "cell_type": "code",
   "execution_count": 22,
   "id": "continental-geneva",
   "metadata": {},
   "outputs": [],
   "source": [
    "STBPMB_random_dict, I_NUM_dict, spanned_boundary_length_dict, exception_count_dict = \\\n",
    "get_sum_of_spanned_boundaries_and_total_length(\n",
    "    d11_interaction_set = d11_interaction_set,\n",
    "    tbs = tbs,\n",
    "    random_flip_interaction = True)"
   ]
  },
  {
   "cell_type": "code",
   "execution_count": 23,
   "id": "destroyed-assurance",
   "metadata": {},
   "outputs": [
    {
     "name": "stdout",
     "output_type": "stream",
     "text": [
      "{'DIX': 733, 'DI': 11239, 'UIR': 16019, 'UI': 10481, 'ALL': 38472}\n"
     ]
    }
   ],
   "source": [
    "print(exception_count_dict)"
   ]
  },
  {
   "cell_type": "code",
   "execution_count": 24,
   "id": "ignored-motivation",
   "metadata": {},
   "outputs": [
    {
     "name": "stdout",
     "output_type": "stream",
     "text": [
      "Observed\n",
      "{'DIX': '5.0952', 'DI': '4.9292', 'UIR': '4.8957', 'UI': '4.8516', 'ALL': '4.8993', 'DI-UIR': '0.0335'}\n",
      "\n"
     ]
    }
   ],
   "source": [
    "print('Observed')\n",
    "STBPMB_dict_print = {}\n",
    "for i_cat in ['DIX', 'DI', 'UIR', 'UI', 'ALL', 'DI-UIR']:\n",
    "    STBPMB_dict_print[i_cat] = \"{:.4f}\".format(STBPMB_random_dict[i_cat])\n",
    "print(STBPMB_dict_print)\n",
    "print()"
   ]
  },
  {
   "cell_type": "code",
   "execution_count": 25,
   "id": "standard-welsh",
   "metadata": {
    "scrolled": true
   },
   "outputs": [
    {
     "name": "stdout",
     "output_type": "stream",
     "text": [
      "Observed\n",
      "{'DIX': '4.3767', 'DI': '4.8356', 'UIR': '4.8815', 'UI': '4.8951', 'ALL': '4.8583', 'DI-UIR': '-0.0459'}\n",
      "\n",
      "Randomized\n",
      "{'DIX': '5.0978', 'DI': '4.9307', 'UIR': '4.8942', 'UI': '4.8519', 'ALL': '4.8992', 'DI-UIR': '0.0364'}\n",
      "{'DIX': '5.1006', 'DI': '4.9288', 'UIR': '4.8960', 'UI': '4.8510', 'ALL': '4.8994', 'DI-UIR': '0.0328'}\n",
      "{'DIX': '5.0925', 'DI': '4.9288', 'UIR': '4.8938', 'UI': '4.8554', 'ALL': '4.8993', 'DI-UIR': '0.0350'}\n",
      "{'DIX': '5.0939', 'DI': '4.9297', 'UIR': '4.8945', 'UI': '4.8515', 'ALL': '4.8989', 'DI-UIR': '0.0353'}\n",
      "{'DIX': '5.0937', 'DI': '4.9289', 'UIR': '4.8939', 'UI': '4.8519', 'ALL': '4.8985', 'DI-UIR': '0.0351'}\n",
      "{'DIX': '5.0919', 'DI': '4.9304', 'UIR': '4.8923', 'UI': '4.8519', 'ALL': '4.8982', 'DI-UIR': '0.0380'}\n",
      "{'DIX': '5.0977', 'DI': '4.9286', 'UIR': '4.8950', 'UI': '4.8542', 'ALL': '4.8996', 'DI-UIR': '0.0337'}\n",
      "{'DIX': '5.0940', 'DI': '4.9294', 'UIR': '4.8955', 'UI': '4.8503', 'ALL': '4.8989', 'DI-UIR': '0.0339'}\n",
      "{'DIX': '5.0960', 'DI': '4.9320', 'UIR': '4.8953', 'UI': '4.8522', 'ALL': '4.9001', 'DI-UIR': '0.0367'}\n",
      "{'DIX': '5.0940', 'DI': '4.9315', 'UIR': '4.8941', 'UI': '4.8522', 'ALL': '4.8994', 'DI-UIR': '0.0374'}\n",
      "Done.\n"
     ]
    }
   ],
   "source": [
    "iter_num = 10\n",
    "\n",
    "STBPMB_dict, I_NUM_dict, spanned_boundary_length_dict, exception_count_dict = \\\n",
    "get_sum_of_spanned_boundaries_and_total_length(\n",
    "    d11_interaction_set = d11_interaction_set,\n",
    "    tbs = tbs)\n",
    "\n",
    "print('Observed')\n",
    "STBPMB_dict_print = {}\n",
    "for i_cat in ['DIX', 'DI', 'UIR', 'UI', 'ALL', 'DI-UIR']:\n",
    "    STBPMB_dict_print[i_cat] = \"{:.4f}\".format(STBPMB_dict[i_cat])\n",
    "print(STBPMB_dict_print)\n",
    "print()\n",
    "\n",
    "# Perform n randomizations and add results to dictionary\n",
    "\n",
    "print('Randomized')\n",
    "\n",
    "STBPMB_random_dict = {\n",
    "    'DIX': {\n",
    "        'I_NUM': [], \n",
    "        'STBPMB': []\n",
    "    },\n",
    "    'DI': {\n",
    "        'I_NUM': [],\n",
    "        'STBPMB': []\n",
    "    },\n",
    "    'UIR': {\n",
    "        'I_NUM': [],\n",
    "        'STBPMB': []\n",
    "    },\n",
    "    'UI': {\n",
    "        'I_NUM': [],\n",
    "        'STBPMB': []\n",
    "    },\n",
    "    'ALL': {\n",
    "        'I_NUM': [],\n",
    "        'STBPMB': []\n",
    "    },\n",
    "    'DI-UIR': {\n",
    "        'I_NUM': [],\n",
    "        'STBPMB': []\n",
    "    }\n",
    "}\n",
    "\n",
    "for random_seed in range(0, iter_num):\n",
    "    \n",
    "    random.seed(random_seed)\n",
    "    \n",
    "    STBPMB_iter_dict, I_NUM_iter_dict, spanned_boundary_length_dict, exception_count_dict = \\\n",
    "    get_sum_of_spanned_boundaries_and_total_length(\n",
    "        d11_interaction_set = d11_interaction_set,\n",
    "        tbs = tbs,\n",
    "        random_flip_interaction = True)\n",
    "    \n",
    "    # Print results of this iteration\n",
    "    STBPMB_dict_print = {}\n",
    "    for i_cat in ['DIX', 'DI', 'UIR', 'UI', 'ALL', 'DI-UIR']:\n",
    "        STBPMB_dict_print[i_cat] = \"{:.4f}\".format(STBPMB_iter_dict[i_cat])\n",
    "    print(STBPMB_dict_print)\n",
    "        \n",
    "    for i_cat in ['DIX', 'DI', 'UIR', 'UI', 'ALL', 'DI-UIR']:\n",
    "        STBPMB_random_dict[i_cat]['I_NUM'].append(I_NUM_iter_dict[i_cat])\n",
    "        STBPMB_random_dict[i_cat]['STBPMB'].append(STBPMB_iter_dict[i_cat])\n",
    "    \n",
    "print(\"Done.\")"
   ]
  },
  {
   "cell_type": "code",
   "execution_count": 26,
   "id": "pressing-custody",
   "metadata": {},
   "outputs": [
    {
     "name": "stdout",
     "output_type": "stream",
     "text": [
      "JAV_MAC_M0_CHC_RALT_20000_ht\n",
      "Interaction file:\n",
      "\t../DICer_interactions/HT/FDR005/CHC/JAV_MAC_M0_RALT_20000_ht_fdr0.05_evaluated_and_categorized_interactions.tsv.gz\n",
      "BED file with TAD boundaries:\n",
      "\t../additional_files/javierre_2016/tad_regions_hg38/merged_tad_boundary_centers.bed\n",
      "Number of iterations: 10\n",
      "\n",
      "I_CAT\tI_NUMS\tOBS\tMEAN_RAND\tSTD_RAND\tZ_SCORE\tST_OBS\n",
      "DIX\t1117215\t4.3767\t5.0952\t0.0026\t-274.36\t0/10\n",
      "DI\t2985367\t4.8356\t4.9299\t0.0011\t-83.11\t0/10\n",
      "UIR\t2985367\t4.8815\t4.8945\t0.0010\t-12.84\t0/10\n",
      "UI\t1158445\t4.8951\t4.8523\t0.0014\t30.40\t10/10\n",
      "ALL\t8246394\t4.8583\t4.8991\t0.0005\t-77.62\t0/10\n",
      "DI-UIR\t2985367\t-0.0459\t0.0354\t0.0016\t-50.46\t0/10\n"
     ]
    }
   ],
   "source": [
    "print(OUT_PREFIX)\n",
    "print('Interaction file:\\n\\t' + INTERACTION_FILE)\n",
    "print('BED file with TAD boundaries:\\n\\t' + tad_boundary_bed_file)\n",
    "print('Number of iterations: ' + str(iter_num))\n",
    "print()\n",
    "\n",
    "def get_randomization_results_table_2(STBPMB_dict, STBPMB_random_dict):\n",
    "    print('I_CAT\\tI_NUMS\\tOBS\\tMEAN_RAND\\tSTD_RAND\\tZ_SCORE\\tST_OBS')\n",
    "    for i_cat in ['DIX', 'DI', 'UIR', 'UI', 'ALL', 'DI-UIR']:\n",
    "        i_num = STBPMB_random_dict[i_cat]['I_NUM'][0]\n",
    "        observed = STBPMB_dict[i_cat]\n",
    "        mean = np.mean(STBPMB_random_dict[i_cat]['STBPMB'])\n",
    "        std = np.std(STBPMB_random_dict[i_cat]['STBPMB'])\n",
    "        z_score = (observed - mean) / std\n",
    "        # Find number of smaller than observed\n",
    "        st_obs = 0\n",
    "        for median in STBPMB_random_dict[i_cat]['STBPMB']:\n",
    "            if median < observed:\n",
    "                st_obs += 1\n",
    "        print(i_cat + '\\t' + str(i_num) + '\\t' + \"{:.4f}\".format(observed) + '\\t' + \"{:.4f}\".format(mean) + '\\t' + \"{:.4f}\".format(std) + '\\t' + \"{:.2f}\".format(z_score) + '\\t' + str(st_obs) + '/' + str(iter_num))\n",
    "\n",
    "get_randomization_results_table_2(STBPMB_dict = STBPMB_dict,\n",
    "                                STBPMB_random_dict = STBPMB_random_dict)\n",
    "\n"
   ]
  },
  {
   "cell_type": "markdown",
   "id": "suffering-toddler",
   "metadata": {},
   "source": [
    "```\n",
    "JAV_MAC_M0_CHC_RALT_20000_ht\n",
    "Interaction file:\n",
    "\t../DICer_interactions/HT/FDR005/CHC/JAV_MAC_M0_RALT_20000_ht_fdr0.05_evaluated_and_categorized_interactions.tsv.gz\n",
    "BED file with TAD boundaries:\n",
    "\t../additional_files/javierre_2016/tad_regions_hg38/merged_tad_boundary_centers.bed\n",
    "Number of iterations: 10\n",
    "\n",
    "I_CAT\tI_NUMS\tOBS\tMEAN_RAND\tSTD_RAND\tZ_SCORE\tST_OBS\n",
    "DIX\t1117215\t4.3767\t5.0952\t0.0026\t-274.36\t0/10\n",
    "DI\t2985367\t4.8356\t4.9299\t0.0011\t-83.11\t0/10\n",
    "UIR\t2985367\t4.8815\t4.8945\t0.0010\t-12.84\t0/10\n",
    "UI\t1158445\t4.8951\t4.8523\t0.0014\t30.40\t10/10\n",
    "ALL\t8246394\t4.8583\t4.8991\t0.0005\t-77.62\t0/10\n",
    "DI-UIR\t2985367\t-0.0459\t0.0354\t0.0016\t-50.46\t0/10\n",
    "\n",
    "\n",
    "JAV_MAC_M0_CHC_RALT_20000_ht\n",
    "Interaction file:\n",
    "\t../DICer_interactions/HT/FDR005/CHC/JAV_MAC_M0_RALT_20000_ht_fdr0.05_evaluated_and_categorized_interactions.tsv.gz\n",
    "BED file with TAD boundaries:\n",
    "\t../additional_files/javierre_2016/tad_regions_hg38/hglft_genome_TADs_MAC_M0_hg38.bed\n",
    "Number of iterations: 10\n",
    "\n",
    "I_CAT\tI_NUMS\tOBS\tMEAN_RAND\tSTD_RAND\tZ_SCORE\tST_OBS\n",
    "DIX\t1117215\t2.5885\t3.2342\t0.0015\t-432.99\t0/10\n",
    "DI\t2985367\t2.9073\t2.9772\t0.0008\t-87.83\t0/10\n",
    "UIR\t2985367\t2.9095\t2.9229\t0.0006\t-20.81\t0/10\n",
    "UI\t1158445\t2.9106\t2.8817\t0.0013\t22.96\t10/10\n",
    "ALL\t8246394\t2.9004\t2.9362\t0.0005\t-76.63\t0/10\n",
    "DI-UIR\t2985367\t-0.0023\t0.0543\t0.0012\t-47.69\t0/10\n",
    "```"
   ]
  }
 ],
 "metadata": {
  "kernelspec": {
   "display_name": "diachrscripts",
   "language": "python",
   "name": "diachrscripts"
  },
  "language_info": {
   "codemirror_mode": {
    "name": "ipython",
    "version": 3
   },
   "file_extension": ".py",
   "mimetype": "text/x-python",
   "name": "python",
   "nbconvert_exporter": "python",
   "pygments_lexer": "ipython3",
   "version": "3.7.11"
  }
 },
 "nbformat": 4,
 "nbformat_minor": 5
}
