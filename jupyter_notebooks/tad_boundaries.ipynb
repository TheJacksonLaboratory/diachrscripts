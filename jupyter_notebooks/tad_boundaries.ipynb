{
 "cells": [
  {
   "cell_type": "markdown",
   "id": "4f13b8b3",
   "metadata": {},
   "source": [
    "# Realtionship between CHC interactions that were not filtered for distance-dependent interaction frequencies and TAD boundaries\n",
    "\n",
    "The heatmaps show that the interaction profiles are cell type specific, especially for strong interaction (with imbalanced read pair counts), but also for all other interaction categories, inculding the profiles that are obtained when all categories are combined. In the UCSC genome browser it can be guessed that the coverage, in profiles from strong interactions (`DIX`) drops at TAD boundaries. One psoosible explanation would be that interactions spread from a bait and are prevented from further spreading by structural obstacles such as TAD boundaries.\n",
    "\n",
    "The aim here is to investigate whether interactions end more often at TAD boundaries than expected by chance. Firthermore, it will be investigated whether interactions span TAD boundaries less often than expected by chance. For this purpose, there is the module `TadBoundarySet`, which contains TAD boundaries and supports two functions:\n",
    "\n",
    "1. `get_distance_to_nearest_tad_boundary(chr, pos) -> distance_to_next_tad`\n",
    "2. `get_number_of_boundaries_spanned_by_region(chr, sta_pos, end_pos) -> number_of_spanned_tads`\n",
    "\n",
    "The first function returns the distance to the next TAD boudary for a given position. The second function returns the number of TAD boundaries that are spanned by a given region. To process the interactions, the module `DiachromaticInteractionSet` is used."
   ]
  },
  {
   "cell_type": "code",
   "execution_count": 1,
   "id": "bc403545",
   "metadata": {},
   "outputs": [],
   "source": [
    "import sys\n",
    "import os\n",
    "import numpy as np\n",
    "sys.path.append(\"..\")\n",
    "from diachr import TadBoundarySet\n",
    "from diachr import DiachromaticInteractionSet\n",
    "from scipy import stats\n",
    "import random"
   ]
  },
  {
   "cell_type": "markdown",
   "id": "ce6b718c",
   "metadata": {},
   "source": [
    "There are interactions that were evaluated using the `ST` or `HT` rule. An FDR of 5% was used for the `ST` rule and an FDR of 1% was used for the `HT` rule. For x and y there are interactions without `RPC` filter, with `RPC` filter and `RPC` filter complement. With the `RPC` filter all interactions in which at least one of the four read pair counts is `0` were discarded at the very beginning of the analysis (before the P-value threshold was determined) were discarded."
   ]
  },
  {
   "cell_type": "code",
   "execution_count": 2,
   "id": "c87c1b9a",
   "metadata": {},
   "outputs": [],
   "source": [
    "RPC_RULE = \"st\"\n",
    "ANALYSIS='ST_FDR005'\n",
    "#ANALYSIS='ST_RMRO_FDR005'\n",
    "#ANALYSIS='ST_KRO_FDR005'\n",
    "#RPC_RULE = \"ht\"\n",
    "#ANALYSIS='HT_FDR001'\n",
    "#ANALYSIS='HT_RMRO_FDR001'\n",
    "#ANALYSIS='HT_KRO_FDR001'"
   ]
  },
  {
   "cell_type": "markdown",
   "id": "688bb40a",
   "metadata": {},
   "source": [
    "There is one CHC dataset for each of the 17 cell types and, for eight of the cell types, there are HC data and TAD boundaries."
   ]
  },
  {
   "cell_type": "code",
   "execution_count": 3,
   "id": "9c8c7a13",
   "metadata": {},
   "outputs": [],
   "source": [
    "CELL_TYPE_SHORT = 'MK'             # Has HC data\n",
    "#CELL_TYPE_SHORT = 'ERY'           # Has HC data\n",
    "#CELL_TYPE_SHORT = 'NEU'           # Has HC data\n",
    "#CELL_TYPE_SHORT = 'MON'           # Has HC data\n",
    "#CELL_TYPE_SHORT = 'MAC_M0'        # Has HC data\n",
    "#CELL_TYPE_SHORT = 'MAC_M1'\n",
    "#CELL_TYPE_SHORT = 'MAC_M2'\n",
    "#CELL_TYPE_SHORT = 'EP'\n",
    "#CELL_TYPE_SHORT = 'NB'            # Has HC data\n",
    "#CELL_TYPE_SHORT = 'TB'\n",
    "#CELL_TYPE_SHORT = 'FOET'\n",
    "#CELL_TYPE_SHORT = 'NCD4'          # Has HC data\n",
    "#CELL_TYPE_SHORT = 'TCD4'\n",
    "#CELL_TYPE_SHORT = 'NACD4'\n",
    "#CELL_TYPE_SHORT = 'ACD4'\n",
    "#CELL_TYPE_SHORT = 'NCD8'          # Has HC data\n",
    "#CELL_TYPE_SHORT = 'TCD8'"
   ]
  },
  {
   "cell_type": "markdown",
   "id": "9253ad07",
   "metadata": {},
   "source": [
    "A `TadBoundarySet` can be created with one of the eight BED files with the published TADs or a BED file with TADs from all eight cell types that was created using `BedTools`. See bash script in: `../additional_files/javierre_2016/tad_regions_hg38/`."
   ]
  },
  {
   "cell_type": "code",
   "execution_count": 4,
   "id": "dfd0cc53",
   "metadata": {},
   "outputs": [],
   "source": [
    "#tad_boundaries = '../additional_files/javierre_2016/tad_regions_hg38/hglft_genome_TADs_' + CELL_TYPE_SHORT + '_hg38.bed'\n",
    "tad_boundaries = '../additional_files/javierre_2016/tad_regions_hg38/merged_tad_boundary_centers.bed'\n",
    "tbs = TadBoundarySet(tad_boundaries)"
   ]
  },
  {
   "cell_type": "markdown",
   "id": "e3140b6f",
   "metadata": {},
   "source": [
    "An interaction file that was created with `DICer` is read in and reference interactions are re-selected afterwards. The selection of reference interactions can be omitted as soon as the new reference selection (no distinction between `NE` and `EN` and additional `DIX` category) is integrated into `DICer`."
   ]
  },
  {
   "cell_type": "code",
   "execution_count": 5,
   "id": "084c51ba",
   "metadata": {
    "scrolled": true
   },
   "outputs": [
    {
     "name": "stdout",
     "output_type": "stream",
     "text": [
      "[INFO] Parsing Diachromatic interaction file ...\n",
      "\t[INFO] ../DICer_interactions/ST_FDR005/CHC/JAV_MK_RALT_20000_st_fdr005_evaluated_and_categorized_interactions.tsv.gz\n",
      "\t[INFO] Parsed 1,000,000 interaction lines ...\n",
      "\t[INFO] Parsed 2,000,000 interaction lines ...\n",
      "\t[INFO] Parsed 3,000,000 interaction lines ...\n",
      "\t[INFO] Parsed 4,000,000 interaction lines ...\n",
      "\t[INFO] Parsed 5,000,000 interaction lines ...\n",
      "\t[INFO] Set size: 5,249,507\n",
      "[INFO] ... done.\n",
      "[INFO] Select reference interactions ...\n",
      "\t[INFO] Treating NE and EN as one category ...\n",
      "\t[INFO] First pass: Count directed interactions for different read pair counts ...\n",
      "\t[INFO] Second pass: Select undirected reference interactions for different read pair counts ...\n",
      "\t[INFO] Third pass: Mark directed interactions for which there is no reference ...\n",
      "[INFO] ... done.\n"
     ]
    }
   ],
   "source": [
    "INTERACTION_FILE = '../DICer_interactions/' + ANALYSIS.upper() + '/CHC/JAV_' + CELL_TYPE_SHORT + '_RALT_20000_' + ANALYSIS.lower() + '_evaluated_and_categorized_interactions.tsv.gz'\n",
    "OUT_PREFIX = 'JAV_' + CELL_TYPE_SHORT + '_RALT_20000_' + ANALYSIS.lower()\n",
    "\n",
    "d11_interaction_set = DiachromaticInteractionSet(rpc_rule = RPC_RULE)\n",
    "d11_interaction_set.parse_file(\n",
    "    i_file = INTERACTION_FILE,\n",
    "    verbose = True)\n",
    "\n",
    "report_dict = d11_interaction_set.select_reference_interactions_2x(verbose=True)"
   ]
  },
  {
   "cell_type": "markdown",
   "id": "f88c6298",
   "metadata": {},
   "source": [
    "## Test whether interactions end near TAD boundaries more often than expected by chance\n",
    "\n",
    "Now we have everything in place to do the first analysis. We compare the distances to the next TAD for the following interaction categories:\n",
    "\n",
    "1. `DIX`: Imbalanced interactions with high read pair counts and without counterpart in the reference interactions\n",
    "2. `DI`: Imbalanced interactions with counterpart in the reference interactions\n",
    "3. `URI`: Balanced reference interactions (comparable to `DI` with respect to total number and distribution of read pair numbers)\n",
    "4. `UI`: Balanced interactions (remaining powered interactions)\n",
    "5. `ALL`: All interaction categories combined\n",
    "6. `RANDOM`: Distances to next TAD boundaries from randomly chosen position"
   ]
  },
  {
   "cell_type": "code",
   "execution_count": 6,
   "id": "230ba5e6",
   "metadata": {},
   "outputs": [
    {
     "name": "stdout",
     "output_type": "stream",
     "text": [
      "... done.\n"
     ]
    }
   ],
   "source": [
    "tad_dist_lists = {\n",
    "    'DIX': [],\n",
    "    'DI': [],\n",
    "    'UIR': [],\n",
    "    'UI': [],\n",
    "    'ALL': [],\n",
    "    'RANDOM': []\n",
    "}\n",
    "for d11_inter in d11_interaction_set._inter_dict.values():\n",
    "    \n",
    "    # Determine the distance to the next TAD from the outermost position of the 'N' digest\n",
    "    if d11_inter.enrichment_status_tag_pair == 'NE':\n",
    "        dist = tbs.get_distance_to_nearest_tad_boundary(d11_inter.chrA, d11_inter.fromA)\n",
    "    if d11_inter.enrichment_status_tag_pair == 'EN':\n",
    "        dist = tbs.get_distance_to_nearest_tad_boundary(d11_inter.chrA, d11_inter.toB)\n",
    "    \n",
    "    # Add determined distance to list\n",
    "    tad_dist_lists[d11_inter.get_category()].append(dist)\n",
    "    tad_dist_lists['ALL'].append(dist)\n",
    "    \n",
    "    # Draw random postion  \n",
    "    random_position = random.randint(d11_inter.fromA, d11_inter.toB)\n",
    "    random_dist = tbs.get_distance_to_nearest_tad_boundary(d11_inter.chrA, random_position)\n",
    "\n",
    "    # Add determined distance to list\n",
    "    tad_dist_lists['RANDOM'].append(random_dist)\n",
    "    \n",
    "print('... done.')"
   ]
  },
  {
   "cell_type": "markdown",
   "id": "287c6eef",
   "metadata": {},
   "source": [
    "Output summary statistics and results of two-sample KS test for selected pairs of categories."
   ]
  },
  {
   "cell_type": "code",
   "execution_count": 7,
   "id": "fc2a7c10",
   "metadata": {},
   "outputs": [
    {
     "name": "stdout",
     "output_type": "stream",
     "text": [
      "JAV_MK_RALT_20000_st_fdr005\n",
      "\n",
      "DIX -----------\n",
      "\tQuantiles: [24094. 55287. 99168.]\n",
      "\tn=379\n",
      "DI -----------\n",
      "\tQuantiles: [ 24727.75  57735.   111228.  ]\n",
      "\tn=209728\n",
      "UIR -----------\n",
      "\tQuantiles: [ 25893.    60083.5  115234.75]\n",
      "\tn=209728\n",
      "UI -----------\n",
      "\tQuantiles: [ 26551.  61649. 118971.]\n",
      "\tn=4829672\n",
      "ALL -----------\n",
      "\tQuantiles: [ 26447.  61425. 118484.]\n",
      "\tn=5249507\n",
      "RANDOM -----------\n",
      "\tQuantiles: [ 25577.  63036. 122781.]\n",
      "\tn=5249507\n",
      "\n",
      "DIX vs. DI: KstestResult(statistic=0.0574021544578307, pvalue=0.15928971711902928)\n",
      "DI vs. UIR: KstestResult(statistic=0.01462370308208727, pvalue=6.567710282478044e-20)\n",
      "UIR vs. UI: KstestResult(statistic=0.011950831224567637, pvalue=2.3012593216484192e-25)\n",
      "UI vs. RANDOM: KstestResult(statistic=0.01250798279386095, pvalue=0.0)\n",
      "ALL vs. RANDOM: KstestResult(statistic=0.013350206028870937, pvalue=0.0)\n",
      "\n"
     ]
    }
   ],
   "source": [
    "print(OUT_PREFIX)\n",
    "print()\n",
    "for i_cat in ['DIX','DI','UIR','UI', 'ALL', 'RANDOM']:\n",
    "    print(i_cat + ' -----------')\n",
    "    print('\\tQuantiles: ' + str(np.quantile(tad_dist_lists[i_cat], [0.25, 0.50, 0.75])))\n",
    "    print('\\tn=' + str(len(tad_dist_lists[i_cat])))\n",
    "\n",
    "print()\n",
    "print('DIX vs. DI: ' + str(stats.ks_2samp(tad_dist_lists['DIX'], tad_dist_lists['DI'])))\n",
    "print('DI vs. UIR: ' + str(stats.ks_2samp(tad_dist_lists['DI'], tad_dist_lists['UIR'])))\n",
    "print('UIR vs. UI: ' + str(stats.ks_2samp(tad_dist_lists['UIR'], tad_dist_lists['UI'])))\n",
    "print('UI vs. RANDOM: ' + str(stats.ks_2samp(tad_dist_lists['UI'], tad_dist_lists['RANDOM'])))\n",
    "print('ALL vs. RANDOM: ' + str(stats.ks_2samp(tad_dist_lists['ALL'], tad_dist_lists['RANDOM'])))\n",
    "print()"
   ]
  },
  {
   "cell_type": "markdown",
   "id": "3478b2db",
   "metadata": {},
   "source": [
    "## Test whether interactions span TAD boundaries less often than expected by chance, taking into account their length\n",
    "\n",
    "In the second analysis it is investigated how often interctions span TAD boundaries."
   ]
  },
  {
   "cell_type": "code",
   "execution_count": 8,
   "id": "0d790745",
   "metadata": {},
   "outputs": [
    {
     "name": "stdout",
     "output_type": "stream",
     "text": [
      "... done.\n"
     ]
    }
   ],
   "source": [
    "spanned_boundary_length_dict = {\n",
    "    'DIX': {\n",
    "        'I_NUM': 0, \n",
    "        'I_DIST': 0, \n",
    "        'SB_NUM': 0       \n",
    "    },\n",
    "        'DI': {\n",
    "        'I_NUM': 0,\n",
    "        'I_DIST': 0, \n",
    "        'SB_NUM': 0        \n",
    "    },\n",
    "    'UIR': {\n",
    "        'I_NUM': 0,\n",
    "        'I_DIST': 0, \n",
    "        'SB_NUM': 0          \n",
    "    },\n",
    "    'UI': {\n",
    "        'I_NUM': 0,\n",
    "        'I_DIST': 0, \n",
    "        'SB_NUM': 0          \n",
    "    },\n",
    "    'ALL': {\n",
    "        'I_NUM': 0,\n",
    "        'I_DIST': 0, \n",
    "        'SB_NUM': 0      \n",
    "    },\n",
    "    'RANDOM': {\n",
    "        'I_NUM': 0,\n",
    "        'I_DIST': 0, \n",
    "        'SB_NUM': 0     \n",
    "    }\n",
    "}\n",
    "for d11_inter in d11_interaction_set._inter_dict.values():\n",
    "    \n",
    "    if d11_inter.enrichment_status_tag_pair == 'NE' or d11_inter.enrichment_status_tag_pair == 'EN':\n",
    "        \n",
    "         # Get interaction distance and number of spanned TAD boundaries\n",
    "        i_dist = d11_inter.i_dist\n",
    "        sb_num = tbs.get_number_of_boundaries_spanned_by_region(d11_inter.chrA, d11_inter.fromA, d11_inter.toB)\n",
    "        \n",
    "        # Increment numbers for interaction category\n",
    "        spanned_boundary_length_dict[d11_inter.get_category()]['I_NUM'] += 1\n",
    "        spanned_boundary_length_dict[d11_inter.get_category()]['I_DIST'] += i_dist\n",
    "        spanned_boundary_length_dict[d11_inter.get_category()]['SB_NUM'] += sb_num\n",
    "        \n",
    "        # Increment numbers for all interaction categories combined\n",
    "        spanned_boundary_length_dict['ALL']['I_NUM'] += 1\n",
    "        spanned_boundary_length_dict['ALL']['I_DIST'] += i_dist\n",
    "        spanned_boundary_length_dict['ALL']['SB_NUM'] += sb_num\n",
    "\n",
    "    \n",
    "        # Draw postions of random region\n",
    "        random_position = random.randint(d11_inter.fromA, d11_inter.toB)\n",
    "        sb_num = tbs.get_number_of_boundaries_spanned_by_region(d11_inter.chrA, random_position, random_position + i_dist)\n",
    "            \n",
    "        # Increment numbers for random regions\n",
    "        spanned_boundary_length_dict['RANDOM']['I_NUM'] += 1\n",
    "        spanned_boundary_length_dict['RANDOM']['I_DIST'] += i_dist\n",
    "        spanned_boundary_length_dict['RANDOM']['SB_NUM'] += sb_num\n",
    "        \n",
    "print('... done.')"
   ]
  },
  {
   "cell_type": "markdown",
   "id": "86a6c097",
   "metadata": {},
   "source": [
    "Output summary statistics."
   ]
  },
  {
   "cell_type": "code",
   "execution_count": 9,
   "id": "f70a2a82",
   "metadata": {},
   "outputs": [
    {
     "name": "stdout",
     "output_type": "stream",
     "text": [
      "JAV_MK_RALT_20000_st_fdr005\n",
      "\n",
      "DIX -----------\n",
      "\tn=145\n",
      "\t1000000*(tsb/len)=2.7889821261107994\n",
      "DI -----------\n",
      "\tn=197902\n",
      "\t1000000*(tsb/len)=4.695716958403391\n",
      "UIR -----------\n",
      "\tn=197902\n",
      "\t1000000*(tsb/len)=4.840515852521417\n",
      "UI -----------\n",
      "\tn=4523334\n",
      "\t1000000*(tsb/len)=4.963951042804502\n",
      "ALL -----------\n",
      "\tn=4919283\n",
      "\t1000000*(tsb/len)=4.956231046793079\n",
      "RANDOM -----------\n",
      "\tn=4919283\n",
      "\t1000000*(tsb/len)=5.067359488114551\n"
     ]
    }
   ],
   "source": [
    "print(OUT_PREFIX)\n",
    "print()\n",
    "for i_cat in ['DIX','DI','UIR','UI', 'ALL','RANDOM']:\n",
    "    print(i_cat + ' -----------')\n",
    "    print(\"\\tn=\" + str(spanned_boundary_length_dict[i_cat]['I_NUM']))\n",
    "    print(\"\\t1000000*(tsb/len)=\" + str(1000000*spanned_boundary_length_dict[i_cat]['SB_NUM']/spanned_boundary_length_dict[i_cat]['I_DIST']))"
   ]
  }
 ],
 "metadata": {
  "kernelspec": {
   "display_name": "diachrscripts",
   "language": "python",
   "name": "diachrscripts"
  },
  "language_info": {
   "codemirror_mode": {
    "name": "ipython",
    "version": 3
   },
   "file_extension": ".py",
   "mimetype": "text/x-python",
   "name": "python",
   "nbconvert_exporter": "python",
   "pygments_lexer": "ipython3",
   "version": "3.7.11"
  }
 },
 "nbformat": 4,
 "nbformat_minor": 5
}
