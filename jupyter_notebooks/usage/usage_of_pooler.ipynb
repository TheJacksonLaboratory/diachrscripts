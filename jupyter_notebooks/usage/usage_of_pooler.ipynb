{
 "cells": [
  {
   "cell_type": "code",
   "execution_count": 1,
   "metadata": {},
   "outputs": [],
   "source": [
    "import os\n",
    "import pandas as pd\n",
    "\n",
    "# Create directory for output files generated in this notebook\n",
    "NOTEBOOK_RESULTS_DIR = 'results/usage_of_pooler'\n",
    "os.makedirs(NOTEBOOK_RESULTS_DIR, exist_ok=True)"
   ]
  },
  {
   "cell_type": "markdown",
   "metadata": {},
   "source": [
    "# `pooler.py`: Pooling read pair counts of interactions from different files\n",
    "\n",
    "[Diachromatic](https://diachromatic.readthedocs.io/en/latest/) is a Java application that implements a preprocessing and quality control pipeline for Hi-C and CHi-C data. The Diachromatic pipeline transforms the data contained in FASTQ files from a Hi-C or capture Hi-C experiment to an interaction file that records the chromosomal positions and enrichment states of the two interacting restriction fragments together with the counts of supporting mapped paired-end reads. For this work, we extended the output of Diachromatic so that for an interaction not just a single read pair count is reported, but four counts, one for each relative orientation of mapped paired-end reads. We use Diachromatic to process FASTQ input files that represent the same experiment separately, and then use the Python script pooler.py to combine the interaction files for downstream analysis.\n",
    "\n",
    "In this notebook, we describe how to use `pooler.py` to combine paired-end read counts of interactions from different Diachromatic interaction files. Each row in a Diachromatic interaction file contains the coordinates of the two restriction fragments followed by their enrichment status (`E` for enriched and `N` for non-enriched) and the last column contains the four paired-end read counts separated by colons."
   ]
  },
  {
   "cell_type": "code",
   "execution_count": 2,
   "metadata": {},
   "outputs": [],
   "source": [
    "col_names = ['chrA','staA','endA','enrA','chrB','staB','endB','enrB','rp_counts']"
   ]
  },
  {
   "cell_type": "markdown",
   "metadata": {},
   "source": [
    "Two interactions are considered equal if they have the same restriction fragment coordinates. Interactions with the same fragment coordinates are pooled by summing the read pair counts separately for the four relative orientations of mapped paired-end reads. For instance, the two interactions:\n",
    "\n",
    "\n",
    "```\n",
    "chr2\t95043367\t95054745\tE\tchr2\t121918565\t121924527\tN\t5:2:8:0\n",
    "chr2\t95043367\t95054745\tE\tchr2\t121918565\t121924527\tN\t4:1:7:2\n",
    "```\n",
    "\n",
    "will be combined to:\n",
    "\n",
    "```\n",
    "chr2\t95043367\t95054745\tE\tchr2\t121918565\t121924527\tN\t9:3:15:2\n",
    "```"
   ]
  },
  {
   "cell_type": "markdown",
   "metadata": {},
   "source": [
    "## Example files\n",
    "\n",
    "We have prepared four small diachromatic interaction files for testing and demonstration purposes. The first file contains an interaction that is present in all four files, but with different read pair counts."
   ]
  },
  {
   "cell_type": "code",
   "execution_count": 3,
   "metadata": {},
   "outputs": [
    {
     "data": {
      "text/html": [
       "<div>\n",
       "<style scoped>\n",
       "    .dataframe tbody tr th:only-of-type {\n",
       "        vertical-align: middle;\n",
       "    }\n",
       "\n",
       "    .dataframe tbody tr th {\n",
       "        vertical-align: top;\n",
       "    }\n",
       "\n",
       "    .dataframe thead th {\n",
       "        text-align: right;\n",
       "    }\n",
       "</style>\n",
       "<table border=\"1\" class=\"dataframe\">\n",
       "  <thead>\n",
       "    <tr style=\"text-align: right;\">\n",
       "      <th></th>\n",
       "      <th>chrA</th>\n",
       "      <th>staA</th>\n",
       "      <th>endA</th>\n",
       "      <th>enrA</th>\n",
       "      <th>chrB</th>\n",
       "      <th>staB</th>\n",
       "      <th>endB</th>\n",
       "      <th>enrB</th>\n",
       "      <th>rp_counts</th>\n",
       "    </tr>\n",
       "  </thead>\n",
       "  <tbody>\n",
       "    <tr>\n",
       "      <th>0</th>\n",
       "      <td>chr1</td>\n",
       "      <td>46297999</td>\n",
       "      <td>46305684</td>\n",
       "      <td>E</td>\n",
       "      <td>chr1</td>\n",
       "      <td>51777391</td>\n",
       "      <td>51781717</td>\n",
       "      <td>N</td>\n",
       "      <td>1:1:1:0</td>\n",
       "    </tr>\n",
       "  </tbody>\n",
       "</table>\n",
       "</div>"
      ],
      "text/plain": [
       "   chrA      staA      endA enrA  chrB      staB      endB enrB rp_counts\n",
       "0  chr1  46297999  46305684    E  chr1  51777391  51781717    N   1:1:1:0"
      ]
     },
     "execution_count": 3,
     "metadata": {},
     "output_type": "execute_result"
    }
   ],
   "source": [
    "i_file = \"../../tests/data/test_01/diachromatic_interaction_file_r1.tsv.gz\"\n",
    "pd.read_csv(i_file, compression='gzip',  sep='\\t', names=col_names)"
   ]
  },
  {
   "cell_type": "markdown",
   "metadata": {},
   "source": [
    "The second file contains a second interaction that is also present in the third and fourth files."
   ]
  },
  {
   "cell_type": "code",
   "execution_count": 4,
   "metadata": {},
   "outputs": [
    {
     "data": {
      "text/html": [
       "<div>\n",
       "<style scoped>\n",
       "    .dataframe tbody tr th:only-of-type {\n",
       "        vertical-align: middle;\n",
       "    }\n",
       "\n",
       "    .dataframe tbody tr th {\n",
       "        vertical-align: top;\n",
       "    }\n",
       "\n",
       "    .dataframe thead th {\n",
       "        text-align: right;\n",
       "    }\n",
       "</style>\n",
       "<table border=\"1\" class=\"dataframe\">\n",
       "  <thead>\n",
       "    <tr style=\"text-align: right;\">\n",
       "      <th></th>\n",
       "      <th>chrA</th>\n",
       "      <th>staA</th>\n",
       "      <th>endA</th>\n",
       "      <th>enrA</th>\n",
       "      <th>chrB</th>\n",
       "      <th>staB</th>\n",
       "      <th>endB</th>\n",
       "      <th>enrB</th>\n",
       "      <th>rp_counts</th>\n",
       "    </tr>\n",
       "  </thead>\n",
       "  <tbody>\n",
       "    <tr>\n",
       "      <th>0</th>\n",
       "      <td>chr1</td>\n",
       "      <td>46297999</td>\n",
       "      <td>46305684</td>\n",
       "      <td>E</td>\n",
       "      <td>chr1</td>\n",
       "      <td>51777391</td>\n",
       "      <td>51781717</td>\n",
       "      <td>N</td>\n",
       "      <td>2:0:1:0</td>\n",
       "    </tr>\n",
       "    <tr>\n",
       "      <th>1</th>\n",
       "      <td>chr17</td>\n",
       "      <td>72411026</td>\n",
       "      <td>72411616</td>\n",
       "      <td>N</td>\n",
       "      <td>chr17</td>\n",
       "      <td>72712662</td>\n",
       "      <td>72724357</td>\n",
       "      <td>N</td>\n",
       "      <td>3:0:1:1</td>\n",
       "    </tr>\n",
       "  </tbody>\n",
       "</table>\n",
       "</div>"
      ],
      "text/plain": [
       "    chrA      staA      endA enrA   chrB      staB      endB enrB rp_counts\n",
       "0   chr1  46297999  46305684    E   chr1  51777391  51781717    N   2:0:1:0\n",
       "1  chr17  72411026  72411616    N  chr17  72712662  72724357    N   3:0:1:1"
      ]
     },
     "execution_count": 4,
     "metadata": {},
     "output_type": "execute_result"
    }
   ],
   "source": [
    "i_file = \"../../tests/data/test_01/diachromatic_interaction_file_r2.tsv.gz\"\n",
    "pd.read_csv(i_file, compression='gzip',  sep='\\t', names=col_names)"
   ]
  },
  {
   "cell_type": "markdown",
   "metadata": {},
   "source": [
    "The third file contains a third interaction that is also present in the fourth file."
   ]
  },
  {
   "cell_type": "code",
   "execution_count": 5,
   "metadata": {},
   "outputs": [
    {
     "data": {
      "text/html": [
       "<div>\n",
       "<style scoped>\n",
       "    .dataframe tbody tr th:only-of-type {\n",
       "        vertical-align: middle;\n",
       "    }\n",
       "\n",
       "    .dataframe tbody tr th {\n",
       "        vertical-align: top;\n",
       "    }\n",
       "\n",
       "    .dataframe thead th {\n",
       "        text-align: right;\n",
       "    }\n",
       "</style>\n",
       "<table border=\"1\" class=\"dataframe\">\n",
       "  <thead>\n",
       "    <tr style=\"text-align: right;\">\n",
       "      <th></th>\n",
       "      <th>chrA</th>\n",
       "      <th>staA</th>\n",
       "      <th>endA</th>\n",
       "      <th>enrA</th>\n",
       "      <th>chrB</th>\n",
       "      <th>staB</th>\n",
       "      <th>endB</th>\n",
       "      <th>enrB</th>\n",
       "      <th>rp_counts</th>\n",
       "    </tr>\n",
       "  </thead>\n",
       "  <tbody>\n",
       "    <tr>\n",
       "      <th>0</th>\n",
       "      <td>chr1</td>\n",
       "      <td>46297999</td>\n",
       "      <td>46305684</td>\n",
       "      <td>E</td>\n",
       "      <td>chr1</td>\n",
       "      <td>51777391</td>\n",
       "      <td>51781717</td>\n",
       "      <td>N</td>\n",
       "      <td>0:2:1:0</td>\n",
       "    </tr>\n",
       "    <tr>\n",
       "      <th>1</th>\n",
       "      <td>chr17</td>\n",
       "      <td>72411026</td>\n",
       "      <td>72411616</td>\n",
       "      <td>N</td>\n",
       "      <td>chr17</td>\n",
       "      <td>72712662</td>\n",
       "      <td>72724357</td>\n",
       "      <td>N</td>\n",
       "      <td>3:0:0:2</td>\n",
       "    </tr>\n",
       "    <tr>\n",
       "      <th>2</th>\n",
       "      <td>chr7</td>\n",
       "      <td>69513952</td>\n",
       "      <td>69514636</td>\n",
       "      <td>N</td>\n",
       "      <td>chr7</td>\n",
       "      <td>87057837</td>\n",
       "      <td>87061499</td>\n",
       "      <td>E</td>\n",
       "      <td>3:1:1:2</td>\n",
       "    </tr>\n",
       "  </tbody>\n",
       "</table>\n",
       "</div>"
      ],
      "text/plain": [
       "    chrA      staA      endA enrA   chrB      staB      endB enrB rp_counts\n",
       "0   chr1  46297999  46305684    E   chr1  51777391  51781717    N   0:2:1:0\n",
       "1  chr17  72411026  72411616    N  chr17  72712662  72724357    N   3:0:0:2\n",
       "2   chr7  69513952  69514636    N   chr7  87057837  87061499    E   3:1:1:2"
      ]
     },
     "execution_count": 5,
     "metadata": {},
     "output_type": "execute_result"
    }
   ],
   "source": [
    "i_file = \"../../tests/data/test_01/diachromatic_interaction_file_r3.tsv.gz\"\n",
    "pd.read_csv(i_file, compression='gzip',  sep='\\t', names=col_names)"
   ]
  },
  {
   "cell_type": "markdown",
   "metadata": {},
   "source": [
    "And the fourth file contains a fourth interaction that is not present in any other file."
   ]
  },
  {
   "cell_type": "code",
   "execution_count": 6,
   "metadata": {},
   "outputs": [
    {
     "data": {
      "text/html": [
       "<div>\n",
       "<style scoped>\n",
       "    .dataframe tbody tr th:only-of-type {\n",
       "        vertical-align: middle;\n",
       "    }\n",
       "\n",
       "    .dataframe tbody tr th {\n",
       "        vertical-align: top;\n",
       "    }\n",
       "\n",
       "    .dataframe thead th {\n",
       "        text-align: right;\n",
       "    }\n",
       "</style>\n",
       "<table border=\"1\" class=\"dataframe\">\n",
       "  <thead>\n",
       "    <tr style=\"text-align: right;\">\n",
       "      <th></th>\n",
       "      <th>chrA</th>\n",
       "      <th>staA</th>\n",
       "      <th>endA</th>\n",
       "      <th>enrA</th>\n",
       "      <th>chrB</th>\n",
       "      <th>staB</th>\n",
       "      <th>endB</th>\n",
       "      <th>enrB</th>\n",
       "      <th>rp_counts</th>\n",
       "    </tr>\n",
       "  </thead>\n",
       "  <tbody>\n",
       "    <tr>\n",
       "      <th>0</th>\n",
       "      <td>chr1</td>\n",
       "      <td>46297999</td>\n",
       "      <td>46305684</td>\n",
       "      <td>E</td>\n",
       "      <td>chr1</td>\n",
       "      <td>51777391</td>\n",
       "      <td>51781717</td>\n",
       "      <td>N</td>\n",
       "      <td>1:1:1:0</td>\n",
       "    </tr>\n",
       "    <tr>\n",
       "      <th>1</th>\n",
       "      <td>chr17</td>\n",
       "      <td>72411026</td>\n",
       "      <td>72411616</td>\n",
       "      <td>N</td>\n",
       "      <td>chr17</td>\n",
       "      <td>72712662</td>\n",
       "      <td>72724357</td>\n",
       "      <td>N</td>\n",
       "      <td>3:0:2:0</td>\n",
       "    </tr>\n",
       "    <tr>\n",
       "      <th>2</th>\n",
       "      <td>chr7</td>\n",
       "      <td>69513952</td>\n",
       "      <td>69514636</td>\n",
       "      <td>N</td>\n",
       "      <td>chr7</td>\n",
       "      <td>87057837</td>\n",
       "      <td>87061499</td>\n",
       "      <td>E</td>\n",
       "      <td>2:2:2:1</td>\n",
       "    </tr>\n",
       "    <tr>\n",
       "      <th>3</th>\n",
       "      <td>chr11</td>\n",
       "      <td>47259263</td>\n",
       "      <td>47272706</td>\n",
       "      <td>N</td>\n",
       "      <td>chr11</td>\n",
       "      <td>91641153</td>\n",
       "      <td>91642657</td>\n",
       "      <td>E</td>\n",
       "      <td>3:2:1:3</td>\n",
       "    </tr>\n",
       "  </tbody>\n",
       "</table>\n",
       "</div>"
      ],
      "text/plain": [
       "    chrA      staA      endA enrA   chrB      staB      endB enrB rp_counts\n",
       "0   chr1  46297999  46305684    E   chr1  51777391  51781717    N   1:1:1:0\n",
       "1  chr17  72411026  72411616    N  chr17  72712662  72724357    N   3:0:2:0\n",
       "2   chr7  69513952  69514636    N   chr7  87057837  87061499    E   2:2:2:1\n",
       "3  chr11  47259263  47272706    N  chr11  91641153  91642657    E   3:2:1:3"
      ]
     },
     "execution_count": 6,
     "metadata": {},
     "output_type": "execute_result"
    }
   ],
   "source": [
    "i_file = \"../../tests/data/test_01/diachromatic_interaction_file_r4.tsv.gz\"\n",
    "pd.read_csv(i_file, compression='gzip',  sep='\\t', names=col_names)"
   ]
  },
  {
   "cell_type": "markdown",
   "metadata": {},
   "source": [
    "## Pooling\n",
    "\n",
    "We use the `pooler.py` script to pool the interactions from the four files."
   ]
  },
  {
   "cell_type": "code",
   "execution_count": 7,
   "metadata": {
    "scrolled": false
   },
   "outputs": [
    {
     "name": "stdout",
     "output_type": "stream",
     "text": [
      "[INFO] Input parameters\n",
      "\t[INFO] --out-prefix: results/usage_of_pooler/DEMO\n",
      "\t[INFO] --interaction-files-path: ../../tests/data/test_01/\n",
      "\t[INFO] --required-replicates: 2\n",
      "\n",
      "[INFO] Parsing Diachromatic interaction file ...\n",
      "\t[INFO] ../../tests/data/test_01/diachromatic_interaction_file_r1.tsv.gz\n",
      "\t[INFO] Set size: 1\n",
      "[INFO] ... done.\n",
      "[INFO] Parsing Diachromatic interaction file ...\n",
      "\t[INFO] ../../tests/data/test_01/diachromatic_interaction_file_r3.tsv.gz\n",
      "\t[INFO] Set size: 3\n",
      "[INFO] ... done.\n",
      "[INFO] Parsing Diachromatic interaction file ...\n",
      "\t[INFO] ../../tests/data/test_01/diachromatic_interaction_file_r4.tsv.gz\n",
      "\t[INFO] Set size: 4\n",
      "[INFO] ... done.\n",
      "[INFO] Parsing Diachromatic interaction file ...\n",
      "\t[INFO] ../../tests/data/test_01/diachromatic_interaction_file_r2.tsv.gz\n",
      "\t[INFO] Set size: 4\n",
      "[INFO] ... done.\n",
      "\n",
      "[INFO] Writing Diachromatic interaction file ...\n",
      "\t[INFO] Required replicates: 2\n",
      "\t[INFO] Target file: results/usage_of_pooler/DEMO_at_least_2_combined_interactions.tsv.gz\n",
      "[INFO] ... done.\n"
     ]
    }
   ],
   "source": [
    "%run ../../pooler.py \\\n",
    "--out-prefix $NOTEBOOK_RESULTS_DIR/DEMO \\\n",
    "--required-replicates 2 \\\n",
    "--interaction-files-path ../../tests/data/test_01/"
   ]
  },
  {
   "cell_type": "markdown",
   "metadata": {},
   "source": [
    "Here is the content of the resulting Diachromatic interaction file:"
   ]
  },
  {
   "cell_type": "markdown",
   "metadata": {},
   "source": [
    "## Result of pooling"
   ]
  },
  {
   "cell_type": "code",
   "execution_count": 8,
   "metadata": {
    "scrolled": false
   },
   "outputs": [
    {
     "data": {
      "text/html": [
       "<div>\n",
       "<style scoped>\n",
       "    .dataframe tbody tr th:only-of-type {\n",
       "        vertical-align: middle;\n",
       "    }\n",
       "\n",
       "    .dataframe tbody tr th {\n",
       "        vertical-align: top;\n",
       "    }\n",
       "\n",
       "    .dataframe thead th {\n",
       "        text-align: right;\n",
       "    }\n",
       "</style>\n",
       "<table border=\"1\" class=\"dataframe\">\n",
       "  <thead>\n",
       "    <tr style=\"text-align: right;\">\n",
       "      <th></th>\n",
       "      <th>chrA</th>\n",
       "      <th>staA</th>\n",
       "      <th>endA</th>\n",
       "      <th>enrA</th>\n",
       "      <th>chrB</th>\n",
       "      <th>staB</th>\n",
       "      <th>endB</th>\n",
       "      <th>enrB</th>\n",
       "      <th>rp_counts</th>\n",
       "    </tr>\n",
       "  </thead>\n",
       "  <tbody>\n",
       "    <tr>\n",
       "      <th>0</th>\n",
       "      <td>chr1</td>\n",
       "      <td>46297999</td>\n",
       "      <td>46305684</td>\n",
       "      <td>E</td>\n",
       "      <td>chr1</td>\n",
       "      <td>51777391</td>\n",
       "      <td>51781717</td>\n",
       "      <td>N</td>\n",
       "      <td>4:4:4:0</td>\n",
       "    </tr>\n",
       "    <tr>\n",
       "      <th>1</th>\n",
       "      <td>chr17</td>\n",
       "      <td>72411026</td>\n",
       "      <td>72411616</td>\n",
       "      <td>N</td>\n",
       "      <td>chr17</td>\n",
       "      <td>72712662</td>\n",
       "      <td>72724357</td>\n",
       "      <td>N</td>\n",
       "      <td>9:0:3:3</td>\n",
       "    </tr>\n",
       "    <tr>\n",
       "      <th>2</th>\n",
       "      <td>chr7</td>\n",
       "      <td>69513952</td>\n",
       "      <td>69514636</td>\n",
       "      <td>N</td>\n",
       "      <td>chr7</td>\n",
       "      <td>87057837</td>\n",
       "      <td>87061499</td>\n",
       "      <td>E</td>\n",
       "      <td>5:3:3:3</td>\n",
       "    </tr>\n",
       "  </tbody>\n",
       "</table>\n",
       "</div>"
      ],
      "text/plain": [
       "    chrA      staA      endA enrA   chrB      staB      endB enrB rp_counts\n",
       "0   chr1  46297999  46305684    E   chr1  51777391  51781717    N   4:4:4:0\n",
       "1  chr17  72411026  72411616    N  chr17  72712662  72724357    N   9:0:3:3\n",
       "2   chr7  69513952  69514636    N   chr7  87057837  87061499    E   5:3:3:3"
      ]
     },
     "execution_count": 8,
     "metadata": {},
     "output_type": "execute_result"
    }
   ],
   "source": [
    "i_file = NOTEBOOK_RESULTS_DIR + \"/DEMO_at_least_2_combined_interactions.tsv.gz\"\n",
    "pd.read_csv(i_file, compression='gzip',  sep='\\t', names=col_names)"
   ]
  },
  {
   "cell_type": "markdown",
   "metadata": {},
   "source": [
    "The four files we pooled contained four different interactions, one on chromosomes 1, 7, 11, and 17. The interaction from chromosome 11 is filtered out of the pooled results because we indicated that we want to retain only interactions found in at least two input files (`--required-replicates 2`)."
   ]
  },
  {
   "cell_type": "markdown",
   "metadata": {},
   "source": [
    "In addition to the interaction file, a file with summary statistics is created."
   ]
  },
  {
   "cell_type": "code",
   "execution_count": 9,
   "metadata": {},
   "outputs": [
    {
     "name": "stdout",
     "output_type": "stream",
     "text": [
      "[INFO] Input parameters\n",
      "\t[INFO] --out-prefix: results/usage_of_pooler/DEMO\n",
      "\t[INFO] --interaction-files-path: ../../tests/data/test_01/\n",
      "\t[INFO] --required-replicates: 2\n",
      "\n",
      "[INFO] Report on reading files:\n",
      "\t[INFO] Read interaction data from 4 files:\n",
      "\t\t[INFO] 1 interactions from:\n",
      "\t\t\t[INFO] ../../tests/data/test_01/diachromatic_interaction_file_r1.tsv.gz\n",
      "\t\t\t[INFO] Minimum number of read pairs: 0\n",
      "\t\t\t[INFO] Skipped because less than 0 read pairs: 0\n",
      "\t\t\t[INFO] Minimum interaction distance: 0\n",
      "\t\t\t[INFO] Skipped because shorter than 0 bp: 0\n",
      "\t\t\t[INFO] Added to set: 1\n",
      "\t\t\t[INFO] Set size: 1\n",
      "\t\t[INFO] 3 interactions from:\n",
      "\t\t\t[INFO] ../../tests/data/test_01/diachromatic_interaction_file_r3.tsv.gz\n",
      "\t\t\t[INFO] Minimum number of read pairs: 0\n",
      "\t\t\t[INFO] Skipped because less than 0 read pairs: 0\n",
      "\t\t\t[INFO] Minimum interaction distance: 0\n",
      "\t\t\t[INFO] Skipped because shorter than 0 bp: 0\n",
      "\t\t\t[INFO] Added to set: 3\n",
      "\t\t\t[INFO] Set size: 3\n",
      "\t\t[INFO] 4 interactions from:\n",
      "\t\t\t[INFO] ../../tests/data/test_01/diachromatic_interaction_file_r4.tsv.gz\n",
      "\t\t\t[INFO] Minimum number of read pairs: 0\n",
      "\t\t\t[INFO] Skipped because less than 0 read pairs: 0\n",
      "\t\t\t[INFO] Minimum interaction distance: 0\n",
      "\t\t\t[INFO] Skipped because shorter than 0 bp: 0\n",
      "\t\t\t[INFO] Added to set: 4\n",
      "\t\t\t[INFO] Set size: 4\n",
      "\t\t[INFO] 2 interactions from:\n",
      "\t\t\t[INFO] ../../tests/data/test_01/diachromatic_interaction_file_r2.tsv.gz\n",
      "\t\t\t[INFO] Minimum number of read pairs: 0\n",
      "\t\t\t[INFO] Skipped because less than 0 read pairs: 0\n",
      "\t\t\t[INFO] Minimum interaction distance: 0\n",
      "\t\t\t[INFO] Skipped because shorter than 0 bp: 0\n",
      "\t\t\t[INFO] Added to set: 2\n",
      "\t\t\t[INFO] Set size: 4\n",
      "\t[INFO] The interaction set has 4 interactions.\n",
      "[INFO] End of report.\n",
      "\n",
      ":TR_READ:\tI_FILE\tI_NUM\tMIN_RP_NUM\tI_NUM_SKIPPED_RP\tMIN_DIST\tI_NUM_SKIPPED_DIST\tI_NUM_ADDED\tI_SET_SIZE\n",
      ":TR_READ:\t../../tests/data/test_01/diachromatic_interaction_file_r1.tsv.gz\t1\t0\t0\t0\t0\t1\t1\n",
      ":TR_READ:\t../../tests/data/test_01/diachromatic_interaction_file_r3.tsv.gz\t3\t0\t0\t0\t0\t3\t3\n",
      ":TR_READ:\t../../tests/data/test_01/diachromatic_interaction_file_r4.tsv.gz\t4\t0\t0\t0\t0\t4\t4\n",
      ":TR_READ:\t../../tests/data/test_01/diachromatic_interaction_file_r2.tsv.gz\t2\t0\t0\t0\t0\t2\t4\n",
      "\n",
      "[INFO] Report on writing files:\n",
      "\t[INFO] Wrote interactions that occur in at least 2 replicates to:\n",
      "\t\t[INFO] results/usage_of_pooler/DEMO_at_least_2_combined_interactions.tsv.gz\n",
      "\t[INFO] Interactions that occur in at least 2 replicates: 3\n",
      "\t[INFO] Other interactions: 1\n",
      "[INFO] End of report.\n",
      "\n",
      ":TR_WRITE:\tTARGET_FILE\tREQUIRED_REPLICATES\tN_INCOMPLETE_DATA\tN_COMPLETE_DATA\n",
      ":TR_WRITE:\tresults/usage_of_pooler/DEMO_at_least_2_combined_interactions.tsv.gz\t2\t1\t3\n",
      "\n",
      "[INFO] Generated files:\n",
      "\t[INFO] results/usage_of_pooler/DEMO_at_least_2_combined_summary.txt\n",
      "\t[INFO] results/usage_of_pooler/DEMO_at_least_2_combined_interactions.tsv.gz\n"
     ]
    }
   ],
   "source": [
    "with open(f\"{NOTEBOOK_RESULTS_DIR}/DEMO_at_least_2_combined_summary.txt\") as f:\n",
    "    for line in f:\n",
    "        print(line.rstrip())"
   ]
  }
 ],
 "metadata": {
  "kernelspec": {
   "display_name": "dscripts_3_9_5",
   "language": "python",
   "name": "dscripts_3_9_5"
  },
  "language_info": {
   "codemirror_mode": {
    "name": "ipython",
    "version": 3
   },
   "file_extension": ".py",
   "mimetype": "text/x-python",
   "name": "python",
   "nbconvert_exporter": "python",
   "pygments_lexer": "ipython3",
   "version": "3.9.5"
  }
 },
 "nbformat": 4,
 "nbformat_minor": 2
}
