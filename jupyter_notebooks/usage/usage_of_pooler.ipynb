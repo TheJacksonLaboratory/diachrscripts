{
 "cells": [
  {
   "cell_type": "code",
   "execution_count": 3,
   "metadata": {},
   "outputs": [],
   "source": [
    "# Create directory for output files generated in this notebook \n",
    "NOTEBOOK_RESULTS_DIR = 'results/usage_of_pooler'\n",
    "%mkdir -p $NOTEBOOK_RESULTS_DIR"
   ]
  },
  {
   "cell_type": "markdown",
   "metadata": {},
   "source": [
    "# `pooler.py`: Combining read counts from different biological replicates\n",
    "\n",
    "In this notebook, we describe how to use the python script `pooler.py` to combine interactions from different Diachromatic interaction files. Two interactions are considered equal if they have the same digest coordinates and the read pair counts are summed up separately by type. For instance, the two interactions:\n",
    "\n",
    "```\n",
    "chr2\t95043367\t95054745\tE\tchr2\t121918565\t121924527\tN\t5:2:8:0\n",
    "chr2\t95043367\t95054745\tE\tchr2\t121918565\t121924527\tN\t4:1:7:2\n",
    "```\n",
    "\n",
    "will be combined to:\n",
    "\n",
    "```\n",
    "chr2\t95043367\t95054745\tE\tchr2\t121918565\t121924527\tN\t9:3:15:2\n",
    "```\n",
    "\n",
    "It does not matter whether the interactions occur in the same file or in different files. This condition can be met by first applying the `pooler.py` script to individual files and then to different files. In this notebook, we assume that interactions occur only once within idividual files."
   ]
  },
  {
   "cell_type": "markdown",
   "metadata": {},
   "source": [
    "For testing purposes, we have prepared four small Dichromatic interaction files. The first file contains only one interaction, which is also contained in the other three files, but with different read pair counts."
   ]
  },
  {
   "cell_type": "code",
   "execution_count": 28,
   "metadata": {},
   "outputs": [
    {
     "name": "stdout",
     "output_type": "stream",
     "text": [
      "chr1\t46297999\t46305684\tE\tchr1\t51777391\t51781717\tN\t1:1:1:0\r\n"
     ]
    }
   ],
   "source": [
    "!gunzip -c ../../tests/data/test_01/diachromatic_interaction_file_r1.tsv.gz"
   ]
  },
  {
   "cell_type": "markdown",
   "metadata": {},
   "source": [
    "The second file contains another interaction, which is also contained in two other files."
   ]
  },
  {
   "cell_type": "code",
   "execution_count": 29,
   "metadata": {},
   "outputs": [
    {
     "name": "stdout",
     "output_type": "stream",
     "text": [
      "chr1\t46297999\t46305684\tE\tchr1\t51777391\t51781717\tN\t2:0:1:0\r\n",
      "chr17\t72411026\t72411616\tN\tchr17\t72712662\t72724357\tN\t3:0:1:1\r\n"
     ]
    }
   ],
   "source": [
    "!gunzip -c ../../tests/data/test_01/diachromatic_interaction_file_r2.tsv.gz"
   ]
  },
  {
   "cell_type": "markdown",
   "metadata": {},
   "source": [
    "The third file contains another interaction, which is also contained in another file."
   ]
  },
  {
   "cell_type": "code",
   "execution_count": 30,
   "metadata": {},
   "outputs": [
    {
     "name": "stdout",
     "output_type": "stream",
     "text": [
      "chr1\t46297999\t46305684\tE\tchr1\t51777391\t51781717\tN\t0:2:1:0\r\n",
      "chr17\t72411026\t72411616\tN\tchr17\t72712662\t72724357\tN\t3:0:0:2\r\n",
      "chr7\t69513952\t69514636\tN\tchr7\t87057837\t87061499\tE\t3:1:1:2\r\n"
     ]
    }
   ],
   "source": [
    "!gunzip -c ../../tests/data/test_01/diachromatic_interaction_file_r3.tsv.gz"
   ]
  },
  {
   "cell_type": "markdown",
   "metadata": {},
   "source": [
    "The fourth file contains another interaction that is not contained in any other file."
   ]
  },
  {
   "cell_type": "code",
   "execution_count": 31,
   "metadata": {},
   "outputs": [
    {
     "name": "stdout",
     "output_type": "stream",
     "text": [
      "chr1\t46297999\t46305684\tE\tchr1\t51777391\t51781717\tN\t1:1:1:0\r\n",
      "chr17\t72411026\t72411616\tN\tchr17\t72712662\t72724357\tN\t3:0:2:0\r\n",
      "chr7\t69513952\t69514636\tN\tchr7\t87057837\t87061499\tE\t2:2:2:1\r\n",
      "chr11\t47259263\t47272706\tN\tchr11\t91641153\t91642657\tE\t3:2:1:3\r\n"
     ]
    }
   ],
   "source": [
    "!gunzip -c ../../tests/data/test_01/diachromatic_interaction_file_r4.tsv.gz"
   ]
  },
  {
   "cell_type": "markdown",
   "metadata": {},
   "source": [
    "The Python script `pooler.py` can be used to combine the interactions from all files."
   ]
  },
  {
   "cell_type": "code",
   "execution_count": 4,
   "metadata": {
    "scrolled": true
   },
   "outputs": [
    {
     "name": "stdout",
     "output_type": "stream",
     "text": [
      "[INFO] Input parameters\n",
      "\t[INFO] --out-prefix: results/usage_of_pooler/DEMO\n",
      "\t[INFO] --interaction-files-path: ../../tests/data/test_01/\n",
      "\t[INFO] --required-replicates: 2\n",
      "\n",
      "[INFO] Parsing Diachromatic interaction file ...\n",
      "\t[INFO] ../../tests/data/test_01/diachromatic_interaction_file_r1.tsv.gz\n",
      "\t[INFO] Set size: 1\n",
      "[INFO] ... done.\n",
      "[INFO] Parsing Diachromatic interaction file ...\n",
      "\t[INFO] ../../tests/data/test_01/diachromatic_interaction_file_r3.tsv.gz\n",
      "\t[INFO] Set size: 3\n",
      "[INFO] ... done.\n",
      "[INFO] Parsing Diachromatic interaction file ...\n",
      "\t[INFO] ../../tests/data/test_01/diachromatic_interaction_file_r4.tsv.gz\n",
      "\t[INFO] Set size: 4\n",
      "[INFO] ... done.\n",
      "[INFO] Parsing Diachromatic interaction file ...\n",
      "\t[INFO] ../../tests/data/test_01/diachromatic_interaction_file_r2.tsv.gz\n",
      "\t[INFO] Set size: 4\n",
      "[INFO] ... done.\n",
      "\n",
      "[INFO] Writing Diachromatic interaction file ...\n",
      "\t[INFO] Required replicates: 2\n",
      "\t[INFO] Target file: results/usage_of_pooler/DEMO_at_least_2_combined_interactions.tsv.gz\n",
      "[INFO] ... done.\n"
     ]
    }
   ],
   "source": [
    "%run ../../pooler.py \\\n",
    "--out-prefix $NOTEBOOK_RESULTS_DIR/DEMO \\\n",
    "--required-replicates 2 \\\n",
    "--interaction-files-path ../../tests/data/test_01/"
   ]
  },
  {
   "cell_type": "markdown",
   "metadata": {},
   "source": [
    "Here is the content of the resulting Diachromatic interaction file. The interaction on chromosome 11 does not occur because we required an interaction to occur for at least two replicates (`--required-replicates 2`). For the remaining interactions, the four counts from the different files were summed up separately."
   ]
  },
  {
   "cell_type": "code",
   "execution_count": 2,
   "metadata": {
    "scrolled": false
   },
   "outputs": [
    {
     "name": "stdout",
     "output_type": "stream",
     "text": [
      "chr1\t46297999\t46305684\tE\tchr1\t51777391\t51781717\tN\t4:4:4:0\r\n",
      "chr17\t72411026\t72411616\tN\tchr17\t72712662\t72724357\tN\t9:0:3:3\r\n",
      "chr7\t69513952\t69514636\tN\tchr7\t87057837\t87061499\tE\t5:3:3:3\r\n"
     ]
    }
   ],
   "source": [
    "!gunzip -c DEMO_at_least_2_combined_interactions.tsv.gz | head"
   ]
  },
  {
   "cell_type": "markdown",
   "metadata": {},
   "source": [
    "In addition, a file with summary statistics is created."
   ]
  },
  {
   "cell_type": "code",
   "execution_count": 33,
   "metadata": {},
   "outputs": [
    {
     "name": "stdout",
     "output_type": "stream",
     "text": [
      "[INFO] Input parameters\r\n",
      "\t[INFO] --out-prefix: DEMO\r\n",
      "\t[INFO] --interaction-files-path: ../../tests/data/test_01/\r\n",
      "\t[INFO] --required-replicates: 2\r\n",
      "\r\n",
      "[INFO] Report on reading files:\r\n",
      "\t[INFO] Read interaction data from 4 files:\r\n",
      "\t\t[INFO] 1 interactions from: \r\n",
      "\t\t\t[INFO] ../../tests/data/test_01/diachromatic_interaction_file_r1.tsv.gz\r\n",
      "\t\t\t[INFO] Minimum number of read pairs: 0\r\n",
      "\t\t\t[INFO] Skipped because less than 0 read pairs: 0\r\n",
      "\t\t\t[INFO] Minimum interaction distance: 0\r\n",
      "\t\t\t[INFO] Skipped because shorter than 0 bp: 0\r\n",
      "\t\t\t[INFO] Added to set: 1\r\n",
      "\t\t\t[INFO] Set size: 1\r\n",
      "\t\t[INFO] 3 interactions from: \r\n",
      "\t\t\t[INFO] ../../tests/data/test_01/diachromatic_interaction_file_r3.tsv.gz\r\n",
      "\t\t\t[INFO] Minimum number of read pairs: 0\r\n",
      "\t\t\t[INFO] Skipped because less than 0 read pairs: 0\r\n",
      "\t\t\t[INFO] Minimum interaction distance: 0\r\n",
      "\t\t\t[INFO] Skipped because shorter than 0 bp: 0\r\n",
      "\t\t\t[INFO] Added to set: 3\r\n",
      "\t\t\t[INFO] Set size: 3\r\n",
      "\t\t[INFO] 4 interactions from: \r\n",
      "\t\t\t[INFO] ../../tests/data/test_01/diachromatic_interaction_file_r4.tsv.gz\r\n",
      "\t\t\t[INFO] Minimum number of read pairs: 0\r\n",
      "\t\t\t[INFO] Skipped because less than 0 read pairs: 0\r\n",
      "\t\t\t[INFO] Minimum interaction distance: 0\r\n",
      "\t\t\t[INFO] Skipped because shorter than 0 bp: 0\r\n",
      "\t\t\t[INFO] Added to set: 4\r\n",
      "\t\t\t[INFO] Set size: 4\r\n",
      "\t\t[INFO] 2 interactions from: \r\n",
      "\t\t\t[INFO] ../../tests/data/test_01/diachromatic_interaction_file_r2.tsv.gz\r\n",
      "\t\t\t[INFO] Minimum number of read pairs: 0\r\n",
      "\t\t\t[INFO] Skipped because less than 0 read pairs: 0\r\n",
      "\t\t\t[INFO] Minimum interaction distance: 0\r\n",
      "\t\t\t[INFO] Skipped because shorter than 0 bp: 0\r\n",
      "\t\t\t[INFO] Added to set: 2\r\n",
      "\t\t\t[INFO] Set size: 4\r\n",
      "\t[INFO] The interaction set has 4 interactions.\r\n",
      "[INFO] End of report.\r\n",
      "\r\n",
      ":TR_READ:\tI_FILE\tI_NUM\tMIN_RP_NUM\tI_NUM_SKIPPED_RP\tMIN_DIST\tI_NUM_SKIPPED_DIST\tI_NUM_ADDED\tI_SET_SIZE\r\n",
      ":TR_READ:\t../../tests/data/test_01/diachromatic_interaction_file_r1.tsv.gz\t1\t0\t0\t0\t0\t1\t1\r\n",
      ":TR_READ:\t../../tests/data/test_01/diachromatic_interaction_file_r3.tsv.gz\t3\t0\t0\t0\t0\t3\t3\r\n",
      ":TR_READ:\t../../tests/data/test_01/diachromatic_interaction_file_r4.tsv.gz\t4\t0\t0\t0\t0\t4\t4\r\n",
      ":TR_READ:\t../../tests/data/test_01/diachromatic_interaction_file_r2.tsv.gz\t2\t0\t0\t0\t0\t2\t4\r\n",
      "\r\n",
      "[INFO] Report on writing files:\r\n",
      "\t[INFO] Wrote interactions that occur in at least 2 replicates to:\r\n",
      "\t\t[INFO] DEMO_at_least_2_combined_interactions.tsv.gz\r\n",
      "\t[INFO] Interactions that occur in at least 2 replicates: 3\r\n",
      "\t[INFO] Other interactions: 1\r\n",
      "[INFO] End of report.\r\n",
      "\r\n",
      ":TR_WRITE:\tTARGET_FILE\tREQUIRED_REPLICATES\tN_INCOMPLETE_DATA\tN_COMPLETE_DATA\r\n",
      ":TR_WRITE:\tDEMO_at_least_2_combined_interactions.tsv.gz\t2\t1\t3\r\n",
      "\r\n",
      "[INFO] Generated files:\r\n",
      "\t[INFO] DEMO_at_least_2_combined_summary.txt\r\n",
      "\t[INFO] DEMO_at_least_2_combined_interactions.tsv.gz\r\n"
     ]
    }
   ],
   "source": [
    "cat DEMO_at_least_2_combined_summary.txt"
   ]
  }
 ],
 "metadata": {
  "kernelspec": {
   "display_name": "diachrscripts",
   "language": "python",
   "name": "diachrscripts"
  },
  "language_info": {
   "codemirror_mode": {
    "name": "ipython",
    "version": 3
   },
   "file_extension": ".py",
   "mimetype": "text/x-python",
   "name": "python",
   "nbconvert_exporter": "python",
   "pygments_lexer": "ipython3",
   "version": "3.7.11"
  }
 },
 "nbformat": 4,
 "nbformat_minor": 2
}
