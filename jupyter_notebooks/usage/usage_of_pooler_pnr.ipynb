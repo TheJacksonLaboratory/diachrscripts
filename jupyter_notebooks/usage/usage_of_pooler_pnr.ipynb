{
 "cells": [
  {
   "cell_type": "markdown",
   "metadata": {},
   "source": [
    "<H1> `pooler.py`: Pooling read pair counts of interactions from different files </H1>\n",
    "<p>\n",
    "<a href=\"https://diachromatic.readthedocs.io/en/latest/\" target=\"__blank\">Diachromatic</a> is a Java application that implements a capture Hi-C preprocessing pipeline followed by analysis of differential chromatin interactions (“loopings”). The diachromatic pipeline transforms the data contained in a FASTQ file from a Hi-C or capture Hi-C experiment to an interaction file that records the chromosomal positions of the two interacting restriction fragments together with some additional information.\n",
    "</p>\n",
    "<p>For some analyses presented in \"Using paired-end read orientations to assess and mitigate technical biases in capture Hi-C\", we use Diachromatic to process multiple input files (e.g., representing the same experiment or cell type) separately, and then combine the interaction files for downstream analysis.</p>\n",
    "<p>In this notebook, we describe how to use the python script `pooler.py` to combine paired-end read counts of interactions from different Diachromatic interaction files. Two interactions are considered equal if they have the same restriction fragment coordinates. Interactions with the same fragment coordinates are pooled by summing the read pair counts separately for the four relative paired-end read orientations. For instance, the two interactions:\n",
    " </p>\n",
    "\n",
    "\n",
    "<pre>\n",
    "chr2\t95043367\t95054745\tE\tchr2\t121918565\t121924527\tN\t5:2:8:0\n",
    "chr2\t95043367\t95054745\tE\tchr2\t121918565\t121924527\tN\t4:1:7:2\n",
    "</pre>\n",
    "\n",
    "will be combined to:\n",
    "\n",
    "<pre>\n",
    "chr2\t95043367\t95054745\tE\tchr2\t121918565\t121924527\tN\t9:3:15:2\n",
    "</pre>\n",
    "\n",
    "The format of the columns is as follows.\n",
    "<ul>\n",
    "    <li>chromosome (fragment 1)</li>\n",
    "    <li>start pos (fragment 1)</li>\n",
    "    <li>end pos (fragment 1)</li>\n",
    "    <li>baiting status \"E\" for \"enriched\", \"N\" for \"not enriched\" (fragment 1)</li>\n",
    "    <li>chromosome (fragment 2)</li>\n",
    "    <li>start pos (fragment 2)</li>\n",
    "    <li>end pos (fragment 2)</li>\n",
    "    <li>baiting status \"E\" for \"enriched\", \"N\" for \"not enriched\" (fragment 2)</li>\n",
    "    <li>read-pair counts</li>\n",
    "</ul>\n",
    "<p>The readpair counts column (e.g., 9:3:15:2) shows the counts of configurations 0:1:2:3 as defined in Figure 1B of the main manuscript.</p> "
   ]
  },
  {
   "cell_type": "markdown",
   "metadata": {},
   "source": [
    "<h2>Example</h2>\n",
    "<p>We present a small example to demonstrate how to use the <tt>pooler.py</tt> script to pool ldata from separate files. The script basically searches for lines representing identical readpairs and combines these, while summing up the four counts from the original files.</p>"
   ]
  },
  {
   "cell_type": "code",
   "execution_count": 1,
   "metadata": {},
   "outputs": [],
   "source": [
    "import pandas as pd\n",
    "import os\n",
    "import gzip\n",
    "import shutil"
   ]
  },
  {
   "cell_type": "code",
   "execution_count": 2,
   "metadata": {},
   "outputs": [],
   "source": [
    "NOTEBOOK_RESULTS_DIR = 'results/usage_of_pooler'\n",
    "if not os.path.exists(NOTEBOOK_RESULTS_DIR):\n",
    "    os.makedirs(NOTEBOOK_RESULTS_DIR)"
   ]
  },
  {
   "cell_type": "markdown",
   "metadata": {},
   "source": [
    "<p>Because Diachromatic reports all interactions with at least one supporting read pair, pooling interaction files can be extremely memory intensive. We have prepared four small diachromatic interaction files for testing and demonstration purposes.</p>\n",
    "<p>The files are provided in gzipped form and so we use a convenience function to unzip them.</p>"
   ]
  },
  {
   "cell_type": "code",
   "execution_count": 3,
   "metadata": {},
   "outputs": [],
   "source": [
    "def convert_gzip_file(gzfile_name):\n",
    "    file_name = gzfile_name.replace(\".gz\", \"\")\n",
    "    with gzip.open(gzfile_name, 'rb') as f_in:\n",
    "        with open(file_name, 'wb') as f_out:\n",
    "            shutil.copyfileobj(f_in, f_out)\n",
    "    print()\n",
    "    print(f\"{gzfile_name}: interactions\")\n",
    "    with open(file_name) as f:\n",
    "        for line in f:\n",
    "            print(line.rstrip())"
   ]
  },
  {
   "cell_type": "markdown",
   "metadata": {},
   "source": [
    "<p>The first file contains an interaction that is present in all four files, but with different read pair counts. The second file contains a second interaction that is also present in the third and fourth files. The third file contains an interaction that is is present in the third and the fourth file. The fourth file also contains a fourth interaction that is not present in any other file.</p>"
   ]
  },
  {
   "cell_type": "code",
   "execution_count": 4,
   "metadata": {},
   "outputs": [
    {
     "name": "stdout",
     "output_type": "stream",
     "text": [
      "\n",
      "../../tests/data/test_01/diachromatic_interaction_file_r1.tsv.gz: interactions\n",
      "chr1\t46297999\t46305684\tE\tchr1\t51777391\t51781717\tN\t1:1:1:0\n",
      "\n",
      "../../tests/data/test_01/diachromatic_interaction_file_r2.tsv.gz: interactions\n",
      "chr1\t46297999\t46305684\tE\tchr1\t51777391\t51781717\tN\t2:0:1:0\n",
      "chr17\t72411026\t72411616\tN\tchr17\t72712662\t72724357\tN\t3:0:1:1\n",
      "\n",
      "../../tests/data/test_01/diachromatic_interaction_file_r3.tsv.gz: interactions\n",
      "chr1\t46297999\t46305684\tE\tchr1\t51777391\t51781717\tN\t0:2:1:0\n",
      "chr17\t72411026\t72411616\tN\tchr17\t72712662\t72724357\tN\t3:0:0:2\n",
      "chr7\t69513952\t69514636\tN\tchr7\t87057837\t87061499\tE\t3:1:1:2\n",
      "\n",
      "../../tests/data/test_01/diachromatic_interaction_file_r4.tsv.gz: interactions\n",
      "chr1\t46297999\t46305684\tE\tchr1\t51777391\t51781717\tN\t1:1:1:0\n",
      "chr17\t72411026\t72411616\tN\tchr17\t72712662\t72724357\tN\t3:0:2:0\n",
      "chr7\t69513952\t69514636\tN\tchr7\t87057837\t87061499\tE\t2:2:2:1\n",
      "chr11\t47259263\t47272706\tN\tchr11\t91641153\t91642657\tE\t3:2:1:3\n"
     ]
    }
   ],
   "source": [
    "#$!gunzip -c ../../tests/data/test_01/diachromatic_interaction_file_r1.tsv.gz\n",
    "convert_gzip_file(\"../../tests/data/test_01/diachromatic_interaction_file_r1.tsv.gz\")\n",
    "convert_gzip_file(\"../../tests/data/test_01/diachromatic_interaction_file_r2.tsv.gz\")\n",
    "convert_gzip_file(\"../../tests/data/test_01/diachromatic_interaction_file_r3.tsv.gz\")\n",
    "convert_gzip_file(\"../../tests/data/test_01/diachromatic_interaction_file_r4.tsv.gz\")"
   ]
  },
  {
   "cell_type": "markdown",
   "metadata": {},
   "source": [
    "<h2>Pooling</h2>\n",
    "<p>We use the `pooler.py` script to pool the interactions from the four files.</p>"
   ]
  },
  {
   "cell_type": "code",
   "execution_count": 5,
   "metadata": {
    "scrolled": false
   },
   "outputs": [
    {
     "name": "stdout",
     "output_type": "stream",
     "text": [
      "[INFO] Input parameters\n",
      "\t[INFO] --out-prefix: results/usage_of_pooler/DEMO\n",
      "\t[INFO] --interaction-files-path: ../../tests/data/test_01/\n",
      "\t[INFO] --required-replicates: 2\n",
      "\n",
      "[INFO] Parsing Diachromatic interaction file ...\n",
      "\t[INFO] ../../tests/data/test_01/diachromatic_interaction_file_r2.tsv.gz\n",
      "\t[INFO] Set size: 2\n",
      "[INFO] ... done.\n",
      "[INFO] Parsing Diachromatic interaction file ...\n",
      "\t[INFO] ../../tests/data/test_01/diachromatic_interaction_file_r4.tsv.gz\n",
      "\t[INFO] Set size: 4\n",
      "[INFO] ... done.\n",
      "[INFO] Parsing Diachromatic interaction file ...\n",
      "\t[INFO] ../../tests/data/test_01/diachromatic_interaction_file_r1.tsv.gz\n",
      "\t[INFO] Set size: 4\n",
      "[INFO] ... done.\n",
      "[INFO] Parsing Diachromatic interaction file ...\n",
      "\t[INFO] ../../tests/data/test_01/diachromatic_interaction_file_r3.tsv.gz\n",
      "\t[INFO] Set size: 4\n",
      "[INFO] ... done.\n",
      "\n",
      "[INFO] Writing Diachromatic interaction file ...\n",
      "\t[INFO] Required replicates: 2\n",
      "\t[INFO] Target file: results/usage_of_pooler/DEMO_at_least_2_combined_interactions.tsv.gz\n",
      "[INFO] ... done.\n"
     ]
    }
   ],
   "source": [
    "%run ../../pooler.py \\\n",
    "--out-prefix $NOTEBOOK_RESULTS_DIR/DEMO \\\n",
    "--required-replicates 2 \\\n",
    "--interaction-files-path ../../tests/data/test_01/"
   ]
  },
  {
   "cell_type": "markdown",
   "metadata": {},
   "source": [
    "<h2>Result of pooling</h2>\n",
    "<p>The four files we pooled contained three different interactions, one on chromosomes 1, 7, 11, and 17. The interaction from chromosome 11 is filtered out of the pooled results because we indicated that we want to retain only interactions found in at least two input files (<tt>--required-replicates 2</tt>). </p>"
   ]
  },
  {
   "cell_type": "code",
   "execution_count": 16,
   "metadata": {
    "scrolled": false
   },
   "outputs": [
    {
     "name": "stdout",
     "output_type": "stream",
     "text": [
      " chr1 46297999 46305684 E  chr1 51777391 51781717 N 4:4:4:0\n",
      "chr17 72411026 72411616 N chr17 72712662 72724357 N 9:0:3:3\n",
      " chr7 69513952 69514636 N  chr7 87057837 87061499 E 5:3:3:3\n"
     ]
    }
   ],
   "source": [
    "import pandas as pd\n",
    "infile = f\"{NOTEBOOK_RESULTS_DIR}/DEMO_at_least_2_combined_interactions.tsv.gz\"\n",
    "df = pd.read_csv(infile, compression='gzip', header=None, sep='\\t')\n",
    "print(df.to_string(index=False, header=False))"
   ]
  },
  {
   "cell_type": "markdown",
   "metadata": {},
   "source": [
    "The interaction on chromosome 11, which is only present in the fourth file, does not occur because we required an interaction to occur for at least two replicates (`--required-replicates 2`). For the remaining interactions, the four read pair counts from the different files were summed up separately."
   ]
  },
  {
   "cell_type": "markdown",
   "metadata": {},
   "source": [
    "In addition to the interaction file, a file with summary statistics is created."
   ]
  },
  {
   "cell_type": "code",
   "execution_count": 17,
   "metadata": {
    "scrolled": false
   },
   "outputs": [
    {
     "name": "stdout",
     "output_type": "stream",
     "text": [
      "[INFO] Input parameters\n",
      "\t[INFO] --out-prefix: results/usage_of_pooler/DEMO\n",
      "\t[INFO] --interaction-files-path: ../../tests/data/test_01/\n",
      "\t[INFO] --required-replicates: 2\n",
      "\n",
      "[INFO] Report on reading files:\n",
      "\t[INFO] Read interaction data from 4 files:\n",
      "\t\t[INFO] 2 interactions from:\n",
      "\t\t\t[INFO] ../../tests/data/test_01/diachromatic_interaction_file_r2.tsv.gz\n",
      "\t\t\t[INFO] Minimum number of read pairs: 0\n",
      "\t\t\t[INFO] Skipped because less than 0 read pairs: 0\n",
      "\t\t\t[INFO] Minimum interaction distance: 0\n",
      "\t\t\t[INFO] Skipped because shorter than 0 bp: 0\n",
      "\t\t\t[INFO] Added to set: 2\n",
      "\t\t\t[INFO] Set size: 2\n",
      "\t\t[INFO] 4 interactions from:\n",
      "\t\t\t[INFO] ../../tests/data/test_01/diachromatic_interaction_file_r4.tsv.gz\n",
      "\t\t\t[INFO] Minimum number of read pairs: 0\n",
      "\t\t\t[INFO] Skipped because less than 0 read pairs: 0\n",
      "\t\t\t[INFO] Minimum interaction distance: 0\n",
      "\t\t\t[INFO] Skipped because shorter than 0 bp: 0\n",
      "\t\t\t[INFO] Added to set: 4\n",
      "\t\t\t[INFO] Set size: 4\n",
      "\t\t[INFO] 1 interactions from:\n",
      "\t\t\t[INFO] ../../tests/data/test_01/diachromatic_interaction_file_r1.tsv.gz\n",
      "\t\t\t[INFO] Minimum number of read pairs: 0\n",
      "\t\t\t[INFO] Skipped because less than 0 read pairs: 0\n",
      "\t\t\t[INFO] Minimum interaction distance: 0\n",
      "\t\t\t[INFO] Skipped because shorter than 0 bp: 0\n",
      "\t\t\t[INFO] Added to set: 1\n",
      "\t\t\t[INFO] Set size: 4\n",
      "\t\t[INFO] 3 interactions from:\n",
      "\t\t\t[INFO] ../../tests/data/test_01/diachromatic_interaction_file_r3.tsv.gz\n",
      "\t\t\t[INFO] Minimum number of read pairs: 0\n",
      "\t\t\t[INFO] Skipped because less than 0 read pairs: 0\n",
      "\t\t\t[INFO] Minimum interaction distance: 0\n",
      "\t\t\t[INFO] Skipped because shorter than 0 bp: 0\n",
      "\t\t\t[INFO] Added to set: 3\n",
      "\t\t\t[INFO] Set size: 4\n",
      "\t[INFO] The interaction set has 4 interactions.\n",
      "[INFO] End of report.\n",
      "\n",
      ":TR_READ:\tI_FILE\tI_NUM\tMIN_RP_NUM\tI_NUM_SKIPPED_RP\tMIN_DIST\tI_NUM_SKIPPED_DIST\tI_NUM_ADDED\tI_SET_SIZE\n",
      ":TR_READ:\t../../tests/data/test_01/diachromatic_interaction_file_r2.tsv.gz\t2\t0\t0\t0\t0\t2\t2\n",
      ":TR_READ:\t../../tests/data/test_01/diachromatic_interaction_file_r4.tsv.gz\t4\t0\t0\t0\t0\t4\t4\n",
      ":TR_READ:\t../../tests/data/test_01/diachromatic_interaction_file_r1.tsv.gz\t1\t0\t0\t0\t0\t1\t4\n",
      ":TR_READ:\t../../tests/data/test_01/diachromatic_interaction_file_r3.tsv.gz\t3\t0\t0\t0\t0\t3\t4\n",
      "\n",
      "[INFO] Report on writing files:\n",
      "\t[INFO] Wrote interactions that occur in at least 2 replicates to:\n",
      "\t\t[INFO] results/usage_of_pooler/DEMO_at_least_2_combined_interactions.tsv.gz\n",
      "\t[INFO] Interactions that occur in at least 2 replicates: 3\n",
      "\t[INFO] Other interactions: 1\n",
      "[INFO] End of report.\n",
      "\n",
      ":TR_WRITE:\tTARGET_FILE\tREQUIRED_REPLICATES\tN_INCOMPLETE_DATA\tN_COMPLETE_DATA\n",
      ":TR_WRITE:\tresults/usage_of_pooler/DEMO_at_least_2_combined_interactions.tsv.gz\t2\t1\t3\n",
      "\n",
      "[INFO] Generated files:\n",
      "\t[INFO] results/usage_of_pooler/DEMO_at_least_2_combined_summary.txt\n",
      "\t[INFO] results/usage_of_pooler/DEMO_at_least_2_combined_interactions.tsv.gz\n"
     ]
    }
   ],
   "source": [
    "with open(f\"{NOTEBOOK_RESULTS_DIR}/DEMO_at_least_2_combined_summary.txt\") as f:\n",
    "    for line in f:\n",
    "        print(line.rstrip())"
   ]
  }
 ],
 "metadata": {
  "kernelspec": {
   "display_name": "dscripts_3_9_5",
   "language": "python",
   "name": "dscripts_3_9_5"
  },
  "language_info": {
   "codemirror_mode": {
    "name": "ipython",
    "version": 3
   },
   "file_extension": ".py",
   "mimetype": "text/x-python",
   "name": "python",
   "nbconvert_exporter": "python",
   "pygments_lexer": "ipython3",
   "version": "3.9.5"
  }
 },
 "nbformat": 4,
 "nbformat_minor": 2
}
