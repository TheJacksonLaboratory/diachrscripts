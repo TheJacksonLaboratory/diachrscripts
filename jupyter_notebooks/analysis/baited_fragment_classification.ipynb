{
 "cells": [
  {
   "cell_type": "code",
   "execution_count": 1,
   "id": "184ddd96",
   "metadata": {},
   "outputs": [],
   "source": [
    "import sys\n",
    "import os\n",
    "import numpy as np\n",
    "import pandas as pd\n",
    "import seaborn as sns\n",
    "import matplotlib.pyplot as plt\n",
    "sys.path.append(\"../..\")\n",
    "from diachr import DiachromaticInteractionSet\n",
    "from diachr import BaitedDigestSet\n",
    "\n",
    "# Create directory for output files generated in this notebook \n",
    "NOTEBOOK_RESULTS_DIR = 'results/baited_fragment_classification'\n",
    "%mkdir -p $NOTEBOOK_RESULTS_DIR"
   ]
  },
  {
   "cell_type": "markdown",
   "id": "8807cd6c",
   "metadata": {},
   "source": [
    "# Classification of baited fragments\n",
    "\n",
    "In this notebook, we divide fragments fragments into the three classes BFC0, BFC1 and BFC2 based on whether paired-end read orientations of class 2 or class 3 predominate."
   ]
  },
  {
   "cell_type": "markdown",
   "id": "d11346f3",
   "metadata": {},
   "source": [
    "## Loading interaction data\n",
    "\n",
    "### Choose an interaction file"
   ]
  },
  {
   "cell_type": "code",
   "execution_count": 2,
   "id": "04461a9d",
   "metadata": {},
   "outputs": [],
   "source": [
    "AUTHOR = 'MIF' # JAV, SCH, MIF\n",
    "PROTOCOL = 'CHC' # HC or CHC\n",
    "CELL_TYPE_SHORT = 'GM12878' # MK, ERY, NEU, MON, MAC_M0, ..., MESC, MFLC, MESC_R1ABKO, GM12878\n",
    "OUT_PREFIX = AUTHOR + '_' + CELL_TYPE_SHORT + '_' + PROTOCOL +'_REPC'\n",
    "INTERACTION_FILE = '../../UICer_interactions/' + PROTOCOL + '/' + OUT_PREFIX + '_evaluated_and_categorized_interactions.tsv.gz' "
   ]
  },
  {
   "cell_type": "markdown",
   "id": "905ff6a0",
   "metadata": {},
   "source": [
    "### Create  `BaitedDigestSet` object\n",
    "\n",
    "In a `BaitedDigestSet` object, interactions are grouped by chromosomes and baited fragments."
   ]
  },
  {
   "cell_type": "code",
   "execution_count": 3,
   "id": "e267ad52",
   "metadata": {},
   "outputs": [
    {
     "name": "stdout",
     "output_type": "stream",
     "text": [
      "[INFO] Parsing Diachromatic interaction file ...\n",
      "\t[INFO] ../../UICer_interactions/CHC/MIF_GM12878_CHC_REPC_evaluated_and_categorized_interactions.tsv.gz\n",
      "\t[INFO] Parsed 1,000,000 interaction lines ...\n",
      "\t[INFO] Set size: 1,892,588\n",
      "[INFO] ... done.\n",
      "[INFO] Reading interactions and group them according to chromosomes and baited digests ...\n",
      "\t[INFO] Read 1,000,000 interactions ...\n",
      "\t[INFO] Total number of interactions read: 1,892,588\n",
      "\t[INFO] Total number of baited digests: 20,543\n",
      "[INFO] ... done.\n",
      "[INFO] Report on ingestion of interactions:\n",
      "\t[INFO] Total number of interactions read: 1,892,588\n",
      "\t[INFO] Discarded NN and EE interactions: 125,499\n",
      "\t[INFO] Total number of ingested NE and EN interactions: 1,767,089\n",
      "\t[INFO] Broken down by interaction category and enrichment status: \n",
      "\t\t[INFO] UX: \n",
      "\t\t\t[INFO] NE: 3,886\n",
      "\t\t\t[INFO] EN: 3,950\n",
      "\t\t[INFO] UR: \n",
      "\t\t\t[INFO] NE: 306,868\n",
      "\t\t\t[INFO] EN: 309,979\n",
      "\t\t[INFO] BR: \n",
      "\t\t\t[INFO] NE: 308,838\n",
      "\t\t\t[INFO] EN: 308,009\n",
      "\t\t[INFO] BX: \n",
      "\t\t\t[INFO] NE: 262,036\n",
      "\t\t\t[INFO] EN: 263,523\n",
      "\t\t[INFO] ALL: \n",
      "\t\t\t[INFO] NE: 881,628\n",
      "\t\t\t[INFO] EN: 885,461\n",
      "\t[INFO] Total number of baited digests: 20,543\n",
      "[INFO] End of report.\n",
      "\n"
     ]
    }
   ],
   "source": [
    "# Create DiachromaticInteractionSet\n",
    "d11_interaction_set = DiachromaticInteractionSet()\n",
    "d11_interaction_set.parse_file(\n",
    "    i_file = INTERACTION_FILE,\n",
    "    verbose = True)\n",
    "# Create BaitedDigestSet\n",
    "baited_digest_set = BaitedDigestSet()\n",
    "read_interactions_info_dict = baited_digest_set.ingest_interaction_set(d11_interaction_set, verbose=True)\n",
    "print(baited_digest_set.get_ingest_interaction_set_info_report())"
   ]
  },
  {
   "cell_type": "markdown",
   "id": "e910471d",
   "metadata": {},
   "source": [
    "## Determine frequencies of paired-end read orientations at given baited fragments\n",
    "\n",
    "The following function determines the frequencies of the four paired-end read orientations for a given list of interactions. We will use this function to determine the frequencies at individual baited fragments by passing lists of interactions that are associated with a specific baited fragment."
   ]
  },
  {
   "cell_type": "code",
   "execution_count": 4,
   "id": "4a44d428",
   "metadata": {},
   "outputs": [],
   "source": [
    "def get_rpc_freq_dict(interaction_list):\n",
    "    \n",
    "    # Initialize count dictionary returned by this function\n",
    "    RPC_FREQ_DICT = dict()\n",
    "    for i_cat in ['UX', 'UR', 'BR', 'BX', 'ALL']:\n",
    "        RPC_FREQ_DICT[i_cat] = dict()\n",
    "        for e_cat in ['NN', 'EE', 'NE', 'EN', 'ALL']:\n",
    "            RPC_FREQ_DICT[i_cat][e_cat] = dict()\n",
    "            for rp_type in ['0', '1', '2', '3']:\n",
    "                RPC_FREQ_DICT[i_cat][e_cat][rp_type] = 0\n",
    "\n",
    "    # Get frequencies of read pair types\n",
    "    for d11_inter in interaction_list:\n",
    "        i_cat = d11_inter.get_category()\n",
    "        e_cat = d11_inter.enrichment_status_tag_pair\n",
    "        for rp_type in ['0', '1', '2', '3']:\n",
    "            if rp_type == '0':\n",
    "                rp_count = d11_inter._simple_1\n",
    "            elif rp_type == '1':\n",
    "                rp_count = d11_inter._simple_2\n",
    "            elif rp_type == '2':\n",
    "                rp_count = d11_inter._twisted_1\n",
    "            else:\n",
    "                rp_count = d11_inter._twisted_2\n",
    "            RPC_FREQ_DICT[i_cat][e_cat][rp_type] += rp_count\n",
    "            RPC_FREQ_DICT['ALL'][e_cat][rp_type] += rp_count \n",
    "            RPC_FREQ_DICT[i_cat]['ALL'][rp_type] += rp_count \n",
    "            RPC_FREQ_DICT['ALL']['ALL'][rp_type] += rp_count\n",
    "                    \n",
    "    return RPC_FREQ_DICT"
   ]
  },
  {
   "cell_type": "markdown",
   "id": "bb9612be",
   "metadata": {},
   "source": [
    "## Calculation of baited fragment scores\n",
    "\n",
    "We use the following function to calculate a score for each baited fragment. For a given baited fragment, we first determine the two total counts of paired-end reads of orientation classes 2 and 3. To calculate the score, we then divide the smaller count by the larger count. To avoid divisions by zero, we add a pseudo count to both counts. If the score is smaller than a chosen threshold, then we assign a baited fragment to BFC1 or BFC2. If the total count for the paired-end orientation class 3 is larger, then we assign the fragment to BFC1, and otherwise to BFC2. If the score is greater than the threshold, we assign a baited fragment to the class BFC0."
   ]
  },
  {
   "cell_type": "code",
   "execution_count": 5,
   "id": "92e931f0",
   "metadata": {},
   "outputs": [],
   "source": [
    "def get_bf_score_and_class_rpc(RPC_FREQ_DICT, bfs_threshold):\n",
    "    \n",
    "    # Get sum of read pairs of type 2\n",
    "    sum_rpc_2 = RPC_FREQ_DICT['2']\n",
    "\n",
    "    # Get sum of read pairs of type 3\n",
    "    sum_rpc_3 = RPC_FREQ_DICT['3']\n",
    "    \n",
    "    # Get total sum of read pairs\n",
    "    sum_rpc_total = sum(RPC_FREQ_DICT.values())\n",
    "    \n",
    "    # Calculate imbalanced configuration score\n",
    "    if sum_rpc_2 < sum_rpc_3:\n",
    "        bf_score = (sum_rpc_3 + 1)/(sum_rpc_2 + 1)\n",
    "        bf_class = 'BFC1'\n",
    "    else:\n",
    "        bf_score = (sum_rpc_2 + 1)/(sum_rpc_3 + 1)\n",
    "        bf_class = 'BFC2'\n",
    "\n",
    "    # No imbalances in the configurations\n",
    "    if bf_score < bfs_threshold:\n",
    "        bf_class = 'BFC0'\n",
    "\n",
    "    return bf_score, bf_class, sum_rpc_3, sum_rpc_2, sum_rpc_total"
   ]
  },
  {
   "cell_type": "markdown",
   "id": "cb82b1cb",
   "metadata": {},
   "source": [
    "## Classify baited fragments into BFC0, BFC1, and BFC2\n",
    "\n",
    "The following code iterates over all baited fragments of a `BaitedDigestSet`. For each baited fragment, a list of `NE` and `EN` interactions is retrieved and the function above is used to determine the overall frequencies of paired-end read orientations. From these frequencies, we calculate a score and assign a fragment either to class BFC0, BFC1, or BFC2. For each of these three classes, we create a BED file that can be loaded as a custom track in UCSC's genome browser. In the browser, BFC1 fragments are shown in blue, BFC2 fragments in green, and BFC0 fragments in gray. The 5' ends of BFC1 fragments and the 3' ends of BFC2 fragments are highlighted with thick ends."
   ]
  },
  {
   "cell_type": "code",
   "execution_count": 6,
   "id": "afe57c3b",
   "metadata": {
    "scrolled": false
   },
   "outputs": [],
   "source": [
    "def classify_baited_fragments(\n",
    "    baited_digest_set,                   # BaitedDigestSet object\n",
    "    bfs_threshold=2,                     # Threshold for baited fragment score\n",
    "    i_cat='ALL',                         # Interaction categories taken into account\n",
    "    out_dir='',                          # Directory for output\n",
    "    bed_out_prefix='BED_OUT_PREFIX'):    # Out prefix for BED files\n",
    "\n",
    "    # Create BED files for BFC0, BFC1, and BFC2 fragments\n",
    "    BFC_FH2 = dict()\n",
    "    BFC_NUM = dict()\n",
    "    for bf_class in ['BFC0','BFC1','BFC2']:\n",
    "        BFC_FH2[bf_class] = open(out_dir + '/' + bed_out_prefix + '_' + bf_class.lower() + '.bed', 'w')\n",
    "        BFC_FH2[bf_class].write(\"track name=\\\"\" + bed_out_prefix + \"_\" + bf_class.lower() + \"\\\" description=\\\"\" + bed_out_prefix + \" \" + bf_class + \"\\\" itemRgb=\\\"On\\\"\" + '\\n')\n",
    "        BFC_NUM[bf_class] = 0\n",
    "\n",
    "    # Iterate over all chromosomes\n",
    "    for chrom in baited_digest_set._baited_digest_dict.keys():\n",
    "\n",
    "        # Iterate over all baited fragments on this chromosome   \n",
    "        for baited_digest_key, baited_digest in baited_digest_set._baited_digest_dict[chrom].items():\n",
    "\n",
    "            # Prepare list of NE and EN interactions that belong to this baited fragment \n",
    "            interaction_list = baited_digest.interactions[i_cat]['NE'] + baited_digest.interactions[i_cat]['EN']\n",
    "\n",
    "            # Get overall read pair count frequencies\n",
    "            RPC_FREQ_DICT = get_rpc_freq_dict(interaction_list)\n",
    "\n",
    "            # Calculate score and assign fragment to BFC0, BFC1, or BFC2       \n",
    "            bf_score, bf_class, sum_rpc_3, sum_rpc_2, sum_total = get_bf_score_and_class_rpc(\n",
    "                RPC_FREQ_DICT[i_cat]['ALL'],\n",
    "                bfs_threshold)\n",
    "\n",
    "            # Count baited fragments of different classes\n",
    "            BFC_NUM[bf_class] += 1\n",
    "\n",
    "            # Get coordinates from key for output\n",
    "            chom, sta, end = baited_digest_key.split('\\t')\n",
    "\n",
    "            # Format score for output\n",
    "            bf_score_formatted = \"{:.2f}\".format(bf_score)\n",
    "\n",
    "            # Write coordinates and additional information to the corresponding BED file        \n",
    "            name = bf_class + '|' + bf_score_formatted + ':' + str(sum_rpc_2) + ':' + str(sum_rpc_3) + ':' + str(sum_total)\n",
    "            BED_line = chom + '\\t' + sta + '\\t' + end + '\\t' + name + '\\t' + bf_score_formatted + '\\t' '.'\n",
    "            if bf_class == 'BFC0':\n",
    "                BED_line += '\\t' + sta + '\\t' + sta + '\\t' + '128,128,128' + '\\n'\n",
    "            elif bf_class == 'BFC1':\n",
    "                BED_line += '\\t' + sta + '\\t' + str(int(sta)+100) + '\\t' + '0,0,100' + '\\n'\n",
    "            elif bf_class == 'BFC2':\n",
    "                BED_line += '\\t' + str(int(end)-100) + '\\t' + end + '\\t' + '0,100,0' + '\\n'\n",
    "            else:\n",
    "                print('[ERROR] Invalid BF class ID: ' + bf_class + '!')\n",
    "            BFC_FH2[bf_class].write(BED_line)\n",
    "\n",
    "    # Report fragment counts\n",
    "    print('Total number of baited fragments: ' + \"{:,}\".format(sum(BFC_NUM.values())))\n",
    "    for bf_class in ['BFC0','BFC1','BFC2']:\n",
    "        print('\\t' + bf_class  + \": {:,}\".format(BFC_NUM[bf_class]))\n",
    "        BFC_FH2[bf_class].close()"
   ]
  },
  {
   "cell_type": "code",
   "execution_count": 7,
   "id": "d77eb6fb",
   "metadata": {},
   "outputs": [
    {
     "name": "stdout",
     "output_type": "stream",
     "text": [
      "Total number of baited fragments: 20,543\n",
      "\tBFC0: 6,572\n",
      "\tBFC1: 6,535\n",
      "\tBFC2: 7,436\n"
     ]
    }
   ],
   "source": [
    "OUT_DIR = NOTEBOOK_RESULTS_DIR + '/bfc_lists/' + AUTHOR\n",
    "%mkdir -p $OUT_DIR\n",
    "classify_baited_fragments(\n",
    "    baited_digest_set = baited_digest_set,\n",
    "    bfs_threshold = 2,\n",
    "    out_dir = OUT_DIR,\n",
    "    bed_out_prefix = OUT_PREFIX)"
   ]
  },
  {
   "cell_type": "markdown",
   "id": "011511dc",
   "metadata": {},
   "source": [
    "## Overlap of BFC fragments from different experiments\n",
    "\n",
    "This is a higher-level analysis of the interaction files for all cell types available for a given dataset. It is therefore necessary that a classification has been carried out beforehand for all files that are to be taken into account. The aim is to find out to what extent the classifications into BFC0, BFC1, and BFC2 differ for different experiments."
   ]
  },
  {
   "cell_type": "markdown",
   "id": "7755f852",
   "metadata": {},
   "source": [
    "### Select dataset"
   ]
  },
  {
   "cell_type": "code",
   "execution_count": null,
   "id": "ae6da7f6",
   "metadata": {},
   "outputs": [],
   "source": [
    "#AUTHOR_SHORT = 'SCH'\n",
    "#CT_LIST = ['MESC', 'MFLC', 'MESC_R1ABKO']\n",
    "#IN_DIR = NOTEBOOK_RESULTS_DIR + '/bfc_lists/' + AUTHOR_SHORT"
   ]
  },
  {
   "cell_type": "code",
   "execution_count": null,
   "id": "840d429b",
   "metadata": {},
   "outputs": [],
   "source": [
    "AUTHOR_SHORT = 'JAV'\n",
    "CT_LIST = ['MK', 'ERY', 'NEU', 'MON', 'MAC_M0', 'MAC_M1', 'MAC_M2', 'EP', 'NB', 'TB', 'FOET', 'NCD4', 'TCD4', 'NACD4', 'ACD4', 'NCD8', 'TCD8']\n",
    "IN_DIR = NOTEBOOK_RESULTS_DIR + '/bfc_lists/' + AUTHOR_SHORT"
   ]
  },
  {
   "cell_type": "markdown",
   "id": "74a9cdd5",
   "metadata": {},
   "source": [
    "### Perform classification for all cell types"
   ]
  },
  {
   "cell_type": "code",
   "execution_count": null,
   "id": "5a4ee3c6",
   "metadata": {},
   "outputs": [],
   "source": [
    "for ct in CT_LIST:\n",
    "    OUT_PREFIX = AUTHOR_SHORT + '_' + ct + '_' + PROTOCOL +'_REPC'\n",
    "    INTERACTION_FILE = '../../UICer_interactions/' + PROTOCOL + '/' + OUT_PREFIX + '_evaluated_and_categorized_interactions.tsv.gz'\n",
    "    print(INTERACTION_FILE)\n",
    "    d11_interaction_set = DiachromaticInteractionSet()\n",
    "    d11_interaction_set.parse_file(i_file = INTERACTION_FILE)\n",
    "    baited_digest_set = BaitedDigestSet()\n",
    "    baited_digest_set.ingest_interaction_set(d11_interaction_set)\n",
    "    classify_baited_fragments(\n",
    "    baited_digest_set = baited_digest_set,\n",
    "    bfs_threshold = 2,\n",
    "    out_dir = OUT_DIR,\n",
    "    bed_out_prefix = OUT_PREFIX)"
   ]
  },
  {
   "cell_type": "markdown",
   "id": "c099ad56",
   "metadata": {},
   "source": [
    "### Read baited fragments from files into data structure\n",
    "\n",
    "For each cell type, we create three sets of BFC fragment coordinates. Each set can be accessed by cell type and BF class."
   ]
  },
  {
   "cell_type": "code",
   "execution_count": null,
   "id": "73e06376",
   "metadata": {},
   "outputs": [],
   "source": [
    "bf_dict = dict()\n",
    "for ct in CT_LIST:\n",
    "    bf_dict[ct] = dict()\n",
    "    for bfc in ['0', '1', '2']:\n",
    "        f_name = IN_DIR + '/' + AUTHOR_SHORT + '_' + ct + '_CHC_REPC' +'_bfc' + bfc + '.bed'\n",
    "        print('Reading file: ' + f_name)\n",
    "        d_set = set()\n",
    "        with open(f_name) as fh:\n",
    "            next(fh) # discard header line\n",
    "            for line in fh:\n",
    "                fields = line.rstrip().split('\\t')\n",
    "                d_key = fields[0] +':' + fields[1] + '-' + fields[2]\n",
    "                d_set.add(d_key)\n",
    "        bf_dict[ct][bfc] = d_set"
   ]
  },
  {
   "cell_type": "markdown",
   "id": "17fef58b",
   "metadata": {},
   "source": [
    "### Get proportions of overlapping fragments for each pair of fragment sets"
   ]
  },
  {
   "cell_type": "code",
   "execution_count": null,
   "id": "763383df",
   "metadata": {
    "scrolled": false
   },
   "outputs": [],
   "source": [
    "isect_prop_list = []\n",
    "for BFC_A in ['0', '1', '2']:\n",
    "    for CT_A in CT_LIST:\n",
    "        col_names = []\n",
    "        for BFC_B in ['0', '1', '2']:\n",
    "            for CT_B in CT_LIST:\n",
    "                isect_size = len(bf_dict[CT_A][BFC_A] & bf_dict[CT_B][BFC_B])\n",
    "                set_A_size = len(bf_dict[CT_A][BFC_A])\n",
    "                isect_prop_list.append(isect_size/set_A_size)\n",
    "                col_names.append(CT_B + '-BFC' + BFC_B)\n",
    "\n",
    "# Transform list to matrix and set row and column names\n",
    "isect_prop_matrix = np.reshape(isect_prop_list, (-1, len(col_names)))\n",
    "isect_prop_df = pd.DataFrame(data=isect_prop_matrix, columns=col_names)\n",
    "isect_prop_df.index = col_names"
   ]
  },
  {
   "cell_type": "markdown",
   "id": "050ce052",
   "metadata": {},
   "source": [
    "### Create heatmap for overlap proportions\n",
    "\n",
    "Note that this heatmap is not symmetrical and should be read as follows. A box in row `i` and column `j` indicates the proportion of fragments in set `i` that occur in both sets `i` and `j`."
   ]
  },
  {
   "cell_type": "code",
   "execution_count": null,
   "id": "82c55cc0",
   "metadata": {},
   "outputs": [],
   "source": [
    "cm = sns.color_palette(\"rocket_r\", as_cmap=True)\n",
    "sns.heatmap(isect_prop_df, square=True, cmap=cm, xticklabels=True, yticklabels=True)\n",
    "plt.tick_params(axis='both', which='major', labelsize=4)\n",
    "plt.tight_layout()\n",
    "plt.savefig(IN_DIR + '/' + AUTHOR_SHORT + '_bfc_heatmap.pdf', bbox_inches='tight')"
   ]
  },
  {
   "cell_type": "code",
   "execution_count": null,
   "id": "6179e78c",
   "metadata": {},
   "outputs": [],
   "source": [
    "# Large heatmap for Javierre data\n",
    "fig, ax = plt.subplots(figsize=(15,15))\n",
    "cm = sns.color_palette(\"rocket_r\", as_cmap=True)\n",
    "ax = sns.heatmap(isect_prop_df, square=True, cmap=cm, xticklabels=True, yticklabels=True)\n",
    "ax.tick_params(labelsize=12)\n",
    "ax.figure.axes[-1].tick_params(labelsize=29)\n",
    "plt.tight_layout()\n",
    "plt.savefig(IN_DIR + '/' + AUTHOR_SHORT + '_bfc_heatmap.pdf', bbox_inches='tight')"
   ]
  },
  {
   "cell_type": "code",
   "execution_count": null,
   "id": "49e93c42",
   "metadata": {},
   "outputs": [],
   "source": [
    "# Small heatmap for Schoenefelder data\n",
    "fig, ax = plt.subplots(figsize=(5,5))\n",
    "cm = sns.color_palette(\"rocket_r\", as_cmap=True)\n",
    "ax = sns.heatmap(isect_prop_df, square=True, cmap=cm, xticklabels=True, yticklabels=True)\n",
    "ax.tick_params(labelsize=8)\n",
    "ax.figure.axes[-1].tick_params(labelsize=12)\n",
    "plt.tight_layout()\n",
    "plt.savefig(IN_DIR + '/' + AUTHOR_SHORT + '_bfc_heatmap_small.pdf', bbox_inches='tight')"
   ]
  }
 ],
 "metadata": {
  "kernelspec": {
   "display_name": "dscripts",
   "language": "python",
   "name": "dscripts"
  },
  "language_info": {
   "codemirror_mode": {
    "name": "ipython",
    "version": 3
   },
   "file_extension": ".py",
   "mimetype": "text/x-python",
   "name": "python",
   "nbconvert_exporter": "python",
   "pygments_lexer": "ipython3",
   "version": "3.8.8"
  }
 },
 "nbformat": 4,
 "nbformat_minor": 5
}
