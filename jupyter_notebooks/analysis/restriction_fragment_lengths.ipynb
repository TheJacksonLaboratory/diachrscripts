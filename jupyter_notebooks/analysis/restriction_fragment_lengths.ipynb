{
 "cells": [
  {
   "cell_type": "code",
   "execution_count": 1,
   "id": "2e6b1654",
   "metadata": {},
   "outputs": [],
   "source": [
    "import sys\n",
    "import os\n",
    "sys.path.append(\"../..\")\n",
    "from diachr import DiachromaticInteractionSet\n",
    "import numpy as np\n",
    "from scipy import stats\n",
    "import matplotlib.pyplot as plt\n",
    "\n",
    "# Create directory for output files generated in this notebook \n",
    "NOTEBOOK_RESULTS_DIR = 'results/restriction_fragment_lengths'\n",
    "%mkdir -p $NOTEBOOK_RESULTS_DIR"
   ]
  },
  {
   "cell_type": "markdown",
   "id": "46a2da69",
   "metadata": {},
   "source": [
    "# Restriction fragment lengths\n",
    "\n",
    "Longer restriction fragments may be more prone to random re-ligations than shorter restriction fragments. In this notebook, we compare the lengths of restriction fragments that are either associated only with balanced or only unbalanced interactions."
   ]
  },
  {
   "cell_type": "markdown",
   "id": "6413f1b0",
   "metadata": {},
   "source": [
    "## Loading interaction data\n",
    "\n",
    "### Choose an interaction file"
   ]
  },
  {
   "cell_type": "code",
   "execution_count": 2,
   "id": "19e08bb9",
   "metadata": {},
   "outputs": [],
   "source": [
    "AUTHOR = 'MIF' # JAV, SCH, MIF\n",
    "PROTOCOL = 'CHC' # HC or CHC\n",
    "CELL_TYPE_SHORT = 'GM12878' # MK, ERY, NEU, MON, MAC_M0, ..., MESC, MFLC, MESC_R1ABKO, GM12878\n",
    "OUT_PREFIX = AUTHOR + '_' + CELL_TYPE_SHORT + '_' + PROTOCOL +'_REPC'\n",
    "INTERACTION_FILE = '../../UICer_interactions/' + PROTOCOL + '/' + OUT_PREFIX + '_evaluated_and_categorized_interactions.tsv.gz' "
   ]
  },
  {
   "cell_type": "markdown",
   "id": "2222d54f",
   "metadata": {},
   "source": [
    "### Read interactions into data structure"
   ]
  },
  {
   "cell_type": "code",
   "execution_count": 3,
   "id": "a99b6f8b",
   "metadata": {
    "scrolled": true
   },
   "outputs": [
    {
     "name": "stdout",
     "output_type": "stream",
     "text": [
      "[INFO] Parsing Diachromatic interaction file ...\n",
      "\t[INFO] ../../UICer_interactions/CHC/MIF_GM12878_CHC_REPC_evaluated_and_categorized_interactions.tsv.gz\n",
      "\t[INFO] Parsed 1,000,000 interaction lines ...\n",
      "\t[INFO] Set size: 1,892,588\n",
      "[INFO] ... done.\n"
     ]
    }
   ],
   "source": [
    "# Create DiachromaticInteractionSet\n",
    "d11_interaction_set = DiachromaticInteractionSet()\n",
    "d11_interaction_set.parse_file(\n",
    "    i_file = INTERACTION_FILE,\n",
    "    verbose = True)"
   ]
  },
  {
   "cell_type": "markdown",
   "id": "8031e125",
   "metadata": {},
   "source": [
    "## Implement function to create boxplots for fragment lengths"
   ]
  },
  {
   "cell_type": "code",
   "execution_count": 4,
   "id": "a1646549",
   "metadata": {},
   "outputs": [],
   "source": [
    "def create_rfl_boxplot(\n",
    "    u_list=None, # BDC0 5' bait\n",
    "    b_list=None, # BDC0 3' bait\n",
    "    showfliers = True,\n",
    "    title='TITEL',\n",
    "    xlabel='XLAB_L',\n",
    "    output_pdf='OUT.pdf'):\n",
    "\n",
    "    # Set up figure\n",
    "    fig, (ax1, ax2) = plt.subplots(1,2)\n",
    "    box_width = 0.5\n",
    "    ax1.set_title(title, loc='left')\n",
    "    \n",
    "    # Determine range to be displayed    \n",
    "    xmin = min(u_list + b_list)\n",
    "    xmax = max(u_list + b_list)\n",
    "    padding = (xmax-xmin)/30\n",
    "    xmin = xmin - padding\n",
    "    xmax = xmax + padding        \n",
    "\n",
    "    # Create boxplots for 5' baits (left)\n",
    "    bp1 = ax1.boxplot(\n",
    "        [u_list, b_list],\n",
    "        widths=(box_width, box_width),\n",
    "        patch_artist=True,\n",
    "        labels=['Unbalanced\\nn=' + '{:,}'.format(len(u_list)),\n",
    "                'Balanced\\nn=' + '{:,}'.format(len(b_list))],\n",
    "        vert=False,\n",
    "        showfliers=showfliers\n",
    "    )\n",
    "    colors = ['orange', 'lightblue']\n",
    "    for patch, color in zip(bp1['boxes'], colors):\n",
    "        patch.set_facecolor(color)\n",
    "    ax1.set_xlabel(xlabel)\n",
    "    \n",
    "    # Highlight the area between the first and the third quantiles of the 5' distances of BDC0 in gray\n",
    "    shaded_q1, shaded_q2, shaded_q3 = np.quantile(b_list, [0.25, 0.50, 0.75])\n",
    "    ax1.axvspan(shaded_q1, shaded_q3, facecolor='gray', alpha=0.2)\n",
    "    ax1.axvline(shaded_q2, color='lightgray', zorder=0)\n",
    "\n",
    "\n",
    "    # Set limits of the x-axes\n",
    "    #if showfliers is False:\n",
    "    xmin_1, xmax_1 = ax1.get_xlim()\n",
    "    xmin = min([xmin_1, xmax_1])\n",
    "    xmax = max([xmin_1, xmax_1])\n",
    "    ax1.set_xlim(xmin,xmax)\n",
    "    padding = (xmax-xmin)/30\n",
    "    xmin = xmin - padding\n",
    "    xmax = xmax + padding\n",
    "\n",
    "    # Format figure and write to PDF file\n",
    "    fig.set_figheight(3)\n",
    "    fig.set_figwidth(8.5)#7.5\n",
    "    fig.tight_layout()\n",
    "    fig.savefig(output_pdf)"
   ]
  },
  {
   "cell_type": "markdown",
   "id": "0cbeb620",
   "metadata": {},
   "source": [
    "## Get two fragment sets associated with either balanced or unbalanced interactions\n",
    "\n",
    "A given fragment can be associated with both balanced and unbalanced interactions. Therefore we determine two sets of fragments associated either only with balanced or only with unbalanced interactions."
   ]
  },
  {
   "cell_type": "code",
   "execution_count": 5,
   "id": "857abd0e",
   "metadata": {},
   "outputs": [],
   "source": [
    "u_frags = set()\n",
    "b_frags = set()\n",
    "for d_inter in d11_interaction_set.interaction_list:\n",
    "    frag_5 = str(d_inter.fromA) + '-' + str(d_inter.toA)\n",
    "    frag_3 = str(d_inter.fromB) + '-' + str(d_inter.toB)\n",
    "    if d_inter.get_category() == 'UR' or d_inter.get_category() == 'UX':\n",
    "        u_frags.add(frag_5)\n",
    "        u_frags.add(frag_3)\n",
    "    if d_inter.get_category() == 'BR' or d_inter.get_category() == 'BX':\n",
    "        b_frags.add(frag_5)\n",
    "        b_frags.add(frag_3)\n",
    "u_only_frags = u_frags.difference(b_frags)\n",
    "b_only_frags = b_frags.difference(u_frags)"
   ]
  },
  {
   "cell_type": "markdown",
   "id": "f3dbe59a",
   "metadata": {},
   "source": [
    "## Get lists of fragment lengths"
   ]
  },
  {
   "cell_type": "code",
   "execution_count": 6,
   "id": "0d7a979a",
   "metadata": {},
   "outputs": [],
   "source": [
    "u_only_frag_len = list()\n",
    "b_only_frag_len = list()\n",
    "for frag in u_only_frags:\n",
    "    a, b = frag.split('-')\n",
    "    f_len = int(b) - int(a)\n",
    "    u_only_frag_len.append(f_len)\n",
    "for frag in b_only_frags:\n",
    "    a, b = frag.split('-')\n",
    "    f_len = int(b) - int(a)\n",
    "    b_only_frag_len.append(f_len)"
   ]
  },
  {
   "cell_type": "markdown",
   "id": "abdaf206",
   "metadata": {},
   "source": [
    "## Report summary statistics and test"
   ]
  },
  {
   "cell_type": "code",
   "execution_count": 7,
   "id": "050e9cc9",
   "metadata": {},
   "outputs": [
    {
     "name": "stdout",
     "output_type": "stream",
     "text": [
      "2872.0\n",
      "2304.0\n",
      "MannwhitneyuResult(statistic=7147901928.5, pvalue=0.0)\n"
     ]
    }
   ],
   "source": [
    "print(np.median(u_only_frag_len))\n",
    "print(np.median(b_only_frag_len))\n",
    "print(stats.mannwhitneyu(u_only_frag_len, b_only_frag_len, alternative='two-sided'))"
   ]
  },
  {
   "cell_type": "markdown",
   "id": "65323d2b",
   "metadata": {},
   "source": [
    "## Create boxplot"
   ]
  },
  {
   "cell_type": "code",
   "execution_count": 8,
   "id": "b804772e",
   "metadata": {},
   "outputs": [
    {
     "data": {
      "image/png": "[encoded data removed]",
      "text/plain": [
       "<Figure size 850x300 with 2 Axes>"
      ]
     },
     "metadata": {},
     "output_type": "display_data"
    }
   ],
   "source": [
    "create_rfl_boxplot(\n",
    "    u_list=u_only_frag_len,\n",
    "    b_list=b_only_frag_len,\n",
    "    showfliers=False,\n",
    "    title='Fragments involved in interactions',\n",
    "    xlabel='Fragment length',\n",
    "    output_pdf=NOTEBOOK_RESULTS_DIR + '/' + OUT_PREFIX  + '_restriction_fragment_lengths.pdf')"
   ]
  }
 ],
 "metadata": {
  "kernelspec": {
   "display_name": "dscripts",
   "language": "python",
   "name": "dscripts"
  },
  "language_info": {
   "codemirror_mode": {
    "name": "ipython",
    "version": 3
   },
   "file_extension": ".py",
   "mimetype": "text/x-python",
   "name": "python",
   "nbconvert_exporter": "python",
   "pygments_lexer": "ipython3",
   "version": "3.8.8"
  }
 },
 "nbformat": 4,
 "nbformat_minor": 5
}
