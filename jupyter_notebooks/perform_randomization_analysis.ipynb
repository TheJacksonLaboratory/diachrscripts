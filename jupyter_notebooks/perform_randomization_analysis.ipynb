{
 "cells": [
  {
   "cell_type": "markdown",
   "metadata": {},
   "source": [
    "# Randomization analysis\n",
    "\n",
    "In this notebook we investigate whether interactions with an unbalance of simple and twisted read pairs occur more often than expected by chance. Similar to the FDR procedure, we randomize the simple and twisted read pair counts in each interaction according to a binomial distribution with $p=0.5$ and then determine the total number of significant interactions at a given nominal alpha. But instead of doing only one iteration of this procedure, as we do for estimating the FDR, we do many interations, e.g. ``10,000``. If we never observe more significant interactions than for the non-randomized data, we speak of an empirical P-value of ``1/10000``. In addition, we calculate the mean and standard devaition for the numbers of randomized significant interactions from all iterations, and from this, in turn, a Z-score."
   ]
  },
  {
   "cell_type": "markdown",
   "metadata": {},
   "source": [
    "## Setting up the notebook"
   ]
  },
  {
   "cell_type": "code",
   "execution_count": 1,
   "metadata": {},
   "outputs": [],
   "source": [
    "import sys\n",
    "import os\n",
    "from numpy import arange\n",
    "import pandas\n",
    "sys.path.append(\"..\")\n",
    "from diachr import DiachromaticInteractionSet\n",
    "from diachr import RandomizeInteractionSet"
   ]
  },
  {
   "cell_type": "markdown",
   "metadata": {},
   "source": [
    "In this notebook, we use the following classes and functions:\n",
    "* ``DiachromaticInteractionSet``\n",
    "    - ``parse_file``: Read interactions from file\n",
    "    - ``get_read_file_info_report``: Get information about files that have already been read in form of a formatted string\n",
    "* ``RandomizeInteractionSet``\n",
    "    - ``perform_randomization_analysis``: The entire randomzation analysis is carried out in this function using sub-functions that are also used for the FDR procedure, which is also implemented in ``RandomizeInteractionSet``\n",
    "\n",
    "We use the ``DiachromaticInteractionSet`` to read interactions from a file. The FDR procedure is carried out in class ``RandomizeInteractionSet``, which operates on an already existing ``DiachromaticInteractionSet`` object that has been passed to its constructor."
   ]
  },
  {
   "cell_type": "markdown",
   "metadata": {},
   "source": [
    "## Test files"
   ]
  },
  {
   "cell_type": "markdown",
   "metadata": {},
   "source": [
    "### Test file 1\n",
    "\n",
    "We use the test file with ``64,000`` interactions, which we also use to test the FDR procedure."
   ]
  },
  {
   "cell_type": "code",
   "execution_count": 2,
   "metadata": {},
   "outputs": [
    {
     "name": "stdout",
     "output_type": "stream",
     "text": [
      "../tests/data/test_03/diachromatic_interaction_file_fdr_top_64000.tsv.gz\r\n"
     ]
    }
   ],
   "source": [
    "ls ../tests/data/test_03/*top_64000*"
   ]
  },
  {
   "cell_type": "markdown",
   "metadata": {},
   "source": [
    "## Demonstration of the analysis using the test file with ``64,000`` interactions"
   ]
  },
  {
   "cell_type": "markdown",
   "metadata": {},
   "source": [
    "First, we read the interaction file into an interaction set."
   ]
  },
  {
   "cell_type": "code",
   "execution_count": 2,
   "metadata": {},
   "outputs": [
    {
     "name": "stdout",
     "output_type": "stream",
     "text": [
      "[INFO] Parsing Diachromatic interaction file ...\n",
      "\t[INFO] ../tests/data/test_03/diachromatic_interaction_file_fdr_top_64000.tsv.gz\n",
      "[INFO] ... done.\n",
      "[INFO] Report on reading files:\n",
      "\t[INFO] Read interaction data from 1 files:\n",
      "\t\t[INFO] 64,000 interactions from: \n",
      "\t\t\t[INFO] ../tests/data/test_03/diachromatic_interaction_file_fdr_top_64000.tsv.gz\n",
      "\t\t\t[INFO] Set size: 64,000\n",
      "\t[INFO] The interaction set has 64,000 interactions.\n",
      "[INFO] End of report.\n",
      "\n"
     ]
    }
   ],
   "source": [
    "interaction_set = DiachromaticInteractionSet()\n",
    "interaction_set.parse_file('../tests/data/test_03/diachromatic_interaction_file_fdr_top_64000.tsv.gz', verbose=True)\n",
    "read_file_info_report = interaction_set.get_read_file_info_report()\n",
    "print(read_file_info_report)"
   ]
  },
  {
   "cell_type": "markdown",
   "metadata": {},
   "source": [
    "Next, we create an object of class ``RandomizeInteractionSet`` and pass the interaction set to this object."
   ]
  },
  {
   "cell_type": "code",
   "execution_count": 3,
   "metadata": {},
   "outputs": [],
   "source": [
    "randomization_analysis = RandomizeInteractionSet(interaction_set=interaction_set)"
   ]
  },
  {
   "cell_type": "markdown",
   "metadata": {},
   "source": [
    "Then we call the function ``perform_randomization_analysis`` of the class ``RandomizeInteractionSet`` in which the entire randomization analysis is implemented. To this function, a ``nominal_alpha`` is passed, which is used as the P-value threshold. Interactions that have a smaller P-value are counted as significant.\n",
    "\n",
    "In addition, the number of iterations can be specified (``iter_num`` defaults to ``1,000``).\n",
    "\n",
    "### Paralell processing\n",
    "\n",
    "Dependinng on the innput parameters, the analysis can be computational intensive. Therefore, batches of iterations can be performed out in paralell processes. If ``thread_num=0`` (default), the Python package ``multiprocessing`` is not used and all iterations are performed in sequence. If ``thread_num=1``, then the ``multiprocessing`` package is used, but all iterations are performed in a single process. If ``1 < thread_num``, the iterations are divided into batches that are performed in paralell processes. We use a different random seed for each iteration. Overall, however, we use the same seeds so that the same result is obtained, regardless of whether the iterations are performed in one or more processes. We implemented this in this way in order to be able to test the paralellization in a unit test."
   ]
  },
  {
   "cell_type": "code",
   "execution_count": 23,
   "metadata": {},
   "outputs": [
    {
     "name": "stdout",
     "output_type": "stream",
     "text": [
      "[INFO] Performing randomization analysis with 1000 iterations ...\n",
      "\t[INFO] Determining number of significant interactions at nominal alpha ...\n",
      "\t[INFO] Randomizing interactions ...\n",
      "\t\t[INFO] Batch: Performing 500 iterations ...\n",
      "\t\t\t[INFO] First iteration indices: [0, 1, 2, 3, 4, 5, 6, 7, 8, 9 ,...\n",
      "\t\t[INFO] Batch: Performing 500 iterations ...\n",
      "\t\t\t[INFO] First iteration indices: [500, 501, 502, 503, 504, 505, 506, 507, 508, 509 ,...\n",
      "\t[INFO] Calculating summary statistics ...\n",
      "[INFO] ... done.\n",
      "\n",
      "Runtime: 53.8504581451416\n",
      "\n",
      "[INFO] Report on randomization analysis:\n",
      "\t[INFO] Input parameters:\n",
      "\t\t[INFO] Nominal alpha: 0.00250\n",
      "\t\t[INFO] Number of iterations: 1,000\n",
      "\t\t[INFO] Number of input interactions: 64,000\n",
      "\t[INFO] Results:\n",
      "\t\t[INFO] Original number of significant interactions: 1,424\n",
      "\t\t[INFO] Number of randomized interactions: 38,749\n",
      "\t\t[INFO] First 10 significant randomized interaction numbers: \n",
      "\t\t\t[52, 50, 45, 60, 43, 43, 46, 48, 47, 60 ,...\n",
      "\t\t[INFO] Mean number of significant randomized interactions: 51\n",
      "\t\t[INFO] Standard deviation of significant randomized interactions: 7.29\n",
      "\t\t[INFO] Z-score: 188.18\n",
      "[INFO] End of report.\n",
      "\n"
     ]
    }
   ],
   "source": [
    "import time\n",
    "start = time.time()\n",
    "randomization_analysis_info_dict = randomization_analysis.perform_randomization_analysis(\n",
    "    nominal_alpha = 0.0025,\n",
    "    iter_num = 1000,\n",
    "    thread_num=2,\n",
    "    verbose = True)\n",
    "end = time.time()\n",
    "print(\"\\nRuntime: \" + str(end-start) + '\\n')\n",
    "print(randomization_analysis.get_randomization_info_report())"
   ]
  },
  {
   "cell_type": "code",
   "execution_count": 20,
   "metadata": {},
   "outputs": [
    {
     "data": {
      "text/html": [
       "<div>\n",
       "<style scoped>\n",
       "    .dataframe tbody tr th:only-of-type {\n",
       "        vertical-align: middle;\n",
       "    }\n",
       "\n",
       "    .dataframe tbody tr th {\n",
       "        vertical-align: top;\n",
       "    }\n",
       "\n",
       "    .dataframe thead th {\n",
       "        text-align: right;\n",
       "    }\n",
       "</style>\n",
       "<table border=\"1\" class=\"dataframe\">\n",
       "  <thead>\n",
       "    <tr style=\"text-align: right;\">\n",
       "      <th></th>\n",
       "      <th>SIG_NUM_O</th>\n",
       "      <th>I_NUM_RANDOMIZED</th>\n",
       "      <th>SIG_NUM_R_MEAN</th>\n",
       "      <th>SIG_NUM_R_STD</th>\n",
       "      <th>Z_SCORE</th>\n",
       "    </tr>\n",
       "  </thead>\n",
       "  <tbody>\n",
       "    <tr>\n",
       "      <td>0</td>\n",
       "      <td>1424</td>\n",
       "      <td>38749</td>\n",
       "      <td>51.01</td>\n",
       "      <td>6.902891</td>\n",
       "      <td>198.90073</td>\n",
       "    </tr>\n",
       "  </tbody>\n",
       "</table>\n",
       "</div>"
      ],
      "text/plain": [
       "   SIG_NUM_O  I_NUM_RANDOMIZED  SIG_NUM_R_MEAN  SIG_NUM_R_STD    Z_SCORE\n",
       "0       1424             38749           51.01       6.902891  198.90073"
      ]
     },
     "execution_count": 20,
     "metadata": {},
     "output_type": "execute_result"
    }
   ],
   "source": [
    "pandas.DataFrame(randomization_analysis_info_dict['RESULTS']['SUMMARY'])"
   ]
  },
  {
   "cell_type": "markdown",
   "metadata": {},
   "source": [
    "### Develop a plot to be generated automatically in future"
   ]
  },
  {
   "cell_type": "code",
   "execution_count": 24,
   "metadata": {},
   "outputs": [
    {
     "data": {
      "image/png": "[encoded data removed]",
      "text/plain": [
       "<Figure size 504x781.92 with 3 Axes>"
      ]
     },
     "metadata": {},
     "output_type": "display_data"
    }
   ],
   "source": [
    "import matplotlib.pyplot as plt\n",
    "%matplotlib inline\n",
    "\n",
    "header_font_size = 10\n",
    "\n",
    "analysis_name = 'Test'\n",
    "nominal_alpha = randomization_analysis_info_dict['INPUT_PARAMETERS']['NOMINAL_ALPHA'][0]\n",
    "iter_num = randomization_analysis_info_dict['INPUT_PARAMETERS']['ITER_NUM'][0]\n",
    "input_interactions_num = randomization_analysis_info_dict['INPUT_PARAMETERS']['INPUT_INTERACTIONS_NUM'][0]\n",
    "\n",
    "sig_num_r_list = randomization_analysis_info_dict['RESULTS']['SIG_NUM_R_LIST']\n",
    "sig_num_o = randomization_analysis_info_dict['RESULTS']['SUMMARY']['SIG_NUM_O'][0]\n",
    "i_num_randomized = randomization_analysis_info_dict['RESULTS']['SUMMARY']['I_NUM_RANDOMIZED'][0]\n",
    "sig_num_r_mean = randomization_analysis_info_dict['RESULTS']['SUMMARY']['SIG_NUM_R_MEAN'][0]\n",
    "sig_num_r_sd = randomization_analysis_info_dict['RESULTS']['SUMMARY']['SIG_NUM_R_STD'][0]\n",
    "z_score = float(randomization_analysis_info_dict['RESULTS']['SUMMARY']['Z_SCORE'][0])\n",
    "\n",
    "\n",
    "fig, ax = plt.subplots(3, figsize=(7, 10.86), gridspec_kw={'height_ratios': [2, 1, 1]})\n",
    "\n",
    "# Add field with information about analysis\n",
    "plt.plot(ax=ax[0])\n",
    "ax[0].spines['left'].set_color('white')\n",
    "ax[0].spines['right'].set_color('white')\n",
    "ax[0].spines['top'].set_color('white')\n",
    "ax[0].spines['bottom'].set_color('white')\n",
    "ax[0].tick_params(axis='x', colors='white')\n",
    "ax[0].tick_params(axis='y', colors='white')\n",
    "ax[0].text(-0.2, 1.00, 'Randomization analysis results', fontsize=18, fontweight='bold')\n",
    "ax[0].text(-0.18, 0.90, 'Analysis name: ' + analysis_name, fontsize=header_font_size, fontweight='bold')\n",
    "ax[0].text(-0.18, 0.85, 'Nominal alpha: ' + \"{:.5f}\".format(nominal_alpha),\n",
    "           fontsize=header_font_size, fontweight='bold')\n",
    "ax[0].text(-0.18, 0.80, 'Number of iterations: ' + \"{:,}\".format(iter_num),\n",
    "           fontsize=header_font_size)\n",
    "ax[0].text(-0.18, 0.75, 'Number of input interactions: ' + \"{:,}\".format(input_interactions_num),\n",
    "           fontsize=header_font_size)\n",
    "\n",
    "ax[0].text(-0.18, 0.65, 'Number of observed significant interactions: ' + \"{:,}\".format(sig_num_o),\n",
    "           fontsize=header_font_size)\n",
    "ax[0].text(-0.18, 0.60, 'Number of randomized interactions: ' + \"{:,}\".format(i_num_randomized),\n",
    "           fontsize=header_font_size)\n",
    "ax[0].text(-0.18, 0.55, 'Mean number of significant randomized interactions: ' + \"{:,.0f}\".format(round(sig_num_r_mean)),\n",
    "           fontsize=header_font_size)\n",
    "ax[0].text(-0.18, 0.50, 'Standard deviation of significant randomized interactions: ' + \"{:.2f}\".format(sig_num_r_sd),\n",
    "           fontsize=header_font_size)\n",
    "ax[0].text(-0.18, 0.45, 'Z-score: ' + \"{:.2f}\".format(z_score), fontsize=header_font_size, fontweight='bold')\n",
    "\n",
    "\n",
    "# Plot distribution of iterations centered on mean of randomized significant interaction numbers\n",
    "n, bins, patches = ax[1].hist(sig_num_r_list, 20, density=False, facecolor='b', alpha=0.75, edgecolor='darkblue')\n",
    "ax[1].set_xlim(sig_num_r_mean - 5*sig_num_r_sd, sig_num_r_mean + 5*sig_num_r_sd)\n",
    "\n",
    "ax[1].set_title('Centered on mean of randomized significant interaction numbers', loc='left')\n",
    "ax[1].set_xlabel('Randomized significant interactions')\n",
    "ax[1].set_ylabel('Iterations')\n",
    "\n",
    "ax[1].axvspan(sig_num_r_mean - 3*sig_num_r_sd, sig_num_r_mean + 3*sig_num_r_sd, color='lightblue', alpha=0.9, zorder=0)\n",
    "\n",
    "ax[1].axvline(sig_num_r_mean, linestyle='--', color='red', linewidth=1)\n",
    "ax[1].axvline(sig_num_r_mean - 2*sig_num_r_sd, linestyle='--', color='w', linewidth=1, zorder=0)\n",
    "ax[1].axvline(sig_num_r_mean - 1*sig_num_r_sd, linestyle='--', color='w', linewidth=1, zorder=0)\n",
    "ax[1].axvline(sig_num_r_mean + 1*sig_num_r_sd, linestyle='--', color='w', linewidth=1, zorder=0)\n",
    "ax[1].axvline(sig_num_r_mean + 2*sig_num_r_sd, linestyle='--', color='w', linewidth=1, zorder=0)\n",
    "\n",
    "y_pos_lab = max(n) - max(n)/15\n",
    "x_pos_lab = sig_num_r_mean - 4.75*sig_num_r_sd\n",
    "ax[1].text(x_pos_lab, y_pos_lab,'Mean: ' + \"{:.2f}\".format(sig_num_r_mean), bbox={'color': 'w', 'alpha': 0.5, 'pad': 4})\n",
    "y_pos_lab = max(n) - 3*(max(n)/15)\n",
    "ax[1].text(x_pos_lab, y_pos_lab,'Standard deviation: ' + \"{:.2f}\".format(sig_num_r_sd), bbox={'color': 'w', 'alpha': 0.5, 'pad': 4})\n",
    "\n",
    "# Plot distribution of iterations in relation to observed number of significant interactions\n",
    "n, bins, patches = ax[2].hist(sig_num_r_list, 20, density=False, facecolor='b', alpha=0.75)\n",
    "ax[2].set_xlim(sig_num_r_mean - 5*sig_num_r_sd, sig_num_o + 5*sig_num_r_sd)\n",
    "\n",
    "ax[2].set_title('In relation to observed number of significant interactions', loc='left')\n",
    "ax[2].set_xlabel('Randomized significant interactions')\n",
    "ax[2].set_ylabel('Iterations')\n",
    "\n",
    "ax[2].axvspan(sig_num_r_mean - 3*sig_num_r_sd, sig_num_r_mean + 3*sig_num_r_sd, color='lightblue', alpha=0.9, zorder=0)\n",
    "ax[2].axvline(sig_num_r_mean, linestyle='--', color='red', linewidth=1)\n",
    "ax[2].axvline(sig_num_o, linestyle='--', color='red', linewidth=1)\n",
    "\n",
    "y_pos_lab = max(n) - max(n)/15\n",
    "x_pos_lab = sig_num_r_mean + 6*sig_num_r_sd\n",
    "ax[2].text(x_pos_lab, y_pos_lab,'Observed: ' + \"{:,}\".format(sig_num_o), bbox={'color': 'w', 'alpha': 0.5, 'pad': 4})\n",
    "y_pos_lab = max(n) - 3*(max(n)/15)\n",
    "ax[2].text(x_pos_lab, y_pos_lab,'Z-score: ' + \"{:.2f}\".format(z_score), bbox={'color': 'w', 'alpha': 0.5, 'pad': 4})\n",
    "\n",
    "\n",
    "\n",
    "fig.tight_layout()\n",
    "\n",
    "\n"
   ]
  },
  {
   "cell_type": "code",
   "execution_count": null,
   "metadata": {},
   "outputs": [],
   "source": []
  },
  {
   "cell_type": "markdown",
   "metadata": {},
   "source": [
    "## Results of the randomization depending on the number of input interactions\n",
    "\n",
    "XXX"
   ]
  },
  {
   "cell_type": "markdown",
   "metadata": {},
   "source": [
    "## Results of the randomization depending on the nominal alpha\n",
    "\n",
    "XXX"
   ]
  },
  {
   "cell_type": "code",
   "execution_count": 86,
   "metadata": {},
   "outputs": [
    {
     "data": {
      "text/plain": [
       "10.857142857142858"
      ]
     },
     "execution_count": 86,
     "metadata": {},
     "output_type": "execute_result"
    }
   ],
   "source": [
    "(19/7)*4"
   ]
  }
 ],
 "metadata": {
  "kernelspec": {
   "display_name": "Python 3 (diachscripts_p37env)",
   "language": "python",
   "name": "diachscripts_p37env"
  },
  "language_info": {
   "codemirror_mode": {
    "name": "ipython",
    "version": 3
   },
   "file_extension": ".py",
   "mimetype": "text/x-python",
   "name": "python",
   "nbconvert_exporter": "python",
   "pygments_lexer": "ipython3",
   "version": "3.7.4"
  }
 },
 "nbformat": 4,
 "nbformat_minor": 2
}
