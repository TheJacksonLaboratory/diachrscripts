{
 "cells": [
  {
   "cell_type": "code",
   "execution_count": 1,
   "id": "33958af9",
   "metadata": {},
   "outputs": [],
   "source": [
    "import sys\n",
    "import os\n",
    "sys.path.append(\"..\")"
   ]
  },
  {
   "cell_type": "code",
   "execution_count": 2,
   "id": "507980fb",
   "metadata": {},
   "outputs": [],
   "source": [
    "from collections import defaultdict\n",
    "import os\n",
    "import gzip\n",
    "import math\n",
    "import matplotlib as mpl\n",
    "import matplotlib.pyplot as plt\n",
    "import numpy as np\n",
    "from matplotlib import pyplot as plt\n",
    "from colour import Color\n",
    "\n",
    "from shapely.geometry.polygon import Polygon\n",
    "from descartes import PolygonPatch\n",
    "from diachr.diachromatic_interaction_set import DiachromaticInteractionSet\n",
    "from diachr.diachromatic_interaction import DiachromaticInteraction"
   ]
  },
  {
   "cell_type": "code",
   "execution_count": 3,
   "id": "a32c9122",
   "metadata": {},
   "outputs": [],
   "source": [
    "class Digest:\n",
    "    \"\"\"\n",
    "    Represent a BED3 version of a digest\n",
    "    \"\"\"\n",
    "\n",
    "    def __init__(self, chrom, begin, end):\n",
    "        if not isinstance(chrom, str):\n",
    "            raise ValueError(\"chrom must be string\")\n",
    "        if not isinstance(begin, int) and isinstance(end, int):\n",
    "            raise ValueError(\"begin and end must be ints\")\n",
    "        self._chrom = chrom\n",
    "        self._begin = begin\n",
    "        self._end = end\n",
    "\n",
    "    @property\n",
    "    def chrom(self):\n",
    "        return self._chrom\n",
    "\n",
    "    @property\n",
    "    def begin(self):\n",
    "        return self._begin\n",
    "\n",
    "    @property\n",
    "    def end(self):\n",
    "        return self._end\n",
    "\n",
    "    def __repr__(self):\n",
    "        return \"Digest(%s:%d-%d)\" % (self._chrom, self._begin, self._end)\n",
    "\n",
    "    def __eq__(self, other):\n",
    "        if isinstance(other, Digest):\n",
    "            return ((self._chrom == other._chrom) and (self._begin == other._begin) and (self._end == other._end))\n",
    "        else:\n",
    "            return False\n",
    "\n",
    "    def __ne__(self, other):\n",
    "        return (not self.__eq__(other))\n",
    "\n",
    "    def __hash__(self):\n",
    "        return hash(self.__repr__())"
   ]
  },
  {
   "cell_type": "code",
   "execution_count": 53,
   "id": "65941fac",
   "metadata": {},
   "outputs": [],
   "source": [
    "class Interaction:\n",
    "    def __init__(self, digestA, digestB, statusA, statusB, ST, icat) -> None:\n",
    "        if not (isinstance(digestA, Digest) and isinstance(digestB, Digest)):\n",
    "            raise ValueError(\"Did not pass Digest object\")\n",
    "        if statusA != 'E' and statusA != 'N':\n",
    "            raise ValueError(\"Invalid status A\")\n",
    "        if statusB != 'E' and statusB != 'N':\n",
    "            raise ValueError(\"Invalid status B\")\n",
    "        if ':' not in ST:\n",
    "            raise ValueError(\"Invalid ST String\")\n",
    "        valid_icat = {'DIX','DI', 'UIR', 'UI'}\n",
    "        if icat not in valid_icat:\n",
    "            raise ValueError(\"Invalid interaction. category: {}\".format(icat))\n",
    "        fields = ST.split(\":\")\n",
    "        if len(fields) != 4:\n",
    "            raise ValueError(\"Invalid ST String (We got {})\".format(ST))\n",
    "        self._digestA = digestA\n",
    "        self._digestB = digestB\n",
    "        self._statusA = statusA\n",
    "        self._statusB = statusB\n",
    "        self._simple = int(fields[0]) + int(fields[1])\n",
    "        self._twisted = int(fields[2]) + int(fields[3])\n",
    "        self._icat = icat\n",
    "        self._min = digestA.begin\n",
    "        self._max = digestB.end\n",
    "        self._span = digestB.end - digestA.begin\n",
    "        self._factor = None\n",
    "\n",
    "    @property\n",
    "    def digestA(self):\n",
    "        return self._digestA\n",
    "\n",
    "    @property\n",
    "    def digestB(self):\n",
    "        return self._digestB\n",
    "\n",
    "    @property\n",
    "    def simple(self):\n",
    "        return self._simple\n",
    "    \n",
    "    @property\n",
    "    def min(self):\n",
    "        if self._min is None:\n",
    "            return 0\n",
    "        else:\n",
    "            return self._min\n",
    "        \n",
    "    @property\n",
    "    def max(self):\n",
    "        if self._max is None:\n",
    "            return 0\n",
    "        else:\n",
    "            return self._max\n",
    "\n",
    "    @property\n",
    "    def twisted(self):\n",
    "        return self._twisted\n",
    "    \n",
    "    @property\n",
    "    def icat(self):\n",
    "        return self._icat\n",
    "\n",
    "    @property\n",
    "    def percentage(self):\n",
    "        p = int(100 * self._simple / (self._simple + self._twisted))\n",
    "        if p > 99:\n",
    "            return 99\n",
    "        else:\n",
    "            return p\n"
   ]
  },
  {
   "cell_type": "code",
   "execution_count": 54,
   "id": "f9e41508",
   "metadata": {},
   "outputs": [],
   "source": [
    "class DirectedTadVisualizer:\n",
    "    \"\"\"\n",
    "    This class coorrdinates the visualization of TADs, while showing directedness of interactions\n",
    "    within each cell.\n",
    "    \"\"\"\n",
    "\n",
    "    def __init__(self, fname) -> None:\n",
    "        if not isinstance(fname, str) or not os.path.isfile(fname):\n",
    "            raise ValueError(\"Invalid directed interaction file {}\".format(fname))\n",
    "        self._fname = fname\n",
    "        self._figure_size = 10\n",
    "        c1 = '#1f77b4'  # blue\n",
    "        c2 = 'green'  # green\n",
    "        red = Color(\"red\")\n",
    "        self._colors = list(red.range_to(Color(c1), 100))\n",
    "\n",
    "    def extract_interactions(self, chrom, begin, end, fname='dtadvis-out.tsv'):\n",
    "        if not isinstance(chrom, str):\n",
    "            raise ValueError(\"chrom must be a string\")\n",
    "        if not isinstance(begin, int) or not isinstance(end, int):\n",
    "            raise ValueError(\"begin and end must be integers\")\n",
    "        interaction_set = DiachromaticInteractionSet()\n",
    "        inter_dict = defaultdict(DiachromaticInteraction)\n",
    "        LEN = len(chrom)\n",
    "        if self._fname.endswith(\".gz\"):\n",
    "            with gzip.open(self._fname, 'rt') as fp:\n",
    "                n_lines = 0\n",
    "                for line in fp:\n",
    "                    n_lines += 1\n",
    "                    if n_lines % 1000000 == 0:\n",
    "                        print(\"\\t[INFO] Parsed \" + \"{:,}\".format(n_lines) + \" interaction lines ...\")\n",
    "                    #if line[:LEN] != chrom:\n",
    "                        #continue  # skip lines from other chromosomes\n",
    "                    d_inter = interaction_set._parse_line(line)\n",
    "                    # Only keep interactions completely within the region we want to visualize\n",
    "                    #if d_inter.chrA == chrom and d_inter.chrB == chrom:\n",
    "                        #if d_inter.fromA < begin or d_inter.toA > end or d_inter.fromB < begin or d_inter.toB > end:\n",
    "                            #continue\n",
    "                    \n",
    "                    # Skip trans interactions\n",
    "                    if d_inter.chrA != d_inter.chrB:\n",
    "                        continue\n",
    "\n",
    "                    # Only keep interactions completely within the region we want to visualize\n",
    "                    if d_inter.chrA != chrom or d_inter.fromA < begin or end < d_inter.toB:\n",
    "                        continue\n",
    "                            \n",
    "                    if d_inter.key in inter_dict:\n",
    "                        inter_dict[d_inter.key].append_interaction_data(simple=d_inter.n_simple,\n",
    "                                                                        twisted=d_inter.n_twisted)\n",
    "                    else:\n",
    "                        inter_dict[d_inter.key] = d_inter\n",
    "        else:\n",
    "            raise ValueError(\"Only gzip files supported\")\n",
    "        print(\"[INFO] Extracted {} interactions in range {}:{}-{}\".format(len(inter_dict), chrom, begin, end))\n",
    "        with open(fname, 'wt') as fh:\n",
    "            for ia in inter_dict.values():\n",
    "                fh.write(ia.get_diachromatic_interaction_line() + \"\\n\")\n",
    "        fh.close()\n",
    "\n",
    "    def pos_to_coordinate(self, pos):\n",
    "        return (pos - self._min) * self._factor\n",
    "    \n",
    "    def coordinate_to_pos(self, coordinate):\n",
    "        (1/self._factor) * coordinate + self_min\n",
    "\n",
    "    def digest_to_coordinates(self, digest):\n",
    "        begin = self.pos_to_coordinate(digest.begin) \n",
    "        end = self.pos_to_coordinate(digest.end)\n",
    "        return [begin, end]\n",
    "\n",
    "    def interaction_to_polygon(self, interaction, digest_to_coords):\n",
    "        if not isinstance(interaction, Interaction):\n",
    "            raise ValueError(\"Not an Interaction\")\n",
    "        if not isinstance(digest_to_coords, dict):\n",
    "            raise ValueError(\"Not a dictionary\")\n",
    "        \n",
    "        TANGENT_45 = math.tan(math.pi / 4)  # The lines go up at 45 degree angles\n",
    "        # a,b,c,d are coordinates of the two digests on the X axis\n",
    "        a = self.pos_to_coordinate(interaction.digestA.begin)\n",
    "        b = self.pos_to_coordinate(interaction.digestA.end)\n",
    "        c = self.pos_to_coordinate(interaction.digestB.begin)\n",
    "        d = self.pos_to_coordinate(interaction.digestB.end)\n",
    "        # bc is the point where lines from b and c meet\n",
    "        bc_x = b + 0.5 * (c - b)\n",
    "        # bc is the length of the segment from b to bc_x\n",
    "        bc = bc_x - b\n",
    "        # tan = opposite/adjacent\n",
    "        # opposite = tan(45)*adjacent\n",
    "        bc_y = TANGENT_45 * bc\n",
    "        # ad is the point where lines from a and d meet\n",
    "        ad_x = a + 0.5 * (d - a)\n",
    "        ad = ad_x - a\n",
    "        ad_y = TANGENT_45 * ad\n",
    "        # ac is the point where lines from a and c meet\n",
    "        ac_x = a + 0.5 * (c - a)\n",
    "        ac = ac_x - a\n",
    "        ac_y = TANGENT_45 * ac\n",
    "        # bd is the point where lines from b and d meet\n",
    "        bd_x = b + 0.5 * (d - b)\n",
    "        bd = bd_x - b\n",
    "        bd_y = TANGENT_45 * bd\n",
    "        poly = Polygon([(bc_x, bc_y), (bd_x, bd_y), (ad_x, ad_y), (ac_x, ac_y)])\n",
    "        icat = interaction.icat\n",
    "        if icat == 'DIX':\n",
    "            color ='orangered' # default, for DIX\n",
    "        elif icat == 'DI':\n",
    "            color = 'orange'\n",
    "        elif icat == 'UIR':\n",
    "            color = 'lightblue'\n",
    "        else:\n",
    "            color = 'gray'\n",
    "        i = interaction.percentage\n",
    "        #color = self._colors[i].get_rgb()\n",
    "        return PolygonPatch(polygon=poly, ec=color)\n",
    "\n",
    "    def create_visualization(self, fname):\n",
    "        \"\"\"\n",
    "        chr4\t10154260\t10155805\tN\tchr4\t10361332\t10367100\tN\t1:1\n",
    "        \"\"\"\n",
    "        if not isinstance(fname, str) or not os.path.isfile(fname):\n",
    "            raise ValueError(\"Invalid directed interaction file {}\".format(fname))\n",
    "        digest_set = set()\n",
    "        interaction_list = []\n",
    "        with open(fname) as f:\n",
    "            for line in f:\n",
    "                fields = line.rstrip().split('\\t')\n",
    "                digestA = Digest(chrom=fields[0], begin=int(fields[1]), end=int(fields[2]))\n",
    "                digestB = Digest(chrom=fields[4], begin=int(fields[5]), end=int(fields[6]))\n",
    "                digest_set.add(digestA)\n",
    "                digest_set.add(digestB)\n",
    "                statusA = fields[3] # N or E for digest A\n",
    "                statusB = fields[7] # N or E for digest B\n",
    "                ST = fields[8] # e.g., 2:3:1:5, read pair counts\n",
    "                icat = fields[10] # interaction category, e.g. DIX, DI, etc.\n",
    "                ia = Interaction(digestA=digestA, digestB=digestB, statusA=statusA, statusB=statusB, ST=ST, icat=icat)\n",
    "                interaction_list.append(ia)\n",
    "\n",
    "        digest_list = list(digest_set)\n",
    "        digest_list.sort(key=lambda x: x.begin, reverse=False)\n",
    "        self._min = min([x.begin for x in digest_list])\n",
    "        self._max = max([x.end for x in digest_list])\n",
    "        self._span = self._max - self._min\n",
    "        self._factor = self._figure_size / self._span\n",
    "        print(\"[INFO] min: {} max: {}\".format(self._min, self._max))\n",
    "        digest_to_coords = defaultdict(list)\n",
    "        for d in digest_list:\n",
    "            digest_to_coords[d] = self.digest_to_coordinates(d)\n",
    "        print(\"[INFO] Got {} digests\".format(len(digest_set)))\n",
    "        print(\"[INFO] Got {} interactions\".format(len(interaction_list)))\n",
    "        fig = plt.figure(1, figsize=(15, 9))\n",
    "        ax = fig.add_subplot(111)\n",
    "\n",
    "        ax.set_title('Directed Interactions')\n",
    "        xrange = [0, 10]\n",
    "        yrange = [0, 6]\n",
    "        ax.set_xlim(xrange)\n",
    "        ax.set_ylim(yrange)\n",
    "        for ia in interaction_list:\n",
    "            polypatch = self.interaction_to_polygon(interaction=ia, digest_to_coords=digest_to_coords)\n",
    "            ax.add_patch(polypatch)\n",
    "        # ax.set_xticks(range(*xrange) + [xrange[-1]])\n",
    "        # ax.set_ylim(*yrange)\n",
    "        # ax.set_yticks(range(*yrange) + [yrange[-1]])\n",
    "        ax.set_aspect(1)\n",
    "        plt.show()\n"
   ]
  },
  {
   "cell_type": "code",
   "execution_count": 22,
   "id": "ed19c73d",
   "metadata": {},
   "outputs": [],
   "source": [
    "infile = '/Users/robinp/Downloads/JAV_MK_RALT_20000_ht_fdr0.05_evaluated_and_categorized_interactions.tsv.gz'"
   ]
  },
  {
   "cell_type": "code",
   "execution_count": 11,
   "id": "colonial-charity",
   "metadata": {},
   "outputs": [],
   "source": [
    "#infile = '/Users/hansep/PycharmProjects/diachrscripts/DICer_interactions/HT/FDR005/CHC/JAV_MK_RALT_20000_ht_fdr0.05_evaluated_and_categorized_interactions_chr10.tsv.gz'"
   ]
  },
  {
   "cell_type": "code",
   "execution_count": 63,
   "id": "cbc78f1d",
   "metadata": {},
   "outputs": [],
   "source": [
    "chrom = 'chr10'\n",
    "begin = 95500000\n",
    "end = begin + 50000"
   ]
  },
  {
   "cell_type": "code",
   "execution_count": 64,
   "id": "6370cd34",
   "metadata": {},
   "outputs": [
    {
     "name": "stdout",
     "output_type": "stream",
     "text": [
      "\t[INFO] Parsed 1,000,000 interaction lines ...\n",
      "\t[INFO] Parsed 2,000,000 interaction lines ...\n",
      "\t[INFO] Parsed 3,000,000 interaction lines ...\n",
      "\t[INFO] Parsed 4,000,000 interaction lines ...\n",
      "\t[INFO] Parsed 5,000,000 interaction lines ...\n",
      "\t[INFO] Parsed 6,000,000 interaction lines ...\n",
      "\t[INFO] Parsed 7,000,000 interaction lines ...\n",
      "\t[INFO] Parsed 8,000,000 interaction lines ...\n",
      "\t[INFO] Parsed 9,000,000 interaction lines ...\n",
      "[INFO] Extracted 5 interactions in range chr10:95500000-95550000\n",
      "[INFO] min: 95504767 max: 95543622\n",
      "[INFO] Got 6 digests\n",
      "[INFO] Got 5 interactions\n"
     ]
    },
    {
     "data": {
      "image/png": "[encoded data removed]",
      "text/plain": [
       "<Figure size 1080x648 with 1 Axes>"
      ]
     },
     "metadata": {
      "needs_background": "light"
     },
     "output_type": "display_data"
    }
   ],
   "source": [
    "visualizer = DirectedTadVisualizer(fname=infile)\n",
    "outname = 'dtadvis-out.tsv'\n",
    "visualizer.extract_interactions(chrom=chrom, begin=begin, end=end, fname=outname)\n",
    "visualizer.create_visualization(outname)\n"
   ]
  },
  {
   "cell_type": "code",
   "execution_count": 57,
   "id": "6a37d25e",
   "metadata": {},
   "outputs": [],
   "source": [
    "digest_set = set()\n",
    "interaction_list = []\n",
    "with open('dtadvis-out.tsv') as f:\n",
    "    for line in f:\n",
    "        fields = line.rstrip().split('\\t')\n",
    "        digestA = Digest(chrom=fields[0], begin=int(fields[1]), end=int(fields[2]))\n",
    "        digestB = Digest(chrom=fields[4], begin=int(fields[5]), end=int(fields[6]))\n",
    "        digest_set.add(digestA)\n",
    "        digest_set.add(digestB)\n",
    "        statusA = fields[3] # N or E for digest A\n",
    "        statusB = fields[7] # N or E for digest B\n",
    "        ST = fields[8] # e.g., 2:3:1:5, read pair counts\n",
    "        icat = fields[10] # interaction category, e.g. DIX, DI, etc.\n",
    "        ia = Interaction(digestA=digestA, digestB=digestB, statusA=statusA, statusB=statusB, ST=ST, icat=icat)\n",
    "        interaction_list.append(ia)\n",
    "\n",
    "        "
   ]
  },
  {
   "cell_type": "code",
   "execution_count": 58,
   "id": "5050ccd1",
   "metadata": {},
   "outputs": [
    {
     "name": "stdout",
     "output_type": "stream",
     "text": [
      "[INFO] min: 95504767 max: 95996356\n",
      "[INFO] Got 148 digests\n",
      "[INFO] Got 797 interactions\n"
     ]
    }
   ],
   "source": [
    "digest_list = list(digest_set)\n",
    "digest_list.sort(key=lambda x: x.begin, reverse=False)\n",
    "_min = min([x.begin for x in digest_list])\n",
    "_max = max([x.end for x in digest_list])\n",
    "_span = _max - _min\n",
    "_factor = visualizer._figure_size / _span\n",
    "print(\"[INFO] min: {} max: {}\".format(_min, _max))\n",
    "digest_to_coords = defaultdict(list)\n",
    "for d in digest_list:\n",
    "    digest_to_coords[d] = visualizer.digest_to_coordinates(d)\n",
    "print(\"[INFO] Got {} digests\".format(len(digest_set)))\n",
    "print(\"[INFO] Got {} interactions\".format(len(interaction_list)))\n",
    "        \n"
   ]
  },
  {
   "cell_type": "code",
   "execution_count": 62,
   "id": "f9b9aea1",
   "metadata": {},
   "outputs": [
    {
     "name": "stderr",
     "output_type": "stream",
     "text": [
      "/var/folders/6q/nqfsh3cs775bb1rnrs7n_c_htypxv6/T/ipykernel_13205/482278562.py:15: UserWarning: FixedFormatter should only be used together with FixedLocator\n",
      "  ax.set_xticklabels(xticks_new)\n"
     ]
    },
    {
     "data": {
      "image/png": "[encoded data removed]",
      "text/plain": [
       "<Figure size 1080x648 with 1 Axes>"
      ]
     },
     "metadata": {
      "needs_background": "light"
     },
     "output_type": "display_data"
    }
   ],
   "source": [
    "fig = plt.figure(1, figsize=(15, 9))\n",
    "ax = fig.add_subplot(111)\n",
    "\n",
    "ax.set_title('Directed Interactions')\n",
    "xrange = [0, 10]\n",
    "yrange = [0, 6]\n",
    "ax.set_xlim(xrange)\n",
    "ax.set_ylim(yrange)\n",
    "xticks_new = []\n",
    "for ia in interaction_list:\n",
    "    polypatch = visualizer.interaction_to_polygon(interaction=ia, digest_to_coords=digest_to_coords)\n",
    "    ax.add_patch(polypatch)\n",
    "    pos = 0.5*(ia._min + ia._max) / 1000\n",
    "    xticks_new.append(str(int(pos)) + ' kb')\n",
    "ax.set_xticklabels(xticks_new)\n",
    "        # ax.set_ylim(*yrange)\n",
    "        # ax.set_yticks(range(*yrange) + [yrange[-1]])\n",
    "ax.set_aspect(1)\n",
    "plt.show()"
   ]
  },
  {
   "cell_type": "code",
   "execution_count": 34,
   "id": "f1c74803",
   "metadata": {},
   "outputs": [
    {
     "data": {
      "image/png": "[encoded data removed]",
      "text/plain": [
       "<Figure size 432x288 with 1 Axes>"
      ]
     },
     "metadata": {
      "needs_background": "light"
     },
     "output_type": "display_data"
    }
   ],
   "source": [
    "\n",
    "# return locs, labels where locs is an array of tick locations and\n",
    "# labels is an array of tick labels.\n",
    "locs, labels = plt.xticks()"
   ]
  },
  {
   "cell_type": "code",
   "execution_count": 45,
   "id": "cd02c95f",
   "metadata": {},
   "outputs": [
    {
     "ename": "IndexError",
     "evalue": "list index out of range",
     "output_type": "error",
     "traceback": [
      "\u001b[0;31m---------------------------------------------------------------------------\u001b[0m",
      "\u001b[0;31mIndexError\u001b[0m                                Traceback (most recent call last)",
      "\u001b[0;32m/var/folders/6q/nqfsh3cs775bb1rnrs7n_c_htypxv6/T/ipykernel_13205/3258547843.py\u001b[0m in \u001b[0;36m<module>\u001b[0;34m\u001b[0m\n\u001b[1;32m      1\u001b[0m \u001b[0mlabels\u001b[0m\u001b[0;34m\u001b[0m\u001b[0;34m\u001b[0m\u001b[0m\n\u001b[1;32m      2\u001b[0m \u001b[0mchrt\u001b[0m\u001b[0;34m=\u001b[0m\u001b[0;34m[\u001b[0m\u001b[0;34m'a'\u001b[0m\u001b[0;34m,\u001b[0m\u001b[0;34m'b'\u001b[0m\u001b[0;34m,\u001b[0m \u001b[0;34m'c'\u001b[0m\u001b[0;34m,\u001b[0m\u001b[0;34m'd'\u001b[0m\u001b[0;34m,\u001b[0m \u001b[0;34m'e'\u001b[0m\u001b[0;34m]\u001b[0m\u001b[0;34m\u001b[0m\u001b[0;34m\u001b[0m\u001b[0m\n\u001b[0;32m----> 3\u001b[0;31m \u001b[0mnew_labels\u001b[0m \u001b[0;34m=\u001b[0m \u001b[0;34m[\u001b[0m\u001b[0mx\u001b[0m\u001b[0;34m.\u001b[0m\u001b[0mset_text\u001b[0m\u001b[0;34m(\u001b[0m\u001b[0mchrt\u001b[0m\u001b[0;34m[\u001b[0m\u001b[0mi\u001b[0m\u001b[0;34m]\u001b[0m\u001b[0;34m)\u001b[0m \u001b[0;32mfor\u001b[0m \u001b[0mi\u001b[0m\u001b[0;34m,\u001b[0m\u001b[0mx\u001b[0m  \u001b[0;32min\u001b[0m \u001b[0menumerate\u001b[0m\u001b[0;34m(\u001b[0m\u001b[0mlabels\u001b[0m\u001b[0;34m)\u001b[0m\u001b[0;34m]\u001b[0m\u001b[0;34m\u001b[0m\u001b[0;34m\u001b[0m\u001b[0m\n\u001b[0m",
      "\u001b[0;32m/var/folders/6q/nqfsh3cs775bb1rnrs7n_c_htypxv6/T/ipykernel_13205/3258547843.py\u001b[0m in \u001b[0;36m<listcomp>\u001b[0;34m(.0)\u001b[0m\n\u001b[1;32m      1\u001b[0m \u001b[0mlabels\u001b[0m\u001b[0;34m\u001b[0m\u001b[0;34m\u001b[0m\u001b[0m\n\u001b[1;32m      2\u001b[0m \u001b[0mchrt\u001b[0m\u001b[0;34m=\u001b[0m\u001b[0;34m[\u001b[0m\u001b[0;34m'a'\u001b[0m\u001b[0;34m,\u001b[0m\u001b[0;34m'b'\u001b[0m\u001b[0;34m,\u001b[0m \u001b[0;34m'c'\u001b[0m\u001b[0;34m,\u001b[0m\u001b[0;34m'd'\u001b[0m\u001b[0;34m,\u001b[0m \u001b[0;34m'e'\u001b[0m\u001b[0;34m]\u001b[0m\u001b[0;34m\u001b[0m\u001b[0;34m\u001b[0m\u001b[0m\n\u001b[0;32m----> 3\u001b[0;31m \u001b[0mnew_labels\u001b[0m \u001b[0;34m=\u001b[0m \u001b[0;34m[\u001b[0m\u001b[0mx\u001b[0m\u001b[0;34m.\u001b[0m\u001b[0mset_text\u001b[0m\u001b[0;34m(\u001b[0m\u001b[0mchrt\u001b[0m\u001b[0;34m[\u001b[0m\u001b[0mi\u001b[0m\u001b[0;34m]\u001b[0m\u001b[0;34m)\u001b[0m \u001b[0;32mfor\u001b[0m \u001b[0mi\u001b[0m\u001b[0;34m,\u001b[0m\u001b[0mx\u001b[0m  \u001b[0;32min\u001b[0m \u001b[0menumerate\u001b[0m\u001b[0;34m(\u001b[0m\u001b[0mlabels\u001b[0m\u001b[0;34m)\u001b[0m\u001b[0;34m]\u001b[0m\u001b[0;34m\u001b[0m\u001b[0;34m\u001b[0m\u001b[0m\n\u001b[0m",
      "\u001b[0;31mIndexError\u001b[0m: list index out of range"
     ]
    }
   ],
   "source": [
    "labels\n",
    "chrt=['a','b', 'c','d', 'e']\n",
    "new_labels = [x.set_text(chrt[i]) for i,x  in enumerate(labels)]"
   ]
  },
  {
   "cell_type": "code",
   "execution_count": 39,
   "id": "9b222539",
   "metadata": {},
   "outputs": [],
   "source": [
    "t = labels[0]"
   ]
  },
  {
   "cell_type": "code",
   "execution_count": 40,
   "id": "8cef6827",
   "metadata": {},
   "outputs": [
    {
     "data": {
      "text/plain": [
       "matplotlib.text.Text"
      ]
     },
     "execution_count": 40,
     "metadata": {},
     "output_type": "execute_result"
    }
   ],
   "source": []
  },
  {
   "cell_type": "code",
   "execution_count": 42,
   "id": "afea0cd4",
   "metadata": {},
   "outputs": [
    {
     "data": {
      "text/plain": [
       "'0.0'"
      ]
     },
     "execution_count": 42,
     "metadata": {},
     "output_type": "execute_result"
    }
   ],
   "source": [
    "t.get_text()"
   ]
  },
  {
   "cell_type": "code",
   "execution_count": 43,
   "id": "25d22d26",
   "metadata": {},
   "outputs": [],
   "source": [
    "t.set_text(\"chr1 50kb\")"
   ]
  },
  {
   "cell_type": "code",
   "execution_count": 44,
   "id": "588bbf9f",
   "metadata": {},
   "outputs": [
    {
     "data": {
      "text/plain": [
       "Text(0.0, 0, 'chr1 50kb')"
      ]
     },
     "execution_count": 44,
     "metadata": {},
     "output_type": "execute_result"
    }
   ],
   "source": [
    "t"
   ]
  },
  {
   "cell_type": "code",
   "execution_count": null,
   "id": "190cb738",
   "metadata": {},
   "outputs": [],
   "source": []
  }
 ],
 "metadata": {
  "kernelspec": {
   "display_name": "local-venv",
   "language": "python",
   "name": "local-venv"
  },
  "language_info": {
   "codemirror_mode": {
    "name": "ipython",
    "version": 3
   },
   "file_extension": ".py",
   "mimetype": "text/x-python",
   "name": "python",
   "nbconvert_exporter": "python",
   "pygments_lexer": "ipython3",
   "version": "3.9.7"
  }
 },
 "nbformat": 4,
 "nbformat_minor": 5
}
