{
 "cells": [
  {
   "cell_type": "markdown",
   "id": "5a15626c",
   "metadata": {},
   "source": [
    "# Get started with `diachrscripts`\n",
    "\n",
    "The analysis of Hi-C and CHi-C data is generally very complex. For the preparatory analysis with `Diachromatic`, a tutorial can be found in the Read The Docs for this repository. Here we provide intermediate files for different steps of the analysis with `diachrscripts`."
   ]
  },
  {
   "cell_type": "markdown",
   "id": "231a92fe",
   "metadata": {},
   "source": [
    "## Diachromatic output files\n",
    "\n",
    "`Diachromatic` generates tab-delimited interaction files in which the read pair counts are reported separately according to their relative paired-end orientation. `diachrscripts` is a collection of Python modules, scripts and Jupyter notebooks that can be used to examine interactions for imbalances in the four read pair counts. We have prepared `Diachromatic` output files for publicly available data from three biological replicates ([Mifsud et al. (2015)](https://pubmed.ncbi.nlm.nih.gov/25938943/)) and made them available for download."
   ]
  },
  {
   "cell_type": "code",
   "execution_count": 1,
   "id": "88cd7176",
   "metadata": {},
   "outputs": [
    {
     "name": "stdout",
     "output_type": "stream",
     "text": [
      "--2023-02-03 03:03:10--  https://genecascade.org/downloads/diachrscripts/MIF_GM12878_CHC_REP1.interaction.counts.table.clr_200000.tsv.gz\n",
      "Resolving genecascade.org (genecascade.org)... 193.175.174.14\n",
      "Connecting to genecascade.org (genecascade.org)|193.175.174.14|:443... connected.\n",
      "HTTP request sent, awaiting response... 200 OK\n",
      "Length: 217508602 (207M) [application/x-gzip]\n",
      "Saving to: ‘../Diachromatic_interactions/gzdir/MIF_GM12878_CHC_REP1.interaction.counts.table.clr_200000.tsv.gz’\n",
      "\n",
      "../Diachromatic_int 100%[===================>] 207.43M  6.94MB/s    in 30s     \n",
      "\n",
      "2023-02-03 03:03:40 (6.94 MB/s) - ‘../Diachromatic_interactions/gzdir/MIF_GM12878_CHC_REP1.interaction.counts.table.clr_200000.tsv.gz’ saved [217508602/217508602]\n",
      "\n",
      "--2023-02-03 03:03:40--  https://genecascade.org/downloads/diachrscripts/MIF_GM12878_CHC_REP2.interaction.counts.table.clr_200000.tsv.gz\n",
      "Resolving genecascade.org (genecascade.org)... 193.175.174.14\n",
      "Connecting to genecascade.org (genecascade.org)|193.175.174.14|:443... connected.\n",
      "HTTP request sent, awaiting response... 200 OK\n",
      "Length: 1660904402 (1.5G) [application/x-gzip]\n",
      "Saving to: ‘../Diachromatic_interactions/gzdir/MIF_GM12878_CHC_REP2.interaction.counts.table.clr_200000.tsv.gz’\n",
      "\n",
      "../Diachromatic_int 100%[===================>]   1.55G  6.96MB/s    in 3m 50s  \n",
      "\n",
      "2023-02-03 03:07:30 (6.89 MB/s) - ‘../Diachromatic_interactions/gzdir/MIF_GM12878_CHC_REP2.interaction.counts.table.clr_200000.tsv.gz’ saved [1660904402/1660904402]\n",
      "\n",
      "--2023-02-03 03:07:30--  https://genecascade.org/downloads/diachrscripts/MIF_GM12878_CHC_REP1.interaction.counts.table.clr_200000.tsv.gz\n",
      "Resolving genecascade.org (genecascade.org)... 193.175.174.14\n",
      "Connecting to genecascade.org (genecascade.org)|193.175.174.14|:443... connected.\n",
      "HTTP request sent, awaiting response... 200 OK\n",
      "Length: 217508602 (207M) [application/x-gzip]\n",
      "Saving to: ‘../Diachromatic_interactions/gzdir/MIF_GM12878_CHC_REP1.interaction.counts.table.clr_200000.tsv.gz’\n",
      "\n",
      "../Diachromatic_int 100%[===================>] 207.43M  6.96MB/s    in 30s     \n",
      "\n",
      "2023-02-03 03:08:00 (6.95 MB/s) - ‘../Diachromatic_interactions/gzdir/MIF_GM12878_CHC_REP1.interaction.counts.table.clr_200000.tsv.gz’ saved [217508602/217508602]\n",
      "\n"
     ]
    }
   ],
   "source": [
    "!mkdir -p ../Diachromatic_interactions/gzdir\n",
    "!wget -O ../Diachromatic_interactions/gzdir/MIF_GM12878_CHC_REP1.interaction.counts.table.clr_200000.tsv.gz https://genecascade.org/downloads/diachrscripts/MIF_GM12878_CHC_REP1.interaction.counts.table.clr_200000.tsv.gz\n",
    "!wget -O ../Diachromatic_interactions/gzdir/MIF_GM12878_CHC_REP2.interaction.counts.table.clr_200000.tsv.gz https://genecascade.org/downloads/diachrscripts/MIF_GM12878_CHC_REP2.interaction.counts.table.clr_200000.tsv.gz\n",
    "!wget -O ../Diachromatic_interactions/gzdir/MIF_GM12878_CHC_REP1.interaction.counts.table.clr_200000.tsv.gz https://genecascade.org/downloads/diachrscripts/MIF_GM12878_CHC_REP1.interaction.counts.table.clr_200000.tsv.gz"
   ]
  },
  {
   "cell_type": "markdown",
   "id": "5c7e64a8",
   "metadata": {},
   "source": [
    "## Pooled Diachromatic interaction file\n",
    "\n",
    "The script `pooler.py` can be used to pool the read pair counts of `Diachromatic` interactions occurring in different replicates. How this script works is documented here: [jupyter_notebooks/usage/usage_of_pooler.ipynb](usage/usage_of_pooler.ipynb).\n",
    "\n",
    "We pool interactions by discarding those occurring in only one biological replicate and separately summing up the four counts for the remaining, overlapping interactions. Because Diachromatic reports all interactions with at least one supporting read pair, this step can be extremely memory intensive. We have prepared a Diachromatic interaction file with pooled counts from the files for the three biological replicates and made it available for download."
   ]
  },
  {
   "cell_type": "code",
   "execution_count": 2,
   "id": "ba13f070",
   "metadata": {},
   "outputs": [
    {
     "name": "stdout",
     "output_type": "stream",
     "text": [
      "--2023-02-03 03:08:01--  https://genecascade.org/downloads/diachrscripts/MIF_GM12878_CHC_REPC_at_least_2_combined_interactions.tsv.gz\n",
      "Resolving genecascade.org (genecascade.org)... 193.175.174.14\n",
      "Connecting to genecascade.org (genecascade.org)|193.175.174.14|:443... connected.\n",
      "HTTP request sent, awaiting response... 200 OK\n",
      "Length: 263110784 (251M) [application/x-gzip]\n",
      "Saving to: ‘../Diachromatic_interactions/gzdir/MIF_GM12878_CHC_REPC_at_least_2_combined_interactions.tsv.gz’\n",
      "\n",
      "../Diachromatic_int 100%[===================>] 250.92M  6.96MB/s    in 36s     \n",
      "\n",
      "2023-02-03 03:08:37 (6.92 MB/s) - ‘../Diachromatic_interactions/gzdir/MIF_GM12878_CHC_REPC_at_least_2_combined_interactions.tsv.gz’ saved [263110784/263110784]\n",
      "\n"
     ]
    }
   ],
   "source": [
    "!mkdir -p ../Diachromatic_interactions\n",
    "!wget -O ../Diachromatic_interactions/gzdir/MIF_GM12878_CHC_REPC_at_least_2_combined_interactions.tsv.gz https://genecascade.org/downloads/diachrscripts/MIF_GM12878_CHC_REPC_at_least_2_combined_interactions.tsv.gz"
   ]
  },
  {
   "cell_type": "markdown",
   "id": "a31032d8",
   "metadata": {},
   "source": [
    "## Diachromatic11 file with classified and scored interactions\n",
    "\n",
    "The script `UICer.py` (Unbalanced Interaction Caller) can be used to classify interactions from diachromatic interaction files as balanced or unbalanced. The result is a Diachromatic11 file with two additional columns for interaction categories and imbalance scores. In addition, the script also selects two equally sized reference sets of balanced and unbalanced interactions that have nearly identical distributions of total read pair counts per interaction. The interaction categories are:\n",
    "\n",
    "* `DIX`: Unbalanced interaction for which no balanced reference interaction with identical total read pair count could be selected\n",
    "* `DI`: Unbalanced interaction for which a balanced reference interaction with identical total read pair count could be selected\n",
    "* `UIR`: Balanced interaction selected as reference interaction\n",
    "* `UI`: Balanced interaction not selected as reference interaction\n",
    "\n",
    "How to use the `UICer.py` script is documented here:\n",
    "[jupyter_notebooks/usage/usage_of_UICer.ipynb](usage/usage_of_UICer.ipynb).\n",
    "\n",
    "If the `UICer.py` script is invoked without a classification threshold, then a randomization procedure is invoked to determine a classification threshold that will keep the FDR below 5%. Depending on the size of the input and the number of iterations, this can be quite computationally intensive. We applied UICer.py with 1000 iterations to the Diachromatic interaction file with the pooled interactions from three biological replicates and made the resulting Diachromatic11 interaction file available for download."
   ]
  },
  {
   "cell_type": "code",
   "execution_count": 11,
   "id": "1e21607c",
   "metadata": {},
   "outputs": [
    {
     "name": "stdout",
     "output_type": "stream",
     "text": [
      "--2023-02-03 03:49:35--  https://www.genecascade.org/downloads/diachrscripts/MIF_GM12878_CHC_REPC_evaluated_and_categorized_interactions.tsv.gz\n",
      "Resolving www.genecascade.org (www.genecascade.org)... 193.175.174.14\n",
      "Connecting to www.genecascade.org (www.genecascade.org)|193.175.174.14|:443... connected.\n",
      "HTTP request sent, awaiting response... 200 OK\n",
      "Length: 49360263 (47M) [application/x-gzip]\n",
      "Saving to: ‘../UICer_interactions/CHC/MIF_GM12878_CHC_REPC_evaluated_and_categorized_interactions.tsv.gz’\n",
      "\n",
      "../UICer_interactio 100%[===================>]  47.07M  6.96MB/s    in 6.8s    \n",
      "\n",
      "2023-02-03 03:49:42 (6.90 MB/s) - ‘../UICer_interactions/CHC/MIF_GM12878_CHC_REPC_evaluated_and_categorized_interactions.tsv.gz’ saved [49360263/49360263]\n",
      "\n"
     ]
    }
   ],
   "source": [
    "!mkdir -p ../UICer_interactions/CHC\n",
    "!wget -O ../UICer_interactions/CHC/MIF_GM12878_CHC_REPC_evaluated_and_categorized_interactions.tsv.gz https://www.genecascade.org/downloads/diachrscripts/MIF_GM12878_CHC_REPC_evaluated_and_categorized_interactions.tsv.gz"
   ]
  },
  {
   "cell_type": "markdown",
   "id": "633517d1",
   "metadata": {},
   "source": [
    "## Jupyter notebooks for various analyses\n",
    "\n",
    "All further analyzes in `diachscripts` require a Diachromatic11 interaction file as input and are performed in the Jupyter notebooks listed below.\n",
    "\n",
    "### Frequencies of interaction configurations\n",
    "\n",
    "In this analysis, the overall frequencies of the ten configurations of interactions are determined. This analysis can be performed here:\n",
    "[jupyter_notebooks/analysis/frequencies_of_interaction_configurations.ipynb](analysis/frequencies_of_interaction_configurations.ipynb).\n",
    "\n",
    "### Visualization of configurations at baited fragments\n",
    "\n",
    "We visualize interactions at baited restriction fragments, similar as in triangular heatmaps typically used for Hi-C data, as rectangles along the genomic axis whose edge lengths correspond to the lengths of the two associated fragments and whose colors correspond to the configurations of interactions. Such visualizations can be created here:\n",
    "[jupyter_notebooks/analysis/visualization_of_configurations.ipynb](analysis/visualization_of_configurations.ipynb).\n",
    "\n",
    "### Classification of baited fragments\n",
    "\n",
    "Depending on whether a baited fragment has predominantly paired-end orientations associated with the 5' end, the 3' end, or both ends of the fragment, we classify it as BFC0, BFC1, and BFC2. The subdivision of all baited fragments into BFC0, BFC1 and BFC2 can be done here:\n",
    "[jupyter_notebooks/analysis/baited_fragment_classification.ipynb](analysis/baited_fragment_classification.ipynb).\n",
    "\n",
    "### Bait analysis\n",
    "\n",
    "In this analysis, the correlation between the subdivision of the baited fragments into BFC0, BFC1 and BFC2 and the baits actually used for the underlying CHi-C experiment is investigated. Furthermore, the baits are examined in terms of distance to their restriction sites and GC as well as repeat content. These analyzes can be performed here:\n",
    "[jupyter_notebooks/analysis/bait_analysis.ipynb](analysis/bait_analysis.ipynb).\n",
    "\n",
    "### Restriction fragment lengths\n",
    "\n",
    "In this analysis, it is investigated whether there is a correlation between restriction fragment lengths and imbalances in the four counts. This analysis can be performed here:\n",
    "[jupyter_notebooks/analysis/restriction_fragment_lengths.ipynb](analysis/restriction_fragment_lengths.ipynb).\n",
    "\n",
    "### Distance-dependent contact frequencies\n",
    "\n",
    "In this analysis, we use distance-dependent contact frequencies to investigate the impact of  imbalances of the four read pair counts of interactions on the total read pair counts of interactions. This analysis can be performed here:\n",
    "[jupyter_notebooks/analysis/distance_dependent_contact_frequencies.ipynb](analysis/distance_dependent_contact_frequencies.ipynb)."
   ]
  },
  {
   "cell_type": "markdown",
   "id": "12dbbd01",
   "metadata": {},
   "source": [
    "## Reference sequence for GC and repeat content analysis\n",
    "\n",
    "The analysis of the GC and repeat content of baits requires the sequence of a reference genome and a corresponding FASTA index. Reference genomes can be downloaded and indexed as follows."
   ]
  },
  {
   "cell_type": "code",
   "execution_count": 4,
   "id": "5c11e120",
   "metadata": {},
   "outputs": [],
   "source": [
    "import pyfaidx"
   ]
  },
  {
   "cell_type": "code",
   "execution_count": 5,
   "id": "8a53dd1f",
   "metadata": {},
   "outputs": [],
   "source": [
    "GENOME = 'hg38' # hg38, hg19, mm10\n",
    "REF_DIR = '../additional_files/reference_sequence/'\n",
    "G_LINK = 'http://hgdownload.soe.ucsc.edu/goldenPath/' + GENOME + '/bigZips/' + GENOME + '.fa.gz'"
   ]
  },
  {
   "cell_type": "code",
   "execution_count": 8,
   "id": "d2404bb9",
   "metadata": {},
   "outputs": [
    {
     "name": "stdout",
     "output_type": "stream",
     "text": [
      "--2023-02-03 03:14:37--  http://hgdownload.soe.ucsc.edu/goldenPath/hg38/bigZips/hg38.fa.gz\n",
      "Resolving hgdownload.soe.ucsc.edu (hgdownload.soe.ucsc.edu)... 128.114.119.163\n",
      "Connecting to hgdownload.soe.ucsc.edu (hgdownload.soe.ucsc.edu)|128.114.119.163|:80... connected.\n",
      "HTTP request sent, awaiting response... 200 OK\n",
      "Length: 983659424 (938M) [application/x-gzip]\n",
      "Saving to: ‘../additional_files/reference_sequence/hg38_genome.fa.gz’\n",
      "\n",
      "../additional_files 100%[===================>] 938.09M  4.70MB/s    in 2m 55s  \n",
      "\n",
      "2023-02-03 03:17:33 (5.35 MB/s) - ‘../additional_files/reference_sequence/hg38_genome.fa.gz’ saved [983659424/983659424]\n",
      "\n"
     ]
    },
    {
     "data": {
      "text/plain": [
       "Faidx(\"../additional_files/reference_sequence/hg38_genome.fa\")"
      ]
     },
     "execution_count": 8,
     "metadata": {},
     "output_type": "execute_result"
    }
   ],
   "source": [
    "!mkdir -p $REF_DIR\n",
    "!wget -O $REF_DIR$GENOME'_genome.fa.gz' $G_LINK\n",
    "!gunzip -f $REF_DIR$GENOME'_genome.fa.gz'  \n",
    "pyfaidx.Faidx(REF_DIR + GENOME + '_genome.fa')"
   ]
  }
 ],
 "metadata": {
  "kernelspec": {
   "display_name": "dscripts",
   "language": "python",
   "name": "dscripts"
  },
  "language_info": {
   "codemirror_mode": {
    "name": "ipython",
    "version": 3
   },
   "file_extension": ".py",
   "mimetype": "text/x-python",
   "name": "python",
   "nbconvert_exporter": "python",
   "pygments_lexer": "ipython3",
   "version": "3.8.8"
  }
 },
 "nbformat": 4,
 "nbformat_minor": 5
}
