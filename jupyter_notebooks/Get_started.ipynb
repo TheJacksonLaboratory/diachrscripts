{
 "cells": [
  {
   "cell_type": "code",
   "execution_count": 1,
   "id": "b123dbb3",
   "metadata": {},
   "outputs": [],
   "source": [
    "import os\n",
    "import pyfaidx"
   ]
  },
  {
   "cell_type": "markdown",
   "id": "5a15626c",
   "metadata": {},
   "source": [
    "# Get started with `diachrscripts`\n",
    "\n",
    "The analysis of Hi-C and CHi-C data is generally very complex. For the preparatory analysis with `Diachromatic`, a tutorial can be found in the Read The Docs for this repository. Here we provide intermediate files for different steps of the analysis with `diachrscripts`."
   ]
  },
  {
   "cell_type": "markdown",
   "id": "231a92fe",
   "metadata": {},
   "source": [
    "## Diachromatic output files\n",
    "\n",
    "`Diachromatic` generates tab-delimited interaction files in which the read pair counts are reported separately according to their relative paired-end orientation. `diachrscripts` is a collection of Python modules, scripts and Jupyter notebooks that can be used to examine interactions for imbalances in the four read pair counts. We have prepared `Diachromatic` output files for publicly available data from three biological replicates in GM12878 cells ([Mifsud et al. (2015)](https://pubmed.ncbi.nlm.nih.gov/25938943/)) and made them available for download."
   ]
  },
  {
   "cell_type": "code",
   "execution_count": 2,
   "id": "88cd7176",
   "metadata": {},
   "outputs": [
    {
     "name": "stdout",
     "output_type": "stream",
     "text": [
      "--2023-03-22 10:09:24--  https://genecascade.org/downloads/diachrscripts/MIF_GM12878_CHC_REP1.interaction.counts.table.clr_200000.tsv.gz\n",
      "Resolving genecascade.org (genecascade.org)... 193.175.174.14\n",
      "Connecting to genecascade.org (genecascade.org)|193.175.174.14|:443... connected.\n",
      "HTTP request sent, awaiting response... 200 OK\n",
      "Length: 217508602 (207M) [application/x-gzip]\n",
      "Saving to: ‘../Diachromatic_interactions/gzdir/MIF_GM12878_CHC_REP1.interaction.counts.table.clr_200000.tsv.gz’\n",
      "\n",
      "../Diachromatic_int 100%[===================>] 207.43M  6.91MB/s    in 30s     \n",
      "\n",
      "2023-03-22 10:09:56 (6.93 MB/s) - ‘../Diachromatic_interactions/gzdir/MIF_GM12878_CHC_REP1.interaction.counts.table.clr_200000.tsv.gz’ saved [217508602/217508602]\n",
      "\n",
      "--2023-03-22 10:09:57--  https://genecascade.org/downloads/diachrscripts/MIF_GM12878_CHC_REP2.interaction.counts.table.clr_200000.tsv.gz\n",
      "Resolving genecascade.org (genecascade.org)... 193.175.174.14\n",
      "Connecting to genecascade.org (genecascade.org)|193.175.174.14|:443... connected.\n",
      "HTTP request sent, awaiting response... 200 OK\n",
      "Length: 1660904402 (1.5G) [application/x-gzip]\n",
      "Saving to: ‘../Diachromatic_interactions/gzdir/MIF_GM12878_CHC_REP2.interaction.counts.table.clr_200000.tsv.gz’\n",
      "\n",
      "../Diachromatic_int 100%[===================>]   1.55G  6.88MB/s    in 3m 50s  \n",
      "\n",
      "2023-03-22 10:13:47 (6.88 MB/s) - ‘../Diachromatic_interactions/gzdir/MIF_GM12878_CHC_REP2.interaction.counts.table.clr_200000.tsv.gz’ saved [1660904402/1660904402]\n",
      "\n",
      "--2023-03-22 10:13:47--  https://genecascade.org/downloads/diachrscripts/MIF_GM12878_CHC_REP3.interaction.counts.table.clr_200000.tsv.gz\n",
      "Resolving genecascade.org (genecascade.org)... 193.175.174.14\n",
      "Connecting to genecascade.org (genecascade.org)|193.175.174.14|:443... connected.\n",
      "HTTP request sent, awaiting response... 200 OK\n",
      "Length: 1172177120 (1.1G) [application/x-gzip]\n",
      "Saving to: ‘../Diachromatic_interactions/gzdir/MIF_GM12878_CHC_REP3.interaction.counts.table.clr_200000.tsv.gz’\n",
      "\n",
      "../Diachromatic_int 100%[===================>]   1.09G  6.86MB/s    in 2m 42s  \n",
      "\n",
      "2023-03-22 10:16:32 (6.89 MB/s) - ‘../Diachromatic_interactions/gzdir/MIF_GM12878_CHC_REP3.interaction.counts.table.clr_200000.tsv.gz’ saved [1172177120/1172177120]\n",
      "\n"
     ]
    }
   ],
   "source": [
    "os.makedirs('../Diachromatic_interactions/gzdir', exist_ok=True)\n",
    "!wget -O ../Diachromatic_interactions/gzdir/MIF_GM12878_CHC_REP1.interaction.counts.table.clr_200000.tsv.gz https://genecascade.org/downloads/diachrscripts/MIF_GM12878_CHC_REP1.interaction.counts.table.clr_200000.tsv.gz\n",
    "!wget -O ../Diachromatic_interactions/gzdir/MIF_GM12878_CHC_REP2.interaction.counts.table.clr_200000.tsv.gz https://genecascade.org/downloads/diachrscripts/MIF_GM12878_CHC_REP2.interaction.counts.table.clr_200000.tsv.gz\n",
    "!wget -O ../Diachromatic_interactions/gzdir/MIF_GM12878_CHC_REP3.interaction.counts.table.clr_200000.tsv.gz https://genecascade.org/downloads/diachrscripts/MIF_GM12878_CHC_REP3.interaction.counts.table.clr_200000.tsv.gz"
   ]
  },
  {
   "cell_type": "markdown",
   "id": "5c7e64a8",
   "metadata": {},
   "source": [
    "## Pooled Diachromatic interaction file\n",
    "\n",
    "The script `pooler.py` can be used to pool the read pair counts of `Diachromatic` interactions occurring in different replicates. How this script works is documented here: [jupyter_notebooks/usage/usage_of_pooler.ipynb](usage/usage_of_pooler.ipynb). We pool interactions by discarding those occurring in only one biological replicate and separately summing up the four counts for the remaining, overlapping interactions.\n",
    "\n",
    "Because Diachromatic reports all interactions with at least one supporting read pair, pooling interaction files can be extremely memory intensive. For instance, to pool two interaction files with `39,000,000` interactions and `48,000,000`, `44GB` memory was required. Therefore, we provide a pooled interaction file for download that was created with `pooler.py` using the three files downloaded in the cell above as input."
   ]
  },
  {
   "cell_type": "code",
   "execution_count": 3,
   "id": "ba13f070",
   "metadata": {},
   "outputs": [
    {
     "name": "stdout",
     "output_type": "stream",
     "text": [
      "--2023-03-22 10:16:32--  https://genecascade.org/downloads/diachrscripts/MIF_GM12878_CHC_REPC_at_least_2_combined_interactions.tsv.gz\n",
      "Resolving genecascade.org (genecascade.org)... 193.175.174.14\n",
      "Connecting to genecascade.org (genecascade.org)|193.175.174.14|:443... connected.\n",
      "HTTP request sent, awaiting response... 200 OK\n",
      "Length: 263110784 (251M) [application/x-gzip]\n",
      "Saving to: ‘../Diachromatic_interactions/MIF_GM12878_CHC_REPC_at_least_2_combined_interactions.tsv.gz’\n",
      "\n",
      "../Diachromatic_int 100%[===================>] 250.92M  6.96MB/s    in 36s     \n",
      "\n",
      "2023-03-22 10:17:11 (6.93 MB/s) - ‘../Diachromatic_interactions/MIF_GM12878_CHC_REPC_at_least_2_combined_interactions.tsv.gz’ saved [263110784/263110784]\n",
      "\n"
     ]
    }
   ],
   "source": [
    "os.makedirs('../Diachromatic_interactions', exist_ok=True)\n",
    "!wget -O ../Diachromatic_interactions/MIF_GM12878_CHC_REPC_at_least_2_combined_interactions.tsv.gz https://genecascade.org/downloads/diachrscripts/MIF_GM12878_CHC_REPC_at_least_2_combined_interactions.tsv.gz"
   ]
  },
  {
   "cell_type": "markdown",
   "id": "a31032d8",
   "metadata": {},
   "source": [
    "## Diachromatic11 file with scored and classified interactions\n",
    "\n",
    "The script `UICer.py` (Unbalanced Interaction Caller) can be used to classify interactions from diachromatic interaction files as balanced or unbalanced. The result is a Diachromatic11 file with two additional columns for interaction categories and imbalance scores. In addition, the script also selects two equally sized reference sets of balanced and unbalanced interactions that have nearly identical distributions of total read pair counts per interaction. The interaction categories are:\n",
    "\n",
    "* `UX`: Unbalanced interaction for which no balanced reference interaction with identical total read pair count could be selected\n",
    "* `UR`: Unbalanced interaction for which a balanced reference interaction with identical total read pair count could be selected\n",
    "* `BR`: Balanced interaction selected as reference interaction\n",
    "* `BX`: Balanced interaction not selected as reference interaction\n",
    "\n",
    "How to use the `UICer.py` script is documented here:\n",
    "[jupyter_notebooks/usage/usage_of_UICer.ipynb](usage/usage_of_UICer.ipynb).\n",
    "\n",
    "If `UICer.py` is called without specifying a classification threshold, then a randomization procedure is invoked to determine a classification threshold that will keep the FDR below 5%. Depending on the size of the input and the number of iterations, this can be quite computationally intensive. For example, for a dataset with `2,327,311` interactions, it took about two and a half hours to perform `1000` iterations in `10` parallel threads. Therefore, we provide a Diachromatic11 interaction file for download that was created with `UICer.py` using the file downloaded in the cell above as input."
   ]
  },
  {
   "cell_type": "code",
   "execution_count": 4,
   "id": "1e21607c",
   "metadata": {},
   "outputs": [
    {
     "name": "stdout",
     "output_type": "stream",
     "text": [
      "--2023-03-22 10:17:11--  https://www.genecascade.org/downloads/diachrscripts/MIF_GM12878_CHC_REPC_evaluated_and_categorized_interactions.tsv.gz\n",
      "Resolving www.genecascade.org (www.genecascade.org)... 193.175.174.14\n",
      "Connecting to www.genecascade.org (www.genecascade.org)|193.175.174.14|:443... connected.\n",
      "HTTP request sent, awaiting response... 200 OK\n",
      "Length: 49761063 (47M) [application/x-gzip]\n",
      "Saving to: ‘../UICer_interactions/CHC/MIF_GM12878_CHC_REPC_evaluated_and_categorized_interactions.tsv.gz’\n",
      "\n",
      "../UICer_interactio 100%[===================>]  47.46M  6.96MB/s    in 6.9s    \n",
      "\n",
      "2023-03-22 10:17:18 (6.89 MB/s) - ‘../UICer_interactions/CHC/MIF_GM12878_CHC_REPC_evaluated_and_categorized_interactions.tsv.gz’ saved [49761063/49761063]\n",
      "\n"
     ]
    }
   ],
   "source": [
    "os.makedirs('../UICer_interactions/CHC', exist_ok=True)\n",
    "!wget -O ../UICer_interactions/CHC/MIF_GM12878_CHC_REPC_evaluated_and_categorized_interactions.tsv.gz https://www.genecascade.org/downloads/diachrscripts/MIF_GM12878_CHC_REPC_evaluated_and_categorized_interactions.tsv.gz"
   ]
  },
  {
   "cell_type": "markdown",
   "id": "633517d1",
   "metadata": {},
   "source": [
    "## Jupyter notebooks for various analyses\n",
    "\n",
    "All further analyses in `diachscripts` require a Diachromatic11 interaction file as input and are performed in the Jupyter notebooks listed below.\n",
    "\n",
    "### Frequencies of interaction configurations\n",
    "\n",
    "In this analysis, the overall frequencies of the ten configurations of interactions are determined. This analysis can be performed here:\n",
    "[analysis/frequencies_of_interaction_configurations.ipynb](analysis/frequencies_of_interaction_configurations.ipynb).\n",
    "\n",
    "### Visualization of configurations at baited fragments\n",
    "\n",
    "We visualize interactions at baited restriction fragments, similar as in triangular heatmaps typically used for Hi-C data, as rectangles along the genomic axis whose edge lengths correspond to the lengths of the two associated fragments and whose colors correspond to the configurations of interactions. Such visualizations can be created here:\n",
    "[analysis/visualization_of_configurations.ipynb](analysis/visualization_of_configurations.ipynb).\n",
    "\n",
    "### Classification of baited fragments\n",
    "\n",
    "Depending on whether a baited fragment has predominantly paired-end orientations associated with the 5' end, the 3' end, or both ends of the fragment, we classify it as BFC0, BFC1, and BFC2. The subdivision of all baited fragments into BFC0, BFC1 and BFC2 can be done here:\n",
    "[analysis/baited_fragment_classification.ipynb](analysis/baited_fragment_classification.ipynb).\n",
    "\n",
    "### Bait analysis\n",
    "\n",
    "In this analysis, the correlation between the subdivision of the baited fragments into BFC0, BFC1 and BFC2 and the baits actually used for the underlying CHi-C experiment is investigated. Furthermore, the baits are examined in terms of distance to their restriction sites and GC as well as repeat content. These analyses can be performed here:\n",
    "[analysis/bait_analysis.ipynb](analysis/bait_analysis.ipynb).\n",
    "\n",
    "Note that this analysis requires a corresponding reference sequence, which can be Note that this analysis requires that the baited fragments have already been classified into BFC0, BFC1, and BFC2. In addition, a corresponding reference sequence is required, which can be downloaded at the bottom of this notebook.\n",
    "\n",
    "\n",
    "### Unbaited fragment analysis\n",
    "\n",
    "In this notebook, we analyze unbaited fragments in terms of length, GC and repeat content. This analysis can be performed here:\n",
    "[analysis/unbaited_fragment_analysis.ipynb](analysis/unbaited_fragment_analysis.ipynb).\n",
    "\n",
    "### Distance-dependent contact frequencies\n",
    "\n",
    "In this analysis, we use distance-dependent contact frequencies to investigate the impact of  imbalances of the four read pair counts of interactions on the total read pair counts of interactions. This analysis can be performed here:\n",
    "[analysis/distance_dependent_contact_frequencies.ipynb](analysis/distance_dependent_contact_frequencies.ipynb)."
   ]
  },
  {
   "cell_type": "markdown",
   "id": "12dbbd01",
   "metadata": {},
   "source": [
    "## Reference sequence for GC and repeat content analysis\n",
    "\n",
    "The analysis of the GC and repeat content of baits requires the sequence of a reference genome and a corresponding FASTA index. Reference genomes can be downloaded and indexed as follows."
   ]
  },
  {
   "cell_type": "code",
   "execution_count": 5,
   "id": "8a53dd1f",
   "metadata": {},
   "outputs": [],
   "source": [
    "GENOME = 'hg38' # hg38, hg19, mm10, ...\n",
    "REF_DIR = '../additional_files/reference_sequence/'\n",
    "GENOME_URL = 'http://hgdownload.soe.ucsc.edu/goldenPath/' + GENOME + '/bigZips/' + GENOME + '.fa.gz'"
   ]
  },
  {
   "cell_type": "code",
   "execution_count": 6,
   "id": "d2404bb9",
   "metadata": {},
   "outputs": [
    {
     "name": "stdout",
     "output_type": "stream",
     "text": [
      "--2023-03-22 10:17:18--  http://hgdownload.soe.ucsc.edu/goldenPath/hg38/bigZips/hg38.fa.gz\n",
      "Resolving hgdownload.soe.ucsc.edu (hgdownload.soe.ucsc.edu)... 128.114.119.163\n",
      "Connecting to hgdownload.soe.ucsc.edu (hgdownload.soe.ucsc.edu)|128.114.119.163|:80... connected.\n",
      "HTTP request sent, awaiting response... 200 OK\n",
      "Length: 983659424 (938M) [application/x-gzip]\n",
      "Saving to: ‘../additional_files/reference_sequence/hg38_genome.fa.gz’\n",
      "\n",
      "../additional_files 100%[===================>] 938.09M  6.55MB/s    in 2m 54s  \n",
      "\n",
      "2023-03-22 10:20:13 (5.39 MB/s) - ‘../additional_files/reference_sequence/hg38_genome.fa.gz’ saved [983659424/983659424]\n",
      "\n"
     ]
    },
    {
     "data": {
      "text/plain": [
       "Faidx(\"../additional_files/reference_sequence/hg38_genome.fa\")"
      ]
     },
     "execution_count": 6,
     "metadata": {},
     "output_type": "execute_result"
    }
   ],
   "source": [
    "os.makedirs(REF_DIR, exist_ok=True)\n",
    "!wget -O $REF_DIR$GENOME'_genome.fa.gz' $GENOME_URL\n",
    "!gunzip -f $REF_DIR$GENOME'_genome.fa.gz'  \n",
    "pyfaidx.Faidx(REF_DIR + GENOME + '_genome.fa')"
   ]
  }
 ],
 "metadata": {
  "kernelspec": {
   "display_name": "dscripts_3_9_5",
   "language": "python",
   "name": "dscripts_3_9_5"
  },
  "language_info": {
   "codemirror_mode": {
    "name": "ipython",
    "version": 3
   },
   "file_extension": ".py",
   "mimetype": "text/x-python",
   "name": "python",
   "nbconvert_exporter": "python",
   "pygments_lexer": "ipython3",
   "version": "3.9.5"
  }
 },
 "nbformat": 4,
 "nbformat_minor": 5
}
