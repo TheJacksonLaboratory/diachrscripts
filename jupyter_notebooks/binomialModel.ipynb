{
 "cells": [
  {
   "cell_type": "code",
   "execution_count": 1,
   "metadata": {},
   "outputs": [],
   "source": [
    "import sys\n",
    "# Add path of local module to system, ,diachr is located in parent directory \n",
    "# compared to this file\n",
    "sys.path.append(\"..\")\n",
    "from diachr import BinomialInteractionModel"
   ]
  },
  {
   "cell_type": "code",
   "execution_count": 17,
   "metadata": {},
   "outputs": [],
   "source": [
    "import os\n",
    "import matplotlib.pyplot as plt\n",
    "# This causes figures to be appear in the notebook\n",
    "%matplotlib inline  "
   ]
  },
  {
   "cell_type": "code",
   "execution_count": 3,
   "metadata": {},
   "outputs": [],
   "source": [
    "# Adjust path as necessary\n",
    "# This should be a diachromatic extended interaction file\n",
    "iefile = '/home/peter/data/diachromatic/JAV_MK_RALT_0.0019_enhanced_interaction_file_with_di_uii_and_uie.tsv.gz'\n",
    "if not os.path.exists(iefile):\n",
    "    raise FileNotFoundError(\"Could not find IE file\")"
   ]
  },
  {
   "cell_type": "code",
   "execution_count": 11,
   "metadata": {},
   "outputs": [
    {
     "name": "stdout",
     "output_type": "stream",
     "text": [
      "n_max 10000000 <class 'int'>\n",
      "self._n_max 10000000 <class 'int'>\n",
      "[INFO] Looking for smallest number of read pairs n that yields a significant P-value with the given threshold of 0.05.\n",
      "\t[INFO] Smallest n: 5 read pairs (0.03125)\n",
      "[INFO] Input parameters\n",
      "\t[INFO] --out_prefix: OUTPREFIX\n",
      "\t[INFO] --i-num: 5000\n",
      "\t[INFO] --n-max: 10000000\n",
      "\t[INFO] --p-value-cutoff: 0.05\n"
     ]
    }
   ],
   "source": [
    "# The constructor has defaults for each argument, change as desired\n",
    "n_max=10000000\n",
    "i_num=5000\n",
    "p_value_cutoff=0.05\n",
    "\n",
    "bim = BinomialInteractionModel(n_max=n_max, i_num=i_num, p_value_cutoff=p_value_cutoff)"
   ]
  },
  {
   "cell_type": "markdown",
   "metadata": {},
   "source": [
    "<h2>We generate a plot of simulated data</h2>"
   ]
  },
  {
   "cell_type": "code",
   "execution_count": 12,
   "metadata": {},
   "outputs": [
    {
     "name": "stdout",
     "output_type": "stream",
     "text": [
      "self_n_max 10000000 <class 'int'>\n",
      "[INFO] Generating random numbers of simple and twisted read pairs ...\n",
      "[INFO] Counting significant interactions for each n ...\n"
     ]
    }
   ],
   "source": [
    "signum_list, N_SIG_DICT_SIM = bim.count_simulated_interactions()"
   ]
  },
  {
   "cell_type": "code",
   "execution_count": 14,
   "metadata": {},
   "outputs": [],
   "source": [
    "y_list = []\n",
    "for i in range(len(signum_list)):\n",
    "    y = N_SIG_DICT_SIM.get(i,0)\n",
    "    y_list.append(y)"
   ]
  },
  {
   "cell_type": "code",
   "execution_count": 20,
   "metadata": {},
   "outputs": [
    {
     "data": {
      "image/png": "[encoded data removed]",
      "text/plain": [
       "<Figure size 432x288 with 1 Axes>"
      ]
     },
     "metadata": {
      "needs_background": "light"
     },
     "output_type": "display_data"
    }
   ],
   "source": [
    "plt.scatter(signum_list, y_list, alpha=0.5)\n",
    "plt.title('Simulated data')\n",
    "plt.xlabel('x')\n",
    "plt.ylabel('y')\n",
    "plt.show()"
   ]
  },
  {
   "cell_type": "markdown",
   "metadata": {},
   "source": [
    "<h2>We generate a plot of empircal data</h2>"
   ]
  },
  {
   "cell_type": "code",
   "execution_count": 22,
   "metadata": {},
   "outputs": [
    {
     "name": "stdout",
     "output_type": "stream",
     "text": [
      "\t[INFO] Processed 1000000 interactions ...\n",
      "\t[INFO] Processed 2000000 interactions ...\n",
      "\t[INFO] Processed 3000000 interactions ...\n",
      "\t[INFO] Processed 4000000 interactions ...\n",
      "\t[INFO] Processed 5000000 interactions ...\n",
      "... done.\n",
      "\t[INFO] Processed 1000000 interactions ...\n",
      "\t[INFO] Processed 2000000 interactions ...\n",
      "\t[INFO] Processed 3000000 interactions ...\n",
      "\t[INFO] Processed 4000000 interactions ...\n",
      "\t[INFO] Processed 5000000 interactions ...\n",
      "... done.\n"
     ]
    }
   ],
   "source": [
    "n_def_list, n_sig_list = bim.count_significant_empirical_interactions(eifile=iefile)"
   ]
  },
  {
   "cell_type": "code",
   "execution_count": 23,
   "metadata": {},
   "outputs": [
    {
     "data": {
      "image/png": "[encoded data removed]",
      "text/plain": [
       "<Figure size 432x288 with 1 Axes>"
      ]
     },
     "metadata": {
      "needs_background": "light"
     },
     "output_type": "display_data"
    }
   ],
   "source": [
    "plt.scatter(n_def_list, n_sig_list, alpha=0.5)\n",
    "plt.title('Simulated data')\n",
    "plt.xlabel('x')\n",
    "plt.ylabel('y')\n",
    "plt.show()"
   ]
  },
  {
   "cell_type": "code",
   "execution_count": null,
   "metadata": {},
   "outputs": [],
   "source": []
  }
 ],
 "metadata": {
  "kernelspec": {
   "display_name": "p38",
   "language": "python",
   "name": "p38"
  },
  "language_info": {
   "codemirror_mode": {
    "name": "ipython",
    "version": 3
   },
   "file_extension": ".py",
   "mimetype": "text/x-python",
   "name": "python",
   "nbconvert_exporter": "python",
   "pygments_lexer": "ipython3",
   "version": "3.7.3"
  }
 },
 "nbformat": 4,
 "nbformat_minor": 2
}
