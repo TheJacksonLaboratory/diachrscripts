{
 "cells": [
  {
   "cell_type": "markdown",
   "metadata": {},
   "source": [
    "# Determine P-value threshold at chosen a FDR threshold\n",
    "\n",
    "In this notebook, we describe how to determine a P-value threshold for a given dataset so that the FDR is kept below a chosen threshold. For a given dataset, we determine the number of significant interactions for ascending P-value thresholds."
   ]
  },
  {
   "cell_type": "markdown",
   "metadata": {},
   "source": [
    "## Setting up the notebook"
   ]
  },
  {
   "cell_type": "code",
   "execution_count": 6,
   "metadata": {},
   "outputs": [],
   "source": [
    "import sys\n",
    "import os\n",
    "from numpy import arange\n",
    "import pandas\n",
    "sys.path.append(\"..\")\n",
    "from diachr import DiachromaticInteractionSet\n",
    "from diachr import Randomize"
   ]
  },
  {
   "cell_type": "markdown",
   "metadata": {},
   "source": [
    "In this notebook, we use the following classes:\n",
    "- ``DiachromaticInteractionSet``\n",
    "- ``Randomize``"
   ]
  },
  {
   "cell_type": "markdown",
   "metadata": {},
   "source": [
    "## Test file\n",
    "\n",
    "We have prepared a test file that contains the same number of interactions for consecutive P-value intervals. For this purpose, the following parameters must be specified:\n",
    "- an interaction file\n",
    "- a maximum P-value\n",
    "- a P-value step size\n",
    "- requested number of interactions per interval\n",
    "\n",
    "Make sure that the interaction file has not previously been categorized with a P-value threshold that is smaller than the specified maximum P-value. Otherwise, interactions that do not have enough read pairs to be significant at the smaller threshold may have already been discarded."
   ]
  },
  {
   "cell_type": "code",
   "execution_count": 18,
   "metadata": {},
   "outputs": [],
   "source": [
    "interaction_file = '../tests/data/test_03/MK_0.06_evaluated_and_categorized_interactions.tsv.gz'\n",
    "p_value_max = 0.05\n",
    "p_value_step = 0.0025\n",
    "i_count_per_range = 10"
   ]
  },
  {
   "cell_type": "markdown",
   "metadata": {},
   "source": [
    "First, we load the interaction file in a ``DiachromaticInteractionSet``."
   ]
  },
  {
   "cell_type": "code",
   "execution_count": 6,
   "metadata": {},
   "outputs": [
    {
     "name": "stdout",
     "output_type": "stream",
     "text": [
      "[INFO] Report on reading files:\n",
      "\t[INFO] Read interaction data from 1 files:\n",
      "\t\t[INFO] 9000910 interactions from: \n",
      "\t\t\t[INFO] ../tests/data/test_03/MK_0.06_evaluated_and_categorized_interactions.tsv.gz\n",
      "\t\t\t[INFO] Set size: 9000910\n",
      "\t[INFO] The interaction set has 9000910 interactions.\n",
      "[INFO] End of report.\n",
      "\n"
     ]
    }
   ],
   "source": [
    "interaction_set_test = DiachromaticInteractionSet()\n",
    "interaction_set_test.parse_file(interaction_set_test, verbose=False)\n",
    "read_file_info_report = interaction_set_test.get_read_file_info_report()\n",
    "print(read_file_info_report)"
   ]
  },
  {
   "cell_type": "markdown",
   "metadata": {},
   "source": [
    " Then we evaluate and categorize the interactions, using ``p_value_max`` as the threshold."
   ]
  },
  {
   "cell_type": "code",
   "execution_count": 7,
   "metadata": {},
   "outputs": [
    {
     "name": "stdout",
     "output_type": "stream",
     "text": [
      "[INFO] Report on evaluation and categorization interactions:\n",
      "\t[INFO] P-value threshold: 0.0500000\n",
      "\t[INFO] Minimum number of read pairs required for significance: 6\n",
      "\t[INFO] Corresponding largest P-value: 0.0312500\n",
      "\t[INFO] Processed interactions: 9000910\n",
      "\t[INFO] Discarded interactions: 0\n",
      "\t[INFO] Not significant interactions (UI): 8266032\n",
      "\t[INFO] Significant interactions (DI): 734878\n",
      "[INFO] End of report.\n",
      "\n"
     ]
    }
   ],
   "source": [
    "interaction_set_test.evaluate_and_categorize_interactions(p_value_max, verbose=False)\n",
    "eval_cat_info_report = interaction_set_test.get_eval_cat_info_report()\n",
    "print(eval_cat_info_report)"
   ]
  },
  {
   "cell_type": "markdown",
   "metadata": {},
   "source": [
    "We use the step size together with the maximum P-value to create a list with P-value thresholds."
   ]
  },
  {
   "cell_type": "code",
   "execution_count": 10,
   "metadata": {},
   "outputs": [
    {
     "name": "stdout",
     "output_type": "stream",
     "text": [
      "[0.0025 0.005  0.0075 0.01   0.0125 0.015  0.0175 0.02   0.0225 0.025\n",
      " 0.0275 0.03   0.0325 0.035  0.0375 0.04   0.0425 0.045  0.0475 0.05  ]\n"
     ]
    }
   ],
   "source": [
    "p_threshs = arange(p_value_step, p_value_max + p_value_step, p_value_step)\n",
    "print(p_threshs)"
   ]
  },
  {
   "cell_type": "markdown",
   "metadata": {},
   "source": [
    "For the parameters given above, this results in a list of 20 P-value thresholds. For each of the threshold values, we go through the interaction set until we have selected the required number of interactions with P-values within the current interval."
   ]
  },
  {
   "cell_type": "code",
   "execution_count": 20,
   "metadata": {},
   "outputs": [
    {
     "name": "stdout",
     "output_type": "stream",
     "text": [
      "0.0\t0.0025\t10\t10\n",
      "0.0025\t0.005\t10\t20\n",
      "0.004999999999999999\t0.0075\t10\t30\n",
      "0.0075\t0.01\t10\t40\n",
      "0.01\t0.0125\t10\t50\n",
      "0.0125\t0.015000000000000001\t10\t60\n",
      "0.014999999999999998\t0.017499999999999998\t10\t70\n",
      "0.0175\t0.02\t10\t80\n",
      "0.02\t0.0225\t10\t90\n",
      "0.0225\t0.024999999999999998\t10\t100\n",
      "0.025\t0.0275\t10\t110\n",
      "0.0275\t0.03\t10\t120\n",
      "0.030000000000000002\t0.0325\t10\t130\n",
      "0.0325\t0.035\t10\t140\n",
      "0.035\t0.037500000000000006\t10\t150\n",
      "0.0375\t0.04\t10\t160\n",
      "0.04\t0.0425\t10\t170\n",
      "0.0425\t0.045000000000000005\t10\t180\n",
      "0.045\t0.0475\t10\t190\n",
      "0.0475\t0.05\t10\t200\n"
     ]
    }
   ],
   "source": [
    "out_fh = open('diachromatic_fdr_test_file.tsv', 'wt')\n",
    "\n",
    "i_count = 0\n",
    "for p_thresh in p_threshs:\n",
    "    i_count_range = 0\n",
    "    for d_inter in interaction_set.interaction_list:\n",
    "        if (p_thresh - p_value_step < d_inter.get_pval()) and d_inter.get_pval() <= p_thresh:\n",
    "            i_count_range  += 1\n",
    "            out_fh.write(d_inter.get_diachromatic_interaction_line() + '\\n')\n",
    "            i_count += 1\n",
    "        if i_count_range == i_count_per_range:\n",
    "            break\n",
    "    if i_count_range < i_count_per_range:\n",
    "        print(\"[WARNING] Could not select the required number (only \"\n",
    "              + str(i_count_range) + \" of \" + str(i_count_per_range) +\n",
    "              \") of interactions for the P-value range ]\"\n",
    "              + str(p_tresh - p_value_step) + ';' + str(str(p_thresh)) + ']')\n",
    "    print(str(p_thresh - p_value_step) + '\\t' + str(p_thresh) + '\\t' + str(i_count_range)+ '\\t' + str(i_count))\n",
    "    \n",
    "out_fh.close()"
   ]
  },
  {
   "cell_type": "markdown",
   "metadata": {},
   "source": [
    "The code snippet above reports for each P-value range the number of selcted interaction within this range and cumulative number of selected ranges for this and all previous ranges."
   ]
  },
  {
   "cell_type": "markdown",
   "metadata": {},
   "source": [
    "## Reading in a Diachromatic interaction file and evaluate and categorize interactions\n",
    "\n",
    "XXX"
   ]
  },
  {
   "cell_type": "code",
   "execution_count": 1,
   "metadata": {},
   "outputs": [],
   "source": [
    "import sys\n",
    "import os\n",
    "from numpy import arange\n",
    "import pandas\n",
    "sys.path.append(\"..\")\n",
    "from diachr import DiachromaticInteractionSet\n",
    "from diachr import Randomize"
   ]
  },
  {
   "cell_type": "code",
   "execution_count": 2,
   "metadata": {},
   "outputs": [
    {
     "name": "stdout",
     "output_type": "stream",
     "text": [
      "[INFO] Report on reading files:\n",
      "\t[INFO] Read interaction data from 1 files:\n",
      "\t\t[INFO] 200 interactions from: \n",
      "\t\t\t[INFO] diachromatic_fdr_test_file.tsv\n",
      "\t\t\t[INFO] Set size: 200\n",
      "\t[INFO] The interaction set has 200 interactions.\n",
      "[INFO] End of report.\n",
      "\n"
     ]
    }
   ],
   "source": [
    "interaction_set = DiachromaticInteractionSet()\n",
    "interaction_set.parse_file('diachromatic_fdr_test_file.tsv', verbose=False)\n",
    "read_file_info_report = interaction_set.get_read_file_info_report()\n",
    "print(read_file_info_report)"
   ]
  },
  {
   "cell_type": "code",
   "execution_count": 3,
   "metadata": {},
   "outputs": [
    {
     "name": "stdout",
     "output_type": "stream",
     "text": [
      "[INFO] Report on evaluation and categorization interactions:\n",
      "\t[INFO] P-value threshold: 0.0500000\n",
      "\t[INFO] Minimum number of read pairs required for significance: 6\n",
      "\t[INFO] Corresponding largest P-value: 0.0312500\n",
      "\t[INFO] Processed interactions: 200\n",
      "\t[INFO] Discarded interactions: 0\n",
      "\t[INFO] Not significant interactions (UI): 0\n",
      "\t[INFO] Significant interactions (DI): 200\n",
      "[INFO] End of report.\n",
      "\n"
     ]
    }
   ],
   "source": [
    "p_value_max = 0.05\n",
    "interaction_set.evaluate_and_categorize_interactions(p_value_max, verbose=False)\n",
    "eval_cat_info_report = interaction_set.get_eval_cat_info_report()\n",
    "print(eval_cat_info_report)"
   ]
  },
  {
   "cell_type": "markdown",
   "metadata": {},
   "source": [
    "## Pass interaction set to ``Randomize`` module\n",
    "\n",
    "XXX"
   ]
  },
  {
   "cell_type": "code",
   "execution_count": 4,
   "metadata": {},
   "outputs": [],
   "source": [
    "randomize = Randomize(interaction_set=interaction_set)"
   ]
  },
  {
   "cell_type": "code",
   "execution_count": 5,
   "metadata": {},
   "outputs": [
    {
     "name": "stdout",
     "output_type": "stream",
     "text": [
      "[0.0025 0.005  0.0075 0.01   0.0125 0.015  0.0175 0.02   0.0225 0.025\n",
      " 0.0275 0.03   0.0325 0.035  0.0375 0.04   0.0425 0.045  0.0475 0.05  ]\n",
      "X\t\t0.765\t0.0025\t153\t200\n",
      "X\t\t0.765\t0.005\t153\t200\n",
      "X\t\t0.765\t0.0075\t153\t200\n",
      "X\t\t0.765\t0.01\t153\t200\n",
      "X\t\t0.765\t0.0125\t153\t200\n",
      "X\t\t0.765\t0.015000000000000001\t153\t200\n",
      "X\t\t0.765\t0.017499999999999998\t153\t200\n",
      "X\t\t0.765\t0.02\t153\t200\n",
      "X\t\t0.765\t0.0225\t153\t200\n",
      "X\t\t0.765\t0.024999999999999998\t153\t200\n",
      "X\t\t0.765\t0.0275\t153\t200\n",
      "X\t\t0.765\t0.03\t153\t200\n",
      "X\t\t0.765\t0.0325\t153\t200\n",
      "X\t\t0.765\t0.035\t153\t200\n",
      "X\t\t0.765\t0.037500000000000006\t153\t200\n",
      "X\t\t0.765\t0.04\t153\t200\n",
      "X\t\t0.765\t0.0425\t153\t200\n",
      "X\t\t0.765\t0.045000000000000005\t153\t200\n",
      "X\t\t0.765\t0.0475\t153\t200\n",
      "X\t\t0.765\t0.05\t153\t200\n"
     ]
    }
   ],
   "source": [
    "chosen_fdr_thresh = 0.05\n",
    "p_value_max = 0.05\n",
    "p_value_step = 0.0025\n",
    "randomize.get_pval_tresh_at_chosen_fdr_tresh(chosen_fdr_thresh=chosen_fdr_thresh,\n",
    "                                             pval_thresh_max=p_value_max,\n",
    "                                             pval_thresh_step_size=p_value_step)"
   ]
  }
 ],
 "metadata": {
  "kernelspec": {
   "display_name": "Python 3 (diachscripts_p37env)",
   "language": "python",
   "name": "diachscripts_p37env"
  },
  "language_info": {
   "codemirror_mode": {
    "name": "ipython",
    "version": 3
   },
   "file_extension": ".py",
   "mimetype": "text/x-python",
   "name": "python",
   "nbconvert_exporter": "python",
   "pygments_lexer": "ipython3",
   "version": "3.7.4"
  }
 },
 "nbformat": 4,
 "nbformat_minor": 2
}
