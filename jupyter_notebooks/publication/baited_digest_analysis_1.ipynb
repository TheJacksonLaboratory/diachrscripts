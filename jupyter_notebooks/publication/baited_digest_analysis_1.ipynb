{
 "cells": [
  {
   "cell_type": "code",
   "execution_count": 1,
   "id": "184ddd96",
   "metadata": {},
   "outputs": [],
   "source": [
    "import sys\n",
    "import os\n",
    "import numpy as np\n",
    "import pandas as pd\n",
    "import seaborn as sns\n",
    "import matplotlib.pyplot as plt\n",
    "sys.path.append(\"../..\")\n",
    "from diachr import DiachromaticInteractionSet\n",
    "from diachr import BaitedDigestSet\n",
    "\n",
    "# Create directory for output files generated in this notebook \n",
    "NOTEBOOK_RESULTS_DIR = 'bd_analysis_results'\n",
    "%mkdir -p $NOTEBOOK_RESULTS_DIR"
   ]
  },
  {
   "cell_type": "markdown",
   "id": "8807cd6c",
   "metadata": {},
   "source": [
    "# Classification of baited digests into BDC0, BDC1 or BDC2\n",
    "\n",
    "In this notebook, we divide baited digests into three classes BDC0, BDC1 and BDC2 based on whether type 2 or type 3 read pairs predominate."
   ]
  },
  {
   "cell_type": "markdown",
   "id": "d11346f3",
   "metadata": {},
   "source": [
    "## Input file with interactions\n",
    "\n",
    "The input is a file in `DiachromaticInteraction11` format created with the Python script `UICer.py`."
   ]
  },
  {
   "cell_type": "code",
   "execution_count": 2,
   "id": "04461a9d",
   "metadata": {},
   "outputs": [],
   "source": [
    "AUTHOR_SHORT = 'SCH' # JAV, MIF or MON\n",
    "PROTOCOL = 'CHC' # HC or CHC\n",
    "CELL_TYPE_SHORT = 'MESC_R1ABKO' # GM12878, MK, ERY, NEU, MON, MAC_M0, ..., MESC, MFLC, MESC_R1ABKO, CM, IPSC\n",
    "OUT_PREFIX = AUTHOR_SHORT + '_' + CELL_TYPE_SHORT + '_' + PROTOCOL +'_REPC'\n",
    "INTERACTION_FILE = '../../UICer_interactions/' + PROTOCOL + '/' + OUT_PREFIX + '_evaluated_and_categorized_interactions.tsv.gz' "
   ]
  },
  {
   "cell_type": "markdown",
   "id": "905ff6a0",
   "metadata": {},
   "source": [
    "## Create  ``BaitedDigestSet``\n",
    "\n",
    "In a `BaitedDigestSet` object, interactions are grouped by chromosomes and baits."
   ]
  },
  {
   "cell_type": "code",
   "execution_count": 3,
   "id": "e267ad52",
   "metadata": {},
   "outputs": [
    {
     "name": "stdout",
     "output_type": "stream",
     "text": [
      "[INFO] Parsing Diachromatic interaction file ...\n",
      "\t[INFO] ../../UICer_interactions/CHC/SCH_MESC_R1ABKO_CHC_REPC_evaluated_and_categorized_interactions.tsv.gz\n",
      "\t[INFO] Set size: 182,953\n",
      "[INFO] ... done.\n",
      "[INFO] Reading interactions and group them according to chromosomes and baited digests ...\n",
      "\t[INFO] Total number of interactions read: 182,953\n",
      "\t[INFO] Total number of baited digests: 11,430\n",
      "[INFO] ... done.\n",
      "[INFO] Report on ingestion of interactions:\n",
      "\t[INFO] Total number of interactions read: 182,953\n",
      "\t[INFO] Discarded NN and EE interactions: 34,841\n",
      "\t[INFO] Total number of ingested NE and EN interactions: 148,112\n",
      "\t[INFO] Broken down by interaction category and enrichment status: \n",
      "\t\t[INFO] DIX: \n",
      "\t\t\t[INFO] NE: 7\n",
      "\t\t\t[INFO] EN: 8\n",
      "\t\t[INFO] DI: \n",
      "\t\t\t[INFO] NE: 10,967\n",
      "\t\t\t[INFO] EN: 10,852\n",
      "\t\t[INFO] UIR: \n",
      "\t\t\t[INFO] NE: 10,934\n",
      "\t\t\t[INFO] EN: 10,885\n",
      "\t\t[INFO] UI: \n",
      "\t\t\t[INFO] NE: 52,437\n",
      "\t\t\t[INFO] EN: 52,022\n",
      "\t\t[INFO] ALL: \n",
      "\t\t\t[INFO] NE: 74,345\n",
      "\t\t\t[INFO] EN: 73,767\n",
      "\t[INFO] Total number of baited digests: 11,430\n",
      "[INFO] End of report.\n",
      "\n"
     ]
    }
   ],
   "source": [
    "# Create DiachromaticInteractionSet\n",
    "d11_interaction_set = DiachromaticInteractionSet()\n",
    "d11_interaction_set.parse_file(\n",
    "    i_file = INTERACTION_FILE,\n",
    "    verbose = True)\n",
    "# Create BaitedDigestSet\n",
    "baited_digest_set = BaitedDigestSet()\n",
    "read_interactions_info_dict = baited_digest_set.ingest_interaction_set(d11_interaction_set, verbose=True)\n",
    "print(baited_digest_set.get_ingest_interaction_set_info_report())"
   ]
  },
  {
   "cell_type": "markdown",
   "id": "e910471d",
   "metadata": {},
   "source": [
    "## Determine frequencies of read pair types at individual baited digest\n",
    "\n",
    "The following function determines the frequencies of read pair types for a given list of interactions. We will use this function to determine the frequencies at individual baited digests by passing a list with all interactions that are associated with a specific baited digest."
   ]
  },
  {
   "cell_type": "code",
   "execution_count": 4,
   "id": "4a44d428",
   "metadata": {},
   "outputs": [],
   "source": [
    "def get_rpt_freq_dict(interaction_list):\n",
    "    \n",
    "    # Initialize count dictionary returned by this function\n",
    "    RPT_FREQ_DICT = dict()\n",
    "    for i_cat in ['DIX', 'DI', 'UIR', 'UI', 'ALL']:\n",
    "        RPT_FREQ_DICT[i_cat] = dict()\n",
    "        for e_cat in ['NN', 'EE', 'NE', 'EN', 'ALL']:\n",
    "            RPT_FREQ_DICT[i_cat][e_cat] = dict()\n",
    "            for rp_type in ['0', '1', '2', '3']:\n",
    "                RPT_FREQ_DICT[i_cat][e_cat][rp_type] = 0\n",
    "\n",
    "    # Get frequencies of read pair types\n",
    "    for d11_inter in interaction_list:\n",
    "        i_cat = d11_inter.get_category()\n",
    "        e_cat = d11_inter.enrichment_status_tag_pair\n",
    "        for rp_type in ['0', '1', '2', '3']:\n",
    "            if rp_type == '0':\n",
    "                rp_count = d11_inter._simple_1\n",
    "            elif rp_type == '1':\n",
    "                rp_count = d11_inter._simple_2\n",
    "            elif rp_type == '2':\n",
    "                rp_count = d11_inter._twisted_1\n",
    "            else:\n",
    "                rp_count = d11_inter._twisted_2\n",
    "            RPT_FREQ_DICT[i_cat][e_cat][rp_type] += rp_count\n",
    "            RPT_FREQ_DICT['ALL'][e_cat][rp_type] += rp_count \n",
    "            RPT_FREQ_DICT[i_cat]['ALL'][rp_type] += rp_count \n",
    "            RPT_FREQ_DICT['ALL']['ALL'][rp_type] += rp_count\n",
    "                    \n",
    "    return RPT_FREQ_DICT"
   ]
  },
  {
   "cell_type": "markdown",
   "id": "bb9612be",
   "metadata": {},
   "source": [
    "## Calculate baited digest score\n",
    "\n",
    "We use the following function to calculate to calculate a score for each baited digest. We first determine the sums of read pairs for type 2 and 3. Then we divide the smaller sum by the larger sum. To avoid divisions by zero, we add a pseudo count to both sums. If the score is smaller than a chosen threshold, then we assign the baited digests to the BDC1 or BDC2 class. If the sum of type 3 read pairs is larger then we assign the digests to class BDC1 and otherwise to BDC2. If the score is greater than the threshold, we assign the baited digest to the class BDC0, which is for digests without imbalances in the configurations."
   ]
  },
  {
   "cell_type": "code",
   "execution_count": 5,
   "id": "92e931f0",
   "metadata": {},
   "outputs": [],
   "source": [
    "def get_bd_score_and_class_rpt(RPT_FREQ_DICT, bds_threshold):\n",
    "    \n",
    "    # Get sum of read pairs of type 2\n",
    "    sum_rpt_2 = RPT_FREQ_DICT['2']\n",
    "\n",
    "    # Get sum of read pairs of type 3\n",
    "    sum_rpt_3 = RPT_FREQ_DICT['3']\n",
    "    \n",
    "    # Get total sum of read pairs\n",
    "    sum_rpt_total = sum(RPT_FREQ_DICT.values())\n",
    "    \n",
    "    # Calculate imbalanced configuration score\n",
    "    if sum_rpt_2 < sum_rpt_3:\n",
    "        bd_score = (sum_rpt_3 + 1)/(sum_rpt_2 + 1)\n",
    "        bd_class = 'BDC1'\n",
    "    else:\n",
    "        bd_score = (sum_rpt_2 + 1)/(sum_rpt_3 + 1)\n",
    "        bd_class = 'BDC2'\n",
    "\n",
    "    # No imbalances in the configurations\n",
    "    if bd_score < bds_threshold:\n",
    "        bd_class = 'BDC0'\n",
    "\n",
    "    return bd_score, bd_class, sum_rpt_3, sum_rpt_2, sum_rpt_total"
   ]
  },
  {
   "cell_type": "markdown",
   "id": "cb82b1cb",
   "metadata": {},
   "source": [
    "## Classify baited digests\n",
    "\n",
    "The following code iterates over all baited digests of a `BaitedDigestSet`. For each baited digest, a list of `NE` and `EN` interactions is retrieved and the function above is used to determine the frequencies of read types. From these frequencies, we calculate a score and assign the digest either to class BDC0, BDC1 or BDC2. For each of the three classes, we create a BED file that can be loaded into UCSC's genome browser. In the browser, BDC1 class digests are shown in blue, BDC2 class digests are shown green, and BDC0 class digests are shown gray. Digest ends that are predominantly sequenced are highlighted with thick ends."
   ]
  },
  {
   "cell_type": "code",
   "execution_count": 6,
   "id": "afe57c3b",
   "metadata": {
    "scrolled": false
   },
   "outputs": [
    {
     "name": "stdout",
     "output_type": "stream",
     "text": [
      "Chromosome: chr5\n",
      "\tNumber of baited digests: 710\n",
      "\t\tBDC0: 332\n",
      "\t\tBDC1: 175\n",
      "\t\tBDC2: 203\n",
      "Chromosome: chr4\n",
      "\tNumber of baited digests: 783\n",
      "\t\tBDC0: 363\n",
      "\t\tBDC1: 197\n",
      "\t\tBDC2: 223\n",
      "Chromosome: chr17\n",
      "\tNumber of baited digests: 566\n",
      "\t\tBDC0: 252\n",
      "\t\tBDC1: 159\n",
      "\t\tBDC2: 155\n",
      "Chromosome: chr11\n",
      "\tNumber of baited digests: 1,143\n",
      "\t\tBDC0: 497\n",
      "\t\tBDC1: 270\n",
      "\t\tBDC2: 376\n",
      "Chromosome: chr2\n",
      "\tNumber of baited digests: 973\n",
      "\t\tBDC0: 456\n",
      "\t\tBDC1: 233\n",
      "\t\tBDC2: 284\n",
      "Chromosome: chr18\n",
      "\tNumber of baited digests: 250\n",
      "\t\tBDC0: 107\n",
      "\t\tBDC1: 66\n",
      "\t\tBDC2: 77\n",
      "Chromosome: chr7\n",
      "\tNumber of baited digests: 960\n",
      "\t\tBDC0: 398\n",
      "\t\tBDC1: 265\n",
      "\t\tBDC2: 297\n",
      "Chromosome: chr9\n",
      "\tNumber of baited digests: 642\n",
      "\t\tBDC0: 302\n",
      "\t\tBDC1: 150\n",
      "\t\tBDC2: 190\n",
      "Chromosome: chr19\n",
      "\tNumber of baited digests: 408\n",
      "\t\tBDC0: 172\n",
      "\t\tBDC1: 131\n",
      "\t\tBDC2: 105\n",
      "Chromosome: chr10\n",
      "\tNumber of baited digests: 503\n",
      "\t\tBDC0: 216\n",
      "\t\tBDC1: 149\n",
      "\t\tBDC2: 138\n",
      "Chromosome: chr15\n",
      "\tNumber of baited digests: 540\n",
      "\t\tBDC0: 234\n",
      "\t\tBDC1: 149\n",
      "\t\tBDC2: 157\n",
      "Chromosome: chr3\n",
      "\tNumber of baited digests: 499\n",
      "\t\tBDC0: 224\n",
      "\t\tBDC1: 142\n",
      "\t\tBDC2: 133\n",
      "Chromosome: chr1\n",
      "\tNumber of baited digests: 609\n",
      "\t\tBDC0: 281\n",
      "\t\tBDC1: 152\n",
      "\t\tBDC2: 176\n",
      "Chromosome: chr6\n",
      "\tNumber of baited digests: 549\n",
      "\t\tBDC0: 255\n",
      "\t\tBDC1: 148\n",
      "\t\tBDC2: 146\n",
      "Chromosome: chr8\n",
      "\tNumber of baited digests: 720\n",
      "\t\tBDC0: 307\n",
      "\t\tBDC1: 193\n",
      "\t\tBDC2: 220\n",
      "Chromosome: chr13\n",
      "\tNumber of baited digests: 372\n",
      "\t\tBDC0: 180\n",
      "\t\tBDC1: 86\n",
      "\t\tBDC2: 106\n",
      "Chromosome: chr14\n",
      "\tNumber of baited digests: 388\n",
      "\t\tBDC0: 194\n",
      "\t\tBDC1: 96\n",
      "\t\tBDC2: 98\n",
      "Chromosome: chr12\n",
      "\tNumber of baited digests: 386\n",
      "\t\tBDC0: 189\n",
      "\t\tBDC1: 92\n",
      "\t\tBDC2: 105\n",
      "Chromosome: chr16\n",
      "\tNumber of baited digests: 331\n",
      "\t\tBDC0: 151\n",
      "\t\tBDC1: 96\n",
      "\t\tBDC2: 84\n",
      "Chromosome: chrX\n",
      "\tNumber of baited digests: 98\n",
      "\t\tBDC0: 56\n",
      "\t\tBDC1: 20\n",
      "\t\tBDC2: 22\n",
      "\n",
      "Total number of baited digests: 11,430\n",
      "\tBDC0: 5,166\n",
      "\tBDC1: 2,969\n",
      "\tBDC2: 3,295\n"
     ]
    }
   ],
   "source": [
    "# If true, details are reported for each baited digests\n",
    "verbose = False\n",
    "\n",
    "# Threshold for baited digest score\n",
    "bds_threshold = 2\n",
    "\n",
    "# Interaction categories taken into account\n",
    "i_cat = 'ALL'\n",
    "\n",
    "# Directory for output\n",
    "OUT_DIR = NOTEBOOK_RESULTS_DIR + '/bdc_lists/' + AUTHOR_SHORT\n",
    "%mkdir -p $OUT_DIR\n",
    "\n",
    "# The coordinates of baited digests of classes BDC0, BDC1 and BDC2 are written to separate BED files\n",
    "BDC_FH2 = dict()\n",
    "BDC_NUM_T = dict()\n",
    "for bd_class in ['BDC0','BDC1','BDC2']:\n",
    "    BDC_FH2[bd_class] = open(OUT_DIR + '/' + OUT_PREFIX + '_' + bd_class.lower() + '.bed', 'w')\n",
    "    BDC_FH2[bd_class].write(\"track name=\\\"\" + OUT_PREFIX + \"_\" + bd_class.lower() + \"\\\" description=\\\"\" + OUT_PREFIX + \" \" + bd_class + \"\\\" itemRgb=\\\"On\\\"\" + '\\n')\n",
    "    BDC_NUM_T[bd_class] = 0\n",
    "\n",
    "# Iterate over all chromosomes\n",
    "for chrom in baited_digest_set._baited_digest_dict.keys():\n",
    "    \n",
    "    print('Chromosome: ' + chrom)\n",
    "    \n",
    "    # Numbers baited digests of classes BDC0, BDC1 and BDC2 on this chromosome\n",
    "    BDC_NUM_C = dict()\n",
    "    for i in ['BDC0','BDC1','BDC2']:\n",
    "        BDC_NUM_C[i] = 0\n",
    "    \n",
    "    # Iterate over all baited digests on this chromosome   \n",
    "    for baited_digest_key, baited_digest in baited_digest_set._baited_digest_dict[chrom].items():\n",
    "        \n",
    "        # Prepare list of NE and EN interactions that belong to this baited digest \n",
    "        interaction_list = baited_digest.interactions[i_cat]['NE'] + baited_digest.interactions[i_cat]['EN']\n",
    "\n",
    "        # Get frequencies of interactions\n",
    "        RPT_FREQ_DICT = get_rpt_freq_dict(interaction_list)\n",
    "        \n",
    "        # Calculate score and assign to a class       \n",
    "        bd_score, bd_class, sum_rpt_3, sum_rpt_2, sum_total = get_bd_score_and_class_rpt(\n",
    "            RPT_FREQ_DICT[i_cat]['ALL'],\n",
    "            bds_threshold)\n",
    "        \n",
    "        # Count baited digests of different classes\n",
    "        BDC_NUM_C[bd_class] += 1\n",
    "        BDC_NUM_T[bd_class] += 1\n",
    "        \n",
    "        # Get coordinates from key for output\n",
    "        chom, sta, end = baited_digest_key.split('\\t')\n",
    "        \n",
    "        # Format score for output\n",
    "        bd_score_formatted = \"{:.2f}\".format(bd_score)\n",
    "        \n",
    "        # Write coordinates and additional information to corresponding BED files        \n",
    "        name = bd_class + '|' + bd_score_formatted + ':' + str(sum_rpt_2) + ':' + str(sum_rpt_3) + ':' + str(sum_total)\n",
    "        BED_line = chom + '\\t' + sta + '\\t' + end + '\\t' + name + '\\t' + bd_score_formatted + '\\t' '.'\n",
    "        if bd_class == 'BDC0':\n",
    "            BED_line += '\\t' + sta + '\\t' + sta + '\\t' + '128,128,128' + '\\n'\n",
    "        elif bd_class == 'BDC1':\n",
    "            BED_line += '\\t' + sta + '\\t' + str(int(sta)+100) + '\\t' + '0,0,100' + '\\n'\n",
    "        elif bd_class == 'BDC2':\n",
    "            BED_line += '\\t' + str(int(end)-100) + '\\t' + end + '\\t' + '0,100,0' + '\\n'\n",
    "        else:\n",
    "            print('[ERROR] Invalid class ID: ' + bd_class + '!')\n",
    "        BDC_FH2[bd_class].write(BED_line)\n",
    "    \n",
    "        # Output details about each individual baited digest            \n",
    "        if verbose:\n",
    "            print('-------------------------')\n",
    "            print(baited_digest_key)\n",
    "            print('sum_rpt_2: ' + str(sum_rpt_2))\n",
    "            print('sum_rpt_3: ' + str(sum_rpt_3))\n",
    "            print('sum_total: ' + str(sum_total))\n",
    "            print('bd_class: ' + bd_class)            \n",
    "            print('bd_score: ' + bd_score_formatted)\n",
    "            print()\n",
    "            for rp_type in ['0', '1', '2', '3']:\n",
    "                for e_cat in ['ALL', 'NE','EN']:\n",
    "                    print(i_cat + '-' + e_cat + '-' + rp_type + ': ' + str(RPT_FREQ_DICT[i_cat][e_cat][rp_type]))\n",
    "                print()\n",
    "                \n",
    "    print('\\tNumber of baited digests: ' + \"{:,}\".format(sum(BDC_NUM_C.values())))\n",
    "    for bd_class in ['BDC0','BDC1','BDC2']:\n",
    "        print('\\t\\t' + bd_class  + \": {:,}\".format(BDC_NUM_C[bd_class]))\n",
    "\n",
    "print()\n",
    "print('Total number of baited digests: ' + \"{:,}\".format(sum(BDC_NUM_T.values())))\n",
    "for bd_class in ['BDC0','BDC1','BDC2']:\n",
    "    print('\\t' + bd_class  + \": {:,}\".format(BDC_NUM_T[bd_class]))\n",
    "    BDC_FH2[bd_class].close()"
   ]
  },
  {
   "cell_type": "markdown",
   "id": "011511dc",
   "metadata": {},
   "source": [
    "## Overlaps of baited fragments from classes BDC0, BDC1 and BDC2"
   ]
  },
  {
   "cell_type": "markdown",
   "id": "7755f852",
   "metadata": {},
   "source": [
    "### Select dataset"
   ]
  },
  {
   "cell_type": "code",
   "execution_count": 7,
   "id": "ae6da7f6",
   "metadata": {},
   "outputs": [],
   "source": [
    "AUTHOR_SHORT = 'SCH'\n",
    "CT_LIST = ['MESC', 'MFLC', 'MESC_R1ABKO']\n",
    "IN_DIR = NOTEBOOK_RESULTS_DIR + '/bdc_lists/' + AUTHOR_SHORT"
   ]
  },
  {
   "cell_type": "code",
   "execution_count": 9,
   "id": "840d429b",
   "metadata": {},
   "outputs": [],
   "source": [
    "AUTHOR_SHORT = 'JAV'\n",
    "CT_LIST = ['MK', 'ERY', 'NEU', 'MON', 'MAC_M0', 'MAC_M1', 'MAC_M2', 'EP', 'NB', 'TB', 'FOET', 'NCD4', 'TCD4', 'NACD4', 'ACD4', 'NCD8', 'TCD8']\n",
    "IN_DIR = NOTEBOOK_RESULTS_DIR + '/bdc_lists/' + AUTHOR_SHORT"
   ]
  },
  {
   "cell_type": "code",
   "execution_count": 10,
   "id": "2c65054f",
   "metadata": {},
   "outputs": [],
   "source": [
    "AUTHOR_SHORT = 'MON'\n",
    "CT_LIST = ['IPSC', 'CM']\n",
    "IN_DIR = NOTEBOOK_RESULTS_DIR + '/bdc_lists/' + AUTHOR_SHORT"
   ]
  },
  {
   "cell_type": "markdown",
   "id": "c099ad56",
   "metadata": {},
   "source": [
    "### Read baited fragments from files into data structure\n",
    "\n",
    "We generate a set of coordinates from each file. Each set can be accessed by cell type and BD class."
   ]
  },
  {
   "cell_type": "code",
   "execution_count": 8,
   "id": "73e06376",
   "metadata": {},
   "outputs": [
    {
     "name": "stdout",
     "output_type": "stream",
     "text": [
      "Reading file: bd_analysis_results/bdc_lists/SCH/SCH_MESC_CHC_REPC_bdc0.bed\n",
      "Reading file: bd_analysis_results/bdc_lists/SCH/SCH_MESC_CHC_REPC_bdc1.bed\n",
      "Reading file: bd_analysis_results/bdc_lists/SCH/SCH_MESC_CHC_REPC_bdc2.bed\n",
      "Reading file: bd_analysis_results/bdc_lists/SCH/SCH_MFLC_CHC_REPC_bdc0.bed\n",
      "Reading file: bd_analysis_results/bdc_lists/SCH/SCH_MFLC_CHC_REPC_bdc1.bed\n",
      "Reading file: bd_analysis_results/bdc_lists/SCH/SCH_MFLC_CHC_REPC_bdc2.bed\n",
      "Reading file: bd_analysis_results/bdc_lists/SCH/SCH_MESC_R1ABKO_CHC_REPC_bdc0.bed\n",
      "Reading file: bd_analysis_results/bdc_lists/SCH/SCH_MESC_R1ABKO_CHC_REPC_bdc1.bed\n",
      "Reading file: bd_analysis_results/bdc_lists/SCH/SCH_MESC_R1ABKO_CHC_REPC_bdc2.bed\n"
     ]
    }
   ],
   "source": [
    "bd_dict = dict()\n",
    "for ct in CT_LIST:\n",
    "    bd_dict[ct] = dict()\n",
    "    for bdc in ['0', '1', '2']:\n",
    "        f_name = IN_DIR + '/' + AUTHOR_SHORT + '_' + ct + '_CHC_REPC' +'_bdc' + bdc + '.bed'\n",
    "        print('Reading file: ' + f_name)\n",
    "        d_set = set()\n",
    "        with open(f_name) as fh:\n",
    "            next(fh) # discard header line\n",
    "            for line in fh:\n",
    "                fields = line.rstrip().split('\\t')\n",
    "                d_key = fields[0] +':' + fields[1] + '-' + fields[2]\n",
    "                d_set.add(d_key)\n",
    "        #print('\\tNumber of digests: ' + str(len(d_set)))\n",
    "        bd_dict[ct][bdc] = d_set"
   ]
  },
  {
   "cell_type": "markdown",
   "id": "17fef58b",
   "metadata": {},
   "source": [
    "### Get fraction of overlapping fragments for each pair of fragment sets"
   ]
  },
  {
   "cell_type": "code",
   "execution_count": 9,
   "id": "763383df",
   "metadata": {
    "scrolled": false
   },
   "outputs": [],
   "source": [
    "isect_prop_list = []\n",
    "for BDC_A in ['0', '1', '2']:\n",
    "    for CT_A in CT_LIST:\n",
    "        col_names = []\n",
    "        for BDC_B in ['0', '1', '2']:\n",
    "            for CT_B in CT_LIST:\n",
    "                isect_size = len(bd_dict[CT_A][BDC_A] & bd_dict[CT_B][BDC_B])\n",
    "                set_A_size = len(bd_dict[CT_A][BDC_A])\n",
    "                isect_prop_list.append(isect_size/set_A_size)\n",
    "                col_names.append(CT_B + '-BFC' + BDC_B)\n",
    "\n",
    "# Transform list to matrix and set row and column names\n",
    "isect_prop_matrix = np.reshape(isect_prop_list, (-1, len(col_names)))\n",
    "isect_prop_df = pd.DataFrame(data=isect_prop_matrix, columns=col_names)\n",
    "isect_prop_df.index = col_names\n",
    "#isect_prop_df"
   ]
  },
  {
   "cell_type": "markdown",
   "id": "050ce052",
   "metadata": {},
   "source": [
    "### Create heatmap for overlap portions\n",
    "\n",
    "Note that this heatmap is not symmetrical and should be read as follows. A box in row `i` and column `j` indicates the proportion of fragments in set `i` that occur in both sets `i` and `j`."
   ]
  },
  {
   "cell_type": "code",
   "execution_count": 10,
   "id": "82c55cc0",
   "metadata": {},
   "outputs": [
    {
     "data": {
      "image/png": "[encoded data removed]",
      "text/plain": [
       "<Figure size 432x288 with 2 Axes>"
      ]
     },
     "metadata": {
      "needs_background": "light"
     },
     "output_type": "display_data"
    }
   ],
   "source": [
    "cm = sns.color_palette(\"rocket_r\", as_cmap=True)\n",
    "sns.heatmap(isect_prop_df, square=True, cmap=cm, xticklabels=True, yticklabels=True)\n",
    "plt.tick_params(axis='both', which='major', labelsize=4)\n",
    "plt.tight_layout()\n",
    "plt.savefig(IN_DIR + '/' + AUTHOR_SHORT + '_bdc_heatmap.pdf', bbox_inches='tight')"
   ]
  },
  {
   "cell_type": "code",
   "execution_count": 11,
   "id": "6179e78c",
   "metadata": {},
   "outputs": [
    {
     "data": {
      "image/png": "[encoded data removed]",
      "text/plain": [
       "<Figure size 1080x1080 with 2 Axes>"
      ]
     },
     "metadata": {
      "needs_background": "light"
     },
     "output_type": "display_data"
    }
   ],
   "source": [
    "# Large heatmap for Javierre data\n",
    "fig, ax = plt.subplots(figsize=(15,15))\n",
    "cm = sns.color_palette(\"rocket_r\", as_cmap=True)\n",
    "ax = sns.heatmap(isect_prop_df, square=True, cmap=cm, xticklabels=True, yticklabels=True)\n",
    "ax.tick_params(labelsize=12)\n",
    "ax.figure.axes[-1].tick_params(labelsize=29)\n",
    "plt.tight_layout()\n",
    "plt.savefig(IN_DIR + '/' + AUTHOR_SHORT + '_bdc_heatmap.pdf', bbox_inches='tight')"
   ]
  },
  {
   "cell_type": "code",
   "execution_count": 14,
   "id": "49e93c42",
   "metadata": {},
   "outputs": [
    {
     "data": {
      "image/png": "[encoded data removed]",
      "text/plain": [
       "<Figure size 360x360 with 2 Axes>"
      ]
     },
     "metadata": {
      "needs_background": "light"
     },
     "output_type": "display_data"
    }
   ],
   "source": [
    "# Small heatmap for Schoenefelder data\n",
    "fig, ax = plt.subplots(figsize=(5,5))\n",
    "cm = sns.color_palette(\"rocket_r\", as_cmap=True)\n",
    "ax = sns.heatmap(isect_prop_df, square=True, cmap=cm, xticklabels=True, yticklabels=True)\n",
    "ax.tick_params(labelsize=8)\n",
    "ax.figure.axes[-1].tick_params(labelsize=12)\n",
    "plt.tight_layout()\n",
    "plt.savefig(IN_DIR + '/' + AUTHOR_SHORT + '_bdc_heatmap_small.pdf', bbox_inches='tight')"
   ]
  }
 ],
 "metadata": {
  "kernelspec": {
   "display_name": "diachrscripts",
   "language": "python",
   "name": "diachrscripts"
  },
  "language_info": {
   "codemirror_mode": {
    "name": "ipython",
    "version": 3
   },
   "file_extension": ".py",
   "mimetype": "text/x-python",
   "name": "python",
   "nbconvert_exporter": "python",
   "pygments_lexer": "ipython3",
   "version": "3.7.11"
  }
 },
 "nbformat": 4,
 "nbformat_minor": 5
}
