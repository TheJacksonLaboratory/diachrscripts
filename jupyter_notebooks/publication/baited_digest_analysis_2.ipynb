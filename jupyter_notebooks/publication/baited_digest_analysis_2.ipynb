{
 "cells": [
  {
   "cell_type": "code",
   "execution_count": 1,
   "id": "b23624cc",
   "metadata": {},
   "outputs": [],
   "source": [
    "import pybedtools\n",
    "import pandas as pd\n",
    "from scipy.stats import fisher_exact\n",
    "from numpy import log10, mean, max, quantile, corrcoef, median\n",
    "from scipy import stats\n",
    "import matplotlib.pyplot as plt\n",
    "from re import sub\n",
    "%matplotlib inline\n",
    "\n",
    "# Create directory for output files generated in this notebook \n",
    "NOTEBOOK_RESULTS_DIR = 'bd_analysis_results'\n",
    "%mkdir -p $NOTEBOOK_RESULTS_DIR"
   ]
  },
  {
   "cell_type": "markdown",
   "id": "51a9738b",
   "metadata": {},
   "source": [
    "# Analysis of baited digests classes with respect to underlying baits\n",
    "\n",
    "We used the BD-score to divide baited digests into BDC0, BDC1 and BDC2 classes based on which configurations predominate in interactions that go from a baited digest towards 5' or 3' direction. In this notebook, we examine the baited digests of the various classes with respect to the baits that were used for the underlying capture Hi-C experiments."
   ]
  },
  {
   "cell_type": "markdown",
   "id": "ec54a740",
   "metadata": {},
   "source": [
    "## Input files\n",
    "\n",
    "We use the bait coordinates from the publication by [Mifsud et al. (2015)](https://pubmed.ncbi.nlm.nih.gov/25938943/) and the coordinates of the digests selected for enrichment from the publication by [Javierre et al. (2016)](https://pubmed.ncbi.nlm.nih.gov/27863249/). In our documentation on Read The Docs we describe in detail how we prepared these files for this analysis (file format conversion and LiftOver from `hg19` to `hg38`). In addition, we use three BED files with digests of classes BDC0, BDC1 and BDC2, which we previously created in the `baited_digest_analysis_1` notebook. Finally, we use the `hg38` reference sequence to analyze the GC content of baits. In our documentation on Read The Docs we describe how to download such data from iGenome's website."
   ]
  },
  {
   "cell_type": "code",
   "execution_count": 2,
   "id": "23be2156",
   "metadata": {},
   "outputs": [],
   "source": [
    "# BED files for BDC0, BDC1 and BDC2 baited digests\n",
    "AUTHOR = 'JAV' # MIF or JAV\n",
    "CELL_TYPE_SHORT = 'MAC_M0' # GM12878, MK, ERY, NEU, MON, MAC_M0, ...\n",
    "PROTOCOL = 'CHC' # HC or CHC\n",
    "OUT_PREFIX = AUTHOR + '_' + CELL_TYPE_SHORT + '_' + PROTOCOL +'_REPC'\n",
    "BDC0_DIGEST_FILE = pybedtools.BedTool(NOTEBOOK_RESULTS_DIR + '/bdc_lists/' + OUT_PREFIX  + '_bdc0.bed')\n",
    "BDC1_DIGEST_FILE = pybedtools.BedTool(NOTEBOOK_RESULTS_DIR + '/bdc_lists/' + OUT_PREFIX  + '_bdc1.bed')\n",
    "BDC2_DIGEST_FILE = pybedtools.BedTool(NOTEBOOK_RESULTS_DIR + '/bdc_lists/' + OUT_PREFIX  + '_bdc2.bed')\n",
    "\n",
    "# BED file with all baits\n",
    "MIFSUD_BAIT_FILE = pybedtools.BedTool('../../additional_files/mifsud_2015/mifsud_baits_hg38.bed')\n",
    "#MIFSUD_BAIT_FILE = pybedtools.BedTool('../../additional_files/mifsud_2015/mifsud_baits_hg19.bed')\n",
    "\n",
    "# BED file with all baited digests\n",
    "BAITED_DIGEST_FILE = pybedtools.BedTool('../../additional_files/javierre_2016/javierre_baited_digests_hg38.bed')\n",
    "#BAITED_DIGEST_FILE = pybedtools.BedTool('../../additional_files/javierre_2016/javierre_baited_digests_hg19.bed')\n",
    "\n",
    "# Genome sequence file for GC content analysis\n",
    "# A corresponding index file 'genome.fa.fai' must be in the same directory\n",
    "HG38_GENOME_FILE = '../../additional_files/reference_sequence/hg38_genome.fa'"
   ]
  },
  {
   "cell_type": "markdown",
   "id": "90eae7c6",
   "metadata": {},
   "source": [
    "## Preparation of a dictionary with coordinates of digests and associated baits\n",
    "\n",
    "The central data structure in this analysis is a dictionary from which one can retrieve the coordinates of baits associated with a given digest using the coordinates of the digest. In this section we create this data structure."
   ]
  },
  {
   "cell_type": "markdown",
   "id": "8806af55",
   "metadata": {},
   "source": [
    "To map baited digests to the different classes, we create three sets of digest coordinates."
   ]
  },
  {
   "cell_type": "code",
   "execution_count": 3,
   "id": "94b63314",
   "metadata": {},
   "outputs": [],
   "source": [
    "BDC0_set = set()\n",
    "for d in BDC0_DIGEST_FILE:\n",
    "    BDC0_set.add(d.chrom + '\\t' + str(d.start) + '\\t' + str(d.end))\n",
    "    \n",
    "BDC1_set = set()\n",
    "for d in BDC1_DIGEST_FILE:\n",
    "    BDC1_set.add(d.chrom + '\\t' + str(d.start) + '\\t' + str(d.end))\n",
    "    \n",
    "BDC2_set = set()\n",
    "for d in BDC2_DIGEST_FILE:\n",
    "    BDC2_set.add(d.chrom + '\\t' + str(d.start) + '\\t' + str(d.end))"
   ]
  },
  {
   "cell_type": "markdown",
   "id": "d3cc22cd",
   "metadata": {},
   "source": [
    "We use BedTools' `intersect` command to assign baits to digests. The option `F=1.00` causes an overlap to be reported only if a bait is completely contained in the digest."
   ]
  },
  {
   "cell_type": "code",
   "execution_count": 4,
   "id": "4163bbde",
   "metadata": {},
   "outputs": [
    {
     "name": "stdout",
     "output_type": "stream",
     "text": [
      "chr1\t896515\t912788\tchr1\t912476\t912596\n",
      " chr1\t912789\t915238\tchr1\t912789\t912909\n",
      " chr1\t912789\t915238\tchr1\t915001\t915121\n",
      " chr1\t915239\t938701\tchr1\t915239\t915359\n",
      " chr1\t915239\t938701\tchr1\t938577\t938697\n",
      " chr1\t954044\t968260\tchr1\t954103\t954223\n",
      " chr1\t954044\t968260\tchr1\t968140\t968260\n",
      " chr1\t968261\t992014\tchr1\t968261\t968381\n",
      " chr1\t968261\t992014\tchr1\t991894\t992014\n",
      " chr1\t992015\t1001574\tchr1\t1001421\t1001541\n",
      " "
     ]
    }
   ],
   "source": [
    "DIGESTS_WITH_BAIT_COORDS = BAITED_DIGEST_FILE.intersect(MIFSUD_BAIT_FILE, wa=True, wb=True, F=1.00)\n",
    "DIGESTS_WITH_BAIT_COORDS.head()"
   ]
  },
  {
   "cell_type": "markdown",
   "id": "ad9fbc54",
   "metadata": {},
   "source": [
    "Out of a total of 37,602 baits, 30 baits could not be assigned to any digest."
   ]
  },
  {
   "cell_type": "code",
   "execution_count": 5,
   "id": "0a470bd2",
   "metadata": {},
   "outputs": [
    {
     "name": "stdout",
     "output_type": "stream",
     "text": [
      "Total number of baits: 37602\n",
      "Assigned baits: 37572\n",
      "Unassigned baits: 30\n"
     ]
    }
   ],
   "source": [
    "print('Total number of baits: ' + str(len(MIFSUD_BAIT_FILE)))\n",
    "print('Assigned baits: ' + str(len(DIGESTS_WITH_BAIT_COORDS)))\n",
    "print('Unassigned baits: ' + str(len(MIFSUD_BAIT_FILE) - len(DIGESTS_WITH_BAIT_COORDS)))"
   ]
  },
  {
   "cell_type": "markdown",
   "id": "0ce36780",
   "metadata": {},
   "source": [
    "Out of a total of 22,056 baited digests one digest was not assiged a bait."
   ]
  },
  {
   "cell_type": "code",
   "execution_count": 6,
   "id": "82e1c411",
   "metadata": {
    "scrolled": true
   },
   "outputs": [
    {
     "name": "stdout",
     "output_type": "stream",
     "text": [
      "Total number of baited digests: 22056\n",
      "Number of digests with at least one bait: 22055\n",
      "chr22_KI270879v1_alt\t275558\t284927\n"
     ]
    }
   ],
   "source": [
    "# Find digests to which no baits was assigned\n",
    "dset_1 = set()\n",
    "for d in BAITED_DIGEST_FILE:\n",
    "    dset_1.add(d.chrom + '\\t' + str(d.start) + '\\t' + str(d.end))\n",
    "print('Total number of baited digests: ' + str(len(dset_1)))\n",
    "dset_2 = set()\n",
    "for d in DIGESTS_WITH_BAIT_COORDS:\n",
    "    dset_2.add(d.chrom + '\\t' + str(d.start) + '\\t' + str(d.end))\n",
    "print('Number of digests with at least one bait: ' + str(len(dset_2)))\n",
    "dset_3 = dset_1 - dset_2\n",
    "for d in dset_3:\n",
    "    print(d)"
   ]
  },
  {
   "cell_type": "markdown",
   "id": "ec12c835",
   "metadata": {},
   "source": [
    "These cases are due to the LiftOver from `hg19` to `hg38`. Comment in the appropriate lines for `hg19` at the top of this notebook to verify this."
   ]
  },
  {
   "cell_type": "markdown",
   "id": "b41e2be0",
   "metadata": {},
   "source": [
    "Next, we store the overlap information from the file we just created with BedTools in a dictionary. The keys are the coordinates of the digests, and for each digest, the coordinates of the baits associated with the 5' or 3' end of the digest are stored separately, where we assign given baits to the digest end that is closer. In addition, the baited digest class (`0`, `1`, `2`) is stored for each digest. We implemented the creation of such a dictionary in the following function."
   ]
  },
  {
   "cell_type": "code",
   "execution_count": 7,
   "id": "fa2c0769",
   "metadata": {},
   "outputs": [],
   "source": [
    "def get_digest_with_baits_dict(DIGESTS_WITH_BAIT_COORDS):\n",
    "    \n",
    "    # Dictionary to be created\n",
    "    DIGESTS_WITH_BAITS_DICT = dict()\n",
    "    \n",
    "    # Iterate through the file created with BedTools intersect\n",
    "    for d in DIGESTS_WITH_BAIT_COORDS:\n",
    "        \n",
    "        # Split line with digest and bait coordinates\n",
    "        arr = str(d).split('\\t')\n",
    "        d_chr = arr[0]\n",
    "        d_sta = int(arr[1])\n",
    "        d_end = int(arr[2])\n",
    "        b_chr = arr[3]\n",
    "        b_sta = int(arr[4])\n",
    "        b_end = int(arr[5])\n",
    "\n",
    "        # Calculate the center positions of the digest and the overlapping bait\n",
    "        d_len = d_end - d_sta + 1\n",
    "        d_center_pos = d_sta + int(d_len/2) + 1\n",
    "        b_len = b_end - b_sta + 1  \n",
    "        b_center_pos = b_sta + int(b_len/2) + 1\n",
    "        \n",
    "        # Get keys for digest and overlapping bait\n",
    "        d_key = d_chr + '\\t' + str(d_sta) + '\\t' + str(d_end)\n",
    "        b_key = b_chr + '\\t' + str(b_sta) + '\\t' + str(b_end)\n",
    "\n",
    "        # Create dictionary for this digest if none exists yet\n",
    "        if d_key not in DIGESTS_WITH_BAITS_DICT:\n",
    "            DIGESTS_WITH_BAITS_DICT[d_key] = dict()\n",
    "            DIGESTS_WITH_BAITS_DICT[d_key]['L_COORDS'] = []\n",
    "            DIGESTS_WITH_BAITS_DICT[d_key]['R_COORDS'] = []\n",
    "            \n",
    "        # Assign the overlapping bait to the 5' or 3' end of the digest\n",
    "        if b_center_pos < d_center_pos:\n",
    "            DIGESTS_WITH_BAITS_DICT[d_key]['L_COORDS'].append(b_key)\n",
    "        else:\n",
    "            DIGESTS_WITH_BAITS_DICT[d_key]['R_COORDS'].append(b_key)\n",
    "                \n",
    "        # Assign the digest to one of the BD classes\n",
    "        if d_key in BDC1_set:\n",
    "            DIGESTS_WITH_BAITS_DICT[d_key]['BDC'] = 1\n",
    "        elif d_key in BDC2_set:\n",
    "            DIGESTS_WITH_BAITS_DICT[d_key]['BDC'] = 2\n",
    "        elif d_key in BDC0_set:\n",
    "            DIGESTS_WITH_BAITS_DICT[d_key]['BDC'] = 0\n",
    "        else:\n",
    "            DIGESTS_WITH_BAITS_DICT[d_key]['BDC'] = 'X' # No interactions at this digest\n",
    "                        \n",
    "    return DIGESTS_WITH_BAITS_DICT"
   ]
  },
  {
   "cell_type": "markdown",
   "id": "d086f3e9",
   "metadata": {},
   "source": [
    "We now use the function to create the dictionary."
   ]
  },
  {
   "cell_type": "code",
   "execution_count": 8,
   "id": "8efa9dbb",
   "metadata": {},
   "outputs": [],
   "source": [
    "DIGESTS_WITH_BAITS_DICT = get_digest_with_baits_dict(DIGESTS_WITH_BAIT_COORDS)"
   ]
  },
  {
   "cell_type": "markdown",
   "id": "a20303ed",
   "metadata": {},
   "source": [
    "Here are the first five items to illustrate the data structure:"
   ]
  },
  {
   "cell_type": "code",
   "execution_count": 9,
   "id": "c10f49ed",
   "metadata": {
    "scrolled": false
   },
   "outputs": [
    {
     "name": "stdout",
     "output_type": "stream",
     "text": [
      "[('chr1\\t896515\\t912788', {'L_COORDS': [], 'R_COORDS': ['chr1\\t912476\\t912596'], 'BDC': 0}), ('chr1\\t912789\\t915238', {'L_COORDS': ['chr1\\t912789\\t912909'], 'R_COORDS': ['chr1\\t915001\\t915121'], 'BDC': 0}), ('chr1\\t915239\\t938701', {'L_COORDS': ['chr1\\t915239\\t915359'], 'R_COORDS': ['chr1\\t938577\\t938697'], 'BDC': 1}), ('chr1\\t954044\\t968260', {'L_COORDS': ['chr1\\t954103\\t954223'], 'R_COORDS': ['chr1\\t968140\\t968260'], 'BDC': 0}), ('chr1\\t968261\\t992014', {'L_COORDS': ['chr1\\t968261\\t968381'], 'R_COORDS': ['chr1\\t991894\\t992014'], 'BDC': 0})]\n"
     ]
    }
   ],
   "source": [
    "print(list(DIGESTS_WITH_BAITS_DICT.items())[:5])"
   ]
  },
  {
   "cell_type": "markdown",
   "id": "b22d0344",
   "metadata": {},
   "source": [
    "Information about a particular digest can be retrieved using the digest coordinates (key) as follows:"
   ]
  },
  {
   "cell_type": "code",
   "execution_count": 10,
   "id": "2fd969b6",
   "metadata": {},
   "outputs": [
    {
     "name": "stdout",
     "output_type": "stream",
     "text": [
      "5' bait coordinates: []\n",
      "3' bait coordinates: ['chr1\\t912476\\t912596']\n",
      "BD class: 0\n"
     ]
    }
   ],
   "source": [
    "print('5\\' bait coordinates: ' + str(DIGESTS_WITH_BAITS_DICT['chr1\\t896515\\t912788']['L_COORDS']))\n",
    "print('3\\' bait coordinates: ' + str(DIGESTS_WITH_BAITS_DICT['chr1\\t896515\\t912788']['R_COORDS']))\n",
    "print('BD class: ' + str(DIGESTS_WITH_BAITS_DICT['chr1\\t896515\\t912788']['BDC']))"
   ]
  },
  {
   "cell_type": "markdown",
   "id": "b103dbf6",
   "metadata": {},
   "source": [
    "## Counting digests according to different aspects\n",
    "\n",
    "We now use the data structure to count digests according to different aspects."
   ]
  },
  {
   "cell_type": "markdown",
   "id": "a381c4de",
   "metadata": {},
   "source": [
    "### Digests with none, one, two or more baits"
   ]
  },
  {
   "cell_type": "code",
   "execution_count": 11,
   "id": "72fbe794",
   "metadata": {},
   "outputs": [
    {
     "name": "stdout",
     "output_type": "stream",
     "text": [
      "0 baits: 0 (0.00%)\n",
      "1 baits: 6,538 (29.64%)\n",
      "2 baits: 15,517 (70.36%)\n",
      "2< baits: 0 (0.00%)\n",
      "Total number of baited digests: 22,055\n"
     ]
    }
   ],
   "source": [
    "cnt_dict = {'0': 0, '1': 0, '2': 0, '2<':0}\n",
    "for d_key in DIGESTS_WITH_BAITS_DICT.keys():\n",
    "    bait_num = len(DIGESTS_WITH_BAITS_DICT[d_key]['L_COORDS'] + DIGESTS_WITH_BAITS_DICT[d_key]['R_COORDS'])\n",
    "    if 2 < bait_num:\n",
    "        cnt_dict['2<'] += 1\n",
    "    else:\n",
    "        cnt_dict[str(bait_num)] += 1\n",
    "        \n",
    "# Report counts\n",
    "for key in cnt_dict.keys():\n",
    "    digest_num = cnt_dict[key]\n",
    "    percentage = 100*cnt_dict[key]/sum(cnt_dict.values())\n",
    "    print(key + ' baits: ' + '{:,}'.format(digest_num) + ' (' + '{:.2f}'.format(percentage) + '%)')\n",
    "print('Total number of baited digests: ' + '{:,}'.format(sum(cnt_dict.values())))"
   ]
  },
  {
   "cell_type": "markdown",
   "id": "8420ada5",
   "metadata": {},
   "source": [
    "### BCD0, BDC1, BDC2 and BDCX digests"
   ]
  },
  {
   "cell_type": "code",
   "execution_count": 12,
   "id": "a4ea2ef7",
   "metadata": {},
   "outputs": [
    {
     "name": "stdout",
     "output_type": "stream",
     "text": [
      "BDC0: 8,055 (36.52%)\n",
      "BDC1: 6,170 (27.98%)\n",
      "BDC2: 7,662 (34.74%)\n",
      "BDCX: 168 (0.76%)\n",
      "Total number of baited digests: 22,055\n",
      "Number of baited digests with interactions: 21,887\n"
     ]
    }
   ],
   "source": [
    "cnt_dict = {'0': 0, '1': 0, '2': 0, 'X': 0}\n",
    "for d_key in DIGESTS_WITH_BAITS_DICT.keys():\n",
    "    cnt_dict[str(DIGESTS_WITH_BAITS_DICT[d_key]['BDC'])] += 1\n",
    "\n",
    "for key in cnt_dict.keys():\n",
    "    digest_num = cnt_dict[key]\n",
    "    percentage = 100*cnt_dict[key]/sum(cnt_dict.values())\n",
    "    print('BDC' + key + ': ' + '{:,}'.format(digest_num) + ' (' + '{:.2f}'.format(percentage) + '%)')\n",
    "print('Total number of baited digests: ' + '{:,}'.format(sum(cnt_dict.values())))\n",
    "x = sum(cnt_dict.values()) - cnt_dict['X']\n",
    "print('Number of baited digests with interactions: ' + '{:,}'.format(x))"
   ]
  },
  {
   "cell_type": "markdown",
   "id": "7b94f468",
   "metadata": {},
   "source": [
    "Digests of class BDCX are not associated with any interactions. Therefore, they do not appear in the `BaitedDigestSet` and are not considered in the classification of the baited digests into the classes BDC0, BDC1 and BDC2. They make up only a small proportion of all baited digests and are listed here for the sake of completeness. We exclude BDCX digests from all subsequent analyses."
   ]
  },
  {
   "cell_type": "code",
   "execution_count": 13,
   "id": "23d729d9",
   "metadata": {},
   "outputs": [],
   "source": [
    "tmp_dict = dict()\n",
    "for d_key in DIGESTS_WITH_BAITS_DICT.keys():\n",
    "    if DIGESTS_WITH_BAITS_DICT[d_key]['BDC'] != 'X':\n",
    "        tmp_dict[d_key] = DIGESTS_WITH_BAITS_DICT[d_key]\n",
    "DIGESTS_WITH_BAITS_DICT = tmp_dict"
   ]
  },
  {
   "cell_type": "markdown",
   "id": "1f567e26",
   "metadata": {},
   "source": [
    "### BDC0, BDC1 and BDC2 digests with baits on only one or both sides"
   ]
  },
  {
   "cell_type": "markdown",
   "id": "4f927e7e",
   "metadata": {},
   "source": [
    "Count digests."
   ]
  },
  {
   "cell_type": "code",
   "execution_count": 14,
   "id": "b8af3f31",
   "metadata": {},
   "outputs": [],
   "source": [
    "cnt_dict = {\n",
    "    'BDC0': {'ONE_SIDE': 0, 'BOTH_SIDES': 0},\n",
    "    'BDC1': {'ONE_SIDE': 0, 'BOTH_SIDES': 0},    \n",
    "    'BDC2': {'ONE_SIDE': 0, 'BOTH_SIDES': 0}\n",
    "}\n",
    "for d_key in DIGESTS_WITH_BAITS_DICT.keys():\n",
    "    bdc = DIGESTS_WITH_BAITS_DICT[d_key]['BDC']\n",
    "    if len(DIGESTS_WITH_BAITS_DICT[d_key]['L_COORDS'])==0 or len(DIGESTS_WITH_BAITS_DICT[d_key]['R_COORDS'])==0:\n",
    "        cnt_dict['BDC' + str(bdc)]['ONE_SIDE'] += 1\n",
    "    else:\n",
    "        cnt_dict['BDC' + str(bdc)]['BOTH_SIDES'] += 1"
   ]
  },
  {
   "cell_type": "markdown",
   "id": "bd0c1af6",
   "metadata": {},
   "source": [
    "Report counts and percentages within BD classes."
   ]
  },
  {
   "cell_type": "code",
   "execution_count": 15,
   "id": "2abbf5e4",
   "metadata": {},
   "outputs": [
    {
     "name": "stdout",
     "output_type": "stream",
     "text": [
      "Counts:\n",
      "            BDC0  BDC1  BDC2\n",
      "ONE_SIDE     588  2859  3021\n",
      "BOTH_SIDES  7467  3311  4641\n",
      "\n",
      "Percentages within BD classes:\n",
      "            BDC0   BDC1   BDC2\n",
      "ONE_SIDE     7.3  46.34  39.43\n",
      "BOTH_SIDES  92.7  53.66  60.57\n"
     ]
    }
   ],
   "source": [
    "print('Counts:')\n",
    "df = pd.DataFrame(data=cnt_dict)\n",
    "print(df)\n",
    "print('\\nPercentages within BD classes:')\n",
    "print(df.div(df.sum(axis=0), axis=1).round(4)*100)"
   ]
  },
  {
   "cell_type": "markdown",
   "id": "2135b9f2",
   "metadata": {},
   "source": [
    "Report percentages within digests with baits on only one or both sides."
   ]
  },
  {
   "cell_type": "code",
   "execution_count": 16,
   "id": "8712481f",
   "metadata": {},
   "outputs": [
    {
     "name": "stdout",
     "output_type": "stream",
     "text": [
      "\n",
      "Percentages within one- and two-sided baited digests:\n",
      "             BDC0   BDC1   BDC2\n",
      "ONE_SIDE     9.09  44.20  46.71\n",
      "BOTH_SIDES  48.43  21.47  30.10\n"
     ]
    }
   ],
   "source": [
    "df2 = df[['BDC0','BDC1','BDC2']]\n",
    "print('\\nPercentages within one- and two-sided baited digests:')\n",
    "print(df2.div(df2.sum(axis=1), axis=0).round(4)*100)"
   ]
  },
  {
   "cell_type": "markdown",
   "id": "aa3d6bdd",
   "metadata": {},
   "source": [
    "Create contingency table with combined column for BDC1 and BDC2."
   ]
  },
  {
   "cell_type": "code",
   "execution_count": 17,
   "id": "a1197146",
   "metadata": {
    "scrolled": true
   },
   "outputs": [
    {
     "data": {
      "text/html": [
       "<div>\n",
       "<style scoped>\n",
       "    .dataframe tbody tr th:only-of-type {\n",
       "        vertical-align: middle;\n",
       "    }\n",
       "\n",
       "    .dataframe tbody tr th {\n",
       "        vertical-align: top;\n",
       "    }\n",
       "\n",
       "    .dataframe thead th {\n",
       "        text-align: right;\n",
       "    }\n",
       "</style>\n",
       "<table border=\"1\" class=\"dataframe\">\n",
       "  <thead>\n",
       "    <tr style=\"text-align: right;\">\n",
       "      <th></th>\n",
       "      <th>BDC0</th>\n",
       "      <th>BDC12</th>\n",
       "      <th>Total</th>\n",
       "    </tr>\n",
       "  </thead>\n",
       "  <tbody>\n",
       "    <tr>\n",
       "      <th>ONE_SIDE</th>\n",
       "      <td>588</td>\n",
       "      <td>5880</td>\n",
       "      <td>6468</td>\n",
       "    </tr>\n",
       "    <tr>\n",
       "      <th>BOTH_SIDES</th>\n",
       "      <td>7467</td>\n",
       "      <td>7952</td>\n",
       "      <td>15419</td>\n",
       "    </tr>\n",
       "    <tr>\n",
       "      <th>Total</th>\n",
       "      <td>8055</td>\n",
       "      <td>13832</td>\n",
       "      <td>21887</td>\n",
       "    </tr>\n",
       "  </tbody>\n",
       "</table>\n",
       "</div>"
      ],
      "text/plain": [
       "            BDC0  BDC12  Total\n",
       "ONE_SIDE     588   5880   6468\n",
       "BOTH_SIDES  7467   7952  15419\n",
       "Total       8055  13832  21887"
      ]
     },
     "execution_count": 17,
     "metadata": {},
     "output_type": "execute_result"
    }
   ],
   "source": [
    "df_cont = df.drop(columns=['BDC1', 'BDC2'])\n",
    "df_cont['BDC12'] = df['BDC1'] + df['BDC2']\n",
    "df_cont.loc['Total'] = df_cont.sum(numeric_only=True,axis=0)\n",
    "df_cont.loc[:,'Total'] = df_cont.sum(numeric_only=True,axis=1)\n",
    "df_cont"
   ]
  },
  {
   "cell_type": "markdown",
   "id": "1b54709f",
   "metadata": {},
   "source": [
    "Perform a Fisher's exact test for this contingency table."
   ]
  },
  {
   "cell_type": "code",
   "execution_count": 18,
   "id": "63b21ef6",
   "metadata": {},
   "outputs": [
    {
     "name": "stdout",
     "output_type": "stream",
     "text": [
      "Prior odds ratio: 0.10649524574795768\n",
      "P-value: 0.0\n"
     ]
    }
   ],
   "source": [
    "# Fisher's exact test\n",
    "contingency_table = [\n",
    "    [df_cont['BDC0']['ONE_SIDE'], df_cont['BDC12']['ONE_SIDE']],\n",
    "    [df_cont['BDC0']['BOTH_SIDES'], df_cont['BDC12']['BOTH_SIDES']]]\n",
    "\n",
    "odds_ratio, p_value = fisher_exact(contingency_table, alternative='two-sided')\n",
    "print('Prior odds ratio: ' + str(odds_ratio))\n",
    "print('P-value: ' + str(p_value))"
   ]
  },
  {
   "cell_type": "markdown",
   "id": "95970e05",
   "metadata": {},
   "source": [
    "### Digests with baits on only one side separated by 5' and 3'"
   ]
  },
  {
   "cell_type": "markdown",
   "id": "5be0d1c3",
   "metadata": {},
   "source": [
    "Count digests."
   ]
  },
  {
   "cell_type": "code",
   "execution_count": 19,
   "id": "b7f54d2f",
   "metadata": {},
   "outputs": [],
   "source": [
    "cnt_dict = {\n",
    "    'BDC0': {'5_BAIT_NUM': 0, '3_BAIT_NUM': 0},\n",
    "    'BDC1': {'5_BAIT_NUM': 0, '3_BAIT_NUM': 0},    \n",
    "    'BDC2': {'5_BAIT_NUM': 0, '3_BAIT_NUM': 0}\n",
    "}\n",
    "for d_key in DIGESTS_WITH_BAITS_DICT.keys():\n",
    "    \n",
    "    # Get BD class\n",
    "    bdc = DIGESTS_WITH_BAITS_DICT[d_key]['BDC']\n",
    "    \n",
    "    # Restict analysis to digest with only one bait\n",
    "    if len(DIGESTS_WITH_BAITS_DICT[d_key]['L_COORDS'])==0 or len(DIGESTS_WITH_BAITS_DICT[d_key]['R_COORDS'])==0:\n",
    "        \n",
    "        # Count digests with baits on the 5' or 3' end\n",
    "        if len(DIGESTS_WITH_BAITS_DICT[d_key]['L_COORDS'])==0:     \n",
    "            cnt_dict['BDC' + str(bdc)]['3_BAIT_NUM'] += 1\n",
    "        else:\n",
    "            cnt_dict['BDC' + str(bdc)]['5_BAIT_NUM'] += 1"
   ]
  },
  {
   "cell_type": "markdown",
   "id": "865c5b0a",
   "metadata": {},
   "source": [
    "Report counts."
   ]
  },
  {
   "cell_type": "code",
   "execution_count": 20,
   "id": "944e4d25",
   "metadata": {},
   "outputs": [
    {
     "data": {
      "text/html": [
       "<div>\n",
       "<style scoped>\n",
       "    .dataframe tbody tr th:only-of-type {\n",
       "        vertical-align: middle;\n",
       "    }\n",
       "\n",
       "    .dataframe tbody tr th {\n",
       "        vertical-align: top;\n",
       "    }\n",
       "\n",
       "    .dataframe thead th {\n",
       "        text-align: right;\n",
       "    }\n",
       "</style>\n",
       "<table border=\"1\" class=\"dataframe\">\n",
       "  <thead>\n",
       "    <tr style=\"text-align: right;\">\n",
       "      <th></th>\n",
       "      <th>5' baits</th>\n",
       "      <th>3' baits</th>\n",
       "      <th>Total</th>\n",
       "    </tr>\n",
       "  </thead>\n",
       "  <tbody>\n",
       "    <tr>\n",
       "      <th>BDC0</th>\n",
       "      <td>316</td>\n",
       "      <td>272</td>\n",
       "      <td>588</td>\n",
       "    </tr>\n",
       "    <tr>\n",
       "      <th>BDC1</th>\n",
       "      <td>2859</td>\n",
       "      <td>0</td>\n",
       "      <td>2859</td>\n",
       "    </tr>\n",
       "    <tr>\n",
       "      <th>BDC2</th>\n",
       "      <td>4</td>\n",
       "      <td>3017</td>\n",
       "      <td>3021</td>\n",
       "    </tr>\n",
       "    <tr>\n",
       "      <th>Total</th>\n",
       "      <td>3179</td>\n",
       "      <td>3289</td>\n",
       "      <td>6468</td>\n",
       "    </tr>\n",
       "  </tbody>\n",
       "</table>\n",
       "</div>"
      ],
      "text/plain": [
       "       5' baits  3' baits  Total\n",
       "BDC0        316       272    588\n",
       "BDC1       2859         0   2859\n",
       "BDC2          4      3017   3021\n",
       "Total      3179      3289   6468"
      ]
     },
     "execution_count": 20,
     "metadata": {},
     "output_type": "execute_result"
    }
   ],
   "source": [
    "df = pd.DataFrame(data=cnt_dict)\n",
    "df.index = ['5\\' baits', '3\\' baits']\n",
    "df.loc['Total'] = df.sum(numeric_only=True,axis=0)\n",
    "df.loc[:,'Total'] = df.sum(numeric_only=True,axis=1)\n",
    "df.T"
   ]
  },
  {
   "cell_type": "markdown",
   "id": "01c696b6",
   "metadata": {},
   "source": [
    "Perform Fisher's exact test for BDC1 and BDC2."
   ]
  },
  {
   "cell_type": "code",
   "execution_count": 21,
   "id": "a047ffec",
   "metadata": {},
   "outputs": [
    {
     "name": "stdout",
     "output_type": "stream",
     "text": [
      "Prior odds ratio: inf\n",
      "P-value: 0.0\n"
     ]
    }
   ],
   "source": [
    "contingency_table = [\n",
    "    [cnt_dict['BDC1']['5_BAIT_NUM'], cnt_dict['BDC1']['3_BAIT_NUM']],\n",
    "    [cnt_dict['BDC2']['5_BAIT_NUM'], cnt_dict['BDC2']['3_BAIT_NUM']]]\n",
    "\n",
    "odds_ratio, p_value = fisher_exact(contingency_table, alternative='two-sided')\n",
    "print('Prior odds ratio: ' + str(odds_ratio))\n",
    "print('P-value: ' + str(p_value))"
   ]
  },
  {
   "cell_type": "markdown",
   "id": "93f015c9",
   "metadata": {},
   "source": [
    "## Further analysis of digests with baits on both sides\n",
    "\n",
    "For the following analyzes, we only consider digests that have baits on both sides. For BDC1, we find find many examples where the `5'` end bait is right next to the restriction site (as it should be), and the `3'` end bait is shifted towards the center of the digest (as is it accepted if a bait cannot be placed better).\n",
    "```\n",
    "5'|--------------3'\n",
    "   -          -\n",
    "```\n",
    "BDC1 example: ``chr2:208,144,486-208,147,056``.\n",
    "\n",
    "For BDC2 it is exactly the opposite.\n",
    "```\n",
    "5'--------------|3'\n",
    "    -          -\n",
    "```\n",
    "BDC2 example: ``chr2:102,179,857-102,182,542``."
   ]
  },
  {
   "cell_type": "markdown",
   "id": "ccce7c2f",
   "metadata": {},
   "source": [
    "### Distances between baits and restriction sites"
   ]
  },
  {
   "cell_type": "markdown",
   "id": "7a258b6c",
   "metadata": {},
   "source": [
    "The following function determines the distances from baits to digest ends for given baited digest classes.\n",
    "\n",
    "```\n",
    "5'-------------------3'\n",
    "     -          -\n",
    "  <->             <->\n",
    "  d_l             d_r\n",
    "               \n",
    "```\n",
    "In order to ensure that there is a pair of distances for each digest, it is required that there is exactly one bait for each digest end. If the difference in the distances of a pair is small (`max_diff<20`), this means that both baits have a similar distance from the corresponding digest end. Such digests are added to a dictionary which is returned together with the two lists of distances and will be be used for subsequent analyzes."
   ]
  },
  {
   "cell_type": "code",
   "execution_count": 22,
   "id": "8d87e069",
   "metadata": {},
   "outputs": [],
   "source": [
    "def get_distances_from_baits_to_restriction_site(digest_with_baits_dict, bd_classes=[0,1,2], max_dist=20):\n",
    "    l_dist_list = []\n",
    "    r_dist_list = []\n",
    "    digest_with_baits_well_placed_dict = dict()\n",
    "    for d_key in digest_with_baits_dict.keys():\n",
    "        \n",
    "        # Filter for digests with specified baited digest classes\n",
    "        if DIGESTS_WITH_BAITS_DICT[d_key]['BDC'] not in bd_classes:\n",
    "            continue\n",
    "            \n",
    "        # Make sure that the digest has one 5' and one 3' bait\n",
    "        if len(DIGESTS_WITH_BAITS_DICT[d_key]['L_COORDS'])!=1 or len(DIGESTS_WITH_BAITS_DICT[d_key]['R_COORDS'])!=1:\n",
    "            continue\n",
    "            \n",
    "        # Determine distance for 5' bait\n",
    "        d_sta = int(d_key.split('\\t')[1])\n",
    "        b5_sta = int(digest_with_baits_dict[d_key]['L_COORDS'][0].split('\\t')[1])\n",
    "        l_dist = b5_sta - d_sta\n",
    "        \n",
    "        # Determine distance for 3' bait\n",
    "        d_end = int(d_key.split('\\t')[2])\n",
    "        b3_end = int(digest_with_baits_dict[d_key]['R_COORDS'][0].split('\\t')[2])\n",
    "        r_dist = d_end - b3_end\n",
    "        \n",
    "        # Add digests to dictionary which will be returned along with the lists of distances\n",
    "        if l_dist <= max_dist and r_dist <= max_dist:\n",
    "            digest_with_baits_well_placed_dict[d_key] = DIGESTS_WITH_BAITS_DICT[d_key]\n",
    "        else:\n",
    "            l_dist_list.append(l_dist)\n",
    "            r_dist_list.append(r_dist)\n",
    "            \n",
    "            \n",
    "    num_well_placed = len(digest_with_baits_well_placed_dict)  \n",
    "    num_not_well_placed = len(l_dist_list)\n",
    "    prop_well_placed = 100*num_well_placed/(num_well_placed + num_not_well_placed)\n",
    "    prop_not_well_placed = 100*num_not_well_placed/(num_well_placed + num_not_well_placed)\n",
    "            \n",
    "    print('BDC' + str(bd_classes))\n",
    "    print('\\tNumber 5\\' bait distances: ' + '{:,}'.format(len(l_dist_list)))\n",
    "    print('\\tNumber 3\\' bait distances: ' + '{:,}'.format(len(r_dist_list)))  \n",
    "    print('\\tNumber of digests with well placed baits: ' + '{:,}'.format(num_well_placed) + ' (' + '{:.2f}'.format(prop_well_placed) + '% vs. ' + '{:.2f}'.format(prop_not_well_placed) + ')')\n",
    "\n",
    "    return l_dist_list, r_dist_list, digest_with_baits_well_placed_dict"
   ]
  },
  {
   "cell_type": "markdown",
   "id": "15b3fd9d",
   "metadata": {},
   "source": [
    "We apply the function to the different baited digest classes. For each function call, we get two lists with distances and a dictionary that only contains digests for which the distances of the two baits do not differ much (`max_diff=20`). These dictionaries will be used for the subsequent analyzes of the GC and repeat content of baits."
   ]
  },
  {
   "cell_type": "code",
   "execution_count": 23,
   "id": "6f18521d",
   "metadata": {
    "scrolled": true
   },
   "outputs": [
    {
     "name": "stdout",
     "output_type": "stream",
     "text": [
      "BDC[0]\n",
      "\tNumber 5' bait distances: 3,851\n",
      "\tNumber 3' bait distances: 3,851\n",
      "\tNumber of digests with well placed baits: 3,616 (48.43% vs. 51.57)\n",
      "BDC[1]\n",
      "\tNumber 5' bait distances: 2,600\n",
      "\tNumber 3' bait distances: 2,600\n",
      "\tNumber of digests with well placed baits: 711 (21.47% vs. 78.53)\n",
      "BDC[2]\n",
      "\tNumber 5' bait distances: 3,212\n",
      "\tNumber 3' bait distances: 3,212\n",
      "\tNumber of digests with well placed baits: 1,429 (30.79% vs. 69.21)\n",
      "BDC[1, 2]\n",
      "\tNumber 5' bait distances: 5,812\n",
      "\tNumber 3' bait distances: 5,812\n",
      "\tNumber of digests with well placed baits: 2,140 (26.91% vs. 73.09)\n",
      "BDC[0, 1, 2]\n",
      "\tNumber 5' bait distances: 9,663\n",
      "\tNumber 3' bait distances: 9,663\n",
      "\tNumber of digests with well placed baits: 5,756 (37.33% vs. 62.67)\n"
     ]
    }
   ],
   "source": [
    "MAX_DIST = 20\n",
    "bdc0_l_dist_list, bdc0_r_dist_list, bdc0_well_placed_dict = get_distances_from_baits_to_restriction_site(\n",
    "    DIGESTS_WITH_BAITS_DICT,\n",
    "    bd_classes=[0], max_dist=MAX_DIST)\n",
    "\n",
    "bdc1_l_dist_list, bdc1_r_dist_list, bdc1_well_placed_dict = get_distances_from_baits_to_restriction_site(\n",
    "    DIGESTS_WITH_BAITS_DICT,\n",
    "    bd_classes=[1], max_dist=MAX_DIST)\n",
    "\n",
    "bdc2_l_dist_list, bdc2_r_dist_list, bdc2_well_placed_dict = get_distances_from_baits_to_restriction_site(\n",
    "    DIGESTS_WITH_BAITS_DICT,\n",
    "    bd_classes=[2], max_dist=MAX_DIST)\n",
    "\n",
    "bdc12_l_dist_list, bdc12_r_dist_list, bdc12_well_placed_dict = get_distances_from_baits_to_restriction_site(\n",
    "    DIGESTS_WITH_BAITS_DICT,\n",
    "    bd_classes=[1,2], max_dist=MAX_DIST)\n",
    "\n",
    "bdcALL_l_dist_list, bdcALL_r_dist_list, bdcALL_well_placed_dict = get_distances_from_baits_to_restriction_site(\n",
    "    DIGESTS_WITH_BAITS_DICT,\n",
    "    bd_classes=[0,1,2], max_dist=MAX_DIST)"
   ]
  },
  {
   "cell_type": "code",
   "execution_count": 24,
   "id": "366a1d68",
   "metadata": {
    "scrolled": true
   },
   "outputs": [
    {
     "data": {
      "text/html": [
       "<div>\n",
       "<style scoped>\n",
       "    .dataframe tbody tr th:only-of-type {\n",
       "        vertical-align: middle;\n",
       "    }\n",
       "\n",
       "    .dataframe tbody tr th {\n",
       "        vertical-align: top;\n",
       "    }\n",
       "\n",
       "    .dataframe thead th {\n",
       "        text-align: right;\n",
       "    }\n",
       "</style>\n",
       "<table border=\"1\" class=\"dataframe\">\n",
       "  <thead>\n",
       "    <tr style=\"text-align: right;\">\n",
       "      <th></th>\n",
       "      <th>Not well placed</th>\n",
       "      <th>Well placed</th>\n",
       "      <th>Total</th>\n",
       "    </tr>\n",
       "  </thead>\n",
       "  <tbody>\n",
       "    <tr>\n",
       "      <th>BDC12</th>\n",
       "      <td>5,812</td>\n",
       "      <td>2,140</td>\n",
       "      <td>7,952</td>\n",
       "    </tr>\n",
       "    <tr>\n",
       "      <th>BDC0</th>\n",
       "      <td>3,851</td>\n",
       "      <td>3,616</td>\n",
       "      <td>7,467</td>\n",
       "    </tr>\n",
       "    <tr>\n",
       "      <th>Total</th>\n",
       "      <td>9,663</td>\n",
       "      <td>5,756</td>\n",
       "      <td>15,419</td>\n",
       "    </tr>\n",
       "  </tbody>\n",
       "</table>\n",
       "</div>"
      ],
      "text/plain": [
       "      Not well placed Well placed   Total\n",
       "BDC12           5,812       2,140   7,952\n",
       "BDC0            3,851       3,616   7,467\n",
       "Total           9,663       5,756  15,419"
      ]
     },
     "execution_count": 24,
     "metadata": {},
     "output_type": "execute_result"
    }
   ],
   "source": [
    "# Contingency table\n",
    "BDC12_NOT_WELL_PLACED = len(bdc12_l_dist_list)\n",
    "BDC12_WELL_PLACED = len(bdc12_well_placed_dict)\n",
    "BDC12_TOTAL = BDC12_NOT_WELL_PLACED + BDC12_WELL_PLACED\n",
    "BDC0_NOT_WELL_PLACED = len(bdc0_l_dist_list)\n",
    "BDC0_WELL_PLACED = len(bdc0_well_placed_dict)\n",
    "BDC0_TOTAL = BDC0_NOT_WELL_PLACED + BDC0_WELL_PLACED\n",
    "\n",
    "d = {'Not well placed': ['{:,}'.format(BDC12_NOT_WELL_PLACED),\n",
    "                  '{:,}'.format(BDC0_NOT_WELL_PLACED),\n",
    "                  '{:,}'.format(BDC12_NOT_WELL_PLACED + BDC0_NOT_WELL_PLACED)],\n",
    "     'Well placed': ['{:,}'.format(BDC12_WELL_PLACED),\n",
    "                    '{:,}'.format(BDC0_WELL_PLACED),\n",
    "                    '{:,}'.format(BDC12_WELL_PLACED + BDC0_WELL_PLACED)],\n",
    "     'Total': ['{:,}'.format(BDC12_NOT_WELL_PLACED + BDC12_WELL_PLACED),\n",
    "               '{:,}'.format(BDC0_NOT_WELL_PLACED + BDC0_WELL_PLACED),\n",
    "               '{:,}'.format(BDC12_TOTAL + BDC0_TOTAL)]}\n",
    "df = pd.DataFrame(data=d)\n",
    "df.index = ['BDC12', 'BDC0', 'Total']\n",
    "df"
   ]
  },
  {
   "cell_type": "code",
   "execution_count": 25,
   "id": "592701d5",
   "metadata": {},
   "outputs": [
    {
     "name": "stdout",
     "output_type": "stream",
     "text": [
      "Prior odds ratio: 2.5501559250297894\n",
      "P-value: 6.79929952766838e-169\n"
     ]
    }
   ],
   "source": [
    "# Fisher's exact test\n",
    "contingency_table = [\n",
    "    [BDC12_NOT_WELL_PLACED, BDC12_WELL_PLACED],\n",
    "    [BDC0_NOT_WELL_PLACED, BDC0_WELL_PLACED]]\n",
    "\n",
    "odds_ratio, p_value = fisher_exact(contingency_table, alternative='two-sided')\n",
    "print('Prior odds ratio: ' + str(odds_ratio))\n",
    "print('P-value: ' + str(p_value))"
   ]
  },
  {
   "cell_type": "markdown",
   "id": "f7a732cf",
   "metadata": {},
   "source": [
    "The following function creates a plot in which the distributions of distances are shown in a special layout. We will reuse this function later for the analysises of GC of  bait sequences."
   ]
  },
  {
   "cell_type": "code",
   "execution_count": 26,
   "id": "fe599f94",
   "metadata": {},
   "outputs": [],
   "source": [
    "def create_boxplot(\n",
    "    BDC0_L=None, # BDC0 5' bait\n",
    "    BDC0_R=None, # BDC0 3' bait\n",
    "    BDC1_L=None, # BDC1 5' bait\n",
    "    BDC1_R=None, # BDC1 3' bait\n",
    "    BDC2_L=None, # BDC2 5' bait\n",
    "    BDC2_R=None, # BDC2 3' bait\n",
    "    SHOWFLIERS = True,\n",
    "    TITLE='TITEL',\n",
    "    XLABEL_L='XLAB_L',\n",
    "    XLABEL_R='XLAB_R',\n",
    "    OUTPUT_PDF='OUT.pdf'):\n",
    "\n",
    "    # Set up figure\n",
    "    fig, (ax1, ax2) = plt.subplots(1,2)\n",
    "    box_width = 0.5\n",
    "    ax1.set_title(TITLE, loc='left')\n",
    "    \n",
    "    # Determine range to be displayed    \n",
    "    xmin = min(BDC0_L + BDC0_R  + BDC1_L + BDC1_R + BDC2_L + BDC2_R)\n",
    "    xmax = max(BDC0_L + BDC0_R  + BDC1_L + BDC1_R + BDC2_L + BDC2_R)\n",
    "    padding = (xmax-xmin)/30\n",
    "    xmin = xmin - padding\n",
    "    xmax = xmax + padding        \n",
    "\n",
    "    # Create boxplots for 5' baits (left)\n",
    "    bp1 = ax1.boxplot(\n",
    "        [BDC2_L, BDC1_L, BDC0_L],\n",
    "        widths=(box_width, box_width, box_width),\n",
    "        patch_artist=True,\n",
    "        labels=['BDC2\\nn=' + '{:,}'.format(len(BDC2_L)),\n",
    "                'BDC1\\nn=' + '{:,}'.format(len(BDC1_L)),\n",
    "                'BDC0\\nn=' + '{:,}'.format(len(BDC0_L))],\n",
    "        vert=False,\n",
    "        showfliers=SHOWFLIERS\n",
    "    )\n",
    "    colors = ['green', 'blue', 'gray']\n",
    "    for patch, color in zip(bp1['boxes'], colors):\n",
    "        patch.set_facecolor(color)\n",
    "    ax1.set_xlabel(XLABEL_L)\n",
    "    \n",
    "    # Highlight the area between the first and the third quantiles of the 5' distances from BDC0 in gray\n",
    "    shaded_q1, shaded_q2, shaded_q3 = quantile(BDC0_L, [0.25, 0.50, 0.75])\n",
    "    ax1.axvspan(shaded_q1, shaded_q3, facecolor='gray', alpha=0.2)\n",
    "    ax1.axvline(shaded_q2, color='lightgray', zorder=0)\n",
    "\n",
    "    # Create boxplots for 5' baits (right)\n",
    "    x = ax2.boxplot(\n",
    "        [BDC2_R, BDC1_R, BDC0_R],\n",
    "        widths=(box_width, box_width, box_width),\n",
    "        patch_artist=True,\n",
    "        vert=False,\n",
    "        showfliers=SHOWFLIERS\n",
    "    )\n",
    "    colors = ['green', 'blue', 'gray']\n",
    "    for patch, color in zip(x['boxes'], colors):\n",
    "        patch.set_facecolor(color)\n",
    "    ax2.set_xlabel(XLABEL_R)\n",
    "    \n",
    "    # Hide tick labels\n",
    "    [t.set_color('white') for t in ax2.yaxis.get_ticklabels()]\n",
    "    \n",
    "    # Highlight the area between the first and the third quantiles of the 5' distances from BDC0 in gray\n",
    "    shaded_q1, shaded_q2, shaded_q3 = quantile(BDC0_R, [0.25, 0.50, 0.75])\n",
    "    ax2.axvspan(shaded_q1, shaded_q3, facecolor='gray', alpha=0.2)\n",
    "    ax2.axvline(shaded_q2, color='lightgray', zorder=0)\n",
    "\n",
    "    # Set limits of the x-axes\n",
    "    #if SHOWFLIERS is False:\n",
    "    xmin_1, xmax_1 = ax1.get_xlim()\n",
    "    xmin_2, xmax_2 = ax2.get_xlim()\n",
    "    xmin = min([xmin_1, xmax_1, xmin_2, xmax_2])\n",
    "    xmax = max([xmin_1, xmax_1, xmin_2, xmax_2])\n",
    "    ax1.set_xlim(xmin,xmax)\n",
    "    ax2.set_xlim(xmin,xmax)\n",
    "    padding = (xmax-xmin)/30\n",
    "    xmin = xmin - padding\n",
    "    xmax = xmax + padding\n",
    "\n",
    "    # Format figure and write to PDF file\n",
    "    fig.set_figheight(3)\n",
    "    fig.set_figwidth(7.5)\n",
    "    fig.tight_layout()\n",
    "    fig.savefig(OUTPUT_PDF)"
   ]
  },
  {
   "cell_type": "markdown",
   "id": "1ef0fb54",
   "metadata": {},
   "source": [
    "Now we apply the plot funtion to all lists with distances at once."
   ]
  },
  {
   "cell_type": "code",
   "execution_count": 27,
   "id": "cccb727e",
   "metadata": {
    "scrolled": false
   },
   "outputs": [
    {
     "data": {
      "image/png": "[encoded data removed]",
      "text/plain": [
       "<Figure size 540x216 with 2 Axes>"
      ]
     },
     "metadata": {},
     "output_type": "display_data"
    }
   ],
   "source": [
    "create_boxplot(\n",
    "    BDC0_L=bdc0_l_dist_list,\n",
    "    BDC0_R=bdc0_r_dist_list,\n",
    "    BDC1_L=bdc1_l_dist_list,\n",
    "    BDC1_R=bdc1_r_dist_list,\n",
    "    BDC2_L=bdc2_l_dist_list,\n",
    "    BDC2_R=bdc2_r_dist_list,\n",
    "    SHOWFLIERS = True,\n",
    "    TITLE='Distances between baits and restriction sites',\n",
    "    XLABEL_L='Distance of 5\\' bait',\n",
    "    XLABEL_R='Distance of 3\\' bait',\n",
    "    OUTPUT_PDF=NOTEBOOK_RESULTS_DIR + '/' + OUT_PREFIX  + '_distances_between_baits_and_restriction_sites.pdf')"
   ]
  },
  {
   "cell_type": "markdown",
   "id": "fc77b8a8",
   "metadata": {},
   "source": [
    "On the left are the boxplots for the distances of the `5'` baits and on the right the boxplots for the distances of the `3'` baits. The top boxplots (gray) show the distributions of distances for baited digests of the class BDC0. The range between the first and third quantile is highlighted in lightgray. Below the boxplots for BDC0, the boxplots for BDC1 (blue) and BDC2 (green) are shown. The distributions of distances for the `5'` and `3'` baits differ only slightly for BDC0, while they differ clearly for BDC1 and BDC2. The boxplots for BDC1 and BDC2 are asymmetrical to each other."
   ]
  },
  {
   "cell_type": "markdown",
   "id": "8cc08576",
   "metadata": {},
   "source": [
    "The boxplots above show the distributions of `5'` and `3'` baits independently. In fact, however, we have a pair of distances for each digest. The following lines of code calculate the differences in distances for each pair."
   ]
  },
  {
   "cell_type": "code",
   "execution_count": 28,
   "id": "e8e5c230",
   "metadata": {},
   "outputs": [],
   "source": [
    "# Get lists with differences for distances\n",
    "bdc0_diff_dist_list = [x[0]-x[1] for x in zip(bdc0_l_dist_list, bdc0_r_dist_list)]\n",
    "bdc1_diff_dist_list = [x[0]-x[1] for x in zip(bdc1_l_dist_list, bdc1_r_dist_list)]\n",
    "bdc2_diff_dist_list = [x[0]-x[1] for x in zip(bdc2_l_dist_list, bdc2_r_dist_list)]"
   ]
  },
  {
   "cell_type": "markdown",
   "id": "833d3e74",
   "metadata": {},
   "source": [
    "We use the same plot function as before, but this time, for each baited digest class, we pass the same list of differences for `5'` and `3'` baits. This results in two identical plots. This way we can reuse the plot function."
   ]
  },
  {
   "cell_type": "code",
   "execution_count": 29,
   "id": "53eec18b",
   "metadata": {
    "scrolled": false
   },
   "outputs": [
    {
     "data": {
      "image/png": "[encoded data removed]",
      "text/plain": [
       "<Figure size 540x216 with 2 Axes>"
      ]
     },
     "metadata": {},
     "output_type": "display_data"
    }
   ],
   "source": [
    "create_boxplot(\n",
    "    BDC0_L=bdc0_diff_dist_list,\n",
    "    BDC0_R=bdc0_diff_dist_list,\n",
    "    BDC1_L=bdc1_diff_dist_list,\n",
    "    BDC1_R=bdc1_diff_dist_list,\n",
    "    BDC2_L=bdc2_diff_dist_list,\n",
    "    BDC2_R=bdc2_diff_dist_list,\n",
    "    SHOWFLIERS = True,\n",
    "    TITLE='Distance differences for digest associated bait pairs',\n",
    "    XLABEL_L='Distance difference for 5\\' and 3\\' bait',\n",
    "    XLABEL_R='Distance difference for 5\\' and 3\\' bait',\n",
    "    OUTPUT_PDF=NOTEBOOK_RESULTS_DIR + '/' + OUT_PREFIX  + '_distance_differences_for_digest_associated_bait_pairs.pdf')"
   ]
  },
  {
   "cell_type": "markdown",
   "id": "a03b83da",
   "metadata": {},
   "source": [
    "The differences of BDC0 are distributed relatively evenly (not perfectly) around zero. In contrast, a strong asymmetry can be seen for BDC1 and BDC2. To assess the deviations from zero for statistical significance, we use the non-parametric Wilcoxon signed rank test."
   ]
  },
  {
   "cell_type": "code",
   "execution_count": 30,
   "id": "a3ee9ede",
   "metadata": {},
   "outputs": [
    {
     "name": "stdout",
     "output_type": "stream",
     "text": [
      "WilcoxonResult(statistic=3412873.0, pvalue=2.920852605531886e-05)\n",
      "WilcoxonResult(statistic=95004.5, pvalue=0.0)\n",
      "WilcoxonResult(statistic=216147.5, pvalue=0.0)\n"
     ]
    }
   ],
   "source": [
    "# Perform Wilcoxon signed-rank test\n",
    "print(stats.wilcoxon(bdc0_diff_dist_list))\n",
    "print(stats.wilcoxon(bdc1_diff_dist_list))\n",
    "print(stats.wilcoxon(bdc2_diff_dist_list))"
   ]
  },
  {
   "cell_type": "code",
   "execution_count": 31,
   "id": "6e5e5512",
   "metadata": {},
   "outputs": [
    {
     "data": {
      "text/plain": [
       "<matplotlib.lines.Line2D at 0x7feecf35b8d0>"
      ]
     },
     "execution_count": 31,
     "metadata": {},
     "output_type": "execute_result"
    },
    {
     "data": {
      "image/png": "[encoded data removed]",
      "text/plain": [
       "<Figure size 432x288 with 1 Axes>"
      ]
     },
     "metadata": {
      "needs_background": "light"
     },
     "output_type": "display_data"
    }
   ],
   "source": [
    "plt.hist(bdc0_l_dist_list,30)\n",
    "plt.xlim(0, 350)\n",
    "plt.ylim(0, 250)\n",
    "plt.axvline(120, color='r')"
   ]
  },
  {
   "cell_type": "code",
   "execution_count": 32,
   "id": "592eedae",
   "metadata": {},
   "outputs": [
    {
     "data": {
      "text/plain": [
       "<matplotlib.lines.Line2D at 0x7feecf2a9710>"
      ]
     },
     "execution_count": 32,
     "metadata": {},
     "output_type": "execute_result"
    },
    {
     "data": {
      "image/png": "[encoded data removed]",
      "text/plain": [
       "<Figure size 432x288 with 1 Axes>"
      ]
     },
     "metadata": {
      "needs_background": "light"
     },
     "output_type": "display_data"
    }
   ],
   "source": [
    "plt.hist(bdc0_r_dist_list,30)\n",
    "plt.xlim(0, 350)\n",
    "plt.ylim(0, 250)\n",
    "plt.axvline(120, color='r')"
   ]
  },
  {
   "cell_type": "code",
   "execution_count": 33,
   "id": "42d68c7a",
   "metadata": {},
   "outputs": [
    {
     "data": {
      "text/plain": [
       "<matplotlib.lines.Line2D at 0x7feecedaba50>"
      ]
     },
     "execution_count": 33,
     "metadata": {},
     "output_type": "execute_result"
    },
    {
     "data": {
      "image/png": "[encoded data removed]",
      "text/plain": [
       "<Figure size 432x288 with 1 Axes>"
      ]
     },
     "metadata": {
      "needs_background": "light"
     },
     "output_type": "display_data"
    }
   ],
   "source": [
    "plt.hist(bdc0_diff_dist_list,30)\n",
    "plt.xlim(-200, 200)\n",
    "plt.ylim(0, 450)\n",
    "plt.axvline(-120, color='r')\n",
    "plt.axvline(120, color='r')"
   ]
  },
  {
   "cell_type": "markdown",
   "id": "cf2d6f90",
   "metadata": {},
   "source": [
    "For BDC0, the deviation from zero is statistically significant. This could be due to differing coordinate systems (0-based or 1-based) or differing definition of the exact restriction sites. For BDC1 and BDC2, the P-value is so small that it is reported as zero."
   ]
  },
  {
   "cell_type": "markdown",
   "id": "923ca34f",
   "metadata": {},
   "source": [
    "We compare the distributions of differences for all pairs of BDC0, BDC1 and BDC2 using a Wilcoxon rank-sum test."
   ]
  },
  {
   "cell_type": "code",
   "execution_count": 34,
   "id": "592e4bb7",
   "metadata": {},
   "outputs": [
    {
     "name": "stdout",
     "output_type": "stream",
     "text": [
      "RanksumsResult(statistic=47.578401244194254, pvalue=0.0)\n",
      "RanksumsResult(statistic=-49.866564802272286, pvalue=0.0)\n",
      "RanksumsResult(statistic=-61.11129034430268, pvalue=0.0)\n"
     ]
    }
   ],
   "source": [
    "# Perform Wilcoxon rank-sum test on differences\n",
    "print(stats.ranksums(bdc0_diff_dist_list, bdc1_diff_dist_list))\n",
    "print(stats.ranksums(bdc0_diff_dist_list, bdc2_diff_dist_list))\n",
    "print(stats.ranksums(bdc1_diff_dist_list, bdc2_diff_dist_list))"
   ]
  },
  {
   "cell_type": "markdown",
   "id": "1148d824",
   "metadata": {},
   "source": [
    "The distributions are very different for all pairs and a P-value of zero is reported in all cases."
   ]
  },
  {
   "cell_type": "markdown",
   "id": "6e918ac4",
   "metadata": {},
   "source": [
    "**Conclusion:** There is a strong correlation between the placment of baits and the assignment of the digests to the classes BDC0, BDC1 and BDC2. If the baits are not placed right next to the restriction site, the probability that the target sequence is part of a chimeric fragment is reduced."
   ]
  },
  {
   "cell_type": "markdown",
   "id": "783d6d90",
   "metadata": {},
   "source": [
    "## Further investigation of digest with two well placed baits\n",
    "\n",
    "Poor placement of baits obviously has a significant impact on bait efficiency. In order to make more subtle influencing factors visible, we have removed all digests where the distances of the two baits to the digest ends are very different.\n",
    "\n",
    "||BDC0|BDC1|BDC2|TOTAL|\n",
    "|---|---|---|---|---|\n",
    "|ALL|7,061|6,873|8,121|22,055|\n",
    "|BOTH_SIDES|6,243|4,057|5,161|15,461|\n",
    "|WELL_PLACED|3,159|1,176|1,821|6,156|"
   ]
  },
  {
   "cell_type": "markdown",
   "id": "437b21f3",
   "metadata": {},
   "source": [
    "### GC content of baits"
   ]
  },
  {
   "cell_type": "markdown",
   "id": "50e7a4c4",
   "metadata": {},
   "source": [
    "First, we create a dictionary from which the sequences of baits can be retrieved via their coordinates."
   ]
  },
  {
   "cell_type": "code",
   "execution_count": 35,
   "id": "a8e456b0",
   "metadata": {},
   "outputs": [],
   "source": [
    "BAIT_SEQ_dict = dict()\n",
    "OUT_PREFIX\n",
    "MIFSUD_BAIT_FILE.sequence(fi=HG38_GENOME_FILE, fo=NOTEBOOK_RESULTS_DIR + '/bait_sequences.fa', tab=True)\n",
    "with open(NOTEBOOK_RESULTS_DIR + '/bait_sequences.fa', 'rt') as fp:\n",
    "    for line in fp:\n",
    "        coords, seq = line.rstrip().split('\\t')\n",
    "        chrom = coords.split(':')[0]\n",
    "        sta = coords.split(':')[1].split('-')[0]\n",
    "        end = coords.split(':')[1].split('-')[1]\n",
    "        BAIT_SEQ_dict[chrom + '\\t' + sta + '\\t' + end] = seq"
   ]
  },
  {
   "cell_type": "markdown",
   "id": "603e7195",
   "metadata": {},
   "source": [
    "I addition, we define a function that that returns the GC and repeat content of a given DNA sequence."
   ]
  },
  {
   "cell_type": "code",
   "execution_count": 36,
   "id": "2b95cf9d",
   "metadata": {},
   "outputs": [],
   "source": [
    "def get_gc_and_repeat_content(sequence):\n",
    "    \n",
    "    # Determine GC content\n",
    "    GC_count = sequence.count('g')\n",
    "    GC_count += sequence.count('G')\n",
    "    GC_count += sequence.count('c')\n",
    "    GC_count += sequence.count('C')\n",
    "    seq_len = len(sequence)\n",
    "    gc_content = GC_count/seq_len\n",
    "    \n",
    "    # Determine repeat content\n",
    "    sequence = sub(\"[a-z]\", 'R', sequence)\n",
    "    R_count = sequence.count('R')\n",
    "    repeat_content = R_count/seq_len\n",
    "    \n",
    "    return gc_content, repeat_content"
   ]
  },
  {
   "cell_type": "markdown",
   "id": "2e5e569b",
   "metadata": {},
   "source": [
    "Here is a fuction call to illustrate how it works."
   ]
  },
  {
   "cell_type": "code",
   "execution_count": 37,
   "id": "20e798f4",
   "metadata": {
    "scrolled": true
   },
   "outputs": [
    {
     "data": {
      "text/plain": [
       "(0.7, 0.4)"
      ]
     },
     "execution_count": 37,
     "metadata": {},
     "output_type": "execute_result"
    }
   ],
   "source": [
    "get_gc_and_repeat_content('NtacgCGCGC')"
   ]
  },
  {
   "cell_type": "markdown",
   "id": "9340a5c3",
   "metadata": {},
   "source": [
    "Lowercase letters represent repeats. The GC content is determined without regard to repeats. Positions with `N` are not taken into account when determining the repeat content."
   ]
  },
  {
   "cell_type": "markdown",
   "id": "42b2810b",
   "metadata": {},
   "source": [
    "A digest dictionaty with well placed baits is passed to the following function. For each digest, the GC and repeat contents of the two baits are determined and appended to lists that are returned at the end."
   ]
  },
  {
   "cell_type": "code",
   "execution_count": 38,
   "id": "99d0754a",
   "metadata": {},
   "outputs": [],
   "source": [
    "def get_gc_and_repeat_content_of_baits(well_placed_baits_dict, bd_classes=[0,1,2]):\n",
    "    l_gc_list = []\n",
    "    r_gc_list = []\n",
    "    l_repeat_list = []\n",
    "    r_repeat_list = []\n",
    "    for d_key in well_placed_baits_dict.keys():\n",
    "    \n",
    "        # Filter for digests with specified baited digest classes\n",
    "        if well_placed_baits_dict[d_key]['BDC'] not in bd_classes:\n",
    "            continue\n",
    "\n",
    "        # Get GC and repeat content of 5' bait\n",
    "        seq = BAIT_SEQ_dict[well_placed_baits_dict[d_key]['L_COORDS'][0]]\n",
    "        gc_content, repeat_content = get_gc_and_repeat_content(seq)\n",
    "        l_gc_list.append(gc_content)\n",
    "        l_repeat_list.append(repeat_content)\n",
    "\n",
    "        # Get GC and repeat content of 3' bait\n",
    "        seq = BAIT_SEQ_dict[well_placed_baits_dict[d_key]['R_COORDS'][0]]\n",
    "        gc_content, repeat_content = get_gc_and_repeat_content(seq)\n",
    "        r_gc_list.append(gc_content)\n",
    "        r_repeat_list.append(repeat_content)\n",
    "      \n",
    "    print('BDC' + str(bd_classes))\n",
    "    print('GC contents 5\\' baits: ' + '{:,}'.format(len(l_gc_list)))\n",
    "    print('GC contents 3\\' baits: ' + '{:,}'.format(len(r_gc_list)))\n",
    "    print('Repeat contents 5\\' baits: ' + '{:,}'.format(len(l_repeat_list)))\n",
    "    print('Repeat contents 3\\' baits: ' + '{:,}'.format(len(r_repeat_list)))\n",
    "    print()\n",
    "        \n",
    "    return l_gc_list, r_gc_list, l_repeat_list, r_repeat_list"
   ]
  },
  {
   "cell_type": "markdown",
   "id": "f474f2b0",
   "metadata": {},
   "source": [
    "We use this funtion to generate separate lists with GC and repeat contents for the baited digests of the different classes."
   ]
  },
  {
   "cell_type": "code",
   "execution_count": 39,
   "id": "25bed5f1",
   "metadata": {},
   "outputs": [
    {
     "name": "stdout",
     "output_type": "stream",
     "text": [
      "BDC[0]\n",
      "GC contents 5' baits: 3,616\n",
      "GC contents 3' baits: 3,616\n",
      "Repeat contents 5' baits: 3,616\n",
      "Repeat contents 3' baits: 3,616\n",
      "\n",
      "BDC[1]\n",
      "GC contents 5' baits: 711\n",
      "GC contents 3' baits: 711\n",
      "Repeat contents 5' baits: 711\n",
      "Repeat contents 3' baits: 711\n",
      "\n",
      "BDC[2]\n",
      "GC contents 5' baits: 1,429\n",
      "GC contents 3' baits: 1,429\n",
      "Repeat contents 5' baits: 1,429\n",
      "Repeat contents 3' baits: 1,429\n",
      "\n"
     ]
    }
   ],
   "source": [
    "bdc0_l_gc_list, bdc0_r_gc_list, bdc0_l_repeat_list, bdc0_r_repeat_list = get_gc_and_repeat_content_of_baits(\n",
    "    bdc0_well_placed_dict,\n",
    "    bd_classes=[0])\n",
    "\n",
    "bdc1_l_gc_list, bdc1_r_gc_list, bdc1_l_repeat_list, bdc1_r_repeat_list = get_gc_and_repeat_content_of_baits(\n",
    "    bdc1_well_placed_dict,\n",
    "    bd_classes=[1])\n",
    "\n",
    "bdc2_l_gc_list, bdc2_r_gc_list, bdc2_l_repeat_list, bdc2_r_repeat_list = get_gc_and_repeat_content_of_baits(\n",
    "    bdc2_well_placed_dict,\n",
    "    bd_classes=[2])"
   ]
  },
  {
   "cell_type": "markdown",
   "id": "9c76a2ae",
   "metadata": {},
   "source": [
    "Then we use our boxplot function to compare the distributions of GC contents."
   ]
  },
  {
   "cell_type": "code",
   "execution_count": 40,
   "id": "5cdeebda",
   "metadata": {},
   "outputs": [
    {
     "data": {
      "image/png": "[encoded data removed]",
      "text/plain": [
       "<Figure size 540x216 with 2 Axes>"
      ]
     },
     "metadata": {},
     "output_type": "display_data"
    }
   ],
   "source": [
    "create_boxplot(\n",
    "    BDC0_L=bdc0_l_gc_list,\n",
    "    BDC0_R=bdc0_r_gc_list,\n",
    "    BDC1_L=bdc1_l_gc_list,\n",
    "    BDC1_R=bdc1_r_gc_list,\n",
    "    BDC2_L=bdc2_l_gc_list,\n",
    "    BDC2_R=bdc2_r_gc_list,\n",
    "    SHOWFLIERS = True,\n",
    "    TITLE='GC content of baits',\n",
    "    XLABEL_L='GC content of 5\\' bait',\n",
    "    XLABEL_R='GC content of 3\\' bait',\n",
    "    OUTPUT_PDF=NOTEBOOK_RESULTS_DIR + '/' + OUT_PREFIX  + '_gc_content_of_baits.pdf')"
   ]
  },
  {
   "cell_type": "markdown",
   "id": "9e1a0c1f",
   "metadata": {},
   "source": [
    "For BDC0, the GC contents of the `5'` and `3'` baits show a similar distribution. In contrast, these distributions are very different for BDC1 and BDC2. For BCD1, the distribution for the `3'` baits is shifted towards larger GC contents. For BDC2, it is the other way arround. Here the distribution for the `5'` is shifted towards larger GC contents. This could indicate that too high GC content has a negative impact on the efficiency of baits."
   ]
  },
  {
   "cell_type": "markdown",
   "id": "cecd9a41",
   "metadata": {},
   "source": [
    "We again determine the differences for the bait pairs of all digests, as we did for the distances from baits to digest ends, but this time for the GC contents."
   ]
  },
  {
   "cell_type": "code",
   "execution_count": 41,
   "id": "f5e81bde",
   "metadata": {},
   "outputs": [],
   "source": [
    "# Get lists with differences for GC content\n",
    "bdc0_diff_gc_list = [x[0]-x[1] for x in zip(bdc0_l_gc_list, bdc0_r_gc_list)]\n",
    "bdc1_diff_gc_list = [x[0]-x[1] for x in zip(bdc1_l_gc_list, bdc1_r_gc_list)]\n",
    "bdc2_diff_gc_list = [x[0]-x[1] for x in zip(bdc2_l_gc_list, bdc2_r_gc_list)]"
   ]
  },
  {
   "cell_type": "markdown",
   "id": "244a428e",
   "metadata": {},
   "source": [
    "Then we use our boxplot function to visualize the distributions of differences. Remember that in this case the boxplots on the left and right are identical."
   ]
  },
  {
   "cell_type": "code",
   "execution_count": 42,
   "id": "12ebdc54",
   "metadata": {},
   "outputs": [
    {
     "data": {
      "image/png": "[encoded data removed]",
      "text/plain": [
       "<Figure size 540x216 with 2 Axes>"
      ]
     },
     "metadata": {},
     "output_type": "display_data"
    }
   ],
   "source": [
    "create_boxplot(\n",
    "    BDC0_L=bdc0_diff_gc_list,\n",
    "    BDC0_R=bdc0_diff_gc_list,\n",
    "    BDC1_L=bdc1_diff_gc_list,\n",
    "    BDC1_R=bdc1_diff_gc_list,\n",
    "    BDC2_L=bdc2_diff_gc_list,\n",
    "    BDC2_R=bdc2_diff_gc_list,\n",
    "    SHOWFLIERS = True,\n",
    "    TITLE='GC content differences for digest associated bait pairs',\n",
    "    XLABEL_L='GC content difference for 5\\' and 3\\' bait',\n",
    "    XLABEL_R='GC content difference for 5\\' and 3\\' bait',\n",
    "    OUTPUT_PDF=NOTEBOOK_RESULTS_DIR + '/' + OUT_PREFIX  + '_gc_content_of_digest_associated_bait_pairs.pdf')"
   ]
  },
  {
   "cell_type": "markdown",
   "id": "f9ca5a48",
   "metadata": {},
   "source": [
    "For BDC0, the differences are evenly distributed around zero. For BDC1, the distribution is shifted towards negative differences. This means that there are many bait pairs for which the GC content of the `3'` bait is higher than that of the `5'` bait. For BDC2 it is the exact opposite. Here, there are many pairs where the GC content of the `5'` bait is higher."
   ]
  },
  {
   "cell_type": "markdown",
   "id": "ea203742",
   "metadata": {},
   "source": [
    "We use the Wilcoxon signed rank test to test the deviations from zero for statistical significance."
   ]
  },
  {
   "cell_type": "code",
   "execution_count": 43,
   "id": "b613b189",
   "metadata": {},
   "outputs": [
    {
     "name": "stdout",
     "output_type": "stream",
     "text": [
      "WilcoxonResult(statistic=3064728.0, pvalue=0.9016349588001095)\n",
      "WilcoxonResult(statistic=42197.5, pvalue=8.483056473011877e-50)\n",
      "WilcoxonResult(statistic=237248.5, pvalue=2.059890890640147e-62)\n"
     ]
    }
   ],
   "source": [
    "# Perform Wilcoxon signed-rank test\n",
    "print(stats.wilcoxon(bdc0_diff_gc_list))\n",
    "print(stats.wilcoxon(bdc1_diff_gc_list))\n",
    "print(stats.wilcoxon(bdc2_diff_gc_list))"
   ]
  },
  {
   "cell_type": "markdown",
   "id": "bcc45dd3",
   "metadata": {},
   "source": [
    "For BDC0, the differences do not deviate significantly from zero. For BDC1 and BDC2, the deviations are significant."
   ]
  },
  {
   "cell_type": "markdown",
   "id": "a24d1ebc",
   "metadata": {},
   "source": [
    "We use the Wilcoxon rank sum test to test the null hypothesis that the differences for BDC0, BDC1 and BDC2 come from the same distribution."
   ]
  },
  {
   "cell_type": "code",
   "execution_count": 44,
   "id": "44ab93a6",
   "metadata": {},
   "outputs": [
    {
     "name": "stdout",
     "output_type": "stream",
     "text": [
      "RanksumsResult(statistic=16.122901895498206, pvalue=1.7614017232301522e-58)\n",
      "RanksumsResult(statistic=-15.426696792595951, pvalue=1.0827166679103387e-53)\n",
      "RanksumsResult(statistic=-21.977587056177065, pvalue=4.718846120919771e-107)\n"
     ]
    }
   ],
   "source": [
    "# Perform Wilcoxon rank-sum test on differences\n",
    "print(stats.ranksums(bdc0_diff_gc_list, bdc1_diff_gc_list))\n",
    "print(stats.ranksums(bdc0_diff_gc_list, bdc2_diff_gc_list))\n",
    "print(stats.ranksums(bdc1_diff_gc_list, bdc2_diff_gc_list))"
   ]
  },
  {
   "cell_type": "markdown",
   "id": "189fed04",
   "metadata": {},
   "source": [
    "The distributions of differences for BDC0, BDC1 and BDC2 differ significantly from each other."
   ]
  },
  {
   "cell_type": "markdown",
   "id": "6aa4afb6",
   "metadata": {},
   "source": [
    "### Repeat content of baits\n",
    "\n",
    "For the repeat content of baits, we perform the same analysis as for the GC content of baits. As before, we use the digest with two well-placed baits for our analysis. First, we create the boxplots showing the distributions of repeat contents separately for `5'` and `3'` baits."
   ]
  },
  {
   "cell_type": "code",
   "execution_count": 83,
   "id": "591a7dfe",
   "metadata": {
    "scrolled": true
   },
   "outputs": [
    {
     "data": {
      "image/png": "[encoded data removed]",
      "text/plain": [
       "<Figure size 540x216 with 2 Axes>"
      ]
     },
     "metadata": {},
     "output_type": "display_data"
    }
   ],
   "source": [
    "create_boxplot(\n",
    "    BDC0_L=bdc0_l_repeat_list,\n",
    "    BDC0_R=bdc0_r_repeat_list,\n",
    "    BDC1_L=bdc1_l_repeat_list,\n",
    "    BDC1_R=bdc1_r_repeat_list,\n",
    "    BDC2_L=bdc2_l_repeat_list,\n",
    "    BDC2_R=bdc2_r_repeat_list,\n",
    "    SHOWFLIERS = True,\n",
    "    TITLE='Repeat content of baits',\n",
    "    XLABEL_L='Repeat content of 5\\' bait',\n",
    "    XLABEL_R='Repeat content of 3\\' bait',\n",
    "    OUTPUT_PDF=NOTEBOOK_RESULTS_DIR + '/' + OUT_PREFIX  + '_repeat_content_of_baits.pdf')"
   ]
  },
  {
   "cell_type": "markdown",
   "id": "abd5c1e2",
   "metadata": {},
   "source": [
    "For BDC0, the repeat content distributions of `5'` and `3'` baits are similar. For BDC1 and BDC2, these distributions are very different. For BDC1, most of the repeat contents of the `3'` baits seem to be zero and, for BDC2, it is the exact opposite."
   ]
  },
  {
   "cell_type": "markdown",
   "id": "bd4ee524",
   "metadata": {},
   "source": [
    "We again determine the differences of repeat contents for all bait pairs and create boxplots."
   ]
  },
  {
   "cell_type": "code",
   "execution_count": 84,
   "id": "c11c4c99",
   "metadata": {},
   "outputs": [],
   "source": [
    "## Get lists with differences for repeat content\n",
    "bdc0_diff_repeat_list = [x[0]-x[1] for x in zip(bdc0_l_repeat_list, bdc0_r_repeat_list)]\n",
    "bdc1_diff_repeat_list = [x[0]-x[1] for x in zip(bdc1_l_repeat_list, bdc1_r_repeat_list)]\n",
    "bdc2_diff_repeat_list = [x[0]-x[1] for x in zip(bdc2_l_repeat_list, bdc2_r_repeat_list)]"
   ]
  },
  {
   "cell_type": "code",
   "execution_count": 85,
   "id": "280d9d60",
   "metadata": {},
   "outputs": [
    {
     "data": {
      "image/png": "[encoded data removed]",
      "text/plain": [
       "<Figure size 540x216 with 2 Axes>"
      ]
     },
     "metadata": {},
     "output_type": "display_data"
    }
   ],
   "source": [
    "create_boxplot(\n",
    "    BDC0_L=bdc0_diff_repeat_list,\n",
    "    BDC0_R=bdc0_diff_repeat_list,\n",
    "    BDC1_L=bdc1_diff_repeat_list,\n",
    "    BDC1_R=bdc1_diff_repeat_list,\n",
    "    BDC2_L=bdc2_diff_repeat_list,\n",
    "    BDC2_R=bdc2_diff_repeat_list,\n",
    "    SHOWFLIERS = True,\n",
    "    TITLE='Repeat content differences for digest associated bait pairs',\n",
    "    XLABEL_L='Repeat content difference for 5\\' and 3\\' bait',\n",
    "    XLABEL_R='Repeat content difference for 5\\' and 3\\' bait',\n",
    "    OUTPUT_PDF=NOTEBOOK_RESULTS_DIR + '/' + OUT_PREFIX  + '_repeat_content_differences_for_digest_associated_bait_pairs.pdf')"
   ]
  },
  {
   "cell_type": "markdown",
   "id": "c7777ade",
   "metadata": {},
   "source": [
    "Then we perform the statistical tests."
   ]
  },
  {
   "cell_type": "code",
   "execution_count": 86,
   "id": "8833f262",
   "metadata": {
    "scrolled": true
   },
   "outputs": [
    {
     "name": "stdout",
     "output_type": "stream",
     "text": [
      "WilcoxonResult(statistic=499462.5, pvalue=0.6781786508981713)\n",
      "WilcoxonResult(statistic=30877.5, pvalue=1.8946207760505995e-05)\n",
      "WilcoxonResult(statistic=109533.0, pvalue=0.00011374538320735483)\n"
     ]
    }
   ],
   "source": [
    "# Perform Wilcoxon signed-rank test\n",
    "print(stats.wilcoxon(bdc0_diff_repeat_list))\n",
    "print(stats.wilcoxon(bdc1_diff_repeat_list))\n",
    "print(stats.wilcoxon(bdc2_diff_repeat_list))"
   ]
  },
  {
   "cell_type": "markdown",
   "id": "9660d2cc",
   "metadata": {},
   "source": [
    "Judging by the test, the differences for BDC1 and BDC2 deviate significantly from zero, but not for BDC0."
   ]
  },
  {
   "cell_type": "code",
   "execution_count": 87,
   "id": "a465eaca",
   "metadata": {},
   "outputs": [
    {
     "name": "stdout",
     "output_type": "stream",
     "text": [
      "RanksumsResult(statistic=-3.089730140293682, pvalue=0.0020033843005366953)\n",
      "RanksumsResult(statistic=2.117415593377883, pvalue=0.03422459193992687)\n",
      "RanksumsResult(statistic=4.404262153942583, pvalue=1.061445239790701e-05)\n"
     ]
    }
   ],
   "source": [
    "# Perform Wilcoxon rank_sum test on differences\n",
    "print(stats.ranksums(bdc0_diff_repeat_list, bdc1_diff_repeat_list))\n",
    "print(stats.ranksums(bdc0_diff_repeat_list, bdc2_diff_repeat_list))\n",
    "print(stats.ranksums(bdc1_diff_repeat_list, bdc2_diff_repeat_list))"
   ]
  },
  {
   "cell_type": "markdown",
   "id": "e0752403",
   "metadata": {},
   "source": [
    "BDC1 and BDC2 differ only slightly from BDC0. But among themselves, BDC1 and BDC2 differ significantly."
   ]
  },
  {
   "cell_type": "markdown",
   "id": "fca9bde1",
   "metadata": {},
   "source": [
    "#### Remove all digests for which the repeat content of both baits is zero"
   ]
  },
  {
   "cell_type": "markdown",
   "id": "065dfb19",
   "metadata": {},
   "source": [
    "The boxplot for the repeat content of BDC1 `3'` baits and the BDC2 `5'` baits look strange. This is because in these cases the repeat content is zero for more than 75% of the digests."
   ]
  },
  {
   "cell_type": "code",
   "execution_count": 88,
   "id": "caf30420",
   "metadata": {
    "scrolled": false
   },
   "outputs": [
    {
     "name": "stdout",
     "output_type": "stream",
     "text": [
      "5' baits\n",
      "BDC0: 0.74\n",
      "BDC1: 0.70\n",
      "BDC2: 0.76 !\n",
      "\n",
      "3' baits\n",
      "BDC0: 0.72\n",
      "BDC1: 0.77 !\n",
      "BDC2: 0.72\n"
     ]
    }
   ],
   "source": [
    "print('5\\' baits')\n",
    "print('BDC0: ' + '{:.2f}'.format(bdc0_l_repeat_list.count(0.00)/len(bdc0_l_repeat_list)))\n",
    "print('BDC1: ' + '{:.2f}'.format(bdc1_l_repeat_list.count(0.00)/len(bdc1_l_repeat_list)))\n",
    "print('BDC2: ' + '{:.2f}'.format(bdc2_l_repeat_list.count(0.00)/len(bdc2_l_repeat_list)) + ' !')\n",
    "print()\n",
    "print('3\\' baits')\n",
    "print('BDC0: ' + '{:.2f}'.format(bdc0_r_repeat_list.count(0.00)/len(bdc0_r_repeat_list)))\n",
    "print('BDC1: ' + '{:.2f}'.format(bdc1_r_repeat_list.count(0.00)/len(bdc1_r_repeat_list)) + ' !')\n",
    "print('BDC2: ' + '{:.2f}'.format(bdc2_r_repeat_list.count(0.00)/len(bdc2_r_repeat_list)))"
   ]
  },
  {
   "cell_type": "markdown",
   "id": "f0e8a0f5",
   "metadata": {},
   "source": [
    "More than half of the differences are also equal zero."
   ]
  },
  {
   "cell_type": "code",
   "execution_count": 89,
   "id": "426f1949",
   "metadata": {},
   "outputs": [
    {
     "name": "stdout",
     "output_type": "stream",
     "text": [
      "Differences between 5' and 3' baits\n",
      "BDC0: 0.55\n",
      "BDC1: 0.55\n",
      "BDC2: 0.56\n"
     ]
    }
   ],
   "source": [
    "print('Differences between 5\\' and 3\\' baits')\n",
    "print('BDC0: ' + '{:.2f}'.format(bdc0_diff_repeat_list.count(0.00)/len(bdc0_diff_repeat_list)))\n",
    "print('BDC1: ' + '{:.2f}'.format(bdc1_diff_repeat_list.count(0.00)/len(bdc1_diff_repeat_list)))\n",
    "print('BDC2: ' + '{:.2f}'.format(bdc2_diff_repeat_list.count(0.00)/len(bdc2_diff_repeat_list)))"
   ]
  },
  {
   "cell_type": "markdown",
   "id": "b6ce3dda",
   "metadata": {},
   "source": [
    "This means that more than the half of the digests have two baits with no repeats. These digests are not informative for this analysis (true?) and they interfere with the display in the boxplots. Therefore, we removed all digests for which the repeat content of both digests is zero."
   ]
  },
  {
   "cell_type": "code",
   "execution_count": 90,
   "id": "230e9444",
   "metadata": {},
   "outputs": [],
   "source": [
    "bdc0_l_repeat_list_f1, bdc0_r_repeat_list_f1, bdc0_l_gc_list_f1, bdc0_r_gc_list_f1 = \\\n",
    "    zip(*list(filter(lambda x: 0<x[0] or 0<x[1], zip(bdc0_l_repeat_list, bdc0_r_repeat_list, bdc0_l_gc_list, bdc0_r_gc_list))))\n",
    "\n",
    "bdc1_l_repeat_list_f1, bdc1_r_repeat_list_f1, bdc1_l_gc_list_f1, bdc1_r_gc_list_f1 = \\\n",
    "    zip(*list(filter(lambda x: 0<x[0] or 0<x[1], zip(bdc1_l_repeat_list, bdc1_r_repeat_list, bdc1_l_gc_list, bdc1_r_gc_list))))\n",
    "\n",
    "bdc2_l_repeat_list_f1, bdc2_r_repeat_list_f1, bdc2_l_gc_list_f1, bdc2_r_gc_list_f1 = \\\n",
    "    zip(*list(filter(lambda x: 0<x[0] or 0<x[1], zip(bdc2_l_repeat_list, bdc2_r_repeat_list, bdc2_l_gc_list, bdc2_r_gc_list))))"
   ]
  },
  {
   "cell_type": "markdown",
   "id": "1a44238d",
   "metadata": {},
   "source": [
    "Then we plotted the repeat content of the remaining pairs in a boxplot."
   ]
  },
  {
   "cell_type": "code",
   "execution_count": 91,
   "id": "1e5888d8",
   "metadata": {
    "scrolled": true
   },
   "outputs": [
    {
     "data": {
      "image/png": "[encoded data removed]",
      "text/plain": [
       "<Figure size 540x216 with 2 Axes>"
      ]
     },
     "metadata": {},
     "output_type": "display_data"
    }
   ],
   "source": [
    "create_boxplot(\n",
    "    BDC0_L=bdc0_l_repeat_list_f1,\n",
    "    BDC0_R=bdc0_r_repeat_list_f1,\n",
    "    BDC1_L=bdc1_l_repeat_list_f1,\n",
    "    BDC1_R=bdc1_r_repeat_list_f1,\n",
    "    BDC2_L=bdc2_l_repeat_list_f1,\n",
    "    BDC2_R=bdc2_r_repeat_list_f1,\n",
    "    SHOWFLIERS = True,\n",
    "    TITLE='Repeat content of baits (f1)',\n",
    "    XLABEL_L='Repeat content of 5\\' bait',\n",
    "    XLABEL_R='Repeat content of 3\\' bait',\n",
    "    OUTPUT_PDF=NOTEBOOK_RESULTS_DIR + '/' + OUT_PREFIX  + '_repeat_content_of_baits_f1.pdf')"
   ]
  },
  {
   "cell_type": "markdown",
   "id": "19cad630",
   "metadata": {},
   "source": [
    "For BDC0, the distributions of the repeat contents of `5'` and `3'` baits are almost the same. For BCD1, the `3'` baits have lower repeat content and, for BDC2, the `5'` baits have lower repeat content. This contradicts the explanatory model with the unequal efficiency of baits. Normally, baits with higher repeat content are assumed to less efficient because they bind not only to the target region, but to other regions as well."
   ]
  },
  {
   "cell_type": "markdown",
   "id": "fc2a6066",
   "metadata": {},
   "source": [
    "We again determine the differences of repeat contents for all bait pairs, create boxplots and perform the statistical tests."
   ]
  },
  {
   "cell_type": "code",
   "execution_count": 92,
   "id": "901b2f81",
   "metadata": {},
   "outputs": [],
   "source": [
    "# Get lists with differences for repeat content (filtered)\n",
    "bdc0_diff_repeat_list_f1 = [x[0]-x[1] for x in zip(bdc0_l_repeat_list_f1, bdc0_r_repeat_list_f1)]\n",
    "bdc1_diff_repeat_list_f1 = [x[0]-x[1] for x in zip(bdc1_l_repeat_list_f1, bdc1_r_repeat_list_f1)]\n",
    "bdc2_diff_repeat_list_f1 = [x[0]-x[1] for x in zip(bdc2_l_repeat_list_f1, bdc2_r_repeat_list_f1)]"
   ]
  },
  {
   "cell_type": "code",
   "execution_count": 93,
   "id": "32f418c4",
   "metadata": {},
   "outputs": [
    {
     "data": {
      "image/png": "[encoded data removed]",
      "text/plain": [
       "<Figure size 540x216 with 2 Axes>"
      ]
     },
     "metadata": {},
     "output_type": "display_data"
    }
   ],
   "source": [
    "create_boxplot(\n",
    "    BDC0_L=bdc0_diff_repeat_list_f1,\n",
    "    BDC0_R=bdc0_diff_repeat_list_f1,\n",
    "    BDC1_L=bdc1_diff_repeat_list_f1,\n",
    "    BDC1_R=bdc1_diff_repeat_list_f1,\n",
    "    BDC2_L=bdc2_diff_repeat_list_f1,\n",
    "    BDC2_R=bdc2_diff_repeat_list_f1,\n",
    "    SHOWFLIERS = True,\n",
    "    TITLE='Repeat content differences for digest associated bait pairs (f1)',\n",
    "    XLABEL_L='Repeat content difference for 5\\' and 3\\' bait',\n",
    "    XLABEL_R='Repeat content difference for 5\\' and 3\\' bait',\n",
    "    OUTPUT_PDF=NOTEBOOK_RESULTS_DIR + '/' + OUT_PREFIX  + '_repeat_content_differences_for_digest_associated_bait_pairs_f1.pdf')"
   ]
  },
  {
   "cell_type": "markdown",
   "id": "e1e8bd04",
   "metadata": {},
   "source": [
    "For BDC0, the differences are evenly distributed around zero. For BDC1, the repeat content of the `3'` bait is often less than that of the `5'` bait and, for BDC2, the opposite is true."
   ]
  },
  {
   "cell_type": "code",
   "execution_count": 94,
   "id": "ead7cce7",
   "metadata": {},
   "outputs": [
    {
     "name": "stdout",
     "output_type": "stream",
     "text": [
      "WilcoxonResult(statistic=499462.5, pvalue=0.6781786508981713)\n",
      "WilcoxonResult(statistic=30877.5, pvalue=1.8946207760505995e-05)\n",
      "WilcoxonResult(statistic=109533.0, pvalue=0.00011374538320735483)\n"
     ]
    }
   ],
   "source": [
    "# Perform Wilcoxon signed-rank test\n",
    "print(stats.wilcoxon(bdc0_diff_repeat_list_f1))\n",
    "print(stats.wilcoxon(bdc1_diff_repeat_list_f1))\n",
    "print(stats.wilcoxon(bdc2_diff_repeat_list_f1))"
   ]
  },
  {
   "cell_type": "code",
   "execution_count": 96,
   "id": "3d386c8b",
   "metadata": {},
   "outputs": [
    {
     "name": "stdout",
     "output_type": "stream",
     "text": [
      "RanksumsResult(statistic=-3.9245400292457204, pvalue=8.689561008093156e-05)\n",
      "RanksumsResult(statistic=2.8795868730432046, pvalue=0.003981965768250202)\n",
      "RanksumsResult(statistic=5.740977976839431, pvalue=9.413133365913694e-09)\n"
     ]
    }
   ],
   "source": [
    "# Perform Wilcoxon rank-sum test on differences\n",
    "print(stats.ranksums(bdc0_diff_repeat_list_f1, bdc1_diff_repeat_list_f1))\n",
    "print(stats.ranksums(bdc0_diff_repeat_list_f1, bdc2_diff_repeat_list_f1))\n",
    "print(stats.ranksums(bdc1_diff_repeat_list_f1, bdc2_diff_repeat_list_f1))"
   ]
  },
  {
   "cell_type": "markdown",
   "id": "fd8ff9a0",
   "metadata": {},
   "source": [
    "The results of the statistical tests are not very different from those obtained before we removed all digests that have two baits without repeats."
   ]
  },
  {
   "cell_type": "markdown",
   "id": "a35f4f54",
   "metadata": {},
   "source": [
    "Repeat GC content analysis for non-zero repeat digests."
   ]
  },
  {
   "cell_type": "code",
   "execution_count": 97,
   "id": "52f272f0",
   "metadata": {},
   "outputs": [
    {
     "data": {
      "image/png": "[encoded data removed]",
      "text/plain": [
       "<Figure size 540x216 with 2 Axes>"
      ]
     },
     "metadata": {},
     "output_type": "display_data"
    }
   ],
   "source": [
    "create_boxplot(\n",
    "    BDC0_L=bdc0_l_gc_list_f1,\n",
    "    BDC0_R=bdc0_r_gc_list_f1,\n",
    "    BDC1_L=bdc1_l_gc_list_f1,\n",
    "    BDC1_R=bdc1_r_gc_list_f1,\n",
    "    BDC2_L=bdc2_l_gc_list_f1,\n",
    "    BDC2_R=bdc2_r_gc_list_f1,\n",
    "    SHOWFLIERS = True,\n",
    "    TITLE='GC content of baits (f1)',\n",
    "    XLABEL_L='GC content of 5\\' bait',\n",
    "    XLABEL_R='GC content of 3\\' bait',\n",
    "    OUTPUT_PDF=NOTEBOOK_RESULTS_DIR + '/' + OUT_PREFIX  + '_gc_content_of_baits_f1.pdf')"
   ]
  },
  {
   "cell_type": "code",
   "execution_count": 98,
   "id": "a26bd827",
   "metadata": {},
   "outputs": [],
   "source": [
    "# Get lists with differences for gc content (filtered)\n",
    "bdc0_diff_gc_list_f1 = [x[0]-x[1] for x in zip(bdc0_l_gc_list_f1, bdc0_r_gc_list_f1)]\n",
    "bdc1_diff_gc_list_f1 = [x[0]-x[1] for x in zip(bdc1_l_gc_list_f1, bdc1_r_gc_list_f1)]\n",
    "bdc2_diff_gc_list_f1 = [x[0]-x[1] for x in zip(bdc2_l_gc_list_f1, bdc2_r_gc_list_f1)]"
   ]
  },
  {
   "cell_type": "code",
   "execution_count": 99,
   "id": "34f0d433",
   "metadata": {},
   "outputs": [
    {
     "data": {
      "image/png": "[encoded data removed]",
      "text/plain": [
       "<Figure size 540x216 with 2 Axes>"
      ]
     },
     "metadata": {},
     "output_type": "display_data"
    }
   ],
   "source": [
    "create_boxplot(\n",
    "    BDC0_L=bdc0_diff_gc_list_f1,\n",
    "    BDC0_R=bdc0_diff_gc_list_f1,\n",
    "    BDC1_L=bdc1_diff_gc_list_f1,\n",
    "    BDC1_R=bdc1_diff_gc_list_f1,\n",
    "    BDC2_L=bdc2_diff_gc_list_f1,\n",
    "    BDC2_R=bdc2_diff_gc_list_f1,\n",
    "    SHOWFLIERS = True,\n",
    "    TITLE='GC content differences for digest associated bait pairs (f1)',\n",
    "    XLABEL_L='GC content difference for 5\\' and 3\\' bait',\n",
    "    XLABEL_R='GC content difference for 5\\' and 3\\' bait',\n",
    "    OUTPUT_PDF=NOTEBOOK_RESULTS_DIR + '/' + OUT_PREFIX  + '_gc_content_differences_for_digest_associated_bait_pairs_f1.pdf')"
   ]
  },
  {
   "cell_type": "code",
   "execution_count": 100,
   "id": "46db7361",
   "metadata": {},
   "outputs": [
    {
     "name": "stdout",
     "output_type": "stream",
     "text": [
      "WilcoxonResult(statistic=488250.5, pvalue=0.6129979703441251)\n",
      "WilcoxonResult(statistic=29122.5, pvalue=2.9253637386526054e-06)\n",
      "WilcoxonResult(statistic=94560.5, pvalue=1.0459011543164346e-09)\n"
     ]
    }
   ],
   "source": [
    "# Perform Wilcoxon signed-rank test\n",
    "print(stats.wilcoxon(bdc0_diff_gc_list_f1))\n",
    "print(stats.wilcoxon(bdc1_diff_gc_list_f1))\n",
    "print(stats.wilcoxon(bdc2_diff_gc_list_f1))"
   ]
  },
  {
   "cell_type": "markdown",
   "id": "c46e187e",
   "metadata": {},
   "source": [
    "### Dependency between GC and repeat content\n",
    "\n",
    "High GC content could be negatively correlated with repeat content. To test this hypothesis, we determined the GC and repeat content of all baits."
   ]
  },
  {
   "cell_type": "code",
   "execution_count": 101,
   "id": "61e6cacb",
   "metadata": {},
   "outputs": [],
   "source": [
    "# Get GC and repeat content of all baits\n",
    "gc_list = []\n",
    "repeat_list = []\n",
    "for bait_seq in BAIT_SEQ_dict.values():\n",
    "    gc_content, repeat_content = get_gc_and_repeat_content(bait_seq)\n",
    "    gc_list.append(gc_content)\n",
    "    repeat_list.append(repeat_content)"
   ]
  },
  {
   "cell_type": "markdown",
   "id": "d6f9e5af",
   "metadata": {},
   "source": [
    "Then we divide all baits into those with and without repeats, and within these groups, we further divide them into low and high GC baits. To distinguish between low and high GC baits, we use the median GC content of all baits as a threshold. Then we determine the numbers of baits in the four groups and perform a Fisher's exact test."
   ]
  },
  {
   "cell_type": "code",
   "execution_count": 102,
   "id": "54fb5da0",
   "metadata": {},
   "outputs": [
    {
     "name": "stdout",
     "output_type": "stream",
     "text": [
      "GC_LOW_HIGH_THRESH: 0.43\n",
      "\n",
      "                 Low GC High GC   Total\n",
      "Zero repeat      11,607  12,380  23,987\n",
      "Non-zero repeat   7,724   5,891  13,615\n",
      "Total            19,331  18,271  37,602\n",
      "Prior odds ratio: 0.7150659484860984\n",
      "P-value: 1.251786508767154e-54\n"
     ]
    }
   ],
   "source": [
    "GC_LOW_HIGH_THRESH = median(gc_list)\n",
    "print('GC_LOW_HIGH_THRESH: ' + '{:.2f}'.format(GC_LOW_HIGH_THRESH))\n",
    "print()\n",
    "x, y = \\\n",
    "    zip(*list(filter(lambda x: x[0]==0 and x[1]<=GC_LOW_HIGH_THRESH, zip(repeat_list, gc_list))))\n",
    "ZERO_REPEAT_GC_LOW = len(y)\n",
    "x, y = \\\n",
    "    zip(*list(filter(lambda x: x[0]==0 and x[1]>GC_LOW_HIGH_THRESH, zip(repeat_list, gc_list))))\n",
    "ZERO_REPEAT_GC_HIGH = len(y)\n",
    "x, y = \\\n",
    "    zip(*list(filter(lambda x: x[0]>0 and x[1]<=GC_LOW_HIGH_THRESH, zip(repeat_list, gc_list))))\n",
    "NON_ZERO_REPEAT_GC_LOW = len(y)\n",
    "x, y = \\\n",
    "    zip(*list(filter(lambda x: x[0]>0 and x[1]>GC_LOW_HIGH_THRESH, zip(repeat_list, gc_list))))\n",
    "NON_ZERO_REPEAT_GC_HIGH = len(y)\n",
    "\n",
    "ZERO_REPEAT_TOTAL = ZERO_REPEAT_GC_LOW + ZERO_REPEAT_GC_HIGH\n",
    "NON_ZERO_REPEAT_TOTAL = NON_ZERO_REPEAT_GC_LOW + NON_ZERO_REPEAT_GC_HIGH\n",
    "GC_LOW_TOTAL = ZERO_REPEAT_GC_LOW + NON_ZERO_REPEAT_GC_LOW\n",
    "GC_HIGH_TOTAL = ZERO_REPEAT_GC_HIGH + NON_ZERO_REPEAT_GC_HIGH\n",
    "\n",
    "d = {'Low GC': ['{:,}'.format(ZERO_REPEAT_GC_LOW),\n",
    "                '{:,}'.format(NON_ZERO_REPEAT_GC_LOW),\n",
    "                '{:,}'.format(GC_LOW_TOTAL)],\n",
    "     'High GC': ['{:,}'.format(ZERO_REPEAT_GC_HIGH),\n",
    "                 '{:,}'.format(NON_ZERO_REPEAT_GC_HIGH),\n",
    "                 '{:,}'.format(GC_HIGH_TOTAL)],\n",
    "     'Total': ['{:,}'.format(ZERO_REPEAT_TOTAL),\n",
    "               '{:,}'.format(NON_ZERO_REPEAT_TOTAL),\n",
    "               '{:,}'.format(ZERO_REPEAT_TOTAL + NON_ZERO_REPEAT_TOTAL)]}\n",
    "df = pd.DataFrame(data=d)\n",
    "df.index = ['Zero repeat', 'Non-zero repeat', 'Total']\n",
    "print(df)\n",
    "\n",
    "# Fisher's exact test\n",
    "contingency_table = [\n",
    "    [ZERO_REPEAT_GC_LOW, ZERO_REPEAT_GC_HIGH],\n",
    "    [NON_ZERO_REPEAT_GC_LOW, NON_ZERO_REPEAT_GC_HIGH]]\n",
    "\n",
    "odds_ratio, p_value = fisher_exact(contingency_table, alternative='two-sided')\n",
    "print('Prior odds ratio: ' + str(odds_ratio))\n",
    "print('P-value: ' + str(p_value))"
   ]
  },
  {
   "cell_type": "markdown",
   "id": "2cc01142",
   "metadata": {},
   "source": [
    "Among the baits with a high GC content, the proportion of baits without repeats is significantly higher."
   ]
  },
  {
   "cell_type": "markdown",
   "id": "ffa0d001",
   "metadata": {},
   "source": [
    "### Remove digests in which one of the baits has very high GC content\n",
    "\n",
    "We have removed all digests for which at least one of the baits has a GC content of more than that of 75% of all baits, which is `0.52`."
   ]
  },
  {
   "cell_type": "code",
   "execution_count": 103,
   "id": "28ee6d16",
   "metadata": {},
   "outputs": [
    {
     "name": "stdout",
     "output_type": "stream",
     "text": [
      "0.5166666666666667\n"
     ]
    }
   ],
   "source": [
    "GC_HIGH_THRESH = quantile(gc_list, 0.75)\n",
    "print(GC_HIGH_THRESH)"
   ]
  },
  {
   "cell_type": "code",
   "execution_count": 104,
   "id": "6e657245",
   "metadata": {},
   "outputs": [],
   "source": [
    "bdc0_l_gc_list_f2, bdc0_r_gc_list_f2, bdc0_l_repeat_list_f2, bdc0_r_repeat_list_f2 = \\\n",
    "    zip(*list(filter(lambda x: x[0]<GC_HIGH_THRESH and x[1]<GC_HIGH_THRESH and (0<x[2] or 0<x[3]), zip(bdc0_l_gc_list, bdc0_r_gc_list, bdc0_l_repeat_list, bdc0_r_repeat_list))))\n",
    "\n",
    "bdc1_l_gc_list_f2, bdc1_r_gc_list_f2, bdc1_l_repeat_list_f2, bdc1_r_repeat_list_f2 = \\\n",
    "    zip(*list(filter(lambda x: x[0]<GC_HIGH_THRESH and x[1]<GC_HIGH_THRESH and (0<x[2] or 0<x[3]), zip(bdc1_l_gc_list, bdc1_r_gc_list, bdc1_l_repeat_list, bdc1_r_repeat_list))))\n",
    "\n",
    "bdc2_l_gc_list_f2, bdc2_r_gc_list_f2, bdc2_l_repeat_list_f2, bdc2_r_repeat_list_f2 = \\\n",
    "    zip(*list(filter(lambda x: x[0]<GC_HIGH_THRESH and x[1]<GC_HIGH_THRESH and (0<x[2] or 0<x[3]), zip(bdc2_l_gc_list, bdc2_r_gc_list, bdc2_l_repeat_list, bdc2_r_repeat_list))))"
   ]
  },
  {
   "cell_type": "markdown",
   "id": "eb222b81",
   "metadata": {},
   "source": [
    "First, we run the analysis for GC content again using the filtered data."
   ]
  },
  {
   "cell_type": "code",
   "execution_count": 105,
   "id": "bb3c84c7",
   "metadata": {},
   "outputs": [
    {
     "data": {
      "image/png": "[encoded data removed]",
      "text/plain": [
       "<Figure size 540x216 with 2 Axes>"
      ]
     },
     "metadata": {},
     "output_type": "display_data"
    }
   ],
   "source": [
    "create_boxplot(\n",
    "    BDC0_L=bdc0_l_gc_list_f2,\n",
    "    BDC0_R=bdc0_r_gc_list_f2,\n",
    "    BDC1_L=bdc1_l_gc_list_f2,\n",
    "    BDC1_R=bdc1_r_gc_list_f2,\n",
    "    BDC2_L=bdc2_l_gc_list_f2,\n",
    "    BDC2_R=bdc2_r_gc_list_f2,\n",
    "    SHOWFLIERS = True,\n",
    "    TITLE='GC content of baits (f2)',\n",
    "    XLABEL_L='GC content of 5\\' bait',\n",
    "    XLABEL_R='GC content of 3\\' bait',\n",
    "    OUTPUT_PDF=NOTEBOOK_RESULTS_DIR + '/' + OUT_PREFIX  + '_gc_content_of_baits_f2.pdf')"
   ]
  },
  {
   "cell_type": "code",
   "execution_count": 106,
   "id": "9a67c60a",
   "metadata": {},
   "outputs": [],
   "source": [
    "# Get lists with differences for GC content (x)\n",
    "bdc0_diff_gc_list_f2 = [x[0]-x[1] for x in zip(bdc0_l_gc_list_f2, bdc0_r_gc_list_f2)]\n",
    "bdc1_diff_gc_list_f2 = [x[0]-x[1] for x in zip(bdc1_l_gc_list_f2, bdc1_r_gc_list_f2)]\n",
    "bdc2_diff_gc_list_f2 = [x[0]-x[1] for x in zip(bdc2_l_gc_list_f2, bdc2_r_gc_list_f2)]"
   ]
  },
  {
   "cell_type": "code",
   "execution_count": 107,
   "id": "1f8943ff",
   "metadata": {
    "scrolled": true
   },
   "outputs": [
    {
     "data": {
      "image/png": "[encoded data removed]",
      "text/plain": [
       "<Figure size 540x216 with 2 Axes>"
      ]
     },
     "metadata": {},
     "output_type": "display_data"
    }
   ],
   "source": [
    "create_boxplot(\n",
    "    BDC0_L=bdc0_diff_gc_list_f2,\n",
    "    BDC0_R=bdc0_diff_gc_list_f2,\n",
    "    BDC1_L=bdc1_diff_gc_list_f2,\n",
    "    BDC1_R=bdc1_diff_gc_list_f2,\n",
    "    BDC2_L=bdc2_diff_gc_list_f2,\n",
    "    BDC2_R=bdc2_diff_gc_list_f2,\n",
    "    SHOWFLIERS = True,\n",
    "    TITLE='GC content differences for digest associated bait pairs (f2)',\n",
    "    XLABEL_L='GC content difference for 5\\' and 3\\' bait',\n",
    "    XLABEL_R='GC content difference for 5\\' and 3\\' bait',\n",
    "    OUTPUT_PDF=NOTEBOOK_RESULTS_DIR + '/' + OUT_PREFIX  + '_gc_content_differences_for_digest_associated_bait_pairs_f2.pdf')"
   ]
  },
  {
   "cell_type": "code",
   "execution_count": 108,
   "id": "98bbf44f",
   "metadata": {},
   "outputs": [
    {
     "name": "stdout",
     "output_type": "stream",
     "text": [
      "WilcoxonResult(statistic=177958.0, pvalue=0.04049116147263929)\n",
      "WilcoxonResult(statistic=6161.5, pvalue=2.074283384982487e-06)\n",
      "WilcoxonResult(statistic=29175.5, pvalue=1.2193726727249178e-05)\n"
     ]
    }
   ],
   "source": [
    "# Perform Wilcoxon signed-rank test\n",
    "print(stats.wilcoxon(bdc0_diff_gc_list_f2))\n",
    "print(stats.wilcoxon(bdc1_diff_gc_list_f2))\n",
    "print(stats.wilcoxon(bdc2_diff_gc_list_f2))"
   ]
  },
  {
   "cell_type": "code",
   "execution_count": 109,
   "id": "7fa9587e",
   "metadata": {
    "scrolled": true
   },
   "outputs": [
    {
     "name": "stdout",
     "output_type": "stream",
     "text": [
      "RanksumsResult(statistic=-3.7311145883847567, pvalue=0.00019063448356170225)\n",
      "RanksumsResult(statistic=4.809560423629664, pvalue=1.5126256749879054e-06)\n",
      "RanksumsResult(statistic=6.3817113921927, pvalue=1.7511976922042148e-10)\n"
     ]
    }
   ],
   "source": [
    "# Perform Wilcoxon rank_sum test on differences\n",
    "print(stats.ranksums(bdc0_diff_gc_list_f2, bdc1_diff_gc_list_f2))\n",
    "print(stats.ranksums(bdc0_diff_gc_list_f2, bdc2_diff_gc_list_f2))\n",
    "print(stats.ranksums(bdc1_diff_gc_list_f2, bdc2_diff_gc_list_f2))"
   ]
  },
  {
   "cell_type": "markdown",
   "id": "ac60e1c9",
   "metadata": {},
   "source": [
    "**No significant deviations from zero!**"
   ]
  },
  {
   "cell_type": "markdown",
   "id": "954dfcbd",
   "metadata": {},
   "source": [
    "Run the repeat content analysis again using the filtered data."
   ]
  },
  {
   "cell_type": "code",
   "execution_count": 110,
   "id": "098d84e2",
   "metadata": {
    "scrolled": true
   },
   "outputs": [
    {
     "data": {
      "image/png": "[encoded data removed]",
      "text/plain": [
       "<Figure size 540x216 with 2 Axes>"
      ]
     },
     "metadata": {},
     "output_type": "display_data"
    }
   ],
   "source": [
    "create_boxplot(\n",
    "    BDC0_L=bdc0_l_repeat_list_f2,\n",
    "    BDC0_R=bdc0_r_repeat_list_f2,\n",
    "    BDC1_L=bdc1_l_repeat_list_f2,\n",
    "    BDC1_R=bdc1_r_repeat_list_f2,\n",
    "    BDC2_L=bdc2_l_repeat_list_f2,\n",
    "    BDC2_R=bdc2_r_repeat_list_f2,\n",
    "    SHOWFLIERS = True,\n",
    "    TITLE='Repeat content of baits (f2)',\n",
    "    XLABEL_L='Repeat content of 5\\' bait',\n",
    "    XLABEL_R='Repeat content of 3\\' bait',\n",
    "    OUTPUT_PDF=NOTEBOOK_RESULTS_DIR + '/' + OUT_PREFIX  + '_repeat_content_of_baits_f2.pdf')"
   ]
  },
  {
   "cell_type": "code",
   "execution_count": 111,
   "id": "70254323",
   "metadata": {},
   "outputs": [],
   "source": [
    "# Get lists with differences for repeat content (x)\n",
    "bdc0_diff_repeat_list_f2 = [x[0]-x[1] for x in zip(bdc0_l_repeat_list_f2, bdc0_r_repeat_list_f2)]\n",
    "bdc1_diff_repeat_list_f2 = [x[0]-x[1] for x in zip(bdc1_l_repeat_list_f2, bdc1_r_repeat_list_f2)]\n",
    "bdc2_diff_repeat_list_f2 = [x[0]-x[1] for x in zip(bdc2_l_repeat_list_f2, bdc2_r_repeat_list_f2)]"
   ]
  },
  {
   "cell_type": "code",
   "execution_count": 112,
   "id": "a82475c7",
   "metadata": {
    "scrolled": true
   },
   "outputs": [
    {
     "data": {
      "image/png": "[encoded data removed]",
      "text/plain": [
       "<Figure size 540x216 with 2 Axes>"
      ]
     },
     "metadata": {},
     "output_type": "display_data"
    }
   ],
   "source": [
    "create_boxplot(\n",
    "    BDC0_L=bdc0_diff_repeat_list_f2,\n",
    "    BDC0_R=bdc0_diff_repeat_list_f2,\n",
    "    BDC1_L=bdc1_diff_repeat_list_f2,\n",
    "    BDC1_R=bdc1_diff_repeat_list_f2,\n",
    "    BDC2_L=bdc2_diff_repeat_list_f2,\n",
    "    BDC2_R=bdc2_diff_repeat_list_f2,\n",
    "    SHOWFLIERS = True,\n",
    "    TITLE='Repeat content differences for digest associated bait pairs (f2)',\n",
    "    XLABEL_L='Repeat content difference for 5\\' and 3\\' bait',\n",
    "    XLABEL_R='Repeat content difference for 5\\' and 3\\' bait',\n",
    "    OUTPUT_PDF=NOTEBOOK_RESULTS_DIR + '/' + OUT_PREFIX  + '_repeat_content_differences_for_digest_associated_bait_pairs_f2.pdf')"
   ]
  },
  {
   "cell_type": "code",
   "execution_count": 113,
   "id": "69488f22",
   "metadata": {},
   "outputs": [
    {
     "name": "stdout",
     "output_type": "stream",
     "text": [
      "WilcoxonResult(statistic=193426.0, pvalue=0.4923126540621652)\n",
      "WilcoxonResult(statistic=9087.5, pvalue=0.0834736435732121)\n",
      "WilcoxonResult(statistic=37912.0, pvalue=0.20172545323775504)\n"
     ]
    }
   ],
   "source": [
    "# Perform Wilcoxon signed-rank test\n",
    "print(stats.wilcoxon(bdc0_diff_repeat_list_f2))\n",
    "print(stats.wilcoxon(bdc1_diff_repeat_list_f2))\n",
    "print(stats.wilcoxon(bdc2_diff_repeat_list_f2))"
   ]
  },
  {
   "cell_type": "code",
   "execution_count": 114,
   "id": "1b34dec3",
   "metadata": {},
   "outputs": [
    {
     "name": "stdout",
     "output_type": "stream",
     "text": [
      "RanksumsResult(statistic=-1.7776746113998878, pvalue=0.07545731180683521)\n",
      "RanksumsResult(statistic=0.6279608832070539, pvalue=0.5300295653042706)\n",
      "RanksumsResult(statistic=2.1136130413335508, pvalue=0.03454833107040542)\n"
     ]
    }
   ],
   "source": [
    "# Perform Wilcoxon rank_sum test on differences\n",
    "print(stats.ranksums(bdc0_diff_repeat_list_f2, bdc1_diff_repeat_list_f2))\n",
    "print(stats.ranksums(bdc0_diff_repeat_list_f2, bdc2_diff_repeat_list_f2))\n",
    "print(stats.ranksums(bdc1_diff_repeat_list_f2, bdc2_diff_repeat_list_f2))"
   ]
  }
 ],
 "metadata": {
  "kernelspec": {
   "display_name": "diachrscripts",
   "language": "python",
   "name": "diachrscripts"
  },
  "language_info": {
   "codemirror_mode": {
    "name": "ipython",
    "version": 3
   },
   "file_extension": ".py",
   "mimetype": "text/x-python",
   "name": "python",
   "nbconvert_exporter": "python",
   "pygments_lexer": "ipython3",
   "version": "3.7.11"
  }
 },
 "nbformat": 4,
 "nbformat_minor": 5
}
