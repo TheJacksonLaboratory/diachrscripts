{
 "cells": [
  {
   "cell_type": "code",
   "execution_count": 1,
   "id": "b23624cc",
   "metadata": {},
   "outputs": [],
   "source": [
    "import pybedtools\n",
    "import pandas as pd\n",
    "from scipy.stats import fisher_exact\n",
    "from numpy import log10, mean, max, quantile, corrcoef, median\n",
    "from scipy import stats\n",
    "import matplotlib.pyplot as plt\n",
    "from re import sub\n",
    "%matplotlib inline\n",
    "\n",
    "# Create directory for output files generated in this notebook \n",
    "NOTEBOOK_RESULTS_DIR = 'bd_analysis_results'\n",
    "%mkdir -p $NOTEBOOK_RESULTS_DIR\n",
    "OUT_PREFIX = 'JAV_MAC_M0_CHC_RALT'"
   ]
  },
  {
   "cell_type": "markdown",
   "id": "51a9738b",
   "metadata": {},
   "source": [
    "# Comparative analyzes of BDC0, BDC1 and BDC2 digests"
   ]
  },
  {
   "cell_type": "markdown",
   "id": "a4e9cbfc",
   "metadata": {},
   "source": [
    "## Create data structure for digests and associated baits"
   ]
  },
  {
   "cell_type": "markdown",
   "id": "ec54a740",
   "metadata": {},
   "source": [
    "### Input files\n",
    "\n",
    "We use the regions of Mifsud's baits, Javierre's baited digests and those of the digests we have classified as BCD1 or BDC2. We also need the reference sequence for investigating GC and repeat content of baits."
   ]
  },
  {
   "cell_type": "code",
   "execution_count": 2,
   "id": "23be2156",
   "metadata": {},
   "outputs": [],
   "source": [
    "# BED file with all baits\n",
    "MIFSUD_BAIT_FILE = pybedtools.BedTool('../../additional_files/mifsud_2015/mifsud_baits_hg38.bed')\n",
    "\n",
    "# BED file with all baited digests\n",
    "BAITED_DIGEST_FILE = pybedtools.BedTool('../../additional_files/javierre_2016/javierre_baited_digests_hg38.bed')\n",
    "\n",
    "# BED files for BDC1 and BDC2 baited digests\n",
    "BDC0_DIGEST_FILE = pybedtools.BedTool(NOTEBOOK_RESULTS_DIR + '/bdc_lists/JAV_MAC_M0_CHC_RALT_20000_ht_bdc0.bed')\n",
    "BDC1_DIGEST_FILE = pybedtools.BedTool(NOTEBOOK_RESULTS_DIR + '/bdc_lists/JAV_MAC_M0_CHC_RALT_20000_ht_bdc1.bed')\n",
    "BDC2_DIGEST_FILE = pybedtools.BedTool(NOTEBOOK_RESULTS_DIR + '/bdc_lists/JAV_MAC_M0_CHC_RALT_20000_ht_bdc2.bed')\n",
    "\n",
    "# Genome sequence file\n",
    "# A corresponding index file 'genome.fa.fai' must be in the same directory\n",
    "HG38_GENOME_FILE = '/Users/hansep/ref_data/hg38_genome.fa'"
   ]
  },
  {
   "cell_type": "code",
   "execution_count": 83,
   "id": "75ffedc6",
   "metadata": {},
   "outputs": [
    {
     "data": {
      "text/plain": [
       "37602"
      ]
     },
     "execution_count": 83,
     "metadata": {},
     "output_type": "execute_result"
    }
   ],
   "source": [
    "len(MIFSUD_BAIT_FILE)"
   ]
  },
  {
   "cell_type": "code",
   "execution_count": 85,
   "id": "a6dcbb2f",
   "metadata": {},
   "outputs": [
    {
     "data": {
      "text/plain": [
       "22056"
      ]
     },
     "execution_count": 85,
     "metadata": {},
     "output_type": "execute_result"
    }
   ],
   "source": [
    "len(BAITED_DIGEST_FILE)"
   ]
  },
  {
   "cell_type": "markdown",
   "id": "8806af55",
   "metadata": {},
   "source": [
    "First we create two sets with coordinates of BDC1 and BDC2 coordinates."
   ]
  },
  {
   "cell_type": "code",
   "execution_count": 3,
   "id": "94b63314",
   "metadata": {},
   "outputs": [],
   "source": [
    "BDC0_set = set()\n",
    "for d in BDC0_DIGEST_FILE:\n",
    "    BDC0_set.add(d.chrom + '\\t' + str(d.start) + '\\t' + str(d.end))\n",
    "    \n",
    "BDC1_set = set()\n",
    "for d in BDC1_DIGEST_FILE:\n",
    "    BDC1_set.add(d.chrom + '\\t' + str(d.start) + '\\t' + str(d.end))\n",
    "    \n",
    "BDC2_set = set()\n",
    "for d in BDC2_DIGEST_FILE:\n",
    "    BDC2_set.add(d.chrom + '\\t' + str(d.start) + '\\t' + str(d.end))"
   ]
  },
  {
   "cell_type": "markdown",
   "id": "fcbdd849",
   "metadata": {},
   "source": [
    "We also create a dictionary with the sequences of the baits."
   ]
  },
  {
   "cell_type": "code",
   "execution_count": 5,
   "id": "542795a7",
   "metadata": {},
   "outputs": [],
   "source": [
    "# Create baits seq\n",
    "BAIT_SEQ_dict = dict()\n",
    "OUT_PREFIX\n",
    "MIFSUD_BAIT_FILE.sequence(fi=HG38_GENOME_FILE, fo=NOTEBOOK_RESULTS_DIR + '/bait_sequences.fa', tab=True)\n",
    "with open(NOTEBOOK_RESULTS_DIR + '/bait_sequences.fa', 'rt') as fp:\n",
    "    for line in fp:\n",
    "        coords, seq = line.rstrip().split('\\t')\n",
    "        chrom = coords.split(':')[0]\n",
    "        sta = coords.split(':')[1].split('-')[0]\n",
    "        end = coords.split(':')[1].split('-')[1]\n",
    "        BAIT_SEQ_dict[chrom + '\\t' + sta + '\\t' + end] = seq"
   ]
  },
  {
   "cell_type": "markdown",
   "id": "f0aaa222",
   "metadata": {},
   "source": [
    "Then, for each baited digest, determine the the baits that are completly contained in the digest. The option `F=1.00` causes an overlap to be reported only if a bait is completely contained in the digest."
   ]
  },
  {
   "cell_type": "code",
   "execution_count": 6,
   "id": "4163bbde",
   "metadata": {},
   "outputs": [
    {
     "name": "stdout",
     "output_type": "stream",
     "text": [
      "chr1\t896515\t912788\tchr1\t912476\t912596\n",
      " chr1\t912789\t915238\tchr1\t912789\t912909\n",
      " chr1\t912789\t915238\tchr1\t915001\t915121\n",
      " chr1\t915239\t938701\tchr1\t915239\t915359\n",
      " chr1\t915239\t938701\tchr1\t938577\t938697\n",
      " chr1\t954044\t968260\tchr1\t954103\t954223\n",
      " chr1\t954044\t968260\tchr1\t968140\t968260\n",
      " chr1\t968261\t992014\tchr1\t968261\t968381\n",
      " chr1\t968261\t992014\tchr1\t991894\t992014\n",
      " chr1\t992015\t1001574\tchr1\t1001421\t1001541\n",
      " "
     ]
    }
   ],
   "source": [
    "DIGESTS_WITH_BAIT_COORDS = BAITED_DIGEST_FILE.intersect(MIFSUD_BAIT_FILE, wa=True, wb=True, F=1.00)\n",
    "DIGESTS_WITH_BAIT_COORDS.head()"
   ]
  },
  {
   "cell_type": "markdown",
   "id": "ad9fbc54",
   "metadata": {},
   "source": [
    "### Unassigned baits\n",
    "\n",
    "Out of a total of 37,602 baits, 30 baits could not be assigned to any digest."
   ]
  },
  {
   "cell_type": "code",
   "execution_count": 139,
   "id": "0a470bd2",
   "metadata": {},
   "outputs": [
    {
     "name": "stdout",
     "output_type": "stream",
     "text": [
      "Total number of baits: 37602\n",
      "Assigned baits: 37572\n",
      "Unssigned baits: 30\n",
      "37602\n",
      "37572\n",
      "30\n",
      "chr10\t131844489\t131844609\n",
      "chr13\t113728576\t113728696\n",
      "chrX\t77454663\t77454783\n",
      "chr11\t1202249\t1202369\n",
      "chrX\t357440\t357560\n",
      "chr9\t130351470\t130351590\n",
      "chrX\t77432719\t77432839\n",
      "chr7\t260049\t260169\n",
      "chr10\t46460443\t46460563\n",
      "chrX\t49174446\t49174566\n",
      "chr20\t62613650\t62613770\n",
      "chr17\t511956\t512076\n",
      "chr8\t144372082\t144372202\n",
      "chr7\t228327\t228447\n",
      "chr19\t54308779\t54308899\n",
      "chr2\t241831349\t241831469\n",
      "chr22\t17579735\t17579855\n",
      "chr2\t241810318\t241810438\n",
      "chr17\t444979\t445099\n",
      "chr20\t62637346\t62637466\n",
      "chrX\t49159321\t49159441\n",
      "chr8\t144384273\t144384393\n",
      "chr9\t130308280\t130308400\n",
      "chr2\t241809406\t241809526\n",
      "chr9\t136274342\t136274462\n",
      "chr10\t131937130\t131937250\n",
      "chr9\t136344443\t136344563\n",
      "chr22\t17562435\t17562555\n",
      "chr12\t11186082\t11186202\n",
      "chr10\t46467758\t46467878\n"
     ]
    }
   ],
   "source": [
    "print('Total number of baits: ' + str(len(MIFSUD_BAIT_FILE)))\n",
    "print('Assigned baits: ' + str(len(DIGESTS_WITH_BAIT_COORDS)))\n",
    "print('Unssigned baits: ' + str(len(MIFSUD_BAIT_FILE) - len(DIGESTS_WITH_BAIT_COORDS)))\n",
    "bset_1 = set()\n",
    "for d in MIFSUD_BAIT_FILE:\n",
    "    bset_1.add(d.chrom + '\\t' + str(d.start) + '\\t' + str(d.end))\n",
    "bset_2 = set()\n",
    "for d in DIGESTS_WITH_BAIT_COORDS:\n",
    "    arr = str(d).rstrip().split('\\t')\n",
    "    bset_2.add(arr[3] + '\\t' + arr[4] + '\\t' + arr[5])\n",
    "print(len(bset_1))\n",
    "print(len(bset_2))\n",
    "bset_3 = bset_1 - bset_2\n",
    "print(len(bset_3))\n",
    "for d in bset_3:\n",
    "    print(d)"
   ]
  },
  {
   "cell_type": "markdown",
   "id": "0ce36780",
   "metadata": {},
   "source": [
    "### Baited digests without assiged bait\n",
    "\n",
    "Out of a total of 22,056 baited digests only one digest was not assiged a bait."
   ]
  },
  {
   "cell_type": "code",
   "execution_count": 140,
   "id": "82e1c411",
   "metadata": {},
   "outputs": [
    {
     "name": "stdout",
     "output_type": "stream",
     "text": [
      "22056\n",
      "22055\n",
      "{'chr22_KI270879v1_alt\\t275558\\t284927'}\n"
     ]
    }
   ],
   "source": [
    "# Find the one digest to which no baits were assigned\n",
    "dset_1 = set()\n",
    "for d in BAITED_DIGEST_FILE:\n",
    "    dset_1.add(d.chrom + '\\t' + str(d.start) + '\\t' + str(d.end))\n",
    "print(len(dset_1))\n",
    "dset_2 = set()\n",
    "for d in DIGESTS_WITH_BAIT_COORDS:\n",
    "    dset_2.add(d.chrom + '\\t' + str(d.start) + '\\t' + str(d.end))\n",
    "print(len(dset_2))\n",
    "dset_3 = dset_1 - dset_2\n",
    "print(dset_3)"
   ]
  },
  {
   "cell_type": "code",
   "execution_count": 92,
   "id": "a82e18a9",
   "metadata": {},
   "outputs": [
    {
     "data": {
      "text/plain": [
       "22055"
      ]
     },
     "execution_count": 92,
     "metadata": {},
     "output_type": "execute_result"
    }
   ],
   "source": [
    "dset = set()\n",
    "for d in DIGESTS_WITH_BAIT_COORDS:\n",
    "    # Split line with digest and bait coordinates\n",
    "    arr = str(d).split('\\t')\n",
    "\n",
    "    # Read relevant values\n",
    "    d_chr = arr[0]\n",
    "    d_sta = int(arr[1])\n",
    "    d_end = int(arr[2])\n",
    "    dset.add(arr[0] + arr[1] + arr[2])\n",
    "len(dset)    "
   ]
  },
  {
   "cell_type": "markdown",
   "id": "b41e2be0",
   "metadata": {},
   "source": [
    "### Assign baits to the 5' or 3' end of digest\n",
    "\n",
    "We store the overlap information from the file just created in a dictionary. The keys are the coordinates of the digests and, for each digest, the coordinates of the baits associated with the 5' and the 3' end of the digest are stored separately. In addition, the BD class (`0`, `1`, `2`) is stored for each digest."
   ]
  },
  {
   "cell_type": "code",
   "execution_count": 24,
   "id": "fa2c0769",
   "metadata": {},
   "outputs": [],
   "source": [
    "def get_digest_with_baits_dict(DIGESTS_WITH_BAIT_COORDS):\n",
    "    \n",
    "    DIGESTS_WITH_BAITS_DICT = dict()\n",
    "    \n",
    "    for d in DIGESTS_WITH_BAIT_COORDS:\n",
    "        \n",
    "        # Split line with digest and bait coordinates\n",
    "        arr = str(d).split('\\t')\n",
    "\n",
    "        # Read relevant values\n",
    "        d_chr = arr[0]\n",
    "        d_sta = int(arr[1])\n",
    "        d_end = int(arr[2])\n",
    "        b_chr = arr[3]\n",
    "        b_sta = int(arr[4])\n",
    "        b_end = int(arr[5])\n",
    "        new_line = d_chr + '\\t' + str(d_sta)  + '\\t' + str(d_end)   + '\\t' + b_chr + '\\t' + str(b_sta)  + '\\t' + str(b_end)\n",
    "\n",
    "        # Calculate digest and bait length and center positions\n",
    "        d_len = d_end - d_sta + 1\n",
    "        d_center_pos = d_sta + int(d_len/2) + 1\n",
    "        b_len = b_end - b_sta + 1  \n",
    "        b_center_pos = b_sta + int(b_len/2) + 1\n",
    "\n",
    "        # Sanity checks\n",
    "        if d_len - 1 < (d_center_pos-d_sta)*2 and (d_center_pos-d_sta)*2 < d_len + 1:\n",
    "            print('[ERROR] The distance between the digest start and center position must be equal to the half of the digest length!')\n",
    "            print(new_line)\n",
    "            break        \n",
    "        if d_len - 1 < (d_end-d_center_pos)*2 and (d_end-d_center_pos)*2 < d_len + 1:\n",
    "            print('[ERROR] The distance between the digest center and end position must be equal to the half of the digest length!')\n",
    "            print(new_line)\n",
    "            break\n",
    "        \n",
    "        # Get keys for digest and bait sequence\n",
    "        d_key = d_chr + '\\t' + str(d_sta) + '\\t' + str(d_end)\n",
    "        b_key = b_chr + '\\t' + str(b_sta) + '\\t' + str(b_end)\n",
    "\n",
    "        # Create dictionary for this digest if none exists yet\n",
    "        if d_key not in DIGESTS_WITH_BAITS_DICT:\n",
    "            DIGESTS_WITH_BAITS_DICT[d_key] = dict()\n",
    "            DIGESTS_WITH_BAITS_DICT[d_key]['L_COORDS'] = []\n",
    "            DIGESTS_WITH_BAITS_DICT[d_key]['R_COORDS'] = []\n",
    "            \n",
    "        # Assign the overlapping bait to 5' or 3' end of the digest\n",
    "        if b_center_pos < d_center_pos:\n",
    "            DIGESTS_WITH_BAITS_DICT[d_key]['L_COORDS'].append(b_key)\n",
    "        else:\n",
    "            DIGESTS_WITH_BAITS_DICT[d_key]['R_COORDS'].append(b_key)\n",
    "                \n",
    "        # Assign the digest to one of the BDC classes\n",
    "        if d_key in BDC1_set:\n",
    "            DIGESTS_WITH_BAITS_DICT[d_key]['BDC'] = 1\n",
    "            #print('BDC1')\n",
    "        elif d_key in BDC2_set:\n",
    "            DIGESTS_WITH_BAITS_DICT[d_key]['BDC'] = 2\n",
    "            #print('BDC2')\n",
    "        elif d_key in BDC0_set:\n",
    "            DIGESTS_WITH_BAITS_DICT[d_key]['BDC'] = 0\n",
    "            #print('BDC0')\n",
    "        else:\n",
    "            DIGESTS_WITH_BAITS_DICT[d_key]['BDC'] = 'X' # No interactions at this digest\n",
    "            #print('BDC42')\n",
    "                        \n",
    "    return DIGESTS_WITH_BAITS_DICT"
   ]
  },
  {
   "cell_type": "markdown",
   "id": "d086f3e9",
   "metadata": {},
   "source": [
    "We now use the function to create the data structure."
   ]
  },
  {
   "cell_type": "code",
   "execution_count": 25,
   "id": "8efa9dbb",
   "metadata": {},
   "outputs": [],
   "source": [
    "DIGESTS_WITH_BAITS_DICT = get_digest_with_baits_dict(DIGESTS_WITH_BAIT_COORDS)"
   ]
  },
  {
   "cell_type": "markdown",
   "id": "a20303ed",
   "metadata": {},
   "source": [
    "Here the first two items to illustrate the data structure."
   ]
  },
  {
   "cell_type": "code",
   "execution_count": 26,
   "id": "c10f49ed",
   "metadata": {
    "scrolled": true
   },
   "outputs": [
    {
     "name": "stdout",
     "output_type": "stream",
     "text": [
      "[('chr1\\t896515\\t912788', {'L_COORDS': [], 'R_COORDS': ['chr1\\t912476\\t912596'], 'BDC': 0}), ('chr1\\t912789\\t915238', {'L_COORDS': ['chr1\\t912789\\t912909'], 'R_COORDS': ['chr1\\t915001\\t915121'], 'BDC': 0}), ('chr1\\t915239\\t938701', {'L_COORDS': ['chr1\\t915239\\t915359'], 'R_COORDS': ['chr1\\t938577\\t938697'], 'BDC': 1}), ('chr1\\t954044\\t968260', {'L_COORDS': ['chr1\\t954103\\t954223'], 'R_COORDS': ['chr1\\t968140\\t968260'], 'BDC': 0}), ('chr1\\t968261\\t992014', {'L_COORDS': ['chr1\\t968261\\t968381'], 'R_COORDS': ['chr1\\t991894\\t992014'], 'BDC': 0}), ('chr1\\t992015\\t1001574', {'L_COORDS': [], 'R_COORDS': ['chr1\\t1001421\\t1001541'], 'BDC': 2}), ('chr1\\t1008297\\t1021819', {'L_COORDS': [], 'R_COORDS': ['chr1\\t1021680\\t1021800'], 'BDC': 0}), ('chr1\\t1069747\\t1098888', {'L_COORDS': ['chr1\\t1069887\\t1070007'], 'R_COORDS': [], 'BDC': 0}), ('chr1\\t1113672\\t1127279', {'L_COORDS': [], 'R_COORDS': ['chr1\\t1126806\\t1126926'], 'BDC': 0}), ('chr1\\t1161359\\t1171735', {'L_COORDS': ['chr1\\t1161359\\t1161479'], 'R_COORDS': ['chr1\\t1171458\\t1171578'], 'BDC': 1})]\n"
     ]
    }
   ],
   "source": [
    "print(list(DIGESTS_WITH_BAITS_DICT.items())[:10])"
   ]
  },
  {
   "cell_type": "markdown",
   "id": "b103dbf6",
   "metadata": {},
   "source": [
    "## Count digests\n",
    "\n",
    "Now we use the data structure to count digest with none, one, two or more baits."
   ]
  },
  {
   "cell_type": "code",
   "execution_count": 141,
   "id": "800cc7d0",
   "metadata": {},
   "outputs": [
    {
     "name": "stdout",
     "output_type": "stream",
     "text": [
      "0 baits: 0 (0.00%)\n",
      "1 baits: 6,538 (29.64%)\n",
      "2 baits: 15,517 (70.36%)\n",
      "2< baits: 0 (0.00%)\n",
      "Total number of baited digests: 22,055\n",
      "0\n"
     ]
    }
   ],
   "source": [
    "c = 0\n",
    "digests_by_bait_num = {'0': 0, '1': 0, '2': 0, '2<':0}\n",
    "for d_key in DIGESTS_WITH_BAITS_DICT.keys():\n",
    "    bait_num = len(DIGESTS_WITH_BAITS_DICT[d_key]['L_COORDS'] + DIGESTS_WITH_BAITS_DICT[d_key]['R_COORDS'])\n",
    "    if 2 < bait_num:\n",
    "        digests_by_bait_num['2<'] += 1\n",
    "    else:\n",
    "        digests_by_bait_num[str(bait_num)] += 1\n",
    "\n",
    "for key in digests_by_bait_num.keys():\n",
    "    digest_num = digests_by_bait_num[key]\n",
    "    percentage = 100*digests_by_bait_num[key]/sum(digests_by_bait_num.values())\n",
    "    print(key + ' baits: ' + '{:,}'.format(digest_num) + ' (' + '{:.2f}'.format(percentage) + '%)')\n",
    "print('Total number of baited digests: ' + '{:,}'.format(sum(digests_by_bait_num.values())))"
   ]
  },
  {
   "cell_type": "markdown",
   "id": "3181694e",
   "metadata": {},
   "source": [
    "More than two thirds of all digests have two baits."
   ]
  },
  {
   "cell_type": "markdown",
   "id": "8420ada5",
   "metadata": {},
   "source": [
    "Count BCD0, BDC1 and BDC2 digests:"
   ]
  },
  {
   "cell_type": "code",
   "execution_count": 78,
   "id": "a4ea2ef7",
   "metadata": {},
   "outputs": [
    {
     "name": "stdout",
     "output_type": "stream",
     "text": [
      "BDC0: 8,055 (36.52%)\n",
      "BDC1: 6,170 (27.98%)\n",
      "BDC2: 7,662 (34.74%)\n",
      "BDCX: 168 (0.76%)\n",
      "Total number of baited digests: 22,055\n",
      "Number of baited digests with interactions: 21,887\n"
     ]
    }
   ],
   "source": [
    "digests_by_bcd = {'0': 0, '1': 0, '2': 0, 'X': 0}\n",
    "for d_key in DIGESTS_WITH_BAITS_DICT.keys():\n",
    "    digests_by_bcd[str(DIGESTS_WITH_BAITS_DICT[d_key]['BDC'])] += 1\n",
    "\n",
    "for key in digests_by_bcd.keys():\n",
    "    digest_num = digests_by_bcd[key]\n",
    "    percentage = 100*digests_by_bcd[key]/sum(digests_by_bcd.values())\n",
    "    print('BDC' + key + ': ' + '{:,}'.format(digest_num) + ' (' + '{:.2f}'.format(percentage) + '%)')\n",
    "print('Total number of baited digests: ' + '{:,}'.format(sum(digests_by_bcd.values())))\n",
    "x = sum(digests_by_bcd.values()) - digests_by_bcd['X']\n",
    "print('Number of baited digests with interactions: ' + '{:,}'.format(x))"
   ]
  },
  {
   "cell_type": "markdown",
   "id": "7b94f468",
   "metadata": {},
   "source": [
    "The digests are distributed relatively evenly across the various baited digest classes."
   ]
  },
  {
   "cell_type": "markdown",
   "id": "1f567e26",
   "metadata": {},
   "source": [
    "Now we count digests that have baits on one side only and digests that have baits on both sides within the different classes of baited digests."
   ]
  },
  {
   "cell_type": "code",
   "execution_count": 30,
   "id": "b8af3f31",
   "metadata": {},
   "outputs": [
    {
     "name": "stdout",
     "output_type": "stream",
     "text": [
      "BDCX\n",
      "One side: 126 (75.00%)\n",
      "Both sides: 42 (25.00%)\n",
      "\n",
      "BDC0\n",
      "One side: 588 (7.30%)\n",
      "Both sides: 7,467 (92.70%)\n",
      "\n",
      "BDC1\n",
      "One side: 2,859 (46.34%)\n",
      "Both sides: 3,311 (53.66%)\n",
      "\n",
      "BDC2\n",
      "One side: 3,021 (39.43%)\n",
      "Both sides: 4,641 (60.57%)\n",
      "\n",
      "BDC12\n",
      "One side: 5,880 (42.51%)\n",
      "Both sides: 7,952 (57.49%)\n",
      "\n"
     ]
    }
   ],
   "source": [
    "bdc_one_or_both_sides = {\n",
    "    'BDCX': {'ONE_SIDE': 0, 'BOTH_SIDES': 0},\n",
    "    'BDC0': {'ONE_SIDE': 0, 'BOTH_SIDES': 0},\n",
    "    'BDC1': {'ONE_SIDE': 0, 'BOTH_SIDES': 0},    \n",
    "    'BDC2': {'ONE_SIDE': 0, 'BOTH_SIDES': 0}\n",
    "}\n",
    "for d_key in DIGESTS_WITH_BAITS_DICT.keys():\n",
    "    bdc = DIGESTS_WITH_BAITS_DICT[d_key]['BDC']\n",
    "    if len(DIGESTS_WITH_BAITS_DICT[d_key]['L_COORDS'])==0 or len(DIGESTS_WITH_BAITS_DICT[d_key]['R_COORDS'])==0:\n",
    "        bdc_one_or_both_sides['BDC' + str(bdc)]['ONE_SIDE'] += 1\n",
    "    else:\n",
    "        bdc_one_or_both_sides['BDC' + str(bdc)]['BOTH_SIDES'] += 1\n",
    "        \n",
    "for key, value in bdc_one_or_both_sides.items():\n",
    "    digests_one_side = value['ONE_SIDE']\n",
    "    digests_both_sides = value['BOTH_SIDES']\n",
    "    digest_bdc_total = digests_one_side + digests_both_sides\n",
    "    digests_one_side_percentage = 100*digests_one_side/digest_bdc_total\n",
    "    digests_both_sides_percentage = 100*digests_both_sides/digest_bdc_total\n",
    "    print(key)\n",
    "    print('One side: ' + '{:,}'.format(digests_one_side) + ' (' + '{:.2f}'.format(digests_one_side_percentage) + '%)')\n",
    "    print('Both sides: ' + '{:,}'.format(digests_both_sides) + ' (' + '{:.2f}'.format(digests_both_sides_percentage) + '%)')\n",
    "    print()\n",
    "print('BDC12')\n",
    "digests_one_side = bdc_one_or_both_sides['BDC1']['ONE_SIDE'] + bdc_one_or_both_sides['BDC2']['ONE_SIDE']\n",
    "digests_both_sides = bdc_one_or_both_sides['BDC1']['BOTH_SIDES'] + bdc_one_or_both_sides['BDC2']['BOTH_SIDES']\n",
    "digest_bdc_total = digests_one_side + digests_both_sides\n",
    "digests_one_side_percentage = 100*digests_one_side/digest_bdc_total\n",
    "digests_both_sides_percentage = 100*digests_both_sides/digest_bdc_total\n",
    "print('One side: ' + '{:,}'.format(digests_one_side) + ' (' + '{:.2f}'.format(digests_one_side_percentage) + '%)')\n",
    "print('Both sides: ' + '{:,}'.format(digests_both_sides) + ' (' + '{:.2f}'.format(digests_both_sides_percentage) + '%)')\n",
    "print()"
   ]
  },
  {
   "cell_type": "markdown",
   "id": "2135b9f2",
   "metadata": {},
   "source": [
    "In the BDC0 class, the proportion of digests that have baits on both sides is greatest. In the classes BDC1 and BDC2, the proportion of digests with baits on both sides is much smaller than in class BDC0."
   ]
  },
  {
   "cell_type": "markdown",
   "id": "e839f016",
   "metadata": {},
   "source": [
    "Next, we determine the proportions of BDC0, BDC1 and BDC2 digests among digests with baits on one and both sides. Note that a digest with two baits does not necessarily have baits on both sides. There are in few exception (about 50) in which the digest is particularly short (<500 bp) and both baits are on only one side of the bait."
   ]
  },
  {
   "cell_type": "code",
   "execution_count": 33,
   "id": "c2c06445",
   "metadata": {
    "scrolled": true
   },
   "outputs": [
    {
     "name": "stdout",
     "output_type": "stream",
     "text": [
      "ONE_SIDE\n",
      "BDCX: 126 (1.91%)\n",
      "BDC0: 588 (8.92%)\n",
      "BDC1: 2,859 (43.36%)\n",
      "BDC2: 3,021 (45.81%)\n",
      "\n",
      "BOTH_SIDES\n",
      "BDCX: 42 (0.27%)\n",
      "BDC0: 7,467 (48.30%)\n",
      "BDC1: 3,311 (21.42%)\n",
      "BDC2: 4,641 (30.02%)\n",
      "\n"
     ]
    }
   ],
   "source": [
    "for x in ['ONE_SIDE', 'BOTH_SIDES']:\n",
    "    print(x)\n",
    "    d_total = 0\n",
    "    for y in ['BDCX', 'BDC0', 'BDC1', 'BDC2']:\n",
    "        d_total += bdc_one_or_both_sides[y][x]\n",
    "    for y in ['BDCX', 'BDC0', 'BDC1', 'BDC2']:\n",
    "        percentage = 100*bdc_one_or_both_sides[y][x]/d_total\n",
    "        print(y + ': ' + '{:,}'.format(bdc_one_or_both_sides[y][x]) + ' (' + '{:.2f}'.format(percentage) + '%)')\n",
    "    print()"
   ]
  },
  {
   "cell_type": "markdown",
   "id": "6864e4fa",
   "metadata": {},
   "source": [
    "Among the digests that have baits on only one side, there are fewer BDC0 and more BDC1 and BDC2 digests."
   ]
  },
  {
   "cell_type": "markdown",
   "id": "12af209f",
   "metadata": {},
   "source": [
    "Show the collected numbers in a contingeny table."
   ]
  },
  {
   "cell_type": "code",
   "execution_count": 34,
   "id": "afaf06b7",
   "metadata": {
    "scrolled": false
   },
   "outputs": [
    {
     "data": {
      "text/html": [
       "<div>\n",
       "<style scoped>\n",
       "    .dataframe tbody tr th:only-of-type {\n",
       "        vertical-align: middle;\n",
       "    }\n",
       "\n",
       "    .dataframe tbody tr th {\n",
       "        vertical-align: top;\n",
       "    }\n",
       "\n",
       "    .dataframe thead th {\n",
       "        text-align: right;\n",
       "    }\n",
       "</style>\n",
       "<table border=\"1\" class=\"dataframe\">\n",
       "  <thead>\n",
       "    <tr style=\"text-align: right;\">\n",
       "      <th></th>\n",
       "      <th>One side</th>\n",
       "      <th>Both sides</th>\n",
       "      <th>Total</th>\n",
       "    </tr>\n",
       "  </thead>\n",
       "  <tbody>\n",
       "    <tr>\n",
       "      <th>BDC12</th>\n",
       "      <td>5,880</td>\n",
       "      <td>7,952</td>\n",
       "      <td>13,832</td>\n",
       "    </tr>\n",
       "    <tr>\n",
       "      <th>BDC0</th>\n",
       "      <td>588</td>\n",
       "      <td>7,467</td>\n",
       "      <td>8,055</td>\n",
       "    </tr>\n",
       "    <tr>\n",
       "      <th>Total</th>\n",
       "      <td>6,468</td>\n",
       "      <td>15,419</td>\n",
       "      <td>21,887</td>\n",
       "    </tr>\n",
       "  </tbody>\n",
       "</table>\n",
       "</div>"
      ],
      "text/plain": [
       "      One side Both sides   Total\n",
       "BDC12    5,880      7,952  13,832\n",
       "BDC0       588      7,467   8,055\n",
       "Total    6,468     15,419  21,887"
      ]
     },
     "execution_count": 34,
     "metadata": {},
     "output_type": "execute_result"
    }
   ],
   "source": [
    "# Contingency table\n",
    "BDC12_ONE_SIDE = bdc_one_or_both_sides['BDC1']['ONE_SIDE'] + bdc_one_or_both_sides['BDC2']['ONE_SIDE']\n",
    "BDC12_BOTH_SIDES = bdc_one_or_both_sides['BDC1']['BOTH_SIDES'] + bdc_one_or_both_sides['BDC2']['BOTH_SIDES']\n",
    "BDC12_TOTAL = BDC12_ONE_SIDE + BDC12_BOTH_SIDES\n",
    "BDC0_ONE_SIDE = bdc_one_or_both_sides['BDC0']['ONE_SIDE']\n",
    "BDC0_BOTH_SIDES = bdc_one_or_both_sides['BDC0']['BOTH_SIDES']\n",
    "BDC0_TOTAL = BDC0_ONE_SIDE + BDC0_BOTH_SIDES\n",
    "\n",
    "d = {'One side': ['{:,}'.format(BDC12_ONE_SIDE),\n",
    "                  '{:,}'.format(BDC0_ONE_SIDE),\n",
    "                  '{:,}'.format(BDC12_ONE_SIDE + BDC0_ONE_SIDE)],\n",
    "     'Both sides': ['{:,}'.format(BDC12_BOTH_SIDES),\n",
    "                    '{:,}'.format(BDC0_BOTH_SIDES),\n",
    "                    '{:,}'.format(BDC12_BOTH_SIDES + BDC0_BOTH_SIDES)],\n",
    "     'Total': ['{:,}'.format(BDC12_ONE_SIDE + BDC12_BOTH_SIDES),\n",
    "               '{:,}'.format(BDC0_ONE_SIDE + BDC0_BOTH_SIDES),\n",
    "               '{:,}'.format(BDC12_TOTAL + BDC0_TOTAL)]}\n",
    "df = pd.DataFrame(data=d)\n",
    "df.index = ['BDC12', 'BDC0', 'Total']\n",
    "df"
   ]
  },
  {
   "cell_type": "markdown",
   "id": "8bd352c8",
   "metadata": {},
   "source": [
    "Perform a Fisher's exact test for this contingency table."
   ]
  },
  {
   "cell_type": "code",
   "execution_count": 35,
   "id": "d60438bd",
   "metadata": {},
   "outputs": [
    {
     "name": "stdout",
     "output_type": "stream",
     "text": [
      "Prior odds ratio: 9.390090543259557\n",
      "P-value: 0.0\n"
     ]
    }
   ],
   "source": [
    "# Fisher's exact test\n",
    "contingency_table = [\n",
    "    [BDC12_ONE_SIDE, BDC12_BOTH_SIDES],\n",
    "    [BDC0_ONE_SIDE, BDC0_BOTH_SIDES]]\n",
    "\n",
    "odds_ratio, p_value = fisher_exact(contingency_table, alternative='two-sided')\n",
    "print('Prior odds ratio: ' + str(odds_ratio))\n",
    "print('P-value: ' + str(p_value))"
   ]
  },
  {
   "cell_type": "code",
   "execution_count": 36,
   "id": "7ab9e290",
   "metadata": {},
   "outputs": [
    {
     "name": "stdout",
     "output_type": "stream",
     "text": [
      "9.390090543259557\n"
     ]
    }
   ],
   "source": [
    "# This is how the prior odds ratio is calculated\n",
    "prior_odds_ratio = (BDC12_ONE_SIDE/BDC0_ONE_SIDE)/(BDC12_BOTH_SIDES/BDC0_BOTH_SIDES)\n",
    "print(prior_odds_ratio)"
   ]
  },
  {
   "cell_type": "markdown",
   "id": "978aee34",
   "metadata": {},
   "source": [
    "**Conclusion:** The property of a baited digest to have either baits on only one side or baits on both sides and the assignment to the BDC classes are not independent. Among the digests with baits on only one side, the proportion of BDC1 and BDC2 digests is significantly higher than among digests wit two baits."
   ]
  },
  {
   "cell_type": "markdown",
   "id": "95970e05",
   "metadata": {},
   "source": [
    "## XXX"
   ]
  },
  {
   "cell_type": "code",
   "execution_count": 38,
   "id": "1f3becc6",
   "metadata": {},
   "outputs": [
    {
     "data": {
      "text/html": [
       "<div>\n",
       "<style scoped>\n",
       "    .dataframe tbody tr th:only-of-type {\n",
       "        vertical-align: middle;\n",
       "    }\n",
       "\n",
       "    .dataframe tbody tr th {\n",
       "        vertical-align: top;\n",
       "    }\n",
       "\n",
       "    .dataframe thead th {\n",
       "        text-align: right;\n",
       "    }\n",
       "</style>\n",
       "<table border=\"1\" class=\"dataframe\">\n",
       "  <thead>\n",
       "    <tr style=\"text-align: right;\">\n",
       "      <th></th>\n",
       "      <th>BDCX</th>\n",
       "      <th>BDC0</th>\n",
       "      <th>BDC1</th>\n",
       "      <th>BDC2</th>\n",
       "    </tr>\n",
       "  </thead>\n",
       "  <tbody>\n",
       "    <tr>\n",
       "      <th>5' baits</th>\n",
       "      <td>61</td>\n",
       "      <td>316</td>\n",
       "      <td>2859</td>\n",
       "      <td>4</td>\n",
       "    </tr>\n",
       "    <tr>\n",
       "      <th>3' baits</th>\n",
       "      <td>65</td>\n",
       "      <td>272</td>\n",
       "      <td>0</td>\n",
       "      <td>3017</td>\n",
       "    </tr>\n",
       "  </tbody>\n",
       "</table>\n",
       "</div>"
      ],
      "text/plain": [
       "          BDCX  BDC0  BDC1  BDC2\n",
       "5' baits    61   316  2859     4\n",
       "3' baits    65   272     0  3017"
      ]
     },
     "execution_count": 38,
     "metadata": {},
     "output_type": "execute_result"
    }
   ],
   "source": [
    "bdc_5_or_3_bait_num = {\n",
    "    'BDCX': {'5_BAIT_NUM': 0, '3_BAIT_NUM': 0},\n",
    "    'BDC0': {'5_BAIT_NUM': 0, '3_BAIT_NUM': 0},\n",
    "    'BDC1': {'5_BAIT_NUM': 0, '3_BAIT_NUM': 0},    \n",
    "    'BDC2': {'5_BAIT_NUM': 0, '3_BAIT_NUM': 0}\n",
    "}\n",
    "for d_key in DIGESTS_WITH_BAITS_DICT.keys():\n",
    "    \n",
    "    # Get BD class\n",
    "    bdc = DIGESTS_WITH_BAITS_DICT[d_key]['BDC']\n",
    "    \n",
    "    # Restict analysis to digest with only one bait\n",
    "    if len(DIGESTS_WITH_BAITS_DICT[d_key]['L_COORDS'])==0 or len(DIGESTS_WITH_BAITS_DICT[d_key]['R_COORDS'])==0:\n",
    "        if len(DIGESTS_WITH_BAITS_DICT[d_key]['L_COORDS'])==0:       \n",
    "            bdc_5_or_3_bait_num['BDC' + str(bdc)]['3_BAIT_NUM'] += 1\n",
    "        else:\n",
    "            bdc_5_or_3_bait_num['BDC' + str(bdc)]['5_BAIT_NUM'] += 1\n",
    "        \n",
    "df = pd.DataFrame(data=bdc_5_or_3_bait_num)\n",
    "df.index = ['5\\' baits', '3\\' baits']\n",
    "df"
   ]
  },
  {
   "cell_type": "code",
   "execution_count": 39,
   "id": "cf6d790a",
   "metadata": {},
   "outputs": [
    {
     "data": {
      "text/html": [
       "<div>\n",
       "<style scoped>\n",
       "    .dataframe tbody tr th:only-of-type {\n",
       "        vertical-align: middle;\n",
       "    }\n",
       "\n",
       "    .dataframe tbody tr th {\n",
       "        vertical-align: top;\n",
       "    }\n",
       "\n",
       "    .dataframe thead th {\n",
       "        text-align: right;\n",
       "    }\n",
       "</style>\n",
       "<table border=\"1\" class=\"dataframe\">\n",
       "  <thead>\n",
       "    <tr style=\"text-align: right;\">\n",
       "      <th></th>\n",
       "      <th>5' baits</th>\n",
       "      <th>3' baits</th>\n",
       "      <th>Total</th>\n",
       "    </tr>\n",
       "  </thead>\n",
       "  <tbody>\n",
       "    <tr>\n",
       "      <th>BDC0</th>\n",
       "      <td>316</td>\n",
       "      <td>272</td>\n",
       "      <td>588</td>\n",
       "    </tr>\n",
       "    <tr>\n",
       "      <th>BDC1</th>\n",
       "      <td>2,859</td>\n",
       "      <td>0</td>\n",
       "      <td>2,859</td>\n",
       "    </tr>\n",
       "    <tr>\n",
       "      <th>BDC2</th>\n",
       "      <td>4</td>\n",
       "      <td>3,017</td>\n",
       "      <td>3,021</td>\n",
       "    </tr>\n",
       "    <tr>\n",
       "      <th>Total</th>\n",
       "      <td>3,179</td>\n",
       "      <td>3,289</td>\n",
       "      <td>6,512</td>\n",
       "    </tr>\n",
       "  </tbody>\n",
       "</table>\n",
       "</div>"
      ],
      "text/plain": [
       "      5' baits 3' baits  Total\n",
       "BDC0       316      272    588\n",
       "BDC1     2,859        0  2,859\n",
       "BDC2         4    3,017  3,021\n",
       "Total    3,179    3,289  6,512"
      ]
     },
     "execution_count": 39,
     "metadata": {},
     "output_type": "execute_result"
    }
   ],
   "source": [
    "BDC0_5 = bdc_5_or_3_bait_num['BDC0']['5_BAIT_NUM']\n",
    "BDC1_5 = bdc_5_or_3_bait_num['BDC1']['5_BAIT_NUM']\n",
    "BDC2_5 = bdc_5_or_3_bait_num['BDC2']['5_BAIT_NUM']\n",
    "BDC0_3 = bdc_5_or_3_bait_num['BDC0']['3_BAIT_NUM']\n",
    "BDC1_3 = bdc_5_or_3_bait_num['BDC1']['3_BAIT_NUM']\n",
    "BDC2_3 = bdc_5_or_3_bait_num['BDC2']['3_BAIT_NUM']\n",
    "d = {'5\\' baits': ['{:,}'.format(BDC0_5),\n",
    "                   '{:,}'.format(BDC1_5),\n",
    "                   '{:,}'.format(BDC2_5),\n",
    "                  '{:,}'.format(BDC0_5 + BDC1_5 + BDC2_5)],\n",
    "     '3\\' baits': ['{:,}'.format(BDC0_3),\n",
    "                   '{:,}'.format(BDC1_3),\n",
    "                   '{:,}'.format(BDC2_3),\n",
    "                    '{:,}'.format(BDC0_3 + BDC1_3 + BDC2_3)],\n",
    "     'Total': ['{:,}'.format(BDC0_5 + BDC0_3),\n",
    "               '{:,}'.format(BDC1_5 + BDC1_3),\n",
    "               '{:,}'.format(BDC2_5 + BDC2_3),\n",
    "               '{:,}'.format(BDC0_5 + BDC0_5 + BDC1_5 + BDC2_5 + BDC1_3 + BDC2_3)]}\n",
    "df = pd.DataFrame(data=d)\n",
    "df.index = ['BDC0', 'BDC1', 'BDC2', 'Total']\n",
    "df"
   ]
  },
  {
   "cell_type": "code",
   "execution_count": 40,
   "id": "a047ffec",
   "metadata": {},
   "outputs": [
    {
     "name": "stdout",
     "output_type": "stream",
     "text": [
      "Prior odds ratio: inf\n",
      "P-value: 0.0\n"
     ]
    }
   ],
   "source": [
    "# Fisher's exact test\n",
    "contingency_table = [\n",
    "    [BDC1_5, BDC1_3],\n",
    "    [BDC2_5, BDC2_3]]\n",
    "\n",
    "odds_ratio, p_value = fisher_exact(contingency_table, alternative='two-sided')\n",
    "print('Prior odds ratio: ' + str(odds_ratio))\n",
    "print('P-value: ' + str(p_value))"
   ]
  },
  {
   "cell_type": "markdown",
   "id": "93f015c9",
   "metadata": {},
   "source": [
    "## Further analysis of digests with baits on both sides\n",
    "\n",
    "For the following analyzes, we only consider digests that have baits on both sides.\n",
    "\n",
    "||BDC0|BDC1|BDC2|TOTAL|\n",
    "|---|---|---|---|---|\n",
    "|ALL|7,061|6,873|8,121|22,055|\n",
    "|BOTH_SIDES|6,243|4,057|5,161|15,461|\n",
    "\n",
    "\n",
    "For BDC1, we find find many examples where the `5'` end bait is right next to the restriction site (as it should be), and the `3'` end bait is shifted towards the center of the digest (as is it accepted if a bait cannot be placed better).\n",
    "```\n",
    "5'|--------------3'\n",
    "   -          -\n",
    "```\n",
    "BDC1 example: ``chr2:208,144,486-208,147,056``.\n",
    "\n",
    "For BDC2 it is exactly the opposite.\n",
    "```\n",
    "5'--------------|3'\n",
    "    -          -\n",
    "```\n",
    "BDC2 example: ``chr2:102,179,857-102,182,542``."
   ]
  },
  {
   "cell_type": "markdown",
   "id": "ccce7c2f",
   "metadata": {},
   "source": [
    "### Distances between baits and restriction sites"
   ]
  },
  {
   "cell_type": "markdown",
   "id": "7a258b6c",
   "metadata": {},
   "source": [
    "The following function determines the distances from baits to digest ends for given baited digest classes.\n",
    "\n",
    "```\n",
    "5'-------------------3'\n",
    "     -          -\n",
    "  <->             <->\n",
    "  d_l             d_r\n",
    "               \n",
    "```\n",
    "In order to ensure that there is a pair of distances for each digest, it is required that there is exactly one bait for each digest end. If the difference in the distances of a pair is small (`max_diff<20`), this means that both baits have a similar distance from the corresponding digest end. Such digests are added to a dictionary which is returned together with the two lists of distances and will be be used for subsequent analyzes."
   ]
  },
  {
   "cell_type": "code",
   "execution_count": 41,
   "id": "8d87e069",
   "metadata": {},
   "outputs": [],
   "source": [
    "def get_distances_from_baits_to_restriction_site(digest_with_baits_dict, bd_classes=[0,1,2], max_dist=20):\n",
    "    l_dist_list = []\n",
    "    r_dist_list = []\n",
    "    digest_with_baits_well_placed_dict = dict()\n",
    "    for d_key in digest_with_baits_dict.keys():\n",
    "        \n",
    "        # Filter for digests with specified baited digest classes\n",
    "        if DIGESTS_WITH_BAITS_DICT[d_key]['BDC'] not in bd_classes:\n",
    "            continue\n",
    "            \n",
    "        # Make sure that the digest has one 5' and one 3' bait\n",
    "        if len(DIGESTS_WITH_BAITS_DICT[d_key]['L_COORDS'])!=1 or len(DIGESTS_WITH_BAITS_DICT[d_key]['R_COORDS'])!=1:\n",
    "            continue\n",
    "            \n",
    "        # Determine distance for 5' bait\n",
    "        d_sta = int(d_key.split('\\t')[1])\n",
    "        b5_sta = int(digest_with_baits_dict[d_key]['L_COORDS'][0].split('\\t')[1])\n",
    "        l_dist = b5_sta - d_sta\n",
    "        \n",
    "        # Determine distance for 3' bait\n",
    "        d_end = int(d_key.split('\\t')[2])\n",
    "        b3_end = int(digest_with_baits_dict[d_key]['R_COORDS'][0].split('\\t')[2])\n",
    "        r_dist = d_end - b3_end\n",
    "        \n",
    "        # Add digests to dictionary which will be returned along with the lists of distances\n",
    "        if l_dist <= max_dist and r_dist <= max_dist:\n",
    "            digest_with_baits_well_placed_dict[d_key] = DIGESTS_WITH_BAITS_DICT[d_key]\n",
    "        else:\n",
    "            l_dist_list.append(l_dist)\n",
    "            r_dist_list.append(r_dist)\n",
    "            \n",
    "            \n",
    "    num_well_placed = len(digest_with_baits_well_placed_dict)  \n",
    "    num_not_well_placed = len(l_dist_list)\n",
    "    prop_well_placed = 100*num_well_placed/(num_well_placed + num_not_well_placed)\n",
    "    prop_not_well_placed = 100*num_not_well_placed/(num_well_placed + num_not_well_placed)\n",
    "            \n",
    "    print('BDC' + str(bd_classes))\n",
    "    print('\\tNumber 5\\' bait distances: ' + '{:,}'.format(len(l_dist_list)))\n",
    "    print('\\tNumber 3\\' bait distances: ' + '{:,}'.format(len(r_dist_list)))  \n",
    "    print('\\tNumber of digests with well placed baits: ' + '{:,}'.format(num_well_placed) + ' (' + '{:.2f}'.format(prop_well_placed) + '% vs. ' + '{:.2f}'.format(prop_not_well_placed) + ')')\n",
    "\n",
    "    return l_dist_list, r_dist_list, digest_with_baits_well_placed_dict"
   ]
  },
  {
   "cell_type": "markdown",
   "id": "15b3fd9d",
   "metadata": {},
   "source": [
    "We apply the function to the different baited digest classes. For each function call, we get two lists with distances and a dictionary that only contains digests for which the distances of the two baits do not differ much (`max_diff=20`). These dictionaries will be used for the subsequent analyzes of the GC and repeat content of baits."
   ]
  },
  {
   "cell_type": "code",
   "execution_count": 42,
   "id": "6f18521d",
   "metadata": {
    "scrolled": true
   },
   "outputs": [
    {
     "name": "stdout",
     "output_type": "stream",
     "text": [
      "BDC[0]\n",
      "\tNumber 5' bait distances: 3,851\n",
      "\tNumber 3' bait distances: 3,851\n",
      "\tNumber of digests with well placed baits: 3,616 (48.43% vs. 51.57)\n",
      "BDC[1]\n",
      "\tNumber 5' bait distances: 2,600\n",
      "\tNumber 3' bait distances: 2,600\n",
      "\tNumber of digests with well placed baits: 711 (21.47% vs. 78.53)\n",
      "BDC[2]\n",
      "\tNumber 5' bait distances: 3,212\n",
      "\tNumber 3' bait distances: 3,212\n",
      "\tNumber of digests with well placed baits: 1,429 (30.79% vs. 69.21)\n",
      "BDC[1, 2]\n",
      "\tNumber 5' bait distances: 5,812\n",
      "\tNumber 3' bait distances: 5,812\n",
      "\tNumber of digests with well placed baits: 2,140 (26.91% vs. 73.09)\n",
      "BDC[0, 1, 2]\n",
      "\tNumber 5' bait distances: 9,663\n",
      "\tNumber 3' bait distances: 9,663\n",
      "\tNumber of digests with well placed baits: 5,756 (37.33% vs. 62.67)\n"
     ]
    }
   ],
   "source": [
    "MAX_DIST = 20\n",
    "bdc0_l_dist_list, bdc0_r_dist_list, bdc0_well_placed_dict = get_distances_from_baits_to_restriction_site(\n",
    "    DIGESTS_WITH_BAITS_DICT,\n",
    "    bd_classes=[0], max_dist=MAX_DIST)\n",
    "\n",
    "bdc1_l_dist_list, bdc1_r_dist_list, bdc1_well_placed_dict = get_distances_from_baits_to_restriction_site(\n",
    "    DIGESTS_WITH_BAITS_DICT,\n",
    "    bd_classes=[1], max_dist=MAX_DIST)\n",
    "\n",
    "bdc2_l_dist_list, bdc2_r_dist_list, bdc2_well_placed_dict = get_distances_from_baits_to_restriction_site(\n",
    "    DIGESTS_WITH_BAITS_DICT,\n",
    "    bd_classes=[2], max_dist=MAX_DIST)\n",
    "\n",
    "bdc12_l_dist_list, bdc12_r_dist_list, bdc12_well_placed_dict = get_distances_from_baits_to_restriction_site(\n",
    "    DIGESTS_WITH_BAITS_DICT,\n",
    "    bd_classes=[1,2], max_dist=MAX_DIST)\n",
    "\n",
    "bdcALL_l_dist_list, bdcALL_r_dist_list, bdcALL_well_placed_dict = get_distances_from_baits_to_restriction_site(\n",
    "    DIGESTS_WITH_BAITS_DICT,\n",
    "    bd_classes=[0,1,2], max_dist=MAX_DIST)"
   ]
  },
  {
   "cell_type": "code",
   "execution_count": 43,
   "id": "366a1d68",
   "metadata": {
    "scrolled": true
   },
   "outputs": [
    {
     "data": {
      "text/html": [
       "<div>\n",
       "<style scoped>\n",
       "    .dataframe tbody tr th:only-of-type {\n",
       "        vertical-align: middle;\n",
       "    }\n",
       "\n",
       "    .dataframe tbody tr th {\n",
       "        vertical-align: top;\n",
       "    }\n",
       "\n",
       "    .dataframe thead th {\n",
       "        text-align: right;\n",
       "    }\n",
       "</style>\n",
       "<table border=\"1\" class=\"dataframe\">\n",
       "  <thead>\n",
       "    <tr style=\"text-align: right;\">\n",
       "      <th></th>\n",
       "      <th>Not well placed</th>\n",
       "      <th>Well placed</th>\n",
       "      <th>Total</th>\n",
       "    </tr>\n",
       "  </thead>\n",
       "  <tbody>\n",
       "    <tr>\n",
       "      <th>BDC12</th>\n",
       "      <td>5,812</td>\n",
       "      <td>2,140</td>\n",
       "      <td>7,952</td>\n",
       "    </tr>\n",
       "    <tr>\n",
       "      <th>BDC0</th>\n",
       "      <td>3,851</td>\n",
       "      <td>3,616</td>\n",
       "      <td>7,467</td>\n",
       "    </tr>\n",
       "    <tr>\n",
       "      <th>Total</th>\n",
       "      <td>9,663</td>\n",
       "      <td>5,756</td>\n",
       "      <td>15,419</td>\n",
       "    </tr>\n",
       "  </tbody>\n",
       "</table>\n",
       "</div>"
      ],
      "text/plain": [
       "      Not well placed Well placed   Total\n",
       "BDC12           5,812       2,140   7,952\n",
       "BDC0            3,851       3,616   7,467\n",
       "Total           9,663       5,756  15,419"
      ]
     },
     "execution_count": 43,
     "metadata": {},
     "output_type": "execute_result"
    }
   ],
   "source": [
    "# Contingency table\n",
    "BDC12_NOT_WELL_PLACED = len(bdc12_l_dist_list)\n",
    "BDC12_WELL_PLACED = len(bdc12_well_placed_dict)\n",
    "BDC12_TOTAL = BDC12_NOT_WELL_PLACED + BDC12_WELL_PLACED\n",
    "BDC0_NOT_WELL_PLACED = len(bdc0_l_dist_list)\n",
    "BDC0_WELL_PLACED = len(bdc0_well_placed_dict)\n",
    "BDC0_TOTAL = BDC0_NOT_WELL_PLACED + BDC0_WELL_PLACED\n",
    "\n",
    "d = {'Not well placed': ['{:,}'.format(BDC12_NOT_WELL_PLACED),\n",
    "                  '{:,}'.format(BDC0_NOT_WELL_PLACED),\n",
    "                  '{:,}'.format(BDC12_NOT_WELL_PLACED + BDC0_NOT_WELL_PLACED)],\n",
    "     'Well placed': ['{:,}'.format(BDC12_WELL_PLACED),\n",
    "                    '{:,}'.format(BDC0_WELL_PLACED),\n",
    "                    '{:,}'.format(BDC12_WELL_PLACED + BDC0_WELL_PLACED)],\n",
    "     'Total': ['{:,}'.format(BDC12_NOT_WELL_PLACED + BDC12_WELL_PLACED),\n",
    "               '{:,}'.format(BDC0_NOT_WELL_PLACED + BDC0_WELL_PLACED),\n",
    "               '{:,}'.format(BDC12_TOTAL + BDC0_TOTAL)]}\n",
    "df = pd.DataFrame(data=d)\n",
    "df.index = ['BDC12', 'BDC0', 'Total']\n",
    "df"
   ]
  },
  {
   "cell_type": "code",
   "execution_count": 44,
   "id": "592701d5",
   "metadata": {},
   "outputs": [
    {
     "name": "stdout",
     "output_type": "stream",
     "text": [
      "Prior odds ratio: 2.5501559250297894\n",
      "P-value: 6.79929952766838e-169\n"
     ]
    }
   ],
   "source": [
    "# Fisher's exact test\n",
    "contingency_table = [\n",
    "    [BDC12_NOT_WELL_PLACED, BDC12_WELL_PLACED],\n",
    "    [BDC0_NOT_WELL_PLACED, BDC0_WELL_PLACED]]\n",
    "\n",
    "odds_ratio, p_value = fisher_exact(contingency_table, alternative='two-sided')\n",
    "print('Prior odds ratio: ' + str(odds_ratio))\n",
    "print('P-value: ' + str(p_value))"
   ]
  },
  {
   "cell_type": "markdown",
   "id": "f7a732cf",
   "metadata": {},
   "source": [
    "The following function creates a plot in which the distributions of distances are shown in a special layout. We will reuse this function later for the analyzes of GC and repeat content of the bait sequences."
   ]
  },
  {
   "cell_type": "code",
   "execution_count": 45,
   "id": "fe599f94",
   "metadata": {},
   "outputs": [],
   "source": [
    "def create_boxplot(\n",
    "    BDC0_L=None, # BDC0 5' bait\n",
    "    BDC0_R=None, # BDC0 3' bait\n",
    "    BDC1_L=None, # BDC1 5' bait\n",
    "    BDC1_R=None, # BDC1 3' bait\n",
    "    BDC2_L=None, # BDC2 5' bait\n",
    "    BDC2_R=None, # BDC2 3' bait\n",
    "    SHOWFLIERS = True,\n",
    "    TITLE='TITEL',\n",
    "    XLABEL_L='XLAB_L',\n",
    "    XLABEL_R='XLAB_R',\n",
    "    OUTPUT_PDF='OUT.pdf'):\n",
    "\n",
    "    # Set up figure\n",
    "    fig, (ax1, ax2) = plt.subplots(1,2)\n",
    "    box_width = 0.5\n",
    "    ax1.set_title(TITLE, loc='left')\n",
    "    \n",
    "    # Determine range to be displayed    \n",
    "    xmin = min(BDC0_L + BDC0_R  + BDC1_L + BDC1_R + BDC2_L + BDC2_R)\n",
    "    xmax = max(BDC0_L + BDC0_R  + BDC1_L + BDC1_R + BDC2_L + BDC2_R)\n",
    "    padding = (xmax-xmin)/30\n",
    "    xmin = xmin - padding\n",
    "    xmax = xmax + padding        \n",
    "\n",
    "    # Create boxplots for 5' baits (left)\n",
    "    bp1 = ax1.boxplot(\n",
    "        [BDC2_L, BDC1_L, BDC0_L],\n",
    "        widths=(box_width, box_width, box_width),\n",
    "        patch_artist=True,\n",
    "        labels=['BDC2\\nn=' + '{:,}'.format(len(BDC2_L)),\n",
    "                'BDC1\\nn=' + '{:,}'.format(len(BDC1_L)),\n",
    "                'BDC0\\nn=' + '{:,}'.format(len(BDC0_L))],\n",
    "        vert=False,\n",
    "        showfliers=SHOWFLIERS\n",
    "    )\n",
    "    colors = ['green', 'blue', 'gray']\n",
    "    for patch, color in zip(bp1['boxes'], colors):\n",
    "        patch.set_facecolor(color)\n",
    "    ax1.set_xlabel(XLABEL_L)\n",
    "    \n",
    "    # Highlight the area between the first and the third quantiles of the 5' distances from BDC0 in gray\n",
    "    shaded_q1, shaded_q2, shaded_q3 = quantile(BDC0_L, [0.25, 0.50, 0.75])\n",
    "    ax1.axvspan(shaded_q1, shaded_q3, facecolor='gray', alpha=0.2)\n",
    "    ax1.axvline(shaded_q2, color='lightgray', zorder=0)\n",
    "\n",
    "    # Create boxplots for 5' baits (right)\n",
    "    x = ax2.boxplot(\n",
    "        [BDC2_R, BDC1_R, BDC0_R],\n",
    "        widths=(box_width, box_width, box_width),\n",
    "        patch_artist=True,\n",
    "        vert=False,\n",
    "        showfliers=SHOWFLIERS\n",
    "    )\n",
    "    colors = ['green', 'blue', 'gray']\n",
    "    for patch, color in zip(x['boxes'], colors):\n",
    "        patch.set_facecolor(color)\n",
    "    ax2.set_xlabel(XLABEL_R)\n",
    "    \n",
    "    # Hide tick labels\n",
    "    [t.set_color('white') for t in ax2.yaxis.get_ticklabels()]\n",
    "    \n",
    "    # Highlight the area between the first and the third quantiles of the 5' distances from BDC0 in gray\n",
    "    shaded_q1, shaded_q2, shaded_q3 = quantile(BDC0_R, [0.25, 0.50, 0.75])\n",
    "    ax2.axvspan(shaded_q1, shaded_q3, facecolor='gray', alpha=0.2)\n",
    "    ax2.axvline(shaded_q2, color='lightgray', zorder=0)\n",
    "\n",
    "    # Set limits of the x-axes\n",
    "    #if SHOWFLIERS is False:\n",
    "    xmin_1, xmax_1 = ax1.get_xlim()\n",
    "    xmin_2, xmax_2 = ax2.get_xlim()\n",
    "    xmin = min([xmin_1, xmax_1, xmin_2, xmax_2])\n",
    "    xmax = max([xmin_1, xmax_1, xmin_2, xmax_2])\n",
    "    ax1.set_xlim(xmin,xmax)\n",
    "    ax2.set_xlim(xmin,xmax)\n",
    "    padding = (xmax-xmin)/30\n",
    "    xmin = xmin - padding\n",
    "    xmax = xmax + padding\n",
    "\n",
    "    # Format figure and write to PDF file\n",
    "    fig.set_figheight(3)\n",
    "    fig.set_figwidth(7.5)\n",
    "    fig.tight_layout()\n",
    "    fig.savefig(OUTPUT_PDF)"
   ]
  },
  {
   "cell_type": "markdown",
   "id": "1ef0fb54",
   "metadata": {},
   "source": [
    "Now we apply the plot funtion to all lists with distances at once."
   ]
  },
  {
   "cell_type": "code",
   "execution_count": 46,
   "id": "cccb727e",
   "metadata": {
    "scrolled": false
   },
   "outputs": [
    {
     "data": {
      "image/png": "[encoded data removed]",
      "text/plain": [
       "<Figure size 540x216 with 2 Axes>"
      ]
     },
     "metadata": {},
     "output_type": "display_data"
    }
   ],
   "source": [
    "create_boxplot(\n",
    "    BDC0_L=bdc0_l_dist_list,\n",
    "    BDC0_R=bdc0_r_dist_list,\n",
    "    BDC1_L=bdc1_l_dist_list,\n",
    "    BDC1_R=bdc1_r_dist_list,\n",
    "    BDC2_L=bdc2_l_dist_list,\n",
    "    BDC2_R=bdc2_r_dist_list,\n",
    "    SHOWFLIERS = True,\n",
    "    TITLE='Distances between baits and restriction sites',\n",
    "    XLABEL_L='Distance of 5\\' bait',\n",
    "    XLABEL_R='Distance of 3\\' bait',\n",
    "    OUTPUT_PDF=NOTEBOOK_RESULTS_DIR + '/' + OUT_PREFIX  + '_distances_between_baits_and_restriction_sites.pdf')"
   ]
  },
  {
   "cell_type": "markdown",
   "id": "fc77b8a8",
   "metadata": {},
   "source": [
    "On the left are the boxplots for the distances of the `5'` baits and on the right the boxplots for the distances of the `3'` baits. The top boxplots (gray) show the distributions of distances for baited digests of the class BDC0. The range between the first and third quantile is highlighted in lightgray. Below the boxplots for BDC0, the boxplots for BDC1 (blue) and BDC2 (green) are shown. The distributions of distances for the `5'` and `3'` baits differ only slightly for BDC0, while they differ clearly for BDC1 and BDC2. The boxplots for BDC1 and BDC2 are asymmetrical to each other."
   ]
  },
  {
   "cell_type": "markdown",
   "id": "8cc08576",
   "metadata": {},
   "source": [
    "The boxplots above show the distributions of `5'` and `3'` baits independently. In fact, however, we have a pair of distances for each digest. The following lines of code calculate the differences in distances for each pair."
   ]
  },
  {
   "cell_type": "code",
   "execution_count": 47,
   "id": "e8e5c230",
   "metadata": {},
   "outputs": [],
   "source": [
    "# Get lists with differences for distances\n",
    "bdc0_diff_dist_list = [x[0]-x[1] for x in zip(bdc0_l_dist_list, bdc0_r_dist_list)]\n",
    "bdc1_diff_dist_list = [x[0]-x[1] for x in zip(bdc1_l_dist_list, bdc1_r_dist_list)]\n",
    "bdc2_diff_dist_list = [x[0]-x[1] for x in zip(bdc2_l_dist_list, bdc2_r_dist_list)]"
   ]
  },
  {
   "cell_type": "markdown",
   "id": "833d3e74",
   "metadata": {},
   "source": [
    "We use the same plot function as before, but this time, for each baited digest class, we pass the same list of differences for `5'` and `3'` baits. This results in two identical plots. This way we can reuse the plot function."
   ]
  },
  {
   "cell_type": "code",
   "execution_count": 48,
   "id": "53eec18b",
   "metadata": {
    "scrolled": false
   },
   "outputs": [
    {
     "data": {
      "image/png": "[encoded data removed]",
      "text/plain": [
       "<Figure size 540x216 with 2 Axes>"
      ]
     },
     "metadata": {},
     "output_type": "display_data"
    }
   ],
   "source": [
    "create_boxplot(\n",
    "    BDC0_L=bdc0_diff_dist_list,\n",
    "    BDC0_R=bdc0_diff_dist_list,\n",
    "    BDC1_L=bdc1_diff_dist_list,\n",
    "    BDC1_R=bdc1_diff_dist_list,\n",
    "    BDC2_L=bdc2_diff_dist_list,\n",
    "    BDC2_R=bdc2_diff_dist_list,\n",
    "    SHOWFLIERS = True,\n",
    "    TITLE='Distance differences for digest associated bait pairs',\n",
    "    XLABEL_L='Distance difference for 5\\' and 3\\' bait',\n",
    "    XLABEL_R='Distance difference for 5\\' and 3\\' bait',\n",
    "    OUTPUT_PDF=NOTEBOOK_RESULTS_DIR + '/' + OUT_PREFIX  + '_distance_differences_for_digest_associated_bait_pairs.pdf')"
   ]
  },
  {
   "cell_type": "markdown",
   "id": "a03b83da",
   "metadata": {},
   "source": [
    "The differences of BDC0 are distributed relatively evenly (not perfectly) around zero. In contrast, a strong asymmetry can be seen for BDC1 and BDC2. To assess the deviations from zero for statistical significance, we use the non-parametric Wilcoxon signed rank test."
   ]
  },
  {
   "cell_type": "code",
   "execution_count": 49,
   "id": "a3ee9ede",
   "metadata": {},
   "outputs": [
    {
     "name": "stdout",
     "output_type": "stream",
     "text": [
      "WilcoxonResult(statistic=3412873.0, pvalue=2.920852605531886e-05)\n",
      "WilcoxonResult(statistic=95004.5, pvalue=0.0)\n",
      "WilcoxonResult(statistic=216147.5, pvalue=0.0)\n"
     ]
    }
   ],
   "source": [
    "# Perform Wilcoxon signed-rank test\n",
    "print(stats.wilcoxon(bdc0_diff_dist_list))\n",
    "print(stats.wilcoxon(bdc1_diff_dist_list))\n",
    "print(stats.wilcoxon(bdc2_diff_dist_list))"
   ]
  },
  {
   "cell_type": "code",
   "execution_count": 50,
   "id": "6e5e5512",
   "metadata": {},
   "outputs": [
    {
     "data": {
      "text/plain": [
       "<matplotlib.lines.Line2D at 0x7fef3a9c6350>"
      ]
     },
     "execution_count": 50,
     "metadata": {},
     "output_type": "execute_result"
    },
    {
     "data": {
      "image/png": "[encoded data removed]",
      "text/plain": [
       "<Figure size 432x288 with 1 Axes>"
      ]
     },
     "metadata": {
      "needs_background": "light"
     },
     "output_type": "display_data"
    }
   ],
   "source": [
    "plt.hist(bdc0_l_dist_list,30)\n",
    "plt.xlim(0, 350)\n",
    "plt.ylim(0, 250)\n",
    "plt.axvline(120, color='r')"
   ]
  },
  {
   "cell_type": "code",
   "execution_count": 51,
   "id": "592eedae",
   "metadata": {},
   "outputs": [
    {
     "data": {
      "text/plain": [
       "<matplotlib.lines.Line2D at 0x7fef3aa52c90>"
      ]
     },
     "execution_count": 51,
     "metadata": {},
     "output_type": "execute_result"
    },
    {
     "data": {
      "image/png": "[encoded data removed]",
      "text/plain": [
       "<Figure size 432x288 with 1 Axes>"
      ]
     },
     "metadata": {
      "needs_background": "light"
     },
     "output_type": "display_data"
    }
   ],
   "source": [
    "plt.hist(bdc0_r_dist_list,30)\n",
    "plt.xlim(0, 350)\n",
    "plt.ylim(0, 250)\n",
    "plt.axvline(120, color='r')"
   ]
  },
  {
   "cell_type": "code",
   "execution_count": 52,
   "id": "42d68c7a",
   "metadata": {},
   "outputs": [
    {
     "data": {
      "text/plain": [
       "<matplotlib.lines.Line2D at 0x7fef3a8bb090>"
      ]
     },
     "execution_count": 52,
     "metadata": {},
     "output_type": "execute_result"
    },
    {
     "data": {
      "image/png": "[encoded data removed]",
      "text/plain": [
       "<Figure size 432x288 with 1 Axes>"
      ]
     },
     "metadata": {
      "needs_background": "light"
     },
     "output_type": "display_data"
    }
   ],
   "source": [
    "plt.hist(bdc0_diff_dist_list,30)\n",
    "plt.xlim(-200, 200)\n",
    "plt.ylim(0, 450)\n",
    "plt.axvline(-120, color='r')\n",
    "plt.axvline(120, color='r')"
   ]
  },
  {
   "cell_type": "markdown",
   "id": "cf2d6f90",
   "metadata": {},
   "source": [
    "For BDC0, the deviation from zero is statistically significant. This could be due to differing coordinate systems (0-based or 1-based) or differing definition of the exact restriction sites. For BDC1 and BDC2, the P-value is so small that it is reported as zero."
   ]
  },
  {
   "cell_type": "markdown",
   "id": "923ca34f",
   "metadata": {},
   "source": [
    "We compare the distributions of differences for all pairs of BDC0, BDC1 and BDC2 using a Wilcoxon rank-sum test."
   ]
  },
  {
   "cell_type": "code",
   "execution_count": 53,
   "id": "592e4bb7",
   "metadata": {},
   "outputs": [
    {
     "name": "stdout",
     "output_type": "stream",
     "text": [
      "RanksumsResult(statistic=47.578401244194254, pvalue=0.0)\n",
      "RanksumsResult(statistic=-49.866564802272286, pvalue=0.0)\n",
      "RanksumsResult(statistic=-61.11129034430268, pvalue=0.0)\n"
     ]
    }
   ],
   "source": [
    "# Perform Wilcoxon rank-sum test on differences\n",
    "print(stats.ranksums(bdc0_diff_dist_list, bdc1_diff_dist_list))\n",
    "print(stats.ranksums(bdc0_diff_dist_list, bdc2_diff_dist_list))\n",
    "print(stats.ranksums(bdc1_diff_dist_list, bdc2_diff_dist_list))"
   ]
  },
  {
   "cell_type": "markdown",
   "id": "1148d824",
   "metadata": {},
   "source": [
    "The distributions are very different for all pairs and a P-value of zero is reported in all cases."
   ]
  },
  {
   "cell_type": "markdown",
   "id": "6e918ac4",
   "metadata": {},
   "source": [
    "**Conclusion:** There is a strong correlation between the placment of baits and the assignment of the digests to the classes BDC0, BDC1 and BDC2. If the baits are not placed right next to the restriction site, the probability that the target sequence is part of a chimeric fragment is reduced."
   ]
  },
  {
   "cell_type": "markdown",
   "id": "783d6d90",
   "metadata": {},
   "source": [
    "## Further investigation of digest with two well placed baits\n",
    "\n",
    "Poor placement of baits obviously has a significant impact on bait efficiency. In order to make more subtle influencing factors visible, we have removed all digests where the distances of the two baits to the digest ends are very different.\n",
    "\n",
    "||BDC0|BDC1|BDC2|TOTAL|\n",
    "|---|---|---|---|---|\n",
    "|ALL|7,061|6,873|8,121|22,055|\n",
    "|BOTH_SIDES|6,243|4,057|5,161|15,461|\n",
    "|WELL_PLACED|3,159|1,176|1,821|6,156|"
   ]
  },
  {
   "cell_type": "markdown",
   "id": "437b21f3",
   "metadata": {},
   "source": [
    "### GC content of baits"
   ]
  },
  {
   "cell_type": "markdown",
   "id": "603e7195",
   "metadata": {},
   "source": [
    "First we define a function that that returns the GC and repeat content of a given DNA sequence."
   ]
  },
  {
   "cell_type": "code",
   "execution_count": 54,
   "id": "2b95cf9d",
   "metadata": {},
   "outputs": [],
   "source": [
    "def get_gc_and_repeat_content(sequence):\n",
    "    \n",
    "    # Determine GC content\n",
    "    GC_count = sequence.count('g')\n",
    "    GC_count += sequence.count('G')\n",
    "    GC_count += sequence.count('c')\n",
    "    GC_count += sequence.count('C')\n",
    "    seq_len = len(sequence)\n",
    "    gc_content = GC_count/seq_len\n",
    "    \n",
    "    # Determine repeat content\n",
    "    sequence = sub(\"[a-z]\", 'R', sequence)\n",
    "    R_count = sequence.count('R')\n",
    "    repeat_content = R_count/seq_len\n",
    "    \n",
    "    return gc_content, repeat_content"
   ]
  },
  {
   "cell_type": "markdown",
   "id": "2e5e569b",
   "metadata": {},
   "source": [
    "Here is a fuction call to illustrate how it works."
   ]
  },
  {
   "cell_type": "code",
   "execution_count": 55,
   "id": "20e798f4",
   "metadata": {
    "scrolled": true
   },
   "outputs": [
    {
     "data": {
      "text/plain": [
       "(0.7, 0.4)"
      ]
     },
     "execution_count": 55,
     "metadata": {},
     "output_type": "execute_result"
    }
   ],
   "source": [
    "get_gc_and_repeat_content('NtacgCGCGC')"
   ]
  },
  {
   "cell_type": "markdown",
   "id": "9340a5c3",
   "metadata": {},
   "source": [
    "Lowercase letters represent repeats. The GC content is determined without regard to repeats. Positions with `N` are not taken into account when determining the repeat content."
   ]
  },
  {
   "cell_type": "markdown",
   "id": "42b2810b",
   "metadata": {},
   "source": [
    "A digest dictionaty with well placed baits is passed to the following function. For each digest, the GC and repeat contents of the two baits are determined and appended to lists that are returned at the end."
   ]
  },
  {
   "cell_type": "code",
   "execution_count": 56,
   "id": "99d0754a",
   "metadata": {},
   "outputs": [],
   "source": [
    "def get_gc_and_repeat_content_of_baits(well_placed_baits_dict, bd_classes=[0,1,2]):\n",
    "    l_gc_list = []\n",
    "    r_gc_list = []\n",
    "    l_repeat_list = []\n",
    "    r_repeat_list = []\n",
    "    for d_key in well_placed_baits_dict.keys():\n",
    "    \n",
    "        # Filter for digests with specified baited digest classes\n",
    "        if well_placed_baits_dict[d_key]['BDC'] not in bd_classes:\n",
    "            continue\n",
    "\n",
    "        # Get GC and repeat content of 5' bait\n",
    "        seq = BAIT_SEQ_dict[well_placed_baits_dict[d_key]['L_COORDS'][0]]\n",
    "        gc_content, repeat_content = get_gc_and_repeat_content(seq)\n",
    "        l_gc_list.append(gc_content)\n",
    "        l_repeat_list.append(repeat_content)\n",
    "\n",
    "        # Get GC and repeat content of 3' bait\n",
    "        seq = BAIT_SEQ_dict[well_placed_baits_dict[d_key]['R_COORDS'][0]]\n",
    "        gc_content, repeat_content = get_gc_and_repeat_content(seq)\n",
    "        r_gc_list.append(gc_content)\n",
    "        r_repeat_list.append(repeat_content)\n",
    "      \n",
    "    print('BDC' + str(bd_classes))\n",
    "    print('GC contents 5\\' baits: ' + '{:,}'.format(len(l_gc_list)))\n",
    "    print('GC contents 3\\' baits: ' + '{:,}'.format(len(r_gc_list)))\n",
    "    print('Repeat contents 5\\' baits: ' + '{:,}'.format(len(l_repeat_list)))\n",
    "    print('Repeat contents 3\\' baits: ' + '{:,}'.format(len(r_repeat_list)))\n",
    "    print()\n",
    "        \n",
    "    return l_gc_list, r_gc_list, l_repeat_list, r_repeat_list"
   ]
  },
  {
   "cell_type": "markdown",
   "id": "f474f2b0",
   "metadata": {},
   "source": [
    "We use this funtion to generate separate lists with GC and repeat contents for the baited digests of the different classes."
   ]
  },
  {
   "cell_type": "code",
   "execution_count": 57,
   "id": "25bed5f1",
   "metadata": {},
   "outputs": [
    {
     "name": "stdout",
     "output_type": "stream",
     "text": [
      "BDC[0]\n",
      "GC contents 5' baits: 3,616\n",
      "GC contents 3' baits: 3,616\n",
      "Repeat contents 5' baits: 3,616\n",
      "Repeat contents 3' baits: 3,616\n",
      "\n",
      "BDC[1]\n",
      "GC contents 5' baits: 711\n",
      "GC contents 3' baits: 711\n",
      "Repeat contents 5' baits: 711\n",
      "Repeat contents 3' baits: 711\n",
      "\n",
      "BDC[2]\n",
      "GC contents 5' baits: 1,429\n",
      "GC contents 3' baits: 1,429\n",
      "Repeat contents 5' baits: 1,429\n",
      "Repeat contents 3' baits: 1,429\n",
      "\n"
     ]
    }
   ],
   "source": [
    "bdc0_l_gc_list, bdc0_r_gc_list, bdc0_l_repeat_list, bdc0_r_repeat_list = get_gc_and_repeat_content_of_baits(\n",
    "    bdc0_well_placed_dict,\n",
    "    bd_classes=[0])\n",
    "\n",
    "bdc1_l_gc_list, bdc1_r_gc_list, bdc1_l_repeat_list, bdc1_r_repeat_list = get_gc_and_repeat_content_of_baits(\n",
    "    bdc1_well_placed_dict,\n",
    "    bd_classes=[1])\n",
    "\n",
    "bdc2_l_gc_list, bdc2_r_gc_list, bdc2_l_repeat_list, bdc2_r_repeat_list = get_gc_and_repeat_content_of_baits(\n",
    "    bdc2_well_placed_dict,\n",
    "    bd_classes=[2])"
   ]
  },
  {
   "cell_type": "markdown",
   "id": "9c76a2ae",
   "metadata": {},
   "source": [
    "Then we use our boxplot function to compare the distributions of GC contents."
   ]
  },
  {
   "cell_type": "code",
   "execution_count": 58,
   "id": "5cdeebda",
   "metadata": {},
   "outputs": [
    {
     "data": {
      "image/png": "[encoded data removed]",
      "text/plain": [
       "<Figure size 540x216 with 2 Axes>"
      ]
     },
     "metadata": {},
     "output_type": "display_data"
    }
   ],
   "source": [
    "create_boxplot(\n",
    "    BDC0_L=bdc0_l_gc_list,\n",
    "    BDC0_R=bdc0_r_gc_list,\n",
    "    BDC1_L=bdc1_l_gc_list,\n",
    "    BDC1_R=bdc1_r_gc_list,\n",
    "    BDC2_L=bdc2_l_gc_list,\n",
    "    BDC2_R=bdc2_r_gc_list,\n",
    "    SHOWFLIERS = True,\n",
    "    TITLE='GC content of baits',\n",
    "    XLABEL_L='GC content of 5\\' bait',\n",
    "    XLABEL_R='GC content of 3\\' bait',\n",
    "    OUTPUT_PDF=NOTEBOOK_RESULTS_DIR + '/' + OUT_PREFIX  + '_gc_content_of_baits.pdf')"
   ]
  },
  {
   "cell_type": "markdown",
   "id": "9e1a0c1f",
   "metadata": {},
   "source": [
    "For BDC0, the GC contents of the `5'` and `3'` baits show a similar distribution. In contrast, these distributions are very different for BDC1 and BDC2. For BCD1, the distribution for the `3'` baits is shifted towards larger GC contents. For BDC2, it is the other way arround. Here the distribution for the `5'` is shifted towards larger GC contents. This could indicate that too high GC content has a negative impact on the efficiency of baits."
   ]
  },
  {
   "cell_type": "markdown",
   "id": "cecd9a41",
   "metadata": {},
   "source": [
    "We again determine the differences for the bait pairs of all digests, as we did for the distances from baits to digest ends, but this time for the GC contents."
   ]
  },
  {
   "cell_type": "code",
   "execution_count": 59,
   "id": "f5e81bde",
   "metadata": {},
   "outputs": [],
   "source": [
    "# Get lists with differences for GC content\n",
    "bdc0_diff_gc_list = [x[0]-x[1] for x in zip(bdc0_l_gc_list, bdc0_r_gc_list)]\n",
    "bdc1_diff_gc_list = [x[0]-x[1] for x in zip(bdc1_l_gc_list, bdc1_r_gc_list)]\n",
    "bdc2_diff_gc_list = [x[0]-x[1] for x in zip(bdc2_l_gc_list, bdc2_r_gc_list)]"
   ]
  },
  {
   "cell_type": "markdown",
   "id": "244a428e",
   "metadata": {},
   "source": [
    "Then we use our boxplot function to visualize the distributions of differences. Remember that in this case the boxplots on the left and right are identical."
   ]
  },
  {
   "cell_type": "code",
   "execution_count": 60,
   "id": "12ebdc54",
   "metadata": {},
   "outputs": [
    {
     "data": {
      "image/png": "[encoded data removed]",
      "text/plain": [
       "<Figure size 540x216 with 2 Axes>"
      ]
     },
     "metadata": {},
     "output_type": "display_data"
    }
   ],
   "source": [
    "create_boxplot(\n",
    "    BDC0_L=bdc0_diff_gc_list,\n",
    "    BDC0_R=bdc0_diff_gc_list,\n",
    "    BDC1_L=bdc1_diff_gc_list,\n",
    "    BDC1_R=bdc1_diff_gc_list,\n",
    "    BDC2_L=bdc2_diff_gc_list,\n",
    "    BDC2_R=bdc2_diff_gc_list,\n",
    "    SHOWFLIERS = True,\n",
    "    TITLE='GC content differences for digest associated bait pairs',\n",
    "    XLABEL_L='GC content difference for 5\\' and 3\\' bait',\n",
    "    XLABEL_R='GC content difference for 5\\' and 3\\' bait',\n",
    "    OUTPUT_PDF=NOTEBOOK_RESULTS_DIR + '/' + OUT_PREFIX  + '_gc_content_of_digest_associated_bait_pairs.pdf')"
   ]
  },
  {
   "cell_type": "markdown",
   "id": "f9ca5a48",
   "metadata": {},
   "source": [
    "For BDC0, the differences are evenly distributed around zero. For BDC1, the distribution is shifted towards negative differences. This means that there are many bait pairs for which the GC content of the `3'` bait is higher than that of the `5'` bait. For BDC2 it is the exact opposite. Here, there are many pairs where the GC content of the `5'` bait is higher."
   ]
  },
  {
   "cell_type": "markdown",
   "id": "ea203742",
   "metadata": {},
   "source": [
    "We use the Wilcoxon signed rank test to test the deviations from zero for statistical significance."
   ]
  },
  {
   "cell_type": "code",
   "execution_count": 61,
   "id": "b613b189",
   "metadata": {},
   "outputs": [
    {
     "name": "stdout",
     "output_type": "stream",
     "text": [
      "WilcoxonResult(statistic=3064728.0, pvalue=0.9016349588001095)\n",
      "WilcoxonResult(statistic=42197.5, pvalue=8.483056473011877e-50)\n",
      "WilcoxonResult(statistic=237248.5, pvalue=2.059890890640147e-62)\n"
     ]
    }
   ],
   "source": [
    "# Perform Wilcoxon signed-rank test\n",
    "print(stats.wilcoxon(bdc0_diff_gc_list))\n",
    "print(stats.wilcoxon(bdc1_diff_gc_list))\n",
    "print(stats.wilcoxon(bdc2_diff_gc_list))"
   ]
  },
  {
   "cell_type": "markdown",
   "id": "bcc45dd3",
   "metadata": {},
   "source": [
    "For BDC0, the differences do not deviate significantly from zero. For BDC1 and BDC2, the deviations are significant."
   ]
  },
  {
   "cell_type": "markdown",
   "id": "a24d1ebc",
   "metadata": {},
   "source": [
    "We use the Wilcoxon rank sum test to test the null hypothesis that the differences for BDC0, BDC1 and BDC2 come from the same distribution."
   ]
  },
  {
   "cell_type": "code",
   "execution_count": 62,
   "id": "44ab93a6",
   "metadata": {},
   "outputs": [
    {
     "name": "stdout",
     "output_type": "stream",
     "text": [
      "RanksumsResult(statistic=16.122901895498206, pvalue=1.7614017232301522e-58)\n",
      "RanksumsResult(statistic=-15.426696792595951, pvalue=1.0827166679103387e-53)\n",
      "RanksumsResult(statistic=-21.977587056177065, pvalue=4.718846120919771e-107)\n"
     ]
    }
   ],
   "source": [
    "# Perform Wilcoxon rank-sum test on differences\n",
    "print(stats.ranksums(bdc0_diff_gc_list, bdc1_diff_gc_list))\n",
    "print(stats.ranksums(bdc0_diff_gc_list, bdc2_diff_gc_list))\n",
    "print(stats.ranksums(bdc1_diff_gc_list, bdc2_diff_gc_list))"
   ]
  },
  {
   "cell_type": "markdown",
   "id": "189fed04",
   "metadata": {},
   "source": [
    "The distributions of differences for BDC0, BDC1 and BDC2 differ significantly from each other."
   ]
  },
  {
   "cell_type": "markdown",
   "id": "6aa4afb6",
   "metadata": {},
   "source": [
    "### Repeat content of baits\n",
    "\n",
    "For the repeat content of baits, we perform the same analysis as for the GC content of baits. As before, we use the digest with two well-placed baits for our analysis. First, we create the boxplots showing the distributions of repeat contents separately for `5'` and `3'` baits."
   ]
  },
  {
   "cell_type": "code",
   "execution_count": 43,
   "id": "591a7dfe",
   "metadata": {
    "scrolled": true
   },
   "outputs": [
    {
     "data": {
      "image/png": "[encoded data removed]",
      "text/plain": [
       "<Figure size 540x216 with 2 Axes>"
      ]
     },
     "metadata": {},
     "output_type": "display_data"
    }
   ],
   "source": [
    "create_boxplot(\n",
    "    BDC0_L=bdc0_l_repeat_list,\n",
    "    BDC0_R=bdc0_r_repeat_list,\n",
    "    BDC1_L=bdc1_l_repeat_list,\n",
    "    BDC1_R=bdc1_r_repeat_list,\n",
    "    BDC2_L=bdc2_l_repeat_list,\n",
    "    BDC2_R=bdc2_r_repeat_list,\n",
    "    SHOWFLIERS = True,\n",
    "    TITLE='Repeat content of baits',\n",
    "    XLABEL_L='Repeat content of 5\\' bait',\n",
    "    XLABEL_R='Repeat content of 3\\' bait',\n",
    "    OUTPUT_PDF=NOTEBOOK_RESULTS_DIR + '/' + OUT_PREFIX  + '_repeat_content_of_baits.pdf')"
   ]
  },
  {
   "cell_type": "markdown",
   "id": "abd5c1e2",
   "metadata": {},
   "source": [
    "For BDC0, the repeat content distributions of `5'` and `3'` baits are similar. For BDC1 and BDC2, these distributions are very different. For BDC1, most of the repeat contents of the `3'` baits seem to be zero and, for BDC2, it is the exact opposite."
   ]
  },
  {
   "cell_type": "markdown",
   "id": "bd4ee524",
   "metadata": {},
   "source": [
    "We again determine the differences of repeat contents for all bait pairs and create boxplots."
   ]
  },
  {
   "cell_type": "code",
   "execution_count": 44,
   "id": "c11c4c99",
   "metadata": {},
   "outputs": [],
   "source": [
    "## Get lists with differences for repeat content\n",
    "bdc0_diff_repeat_list = [x[0]-x[1] for x in zip(bdc0_l_repeat_list, bdc0_r_repeat_list)]\n",
    "bdc1_diff_repeat_list = [x[0]-x[1] for x in zip(bdc1_l_repeat_list, bdc1_r_repeat_list)]\n",
    "bdc2_diff_repeat_list = [x[0]-x[1] for x in zip(bdc2_l_repeat_list, bdc2_r_repeat_list)]"
   ]
  },
  {
   "cell_type": "code",
   "execution_count": 45,
   "id": "280d9d60",
   "metadata": {},
   "outputs": [
    {
     "data": {
      "image/png": "[encoded data removed]",
      "text/plain": [
       "<Figure size 540x216 with 2 Axes>"
      ]
     },
     "metadata": {},
     "output_type": "display_data"
    }
   ],
   "source": [
    "create_boxplot(\n",
    "    BDC0_L=bdc0_diff_repeat_list,\n",
    "    BDC0_R=bdc0_diff_repeat_list,\n",
    "    BDC1_L=bdc1_diff_repeat_list,\n",
    "    BDC1_R=bdc1_diff_repeat_list,\n",
    "    BDC2_L=bdc2_diff_repeat_list,\n",
    "    BDC2_R=bdc2_diff_repeat_list,\n",
    "    SHOWFLIERS = True,\n",
    "    TITLE='Repeat content differences for digest associated bait pairs',\n",
    "    XLABEL_L='Repeat content difference for 5\\' and 3\\' bait',\n",
    "    XLABEL_R='Repeat content difference for 5\\' and 3\\' bait',\n",
    "    OUTPUT_PDF=NOTEBOOK_RESULTS_DIR + '/' + OUT_PREFIX  + '_repeat_content_differences_for_digest_associated_bait_pairs.pdf')"
   ]
  },
  {
   "cell_type": "markdown",
   "id": "c7777ade",
   "metadata": {},
   "source": [
    "Then we perform the statistical tests."
   ]
  },
  {
   "cell_type": "code",
   "execution_count": 46,
   "id": "8833f262",
   "metadata": {
    "scrolled": true
   },
   "outputs": [
    {
     "name": "stdout",
     "output_type": "stream",
     "text": [
      "WilcoxonResult(statistic=662982.0, pvalue=0.6376868715153813)\n",
      "WilcoxonResult(statistic=22420.0, pvalue=0.007876542239963093)\n",
      "WilcoxonResult(statistic=72744.0, pvalue=4.060034736863489e-05)\n"
     ]
    }
   ],
   "source": [
    "# Perform Wilcoxon signed-rank test\n",
    "print(stats.wilcoxon(bdc0_diff_repeat_list))\n",
    "print(stats.wilcoxon(bdc1_diff_repeat_list))\n",
    "print(stats.wilcoxon(bdc2_diff_repeat_list))"
   ]
  },
  {
   "cell_type": "markdown",
   "id": "9660d2cc",
   "metadata": {},
   "source": [
    "Judging by the test, the differences for BDC1 and BDC2 deviate significantly from zero, but not for BDC0."
   ]
  },
  {
   "cell_type": "code",
   "execution_count": 47,
   "id": "a465eaca",
   "metadata": {},
   "outputs": [
    {
     "name": "stdout",
     "output_type": "stream",
     "text": [
      "RanksumsResult(statistic=-1.2997858780324825, pvalue=0.19367436694583529)\n",
      "RanksumsResult(statistic=3.1785736507510776, pvalue=0.0014800161206749108)\n",
      "RanksumsResult(statistic=3.317406665587985, pvalue=0.0009085726635076145)\n"
     ]
    }
   ],
   "source": [
    "# Perform Wilcoxon rank_sum test on differences\n",
    "print(stats.ranksums(bdc0_diff_repeat_list, bdc1_diff_repeat_list))\n",
    "print(stats.ranksums(bdc0_diff_repeat_list, bdc2_diff_repeat_list))\n",
    "print(stats.ranksums(bdc1_diff_repeat_list, bdc2_diff_repeat_list))"
   ]
  },
  {
   "cell_type": "markdown",
   "id": "e0752403",
   "metadata": {},
   "source": [
    "BDC1 and BDC2 differ only slightly from BDC0. But among themselves, BDC1 and BDC2 differ significantly."
   ]
  },
  {
   "cell_type": "markdown",
   "id": "fca9bde1",
   "metadata": {},
   "source": [
    "#### Remove all digests for which the repeat content of both baits is zero"
   ]
  },
  {
   "cell_type": "markdown",
   "id": "065dfb19",
   "metadata": {},
   "source": [
    "The boxplot for the repeat content of BDC1 `3'` baits and the BDC2 `5'` baits look strange. This is because in these cases the repeat content is zero for more than 75% of the digests."
   ]
  },
  {
   "cell_type": "code",
   "execution_count": 48,
   "id": "caf30420",
   "metadata": {
    "scrolled": false
   },
   "outputs": [
    {
     "name": "stdout",
     "output_type": "stream",
     "text": [
      "5' baits\n",
      "BDC0: 0.73\n",
      "BDC1: 0.71\n",
      "BDC2: 0.78 !\n",
      "\n",
      "3' baits\n",
      "BDC0: 0.73\n",
      "BDC1: 0.76 !\n",
      "BDC2: 0.72\n"
     ]
    }
   ],
   "source": [
    "print('5\\' baits')\n",
    "print('BDC0: ' + '{:.2f}'.format(bdc0_l_repeat_list.count(0.00)/len(bdc0_l_repeat_list)))\n",
    "print('BDC1: ' + '{:.2f}'.format(bdc1_l_repeat_list.count(0.00)/len(bdc1_l_repeat_list)))\n",
    "print('BDC2: ' + '{:.2f}'.format(bdc2_l_repeat_list.count(0.00)/len(bdc2_l_repeat_list)) + ' !')\n",
    "print()\n",
    "print('3\\' baits')\n",
    "print('BDC0: ' + '{:.2f}'.format(bdc0_r_repeat_list.count(0.00)/len(bdc0_r_repeat_list)))\n",
    "print('BDC1: ' + '{:.2f}'.format(bdc1_r_repeat_list.count(0.00)/len(bdc1_r_repeat_list)) + ' !')\n",
    "print('BDC2: ' + '{:.2f}'.format(bdc2_r_repeat_list.count(0.00)/len(bdc2_r_repeat_list)))"
   ]
  },
  {
   "cell_type": "markdown",
   "id": "f0e8a0f5",
   "metadata": {},
   "source": [
    "More than half of the differences are also equal zero."
   ]
  },
  {
   "cell_type": "code",
   "execution_count": 49,
   "id": "426f1949",
   "metadata": {},
   "outputs": [
    {
     "name": "stdout",
     "output_type": "stream",
     "text": [
      "Differences between 5' and 3' baits\n",
      "BDC0: 0.55\n",
      "BDC1: 0.54\n",
      "BDC2: 0.58\n"
     ]
    }
   ],
   "source": [
    "print('Differences between 5\\' and 3\\' baits')\n",
    "print('BDC0: ' + '{:.2f}'.format(bdc0_diff_repeat_list.count(0.00)/len(bdc0_diff_repeat_list)))\n",
    "print('BDC1: ' + '{:.2f}'.format(bdc1_diff_repeat_list.count(0.00)/len(bdc1_diff_repeat_list)))\n",
    "print('BDC2: ' + '{:.2f}'.format(bdc2_diff_repeat_list.count(0.00)/len(bdc2_diff_repeat_list)))"
   ]
  },
  {
   "cell_type": "markdown",
   "id": "b6ce3dda",
   "metadata": {},
   "source": [
    "This means that more than the half of the digests have two baits with no repeats. These digests are not informative for this analysis (true?) and they interfere with the display in the boxplots. Therefore, we removed all digests for which the repeat content of both digests is zero."
   ]
  },
  {
   "cell_type": "code",
   "execution_count": 50,
   "id": "230e9444",
   "metadata": {},
   "outputs": [],
   "source": [
    "bdc0_l_repeat_list_f1, bdc0_r_repeat_list_f1, bdc0_l_gc_list_f1, bdc0_r_gc_list_f1 = \\\n",
    "    zip(*list(filter(lambda x: 0<x[0] or 0<x[1], zip(bdc0_l_repeat_list, bdc0_r_repeat_list, bdc0_l_gc_list, bdc0_r_gc_list))))\n",
    "\n",
    "bdc1_l_repeat_list_f1, bdc1_r_repeat_list_f1, bdc1_l_gc_list_f1, bdc1_r_gc_list_f1 = \\\n",
    "    zip(*list(filter(lambda x: 0<x[0] or 0<x[1], zip(bdc1_l_repeat_list, bdc1_r_repeat_list, bdc1_l_gc_list, bdc1_r_gc_list))))\n",
    "\n",
    "bdc2_l_repeat_list_f1, bdc2_r_repeat_list_f1, bdc2_l_gc_list_f1, bdc2_r_gc_list_f1 = \\\n",
    "    zip(*list(filter(lambda x: 0<x[0] or 0<x[1], zip(bdc2_l_repeat_list, bdc2_r_repeat_list, bdc2_l_gc_list, bdc2_r_gc_list))))"
   ]
  },
  {
   "cell_type": "markdown",
   "id": "1a44238d",
   "metadata": {},
   "source": [
    "Then we plotted the repeat content of the remaining pairs in a boxplot."
   ]
  },
  {
   "cell_type": "code",
   "execution_count": 51,
   "id": "1e5888d8",
   "metadata": {
    "scrolled": true
   },
   "outputs": [
    {
     "data": {
      "image/png": "[encoded data removed]",
      "text/plain": [
       "<Figure size 540x216 with 2 Axes>"
      ]
     },
     "metadata": {},
     "output_type": "display_data"
    }
   ],
   "source": [
    "create_boxplot(\n",
    "    BDC0_L=bdc0_l_repeat_list_f1,\n",
    "    BDC0_R=bdc0_r_repeat_list_f1,\n",
    "    BDC1_L=bdc1_l_repeat_list_f1,\n",
    "    BDC1_R=bdc1_r_repeat_list_f1,\n",
    "    BDC2_L=bdc2_l_repeat_list_f1,\n",
    "    BDC2_R=bdc2_r_repeat_list_f1,\n",
    "    SHOWFLIERS = True,\n",
    "    TITLE='Repeat content of baits (f1)',\n",
    "    XLABEL_L='Repeat content of 5\\' bait',\n",
    "    XLABEL_R='Repeat content of 3\\' bait',\n",
    "    OUTPUT_PDF=NOTEBOOK_RESULTS_DIR + '/' + OUT_PREFIX  + '_repeat_content_of_baits_f1.pdf')"
   ]
  },
  {
   "cell_type": "markdown",
   "id": "19cad630",
   "metadata": {},
   "source": [
    "For BDC0, the distributions of the repeat contents of `5'` and `3'` baits are almost the same. For BCD1, the `3'` baits have lower repeat content and, for BDC2, the `5'` baits have lower repeat content. This contradicts the explanatory model with the unequal efficiency of baits. Normally, baits with higher repeat content are assumed to less efficient because they bind not only to the target region, but to other regions as well."
   ]
  },
  {
   "cell_type": "markdown",
   "id": "fc2a6066",
   "metadata": {},
   "source": [
    "We again determine the differences of repeat contents for all bait pairs, create boxplots and perform the statistical tests."
   ]
  },
  {
   "cell_type": "code",
   "execution_count": 52,
   "id": "901b2f81",
   "metadata": {},
   "outputs": [],
   "source": [
    "# Get lists with differences for repeat content (filtered)\n",
    "bdc0_diff_repeat_list_f1 = [x[0]-x[1] for x in zip(bdc0_l_repeat_list_f1, bdc0_r_repeat_list_f1)]\n",
    "bdc1_diff_repeat_list_f1 = [x[0]-x[1] for x in zip(bdc1_l_repeat_list_f1, bdc1_r_repeat_list_f1)]\n",
    "bdc2_diff_repeat_list_f1 = [x[0]-x[1] for x in zip(bdc2_l_repeat_list_f1, bdc2_r_repeat_list_f1)]"
   ]
  },
  {
   "cell_type": "code",
   "execution_count": 53,
   "id": "32f418c4",
   "metadata": {},
   "outputs": [
    {
     "data": {
      "image/png": "[encoded data removed]",
      "text/plain": [
       "<Figure size 540x216 with 2 Axes>"
      ]
     },
     "metadata": {},
     "output_type": "display_data"
    }
   ],
   "source": [
    "create_boxplot(\n",
    "    BDC0_L=bdc0_diff_repeat_list_f1,\n",
    "    BDC0_R=bdc0_diff_repeat_list_f1,\n",
    "    BDC1_L=bdc1_diff_repeat_list_f1,\n",
    "    BDC1_R=bdc1_diff_repeat_list_f1,\n",
    "    BDC2_L=bdc2_diff_repeat_list_f1,\n",
    "    BDC2_R=bdc2_diff_repeat_list_f1,\n",
    "    SHOWFLIERS = True,\n",
    "    TITLE='Repeat content differences for digest associated bait pairs (f1)',\n",
    "    XLABEL_L='Repeat content difference for 5\\' and 3\\' bait',\n",
    "    XLABEL_R='Repeat content difference for 5\\' and 3\\' bait',\n",
    "    OUTPUT_PDF=NOTEBOOK_RESULTS_DIR + '/' + OUT_PREFIX  + '_repeat_content_differences_for_digest_associated_bait_pairs_f1.pdf')"
   ]
  },
  {
   "cell_type": "markdown",
   "id": "e1e8bd04",
   "metadata": {},
   "source": [
    "For BDC0, the differences are evenly distributed around zero. For BDC1, the repeat content of the `3'` bait is often less than that of the `5'` bait and, for BDC2, the opposite is true."
   ]
  },
  {
   "cell_type": "code",
   "execution_count": 54,
   "id": "ead7cce7",
   "metadata": {},
   "outputs": [
    {
     "name": "stdout",
     "output_type": "stream",
     "text": [
      "WilcoxonResult(statistic=662982.0, pvalue=0.6376868715153813)\n",
      "WilcoxonResult(statistic=22420.0, pvalue=0.007876542239963093)\n",
      "WilcoxonResult(statistic=72744.0, pvalue=4.060034736863489e-05)\n"
     ]
    }
   ],
   "source": [
    "# Perform Wilcoxon signed-rank test\n",
    "print(stats.wilcoxon(bdc0_diff_repeat_list_f1))\n",
    "print(stats.wilcoxon(bdc1_diff_repeat_list_f1))\n",
    "print(stats.wilcoxon(bdc2_diff_repeat_list_f1))"
   ]
  },
  {
   "cell_type": "code",
   "execution_count": 55,
   "id": "3d386c8b",
   "metadata": {},
   "outputs": [
    {
     "name": "stdout",
     "output_type": "stream",
     "text": [
      "RanksumsResult(statistic=-2.310334167575346, pvalue=0.02086966069860131)\n",
      "RanksumsResult(statistic=3.747130378779666, pvalue=0.0001788691271011308)\n",
      "RanksumsResult(statistic=4.668144758631139, pvalue=3.039317342012646e-06)\n"
     ]
    }
   ],
   "source": [
    "# Perform Wilcoxon rank-sum test on differences\n",
    "print(stats.ranksums(bdc0_diff_repeat_list_f1, bdc1_diff_repeat_list_f1))\n",
    "print(stats.ranksums(bdc0_diff_repeat_list_f1, bdc2_diff_repeat_list_f1))\n",
    "print(stats.ranksums(bdc1_diff_repeat_list_f1, bdc2_diff_repeat_list_f1))"
   ]
  },
  {
   "cell_type": "markdown",
   "id": "fd8ff9a0",
   "metadata": {},
   "source": [
    "The results of the statistical tests are not very different from those obtained before we removed all digests that have two baits without repeats."
   ]
  },
  {
   "cell_type": "markdown",
   "id": "a35f4f54",
   "metadata": {},
   "source": [
    "Repeat GC content analysis for non-zero repeat digests."
   ]
  },
  {
   "cell_type": "code",
   "execution_count": 56,
   "id": "52f272f0",
   "metadata": {},
   "outputs": [
    {
     "data": {
      "image/png": "[encoded data removed]",
      "text/plain": [
       "<Figure size 540x216 with 2 Axes>"
      ]
     },
     "metadata": {},
     "output_type": "display_data"
    }
   ],
   "source": [
    "create_boxplot(\n",
    "    BDC0_L=bdc0_l_gc_list_f1,\n",
    "    BDC0_R=bdc0_r_gc_list_f1,\n",
    "    BDC1_L=bdc1_l_gc_list_f1,\n",
    "    BDC1_R=bdc1_r_gc_list_f1,\n",
    "    BDC2_L=bdc2_l_gc_list_f1,\n",
    "    BDC2_R=bdc2_r_gc_list_f1,\n",
    "    SHOWFLIERS = True,\n",
    "    TITLE='GC content of baits (f1)',\n",
    "    XLABEL_L='GC content of 5\\' bait',\n",
    "    XLABEL_R='GC content of 3\\' bait',\n",
    "    OUTPUT_PDF=NOTEBOOK_RESULTS_DIR + '/' + OUT_PREFIX  + '_gc_content_of_baits_f1.pdf')"
   ]
  },
  {
   "cell_type": "code",
   "execution_count": 57,
   "id": "a26bd827",
   "metadata": {},
   "outputs": [],
   "source": [
    "# Get lists with differences for gc content (filtered)\n",
    "bdc0_diff_gc_list_f1 = [x[0]-x[1] for x in zip(bdc0_l_gc_list_f1, bdc0_r_gc_list_f1)]\n",
    "bdc1_diff_gc_list_f1 = [x[0]-x[1] for x in zip(bdc1_l_gc_list_f1, bdc1_r_gc_list_f1)]\n",
    "bdc2_diff_gc_list_f1 = [x[0]-x[1] for x in zip(bdc2_l_gc_list_f1, bdc2_r_gc_list_f1)]"
   ]
  },
  {
   "cell_type": "code",
   "execution_count": 58,
   "id": "34f0d433",
   "metadata": {},
   "outputs": [
    {
     "data": {
      "image/png": "[encoded data removed]",
      "text/plain": [
       "<Figure size 540x216 with 2 Axes>"
      ]
     },
     "metadata": {},
     "output_type": "display_data"
    }
   ],
   "source": [
    "create_boxplot(\n",
    "    BDC0_L=bdc0_diff_gc_list_f1,\n",
    "    BDC0_R=bdc0_diff_gc_list_f1,\n",
    "    BDC1_L=bdc1_diff_gc_list_f1,\n",
    "    BDC1_R=bdc1_diff_gc_list_f1,\n",
    "    BDC2_L=bdc2_diff_gc_list_f1,\n",
    "    BDC2_R=bdc2_diff_gc_list_f1,\n",
    "    SHOWFLIERS = True,\n",
    "    TITLE='GC content differences for digest associated bait pairs (f1)',\n",
    "    XLABEL_L='GC content difference for 5\\' and 3\\' bait',\n",
    "    XLABEL_R='GC content difference for 5\\' and 3\\' bait',\n",
    "    OUTPUT_PDF=NOTEBOOK_RESULTS_DIR + '/' + OUT_PREFIX  + '_gc_content_differences_for_digest_associated_bait_pairs_f1.pdf')"
   ]
  },
  {
   "cell_type": "code",
   "execution_count": 59,
   "id": "46db7361",
   "metadata": {},
   "outputs": [
    {
     "name": "stdout",
     "output_type": "stream",
     "text": [
      "WilcoxonResult(statistic=654400.5, pvalue=0.8434229247705516)\n",
      "WilcoxonResult(statistic=9974.5, pvalue=9.07931251849666e-22)\n",
      "WilcoxonResult(statistic=43283.5, pvalue=1.7870823979145663e-27)\n"
     ]
    }
   ],
   "source": [
    "# Perform Wilcoxon signed-rank test\n",
    "print(stats.wilcoxon(bdc0_diff_gc_list_f1))\n",
    "print(stats.wilcoxon(bdc1_diff_gc_list_f1))\n",
    "print(stats.wilcoxon(bdc2_diff_gc_list_f1))"
   ]
  },
  {
   "cell_type": "markdown",
   "id": "c46e187e",
   "metadata": {},
   "source": [
    "### Dependency between GC and repeat content\n",
    "\n",
    "High GC content could be negatively correlated with repeat content. To test this hypothesis, we determined the GC and repeat content of all baits."
   ]
  },
  {
   "cell_type": "code",
   "execution_count": 60,
   "id": "61e6cacb",
   "metadata": {},
   "outputs": [],
   "source": [
    "# Get GC and repeat content of all baits\n",
    "gc_list = []\n",
    "repeat_list = []\n",
    "for bait_seq in BAIT_SEQ_dict.values():\n",
    "    gc_content, repeat_content = get_gc_and_repeat_content(bait_seq)\n",
    "    gc_list.append(gc_content)\n",
    "    repeat_list.append(repeat_content)"
   ]
  },
  {
   "cell_type": "markdown",
   "id": "d6f9e5af",
   "metadata": {},
   "source": [
    "Then we divide all baits into those with and without repeats, and within these groups, we further divide them into low and high GC baits. To distinguish between low and high GC baits, we use the median GC content of all baits as a threshold. Then we determine the numbers of baits in the four groups and perform a Fisher's exact test."
   ]
  },
  {
   "cell_type": "code",
   "execution_count": 61,
   "id": "54fb5da0",
   "metadata": {},
   "outputs": [
    {
     "name": "stdout",
     "output_type": "stream",
     "text": [
      "GC_LOW_HIGH_THRESH: 0.43\n",
      "\n",
      "                 Low GC High GC   Total\n",
      "Zero repeat      11,607  12,380  23,987\n",
      "Non-zero repeat   7,724   5,891  13,615\n",
      "Total            19,331  18,271  37,602\n",
      "Prior odds ratio: 0.7150659484860984\n",
      "P-value: 1.251786508767154e-54\n"
     ]
    }
   ],
   "source": [
    "GC_LOW_HIGH_THRESH = median(gc_list)\n",
    "print('GC_LOW_HIGH_THRESH: ' + '{:.2f}'.format(GC_LOW_HIGH_THRESH))\n",
    "print()\n",
    "x, y = \\\n",
    "    zip(*list(filter(lambda x: x[0]==0 and x[1]<=GC_LOW_HIGH_THRESH, zip(repeat_list, gc_list))))\n",
    "ZERO_REPEAT_GC_LOW = len(y)\n",
    "x, y = \\\n",
    "    zip(*list(filter(lambda x: x[0]==0 and x[1]>GC_LOW_HIGH_THRESH, zip(repeat_list, gc_list))))\n",
    "ZERO_REPEAT_GC_HIGH = len(y)\n",
    "x, y = \\\n",
    "    zip(*list(filter(lambda x: x[0]>0 and x[1]<=GC_LOW_HIGH_THRESH, zip(repeat_list, gc_list))))\n",
    "NON_ZERO_REPEAT_GC_LOW = len(y)\n",
    "x, y = \\\n",
    "    zip(*list(filter(lambda x: x[0]>0 and x[1]>GC_LOW_HIGH_THRESH, zip(repeat_list, gc_list))))\n",
    "NON_ZERO_REPEAT_GC_HIGH = len(y)\n",
    "\n",
    "ZERO_REPEAT_TOTAL = ZERO_REPEAT_GC_LOW + ZERO_REPEAT_GC_HIGH\n",
    "NON_ZERO_REPEAT_TOTAL = NON_ZERO_REPEAT_GC_LOW + NON_ZERO_REPEAT_GC_HIGH\n",
    "GC_LOW_TOTAL = ZERO_REPEAT_GC_LOW + NON_ZERO_REPEAT_GC_LOW\n",
    "GC_HIGH_TOTAL = ZERO_REPEAT_GC_HIGH + NON_ZERO_REPEAT_GC_HIGH\n",
    "\n",
    "d = {'Low GC': ['{:,}'.format(ZERO_REPEAT_GC_LOW),\n",
    "                '{:,}'.format(NON_ZERO_REPEAT_GC_LOW),\n",
    "                '{:,}'.format(GC_LOW_TOTAL)],\n",
    "     'High GC': ['{:,}'.format(ZERO_REPEAT_GC_HIGH),\n",
    "                 '{:,}'.format(NON_ZERO_REPEAT_GC_HIGH),\n",
    "                 '{:,}'.format(GC_HIGH_TOTAL)],\n",
    "     'Total': ['{:,}'.format(ZERO_REPEAT_TOTAL),\n",
    "               '{:,}'.format(NON_ZERO_REPEAT_TOTAL),\n",
    "               '{:,}'.format(ZERO_REPEAT_TOTAL + NON_ZERO_REPEAT_TOTAL)]}\n",
    "df = pd.DataFrame(data=d)\n",
    "df.index = ['Zero repeat', 'Non-zero repeat', 'Total']\n",
    "print(df)\n",
    "\n",
    "# Fisher's exact test\n",
    "contingency_table = [\n",
    "    [ZERO_REPEAT_GC_LOW, ZERO_REPEAT_GC_HIGH],\n",
    "    [NON_ZERO_REPEAT_GC_LOW, NON_ZERO_REPEAT_GC_HIGH]]\n",
    "\n",
    "odds_ratio, p_value = fisher_exact(contingency_table, alternative='two-sided')\n",
    "print('Prior odds ratio: ' + str(odds_ratio))\n",
    "print('P-value: ' + str(p_value))"
   ]
  },
  {
   "cell_type": "markdown",
   "id": "2cc01142",
   "metadata": {},
   "source": [
    "Among the baits with a high GC content, the proportion of baits without repeats is significantly higher."
   ]
  },
  {
   "cell_type": "markdown",
   "id": "ffa0d001",
   "metadata": {},
   "source": [
    "### Remove digests in which one of the baits has very high GC content\n",
    "\n",
    "We have removed all digests for which at least one of the baits has a GC content of more than that of 75% of all baits, which is `0.52`."
   ]
  },
  {
   "cell_type": "code",
   "execution_count": 62,
   "id": "28ee6d16",
   "metadata": {},
   "outputs": [
    {
     "name": "stdout",
     "output_type": "stream",
     "text": [
      "0.5166666666666667\n"
     ]
    }
   ],
   "source": [
    "GC_HIGH_THRESH = quantile(gc_list, 0.75)\n",
    "print(GC_HIGH_THRESH)"
   ]
  },
  {
   "cell_type": "code",
   "execution_count": 63,
   "id": "6e657245",
   "metadata": {},
   "outputs": [],
   "source": [
    "bdc0_l_gc_list_f2, bdc0_r_gc_list_f2, bdc0_l_repeat_list_f2, bdc0_r_repeat_list_f2 = \\\n",
    "    zip(*list(filter(lambda x: x[0]<GC_HIGH_THRESH and x[1]<GC_HIGH_THRESH and (0<x[2] or 0<x[3]), zip(bdc0_l_gc_list, bdc0_r_gc_list, bdc0_l_repeat_list, bdc0_r_repeat_list))))\n",
    "\n",
    "bdc1_l_gc_list_f2, bdc1_r_gc_list_f2, bdc1_l_repeat_list_f2, bdc1_r_repeat_list_f2 = \\\n",
    "    zip(*list(filter(lambda x: x[0]<GC_HIGH_THRESH and x[1]<GC_HIGH_THRESH and (0<x[2] or 0<x[3]), zip(bdc1_l_gc_list, bdc1_r_gc_list, bdc1_l_repeat_list, bdc1_r_repeat_list))))\n",
    "\n",
    "bdc2_l_gc_list_f2, bdc2_r_gc_list_f2, bdc2_l_repeat_list_f2, bdc2_r_repeat_list_f2 = \\\n",
    "    zip(*list(filter(lambda x: x[0]<GC_HIGH_THRESH and x[1]<GC_HIGH_THRESH and (0<x[2] or 0<x[3]), zip(bdc2_l_gc_list, bdc2_r_gc_list, bdc2_l_repeat_list, bdc2_r_repeat_list))))"
   ]
  },
  {
   "cell_type": "markdown",
   "id": "eb222b81",
   "metadata": {},
   "source": [
    "First, we run the analysis for GC content again using the filtered data."
   ]
  },
  {
   "cell_type": "code",
   "execution_count": 64,
   "id": "bb3c84c7",
   "metadata": {},
   "outputs": [
    {
     "data": {
      "image/png": "[encoded data removed]",
      "text/plain": [
       "<Figure size 540x216 with 2 Axes>"
      ]
     },
     "metadata": {},
     "output_type": "display_data"
    }
   ],
   "source": [
    "create_boxplot(\n",
    "    BDC0_L=bdc0_l_gc_list_f2,\n",
    "    BDC0_R=bdc0_r_gc_list_f2,\n",
    "    BDC1_L=bdc1_l_gc_list_f2,\n",
    "    BDC1_R=bdc1_r_gc_list_f2,\n",
    "    BDC2_L=bdc2_l_gc_list_f2,\n",
    "    BDC2_R=bdc2_r_gc_list_f2,\n",
    "    SHOWFLIERS = True,\n",
    "    TITLE='GC content of baits (f2)',\n",
    "    XLABEL_L='GC content of 5\\' bait',\n",
    "    XLABEL_R='GC content of 3\\' bait',\n",
    "    OUTPUT_PDF=NOTEBOOK_RESULTS_DIR + '/' + OUT_PREFIX  + '_gc_content_of_baits_f2.pdf')"
   ]
  },
  {
   "cell_type": "code",
   "execution_count": 65,
   "id": "9a67c60a",
   "metadata": {},
   "outputs": [],
   "source": [
    "# Get lists with differences for GC content (x)\n",
    "bdc0_diff_gc_list_f2 = [x[0]-x[1] for x in zip(bdc0_l_gc_list_f2, bdc0_r_gc_list_f2)]\n",
    "bdc1_diff_gc_list_f2 = [x[0]-x[1] for x in zip(bdc1_l_gc_list_f2, bdc1_r_gc_list_f2)]\n",
    "bdc2_diff_gc_list_f2 = [x[0]-x[1] for x in zip(bdc2_l_gc_list_f2, bdc2_r_gc_list_f2)]"
   ]
  },
  {
   "cell_type": "code",
   "execution_count": 66,
   "id": "1f8943ff",
   "metadata": {
    "scrolled": true
   },
   "outputs": [
    {
     "data": {
      "image/png": "[encoded data removed]",
      "text/plain": [
       "<Figure size 540x216 with 2 Axes>"
      ]
     },
     "metadata": {},
     "output_type": "display_data"
    }
   ],
   "source": [
    "create_boxplot(\n",
    "    BDC0_L=bdc0_diff_gc_list_f2,\n",
    "    BDC0_R=bdc0_diff_gc_list_f2,\n",
    "    BDC1_L=bdc1_diff_gc_list_f2,\n",
    "    BDC1_R=bdc1_diff_gc_list_f2,\n",
    "    BDC2_L=bdc2_diff_gc_list_f2,\n",
    "    BDC2_R=bdc2_diff_gc_list_f2,\n",
    "    SHOWFLIERS = True,\n",
    "    TITLE='GC content differences for digest associated bait pairs (f2)',\n",
    "    XLABEL_L='GC content difference for 5\\' and 3\\' bait',\n",
    "    XLABEL_R='GC content difference for 5\\' and 3\\' bait',\n",
    "    OUTPUT_PDF=NOTEBOOK_RESULTS_DIR + '/' + OUT_PREFIX  + '_gc_content_differences_for_digest_associated_bait_pairs_f2.pdf')"
   ]
  },
  {
   "cell_type": "code",
   "execution_count": 67,
   "id": "98bbf44f",
   "metadata": {},
   "outputs": [
    {
     "name": "stdout",
     "output_type": "stream",
     "text": [
      "WilcoxonResult(statistic=291831.0, pvalue=0.34882537281567527)\n",
      "WilcoxonResult(statistic=2762.0, pvalue=0.5788785977212934)\n",
      "WilcoxonResult(statistic=18986.5, pvalue=0.8425500740843258)\n"
     ]
    }
   ],
   "source": [
    "# Perform Wilcoxon signed-rank test\n",
    "print(stats.wilcoxon(bdc0_diff_gc_list_f2))\n",
    "print(stats.wilcoxon(bdc1_diff_gc_list_f2))\n",
    "print(stats.wilcoxon(bdc2_diff_gc_list_f2))"
   ]
  },
  {
   "cell_type": "code",
   "execution_count": 68,
   "id": "7fa9587e",
   "metadata": {
    "scrolled": true
   },
   "outputs": [
    {
     "name": "stdout",
     "output_type": "stream",
     "text": [
      "RanksumsResult(statistic=-0.2386641722156567, pvalue=0.8113660004048808)\n",
      "RanksumsResult(statistic=0.20914979851723783, pvalue=0.8343313006421017)\n",
      "RanksumsResult(statistic=0.3229042842026866, pvalue=0.746767731653556)\n"
     ]
    }
   ],
   "source": [
    "# Perform Wilcoxon rank_sum test on differences\n",
    "print(stats.ranksums(bdc0_diff_gc_list_f2, bdc1_diff_gc_list_f2))\n",
    "print(stats.ranksums(bdc0_diff_gc_list_f2, bdc2_diff_gc_list_f2))\n",
    "print(stats.ranksums(bdc1_diff_gc_list_f2, bdc2_diff_gc_list_f2))"
   ]
  },
  {
   "cell_type": "markdown",
   "id": "ac60e1c9",
   "metadata": {},
   "source": [
    "**No significant deviations from zero!**"
   ]
  },
  {
   "cell_type": "markdown",
   "id": "954dfcbd",
   "metadata": {},
   "source": [
    "Run the repeat content analysis again using the filtered data."
   ]
  },
  {
   "cell_type": "code",
   "execution_count": 69,
   "id": "098d84e2",
   "metadata": {
    "scrolled": true
   },
   "outputs": [
    {
     "data": {
      "image/png": "[encoded data removed]",
      "text/plain": [
       "<Figure size 540x216 with 2 Axes>"
      ]
     },
     "metadata": {},
     "output_type": "display_data"
    }
   ],
   "source": [
    "create_boxplot(\n",
    "    BDC0_L=bdc0_l_repeat_list_f2,\n",
    "    BDC0_R=bdc0_r_repeat_list_f2,\n",
    "    BDC1_L=bdc1_l_repeat_list_f2,\n",
    "    BDC1_R=bdc1_r_repeat_list_f2,\n",
    "    BDC2_L=bdc2_l_repeat_list_f2,\n",
    "    BDC2_R=bdc2_r_repeat_list_f2,\n",
    "    SHOWFLIERS = True,\n",
    "    TITLE='Repeat content of baits (f2)',\n",
    "    XLABEL_L='Repeat content of 5\\' bait',\n",
    "    XLABEL_R='Repeat content of 3\\' bait',\n",
    "    OUTPUT_PDF=NOTEBOOK_RESULTS_DIR + '/' + OUT_PREFIX  + '_repeat_content_of_baits_f2.pdf')"
   ]
  },
  {
   "cell_type": "code",
   "execution_count": 70,
   "id": "70254323",
   "metadata": {},
   "outputs": [],
   "source": [
    "# Get lists with differences for repeat content (x)\n",
    "bdc0_diff_repeat_list_f2 = [x[0]-x[1] for x in zip(bdc0_l_repeat_list_f2, bdc0_r_repeat_list_f2)]\n",
    "bdc1_diff_repeat_list_f2 = [x[0]-x[1] for x in zip(bdc1_l_repeat_list_f2, bdc1_r_repeat_list_f2)]\n",
    "bdc2_diff_repeat_list_f2 = [x[0]-x[1] for x in zip(bdc2_l_repeat_list_f2, bdc2_r_repeat_list_f2)]"
   ]
  },
  {
   "cell_type": "code",
   "execution_count": 71,
   "id": "a82475c7",
   "metadata": {
    "scrolled": true
   },
   "outputs": [
    {
     "data": {
      "image/png": "[encoded data removed]",
      "text/plain": [
       "<Figure size 540x216 with 2 Axes>"
      ]
     },
     "metadata": {},
     "output_type": "display_data"
    }
   ],
   "source": [
    "create_boxplot(\n",
    "    BDC0_L=bdc0_diff_repeat_list_f2,\n",
    "    BDC0_R=bdc0_diff_repeat_list_f2,\n",
    "    BDC1_L=bdc1_diff_repeat_list_f2,\n",
    "    BDC1_R=bdc1_diff_repeat_list_f2,\n",
    "    BDC2_L=bdc2_diff_repeat_list_f2,\n",
    "    BDC2_R=bdc2_diff_repeat_list_f2,\n",
    "    SHOWFLIERS = True,\n",
    "    TITLE='Repeat content differences for digest associated bait pairs (f2)',\n",
    "    XLABEL_L='Repeat content difference for 5\\' and 3\\' bait',\n",
    "    XLABEL_R='Repeat content difference for 5\\' and 3\\' bait',\n",
    "    OUTPUT_PDF=NOTEBOOK_RESULTS_DIR + '/' + OUT_PREFIX  + '_repeat_content_differences_for_digest_associated_bait_pairs_f2.pdf')"
   ]
  },
  {
   "cell_type": "code",
   "execution_count": 72,
   "id": "69488f22",
   "metadata": {},
   "outputs": [
    {
     "name": "stdout",
     "output_type": "stream",
     "text": [
      "WilcoxonResult(statistic=308404.5, pvalue=0.8028386980761305)\n",
      "WilcoxonResult(statistic=2866.0, pvalue=0.3865743072684896)\n",
      "WilcoxonResult(statistic=19760.0, pvalue=0.8886765722581677)\n"
     ]
    }
   ],
   "source": [
    "# Perform Wilcoxon signed-rank test\n",
    "print(stats.wilcoxon(bdc0_diff_repeat_list_f2))\n",
    "print(stats.wilcoxon(bdc1_diff_repeat_list_f2))\n",
    "print(stats.wilcoxon(bdc2_diff_repeat_list_f2))"
   ]
  },
  {
   "cell_type": "code",
   "execution_count": 73,
   "id": "1b34dec3",
   "metadata": {},
   "outputs": [
    {
     "name": "stdout",
     "output_type": "stream",
     "text": [
      "RanksumsResult(statistic=0.6088618011411782, pvalue=0.5426160455491337)\n",
      "RanksumsResult(statistic=-0.009812552030320654, pvalue=0.9921708418730852)\n",
      "RanksumsResult(statistic=-0.5676713800997667, pvalue=0.5702581285447615)\n"
     ]
    }
   ],
   "source": [
    "# Perform Wilcoxon rank_sum test on differences\n",
    "print(stats.ranksums(bdc0_diff_repeat_list_f2, bdc1_diff_repeat_list_f2))\n",
    "print(stats.ranksums(bdc0_diff_repeat_list_f2, bdc2_diff_repeat_list_f2))\n",
    "print(stats.ranksums(bdc1_diff_repeat_list_f2, bdc2_diff_repeat_list_f2))"
   ]
  },
  {
   "cell_type": "markdown",
   "id": "cc29bfc1",
   "metadata": {},
   "source": [
    "**No significant deviations from zero!**"
   ]
  },
  {
   "cell_type": "markdown",
   "id": "9ee839fa",
   "metadata": {},
   "source": [
    "### Write files for accessibility and self-dimarization analysis"
   ]
  },
  {
   "cell_type": "markdown",
   "id": "bb8667fd",
   "metadata": {},
   "source": [
    "We restrict the analysis to baited digests with two well placed baits. We write three files each for BDC0, BDC1 and BDC2:\n",
    "1. BED file with baited digest coordinates\n",
    "2. FASTA file with corresponding coordinates and sequence of the 5' bait\n",
    "2. FASTA file with corresponding coordinates and sequence of the 3' bait\n",
    "\n",
    "For now, we are not filtering out digests with high GC baits because we don't know if there is a correlation between GC content and accessibility or GC content and self-dimerization."
   ]
  },
  {
   "cell_type": "code",
   "execution_count": 74,
   "id": "8474553a",
   "metadata": {
    "scrolled": true
   },
   "outputs": [
    {
     "name": "stdout",
     "output_type": "stream",
     "text": [
      "BDC0: 3631\n",
      "BDC1: 711\n",
      "BDC2: 1429\n"
     ]
    }
   ],
   "source": [
    "fh_bed = open(NOTEBOOK_RESULTS_DIR + '/' + OUT_PREFIX + '_bdc0.bed', 'wt')\n",
    "fh_bed.write(\"track name=\\\"\" + OUT_PREFIX + \"_bdc0\\\" description=\\\"\" + OUT_PREFIX + \"- BDC0\\\" itemRgb=\\\"On\\\"\" + '\\n')\n",
    "fh_fa_l = open(NOTEBOOK_RESULTS_DIR + '/' + OUT_PREFIX + '_bdc0_l.fa', 'wt')\n",
    "fh_fa_r = open(NOTEBOOK_RESULTS_DIR + '/' + OUT_PREFIX + '_bdc0_r.fa', 'wt')\n",
    "cnt = 0\n",
    "for interval in BAITED_DIGEST_FILE:\n",
    "    bd_key = interval.chrom + '\\t' + str(interval.start) + '\\t' + str(interval.end)\n",
    "    if bd_key in bdc0_well_placed_dict:\n",
    "        \n",
    "        # Write digest coordinates to BED file\n",
    "        fh_bed.write(str(interval).rstrip() + '\\n')\n",
    "        \n",
    "        # Write bait coordinates and sequence of the _LEFT_ bait to FASTA file\n",
    "        l_bait_key = bdc0_well_placed_dict[bd_key]['L_COORDS'][0]\n",
    "        l_bait_seq = BAIT_SEQ_dict[l_bait_key]\n",
    "        chrom, sta, end = l_bait_key.split('\\t')\n",
    "        fa_header = '>' + chrom + ':' + sta + '-' + end\n",
    "        fh_fa_l.write(fa_header + '\\n')\n",
    "        fh_fa_l.write(l_bait_seq + '\\n')\n",
    "        \n",
    "        # Write bait coordinates and sequence of the _RIGHT_ bait to FASTA file\n",
    "        r_bait_key = bdc0_well_placed_dict[bd_key]['R_COORDS'][0]\n",
    "        r_bait_seq = BAIT_SEQ_dict[r_bait_key]\n",
    "        chrom, sta, end = r_bait_key.split('\\t')\n",
    "        fa_header = '>' + chrom + ':' + sta + '-' + end\n",
    "        fh_fa_r.write(fa_header + '\\n')\n",
    "        fh_fa_r.write(r_bait_seq + '\\n')\n",
    "        \n",
    "        cnt += 1\n",
    "print(\"BDC0: \" + str(cnt))\n",
    "fh_bed.close()\n",
    "fh_fa_l.close()\n",
    "fh_fa_r.close()\n",
    "\n",
    "fh_bed = open(NOTEBOOK_RESULTS_DIR + '/' + OUT_PREFIX + '_bdc1.bed', 'wt')\n",
    "fh_bed.write(\"track name=\\\"\" + OUT_PREFIX + \"_bdc1\\\" description=\\\"\" + OUT_PREFIX + \"- BDC1\\\" itemRgb=\\\"On\\\"\" + '\\n')\n",
    "fh_fa_l = open(NOTEBOOK_RESULTS_DIR + '/' + OUT_PREFIX + '_bdc1_l.fa', 'wt')\n",
    "fh_fa_r = open(NOTEBOOK_RESULTS_DIR + '/' + OUT_PREFIX + '_bdc1_r.fa', 'wt')\n",
    "cnt = 0\n",
    "for interval in BDC1_DIGEST_FILE:\n",
    "    bd_key = interval.chrom + '\\t' + str(interval.start) + '\\t' + str(interval.end)\n",
    "    if bd_key in bdc1_well_placed_dict:\n",
    "        \n",
    "        # Write digest coordinates to BED file\n",
    "        fh_bed.write(str(interval).rstrip() + '\\n')\n",
    "        \n",
    "        # Write bait coordinates and sequence of the _LEFT_ bait to FASTA file\n",
    "        l_bait_key = bdc1_well_placed_dict[bd_key]['L_COORDS'][0]\n",
    "        l_bait_seq = BAIT_SEQ_dict[l_bait_key]\n",
    "        chrom, sta, end = l_bait_key.split('\\t')\n",
    "        fa_header = '>' + chrom + ':' + sta + '-' + end\n",
    "        fh_fa_l.write(fa_header + '\\n')\n",
    "        fh_fa_l.write(l_bait_seq + '\\n')\n",
    "        \n",
    "        # Write bait coordinates and sequence of the _RIGHT_ bait to FASTA file\n",
    "        r_bait_key = bdc1_well_placed_dict[bd_key]['R_COORDS'][0]\n",
    "        r_bait_seq = BAIT_SEQ_dict[r_bait_key]\n",
    "        chrom, sta, end = r_bait_key.split('\\t')\n",
    "        fa_header = '>' + chrom + ':' + sta + '-' + end\n",
    "        fh_fa_r.write(fa_header + '\\n')\n",
    "        fh_fa_r.write(r_bait_seq + '\\n')\n",
    "        \n",
    "        cnt += 1\n",
    "print(\"BDC1: \" + str(cnt))\n",
    "fh_bed.close()\n",
    "fh_fa_l.close()\n",
    "fh_fa_r.close()\n",
    "\n",
    "fh_bed = open(NOTEBOOK_RESULTS_DIR + '/' + OUT_PREFIX + '_bdc2.bed', 'wt')\n",
    "fh_bed.write(\"track name=\\\"\" + OUT_PREFIX + \"_bdc2\\\" description=\\\"\" + OUT_PREFIX + \"- BDC2\\\" itemRgb=\\\"On\\\"\" + '\\n')\n",
    "fh_fa_l = open(NOTEBOOK_RESULTS_DIR + '/' + OUT_PREFIX + '_bdc2_l.fa', 'wt')\n",
    "fh_fa_r = open(NOTEBOOK_RESULTS_DIR + '/' + OUT_PREFIX + '_bdc2_r.fa', 'wt')\n",
    "cnt = 0\n",
    "for interval in BDC2_DIGEST_FILE:\n",
    "    bd_key = interval.chrom + '\\t' + str(interval.start) + '\\t' + str(interval.end)\n",
    "    if bd_key in bdc2_well_placed_dict:\n",
    "        \n",
    "        # Write digest coordinates to BED file\n",
    "        fh_bed.write(str(interval).rstrip() + '\\n')\n",
    "        \n",
    "        # Write bait coordinates and sequence of the _LEFT_ bait to FASTA file\n",
    "        l_bait_key = bdc2_well_placed_dict[bd_key]['L_COORDS'][0]\n",
    "        l_bait_seq = BAIT_SEQ_dict[l_bait_key]\n",
    "        chrom, sta, end = l_bait_key.split('\\t')\n",
    "        fa_header = '>' + chrom + ':' + sta + '-' + end\n",
    "        fh_fa_l.write(fa_header + '\\n')\n",
    "        fh_fa_l.write(l_bait_seq + '\\n')\n",
    "        \n",
    "        # Write bait coordinates and sequence of the _RIGHT_ bait to FASTA file\n",
    "        r_bait_key = bdc2_well_placed_dict[bd_key]['R_COORDS'][0]\n",
    "        r_bait_seq = BAIT_SEQ_dict[r_bait_key]\n",
    "        chrom, sta, end = r_bait_key.split('\\t')\n",
    "        fa_header = '>' + chrom + ':' + sta + '-' + end\n",
    "        fh_fa_r.write(fa_header + '\\n')\n",
    "        fh_fa_r.write(r_bait_seq + '\\n')\n",
    "        \n",
    "        cnt += 1\n",
    "print(\"BDC2: \" + str(cnt))\n",
    "fh_bed.close()\n",
    "fh_fa_l.close()\n",
    "fh_fa_r.close()"
   ]
  },
  {
   "cell_type": "markdown",
   "id": "aa93edbb",
   "metadata": {},
   "source": [
    "## Average read pair counts for BDC0, BDC1 and BDC2"
   ]
  },
  {
   "cell_type": "code",
   "execution_count": 76,
   "id": "1137341c",
   "metadata": {},
   "outputs": [],
   "source": [
    "import sys\n",
    "sys.path.append(\"../..\")\n",
    "from diachr import DiachromaticInteractionSet\n",
    "from diachr import BaitedDigest\n",
    "from diachr import BaitedDigestSet"
   ]
  },
  {
   "cell_type": "code",
   "execution_count": 79,
   "id": "fe121588",
   "metadata": {},
   "outputs": [],
   "source": [
    "CELL_TYPE_SHORT = 'MAC_M0'\n",
    "PROTOCOL = 'CHC'\n",
    "MIN_I_DIST = '20000'\n",
    "if PROTOCOL == 'CHC':\n",
    "    MIN_I_DIST = '20000'\n",
    "RPC_RULE = 'ht'\n",
    "FDR = '05'\n",
    "if PROTOCOL == 'CHC':\n",
    "    INTERACTION_FILE = '../../DICer_interactions/' + RPC_RULE.upper() + '/FDR0' + FDR + '/CHC/JAV_' + CELL_TYPE_SHORT + '_RALT_20000_' + RPC_RULE + '_fdr0.' + FDR + '_evaluated_and_categorized_interactions.tsv.gz'\n",
    "    OUT_PREFIX = 'JAV_' + CELL_TYPE_SHORT + '_CHC_RALT_' + MIN_I_DIST + '_' + RPC_RULE.lower()\n",
    "if PROTOCOL == 'HC_POOLED':\n",
    "    INTERACTION_FILE = '../../DICer_interactions/HT/FDR005/HC/20000/JAV_ALL_HC_RALL_ALT_20000_ht_fdr0.05_evaluated_and_categorized_interactions.tsv.gz'\n",
    "    OUT_PREFIX = 'JAV_' + 'POOLED_HC_FDR005' + '_HC_RALT_20000_' + RPC_RULE.lower()\n",
    "if PROTOCOL == 'HC':\n",
    "    INTERACTION_FILE = '../../DICer_interactions/' + RPC_RULE.upper() + '/FDR0' + FDR + '/HC/' + MIN_I_DIST + '/JAV_' + CELL_TYPE_SHORT + '_HC_RALT_' + MIN_I_DIST + '_' + RPC_RULE + '_fdr0.' + FDR + '_evaluated_and_categorized_interactions.tsv.gz'\n",
    "    OUT_PREFIX = 'JAV_' + CELL_TYPE_SHORT + '_HC_RALT_'  + MIN_I_DIST + '_' + RPC_RULE.lower()"
   ]
  },
  {
   "cell_type": "code",
   "execution_count": 80,
   "id": "2122e75e",
   "metadata": {},
   "outputs": [
    {
     "name": "stdout",
     "output_type": "stream",
     "text": [
      "[INFO] Parsing Diachromatic interaction file ...\n",
      "\t[INFO] ../../DICer_interactions/HT/FDR005/CHC/JAV_MAC_M0_RALT_20000_ht_fdr0.05_evaluated_and_categorized_interactions.tsv.gz\n",
      "\t[INFO] Parsed 1,000,000 interaction lines ...\n",
      "\t[INFO] Parsed 2,000,000 interaction lines ...\n",
      "\t[INFO] Parsed 3,000,000 interaction lines ...\n",
      "\t[INFO] Parsed 4,000,000 interaction lines ...\n",
      "\t[INFO] Parsed 5,000,000 interaction lines ...\n",
      "\t[INFO] Parsed 6,000,000 interaction lines ...\n",
      "\t[INFO] Parsed 7,000,000 interaction lines ...\n",
      "\t[INFO] Parsed 8,000,000 interaction lines ...\n",
      "\t[INFO] Parsed 9,000,000 interaction lines ...\n",
      "\t[INFO] Set size: 9,648,210\n",
      "[INFO] ... done.\n",
      "[INFO] Reading interactions and group them according to chromosomes and baited digests ...\n",
      "\t[INFO] Read 1,000,000 interactions ...\n",
      "\t[INFO] Read 2,000,000 interactions ...\n",
      "\t[INFO] Read 3,000,000 interactions ...\n",
      "\t[INFO] Read 4,000,000 interactions ...\n",
      "\t[INFO] Read 5,000,000 interactions ...\n",
      "\t[INFO] Read 6,000,000 interactions ...\n",
      "\t[INFO] Read 7,000,000 interactions ...\n",
      "\t[INFO] Read 8,000,000 interactions ...\n",
      "\t[INFO] Read 9,000,000 interactions ...\n",
      "\t[INFO] Total number of interactions read: 9,648,210\n",
      "\t[INFO] Total number of baited digests: 21,887\n",
      "[INFO] ... done.\n",
      "[INFO] Report on ingestion of interactions:\n",
      "\t[INFO] Total number of interactions read: 9,648,210\n",
      "\t[INFO] Discarded NN and EE interactions: 1,401,816\n",
      "\t[INFO] Total number of ingested NE and EN interactions: 8,246,394\n",
      "\t[INFO] Broken down by interaction category and enrichment status: \n",
      "\t\t[INFO] DIX: \n",
      "\t\t\t[INFO] NE: 556,116\n",
      "\t\t\t[INFO] EN: 561,099\n",
      "\t\t[INFO] DI: \n",
      "\t\t\t[INFO] NE: 1,493,382\n",
      "\t\t\t[INFO] EN: 1,491,985\n",
      "\t\t[INFO] UIR: \n",
      "\t\t\t[INFO] NE: 1,501,032\n",
      "\t\t\t[INFO] EN: 1,484,335\n",
      "\t\t[INFO] UI: \n",
      "\t\t\t[INFO] NE: 583,737\n",
      "\t\t\t[INFO] EN: 574,708\n",
      "\t\t[INFO] ALL: \n",
      "\t\t\t[INFO] NE: 4,134,267\n",
      "\t\t\t[INFO] EN: 4,112,127\n",
      "\t[INFO] Total number of baited digests: 21,887\n",
      "[INFO] End of report.\n",
      "\n"
     ]
    }
   ],
   "source": [
    "# Create DiachromaticInteractionSet\n",
    "d11_interaction_set = DiachromaticInteractionSet(rpc_rule = 'ht')\n",
    "d11_interaction_set.parse_file(\n",
    "    i_file = INTERACTION_FILE,\n",
    "    verbose = True)\n",
    "# Create BaitedDigestSet\n",
    "baited_digest_set = BaitedDigestSet()\n",
    "read_interactions_info_dict = baited_digest_set.ingest_interaction_set(d11_interaction_set, verbose=True)\n",
    "print(baited_digest_set.get_ingest_interaction_set_info_report())"
   ]
  },
  {
   "cell_type": "code",
   "execution_count": 81,
   "id": "48c17f9b",
   "metadata": {},
   "outputs": [],
   "source": [
    "# Get dictionaries with interaction, total read pair and maximum read pair numbers per baited digest\n",
    "BD_NUM_dict = {'BD_KEY': {'IMUM': None, 'RPNUM': None, 'RPMAX': None, 'RPMAX2': None, 'DI_FRAC': None}}\n",
    "for chrom in baited_digest_set._baited_digest_dict.keys():\n",
    "    for bd_key, baited_digest in baited_digest_set._baited_digest_dict[chrom].items():\n",
    "        \n",
    "        # Get list of all NE and EN interactions at this bait\n",
    "        interactions = baited_digest.interactions['ALL']['NE'] + baited_digest.interactions['ALL']['EN']\n",
    "\n",
    "        # Get lists of numbers for all interactions\n",
    "        rp_num_list = []\n",
    "        rp_max_list = []\n",
    "        p_max2_list = []\n",
    "        for d_inter in interactions:\n",
    "            rp_num_list.append(d_inter.rp_total)\n",
    "            rp_max = max([d_inter._simple_1, d_inter._simple_2, d_inter._twisted_1, d_inter._twisted_2])\n",
    "            rp_max_list.append(rp_max)\n",
    "            rp_max2 = max([d_inter._twisted_1, d_inter._twisted_2])\n",
    "            p_max2_list.append(rp_max2)\n",
    "        di_num = len(baited_digest.interactions['DIX']['NE'] + baited_digest.interactions['DIX']['EN'] +\n",
    "                     baited_digest.interactions['DI']['NE'] + baited_digest.interactions['DI']['EN'])\n",
    "        di_frac = di_num/len(interactions)\n",
    "            \n",
    "        # Store numbers in dictionary          \n",
    "        BD_NUM_dict[bd_key] = dict()\n",
    "        BD_NUM_dict[bd_key]['INUM'] = len(interactions)\n",
    "        BD_NUM_dict[bd_key]['RPNUM'] = sum(rp_num_list)\n",
    "        BD_NUM_dict[bd_key]['RPMAX'] = sum(rp_max_list)\n",
    "        BD_NUM_dict[bd_key]['RPMAX2'] = sum(p_max2_list)\n",
    "        BD_NUM_dict[bd_key]['DI_FRAC'] = di_frac"
   ]
  },
  {
   "cell_type": "code",
   "execution_count": 82,
   "id": "e1f94628",
   "metadata": {},
   "outputs": [
    {
     "name": "stdout",
     "output_type": "stream",
     "text": [
      "No NE or EN interactions at 168 of 22,055 baited digests!\n"
     ]
    }
   ],
   "source": [
    "# Collect numbers for baited digests\n",
    "NUM_PER_BD_dict = {\n",
    "    'BDC0': {'INUM': [], 'RPNUM': [], 'RPMAX': [], 'RPMAX2': [], 'DI_FRAC': []},\n",
    "    'BDC1': {'INUM': [], 'RPNUM': [], 'RPMAX': [], 'RPMAX2': [], 'DI_FRAC': []},\n",
    "    'BDC2': {'INUM': [], 'RPNUM': [], 'RPMAX': [], 'RPMAX2': [], 'DI_FRAC': []},\n",
    "}\n",
    "bd_without_interactions = 0\n",
    "for bd_key in DIGESTS_WITH_BAITS_DICT.keys():\n",
    "    \n",
    "    # No NE or EN interaction at this baited digest\n",
    "    if bd_key not in BD_NUM_dict:\n",
    "        bd_without_interactions += 1\n",
    "        continue\n",
    "        \n",
    "    bdc_key = 'BDC' + str(DIGESTS_WITH_BAITS_DICT[bd_key]['BDC'])\n",
    "    NUM_PER_BD_dict[bdc_key]['INUM'].append(BD_NUM_dict[bd_key]['INUM'])\n",
    "    NUM_PER_BD_dict[bdc_key]['RPNUM'].append(BD_NUM_dict[bd_key]['RPNUM'])\n",
    "    NUM_PER_BD_dict[bdc_key]['RPMAX'].append(BD_NUM_dict[bd_key]['RPMAX']) \n",
    "    NUM_PER_BD_dict[bdc_key]['RPMAX2'].append(BD_NUM_dict[bd_key]['RPMAX2'])\n",
    "    NUM_PER_BD_dict[bdc_key]['DI_FRAC'].append(BD_NUM_dict[bd_key]['DI_FRAC'])\n",
    "\n",
    "print('No NE or EN interactions at ' + '{:,}'.format(bd_without_interactions) + ' of ' + '{:,}'.format(len(DIGESTS_WITH_BAITS_DICT)) + ' baited digests!')"
   ]
  },
  {
   "cell_type": "markdown",
   "id": "6645ad00",
   "metadata": {},
   "source": [
    "### Interaction counts per baited digest"
   ]
  },
  {
   "cell_type": "code",
   "execution_count": 84,
   "id": "eb538423",
   "metadata": {
    "scrolled": true
   },
   "outputs": [
    {
     "data": {
      "image/png": "[encoded data removed]",
      "text/plain": [
       "<Figure size 540x216 with 2 Axes>"
      ]
     },
     "metadata": {},
     "output_type": "display_data"
    }
   ],
   "source": [
    "create_boxplot(\n",
    "    BDC0_L=NUM_PER_BD_dict['BDC0']['INUM'],\n",
    "    BDC0_R=NUM_PER_BD_dict['BDC0']['INUM'],\n",
    "    BDC1_L=NUM_PER_BD_dict['BDC1']['INUM'],\n",
    "    BDC1_R=NUM_PER_BD_dict['BDC1']['INUM'],\n",
    "    BDC2_L=NUM_PER_BD_dict['BDC2']['INUM'],\n",
    "    BDC2_R=NUM_PER_BD_dict['BDC2']['INUM'],\n",
    "    SHOWFLIERS = False,\n",
    "    TITLE='Interaction counts per baited digest',\n",
    "    XLABEL_L='Interaction count per digest',\n",
    "    XLABEL_R='Interaction count per digest',\n",
    "    OUTPUT_PDF=NOTEBOOK_RESULTS_DIR + '/' + OUT_PREFIX  + '_interaction_numbers_per_baited_digest.pdf')"
   ]
  },
  {
   "cell_type": "code",
   "execution_count": 85,
   "id": "e3072a0e",
   "metadata": {},
   "outputs": [
    {
     "name": "stdout",
     "output_type": "stream",
     "text": [
      "RanksumsResult(statistic=35.35921840155045, pvalue=7.2355312018058e-274)\n",
      "RanksumsResult(statistic=27.712759126561618, pvalue=4.9007554060213694e-169)\n",
      "RanksumsResult(statistic=-10.396075090408265, pvalue=2.5835677600920613e-25)\n",
      "RanksumsResult(statistic=36.51735917453514, pvalue=5.881189418668873e-292)\n"
     ]
    }
   ],
   "source": [
    "# Perform Wilcoxon rank-sum test on differences\n",
    "print(stats.ranksums(NUM_PER_BD_dict['BDC0']['INUM'], NUM_PER_BD_dict['BDC1']['INUM']))\n",
    "print(stats.ranksums(NUM_PER_BD_dict['BDC0']['INUM'], NUM_PER_BD_dict['BDC2']['INUM']))\n",
    "print(stats.ranksums(NUM_PER_BD_dict['BDC1']['INUM'], NUM_PER_BD_dict['BDC2']['INUM']))\n",
    "print(stats.ranksums(NUM_PER_BD_dict['BDC0']['INUM'], NUM_PER_BD_dict['BDC1']['INUM'] + NUM_PER_BD_dict['BDC2']['INUM']))"
   ]
  },
  {
   "cell_type": "markdown",
   "id": "6da2714e",
   "metadata": {},
   "source": [
    "Since we are not dealing with contnious variables, we use the Mann-Whitney U test. The rank-sum test does not handle ties between measurments."
   ]
  },
  {
   "cell_type": "code",
   "execution_count": 87,
   "id": "11e83fd2",
   "metadata": {},
   "outputs": [
    {
     "name": "stdout",
     "output_type": "stream",
     "text": [
      "MannwhitneyuResult(statistic=33432471.0, pvalue=7.22711784501159e-274)\n",
      "MannwhitneyuResult(statistic=38738077.5, pvalue=4.8975546527633133e-169)\n",
      "MannwhitneyuResult(statistic=21210377.0, pvalue=2.583165663142099e-25)\n",
      "MannwhitneyuResult(statistic=72170548.5, pvalue=5.873465005196994e-292)\n"
     ]
    }
   ],
   "source": [
    "# Perform Wilcoxon rank-sum test on differences\n",
    "print(stats.mannwhitneyu(NUM_PER_BD_dict['BDC0']['INUM'], NUM_PER_BD_dict['BDC1']['INUM']))\n",
    "print(stats.mannwhitneyu(NUM_PER_BD_dict['BDC0']['INUM'], NUM_PER_BD_dict['BDC2']['INUM']))\n",
    "print(stats.mannwhitneyu(NUM_PER_BD_dict['BDC1']['INUM'], NUM_PER_BD_dict['BDC2']['INUM']))\n",
    "print(stats.mannwhitneyu(NUM_PER_BD_dict['BDC0']['INUM'], NUM_PER_BD_dict['BDC1']['INUM'] + NUM_PER_BD_dict['BDC2']['INUM']))"
   ]
  },
  {
   "cell_type": "markdown",
   "id": "e69c0177",
   "metadata": {},
   "source": [
    "### Read pair counts per baited digest"
   ]
  },
  {
   "cell_type": "code",
   "execution_count": 88,
   "id": "7fd601a9",
   "metadata": {},
   "outputs": [
    {
     "data": {
      "image/png": "[encoded data removed]",
      "text/plain": [
       "<Figure size 540x216 with 2 Axes>"
      ]
     },
     "metadata": {},
     "output_type": "display_data"
    }
   ],
   "source": [
    "create_boxplot(\n",
    "    BDC0_L=NUM_PER_BD_dict['BDC0']['RPNUM'],\n",
    "    BDC0_R=NUM_PER_BD_dict['BDC0']['RPNUM'],\n",
    "    BDC1_L=NUM_PER_BD_dict['BDC1']['RPNUM'],\n",
    "    BDC1_R=NUM_PER_BD_dict['BDC1']['RPNUM'],\n",
    "    BDC2_L=NUM_PER_BD_dict['BDC2']['RPNUM'],\n",
    "    BDC2_R=NUM_PER_BD_dict['BDC2']['RPNUM'],\n",
    "    SHOWFLIERS = False,\n",
    "    TITLE='Total read pair counts per baited digest',\n",
    "    XLABEL_L='Read pair count per digest',\n",
    "    XLABEL_R='Read pair count per digest',\n",
    "    OUTPUT_PDF=NOTEBOOK_RESULTS_DIR + '/' + OUT_PREFIX  + '_total_read_pair_count_per_baited_digest.pdf')"
   ]
  },
  {
   "cell_type": "code",
   "execution_count": 89,
   "id": "a0f6a675",
   "metadata": {},
   "outputs": [
    {
     "name": "stdout",
     "output_type": "stream",
     "text": [
      "RanksumsResult(statistic=39.3455634523185, pvalue=0.0)\n",
      "RanksumsResult(statistic=30.29098781435959, pvalue=1.5066728445500422e-201)\n",
      "RanksumsResult(statistic=-12.158066899096239, pvalue=5.197404036994704e-34)\n",
      "RanksumsResult(statistic=40.28986633670664, pvalue=0.0)\n"
     ]
    }
   ],
   "source": [
    "# Perform Wilcoxon rank_sum test\n",
    "print(stats.ranksums(NUM_PER_BD_dict['BDC0']['RPNUM'], NUM_PER_BD_dict['BDC1']['RPNUM']))\n",
    "print(stats.ranksums(NUM_PER_BD_dict['BDC0']['RPNUM'], NUM_PER_BD_dict['BDC2']['RPNUM']))\n",
    "print(stats.ranksums(NUM_PER_BD_dict['BDC1']['RPNUM'], NUM_PER_BD_dict['BDC2']['RPNUM']))\n",
    "print(stats.ranksums(NUM_PER_BD_dict['BDC0']['RPNUM'], NUM_PER_BD_dict['BDC1']['RPNUM'] + NUM_PER_BD_dict['BDC2']['RPNUM']))"
   ]
  },
  {
   "cell_type": "code",
   "execution_count": 90,
   "id": "adaf6b8a",
   "metadata": {
    "scrolled": true
   },
   "outputs": [
    {
     "name": "stdout",
     "output_type": "stream",
     "text": [
      "MannwhitneyuResult(statistic=34400082.5, pvalue=0.0)\n",
      "MannwhitneyuResult(statistic=39471127.0, pvalue=1.506736003491314e-201)\n",
      "MannwhitneyuResult(statistic=20799052.0, pvalue=5.197534527170836e-34)\n",
      "MannwhitneyuResult(statistic=73871209.5, pvalue=0.0)\n"
     ]
    }
   ],
   "source": [
    "# Perform Wilcoxon rank-sum test on differences\n",
    "print(stats.mannwhitneyu(NUM_PER_BD_dict['BDC0']['RPNUM'], NUM_PER_BD_dict['BDC1']['RPNUM']))\n",
    "print(stats.mannwhitneyu(NUM_PER_BD_dict['BDC0']['RPNUM'], NUM_PER_BD_dict['BDC2']['RPNUM']))\n",
    "print(stats.mannwhitneyu(NUM_PER_BD_dict['BDC1']['RPNUM'], NUM_PER_BD_dict['BDC2']['RPNUM']))\n",
    "print(stats.mannwhitneyu(NUM_PER_BD_dict['BDC0']['RPNUM'], NUM_PER_BD_dict['BDC1']['RPNUM'] + NUM_PER_BD_dict['BDC2']['RPNUM']))"
   ]
  },
  {
   "cell_type": "markdown",
   "id": "23ed801d",
   "metadata": {},
   "source": [
    "### Maximum read pair counts per baited digest (`RPMAX`)"
   ]
  },
  {
   "cell_type": "code",
   "execution_count": 91,
   "id": "56c7de07",
   "metadata": {},
   "outputs": [
    {
     "data": {
      "image/png": "[encoded data removed]",
      "text/plain": [
       "<Figure size 540x216 with 2 Axes>"
      ]
     },
     "metadata": {},
     "output_type": "display_data"
    }
   ],
   "source": [
    "create_boxplot(\n",
    "    BDC0_L=NUM_PER_BD_dict['BDC0']['RPMAX'],\n",
    "    BDC0_R=NUM_PER_BD_dict['BDC0']['RPMAX'],\n",
    "    BDC1_L=NUM_PER_BD_dict['BDC1']['RPMAX'],\n",
    "    BDC1_R=NUM_PER_BD_dict['BDC1']['RPMAX'],\n",
    "    BDC2_L=NUM_PER_BD_dict['BDC2']['RPMAX'],\n",
    "    BDC2_R=NUM_PER_BD_dict['BDC2']['RPMAX'],\n",
    "    SHOWFLIERS = False,\n",
    "    TITLE='Maximum read pair count per baited digest (RPMAX)',\n",
    "    XLABEL_L='Maximum read pair count per digest',\n",
    "    XLABEL_R='Maximum read pair count per digest',\n",
    "    OUTPUT_PDF=NOTEBOOK_RESULTS_DIR + '/' + OUT_PREFIX  + '_maximum_read_pair_count_per_baited_digest_rpmax.pdf')"
   ]
  },
  {
   "cell_type": "code",
   "execution_count": 92,
   "id": "86afc9de",
   "metadata": {
    "scrolled": true
   },
   "outputs": [
    {
     "name": "stdout",
     "output_type": "stream",
     "text": [
      "RanksumsResult(statistic=19.0395542621724, pvalue=8.020730442599383e-81)\n",
      "RanksumsResult(statistic=8.280046605876958, pvalue=1.2312708309578333e-16)\n",
      "RanksumsResult(statistic=-11.21796025514711, pvalue=3.328592973857824e-29)\n",
      "RanksumsResult(statistic=15.47392615721552, pvalue=5.2034311689543833e-54)\n"
     ]
    }
   ],
   "source": [
    "# Perform Wilcoxon rank_sum test\n",
    "print(stats.ranksums(NUM_PER_BD_dict['BDC0']['RPMAX'], NUM_PER_BD_dict['BDC1']['RPMAX']))\n",
    "print(stats.ranksums(NUM_PER_BD_dict['BDC0']['RPMAX'], NUM_PER_BD_dict['BDC2']['RPMAX']))\n",
    "print(stats.ranksums(NUM_PER_BD_dict['BDC1']['RPMAX'], NUM_PER_BD_dict['BDC2']['RPMAX']))\n",
    "print(stats.ranksums(NUM_PER_BD_dict['BDC0']['RPMAX'], NUM_PER_BD_dict['BDC1']['RPMAX'] + NUM_PER_BD_dict['BDC2']['RPMAX']))"
   ]
  },
  {
   "cell_type": "markdown",
   "id": "d99ff7f1",
   "metadata": {},
   "source": [
    "### Maximum read pair counts of type `2` and `3` per baited digest (`RPMAX2`)"
   ]
  },
  {
   "cell_type": "code",
   "execution_count": 93,
   "id": "4bea2461",
   "metadata": {},
   "outputs": [
    {
     "data": {
      "image/png": "[encoded data removed]",
      "text/plain": [
       "<Figure size 540x216 with 2 Axes>"
      ]
     },
     "metadata": {},
     "output_type": "display_data"
    }
   ],
   "source": [
    "create_boxplot(\n",
    "    BDC0_L=NUM_PER_BD_dict['BDC0']['RPMAX2'],\n",
    "    BDC0_R=NUM_PER_BD_dict['BDC0']['RPMAX2'],\n",
    "    BDC1_L=NUM_PER_BD_dict['BDC1']['RPMAX2'],\n",
    "    BDC1_R=NUM_PER_BD_dict['BDC1']['RPMAX2'],\n",
    "    BDC2_L=NUM_PER_BD_dict['BDC2']['RPMAX2'],\n",
    "    BDC2_R=NUM_PER_BD_dict['BDC2']['RPMAX2'],\n",
    "    SHOWFLIERS = False,\n",
    "    TITLE='Normalized read pair counts per baited digest (RPMAX2)',\n",
    "    XLABEL_L='Normalized read pair counts per digest',\n",
    "    XLABEL_R='Normalized read pair counts per digest',\n",
    "    OUTPUT_PDF=NOTEBOOK_RESULTS_DIR + '/' + OUT_PREFIX  + '_normalized_read_pair_count_per_baited_digest_rpmax2.pdf')"
   ]
  },
  {
   "cell_type": "code",
   "execution_count": 94,
   "id": "4976799a",
   "metadata": {},
   "outputs": [
    {
     "name": "stdout",
     "output_type": "stream",
     "text": [
      "RanksumsResult(statistic=23.27591631056394, pvalue=7.775853294769069e-120)\n",
      "RanksumsResult(statistic=13.523577511464827, pvalue=1.135182477432241e-41)\n",
      "RanksumsResult(statistic=-10.772247972387076, pvalue=4.654946284297715e-27)\n",
      "RanksumsResult(statistic=21.06206417758911, pvalue=1.772797610299642e-98)\n"
     ]
    }
   ],
   "source": [
    "# Perform Wilcoxon rank_sum test\n",
    "print(stats.ranksums(NUM_PER_BD_dict['BDC0']['RPMAX2'], NUM_PER_BD_dict['BDC1']['RPMAX2']))\n",
    "print(stats.ranksums(NUM_PER_BD_dict['BDC0']['RPMAX2'], NUM_PER_BD_dict['BDC2']['RPMAX2']))\n",
    "print(stats.ranksums(NUM_PER_BD_dict['BDC1']['RPMAX2'], NUM_PER_BD_dict['BDC2']['RPMAX2']))\n",
    "print(stats.ranksums(NUM_PER_BD_dict['BDC0']['RPMAX2'], NUM_PER_BD_dict['BDC1']['RPMAX2'] + NUM_PER_BD_dict['BDC2']['RPMAX2']))"
   ]
  },
  {
   "cell_type": "markdown",
   "id": "f8490d61",
   "metadata": {},
   "source": [
    "### Percentage of unbalanced interactions associated with baited digests of BCD0, BDC1 and BDC2 (`DI_FRAC`)"
   ]
  },
  {
   "cell_type": "code",
   "execution_count": 95,
   "id": "5e86a7ee",
   "metadata": {},
   "outputs": [
    {
     "data": {
      "image/png": "[encoded data removed]",
      "text/plain": [
       "<Figure size 540x216 with 2 Axes>"
      ]
     },
     "metadata": {},
     "output_type": "display_data"
    }
   ],
   "source": [
    "create_boxplot(\n",
    "    BDC0_L=NUM_PER_BD_dict['BDC0']['DI_FRAC'],\n",
    "    BDC0_R=NUM_PER_BD_dict['BDC0']['DI_FRAC'],\n",
    "    BDC1_L=NUM_PER_BD_dict['BDC1']['DI_FRAC'],\n",
    "    BDC1_R=NUM_PER_BD_dict['BDC1']['DI_FRAC'],\n",
    "    BDC2_L=NUM_PER_BD_dict['BDC2']['DI_FRAC'],\n",
    "    BDC2_R=NUM_PER_BD_dict['BDC2']['DI_FRAC'],\n",
    "    SHOWFLIERS = False,\n",
    "    TITLE='Percentage of unbalanced interactions per baited digest',\n",
    "    XLABEL_L='Percentage of unbalanced interactions',\n",
    "    XLABEL_R='Percentage of unbalanced interactions',\n",
    "    OUTPUT_PDF=NOTEBOOK_RESULTS_DIR + '/' + OUT_PREFIX  + '_percentage_of_unbalanced_interactions_di_frac.pdf')"
   ]
  },
  {
   "cell_type": "code",
   "execution_count": 96,
   "id": "4852097b",
   "metadata": {},
   "outputs": [
    {
     "name": "stdout",
     "output_type": "stream",
     "text": [
      "RanksumsResult(statistic=-93.92901754648717, pvalue=0.0)\n",
      "RanksumsResult(statistic=-96.47633344024634, pvalue=0.0)\n",
      "RanksumsResult(statistic=9.829022796773874, pvalue=8.44340675711248e-23)\n",
      "RanksumsResult(statistic=-111.42308611731741, pvalue=0.0)\n"
     ]
    }
   ],
   "source": [
    "# Perform Wilcoxon rank_sum test\n",
    "print(stats.ranksums(NUM_PER_BD_dict['BDC0']['DI_FRAC'], NUM_PER_BD_dict['BDC1']['DI_FRAC']))\n",
    "print(stats.ranksums(NUM_PER_BD_dict['BDC0']['DI_FRAC'], NUM_PER_BD_dict['BDC2']['DI_FRAC']))\n",
    "print(stats.ranksums(NUM_PER_BD_dict['BDC1']['DI_FRAC'], NUM_PER_BD_dict['BDC2']['DI_FRAC']))\n",
    "print(stats.ranksums(NUM_PER_BD_dict['BDC0']['DI_FRAC'], NUM_PER_BD_dict['BDC1']['DI_FRAC'] + NUM_PER_BD_dict['BDC2']['DI_FRAC']))"
   ]
  }
 ],
 "metadata": {
  "kernelspec": {
   "display_name": "diachrscripts",
   "language": "python",
   "name": "diachrscripts"
  },
  "language_info": {
   "codemirror_mode": {
    "name": "ipython",
    "version": 3
   },
   "file_extension": ".py",
   "mimetype": "text/x-python",
   "name": "python",
   "nbconvert_exporter": "python",
   "pygments_lexer": "ipython3",
   "version": "3.7.11"
  }
 },
 "nbformat": 4,
 "nbformat_minor": 5
}
