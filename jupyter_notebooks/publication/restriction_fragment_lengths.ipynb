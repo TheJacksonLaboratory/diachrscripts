{
 "cells": [
  {
   "cell_type": "code",
   "execution_count": 1,
   "id": "2e6b1654",
   "metadata": {},
   "outputs": [],
   "source": [
    "import sys\n",
    "import os\n",
    "sys.path.append(\"../..\")\n",
    "from diachr import DiachromaticInteractionSet\n",
    "import numpy as np\n",
    "from scipy import stats\n",
    "import matplotlib.pyplot as plt\n",
    "\n",
    "# Create directory for output files generated in this notebook \n",
    "NOTEBOOK_RESULTS_DIR = 'fragment_length_results'\n",
    "%mkdir -p $NOTEBOOK_RESULTS_DIR"
   ]
  },
  {
   "cell_type": "code",
   "execution_count": 42,
   "id": "19e08bb9",
   "metadata": {},
   "outputs": [],
   "source": [
    "AUTHOR_SHORT = 'SCH' # JAV, MIF, SCH or MON\n",
    "PROTOCOL = 'CHC' # HC or CHC\n",
    "CELL_TYPE_SHORT = 'MESC' # GM12878, MK, ERY, NEU, MON, MAC_M0, ..., MESC, MFLC, MESC_R1B, CM, IPSC\n",
    "OUT_PREFIX = AUTHOR_SHORT + '_' + CELL_TYPE_SHORT + '_' + PROTOCOL +'_REPC'\n",
    "INTERACTION_FILE = '../../UICer_interactions/' + PROTOCOL + '/' + OUT_PREFIX + '_evaluated_and_categorized_interactions.tsv.gz'"
   ]
  },
  {
   "cell_type": "code",
   "execution_count": 43,
   "id": "a99b6f8b",
   "metadata": {},
   "outputs": [
    {
     "name": "stdout",
     "output_type": "stream",
     "text": [
      "[INFO] Parsing Diachromatic interaction file ...\n",
      "\t[INFO] ../../UICer_interactions/CHC/SCH_MESC_CHC_REPC_evaluated_and_categorized_interactions.tsv.gz\n",
      "\t[INFO] Set size: 992,329\n",
      "[INFO] ... done.\n"
     ]
    }
   ],
   "source": [
    "# Create DiachromaticInteractionSet\n",
    "d11_interaction_set = DiachromaticInteractionSet()\n",
    "d11_interaction_set.parse_file(\n",
    "    i_file = INTERACTION_FILE,\n",
    "    verbose = True)"
   ]
  },
  {
   "cell_type": "code",
   "execution_count": 44,
   "id": "72f52d8f",
   "metadata": {},
   "outputs": [],
   "source": [
    "di_flen_list = list()\n",
    "uir_flen_list = list()\n",
    "for d_inter in d11_interaction_set.interaction_list:\n",
    "    len_5_frag = d_inter.toA - d_inter.fromA\n",
    "    len_3_frag = d_inter.toB - d_inter.fromB\n",
    "    if d_inter.get_category() == 'DI' or d_inter.get_category() == 'DIX':\n",
    "        di_flen_list.append(len_5_frag)\n",
    "        di_flen_list.append(len_3_frag)\n",
    "    if d_inter.get_category() == 'UIR' or d_inter.get_category() == 'UI':\n",
    "        uir_flen_list.append(len_5_frag)\n",
    "        uir_flen_list.append(len_3_frag)"
   ]
  },
  {
   "cell_type": "code",
   "execution_count": 45,
   "id": "1ef50b4a",
   "metadata": {},
   "outputs": [
    {
     "name": "stdout",
     "output_type": "stream",
     "text": [
      "5741.948846349635\n",
      "5550.105030883077\n"
     ]
    }
   ],
   "source": [
    "print(np.mean(di_flen_list))\n",
    "print(np.mean(uir_flen_list))"
   ]
  },
  {
   "cell_type": "code",
   "execution_count": 46,
   "id": "70e7d6ed",
   "metadata": {
    "scrolled": false
   },
   "outputs": [
    {
     "name": "stdout",
     "output_type": "stream",
     "text": [
      "MannwhitneyuResult(statistic=388801700275.5, pvalue=0.0)\n"
     ]
    }
   ],
   "source": [
    "print(stats.mannwhitneyu(di_flen_list, uir_flen_list, alternative='two-sided'))"
   ]
  },
  {
   "cell_type": "code",
   "execution_count": 48,
   "id": "9fa59f15",
   "metadata": {},
   "outputs": [
    {
     "data": {
      "image/png": "[encoded data removed]",
      "text/plain": [
       "<Figure size 612x216 with 2 Axes>"
      ]
     },
     "metadata": {
      "needs_background": "light"
     },
     "output_type": "display_data"
    }
   ],
   "source": [
    "create_rfl_boxplot(\n",
    "    u_list=di_flen_list,\n",
    "    b_list=uir_flen_list,\n",
    "    showfliers=False,\n",
    "    title='Fragments involved in interactions',\n",
    "    xlabel='Fragment length',\n",
    "    output_pdf=NOTEBOOK_RESULTS_DIR + '/' + OUT_PREFIX  + '_restriction_fragment_lengths.pdf')"
   ]
  },
  {
   "cell_type": "code",
   "execution_count": 24,
   "id": "64e6877c",
   "metadata": {},
   "outputs": [],
   "source": [
    "di_flen_diff_list = list()\n",
    "uir_flen_diff_list = list()\n",
    "for d_inter in d11_interaction_set.interaction_list:\n",
    "    len_5_frag = d_inter.toA - d_inter.fromA\n",
    "    len_3_frag = d_inter.toB - d_inter.fromB\n",
    "    len_5_3_diff = abs(len_5_frag - len_3_frag)\n",
    "    if d_inter.get_category() == 'DI' or d_inter.get_category() == 'DIX':\n",
    "        di_flen_diff_list.append(len_5_3_diff)\n",
    "    if d_inter.get_category() == 'UIR' or d_inter.get_category() == 'UI':\n",
    "        uir_flen_diff_list.append(len_5_3_diff)"
   ]
  },
  {
   "cell_type": "code",
   "execution_count": 25,
   "id": "5ce72c32",
   "metadata": {
    "scrolled": true
   },
   "outputs": [
    {
     "name": "stdout",
     "output_type": "stream",
     "text": [
      "4629.067869446319\n",
      "4601.915641290756\n"
     ]
    }
   ],
   "source": [
    "print(np.mean(di_flen_diff_list))\n",
    "print(np.mean(uir_flen_diff_list))"
   ]
  },
  {
   "cell_type": "code",
   "execution_count": 26,
   "id": "50566010",
   "metadata": {
    "scrolled": true
   },
   "outputs": [
    {
     "name": "stdout",
     "output_type": "stream",
     "text": [
      "MannwhitneyuResult(statistic=94082148631.0, pvalue=0.0002425137953372552)\n"
     ]
    }
   ],
   "source": [
    "print(stats.mannwhitneyu(di_flen_diff_list, uir_flen_diff_list, alternative='two-sided'))"
   ]
  },
  {
   "cell_type": "code",
   "execution_count": 27,
   "id": "934f386b",
   "metadata": {},
   "outputs": [
    {
     "data": {
      "image/png": "[encoded data removed]",
      "text/plain": [
       "<Figure size 612x216 with 2 Axes>"
      ]
     },
     "metadata": {
      "needs_background": "light"
     },
     "output_type": "display_data"
    }
   ],
   "source": [
    "create_rfl_boxplot(\n",
    "    u_list=di_flen_diff_list,\n",
    "    b_list=uir_flen_diff_list,\n",
    "    showfliers=False,\n",
    "    title='Differences in fragment length',\n",
    "    xlabel='Fragment length difference',\n",
    "    output_pdf=NOTEBOOK_RESULTS_DIR + '/' + OUT_PREFIX  + '_restriction_fragment_lengths_diff.pdf')"
   ]
  },
  {
   "cell_type": "code",
   "execution_count": 28,
   "id": "c936b146",
   "metadata": {},
   "outputs": [],
   "source": [
    "di_flen_max_list = list()\n",
    "uir_flen_max_list = list()\n",
    "for d_inter in d11_interaction_set.interaction_list:\n",
    "    len_5_frag = d_inter.toA - d_inter.fromA\n",
    "    len_3_frag = d_inter.toB - d_inter.fromB\n",
    "    len_5_3_max = max(len_5_frag,len_3_frag)\n",
    "    if d_inter.get_category() == 'DI' or d_inter.get_category() == 'DIX':\n",
    "        di_flen_max_list.append(len_5_3_max)\n",
    "    if d_inter.get_category() == 'UIR' or d_inter.get_category() == 'UI':\n",
    "        uir_flen_max_list.append(len_5_3_max)"
   ]
  },
  {
   "cell_type": "code",
   "execution_count": 29,
   "id": "378637f3",
   "metadata": {},
   "outputs": [
    {
     "name": "stdout",
     "output_type": "stream",
     "text": [
      "8056.482781072794\n",
      "7851.062851528455\n"
     ]
    }
   ],
   "source": [
    "print(np.mean(di_flen_max_list))\n",
    "print(np.mean(uir_flen_max_list))"
   ]
  },
  {
   "cell_type": "code",
   "execution_count": 30,
   "id": "01ee59c7",
   "metadata": {},
   "outputs": [
    {
     "name": "stdout",
     "output_type": "stream",
     "text": [
      "MannwhitneyuResult(statistic=97048929467.0, pvalue=1.2728841631141498e-166)\n"
     ]
    }
   ],
   "source": [
    "print(stats.mannwhitneyu(di_flen_max_list, uir_flen_max_list, alternative='two-sided'))"
   ]
  },
  {
   "cell_type": "code",
   "execution_count": 32,
   "id": "f0641215",
   "metadata": {},
   "outputs": [
    {
     "data": {
      "image/png": "[encoded data removed]",
      "text/plain": [
       "<Figure size 612x216 with 2 Axes>"
      ]
     },
     "metadata": {
      "needs_background": "light"
     },
     "output_type": "display_data"
    }
   ],
   "source": [
    "create_rfl_boxplot(\n",
    "    u_list=di_flen_max_list,\n",
    "    b_list=uir_flen_max_list,\n",
    "    showfliers=False,\n",
    "    title='Maximum fragment lengths',\n",
    "    xlabel='Maximum fragment length',\n",
    "    output_pdf=NOTEBOOK_RESULTS_DIR + '/' + OUT_PREFIX  + '_restriction_fragment_lengths_max.pdf')"
   ]
  },
  {
   "cell_type": "code",
   "execution_count": 33,
   "id": "154bf412",
   "metadata": {},
   "outputs": [],
   "source": [
    "di_flen_min_list = list()\n",
    "uir_flen_min_list = list()\n",
    "for d_inter in d11_interaction_set.interaction_list:\n",
    "    len_5_frag = d_inter.toA - d_inter.fromA\n",
    "    len_3_frag = d_inter.toB - d_inter.fromB\n",
    "    len_5_3_min = min(len_5_frag,len_3_frag)\n",
    "    if d_inter.get_category() == 'DI' or d_inter.get_category() == 'DIX':\n",
    "        di_flen_min_list.append(len_5_3_min)\n",
    "    if d_inter.get_category() == 'UIR' or d_inter.get_category() == 'UI':\n",
    "        uir_flen_min_list.append(len_5_3_min)"
   ]
  },
  {
   "cell_type": "code",
   "execution_count": 34,
   "id": "5bcc91fa",
   "metadata": {},
   "outputs": [
    {
     "name": "stdout",
     "output_type": "stream",
     "text": [
      "3427.4149116264753\n",
      "3249.1472102376997\n"
     ]
    }
   ],
   "source": [
    "print(np.mean(di_flen_min_list))\n",
    "print(np.mean(uir_flen_min_list))"
   ]
  },
  {
   "cell_type": "code",
   "execution_count": 35,
   "id": "bc16589f",
   "metadata": {
    "scrolled": true
   },
   "outputs": [
    {
     "name": "stdout",
     "output_type": "stream",
     "text": [
      "MannwhitneyuResult(statistic=99123536357.5, pvalue=0.0)\n"
     ]
    }
   ],
   "source": [
    "print(stats.mannwhitneyu(di_flen_min_list, uir_flen_min_list, alternative='two-sided'))"
   ]
  },
  {
   "cell_type": "code",
   "execution_count": 37,
   "id": "1f4a500e",
   "metadata": {},
   "outputs": [
    {
     "data": {
      "image/png": "[encoded data removed]",
      "text/plain": [
       "<Figure size 612x216 with 2 Axes>"
      ]
     },
     "metadata": {
      "needs_background": "light"
     },
     "output_type": "display_data"
    }
   ],
   "source": [
    "create_rfl_boxplot(\n",
    "    u_list=di_flen_min_list,\n",
    "    b_list=uir_flen_min_list,\n",
    "    showfliers=False,\n",
    "    title='Minimum fragment lengths',\n",
    "    xlabel='Minimum fragment length',\n",
    "    output_pdf=NOTEBOOK_RESULTS_DIR + '/' + OUT_PREFIX  + '_restriction_fragment_lengths_min.pdf')"
   ]
  },
  {
   "cell_type": "code",
   "execution_count": 8,
   "id": "5dd39908",
   "metadata": {},
   "outputs": [],
   "source": [
    "def create_rfl_boxplot(\n",
    "    u_list=None, # BDC0 5' bait\n",
    "    b_list=None, # BDC0 3' bait\n",
    "    showfliers = True,\n",
    "    title='TITEL',\n",
    "    xlabel='XLAB_L',\n",
    "    output_pdf='OUT.pdf'):\n",
    "\n",
    "    # Set up figure\n",
    "    fig, (ax1, ax2) = plt.subplots(1,2)\n",
    "    box_width = 0.5\n",
    "    ax1.set_title(title, loc='left')\n",
    "    \n",
    "    # Determine range to be displayed    \n",
    "    xmin = min(u_list + b_list)\n",
    "    xmax = max(u_list + b_list)\n",
    "    padding = (xmax-xmin)/30\n",
    "    xmin = xmin - padding\n",
    "    xmax = xmax + padding        \n",
    "\n",
    "    # Create boxplots for 5' baits (left)\n",
    "    bp1 = ax1.boxplot(\n",
    "        [u_list, b_list],\n",
    "        widths=(box_width, box_width),\n",
    "        patch_artist=True,\n",
    "        labels=['Unbalanced\\nn=' + '{:,}'.format(len(u_list)),\n",
    "                'Balanced\\nn=' + '{:,}'.format(len(b_list))],\n",
    "        vert=False,\n",
    "        showfliers=showfliers\n",
    "    )\n",
    "    colors = ['orange', 'lightblue']\n",
    "    for patch, color in zip(bp1['boxes'], colors):\n",
    "        patch.set_facecolor(color)\n",
    "    ax1.set_xlabel(xlabel)\n",
    "    \n",
    "    # Highlight the area between the first and the third quantiles of the 5' distances of BDC0 in gray\n",
    "    shaded_q1, shaded_q2, shaded_q3 = np.quantile(b_list, [0.25, 0.50, 0.75])\n",
    "    ax1.axvspan(shaded_q1, shaded_q3, facecolor='gray', alpha=0.2)\n",
    "    ax1.axvline(shaded_q2, color='lightgray', zorder=0)\n",
    "\n",
    "\n",
    "    # Set limits of the x-axes\n",
    "    #if showfliers is False:\n",
    "    xmin_1, xmax_1 = ax1.get_xlim()\n",
    "    xmin = min([xmin_1, xmax_1])\n",
    "    xmax = max([xmin_1, xmax_1])\n",
    "    ax1.set_xlim(xmin,xmax)\n",
    "    padding = (xmax-xmin)/30\n",
    "    xmin = xmin - padding\n",
    "    xmax = xmax + padding\n",
    "\n",
    "    # Format figure and write to PDF file\n",
    "    fig.set_figheight(3)\n",
    "    fig.set_figwidth(8.5)#7.5\n",
    "    fig.tight_layout()\n",
    "    fig.savefig(output_pdf)"
   ]
  },
  {
   "cell_type": "code",
   "execution_count": 52,
   "id": "67c26354",
   "metadata": {},
   "outputs": [
    {
     "data": {
      "text/plain": [
       "35.268"
      ]
     },
     "execution_count": 52,
     "metadata": {},
     "output_type": "execute_result"
    }
   ],
   "source": [
    "34+(69.268-68.000)"
   ]
  }
 ],
 "metadata": {
  "kernelspec": {
   "display_name": "diachrscripts",
   "language": "python",
   "name": "diachrscripts"
  },
  "language_info": {
   "codemirror_mode": {
    "name": "ipython",
    "version": 3
   },
   "file_extension": ".py",
   "mimetype": "text/x-python",
   "name": "python",
   "nbconvert_exporter": "python",
   "pygments_lexer": "ipython3",
   "version": "3.7.11"
  }
 },
 "nbformat": 4,
 "nbformat_minor": 5
}
