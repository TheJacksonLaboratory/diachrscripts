{
 "cells": [
  {
   "cell_type": "code",
   "execution_count": 1,
   "metadata": {},
   "outputs": [],
   "source": [
    "import sys\n",
    "import os\n",
    "import matplotlib.pyplot as plt\n",
    "sys.path.append(\"../..\")\n",
    "from diachr import DiachromaticInteractionSet\n",
    "from diachr import IaFreqDistAnalysis\n",
    "from diachr import IaFreqDistAnalysis_2\n",
    "\n",
    "# Create directory for output files generated in this notebook \n",
    "NOTEBOOK_RESULTS_DIR = 'distance_dependent_interaction_frequencies_results/rp_count_dist_tables'\n",
    "%mkdir -p $NOTEBOOK_RESULTS_DIR"
   ]
  },
  {
   "cell_type": "markdown",
   "metadata": {},
   "source": [
    "# Writing out the results for one cell type in one table row\n",
    "\n",
    "The function `ia_freq_dist_analysis.write_num_table()` can be used to export all values that are shown in the top right of the histograms to two tab separated files, one file for read pair counts and one file for interaction distances. The first column contains descriptions of the rows (`DESCRIPTION`). The second column a short description (`DESCRIPTION_SHORT`).  This is followed by 60 columns, which result from the five interaction categories (`DIX`, `DI`, `UIR`, `UI`, `ALL`), four enrichment categories (`NN`, `NE`, `EN`, `EE`) and three meassured values (`N`, `MED`, `MAD`). `N` stands for the number of interactions and is identical in both tables. The last column indicates which chromosomes were taken into account (`CHROMS`). This gives a total of 63 columns.\n",
    "\n",
    "```\n",
    "DESCRIPTION   ...                           # MA_M1_RP_NUM_CHR21 or MA_M1_RP_NUM_CHR_ALL\n",
    "\n",
    "DESCRIPTION_SHORT   ...                     # MA_M1\n",
    "\n",
    "DIX_NN_N   DIX_NN_MED   DIX_NN_MAD   ...\n",
    "DIX_NE_N   DIX_NE_MED   DIX_NE_MAD   ...\n",
    "DIX_EN_N   DIX_EN_MED   DIX_EN_MAD   ...\n",
    "DIX_EE_N   DIX_EE_MED   DIX_EE_MAD   ...\n",
    "...\n",
    "DI_NN_N   DI_EN_MED   DI_NN_MAD   ...\n",
    "...\n",
    "UIR_NN_N   UIR_EN_MED   UIR_NN_MAD   ...\n",
    "...\n",
    "UI_NN_N   UI_EN_MED   UI_NN_MAD   ...\n",
    "...\n",
    "ALL_NN_N   ALL_NN_MED   ALL_NN_MAD   ...\n",
    "ALL_NE_N   ALL_NE_MED   ALL_NE_MAD   ...\n",
    "ALL_EN_N   ALL_EN_MED   ALL_EN_MAD   ...\n",
    "ALL_EE_N   ALL_EE_MED   ALL_EE_MAD\n",
    "\n",
    "CHROMS                                       # ['chr21'] or ['chr21','chr22']\n",
    "\n",
    "```\n",
    "There is one row per chromosome and another row for all chromosomes."
   ]
  },
  {
   "cell_type": "markdown",
   "metadata": {},
   "source": [
    "In the following cell we perform the analysis with the distance-dependent interaction frequencies for all 17 cell types. However, we do not generate histograms, but export the counts and distances to tables."
   ]
  },
  {
   "cell_type": "code",
   "execution_count": 2,
   "metadata": {},
   "outputs": [
    {
     "name": "stdout",
     "output_type": "stream",
     "text": [
      "MK\n",
      "\tPreparing data...\n",
      "\tCollecting read pair counts and distances...\n",
      "\tWriting 'RP_TOTAL' table row...\n",
      "\tRe-selecting reference sets...\n",
      "\tCollecting read pair counts and distances...\n",
      "\tWriting 'RP_MAX' table row...\n",
      "ERY\n",
      "\tPreparing data...\n",
      "\tCollecting read pair counts and distances...\n",
      "\tWriting 'RP_TOTAL' table row...\n",
      "\tRe-selecting reference sets...\n",
      "\tCollecting read pair counts and distances...\n",
      "\tWriting 'RP_MAX' table row...\n",
      "NEU\n",
      "\tPreparing data...\n",
      "\tCollecting read pair counts and distances...\n",
      "\tWriting 'RP_TOTAL' table row...\n",
      "\tRe-selecting reference sets...\n",
      "\tCollecting read pair counts and distances...\n",
      "\tWriting 'RP_MAX' table row...\n",
      "MON\n",
      "\tPreparing data...\n",
      "\tCollecting read pair counts and distances...\n",
      "\tWriting 'RP_TOTAL' table row...\n",
      "\tRe-selecting reference sets...\n",
      "\tCollecting read pair counts and distances...\n",
      "\tWriting 'RP_MAX' table row...\n",
      "MAC_M0\n",
      "\tPreparing data...\n",
      "\tCollecting read pair counts and distances...\n",
      "\tWriting 'RP_TOTAL' table row...\n",
      "\tRe-selecting reference sets...\n",
      "\tCollecting read pair counts and distances...\n",
      "\tWriting 'RP_MAX' table row...\n",
      "MAC_M1\n",
      "\tPreparing data...\n",
      "\tCollecting read pair counts and distances...\n",
      "\tWriting 'RP_TOTAL' table row...\n",
      "\tRe-selecting reference sets...\n",
      "\tCollecting read pair counts and distances...\n",
      "\tWriting 'RP_MAX' table row...\n",
      "MAC_M2\n",
      "\tPreparing data...\n",
      "\tCollecting read pair counts and distances...\n",
      "\tWriting 'RP_TOTAL' table row...\n",
      "\tRe-selecting reference sets...\n",
      "\tCollecting read pair counts and distances...\n",
      "\tWriting 'RP_MAX' table row...\n",
      "EP\n",
      "\tPreparing data...\n",
      "\tCollecting read pair counts and distances...\n",
      "\tWriting 'RP_TOTAL' table row...\n",
      "\tRe-selecting reference sets...\n",
      "\tCollecting read pair counts and distances...\n",
      "\tWriting 'RP_MAX' table row...\n",
      "NB\n",
      "\tPreparing data...\n",
      "\tCollecting read pair counts and distances...\n",
      "\tWriting 'RP_TOTAL' table row...\n",
      "\tRe-selecting reference sets...\n",
      "\tCollecting read pair counts and distances...\n",
      "\tWriting 'RP_MAX' table row...\n",
      "TB\n",
      "\tPreparing data...\n",
      "\tCollecting read pair counts and distances...\n",
      "\tWriting 'RP_TOTAL' table row...\n",
      "\tRe-selecting reference sets...\n",
      "\tCollecting read pair counts and distances...\n",
      "\tWriting 'RP_MAX' table row...\n",
      "FOET\n",
      "\tPreparing data...\n",
      "\tCollecting read pair counts and distances...\n",
      "\tWriting 'RP_TOTAL' table row...\n",
      "\tRe-selecting reference sets...\n",
      "\tCollecting read pair counts and distances...\n",
      "\tWriting 'RP_MAX' table row...\n",
      "NCD4\n",
      "\tPreparing data...\n",
      "\tCollecting read pair counts and distances...\n",
      "\tWriting 'RP_TOTAL' table row...\n",
      "\tRe-selecting reference sets...\n",
      "\tCollecting read pair counts and distances...\n",
      "\tWriting 'RP_MAX' table row...\n",
      "TCD4\n",
      "\tPreparing data...\n",
      "\tCollecting read pair counts and distances...\n",
      "\tWriting 'RP_TOTAL' table row...\n",
      "\tRe-selecting reference sets...\n",
      "\tCollecting read pair counts and distances...\n",
      "\tWriting 'RP_MAX' table row...\n",
      "NACD4\n",
      "\tPreparing data...\n",
      "\tCollecting read pair counts and distances...\n",
      "\tWriting 'RP_TOTAL' table row...\n",
      "\tRe-selecting reference sets...\n",
      "\tCollecting read pair counts and distances...\n",
      "\tWriting 'RP_MAX' table row...\n",
      "ACD4\n",
      "\tPreparing data...\n",
      "\tCollecting read pair counts and distances...\n",
      "\tWriting 'RP_TOTAL' table row...\n",
      "\tRe-selecting reference sets...\n",
      "\tCollecting read pair counts and distances...\n",
      "\tWriting 'RP_MAX' table row...\n",
      "NCD8\n",
      "\tPreparing data...\n",
      "\tCollecting read pair counts and distances...\n",
      "\tWriting 'RP_TOTAL' table row...\n",
      "\tRe-selecting reference sets...\n",
      "\tCollecting read pair counts and distances...\n",
      "\tWriting 'RP_MAX' table row...\n",
      "TCD8\n",
      "\tPreparing data...\n",
      "\tCollecting read pair counts and distances...\n",
      "\tWriting 'RP_TOTAL' table row...\n",
      "\tRe-selecting reference sets...\n",
      "\tCollecting read pair counts and distances...\n",
      "\tWriting 'RP_MAX' table row...\n"
     ]
    }
   ],
   "source": [
    "AUTHOR = 'JAV' # MIF or JAV\n",
    "PROTOCOL = 'CHC' # HC or CHC\n",
    "for CELL_TYPE_SHORT in ['MK', 'ERY', 'NEU', 'MON', 'MAC_M0', 'MAC_M1', 'MAC_M2', 'EP', 'NB', 'TB', 'FOET', 'NCD4', 'TCD4', 'NACD4', 'ACD4', 'NCD8', 'TCD8']:\n",
    "    \n",
    "    # Select cell type\n",
    "    print(CELL_TYPE_SHORT)\n",
    "    OUT_PREFIX = AUTHOR + '_' + CELL_TYPE_SHORT + '_' + PROTOCOL +'_REPC'\n",
    "    INTERACTION_FILE = '../../UICer_interactions/' + PROTOCOL + '/' + OUT_PREFIX + '_evaluated_and_categorized_interactions.tsv.gz'\n",
    "    \n",
    "    # Create DiachromaticInteractionSet and IaFreqDistAnalysis object\n",
    "    print('\\t' + 'Preparing data...')\n",
    "    d11_interaction_set = DiachromaticInteractionSet()\n",
    "    d11_interaction_set.parse_file(\n",
    "        i_file = INTERACTION_FILE,\n",
    "        verbose = False)\n",
    "    ia_freq_dist_analysis = IaFreqDistAnalysis()\n",
    "    report_dict = ia_freq_dist_analysis.ingest_interaction_set(\n",
    "        d11_inter_set = d11_interaction_set,\n",
    "        verbose = False)\n",
    "    \n",
    "    # Collect read pair counts and distances\n",
    "    print('\\t' + 'Collecting read pair counts and distances...')\n",
    "    rp_num_dict, i_dist_dict = ia_freq_dist_analysis.get_all_rp_nums_and_i_dists(verbose = False)\n",
    "    \n",
    "    # Write 'RP_TOTAL' table row\n",
    "    print('\\t' + 'Writing \\'RP_TOTAL\\' table row...')\n",
    "    ia_freq_dist_analysis.write_num_table(\n",
    "        out_prefix = NOTEBOOK_RESULTS_DIR + '/' + OUT_PREFIX + '_RP_TOTAL',\n",
    "        description = CELL_TYPE_SHORT,\n",
    "        verbose = False)\n",
    "    \n",
    "    # Re-select reference sets\n",
    "    print('\\t' + 'Re-selecting reference sets...')\n",
    "    d11_interaction_set.deselect_reference_interactions()\n",
    "    d11_interaction_set.select_reference_interactions(selection_rule='RPMAX')\n",
    "    ia_freq_dist_analysis_rpmaxn = IaFreqDistAnalysis()\n",
    "    report_dict = ia_freq_dist_analysis_rpmaxn.ingest_interaction_set(\n",
    "        d11_inter_set = d11_interaction_set,\n",
    "        verbose = False)\n",
    "    \n",
    "    # Collect read pair counts and distances\n",
    "    print('\\t' + 'Collecting read pair counts and distances...')\n",
    "    rpmaxn_rp_num_dict, rpmaxn_i_dist_dict = ia_freq_dist_analysis_rpmaxn.get_all_rp_nums_and_i_dists(verbose = False)\n",
    "        \n",
    "    # Write 'RP_MAX' table row\n",
    "    print('\\t' + 'Writing \\'RP_MAX\\' table row...')\n",
    "    ia_freq_dist_analysis_rpmaxn.write_num_table(\n",
    "        out_prefix = NOTEBOOK_RESULTS_DIR + '/' + OUT_PREFIX + '_RP_MAX',\n",
    "        description = CELL_TYPE_SHORT,\n",
    "        verbose = False)"
   ]
  },
  {
   "cell_type": "markdown",
   "metadata": {},
   "source": [
    "##  Combine results from the 17 cell types\n",
    "\n",
    "We used the function `ia_freq_dist_analysis.write_num_table()` to export all results on read pair numbers and interaction distances for each cell type to a table. Here we read in the results for all cell types to do a higher-level analysis."
   ]
  },
  {
   "cell_type": "markdown",
   "metadata": {},
   "source": [
    "### Two (four) tables\n",
    "\n",
    "We compiled two tables with the results on read pair counts and interaction distances and added them to the repository:\n",
    "\n",
    "```\n",
    "diachrscripts/additional_files/ia_freq_dist/rp_num_tab.txt\n",
    "diachrscripts/additional_files/ia_freq_dist/i_dist_tab.txt\n",
    "```\n",
    "\n",
    "Each of these tables contains 17 rows, one for each cell type taking into account all chromosomes (last row of each individual file)."
   ]
  },
  {
   "cell_type": "markdown",
   "metadata": {},
   "source": [
    "### Reading a table\n",
    "\n",
    "For the sake of clarity, we have created a second class `IaFreqDistAnalysis_2` for the combined analyzes of different cell types. The table with the median interaction distances is passed to the constructor."
   ]
  },
  {
   "cell_type": "code",
   "execution_count": null,
   "metadata": {},
   "outputs": [],
   "source": [
    "i_dist_rp_max_tab.txt\n",
    "i_dist_rp_total_tab.txt\n",
    "rp_num_rp_max_tab.txt\n",
    "rp_num_rp_total_tab.txt"
   ]
  },
  {
   "cell_type": "code",
   "execution_count": 35,
   "metadata": {},
   "outputs": [],
   "source": [
    "#INPUT_TABLE_PATH = '../../additional_files/ia_freq_dist/rp_num_rp_total_tab.txt'\n",
    "INPUT_TABLE_PATH = '../../additional_files/ia_freq_dist/i_dist_rp_total_tab.txt'\n",
    "#INPUT_TABLE_PATH = '../../additional_files/ia_freq_dist/rp_num_rp_max_tab.txt'\n",
    "#INPUT_TABLE_PATH = '../../additional_files/ia_freq_dist/i_dist_rp_max_tab.txt'\n",
    "ia_freq_dist_analysis_2 = IaFreqDistAnalysis_2(input_table_path = INPUT_TABLE_PATH)"
   ]
  },
  {
   "cell_type": "markdown",
   "metadata": {},
   "source": [
    "The data is read into a dictionary grouped by interaction category and enrichment state."
   ]
  },
  {
   "cell_type": "code",
   "execution_count": 7,
   "metadata": {
    "scrolled": true
   },
   "outputs": [],
   "source": [
    "#ia_freq_dist_analysis_2._grouped_numbers"
   ]
  },
  {
   "cell_type": "markdown",
   "metadata": {},
   "source": [
    "### Create scatterplot for interaction distances"
   ]
  },
  {
   "cell_type": "markdown",
   "metadata": {},
   "source": [
    "The function `create_i_dist_scatterplot` can then be used to generate scatterplots for all combinations of interaction categories and enrichmentstates."
   ]
  },
  {
   "cell_type": "code",
   "execution_count": 38,
   "metadata": {},
   "outputs": [
    {
     "name": "stdout",
     "output_type": "stream",
     "text": [
      "P-value: 1.53e-05\n",
      "Test statistic: 0.00\n",
      "Average difference of medians: -158,608\n"
     ]
    },
    {
     "data": {
      "image/png": "[encoded data removed]",
      "text/plain": [
       "<Figure size 288x288 with 1 Axes>"
      ]
     },
     "metadata": {
      "needs_background": "light"
     },
     "output_type": "display_data"
    }
   ],
   "source": [
    "i_cat_1 = 'DI'\n",
    "i_cat_2 = 'UIR'\n",
    "e_cat_1 = 'NE'\n",
    "e_cat_2 = 'NE'\n",
    "m_type = 'MED'\n",
    "fig = ia_freq_dist_analysis_2.create_i_dist_scatterplot(\n",
    "    i_cat_1 = i_cat_1,\n",
    "    i_cat_2 = i_cat_2,\n",
    "    e_cat_1 = e_cat_1,\n",
    "    e_cat_2 = e_cat_2,\n",
    "    m_type = m_type,\n",
    "    pdf_file_name='i_dist_scatterplot_' + i_cat_1 + '_' + e_cat_1 + '_' + i_cat_2 + '_' + e_cat_2 + '_' + m_type + '.pdf'\n",
    ")"
   ]
  }
 ],
 "metadata": {
  "kernelspec": {
   "display_name": "diachrscripts",
   "language": "python",
   "name": "diachrscripts"
  },
  "language_info": {
   "codemirror_mode": {
    "name": "ipython",
    "version": 3
   },
   "file_extension": ".py",
   "mimetype": "text/x-python",
   "name": "python",
   "nbconvert_exporter": "python",
   "pygments_lexer": "ipython3",
   "version": "3.7.11"
  }
 },
 "nbformat": 4,
 "nbformat_minor": 2
}
