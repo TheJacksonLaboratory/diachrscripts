{
 "cells": [
  {
   "cell_type": "code",
   "execution_count": 1,
   "id": "6eac33d4",
   "metadata": {},
   "outputs": [],
   "source": [
    "import sys\n",
    "import os\n",
    "sys.path.append(\"../..\")\n",
    "from diachr import DiachromaticInteractionSet\n",
    "from diachr import ReadTypeAndConfigCounter\n",
    "\n",
    "# Create directory for output files generated in this notebook \n",
    "NOTEBOOK_RESULTS_DIR = 'read_type_and_configuration_frequencies_results'\n",
    "%mkdir -p $NOTEBOOK_RESULTS_DIR"
   ]
  },
  {
   "cell_type": "markdown",
   "id": "6622c6d3",
   "metadata": {},
   "source": [
    "# Read type and configuration frequencies\n",
    "\n",
    "In this notebook, we determine the frequencies of the four types of mapped paired-end reads and the ten configurations across interactions of an interaction file generated with `DICer.py`, i.e., the interactions have already been classified as unbalanced or balanced. In order to keep the layout clear we have outsourced functions functions for counting and plotting to a separate module."
   ]
  },
  {
   "cell_type": "code",
   "execution_count": 2,
   "id": "aa20bdb0",
   "metadata": {},
   "outputs": [],
   "source": [
    "rtac_Counter = ReadTypeAndConfigCounter()"
   ]
  },
  {
   "cell_type": "markdown",
   "id": "cd842d2e",
   "metadata": {},
   "source": [
    "## Loading interaction data\n",
    "\n",
    "We generated interaction files for Hi-C and cpature Hi-C data on the 17 hematopoietic cell types using `DICer` and placed them in a directory named `diachrscripts/DICer_interactions`."
   ]
  },
  {
   "cell_type": "markdown",
   "id": "3ff4b91c",
   "metadata": {},
   "source": [
    "### Download interaction file for Mifsud data\n",
    "\n",
    " In addition, we provide a corresponding interaction file for download, which we have prepared for capture Hi-C data from the publication by [Mifsud et al. (2015)](https://pubmed.ncbi.nlm.nih.gov/25938943/)."
   ]
  },
  {
   "cell_type": "code",
   "execution_count": 3,
   "id": "fe8fc100",
   "metadata": {},
   "outputs": [
    {
     "name": "stdout",
     "output_type": "stream",
     "text": [
      "--2022-10-07 07:14:43--  https://www.genecascade.org/downloads/diachrscripts/MIF_REPC_evaluated_and_categorized_interactions.tsv.gz\n",
      "Resolving www.genecascade.org (www.genecascade.org)... 193.175.174.14\n",
      "Connecting to www.genecascade.org (www.genecascade.org)|193.175.174.14|:443... connected.\n",
      "HTTP request sent, awaiting response... 200 OK\n",
      "Length: 70203503 (67M) [application/x-gzip]\n",
      "Saving to: ‘../../DICer_interactions/CHC/MIF_GM12878_CHC_REPC_evaluated_and_categorized_interactions.tsv.gz’\n",
      "\n",
      "../../DICer_interac 100%[===================>]  66.95M  6.96MB/s    in 9.8s    \n",
      "\n",
      "2022-10-07 07:14:53 (6.83 MB/s) - ‘../../DICer_interactions/CHC/MIF_GM12878_CHC_REPC_evaluated_and_categorized_interactions.tsv.gz’ saved [70203503/70203503]\n",
      "\n"
     ]
    }
   ],
   "source": [
    "!mkdir -p ../../DICer_interactions/CHC\n",
    "!wget -O ../../DICer_interactions/CHC/MIF_GM12878_CHC_REPC_evaluated_and_categorized_interactions.tsv.gz https://www.genecascade.org/downloads/diachrscripts/MIF_REPC_evaluated_and_categorized_interactions.tsv.gz"
   ]
  },
  {
   "cell_type": "markdown",
   "id": "3f7bf44b",
   "metadata": {},
   "source": [
    "### Choose a file"
   ]
  },
  {
   "cell_type": "code",
   "execution_count": 7,
   "id": "8f150de4",
   "metadata": {},
   "outputs": [],
   "source": [
    "AUTHOR = 'JAV' # MIF or JAV\n",
    "PROTOCOL = 'CHC' # HC or CHC\n",
    "CELL_TYPE_SHORT = 'MAC_M0' # GM12878, MK, ERY, NEU, MON, MAC_M0, ...\n",
    "OUT_PREFIX = AUTHOR + '_' + CELL_TYPE_SHORT + '_' + PROTOCOL +'_REPC'\n",
    "INTERACTION_FILE = '../../DICer_interactions/' + PROTOCOL + '/' + OUT_PREFIX + '_evaluated_and_categorized_interactions.tsv.gz' "
   ]
  },
  {
   "cell_type": "code",
   "execution_count": 3,
   "id": "18cf6481",
   "metadata": {},
   "outputs": [],
   "source": [
    "INTERACTION_FILE = '../../jupyter_notebooks/usage/HC/DEMO_1_evaluated_and_categorized_interactions.tsv.gz'\n",
    "OUT_PREFIX = 'HC_test'"
   ]
  },
  {
   "cell_type": "markdown",
   "id": "d88aba6c",
   "metadata": {},
   "source": [
    "### Read interactions into data structure"
   ]
  },
  {
   "cell_type": "code",
   "execution_count": 4,
   "id": "165bb2da",
   "metadata": {},
   "outputs": [
    {
     "name": "stdout",
     "output_type": "stream",
     "text": [
      "[INFO] Parsing Diachromatic interaction file ...\n",
      "\t[INFO] ../../jupyter_notebooks/usage/HC/DEMO_1_evaluated_and_categorized_interactions.tsv.gz\n",
      "\t[INFO] Set size: 46,161\n",
      "[INFO] ... done.\n"
     ]
    }
   ],
   "source": [
    "# Create DiachromaticInteractionSet\n",
    "d11_interaction_set = DiachromaticInteractionSet()\n",
    "d11_interaction_set.parse_file(\n",
    "    i_file = INTERACTION_FILE,\n",
    "    verbose = True)"
   ]
  },
  {
   "cell_type": "markdown",
   "id": "ebd0d2eb",
   "metadata": {},
   "source": [
    "## Frequencies of the for types of mapped paired-end reads\n",
    "\n",
    "In paired-end sequencing, four types read pairs can be distinguished after mapping:\n",
    "\n",
    "1. The reads are mapped onto different strands and point to each other (Type `0`)\n",
    "2. The reads are mapped onto different strands and point away from each other (Type `1`)\n",
    "3. The reads both are mapped to the forward strand (Type `2`)\n",
    "4. The reads both are mapped to the reverse strand (Type `3`)\n",
    "\n",
    "Here we determine the frequencies of the four types across all interactions as well as across all unbalanced and balanced interactions."
   ]
  },
  {
   "cell_type": "markdown",
   "id": "d332841c",
   "metadata": {},
   "source": [
    "### Count reads separately by type"
   ]
  },
  {
   "cell_type": "code",
   "execution_count": 5,
   "id": "c01e1162",
   "metadata": {},
   "outputs": [],
   "source": [
    "RP_TYPE_FREQ_DICT, RP_TYPE_DENS_DICT = rtac_Counter.count_read_types(d11_interaction_set)"
   ]
  },
  {
   "cell_type": "markdown",
   "id": "688d799f",
   "metadata": {},
   "source": [
    "### Output frequencies as a table"
   ]
  },
  {
   "cell_type": "code",
   "execution_count": 6,
   "id": "b309f282",
   "metadata": {},
   "outputs": [
    {
     "name": "stdout",
     "output_type": "stream",
     "text": [
      "U\n",
      "\t\tT0\tT1\tT2\tT3\n",
      "\tNN: \t0.30\t0.20\t0.21\t0.28\n",
      "\tEE: \t0.36\t0.17\t0.17\t0.30\n",
      "\tNE: \t0.35\t0.12\t0.17\t0.35\n",
      "\tEN: \t0.31\t0.21\t0.25\t0.23\n",
      "\tALL: \t0.31\t0.19\t0.21\t0.29\n",
      "\n",
      "B\n",
      "\t\tT0\tT1\tT2\tT3\n",
      "\tNN: \t0.26\t0.24\t0.23\t0.27\n",
      "\tEE: \t0.29\t0.22\t0.23\t0.26\n",
      "\tNE: \t0.27\t0.23\t0.22\t0.28\n",
      "\tEN: \t0.27\t0.23\t0.24\t0.26\n",
      "\tALL: \t0.27\t0.24\t0.23\t0.27\n",
      "\n",
      "ALL\n",
      "\t\tT0\tT1\tT2\tT3\n",
      "\tNN: \t0.26\t0.24\t0.23\t0.27\n",
      "\tEE: \t0.30\t0.22\t0.22\t0.26\n",
      "\tNE: \t0.28\t0.23\t0.22\t0.28\n",
      "\tEN: \t0.27\t0.23\t0.24\t0.26\n",
      "\tALL: \t0.27\t0.24\t0.23\t0.27\n",
      "\n"
     ]
    }
   ],
   "source": [
    "rtac_Counter.print_read_type_frequency_tables(\n",
    "    rp_type_freq_dict = RP_TYPE_FREQ_DICT,\n",
    "    rp_type_dens_dict = RP_TYPE_DENS_DICT,\n",
    "    i_cats = ['U','B','ALL'],\n",
    "    print_dens=True)"
   ]
  },
  {
   "cell_type": "markdown",
   "id": "82fc30e3",
   "metadata": {},
   "source": [
    "### Output frequencies as a bar chart\n",
    "\n",
    "Use `NN`, `NE`, `EN` or `EE` to plot the frequencies of specific enrichment categories. Use `ALL` to plot the frequencies across all enrichment categories."
   ]
  },
  {
   "cell_type": "code",
   "execution_count": 7,
   "id": "670d2e48",
   "metadata": {},
   "outputs": [
    {
     "data": {
      "image/png": "[encoded data removed]",
      "text/plain": [
       "<Figure size 324x504 with 6 Axes>"
      ]
     },
     "metadata": {
      "needs_background": "light"
     },
     "output_type": "display_data"
    }
   ],
   "source": [
    "fig = rtac_Counter.create_read_type_frequency_bar_charts(\n",
    "    rp_type_freq_dict = RP_TYPE_FREQ_DICT,\n",
    "    rp_type_dens_dict = RP_TYPE_DENS_DICT,\n",
    "    i_cats = ['U','B','ALL'],\n",
    "    e_cat = 'ALL',\n",
    "    pdf_file_name = NOTEBOOK_RESULTS_DIR + '/' + OUT_PREFIX + '_rp_type_frequency_bar_charts.pdf')"
   ]
  },
  {
   "cell_type": "markdown",
   "id": "d6760cb8",
   "metadata": {},
   "source": [
    "## Frequencies of configurations\n",
    "\n",
    "We distinguish ten configurations of interactions (`0X`, `1X`, `2X`, `3X`, `01`, `02`, `03`, `12`, `13`, `23`), depending on which of the four types of mapped paired-end reads predominate within individual interactions."
   ]
  },
  {
   "cell_type": "markdown",
   "id": "d0e38933",
   "metadata": {},
   "source": [
    "### Count interactions separately by configuration"
   ]
  },
  {
   "cell_type": "code",
   "execution_count": 8,
   "id": "760e9804",
   "metadata": {},
   "outputs": [],
   "source": [
    "CONF_FREQ_DICT, CONF_DENS_DICT = rtac_Counter.count_configurations(d11_interaction_set)"
   ]
  },
  {
   "cell_type": "markdown",
   "id": "45ac609e",
   "metadata": {},
   "source": [
    "### Output frequencies as a table"
   ]
  },
  {
   "cell_type": "code",
   "execution_count": 9,
   "id": "075099ef",
   "metadata": {},
   "outputs": [
    {
     "name": "stdout",
     "output_type": "stream",
     "text": [
      "U\n",
      "\t\tNN\t\tEE\t\tNE\t\tEN\t\tALL\n",
      "\t0X: \t29 (0.03)\t1 (0.07)\t3 (0.03)\t4 (0.05)\t37 (0.04)\n",
      "\t1X: \t16 (0.02)\t1 (0.07)\t1 (0.01)\t4 (0.05)\t22 (0.02)\n",
      "\t2X: \t13 (0.02)\t0 (0.00)\t1 (0.01)\t4 (0.05)\t18 (0.02)\n",
      "\t3X: \t22 (0.03)\t0 (0.00)\t6 (0.07)\t0 (0.00)\t28 (0.03)\n",
      "\t01: \t4 (0.00)\t0 (0.00)\t1 (0.01)\t1 (0.01)\t6 (0.01)\n",
      "\t02: \t186 (0.22)\t3 (0.20)\t19 (0.21)\t26 (0.31)\t234 (0.23)\n",
      "\t03: \t259 (0.31)\t6 (0.40)\t44 (0.48)\t21 (0.25)\t330 (0.32)\n",
      "\t12: \t138 (0.17)\t3 (0.20)\t8 (0.09)\t10 (0.12)\t159 (0.16)\n",
      "\t13: \t154 (0.19)\t1 (0.07)\t9 (0.10)\t15 (0.18)\t179 (0.18)\n",
      "\t23: \t8 (0.01)\t0 (0.00)\t0 (0.00)\t0 (0.00)\t8 (0.01)\n",
      "B\n",
      "\t\tNN\t\tEE\t\tNE\t\tEN\t\tALL\n",
      "\t0X: \t41 (0.00)\t0 (0.00)\t4 (0.00)\t5 (0.00)\t50 (0.00)\n",
      "\t1X: \t9 (0.00)\t0 (0.00)\t1 (0.00)\t2 (0.00)\t12 (0.00)\n",
      "\t2X: \t18 (0.00)\t0 (0.00)\t1 (0.00)\t0 (0.00)\t19 (0.00)\n",
      "\t3X: \t22 (0.00)\t0 (0.00)\t5 (0.00)\t4 (0.00)\t31 (0.00)\n",
      "\t01: \t7,105 (0.18)\t36 (0.14)\t377 (0.16)\t370 (0.15)\t7,888 (0.17)\n",
      "\t02: \t7,999 (0.20)\t55 (0.22)\t454 (0.19)\t571 (0.24)\t9,079 (0.20)\n",
      "\t03: \t9,508 (0.24)\t79 (0.32)\t654 (0.27)\t541 (0.23)\t10,782 (0.24)\n",
      "\t12: \t5,687 (0.14)\t31 (0.12)\t335 (0.14)\t366 (0.15)\t6,419 (0.14)\n",
      "\t13: \t6,635 (0.17)\t36 (0.14)\t386 (0.16)\t365 (0.15)\t7,422 (0.16)\n",
      "\t23: \t3,085 (0.08)\t12 (0.05)\t172 (0.07)\t169 (0.07)\t3,438 (0.08)\n",
      "ALL\n",
      "\t\tNN\t\tEE\t\tNE\t\tEN\t\tALL\n",
      "\t0X: \t70 (0.00)\t1 (0.00)\t7 (0.00)\t9 (0.00)\t87 (0.00)\n",
      "\t1X: \t25 (0.00)\t1 (0.00)\t2 (0.00)\t6 (0.00)\t34 (0.00)\n",
      "\t2X: \t31 (0.00)\t0 (0.00)\t2 (0.00)\t4 (0.00)\t37 (0.00)\n",
      "\t3X: \t44 (0.00)\t0 (0.00)\t11 (0.00)\t4 (0.00)\t59 (0.00)\n",
      "\t01: \t7,109 (0.17)\t36 (0.14)\t378 (0.15)\t371 (0.15)\t7,894 (0.17)\n",
      "\t02: \t8,185 (0.20)\t58 (0.22)\t473 (0.19)\t597 (0.24)\t9,313 (0.20)\n",
      "\t03: \t9,767 (0.24)\t85 (0.32)\t698 (0.28)\t562 (0.23)\t11,112 (0.24)\n",
      "\t12: \t5,825 (0.14)\t34 (0.13)\t343 (0.14)\t376 (0.15)\t6,578 (0.14)\n",
      "\t13: \t6,789 (0.17)\t37 (0.14)\t395 (0.16)\t380 (0.15)\t7,601 (0.16)\n",
      "\t23: \t3,093 (0.08)\t12 (0.05)\t172 (0.07)\t169 (0.07)\t3,446 (0.07)\n"
     ]
    }
   ],
   "source": [
    "rtac_Counter.print_configuration_frequency_tables(\n",
    "    conf_freq_dict = CONF_FREQ_DICT,\n",
    "    conf_dens_dict = CONF_DENS_DICT,\n",
    "    i_cats = ['U', 'B', 'ALL'])"
   ]
  },
  {
   "cell_type": "markdown",
   "id": "f9f99d72",
   "metadata": {},
   "source": [
    "### Output frequencies as a bar chart"
   ]
  },
  {
   "cell_type": "code",
   "execution_count": 10,
   "id": "f8b3baab",
   "metadata": {},
   "outputs": [
    {
     "data": {
      "image/png": "[encoded data removed]",
      "text/plain": [
       "<Figure size 360x518.4 with 6 Axes>"
      ]
     },
     "metadata": {
      "needs_background": "light"
     },
     "output_type": "display_data"
    }
   ],
   "source": [
    "# Use this method for Hi-C datasets\n",
    "fig = rtac_Counter.create_configuration_frequency_bar_charts(\n",
    "    i_cats = ['U', 'B', 'ALL'],\n",
    "    conf_freq_dict = CONF_FREQ_DICT,\n",
    "    e_cat_1 = 'ALL',\n",
    "    pdf_file_name = NOTEBOOK_RESULTS_DIR + '/' + OUT_PREFIX + '_configuration_frequency_bar_charts.pdf'\n",
    "    )"
   ]
  },
  {
   "cell_type": "markdown",
   "id": "45328bc5",
   "metadata": {},
   "source": [
    "### Output frequencies as a bar chart with two bars for each configuration\n",
    "\n",
    "For capture Hi-C data, we can distinguish interactions by enrichment states, i.e., whether interaction go from the baited digest towards 5' (`NE`) or 3' (`EN`) direction."
   ]
  },
  {
   "cell_type": "code",
   "execution_count": 11,
   "id": "5aa2f907",
   "metadata": {},
   "outputs": [
    {
     "data": {
      "image/png": "[encoded data removed]",
      "text/plain": [
       "<Figure size 360x518.4 with 6 Axes>"
      ]
     },
     "metadata": {
      "needs_background": "light"
     },
     "output_type": "display_data"
    }
   ],
   "source": [
    "# Use this for CHC data\n",
    "fig = rtac_Counter.create_configuration_frequency_bar_charts_2(\n",
    "    conf_freq_dict = CONF_FREQ_DICT,\n",
    "    i_cats = ['U', 'B', 'ALL'],\n",
    "    e_cat_1 = 'NE',\n",
    "    e_cat_2 = 'EN',\n",
    "    e_cat_1_color = 'darkred',\n",
    "    e_cat_2_color = 'darkblue',\n",
    "    pdf_file_name = NOTEBOOK_RESULTS_DIR + '/' + OUT_PREFIX + '_configuration_frequency_bar_charts_2.pdf'\n",
    "    )"
   ]
  }
 ],
 "metadata": {
  "kernelspec": {
   "display_name": "diachrscripts",
   "language": "python",
   "name": "diachrscripts"
  },
  "language_info": {
   "codemirror_mode": {
    "name": "ipython",
    "version": 3
   },
   "file_extension": ".py",
   "mimetype": "text/x-python",
   "name": "python",
   "nbconvert_exporter": "python",
   "pygments_lexer": "ipython3",
   "version": "3.7.11"
  }
 },
 "nbformat": 4,
 "nbformat_minor": 5
}
