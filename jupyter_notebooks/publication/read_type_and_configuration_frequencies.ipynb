{
 "cells": [
  {
   "cell_type": "code",
   "execution_count": 1,
   "id": "6eac33d4",
   "metadata": {},
   "outputs": [],
   "source": [
    "import sys\n",
    "import os\n",
    "sys.path.append(\"../..\")\n",
    "from diachr import DiachromaticInteractionSet\n",
    "from diachr import ReadTypeAndConfigCounter\n",
    "\n",
    "# Create directory for output files generated in this notebook \n",
    "NOTEBOOK_RESULTS_DIR = 'read_type_and_configuration_frequencies_results'\n",
    "%mkdir -p $NOTEBOOK_RESULTS_DIR"
   ]
  },
  {
   "cell_type": "markdown",
   "id": "6622c6d3",
   "metadata": {},
   "source": [
    "# Read type and configuration frequencies\n",
    "\n",
    "In this notebook, we determine the frequencies of the four types of mapped paired-end reads and the ten configurations across interactions of an interaction file generated with `DICer.py`, i.e., the interactions have already been classified as unbalanced or balanced. In order to keep the layout clear we have outsourced functions functions for counting and plotting to a separate module."
   ]
  },
  {
   "cell_type": "code",
   "execution_count": 2,
   "id": "aa20bdb0",
   "metadata": {},
   "outputs": [],
   "source": [
    "rtac_Counter = ReadTypeAndConfigCounter()"
   ]
  },
  {
   "cell_type": "markdown",
   "id": "cd842d2e",
   "metadata": {},
   "source": [
    "## Loading interaction data\n",
    "\n",
    "We generated interaction files for Hi-C and cpature Hi-C data on the 17 hematopoietic cell types using `DICer` and placed them in a directory named `diachrscripts/DICer_interactions`."
   ]
  },
  {
   "cell_type": "markdown",
   "id": "3ff4b91c",
   "metadata": {},
   "source": [
    "### Download interaction file for Mifsud data\n",
    "\n",
    " In addition, we provide a corresponding interaction file for download, which we have prepared for capture Hi-C data from the publication by [Mifsud et al. (2015)](https://pubmed.ncbi.nlm.nih.gov/25938943/)."
   ]
  },
  {
   "cell_type": "code",
   "execution_count": 3,
   "id": "fe8fc100",
   "metadata": {},
   "outputs": [
    {
     "name": "stdout",
     "output_type": "stream",
     "text": [
      "--2022-10-07 06:40:15--  https://www.genecascade.org/downloads/diachrscripts/MIF_REPC_evaluated_and_categorized_interactions.tsv.gz\n",
      "Resolving www.genecascade.org (www.genecascade.org)... 193.175.174.14\n",
      "Connecting to www.genecascade.org (www.genecascade.org)|193.175.174.14|:443... connected.\n",
      "HTTP request sent, awaiting response... 200 OK\n",
      "Length: 70203503 (67M) [application/x-gzip]\n",
      "Saving to: ‘../../DICer_interactions/CHC/MIF_GM12878_CHC_REPC_evaluated_and_categorized_interactions.tsv.gz’\n",
      "\n",
      "../../DICer_interac 100%[===================>]  66.95M  6.85MB/s    in 9.7s    \n",
      "\n",
      "2022-10-07 06:40:25 (6.88 MB/s) - ‘../../DICer_interactions/CHC/MIF_GM12878_CHC_REPC_evaluated_and_categorized_interactions.tsv.gz’ saved [70203503/70203503]\n",
      "\n"
     ]
    }
   ],
   "source": [
    "!mkdir -p ../../DICer_interactions/CHC\n",
    "!wget -O ../../DICer_interactions/CHC/MIF_GM12878_CHC_REPC_evaluated_and_categorized_interactions.tsv.gz https://www.genecascade.org/downloads/diachrscripts/MIF_REPC_evaluated_and_categorized_interactions.tsv.gz"
   ]
  },
  {
   "cell_type": "markdown",
   "id": "3f7bf44b",
   "metadata": {},
   "source": [
    "### Choose a file"
   ]
  },
  {
   "cell_type": "code",
   "execution_count": 4,
   "id": "8f150de4",
   "metadata": {},
   "outputs": [],
   "source": [
    "AUTHOR = 'JAV' # MIF or JAV\n",
    "PROTOCOL = 'CHC' # HC or CHC\n",
    "CELL_TYPE_SHORT = 'MAC_M0' # GM12878, MK, ERY, NEU, MON, MAC_M0, ...\n",
    "OUT_PREFIX = AUTHOR + '_' + CELL_TYPE_SHORT + '_' + PROTOCOL +'_REPC'\n",
    "INTERACTION_FILE = '../../DICer_interactions/' + PROTOCOL + '/' + OUT_PREFIX + '_evaluated_and_categorized_interactions.tsv.gz'    "
   ]
  },
  {
   "cell_type": "markdown",
   "id": "d88aba6c",
   "metadata": {},
   "source": [
    "### Read interactions into data structure"
   ]
  },
  {
   "cell_type": "code",
   "execution_count": 5,
   "id": "165bb2da",
   "metadata": {},
   "outputs": [
    {
     "name": "stdout",
     "output_type": "stream",
     "text": [
      "[INFO] Parsing Diachromatic interaction file ...\n",
      "\t[INFO] ../../DICer_interactions/CHC/JAV_MAC_M0_CHC_REPC_evaluated_and_categorized_interactions.tsv.gz\n",
      "\t[INFO] Parsed 1,000,000 interaction lines ...\n",
      "\t[INFO] Parsed 2,000,000 interaction lines ...\n",
      "\t[INFO] Parsed 3,000,000 interaction lines ...\n",
      "\t[INFO] Parsed 4,000,000 interaction lines ...\n",
      "\t[INFO] Parsed 5,000,000 interaction lines ...\n",
      "\t[INFO] Parsed 6,000,000 interaction lines ...\n",
      "\t[INFO] Parsed 7,000,000 interaction lines ...\n",
      "\t[INFO] Parsed 8,000,000 interaction lines ...\n",
      "\t[INFO] Parsed 9,000,000 interaction lines ...\n",
      "\t[INFO] Set size: 9,648,210\n",
      "[INFO] ... done.\n"
     ]
    }
   ],
   "source": [
    "# Create DiachromaticInteractionSet\n",
    "d11_interaction_set = DiachromaticInteractionSet()\n",
    "d11_interaction_set.parse_file(\n",
    "    i_file = INTERACTION_FILE,\n",
    "    verbose = True)"
   ]
  },
  {
   "cell_type": "markdown",
   "id": "ebd0d2eb",
   "metadata": {},
   "source": [
    "## Frequencies of the for types of mapped paired-end reads\n",
    "\n",
    "In paired-end sequencing, four types read pairs can be distinguished after mapping:\n",
    "\n",
    "1. The reads are mapped onto different strands and point to each other (Type `0`)\n",
    "2. The reads are mapped onto different strands and point away from each other (Type `1`)\n",
    "3. The reads both are mapped to the forward strand (Type `2`)\n",
    "4. The reads both are mapped to the reverse strand (Type `3`)\n",
    "\n",
    "Here we determine the frequencies of the four types across all interactions as well as across all unbalanced and balanced interactions."
   ]
  },
  {
   "cell_type": "markdown",
   "id": "d332841c",
   "metadata": {},
   "source": [
    "### Count reads separately by type"
   ]
  },
  {
   "cell_type": "code",
   "execution_count": 6,
   "id": "c01e1162",
   "metadata": {},
   "outputs": [],
   "source": [
    "RP_TYPE_FREQ_DICT, RP_TYPE_DENS_DICT = rtac_Counter.count_read_types(d11_interaction_set)"
   ]
  },
  {
   "cell_type": "markdown",
   "id": "688d799f",
   "metadata": {},
   "source": [
    "### Output frequencies as a table"
   ]
  },
  {
   "cell_type": "code",
   "execution_count": 7,
   "id": "b309f282",
   "metadata": {},
   "outputs": [
    {
     "name": "stdout",
     "output_type": "stream",
     "text": [
      "U\n",
      "\t\tT0\tT1\tT2\tT3\n",
      "\tNN: \t0.27\t0.23\t0.18\t0.31\n",
      "\tEE: \t0.28\t0.22\t0.26\t0.25\n",
      "\tNE: \t0.25\t0.25\t0.25\t0.25\n",
      "\tEN: \t0.29\t0.21\t0.28\t0.22\n",
      "\tALL: \t0.27\t0.23\t0.26\t0.23\n",
      "\n",
      "B\n",
      "\t\tT0\tT1\tT2\tT3\n",
      "\tNN: \t0.26\t0.24\t0.24\t0.26\n",
      "\tEE: \t0.25\t0.24\t0.26\t0.25\n",
      "\tNE: \t0.25\t0.25\t0.25\t0.25\n",
      "\tEN: \t0.26\t0.24\t0.25\t0.25\n",
      "\tALL: \t0.25\t0.25\t0.25\t0.25\n",
      "\n",
      "ALL\n",
      "\t\tT0\tT1\tT2\tT3\n",
      "\tNN: \t0.26\t0.24\t0.22\t0.28\n",
      "\tEE: \t0.27\t0.22\t0.26\t0.25\n",
      "\tNE: \t0.25\t0.25\t0.25\t0.25\n",
      "\tEN: \t0.28\t0.22\t0.27\t0.23\n",
      "\tALL: \t0.27\t0.23\t0.26\t0.24\n",
      "\n"
     ]
    }
   ],
   "source": [
    "rtac_Counter.print_read_type_frequency_tables(\n",
    "    rp_type_freq_dict = RP_TYPE_FREQ_DICT,\n",
    "    rp_type_dens_dict = RP_TYPE_DENS_DICT,\n",
    "    i_cats = ['U','B','ALL'],\n",
    "    print_dens=True)"
   ]
  },
  {
   "cell_type": "markdown",
   "id": "82fc30e3",
   "metadata": {},
   "source": [
    "### Output frequencies as a bar chart\n",
    "\n",
    "Use `NN`, `NE`, `EN` or `EE` to plot the frequencies of specific enrichment categories. Use `ALL` to plot the frequencies across all enrichment categories."
   ]
  },
  {
   "cell_type": "code",
   "execution_count": 8,
   "id": "670d2e48",
   "metadata": {},
   "outputs": [
    {
     "data": {
      "image/png": "[encoded data removed]",
      "text/plain": [
       "<Figure size 324x504 with 6 Axes>"
      ]
     },
     "metadata": {
      "needs_background": "light"
     },
     "output_type": "display_data"
    }
   ],
   "source": [
    "fig = rtac_Counter.create_read_type_frequency_bar_charts(\n",
    "    rp_type_freq_dict = RP_TYPE_FREQ_DICT,\n",
    "    rp_type_dens_dict = RP_TYPE_DENS_DICT,\n",
    "    i_cats = ['U','B','ALL'],\n",
    "    e_cat = 'ALL',\n",
    "    pdf_file_name = NOTEBOOK_RESULTS_DIR + '/' + OUT_PREFIX + '_rp_type_frequency_bar_charts.pdf')"
   ]
  },
  {
   "cell_type": "markdown",
   "id": "d6760cb8",
   "metadata": {},
   "source": [
    "## Frequencies of configurations\n",
    "\n",
    "We distinguish ten configurations of interactions (`0X`, `1X`, `2X`, `3X`, `01`, `02`, `03`, `12`, `13`, `23`), depending on which of the four types of mapped paired-end reads predominate within individual interactions."
   ]
  },
  {
   "cell_type": "markdown",
   "id": "d0e38933",
   "metadata": {},
   "source": [
    "### Count interactions separately by configuration"
   ]
  },
  {
   "cell_type": "code",
   "execution_count": 9,
   "id": "760e9804",
   "metadata": {},
   "outputs": [],
   "source": [
    "CONF_FREQ_DICT, CONF_DENS_DICT = rtac_Counter.count_configurations(d11_interaction_set)"
   ]
  },
  {
   "cell_type": "markdown",
   "id": "45ac609e",
   "metadata": {},
   "source": [
    "### Output frequencies as a table"
   ]
  },
  {
   "cell_type": "code",
   "execution_count": 10,
   "id": "075099ef",
   "metadata": {},
   "outputs": [
    {
     "name": "stdout",
     "output_type": "stream",
     "text": [
      "U\n",
      "\t\tNN\t\tEE\t\tNE\t\tEN\t\tALL\n",
      "\t0X: \t14,070 (0.06)\t4,084 (0.03)\t70,528 (0.03)\t77,543 (0.04)\t166,225 (0.04)\n",
      "\t1X: \t10,415 (0.05)\t3,220 (0.02)\t70,910 (0.03)\t63,068 (0.03)\t147,613 (0.03)\n",
      "\t2X: \t9,510 (0.04)\t4,075 (0.03)\t80,176 (0.04)\t81,792 (0.04)\t175,553 (0.04)\n",
      "\t3X: \t13,453 (0.06)\t4,238 (0.03)\t61,517 (0.03)\t60,398 (0.03)\t139,606 (0.03)\n",
      "\t01: \t6,998 (0.03)\t2,058 (0.01)\t24,698 (0.01)\t24,390 (0.01)\t58,144 (0.01)\n",
      "\t02: \t37,873 (0.16)\t38,713 (0.25)\t218,239 (0.11)\t776,814 (0.38)\t1,071,639 (0.24)\n",
      "\t03: \t53,799 (0.23)\t35,186 (0.23)\t626,152 (0.31)\t197,145 (0.10)\t912,282 (0.20)\n",
      "\t12: \t33,356 (0.14)\t31,349 (0.20)\t694,497 (0.34)\t199,326 (0.10)\t958,528 (0.21)\n",
      "\t13: \t44,461 (0.19)\t28,643 (0.19)\t181,151 (0.09)\t551,471 (0.27)\t805,726 (0.18)\n",
      "\t23: \t6,407 (0.03)\t2,944 (0.02)\t21,630 (0.01)\t21,137 (0.01)\t52,118 (0.01)\n",
      "B\n",
      "\t\tNN\t\tEE\t\tNE\t\tEN\t\tALL\n",
      "\t0X: \t440 (0.00)\t107 (0.00)\t1,088 (0.00)\t1,296 (0.00)\t2,931 (0.00)\n",
      "\t1X: \t297 (0.00)\t101 (0.00)\t1,263 (0.00)\t1,008 (0.00)\t2,669 (0.00)\n",
      "\t2X: \t295 (0.00)\t107 (0.00)\t1,410 (0.00)\t1,329 (0.00)\t3,141 (0.00)\n",
      "\t3X: \t425 (0.00)\t112 (0.00)\t988 (0.00)\t951 (0.00)\t2,476 (0.00)\n",
      "\t01: \t178,280 (0.22)\t31,921 (0.17)\t389,868 (0.19)\t384,675 (0.19)\t984,744 (0.19)\n",
      "\t02: \t171,350 (0.21)\t43,288 (0.23)\t408,020 (0.20)\t543,208 (0.26)\t1,165,866 (0.23)\n",
      "\t03: \t170,899 (0.21)\t35,410 (0.19)\t395,171 (0.19)\t345,075 (0.17)\t946,555 (0.18)\n",
      "\t12: \t125,474 (0.15)\t35,083 (0.18)\t453,016 (0.22)\t319,353 (0.16)\t932,926 (0.18)\n",
      "\t13: \t116,149 (0.14)\t27,510 (0.15)\t275,568 (0.13)\t306,602 (0.15)\t725,829 (0.14)\n",
      "\t23: \t63,692 (0.08)\t16,024 (0.08)\t158,377 (0.08)\t155,546 (0.08)\t393,639 (0.08)\n",
      "ALL\n",
      "\t\tNN\t\tEE\t\tNE\t\tEN\t\tALL\n",
      "\t0X: \t14,510 (0.01)\t4,191 (0.01)\t71,616 (0.02)\t78,839 (0.02)\t169,156 (0.02)\n",
      "\t1X: \t10,712 (0.01)\t3,321 (0.01)\t72,173 (0.02)\t64,076 (0.02)\t150,282 (0.02)\n",
      "\t2X: \t9,805 (0.01)\t4,182 (0.01)\t81,586 (0.02)\t83,121 (0.02)\t178,694 (0.02)\n",
      "\t3X: \t13,878 (0.01)\t4,350 (0.01)\t62,505 (0.02)\t61,349 (0.01)\t142,082 (0.01)\n",
      "\t01: \t185,278 (0.18)\t33,979 (0.10)\t414,566 (0.10)\t409,065 (0.10)\t1,042,888 (0.11)\n",
      "\t02: \t209,223 (0.20)\t82,001 (0.24)\t626,259 (0.15)\t1,320,022 (0.32)\t2,237,505 (0.23)\n",
      "\t03: \t224,698 (0.21)\t70,596 (0.21)\t1,021,323 (0.25)\t542,220 (0.13)\t1,858,837 (0.19)\n",
      "\t12: \t158,830 (0.15)\t66,432 (0.19)\t1,147,513 (0.28)\t518,679 (0.13)\t1,891,454 (0.20)\n",
      "\t13: \t160,610 (0.15)\t56,153 (0.16)\t456,719 (0.11)\t858,073 (0.21)\t1,531,555 (0.16)\n",
      "\t23: \t70,099 (0.07)\t18,968 (0.06)\t180,007 (0.04)\t176,683 (0.04)\t445,757 (0.05)\n"
     ]
    }
   ],
   "source": [
    "rtac_Counter.print_configuration_frequency_tables(\n",
    "    conf_freq_dict = CONF_FREQ_DICT,\n",
    "    conf_dens_dict = CONF_DENS_DICT,\n",
    "    i_cats = ['U', 'B', 'ALL'])"
   ]
  },
  {
   "cell_type": "markdown",
   "id": "f9f99d72",
   "metadata": {},
   "source": [
    "### Output frequencies as a bar chart"
   ]
  },
  {
   "cell_type": "code",
   "execution_count": 11,
   "id": "f8b3baab",
   "metadata": {},
   "outputs": [
    {
     "data": {
      "image/png": "[encoded data removed]",
      "text/plain": [
       "<Figure size 360x518.4 with 6 Axes>"
      ]
     },
     "metadata": {
      "needs_background": "light"
     },
     "output_type": "display_data"
    }
   ],
   "source": [
    "# Use this method for Hi-C datasets\n",
    "fig = rtac_Counter.create_configuration_frequency_bar_charts(\n",
    "    i_cats = ['U', 'B', 'ALL'],\n",
    "    conf_freq_dict = CONF_FREQ_DICT,\n",
    "    e_cat_1 = 'ALL',\n",
    "    pdf_file_name = NOTEBOOK_RESULTS_DIR + '/' + OUT_PREFIX + '_configuration_frequency_bar_charts.pdf'\n",
    "    )"
   ]
  },
  {
   "cell_type": "markdown",
   "id": "45328bc5",
   "metadata": {},
   "source": [
    "### Output frequencies as a bar chart with two bars for each configuration\n",
    "\n",
    "For capture Hi-C data, we can distinguish interactions by enrichment states, i.e., whether interaction go from the baited digest towards 5' (`NE`) or 3' (`EN`) direction."
   ]
  },
  {
   "cell_type": "code",
   "execution_count": 12,
   "id": "5aa2f907",
   "metadata": {},
   "outputs": [
    {
     "data": {
      "image/png": "[encoded data removed]",
      "text/plain": [
       "<Figure size 360x518.4 with 6 Axes>"
      ]
     },
     "metadata": {
      "needs_background": "light"
     },
     "output_type": "display_data"
    }
   ],
   "source": [
    "# Use this for CHC data\n",
    "fig = rtac_Counter.create_configuration_frequency_bar_charts_2(\n",
    "    conf_freq_dict = CONF_FREQ_DICT,\n",
    "    i_cats = ['U', 'B', 'ALL'],\n",
    "    e_cat_1 = 'NE',\n",
    "    e_cat_2 = 'EN',\n",
    "    e_cat_1_color = 'darkred',\n",
    "    e_cat_2_color = 'darkblue',\n",
    "    pdf_file_name = NOTEBOOK_RESULTS_DIR + '/' + OUT_PREFIX + '_configuration_frequency_bar_charts_2.pdf'\n",
    "    )"
   ]
  }
 ],
 "metadata": {
  "kernelspec": {
   "display_name": "diachrscripts",
   "language": "python",
   "name": "diachrscripts"
  },
  "language_info": {
   "codemirror_mode": {
    "name": "ipython",
    "version": 3
   },
   "file_extension": ".py",
   "mimetype": "text/x-python",
   "name": "python",
   "nbconvert_exporter": "python",
   "pygments_lexer": "ipython3",
   "version": "3.7.11"
  }
 },
 "nbformat": 4,
 "nbformat_minor": 5
}
