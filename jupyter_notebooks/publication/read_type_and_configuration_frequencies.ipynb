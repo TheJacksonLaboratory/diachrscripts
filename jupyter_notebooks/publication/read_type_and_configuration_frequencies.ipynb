{
 "cells": [
  {
   "cell_type": "code",
   "execution_count": 1,
   "id": "6eac33d4",
   "metadata": {},
   "outputs": [],
   "source": [
    "import sys\n",
    "import os\n",
    "sys.path.append(\"../..\")\n",
    "from diachr import DiachromaticInteractionSet\n",
    "from diachr import ReadTypeAndConfigCounter\n",
    "\n",
    "# Create directory for output files generated in this notebook \n",
    "NOTEBOOK_RESULTS_DIR = 'read_type_and_configuration_frequencies_results'\n",
    "%mkdir -p $NOTEBOOK_RESULTS_DIR"
   ]
  },
  {
   "cell_type": "markdown",
   "id": "6622c6d3",
   "metadata": {},
   "source": [
    "# Read type and configuration frequencies\n",
    "\n",
    "In this notebook, we determine the frequencies of the four types of mapped paired-end reads and the ten configurations across interactions of an interaction file generated with `UICer.py`, i.e., the interactions have already been classified as balanced or unbalanced. In order to keep the layout clear we have outsourced functions for counting and plotting to a separate module."
   ]
  },
  {
   "cell_type": "code",
   "execution_count": 2,
   "id": "aa20bdb0",
   "metadata": {},
   "outputs": [],
   "source": [
    "rtac_Counter = ReadTypeAndConfigCounter()"
   ]
  },
  {
   "cell_type": "markdown",
   "id": "cd842d2e",
   "metadata": {},
   "source": [
    "## Loading interaction data\n",
    "\n",
    "We generated interaction files for Hi-C and cpature Hi-C data on the 17 hematopoietic cell types using `UICer` and placed them in a directory named `diachrscripts/UICer_interactions`."
   ]
  },
  {
   "cell_type": "markdown",
   "id": "3ff4b91c",
   "metadata": {},
   "source": [
    "### Download interaction file for Mifsud data\n",
    "\n",
    " In addition, we provide a corresponding interaction file for download, which we have prepared for capture Hi-C data from the publication by [Mifsud et al. (2015)](https://pubmed.ncbi.nlm.nih.gov/25938943/)."
   ]
  },
  {
   "cell_type": "code",
   "execution_count": 3,
   "id": "fe8fc100",
   "metadata": {},
   "outputs": [
    {
     "name": "stdout",
     "output_type": "stream",
     "text": [
      "--2022-11-04 09:29:46--  https://www.genecascade.org/downloads/diachrscripts/MIF_REPC_evaluated_and_categorized_interactions.tsv.gz\n",
      "Resolving www.genecascade.org (www.genecascade.org)... 193.175.174.14\n",
      "Connecting to www.genecascade.org (www.genecascade.org)|193.175.174.14|:443... connected.\n",
      "HTTP request sent, awaiting response... 200 OK\n",
      "Length: 70203503 (67M) [application/x-gzip]\n",
      "Saving to: ‘../../UICer_interactions/CHC/MIF_GM12878_CHC_REPC_evaluated_and_categorized_interactions.tsv.gz’\n",
      "\n",
      "../../UICer_interac 100%[===================>]  66.95M  6.89MB/s    in 9.8s    \n",
      "\n",
      "2022-11-04 09:29:56 (6.86 MB/s) - ‘../../UICer_interactions/CHC/MIF_GM12878_CHC_REPC_evaluated_and_categorized_interactions.tsv.gz’ saved [70203503/70203503]\n",
      "\n"
     ]
    }
   ],
   "source": [
    "!mkdir -p ../../UICer_interactions/CHC\n",
    "!wget -O ../../UICer_interactions/CHC/MIF_GM12878_CHC_REPC_evaluated_and_categorized_interactions.tsv.gz https://www.genecascade.org/downloads/diachrscripts/MIF_REPC_evaluated_and_categorized_interactions.tsv.gz"
   ]
  },
  {
   "cell_type": "markdown",
   "id": "3f7bf44b",
   "metadata": {},
   "source": [
    "### Choose a file"
   ]
  },
  {
   "cell_type": "code",
   "execution_count": 4,
   "id": "8f150de4",
   "metadata": {},
   "outputs": [],
   "source": [
    "AUTHOR = 'SCH' # JAV, SCH, MIF ot MON\n",
    "PROTOCOL = 'CHC' # HC or CHC\n",
    "CELL_TYPE_SHORT = 'MESC' # MK, ERY, NEU, MON, MAC_M0, ..., , MESC, GM12878, CM, IPSC\n",
    "OUT_PREFIX = AUTHOR + '_' + CELL_TYPE_SHORT + '_' + PROTOCOL +'_REPC'\n",
    "INTERACTION_FILE = '../../UICer_interactions/' + PROTOCOL + '/' + OUT_PREFIX + '_evaluated_and_categorized_interactions.tsv.gz' "
   ]
  },
  {
   "cell_type": "markdown",
   "id": "d88aba6c",
   "metadata": {},
   "source": [
    "### Read interactions into data structure"
   ]
  },
  {
   "cell_type": "code",
   "execution_count": 5,
   "id": "165bb2da",
   "metadata": {},
   "outputs": [
    {
     "name": "stdout",
     "output_type": "stream",
     "text": [
      "[INFO] Parsing Diachromatic interaction file ...\n",
      "\t[INFO] ../../UICer_interactions/CHC/SCH_MESC_CHC_REPC_evaluated_and_categorized_interactions.tsv.gz\n",
      "\t[INFO] Set size: 992,329\n",
      "[INFO] ... done.\n"
     ]
    }
   ],
   "source": [
    "# Create DiachromaticInteractionSet\n",
    "d11_interaction_set = DiachromaticInteractionSet()\n",
    "d11_interaction_set.parse_file(\n",
    "    i_file = INTERACTION_FILE,\n",
    "    verbose = True)"
   ]
  },
  {
   "cell_type": "markdown",
   "id": "ebd0d2eb",
   "metadata": {},
   "source": [
    "## Frequencies of the for types of mapped paired-end reads\n",
    "\n",
    "In paired-end sequencing, four types read pairs can be distinguished after mapping:\n",
    "\n",
    "1. The reads are mapped onto different strands and point to each other (Type `0`)\n",
    "2. The reads are mapped onto different strands and point away from each other (Type `1`)\n",
    "3. The reads both are mapped to the forward strand (Type `2`)\n",
    "4. The reads both are mapped to the reverse strand (Type `3`)\n",
    "\n",
    "Here we determine the frequencies of the four types across all interactions as well as across all unbalanced and balanced interactions."
   ]
  },
  {
   "cell_type": "markdown",
   "id": "d332841c",
   "metadata": {},
   "source": [
    "### Count reads separately by type"
   ]
  },
  {
   "cell_type": "code",
   "execution_count": 6,
   "id": "c01e1162",
   "metadata": {},
   "outputs": [],
   "source": [
    "RP_TYPE_FREQ_DICT, RP_TYPE_DENS_DICT = rtac_Counter.count_read_types(d11_interaction_set)"
   ]
  },
  {
   "cell_type": "markdown",
   "id": "688d799f",
   "metadata": {},
   "source": [
    "### Output frequencies as a table"
   ]
  },
  {
   "cell_type": "code",
   "execution_count": 7,
   "id": "b309f282",
   "metadata": {},
   "outputs": [
    {
     "name": "stdout",
     "output_type": "stream",
     "text": [
      "U\n",
      "\t\tT0\tT1\tT2\tT3\n",
      "\tNN: \t0.26\t0.25\t0.25\t0.24\n",
      "\tEE: \t0.26\t0.23\t0.26\t0.25\n",
      "\tNE: \t0.25\t0.25\t0.25\t0.25\n",
      "\tEN: \t0.28\t0.22\t0.27\t0.23\n",
      "\tALL: \t0.26\t0.24\t0.26\t0.24\n",
      "\n",
      "B\n",
      "\t\tT0\tT1\tT2\tT3\n",
      "\tNN: \t0.25\t0.25\t0.24\t0.25\n",
      "\tEE: \t0.25\t0.24\t0.26\t0.25\n",
      "\tNE: \t0.25\t0.25\t0.25\t0.25\n",
      "\tEN: \t0.26\t0.24\t0.26\t0.24\n",
      "\tALL: \t0.25\t0.25\t0.25\t0.25\n",
      "\n",
      "ALL\n",
      "\t\tT0\tT1\tT2\tT3\n",
      "\tNN: \t0.26\t0.25\t0.25\t0.25\n",
      "\tEE: \t0.25\t0.24\t0.26\t0.25\n",
      "\tNE: \t0.25\t0.25\t0.25\t0.25\n",
      "\tEN: \t0.26\t0.24\t0.26\t0.24\n",
      "\tALL: \t0.26\t0.24\t0.26\t0.24\n",
      "\n"
     ]
    }
   ],
   "source": [
    "rtac_Counter.print_read_type_frequency_tables(\n",
    "    rp_type_freq_dict = RP_TYPE_FREQ_DICT,\n",
    "    rp_type_dens_dict = RP_TYPE_DENS_DICT,\n",
    "    i_cats = ['U','B','ALL'],\n",
    "    print_dens=True)"
   ]
  },
  {
   "cell_type": "markdown",
   "id": "82fc30e3",
   "metadata": {},
   "source": [
    "### Output frequencies as a bar chart\n",
    "\n",
    "Use `NN`, `NE`, `EN` or `EE` to plot the frequencies of specific enrichment categories. Use `ALL` to plot the frequencies across all enrichment categories."
   ]
  },
  {
   "cell_type": "code",
   "execution_count": 8,
   "id": "670d2e48",
   "metadata": {},
   "outputs": [
    {
     "data": {
      "image/png": "[encoded data removed]",
      "text/plain": [
       "<Figure size 324x504 with 6 Axes>"
      ]
     },
     "metadata": {
      "needs_background": "light"
     },
     "output_type": "display_data"
    }
   ],
   "source": [
    "fig = rtac_Counter.create_read_type_frequency_bar_charts(\n",
    "    rp_type_freq_dict = RP_TYPE_FREQ_DICT,\n",
    "    rp_type_dens_dict = RP_TYPE_DENS_DICT,\n",
    "    i_cats = ['U','B','ALL'],\n",
    "    e_cat = 'ALL',\n",
    "    pdf_file_name = NOTEBOOK_RESULTS_DIR + '/' + OUT_PREFIX + '_rp_type_frequency_bar_charts.pdf')"
   ]
  },
  {
   "cell_type": "markdown",
   "id": "d6760cb8",
   "metadata": {},
   "source": [
    "## Frequencies of configurations\n",
    "\n",
    "We distinguish ten configurations of interactions (`0X`, `1X`, `2X`, `3X`, `01`, `02`, `03`, `12`, `13`, `23`), depending on which of the four types of mapped paired-end reads predominate within individual interactions."
   ]
  },
  {
   "cell_type": "markdown",
   "id": "d0e38933",
   "metadata": {},
   "source": [
    "### Count interactions separately by configuration"
   ]
  },
  {
   "cell_type": "code",
   "execution_count": 9,
   "id": "760e9804",
   "metadata": {},
   "outputs": [],
   "source": [
    "CONF_FREQ_DICT, CONF_DENS_DICT = rtac_Counter.count_configurations(d11_interaction_set)"
   ]
  },
  {
   "cell_type": "markdown",
   "id": "45ac609e",
   "metadata": {},
   "source": [
    "### Output frequencies as a table"
   ]
  },
  {
   "cell_type": "code",
   "execution_count": 10,
   "id": "075099ef",
   "metadata": {},
   "outputs": [
    {
     "name": "stdout",
     "output_type": "stream",
     "text": [
      "U\n",
      "\t\tNN\t\tEE\t\tNE\t\tEN\t\tALL\n",
      "\t0X: \t94 (0.05)\t489 (0.02)\t3,690 (0.03)\t4,219 (0.04)\t8,492 (0.03)\n",
      "\t1X: \t78 (0.04)\t406 (0.02)\t3,803 (0.03)\t3,355 (0.03)\t7,642 (0.03)\n",
      "\t2X: \t84 (0.04)\t461 (0.02)\t3,846 (0.03)\t4,066 (0.04)\t8,457 (0.03)\n",
      "\t3X: \t79 (0.04)\t512 (0.03)\t3,708 (0.03)\t3,427 (0.03)\t7,726 (0.03)\n",
      "\t01: \t11 (0.01)\t189 (0.01)\t624 (0.01)\t611 (0.01)\t1,435 (0.01)\n",
      "\t02: \t474 (0.23)\t5,080 (0.25)\t7,174 (0.06)\t47,843 (0.41)\t60,571 (0.24)\n",
      "\t03: \t383 (0.19)\t4,538 (0.22)\t41,789 (0.36)\t7,162 (0.06)\t53,872 (0.21)\n",
      "\t12: \t406 (0.20)\t4,340 (0.21)\t43,224 (0.37)\t7,014 (0.06)\t54,984 (0.22)\n",
      "\t13: \t443 (0.22)\t4,135 (0.20)\t7,160 (0.06)\t37,102 (0.32)\t48,840 (0.19)\n",
      "\t23: \t6 (0.00)\t225 (0.01)\t557 (0.00)\t606 (0.01)\t1,394 (0.01)\n",
      "B\n",
      "\t\tNN\t\tEE\t\tNE\t\tEN\t\tALL\n",
      "\t0X: \t16 (0.00)\t90 (0.00)\t541 (0.00)\t610 (0.00)\t1,257 (0.00)\n",
      "\t1X: \t11 (0.00)\t76 (0.00)\t595 (0.00)\t554 (0.00)\t1,236 (0.00)\n",
      "\t2X: \t13 (0.00)\t91 (0.00)\t547 (0.00)\t600 (0.00)\t1,251 (0.00)\n",
      "\t3X: \t11 (0.00)\t68 (0.00)\t564 (0.00)\t542 (0.00)\t1,185 (0.00)\n",
      "\t01: \t1,059 (0.15)\t10,833 (0.14)\t51,379 (0.16)\t51,015 (0.16)\t114,286 (0.15)\n",
      "\t02: \t1,492 (0.22)\t17,338 (0.23)\t57,436 (0.17)\t92,807 (0.28)\t169,073 (0.23)\n",
      "\t03: \t1,407 (0.20)\t14,461 (0.19)\t75,614 (0.23)\t49,323 (0.15)\t140,805 (0.19)\n",
      "\t12: \t1,265 (0.18)\t14,547 (0.19)\t78,971 (0.24)\t46,132 (0.14)\t140,915 (0.19)\n",
      "\t13: \t1,126 (0.16)\t11,717 (0.16)\t40,679 (0.12)\t62,420 (0.19)\t115,942 (0.16)\n",
      "\t23: \t477 (0.07)\t6,104 (0.08)\t23,245 (0.07)\t23,140 (0.07)\t52,966 (0.07)\n",
      "ALL\n",
      "\t\tNN\t\tEE\t\tNE\t\tEN\t\tALL\n",
      "\t0X: \t110 (0.01)\t579 (0.01)\t4,231 (0.01)\t4,829 (0.01)\t9,749 (0.01)\n",
      "\t1X: \t89 (0.01)\t482 (0.01)\t4,398 (0.01)\t3,909 (0.01)\t8,878 (0.01)\n",
      "\t2X: \t97 (0.01)\t552 (0.01)\t4,393 (0.01)\t4,666 (0.01)\t9,708 (0.01)\n",
      "\t3X: \t90 (0.01)\t580 (0.01)\t4,272 (0.01)\t3,969 (0.01)\t8,911 (0.01)\n",
      "\t01: \t1,070 (0.12)\t11,022 (0.12)\t52,003 (0.12)\t51,626 (0.12)\t115,721 (0.12)\n",
      "\t02: \t1,966 (0.22)\t22,418 (0.23)\t64,610 (0.15)\t140,650 (0.32)\t229,644 (0.23)\n",
      "\t03: \t1,790 (0.20)\t18,999 (0.20)\t117,403 (0.26)\t56,485 (0.13)\t194,677 (0.20)\n",
      "\t12: \t1,671 (0.19)\t18,887 (0.20)\t122,195 (0.27)\t53,146 (0.12)\t195,899 (0.20)\n",
      "\t13: \t1,569 (0.18)\t15,852 (0.17)\t47,839 (0.11)\t99,522 (0.22)\t164,782 (0.17)\n",
      "\t23: \t483 (0.05)\t6,329 (0.07)\t23,802 (0.05)\t23,746 (0.05)\t54,360 (0.05)\n"
     ]
    }
   ],
   "source": [
    "rtac_Counter.print_configuration_frequency_tables(\n",
    "    conf_freq_dict = CONF_FREQ_DICT,\n",
    "    conf_dens_dict = CONF_DENS_DICT,\n",
    "    i_cats = ['U', 'B', 'ALL'])"
   ]
  },
  {
   "cell_type": "markdown",
   "id": "f9f99d72",
   "metadata": {},
   "source": [
    "### Output frequencies as a bar chart"
   ]
  },
  {
   "cell_type": "code",
   "execution_count": 11,
   "id": "f8b3baab",
   "metadata": {},
   "outputs": [
    {
     "data": {
      "image/png": "[encoded data removed]",
      "text/plain": [
       "<Figure size 360x518.4 with 6 Axes>"
      ]
     },
     "metadata": {
      "needs_background": "light"
     },
     "output_type": "display_data"
    }
   ],
   "source": [
    "# Use this method for Hi-C datasets\n",
    "fig = rtac_Counter.create_configuration_frequency_bar_charts(\n",
    "    i_cats = ['U', 'B', 'ALL'],\n",
    "    conf_freq_dict = CONF_FREQ_DICT,\n",
    "    e_cat_1 = 'ALL',\n",
    "    pdf_file_name = NOTEBOOK_RESULTS_DIR + '/' + OUT_PREFIX + '_configuration_frequency_bar_charts.pdf')"
   ]
  },
  {
   "cell_type": "markdown",
   "id": "45328bc5",
   "metadata": {},
   "source": [
    "### Output frequencies as a bar chart with two bars for each configuration\n",
    "\n",
    "For capture Hi-C data, we can distinguish interactions by enrichment states, i.e., whether interaction go from the baited digest towards 5' (`NE`) or 3' (`EN`) direction."
   ]
  },
  {
   "cell_type": "code",
   "execution_count": 12,
   "id": "5aa2f907",
   "metadata": {},
   "outputs": [
    {
     "data": {
      "image/png": "[encoded data removed]",
      "text/plain": [
       "<Figure size 360x518.4 with 6 Axes>"
      ]
     },
     "metadata": {
      "needs_background": "light"
     },
     "output_type": "display_data"
    }
   ],
   "source": [
    "# Use this for CHC data\n",
    "fig = rtac_Counter.create_configuration_frequency_bar_charts_2(\n",
    "    conf_freq_dict = CONF_FREQ_DICT,\n",
    "    i_cats = ['U', 'B', 'ALL'],\n",
    "    e_cat_1 = 'NE',\n",
    "    e_cat_2 = 'EN',\n",
    "    e_cat_1_color = 'darkred',\n",
    "    e_cat_2_color = 'darkblue',\n",
    "    pdf_file_name = NOTEBOOK_RESULTS_DIR + '/' + OUT_PREFIX + '_configuration_frequency_bar_charts_2.pdf'\n",
    "    )"
   ]
  }
 ],
 "metadata": {
  "kernelspec": {
   "display_name": "diachrscripts",
   "language": "python",
   "name": "diachrscripts"
  },
  "language_info": {
   "codemirror_mode": {
    "name": "ipython",
    "version": 3
   },
   "file_extension": ".py",
   "mimetype": "text/x-python",
   "name": "python",
   "nbconvert_exporter": "python",
   "pygments_lexer": "ipython3",
   "version": "3.7.11"
  }
 },
 "nbformat": 4,
 "nbformat_minor": 5
}
