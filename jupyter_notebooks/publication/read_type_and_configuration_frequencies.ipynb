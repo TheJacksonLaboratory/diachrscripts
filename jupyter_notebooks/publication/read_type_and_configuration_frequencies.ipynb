{
 "cells": [
  {
   "cell_type": "code",
   "execution_count": 1,
   "id": "6eac33d4",
   "metadata": {},
   "outputs": [],
   "source": [
    "import sys\n",
    "import os\n",
    "sys.path.append(\"../..\")\n",
    "from diachr import DiachromaticInteractionSet\n",
    "from diachr import ReadTypeAndConfigCounter\n",
    "\n",
    "# Create directory for output files generated in this notebook \n",
    "NOTEBOOK_RESULTS_DIR = 'read_type_and_configuration_frequencies_results'\n",
    "%mkdir -p $NOTEBOOK_RESULTS_DIR"
   ]
  },
  {
   "cell_type": "markdown",
   "id": "6622c6d3",
   "metadata": {},
   "source": [
    "# Read type and configuration frequencies\n",
    "\n",
    "In this notebook, we determine the frequencies of the four types of mapped paired-end reads and the ten configurations across interactions of an interaction file generated with `UICer.py`, i.e., the interactions have already been classified as balanced or unbalanced. In order to keep the layout clear we have outsourced functions for counting and plotting to a separate module."
   ]
  },
  {
   "cell_type": "code",
   "execution_count": 2,
   "id": "aa20bdb0",
   "metadata": {},
   "outputs": [],
   "source": [
    "rtac_Counter = ReadTypeAndConfigCounter()"
   ]
  },
  {
   "cell_type": "markdown",
   "id": "cd842d2e",
   "metadata": {},
   "source": [
    "## Loading interaction data\n",
    "\n",
    "We generated interaction files for Hi-C and cpature Hi-C data on the 17 hematopoietic cell types using `UICer` and placed them in a directory named `diachrscripts/UICer_interactions`."
   ]
  },
  {
   "cell_type": "markdown",
   "id": "3ff4b91c",
   "metadata": {},
   "source": [
    "### Download interaction file for Mifsud data\n",
    "\n",
    " In addition, we provide a corresponding interaction file for download, which we have prepared for capture Hi-C data from the publication by [Mifsud et al. (2015)](https://pubmed.ncbi.nlm.nih.gov/25938943/)."
   ]
  },
  {
   "cell_type": "code",
   "execution_count": 3,
   "id": "fe8fc100",
   "metadata": {},
   "outputs": [
    {
     "name": "stdout",
     "output_type": "stream",
     "text": [
      "--2022-11-04 09:29:46--  https://www.genecascade.org/downloads/diachrscripts/MIF_REPC_evaluated_and_categorized_interactions.tsv.gz\n",
      "Resolving www.genecascade.org (www.genecascade.org)... 193.175.174.14\n",
      "Connecting to www.genecascade.org (www.genecascade.org)|193.175.174.14|:443... connected.\n",
      "HTTP request sent, awaiting response... 200 OK\n",
      "Length: 70203503 (67M) [application/x-gzip]\n",
      "Saving to: ‘../../UICer_interactions/CHC/MIF_GM12878_CHC_REPC_evaluated_and_categorized_interactions.tsv.gz’\n",
      "\n",
      "../../UICer_interac 100%[===================>]  66.95M  6.89MB/s    in 9.8s    \n",
      "\n",
      "2022-11-04 09:29:56 (6.86 MB/s) - ‘../../UICer_interactions/CHC/MIF_GM12878_CHC_REPC_evaluated_and_categorized_interactions.tsv.gz’ saved [70203503/70203503]\n",
      "\n"
     ]
    }
   ],
   "source": [
    "!mkdir -p ../../UICer_interactions/CHC\n",
    "!wget -O ../../UICer_interactions/CHC/MIF_GM12878_CHC_REPC_evaluated_and_categorized_interactions.tsv.gz https://www.genecascade.org/downloads/diachrscripts/MIF_REPC_evaluated_and_categorized_interactions.tsv.gz"
   ]
  },
  {
   "cell_type": "markdown",
   "id": "3f7bf44b",
   "metadata": {},
   "source": [
    "### Choose a file"
   ]
  },
  {
   "cell_type": "code",
   "execution_count": 3,
   "id": "8f150de4",
   "metadata": {},
   "outputs": [],
   "source": [
    "AUTHOR = 'JAV' # MIF or JAV\n",
    "PROTOCOL = 'CHC' # HC or CHC\n",
    "CELL_TYPE_SHORT = 'MAC_M0' # GM12878, MK, ERY, NEU, MON, MAC_M0, ...\n",
    "OUT_PREFIX = AUTHOR + '_' + CELL_TYPE_SHORT + '_' + PROTOCOL +'_REPC'\n",
    "INTERACTION_FILE = '../../UICer_interactions/' + PROTOCOL + '/' + OUT_PREFIX + '_evaluated_and_categorized_interactions.tsv.gz' "
   ]
  },
  {
   "cell_type": "markdown",
   "id": "d88aba6c",
   "metadata": {},
   "source": [
    "### Read interactions into data structure"
   ]
  },
  {
   "cell_type": "code",
   "execution_count": 4,
   "id": "165bb2da",
   "metadata": {},
   "outputs": [
    {
     "name": "stdout",
     "output_type": "stream",
     "text": [
      "[INFO] Parsing Diachromatic interaction file ...\n",
      "\t[INFO] ../../UICer_interactions/CHC/JAV_MAC_M0_CHC_REPC_evaluated_and_categorized_interactions.tsv.gz\n",
      "\t[INFO] Parsed 1,000,000 interaction lines ...\n",
      "\t[INFO] Parsed 2,000,000 interaction lines ...\n",
      "\t[INFO] Parsed 3,000,000 interaction lines ...\n",
      "\t[INFO] Parsed 4,000,000 interaction lines ...\n",
      "\t[INFO] Parsed 5,000,000 interaction lines ...\n",
      "\t[INFO] Parsed 6,000,000 interaction lines ...\n",
      "\t[INFO] Set size: 6,954,711\n",
      "[INFO] ... done.\n"
     ]
    }
   ],
   "source": [
    "# Create DiachromaticInteractionSet\n",
    "d11_interaction_set = DiachromaticInteractionSet()\n",
    "d11_interaction_set.parse_file(\n",
    "    i_file = INTERACTION_FILE,\n",
    "    verbose = True)"
   ]
  },
  {
   "cell_type": "markdown",
   "id": "ebd0d2eb",
   "metadata": {},
   "source": [
    "## Frequencies of the for types of mapped paired-end reads\n",
    "\n",
    "In paired-end sequencing, four types read pairs can be distinguished after mapping:\n",
    "\n",
    "1. The reads are mapped onto different strands and point to each other (Type `0`)\n",
    "2. The reads are mapped onto different strands and point away from each other (Type `1`)\n",
    "3. The reads both are mapped to the forward strand (Type `2`)\n",
    "4. The reads both are mapped to the reverse strand (Type `3`)\n",
    "\n",
    "Here we determine the frequencies of the four types across all interactions as well as across all unbalanced and balanced interactions."
   ]
  },
  {
   "cell_type": "markdown",
   "id": "d332841c",
   "metadata": {},
   "source": [
    "### Count reads separately by type"
   ]
  },
  {
   "cell_type": "code",
   "execution_count": 5,
   "id": "c01e1162",
   "metadata": {},
   "outputs": [],
   "source": [
    "RP_TYPE_FREQ_DICT, RP_TYPE_DENS_DICT = rtac_Counter.count_read_types(d11_interaction_set)"
   ]
  },
  {
   "cell_type": "markdown",
   "id": "688d799f",
   "metadata": {},
   "source": [
    "### Output frequencies as a table"
   ]
  },
  {
   "cell_type": "code",
   "execution_count": 7,
   "id": "b309f282",
   "metadata": {},
   "outputs": [
    {
     "name": "stdout",
     "output_type": "stream",
     "text": [
      "U\n",
      "\t\tT0\tT1\tT2\tT3\n",
      "\tNN: \t0.27\t0.23\t0.16\t0.34\n",
      "\tEE: \t0.28\t0.21\t0.26\t0.25\n",
      "\tNE: \t0.26\t0.25\t0.25\t0.25\n",
      "\tEN: \t0.29\t0.21\t0.28\t0.22\n",
      "\tALL: \t0.27\t0.23\t0.27\t0.23\n",
      "\n",
      "B\n",
      "\t\tT0\tT1\tT2\tT3\n",
      "\tNN: \t0.26\t0.24\t0.23\t0.27\n",
      "\tEE: \t0.25\t0.24\t0.26\t0.25\n",
      "\tNE: \t0.25\t0.25\t0.25\t0.25\n",
      "\tEN: \t0.26\t0.24\t0.25\t0.25\n",
      "\tALL: \t0.25\t0.25\t0.25\t0.25\n",
      "\n",
      "ALL\n",
      "\t\tT0\tT1\tT2\tT3\n",
      "\tNN: \t0.27\t0.24\t0.21\t0.29\n",
      "\tEE: \t0.27\t0.22\t0.26\t0.25\n",
      "\tNE: \t0.25\t0.25\t0.25\t0.25\n",
      "\tEN: \t0.28\t0.22\t0.27\t0.23\n",
      "\tALL: \t0.27\t0.23\t0.26\t0.24\n",
      "\n"
     ]
    }
   ],
   "source": [
    "rtac_Counter.print_read_type_frequency_tables(\n",
    "    rp_type_freq_dict = RP_TYPE_FREQ_DICT,\n",
    "    rp_type_dens_dict = RP_TYPE_DENS_DICT,\n",
    "    i_cats = ['U','B','ALL'],\n",
    "    print_dens=True)"
   ]
  },
  {
   "cell_type": "markdown",
   "id": "82fc30e3",
   "metadata": {},
   "source": [
    "### Output frequencies as a bar chart\n",
    "\n",
    "Use `NN`, `NE`, `EN` or `EE` to plot the frequencies of specific enrichment categories. Use `ALL` to plot the frequencies across all enrichment categories."
   ]
  },
  {
   "cell_type": "code",
   "execution_count": 8,
   "id": "670d2e48",
   "metadata": {},
   "outputs": [
    {
     "data": {
      "image/png": "[encoded data removed]",
      "text/plain": [
       "<Figure size 324x504 with 6 Axes>"
      ]
     },
     "metadata": {
      "needs_background": "light"
     },
     "output_type": "display_data"
    }
   ],
   "source": [
    "fig = rtac_Counter.create_read_type_frequency_bar_charts(\n",
    "    rp_type_freq_dict = RP_TYPE_FREQ_DICT,\n",
    "    rp_type_dens_dict = RP_TYPE_DENS_DICT,\n",
    "    i_cats = ['U','B','ALL'],\n",
    "    e_cat = 'ALL',\n",
    "    pdf_file_name = NOTEBOOK_RESULTS_DIR + '/' + OUT_PREFIX + '_rp_type_frequency_bar_charts.pdf')"
   ]
  },
  {
   "cell_type": "markdown",
   "id": "d6760cb8",
   "metadata": {},
   "source": [
    "## Frequencies of configurations\n",
    "\n",
    "We distinguish ten configurations of interactions (`0X`, `1X`, `2X`, `3X`, `01`, `02`, `03`, `12`, `13`, `23`), depending on which of the four types of mapped paired-end reads predominate within individual interactions."
   ]
  },
  {
   "cell_type": "markdown",
   "id": "d0e38933",
   "metadata": {},
   "source": [
    "### Count interactions separately by configuration"
   ]
  },
  {
   "cell_type": "code",
   "execution_count": 9,
   "id": "760e9804",
   "metadata": {},
   "outputs": [],
   "source": [
    "CONF_FREQ_DICT, CONF_DENS_DICT = rtac_Counter.count_configurations(d11_interaction_set)"
   ]
  },
  {
   "cell_type": "markdown",
   "id": "45ac609e",
   "metadata": {},
   "source": [
    "### Output frequencies as a table"
   ]
  },
  {
   "cell_type": "code",
   "execution_count": 11,
   "id": "075099ef",
   "metadata": {},
   "outputs": [
    {
     "name": "stdout",
     "output_type": "stream",
     "text": [
      "U\n",
      "\t\tNN\t\tEE\t\tNE\t\tEN\t\tALL\n",
      "\t0X: \t3,737 (0.04)\t2,446 (0.02)\t43,505 (0.03)\t46,574 (0.03)\t96,262 (0.03)\n",
      "\t1X: \t2,704 (0.03)\t1,685 (0.01)\t40,838 (0.03)\t37,531 (0.03)\t82,758 (0.03)\n",
      "\t2X: \t2,197 (0.03)\t2,224 (0.02)\t48,402 (0.03)\t50,334 (0.03)\t103,157 (0.03)\n",
      "\t3X: \t4,057 (0.05)\t2,473 (0.02)\t36,357 (0.02)\t35,587 (0.02)\t78,474 (0.02)\n",
      "\t01: \t1,092 (0.01)\t763 (0.01)\t7,985 (0.01)\t7,905 (0.01)\t17,745 (0.01)\n",
      "\t02: \t13,926 (0.16)\t30,196 (0.27)\t154,788 (0.11)\t598,365 (0.40)\t797,275 (0.25)\n",
      "\t03: \t24,651 (0.29)\t27,307 (0.24)\t482,480 (0.33)\t137,732 (0.09)\t672,170 (0.21)\n",
      "\t12: \t12,376 (0.14)\t23,550 (0.21)\t524,284 (0.36)\t141,143 (0.10)\t701,353 (0.22)\n",
      "\t13: \t20,444 (0.24)\t21,400 (0.19)\t124,867 (0.08)\t417,397 (0.28)\t584,108 (0.19)\n",
      "\t23: \t973 (0.01)\t1,136 (0.01)\t7,028 (0.00)\t6,792 (0.00)\t15,929 (0.01)\n",
      "B\n",
      "\t\tNN\t\tEE\t\tNE\t\tEN\t\tALL\n",
      "\t0X: \t603 (0.00)\t178 (0.00)\t1,769 (0.00)\t2,044 (0.00)\t4,594 (0.00)\n",
      "\t1X: \t452 (0.00)\t155 (0.00)\t1,970 (0.00)\t1,607 (0.00)\t4,184 (0.00)\n",
      "\t2X: \t416 (0.00)\t186 (0.00)\t2,195 (0.00)\t2,149 (0.00)\t4,946 (0.00)\n",
      "\t3X: \t626 (0.00)\t172 (0.00)\t1,557 (0.00)\t1,509 (0.00)\t3,864 (0.00)\n",
      "\t01: \t64,932 (0.19)\t20,255 (0.14)\t261,014 (0.16)\t257,250 (0.16)\t603,451 (0.16)\n",
      "\t02: \t71,026 (0.20)\t34,638 (0.23)\t319,490 (0.19)\t450,863 (0.27)\t876,017 (0.23)\n",
      "\t03: \t80,114 (0.23)\t29,452 (0.20)\t337,015 (0.20)\t283,961 (0.17)\t730,542 (0.19)\n",
      "\t12: \t52,805 (0.15)\t28,436 (0.19)\t382,167 (0.23)\t257,347 (0.16)\t720,755 (0.19)\n",
      "\t13: \t55,417 (0.16)\t23,664 (0.16)\t235,903 (0.14)\t269,403 (0.16)\t584,387 (0.15)\n",
      "\t23: \t24,061 (0.07)\t12,324 (0.08)\t119,233 (0.07)\t117,122 (0.07)\t272,740 (0.07)\n",
      "ALL\n",
      "\t\tNN\t\tEE\t\tNE\t\tEN\t\tALL\n",
      "\t0X: \t4,340 (0.01)\t2,624 (0.01)\t45,274 (0.01)\t48,618 (0.02)\t100,856 (0.01)\n",
      "\t1X: \t3,156 (0.01)\t1,840 (0.01)\t42,808 (0.01)\t39,138 (0.01)\t86,942 (0.01)\n",
      "\t2X: \t2,613 (0.01)\t2,410 (0.01)\t50,597 (0.02)\t52,483 (0.02)\t108,103 (0.02)\n",
      "\t3X: \t4,683 (0.01)\t2,645 (0.01)\t37,914 (0.01)\t37,096 (0.01)\t82,338 (0.01)\n",
      "\t01: \t66,024 (0.15)\t21,018 (0.08)\t268,999 (0.09)\t265,155 (0.08)\t621,196 (0.09)\n",
      "\t02: \t84,952 (0.19)\t64,834 (0.25)\t474,278 (0.15)\t1,049,228 (0.34)\t1,673,292 (0.24)\n",
      "\t03: \t104,765 (0.24)\t56,759 (0.22)\t819,495 (0.26)\t421,693 (0.14)\t1,402,712 (0.20)\n",
      "\t12: \t65,181 (0.15)\t51,986 (0.20)\t906,451 (0.29)\t398,490 (0.13)\t1,422,108 (0.20)\n",
      "\t13: \t75,861 (0.17)\t45,064 (0.17)\t360,770 (0.12)\t686,800 (0.22)\t1,168,495 (0.17)\n",
      "\t23: \t25,034 (0.06)\t13,460 (0.05)\t126,261 (0.04)\t123,914 (0.04)\t288,669 (0.04)\n"
     ]
    }
   ],
   "source": [
    "rtac_Counter.print_configuration_frequency_tables(\n",
    "    conf_freq_dict = CONF_FREQ_DICT,\n",
    "    conf_dens_dict = CONF_DENS_DICT,\n",
    "    i_cats = ['U', 'B', 'ALL'])"
   ]
  },
  {
   "cell_type": "markdown",
   "id": "f9f99d72",
   "metadata": {},
   "source": [
    "### Output frequencies as a bar chart"
   ]
  },
  {
   "cell_type": "code",
   "execution_count": 12,
   "id": "f8b3baab",
   "metadata": {},
   "outputs": [
    {
     "data": {
      "image/png": "[encoded data removed]",
      "text/plain": [
       "<Figure size 360x518.4 with 6 Axes>"
      ]
     },
     "metadata": {
      "needs_background": "light"
     },
     "output_type": "display_data"
    }
   ],
   "source": [
    "# Use this method for Hi-C datasets\n",
    "fig = rtac_Counter.create_configuration_frequency_bar_charts(\n",
    "    i_cats = ['U', 'B', 'ALL'],\n",
    "    conf_freq_dict = CONF_FREQ_DICT,\n",
    "    e_cat_1 = 'ALL',\n",
    "    pdf_file_name = NOTEBOOK_RESULTS_DIR + '/' + OUT_PREFIX + '_configuration_frequency_bar_charts.pdf'\n",
    "    )"
   ]
  },
  {
   "cell_type": "markdown",
   "id": "45328bc5",
   "metadata": {},
   "source": [
    "### Output frequencies as a bar chart with two bars for each configuration\n",
    "\n",
    "For capture Hi-C data, we can distinguish interactions by enrichment states, i.e., whether interaction go from the baited digest towards 5' (`NE`) or 3' (`EN`) direction."
   ]
  },
  {
   "cell_type": "code",
   "execution_count": 13,
   "id": "5aa2f907",
   "metadata": {},
   "outputs": [
    {
     "data": {
      "image/png": "[encoded data removed]",
      "text/plain": [
       "<Figure size 360x518.4 with 6 Axes>"
      ]
     },
     "metadata": {
      "needs_background": "light"
     },
     "output_type": "display_data"
    }
   ],
   "source": [
    "# Use this for CHC data\n",
    "fig = rtac_Counter.create_configuration_frequency_bar_charts_2(\n",
    "    conf_freq_dict = CONF_FREQ_DICT,\n",
    "    i_cats = ['U', 'B', 'ALL'],\n",
    "    e_cat_1 = 'NE',\n",
    "    e_cat_2 = 'EN',\n",
    "    e_cat_1_color = 'darkred',\n",
    "    e_cat_2_color = 'darkblue',\n",
    "    pdf_file_name = NOTEBOOK_RESULTS_DIR + '/' + OUT_PREFIX + '_configuration_frequency_bar_charts_2.pdf'\n",
    "    )"
   ]
  }
 ],
 "metadata": {
  "kernelspec": {
   "display_name": "diachrscripts",
   "language": "python",
   "name": "diachrscripts"
  },
  "language_info": {
   "codemirror_mode": {
    "name": "ipython",
    "version": 3
   },
   "file_extension": ".py",
   "mimetype": "text/x-python",
   "name": "python",
   "nbconvert_exporter": "python",
   "pygments_lexer": "ipython3",
   "version": "3.7.11"
  }
 },
 "nbformat": 4,
 "nbformat_minor": 5
}
