{
 "cells": [
  {
   "cell_type": "markdown",
   "id": "5064ca51",
   "metadata": {},
   "source": [
    "# Ensembl Regulatory Build Overlap\n",
    "This notebook explores the overlap of regulatory elements with balanced and unbalanced interactions.\n",
    "The ensembl file can be downloaded here http://ftp.ensembl.org/pub/current_regulation/homo_sapiens/\n",
    "(homo_sapiens.GRCh38.Regulatory_Build.regulatory_features.20210107.gff.gz). Explanations are available here \n",
    "http://useast.ensembl.org/info/genome/funcgen/regulatory_build.html."
   ]
  },
  {
   "cell_type": "code",
   "execution_count": 20,
   "id": "b3c96431",
   "metadata": {},
   "outputs": [],
   "source": [
    "import gzip\n",
    "import pandas as pd\n",
    "from collections import defaultdict"
   ]
  },
  {
   "cell_type": "markdown",
   "id": "429ca224",
   "metadata": {},
   "source": [
    "Enter the path to the regulaotry build file here"
   ]
  },
  {
   "cell_type": "code",
   "execution_count": 3,
   "id": "714cfdc3",
   "metadata": {},
   "outputs": [
    {
     "name": "stdout",
     "output_type": "stream",
     "text": [
      "/home/peter/data/diachromatic/homo_sapiens.GRCh38.Regulatory_Build.regulatory_features.20210107.gff.gz\n"
     ]
    }
   ],
   "source": [
    "regbuild_path = input()"
   ]
  },
  {
   "cell_type": "markdown",
   "id": "10da6803",
   "metadata": {},
   "source": [
    "## Format \n",
    "Specify the data types and column names. The start and the end are integers. The score column has \".\" in this file so we specify the datatype of string."
   ]
  },
  {
   "cell_type": "code",
   "execution_count": 10,
   "id": "3146c15c",
   "metadata": {
    "scrolled": true
   },
   "outputs": [],
   "source": [
    "column_names = ['seqname', 'source', 'feature', 'start', 'end', 'score', 'strand', 'frame', 'attribute']\n",
    "column_datatypes = {'seqname':str, 'source':str, 'feature':str, 'start':int, 'end':int, 'score':str, 'strand':str, 'frame':str, 'attribute':str}\n",
    "df = pd.read_csv(regbuild_path, delimiter='\\t', header=None, names=column_names, dtype=column_datatypes)"
   ]
  },
  {
   "cell_type": "code",
   "execution_count": 11,
   "id": "0fcb62fd",
   "metadata": {},
   "outputs": [
    {
     "data": {
      "text/html": [
       "<div>\n",
       "<style scoped>\n",
       "    .dataframe tbody tr th:only-of-type {\n",
       "        vertical-align: middle;\n",
       "    }\n",
       "\n",
       "    .dataframe tbody tr th {\n",
       "        vertical-align: top;\n",
       "    }\n",
       "\n",
       "    .dataframe thead th {\n",
       "        text-align: right;\n",
       "    }\n",
       "</style>\n",
       "<table border=\"1\" class=\"dataframe\">\n",
       "  <thead>\n",
       "    <tr style=\"text-align: right;\">\n",
       "      <th></th>\n",
       "      <th>seqname</th>\n",
       "      <th>source</th>\n",
       "      <th>feature</th>\n",
       "      <th>start</th>\n",
       "      <th>end</th>\n",
       "      <th>score</th>\n",
       "      <th>strand</th>\n",
       "      <th>frame</th>\n",
       "      <th>attribute</th>\n",
       "    </tr>\n",
       "  </thead>\n",
       "  <tbody>\n",
       "    <tr>\n",
       "      <th>0</th>\n",
       "      <td>GL000008.2</td>\n",
       "      <td>Regulatory_Build</td>\n",
       "      <td>open_chromatin_region</td>\n",
       "      <td>103733</td>\n",
       "      <td>104006</td>\n",
       "      <td>.</td>\n",
       "      <td>.</td>\n",
       "      <td>.</td>\n",
       "      <td>ID=open_chromatin_region:ENSR00000898744;bound...</td>\n",
       "    </tr>\n",
       "    <tr>\n",
       "      <th>1</th>\n",
       "      <td>GL000008.2</td>\n",
       "      <td>Regulatory_Build</td>\n",
       "      <td>open_chromatin_region</td>\n",
       "      <td>106249</td>\n",
       "      <td>106503</td>\n",
       "      <td>.</td>\n",
       "      <td>.</td>\n",
       "      <td>.</td>\n",
       "      <td>ID=open_chromatin_region:ENSR00000898745;bound...</td>\n",
       "    </tr>\n",
       "    <tr>\n",
       "      <th>2</th>\n",
       "      <td>GL000008.2</td>\n",
       "      <td>Regulatory_Build</td>\n",
       "      <td>open_chromatin_region</td>\n",
       "      <td>112878</td>\n",
       "      <td>113287</td>\n",
       "      <td>.</td>\n",
       "      <td>.</td>\n",
       "      <td>.</td>\n",
       "      <td>ID=open_chromatin_region:ENSR00000898746;bound...</td>\n",
       "    </tr>\n",
       "    <tr>\n",
       "      <th>3</th>\n",
       "      <td>GL000008.2</td>\n",
       "      <td>Regulatory_Build</td>\n",
       "      <td>open_chromatin_region</td>\n",
       "      <td>134012</td>\n",
       "      <td>134308</td>\n",
       "      <td>.</td>\n",
       "      <td>.</td>\n",
       "      <td>.</td>\n",
       "      <td>ID=open_chromatin_region:ENSR00000898747;bound...</td>\n",
       "    </tr>\n",
       "    <tr>\n",
       "      <th>4</th>\n",
       "      <td>GL000008.2</td>\n",
       "      <td>Regulatory_Build</td>\n",
       "      <td>open_chromatin_region</td>\n",
       "      <td>138112</td>\n",
       "      <td>138274</td>\n",
       "      <td>.</td>\n",
       "      <td>.</td>\n",
       "      <td>.</td>\n",
       "      <td>ID=open_chromatin_region:ENSR00001290160;bound...</td>\n",
       "    </tr>\n",
       "  </tbody>\n",
       "</table>\n",
       "</div>"
      ],
      "text/plain": [
       "      seqname            source                feature   start     end score  \\\n",
       "0  GL000008.2  Regulatory_Build  open_chromatin_region  103733  104006     .   \n",
       "1  GL000008.2  Regulatory_Build  open_chromatin_region  106249  106503     .   \n",
       "2  GL000008.2  Regulatory_Build  open_chromatin_region  112878  113287     .   \n",
       "3  GL000008.2  Regulatory_Build  open_chromatin_region  134012  134308     .   \n",
       "4  GL000008.2  Regulatory_Build  open_chromatin_region  138112  138274     .   \n",
       "\n",
       "  strand frame                                          attribute  \n",
       "0      .     .  ID=open_chromatin_region:ENSR00000898744;bound...  \n",
       "1      .     .  ID=open_chromatin_region:ENSR00000898745;bound...  \n",
       "2      .     .  ID=open_chromatin_region:ENSR00000898746;bound...  \n",
       "3      .     .  ID=open_chromatin_region:ENSR00000898747;bound...  \n",
       "4      .     .  ID=open_chromatin_region:ENSR00001290160;bound...  "
      ]
     },
     "execution_count": 11,
     "metadata": {},
     "output_type": "execute_result"
    }
   ],
   "source": [
    "df.head()"
   ]
  },
  {
   "cell_type": "code",
   "execution_count": 14,
   "id": "5dd88cf4",
   "metadata": {},
   "outputs": [
    {
     "name": "stdout",
     "output_type": "stream",
     "text": [
      "The genomic elements listed in this file are open_chromatin_region; TF_binding_site; CTCF_binding_site; enhancer; promoter; promoter_flanking_region\n"
     ]
    }
   ],
   "source": [
    "feature_categories = df['feature'].unique()\n",
    "print(\"The genomic elements listed in this file are: %s\" % \"; \".join(feature_categories))"
   ]
  },
  {
   "cell_type": "markdown",
   "id": "ff862aec",
   "metadata": {},
   "source": [
    "# Hypothesis\n",
    "We want to test whether the non-enriched digest of unbalanced interactions are more likely to be located in enhancers than the balanced interactions.\n",
    "To test this, we define a simple class for genomic elements. First let us view the chromosomes and other contigs."
   ]
  },
  {
   "cell_type": "code",
   "execution_count": 15,
   "id": "8ff0646a",
   "metadata": {},
   "outputs": [
    {
     "data": {
      "text/plain": [
       "array(['GL000008.2', 'GL000009.2', 'GL000194.1', 'GL000195.1',\n",
       "       'GL000205.2', 'GL000208.1', 'GL000213.1', 'GL000214.1',\n",
       "       'GL000216.2', 'GL000218.1', 'GL000219.1', 'GL000220.1',\n",
       "       'GL000221.1', 'GL000224.1', 'GL000225.1', 'KI270330.1',\n",
       "       'KI270333.1', 'KI270336.1', 'KI270337.1', 'KI270438.1',\n",
       "       'KI270442.1', 'KI270466.1', 'KI270519.1', 'KI270521.1',\n",
       "       'KI270528.1', 'KI270538.1', 'KI270581.1', 'KI270706.1',\n",
       "       'KI270707.1', 'KI270708.1', 'KI270709.1', 'KI270710.1',\n",
       "       'KI270711.1', 'KI270712.1', 'KI270713.1', 'KI270714.1',\n",
       "       'KI270716.1', 'KI270717.1', 'KI270718.1', 'KI270719.1',\n",
       "       'KI270720.1', 'KI270721.1', 'KI270722.1', 'KI270723.1',\n",
       "       'KI270724.1', 'KI270725.1', 'KI270726.1', 'KI270727.1',\n",
       "       'KI270728.1', 'KI270729.1', 'KI270730.1', 'KI270731.1',\n",
       "       'KI270732.1', 'KI270733.1', 'KI270734.1', 'KI270735.1',\n",
       "       'KI270736.1', 'KI270737.1', 'KI270738.1', 'KI270739.1',\n",
       "       'KI270741.1', 'KI270742.1', 'KI270743.1', 'KI270744.1',\n",
       "       'KI270745.1', 'KI270747.1', 'KI270748.1', 'KI270749.1',\n",
       "       'KI270750.1', 'KI270751.1', 'KI270752.1', 'KI270753.1',\n",
       "       'KI270754.1', 'KI270755.1', 'KI270756.1', 'KI270757.1', 'X', 'Y',\n",
       "       '1', '2', '3', '4', '5', '6', '7', '8', '9', '10', '11', '12',\n",
       "       '13', '14', '15', '16', '17', '18', '19', '20', '21', '22'],\n",
       "      dtype=object)"
      ]
     },
     "execution_count": 15,
     "metadata": {},
     "output_type": "execute_result"
    }
   ],
   "source": [
    "contig_labels = df['seqname'].unique()\n",
    "contig_labels"
   ]
  },
  {
   "cell_type": "markdown",
   "id": "2926ca8d",
   "metadata": {},
   "source": [
    "We will omit elements that are not located on the canonical chromosomes"
   ]
  },
  {
   "cell_type": "code",
   "execution_count": 16,
   "id": "1e42d166",
   "metadata": {},
   "outputs": [],
   "source": [
    "class GenomicElement:\n",
    "    def __init__(self, contig, start, end):\n",
    "        self._chrom = contig\n",
    "        if not isinstance(start, int) or not isinstance(end, int):\n",
    "            raise ValueError(\"Start and End need to be integers\")\n",
    "        self._start = start\n",
    "        self._end = end\n",
    "    \n",
    "    @property\n",
    "    def chrom(self):\n",
    "        return self._chrom\n",
    "    \n",
    "    @property\n",
    "    def start(self):\n",
    "        return self._start\n",
    "    \n",
    "    @property\n",
    "    def end(self):\n",
    "        return self._end"
   ]
  },
  {
   "cell_type": "code",
   "execution_count": 17,
   "id": "a3fefe22",
   "metadata": {},
   "outputs": [],
   "source": [
    "valid_contigs = {'X', 'Y',\n",
    "       '1', '2', '3', '4', '5', '6', '7', '8', '9', '10', '11', '12',\n",
    "       '13', '14', '15', '16', '17', '18', '19', '20', '21', '22'}"
   ]
  },
  {
   "cell_type": "code",
   "execution_count": 21,
   "id": "e3039769",
   "metadata": {},
   "outputs": [],
   "source": [
    "elements = defaultdict(list)\n",
    "df = df.reset_index()  # make sure indexes pair with number of rows\n",
    "for index, row in df.iterrows():\n",
    "    if row['seqname'] in valid_contigs:\n",
    "        elem = GenomicElement(contig=row['seqname'], start=row['start'], end=row['end'])\n",
    "        elements[row['feature']].append(elem)"
   ]
  },
  {
   "cell_type": "code",
   "execution_count": 22,
   "id": "936336ea",
   "metadata": {},
   "outputs": [
    {
     "name": "stdout",
     "output_type": "stream",
     "text": [
      "CTCF_binding_site n=175885\n",
      "enhancer n=127935\n",
      "open_chromatin_region n=110101\n",
      "promoter n=36597\n",
      "promoter_flanking_region n=140548\n",
      "TF_binding_site n=30303\n"
     ]
    }
   ],
   "source": [
    "for k, v in elements.items():\n",
    "    print(f\"{k} n={len(v)}\")"
   ]
  },
  {
   "cell_type": "markdown",
   "id": "60e4701d",
   "metadata": {},
   "source": [
    "# Analyze Interactions at baits"
   ]
  },
  {
   "cell_type": "code",
   "execution_count": 23,
   "id": "1d66c037",
   "metadata": {},
   "outputs": [],
   "source": [
    "import sys\n",
    "import os\n",
    "import pandas\n",
    "import copy\n",
    "sys.path.append(\"..\")\n",
    "from diachr import DiachromaticInteractionSet\n",
    "from diachr import BaitedDigest\n",
    "from diachr import BaitedDigestSet"
   ]
  },
  {
   "cell_type": "markdown",
   "id": "95a81207",
   "metadata": {},
   "source": [
    "# Import diachromatic file\n",
    "Import a file such as /JAV_MK_RALT_20000_st_fdr0.05_evaluated_and_categorized_interactions.tsv.gz"
   ]
  },
  {
   "cell_type": "code",
   "execution_count": 24,
   "id": "192a4de3",
   "metadata": {},
   "outputs": [
    {
     "name": "stdout",
     "output_type": "stream",
     "text": [
      "/home/peter/data/diachromatic/JAV_MK_RALT_20000_st_fdr0.05_evaluated_and_categorized_interactions.tsv.gz\n"
     ]
    }
   ],
   "source": [
    "diachromatic_file = input()"
   ]
  },
  {
   "cell_type": "code",
   "execution_count": 25,
   "id": "71dd4ae1",
   "metadata": {},
   "outputs": [
    {
     "name": "stdout",
     "output_type": "stream",
     "text": [
      "[INFO] Parsing Diachromatic interaction file ...\n",
      "\t[INFO] /home/peter/data/diachromatic/JAV_MK_RALT_20000_st_fdr0.05_evaluated_and_categorized_interactions.tsv.gz\n",
      "\t[INFO] Parsed 1,000,000 interaction lines ...\n",
      "\t[INFO] Parsed 2,000,000 interaction lines ...\n",
      "\t[INFO] Parsed 3,000,000 interaction lines ...\n",
      "\t[INFO] Parsed 4,000,000 interaction lines ...\n",
      "\t[INFO] Parsed 5,000,000 interaction lines ...\n",
      "\t[INFO] Set size: 5,249,507\n",
      "[INFO] ... done.\n"
     ]
    }
   ],
   "source": [
    "# Create DiachromaticInteractionSet\n",
    "d11_interaction_set = DiachromaticInteractionSet(rpc_rule = 'ht')\n",
    "d11_interaction_set.parse_file(\n",
    "    i_file = diachromatic_file,\n",
    "    verbose = True)"
   ]
  },
  {
   "cell_type": "markdown",
   "id": "04ff68ff",
   "metadata": {},
   "source": [
    "Next, we create a BaitedDigestSet and pass the DiachromaticInteractionSet."
   ]
  },
  {
   "cell_type": "code",
   "execution_count": 26,
   "id": "894f4bfe",
   "metadata": {},
   "outputs": [
    {
     "name": "stdout",
     "output_type": "stream",
     "text": [
      "[INFO] Reading interactions and group them according to chromosomes and baited digests ...\n",
      "\t[INFO] Read 1,000,000 interactions ...\n",
      "\t[INFO] Read 2,000,000 interactions ...\n",
      "\t[INFO] Read 3,000,000 interactions ...\n",
      "\t[INFO] Read 4,000,000 interactions ...\n",
      "\t[INFO] Read 5,000,000 interactions ...\n",
      "\t[INFO] Total number of interactions read: 5,249,507\n",
      "\t[INFO] Total number of baited digests: 21,700\n",
      "[INFO] ... done.\n"
     ]
    }
   ],
   "source": [
    "baited_digest_set = BaitedDigestSet()\n",
    "read_interactions_info_dict = baited_digest_set.ingest_interaction_set(d11_interaction_set, verbose=True)"
   ]
  },
  {
   "cell_type": "code",
   "execution_count": 27,
   "id": "4db06c16",
   "metadata": {},
   "outputs": [
    {
     "name": "stdout",
     "output_type": "stream",
     "text": [
      "[INFO] Report on ingestion of interactions:\n",
      "\t[INFO] Total number of interactions read: 5,249,507\n",
      "\t[INFO] Discarded NN and EE interactions: 330,224\n",
      "\t[INFO] Total number of ingested NE and EN interactions: 4,919,283\n",
      "\t[INFO] Broken down by interaction category and enrichment status: \n",
      "\t\t[INFO] DIX: \n",
      "\t\t\t[INFO] NE: 65\n",
      "\t\t\t[INFO] EN: 80\n",
      "\t\t[INFO] DI: \n",
      "\t\t\t[INFO] NE: 97,547\n",
      "\t\t\t[INFO] EN: 100,355\n",
      "\t\t[INFO] UIR: \n",
      "\t\t\t[INFO] NE: 99,118\n",
      "\t\t\t[INFO] EN: 98,784\n",
      "\t\t[INFO] UI: \n",
      "\t\t\t[INFO] NE: 2,262,625\n",
      "\t\t\t[INFO] EN: 2,260,709\n",
      "\t\t[INFO] ALL: \n",
      "\t\t\t[INFO] NE: 2,459,355\n",
      "\t\t\t[INFO] EN: 2,459,928\n",
      "\t[INFO] Total number of baited digests: 21,700\n",
      "[INFO] End of report.\n",
      "\n"
     ]
    }
   ],
   "source": [
    "print(baited_digest_set.get_ingest_interaction_set_info_report())"
   ]
  },
  {
   "cell_type": "code",
   "execution_count": 29,
   "id": "d07a3426",
   "metadata": {},
   "outputs": [
    {
     "name": "stdout",
     "output_type": "stream",
     "text": [
      "<diachr.baited_digest.BaitedDigest object at 0x7f0b0be29250>\n",
      "<diachr.baited_digest.BaitedDigest object at 0x7f0b0be298b0>\n",
      "<diachr.baited_digest.BaitedDigest object at 0x7f0b0be29c40>\n",
      "<diachr.baited_digest.BaitedDigest object at 0x7f0b0bdcd5b0>\n",
      "<diachr.baited_digest.BaitedDigest object at 0x7f0b0bdf2550>\n",
      "<diachr.baited_digest.BaitedDigest object at 0x7f0b0bdf2b50>\n",
      "<diachr.baited_digest.BaitedDigest object at 0x7f0b0bdf2eb0>\n",
      "<diachr.baited_digest.BaitedDigest object at 0x7f0b0bd982b0>\n",
      "<diachr.baited_digest.BaitedDigest object at 0x7f0b0bd98490>\n",
      "<diachr.baited_digest.BaitedDigest object at 0x7f0b0bd98910>\n",
      "<diachr.baited_digest.BaitedDigest object at 0x7f0b0bdbc310>\n",
      "<diachr.baited_digest.BaitedDigest object at 0x7f0b0bdbc730>\n",
      "<diachr.baited_digest.BaitedDigest object at 0x7f0b0bdbc970>\n",
      "<diachr.baited_digest.BaitedDigest object at 0x7f0b0bdbce50>\n",
      "<diachr.baited_digest.BaitedDigest object at 0x7f0b0bd60130>\n",
      "<diachr.baited_digest.BaitedDigest object at 0x7f0b0bd60430>\n",
      "<diachr.baited_digest.BaitedDigest object at 0x7f0b0bd60d30>\n",
      "<diachr.baited_digest.BaitedDigest object at 0x7f0b0bd60e50>\n",
      "<diachr.baited_digest.BaitedDigest object at 0x7f0b0bd60eb0>\n",
      "<diachr.baited_digest.BaitedDigest object at 0x7f0b0bd06a00>\n",
      "<diachr.baited_digest.BaitedDigest object at 0x7f0b0bd06c40>\n"
     ]
    }
   ],
   "source": [
    "di_baited_digests = 0\n",
    "di_num_total = 0\n",
    "count = 0\n",
    "for chrom in baited_digest_set._baited_digest_dict.keys():\n",
    "    for baited_digest_key, baited_digest in baited_digest_set._baited_digest_dict[chrom].items():\n",
    "        print(baited_digest)\n",
    "        count += 1\n",
    "        if count > 20:\n",
    "            break\n",
    "    break"
   ]
  },
  {
   "cell_type": "code",
   "execution_count": null,
   "id": "610b852b",
   "metadata": {},
   "outputs": [],
   "source": []
  }
 ],
 "metadata": {
  "kernelspec": {
   "display_name": "p38",
   "language": "python",
   "name": "p38"
  },
  "language_info": {
   "codemirror_mode": {
    "name": "ipython",
    "version": 3
   },
   "file_extension": ".py",
   "mimetype": "text/x-python",
   "name": "python",
   "nbconvert_exporter": "python",
   "pygments_lexer": "ipython3",
   "version": "3.8.10"
  }
 },
 "nbformat": 4,
 "nbformat_minor": 5
}
