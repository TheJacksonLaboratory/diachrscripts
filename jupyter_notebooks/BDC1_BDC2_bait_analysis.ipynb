{
 "cells": [
  {
   "cell_type": "code",
   "execution_count": 1,
   "id": "b23624cc",
   "metadata": {},
   "outputs": [],
   "source": [
    "import pybedtools\n",
    "import pandas as pd\n",
    "from scipy.stats import fisher_exact\n",
    "from numpy import log10, mean, max, quantile, corrcoef, median\n",
    "from scipy import stats\n",
    "import matplotlib.pyplot as plt\n",
    "from re import sub\n",
    "%matplotlib inline\n",
    "\n",
    "# Create directory for output files generated in this notebook \n",
    "NOTEBOOK_RESULTS_DIR = 'AAAAAAAAA_C'\n",
    "%mkdir -p $NOTEBOOK_RESULTS_DIR\n",
    "OUT_PREFIX = 'JAV_MAC_M0_CHC_RALT'"
   ]
  },
  {
   "cell_type": "markdown",
   "id": "51a9738b",
   "metadata": {},
   "source": [
    "# Analysis of baits at BCD0, BDC1 and BDC2 digests"
   ]
  },
  {
   "cell_type": "markdown",
   "id": "a4e9cbfc",
   "metadata": {},
   "source": [
    "## Create data structure for digests and associated baits"
   ]
  },
  {
   "cell_type": "markdown",
   "id": "ec54a740",
   "metadata": {},
   "source": [
    "### Input files\n",
    "\n",
    "We use the regions of Mifsud's baits, Javierre's baited digests and those of the digests we have classified as BCD1 or BDC2. We also need the reference sequence for investigating GC and repeat content of baits."
   ]
  },
  {
   "cell_type": "code",
   "execution_count": 2,
   "id": "23be2156",
   "metadata": {},
   "outputs": [],
   "source": [
    "# BED file with all baits\n",
    "MIFSUD_BAIT_FILE = pybedtools.BedTool('../additional_files/mifsud_2015/mifsud_baits_hg38.bed')\n",
    "\n",
    "# BED file with all baited digests\n",
    "BAITED_DIGEST_FILE = pybedtools.BedTool('../additional_files/javierre_2016/javierre_baited_digests_hg38.bed')\n",
    "\n",
    "# BED files for BDC1 and BDC2 baited digests\n",
    "BDC1_DIGEST_FILE = pybedtools.BedTool('bdc_lists/JAV_MAC_M0_CHC_RALT_20000_ht_bdc1.bed')\n",
    "BDC2_DIGEST_FILE = pybedtools.BedTool('bdc_lists/JAV_MAC_M0_CHC_RALT_20000_ht_bdc2.bed')\n",
    "\n",
    "# Genome sequence file\n",
    "# A corresponding index file 'genome.fa.fai' must be in the same directory\n",
    "HG38_GENOME_FILE = '/Users/hansep/ref_data/hg38_genome.fa'"
   ]
  },
  {
   "cell_type": "markdown",
   "id": "8806af55",
   "metadata": {},
   "source": [
    "First we create two sets with coordinates of BDC1 and BDC2 coordinates."
   ]
  },
  {
   "cell_type": "code",
   "execution_count": 3,
   "id": "94b63314",
   "metadata": {},
   "outputs": [],
   "source": [
    "BDC1_set = set()\n",
    "for d in BDC1_DIGEST_FILE:\n",
    "    BDC1_set.add(d.chrom + '\\t' + str(d.start) + '\\t' + str(d.end))\n",
    "BDC2_set = set()\n",
    "for d in BDC2_DIGEST_FILE:\n",
    "    BDC2_set.add(d.chrom + '\\t' + str(d.start) + '\\t' + str(d.end))"
   ]
  },
  {
   "cell_type": "markdown",
   "id": "fcbdd849",
   "metadata": {},
   "source": [
    "We also create a dictionary with the sequences of the baits."
   ]
  },
  {
   "cell_type": "code",
   "execution_count": 4,
   "id": "542795a7",
   "metadata": {},
   "outputs": [],
   "source": [
    "# Create baits seq\n",
    "BAIT_SEQ_dict = dict()\n",
    "OUT_PREFIX\n",
    "MIFSUD_BAIT_FILE.sequence(fi=HG38_GENOME_FILE, fo=NOTEBOOK_RESULTS_DIR + '/bait_sequences.fa', tab=True)\n",
    "with open(NOTEBOOK_RESULTS_DIR + '/bait_sequences.fa', 'rt') as fp:\n",
    "    for line in fp:\n",
    "        coords, seq = line.rstrip().split('\\t')\n",
    "        chrom = coords.split(':')[0]\n",
    "        sta = coords.split(':')[1].split('-')[0]\n",
    "        end = coords.split(':')[1].split('-')[1]\n",
    "        BAIT_SEQ_dict[chrom + '\\t' + sta + '\\t' + end] = seq"
   ]
  },
  {
   "cell_type": "markdown",
   "id": "f0aaa222",
   "metadata": {},
   "source": [
    "Then, for each baited digest, determine the the baits that are completly contained in the digest. The option `F=1.00` causes an overlap to be reported only if a bait is completely contained in the digest."
   ]
  },
  {
   "cell_type": "code",
   "execution_count": 5,
   "id": "4163bbde",
   "metadata": {},
   "outputs": [
    {
     "name": "stdout",
     "output_type": "stream",
     "text": [
      "chr1\t896515\t912788\tchr1\t912476\t912596\n",
      " chr1\t912789\t915238\tchr1\t912789\t912909\n",
      " chr1\t912789\t915238\tchr1\t915001\t915121\n",
      " chr1\t915239\t938701\tchr1\t915239\t915359\n",
      " chr1\t915239\t938701\tchr1\t938577\t938697\n",
      " chr1\t954044\t968260\tchr1\t954103\t954223\n",
      " chr1\t954044\t968260\tchr1\t968140\t968260\n",
      " chr1\t968261\t992014\tchr1\t968261\t968381\n",
      " chr1\t968261\t992014\tchr1\t991894\t992014\n",
      " chr1\t992015\t1001574\tchr1\t1001421\t1001541\n",
      " "
     ]
    }
   ],
   "source": [
    "DIGESTS_WITH_BAIT_COORDS = BAITED_DIGEST_FILE.intersect(MIFSUD_BAIT_FILE, wa=True, wb=True, F=1.00)\n",
    "DIGESTS_WITH_BAIT_COORDS.head()"
   ]
  },
  {
   "cell_type": "markdown",
   "id": "b41e2be0",
   "metadata": {},
   "source": [
    "### Create dictionary\n",
    "\n",
    "We store the overlap information from the file just created in a dictionary. The keys are the coordinates of the digests and, for each digest, the coordinates of the baits associated with the 5' and the 3' end of the digest are stored separately. In addition, the BD class (`0`, `1`, `2`) is stored for each digest."
   ]
  },
  {
   "cell_type": "code",
   "execution_count": 6,
   "id": "fa2c0769",
   "metadata": {},
   "outputs": [],
   "source": [
    "def get_digest_with_baits_dict(DIGESTS_WITH_BAIT_COORDS):\n",
    "    \n",
    "    DIGESTS_WITH_BAITS_DICT = dict()\n",
    "    \n",
    "    for d in DIGESTS_WITH_BAIT_COORDS:\n",
    "        \n",
    "        # Split line with digest and bait coordinates\n",
    "        arr = str(d).split('\\t')\n",
    "\n",
    "        # Read relevant values\n",
    "        d_chr = arr[0]\n",
    "        d_sta = int(arr[1])\n",
    "        d_end = int(arr[2])\n",
    "        b_chr = arr[3]\n",
    "        b_sta = int(arr[4])\n",
    "        b_end = int(arr[5])\n",
    "        new_line = d_chr + '\\t' + str(d_sta)  + '\\t' + str(d_end)   + '\\t' + b_chr + '\\t' + str(b_sta)  + '\\t' + str(b_end)\n",
    "\n",
    "        # Calculate digest and bait length and center positions\n",
    "        d_len = d_end - d_sta + 1\n",
    "        d_center_pos = d_sta + int(d_len/2) + 1\n",
    "        b_len = b_end - b_sta + 1  \n",
    "        b_center_pos = b_sta + int(b_len/2) + 1\n",
    "\n",
    "        # Sanity checks\n",
    "        if d_len - 1 < (d_center_pos-d_sta)*2 and (d_center_pos-d_sta)*2 < d_len + 1:\n",
    "            print('[ERROR] The distance between the digest start and center position must be equal to the half of the digest length!')\n",
    "            print(new_line)\n",
    "            break        \n",
    "        if d_len - 1 < (d_end-d_center_pos)*2 and (d_end-d_center_pos)*2 < d_len + 1:\n",
    "            print('[ERROR] The distance between the digest center and end position must be equal to the half of the digest length!')\n",
    "            print(new_line)\n",
    "            break\n",
    "        \n",
    "        # Get keys for digest and bait and bait sequence\n",
    "        d_key = d_chr + '\\t' + str(d_sta) + '\\t' + str(d_end)\n",
    "        b_key = b_chr + '\\t' + str(b_sta) + '\\t' + str(b_end)\n",
    "\n",
    "        # Create dictionary for this digest if none exists yet\n",
    "        if d_key not in DIGESTS_WITH_BAITS_DICT:\n",
    "            DIGESTS_WITH_BAITS_DICT[d_key] = dict()\n",
    "            DIGESTS_WITH_BAITS_DICT[d_key]['L_COORDS'] = []\n",
    "            DIGESTS_WITH_BAITS_DICT[d_key]['R_COORDS'] = []\n",
    "            \n",
    "        # Assign the overlapping bait to 5' or 3' end of the digest\n",
    "        if b_center_pos < d_center_pos:\n",
    "            DIGESTS_WITH_BAITS_DICT[d_key]['L_COORDS'].append(b_key)\n",
    "        else:\n",
    "            DIGESTS_WITH_BAITS_DICT[d_key]['R_COORDS'].append(b_key)\n",
    "                \n",
    "        # Assign the digest to one of the BDC classes\n",
    "        if d_key in BDC1_set:\n",
    "            DIGESTS_WITH_BAITS_DICT[d_key]['BDC'] = 1\n",
    "        elif d_key in BDC2_set:\n",
    "            DIGESTS_WITH_BAITS_DICT[d_key]['BDC'] = 2\n",
    "        else:\n",
    "            DIGESTS_WITH_BAITS_DICT[d_key]['BDC'] = 0\n",
    "                        \n",
    "    return DIGESTS_WITH_BAITS_DICT"
   ]
  },
  {
   "cell_type": "markdown",
   "id": "d086f3e9",
   "metadata": {},
   "source": [
    "We now use the function to create the data structure."
   ]
  },
  {
   "cell_type": "code",
   "execution_count": 7,
   "id": "8efa9dbb",
   "metadata": {},
   "outputs": [],
   "source": [
    "DIGESTS_WITH_BAITS_DICT = get_digest_with_baits_dict(DIGESTS_WITH_BAIT_COORDS)"
   ]
  },
  {
   "cell_type": "markdown",
   "id": "a20303ed",
   "metadata": {},
   "source": [
    "Here the first two items to illustrate the data structure."
   ]
  },
  {
   "cell_type": "code",
   "execution_count": 8,
   "id": "c10f49ed",
   "metadata": {
    "scrolled": true
   },
   "outputs": [
    {
     "name": "stdout",
     "output_type": "stream",
     "text": [
      "[('chr1\\t896515\\t912788', {'L_COORDS': [], 'R_COORDS': ['chr1\\t912476\\t912596'], 'BDC': 0}), ('chr1\\t912789\\t915238', {'L_COORDS': ['chr1\\t912789\\t912909'], 'R_COORDS': ['chr1\\t915001\\t915121'], 'BDC': 0})]\n"
     ]
    }
   ],
   "source": [
    "print(list(DIGESTS_WITH_BAITS_DICT.items())[:2])"
   ]
  },
  {
   "cell_type": "markdown",
   "id": "b103dbf6",
   "metadata": {},
   "source": [
    "## Count digests\n",
    "\n",
    "Now we use the data structure to count digest with none, one, two or more baits."
   ]
  },
  {
   "cell_type": "code",
   "execution_count": 9,
   "id": "800cc7d0",
   "metadata": {},
   "outputs": [
    {
     "name": "stdout",
     "output_type": "stream",
     "text": [
      "0 baits: 0 (0.00%)\n",
      "1 baits: 6,538 (29.64%)\n",
      "2 baits: 15,517 (70.36%)\n",
      "2< baits: 0 (0.00%)\n",
      "Total number of baited digests: 22,055\n"
     ]
    }
   ],
   "source": [
    "digests_by_bait_num = {'0': 0, '1': 0, '2': 0, '2<':0}\n",
    "for d_key in DIGESTS_WITH_BAITS_DICT.keys():\n",
    "    bait_num = len(DIGESTS_WITH_BAITS_DICT[d_key]['L_COORDS'] + DIGESTS_WITH_BAITS_DICT[d_key]['R_COORDS'])\n",
    "    if 2 < bait_num:\n",
    "        digests_by_bait_num['2<'] += 1\n",
    "    else:\n",
    "        digests_by_bait_num[str(bait_num)] += 1\n",
    "\n",
    "for key in digests_by_bait_num.keys():\n",
    "    digest_num = digests_by_bait_num[key]\n",
    "    percentage = 100*digests_by_bait_num[key]/sum(digests_by_bait_num.values())\n",
    "    print(key + ' baits: ' + '{:,}'.format(digest_num) + ' (' + '{:.2f}'.format(percentage) + '%)')\n",
    "print('Total number of baited digests: ' + '{:,}'.format(sum(digests_by_bait_num.values())))"
   ]
  },
  {
   "cell_type": "markdown",
   "id": "3181694e",
   "metadata": {},
   "source": [
    "All of Javierre's baited digests have at least one bait from Mifsud. More than two thirds of all digests have two baits."
   ]
  },
  {
   "cell_type": "markdown",
   "id": "8420ada5",
   "metadata": {},
   "source": [
    "Count BCD0, BDC1 and BDC2 digests:"
   ]
  },
  {
   "cell_type": "code",
   "execution_count": 10,
   "id": "a4ea2ef7",
   "metadata": {},
   "outputs": [
    {
     "name": "stdout",
     "output_type": "stream",
     "text": [
      "BDC0: 7,061 (32.02%)\n",
      "BDC1: 6,873 (31.16%)\n",
      "BDC2: 8,121 (36.82%)\n",
      "Total number of baited digests: 22,055\n"
     ]
    }
   ],
   "source": [
    "digests_by_bcd = {'0': 0, '1': 0, '2': 0}\n",
    "for d_key in DIGESTS_WITH_BAITS_DICT.keys():\n",
    "    digests_by_bcd[str(DIGESTS_WITH_BAITS_DICT[d_key]['BDC'])] += 1\n",
    "\n",
    "for key in digests_by_bcd.keys():\n",
    "    digest_num = digests_by_bcd[key]\n",
    "    percentage = 100*digests_by_bcd[key]/sum(digests_by_bcd.values())\n",
    "    print('BDC' + key + ': ' + '{:,}'.format(digest_num) + ' (' + '{:.2f}'.format(percentage) + '%)')\n",
    "print('Total number of baited digests: ' + '{:,}'.format(sum(digests_by_bcd.values())))"
   ]
  },
  {
   "cell_type": "markdown",
   "id": "7b94f468",
   "metadata": {},
   "source": [
    "The digests are distributed relatively evenly across the various baited digest classes."
   ]
  },
  {
   "cell_type": "markdown",
   "id": "1f567e26",
   "metadata": {},
   "source": [
    "Now we count digests that have baits on one side only and digests that have baits on both sides within the different classes of baited digests."
   ]
  },
  {
   "cell_type": "code",
   "execution_count": 11,
   "id": "b8af3f31",
   "metadata": {},
   "outputs": [
    {
     "name": "stdout",
     "output_type": "stream",
     "text": [
      "BDC0\n",
      "One side: 818 (11.58%)\n",
      "Both sides: 6,243 (88.42%)\n",
      "\n",
      "BDC1\n",
      "One side: 2,816 (40.97%)\n",
      "Both sides: 4,057 (59.03%)\n",
      "\n",
      "BDC2\n",
      "One side: 2,960 (36.45%)\n",
      "Both sides: 5,161 (63.55%)\n",
      "\n",
      "BDC12\n",
      "One side: 5,776 (38.52%)\n",
      "Both sides: 9,218 (61.48%)\n",
      "\n"
     ]
    }
   ],
   "source": [
    "bdc_one_or_both_sides = {\n",
    "    'BDC0': {'ONE_SIDE': 0, 'BOTH_SIDES': 0},\n",
    "    'BDC1': {'ONE_SIDE': 0, 'BOTH_SIDES': 0},    \n",
    "    'BDC2': {'ONE_SIDE': 0, 'BOTH_SIDES': 0}\n",
    "}\n",
    "for d_key in DIGESTS_WITH_BAITS_DICT.keys():\n",
    "    bdc = DIGESTS_WITH_BAITS_DICT[d_key]['BDC']\n",
    "    if len(DIGESTS_WITH_BAITS_DICT[d_key]['L_COORDS'])==0 or len(DIGESTS_WITH_BAITS_DICT[d_key]['R_COORDS'])==0:\n",
    "        bdc_one_or_both_sides['BDC' + str(bdc)]['ONE_SIDE'] += 1\n",
    "    else:\n",
    "        bdc_one_or_both_sides['BDC' + str(bdc)]['BOTH_SIDES'] += 1\n",
    "        \n",
    "for key, value in bdc_one_or_both_sides.items():\n",
    "    digests_one_side = value['ONE_SIDE']\n",
    "    digests_both_sides = value['BOTH_SIDES']\n",
    "    digest_bdc_total = digests_one_side + digests_both_sides\n",
    "    digests_one_side_percentage = 100*digests_one_side/digest_bdc_total\n",
    "    digests_both_sides_percentage = 100*digests_both_sides/digest_bdc_total\n",
    "    print(key)\n",
    "    print('One side: ' + '{:,}'.format(digests_one_side) + ' (' + '{:.2f}'.format(digests_one_side_percentage) + '%)')\n",
    "    print('Both sides: ' + '{:,}'.format(digests_both_sides) + ' (' + '{:.2f}'.format(digests_both_sides_percentage) + '%)')\n",
    "    print()\n",
    "print('BDC12')\n",
    "digests_one_side = bdc_one_or_both_sides['BDC1']['ONE_SIDE'] + bdc_one_or_both_sides['BDC2']['ONE_SIDE']\n",
    "digests_both_sides = bdc_one_or_both_sides['BDC1']['BOTH_SIDES'] + bdc_one_or_both_sides['BDC2']['BOTH_SIDES']\n",
    "digest_bdc_total = digests_one_side + digests_both_sides\n",
    "digests_one_side_percentage = 100*digests_one_side/digest_bdc_total\n",
    "digests_both_sides_percentage = 100*digests_both_sides/digest_bdc_total\n",
    "print('One side: ' + '{:,}'.format(digests_one_side) + ' (' + '{:.2f}'.format(digests_one_side_percentage) + '%)')\n",
    "print('Both sides: ' + '{:,}'.format(digests_both_sides) + ' (' + '{:.2f}'.format(digests_both_sides_percentage) + '%)')\n",
    "print()"
   ]
  },
  {
   "cell_type": "markdown",
   "id": "2135b9f2",
   "metadata": {},
   "source": [
    "In the BDC0 class, the proportion of digests that have baits on both sides is greatest. In the classes BDC1 and BDC2, the proportion of digests with baits on both sides is much smaller than in class BDC0."
   ]
  },
  {
   "cell_type": "markdown",
   "id": "e839f016",
   "metadata": {},
   "source": [
    "Next, we determine the proportions of BDC0, BDC1 and BDC2 digests among digests with baits on one and both sides. Note that a digest with two baits does not necessarily have baits on both sides. There are in few exception (about 50) in which the digest is particularly short (<500 bp) and both baits are on only one side of the bait."
   ]
  },
  {
   "cell_type": "code",
   "execution_count": 12,
   "id": "c2c06445",
   "metadata": {
    "scrolled": true
   },
   "outputs": [
    {
     "name": "stdout",
     "output_type": "stream",
     "text": [
      "ONE_SIDE\n",
      "BDC0: 818 (12.41%)\n",
      "BDC1: 2,816 (42.71%)\n",
      "BDC2: 2,960 (44.89%)\n",
      "\n",
      "BOTH_SIDES\n",
      "BDC0: 6,243 (40.38%)\n",
      "BDC1: 4,057 (26.24%)\n",
      "BDC2: 5,161 (33.38%)\n",
      "\n"
     ]
    }
   ],
   "source": [
    "for x in ['ONE_SIDE', 'BOTH_SIDES']:\n",
    "    print(x)\n",
    "    d_total = 0\n",
    "    for y in ['BDC0', 'BDC1', 'BDC2']:\n",
    "        d_total += bdc_one_or_both_sides[y][x]\n",
    "    for y in ['BDC0', 'BDC1', 'BDC2']:\n",
    "        percentage = 100*bdc_one_or_both_sides[y][x]/d_total\n",
    "        print(y + ': ' + '{:,}'.format(bdc_one_or_both_sides[y][x]) + ' (' + '{:.2f}'.format(percentage) + '%)')\n",
    "    print()"
   ]
  },
  {
   "cell_type": "markdown",
   "id": "6864e4fa",
   "metadata": {},
   "source": [
    "Among the digests that have baits on only one side, there are fewer BDC0 and more BDC1 and BDC2 digests."
   ]
  },
  {
   "cell_type": "markdown",
   "id": "12af209f",
   "metadata": {},
   "source": [
    "Show the collected numbers in a contingeny table."
   ]
  },
  {
   "cell_type": "code",
   "execution_count": 13,
   "id": "afaf06b7",
   "metadata": {
    "scrolled": false
   },
   "outputs": [
    {
     "data": {
      "text/html": [
       "<div>\n",
       "<style scoped>\n",
       "    .dataframe tbody tr th:only-of-type {\n",
       "        vertical-align: middle;\n",
       "    }\n",
       "\n",
       "    .dataframe tbody tr th {\n",
       "        vertical-align: top;\n",
       "    }\n",
       "\n",
       "    .dataframe thead th {\n",
       "        text-align: right;\n",
       "    }\n",
       "</style>\n",
       "<table border=\"1\" class=\"dataframe\">\n",
       "  <thead>\n",
       "    <tr style=\"text-align: right;\">\n",
       "      <th></th>\n",
       "      <th>One side</th>\n",
       "      <th>Both sides</th>\n",
       "      <th>Total</th>\n",
       "    </tr>\n",
       "  </thead>\n",
       "  <tbody>\n",
       "    <tr>\n",
       "      <th>BDC12</th>\n",
       "      <td>5,776</td>\n",
       "      <td>9,218</td>\n",
       "      <td>14,994</td>\n",
       "    </tr>\n",
       "    <tr>\n",
       "      <th>BDC0</th>\n",
       "      <td>818</td>\n",
       "      <td>6,243</td>\n",
       "      <td>7,061</td>\n",
       "    </tr>\n",
       "    <tr>\n",
       "      <th>Total</th>\n",
       "      <td>6,594</td>\n",
       "      <td>15,461</td>\n",
       "      <td>22,055</td>\n",
       "    </tr>\n",
       "  </tbody>\n",
       "</table>\n",
       "</div>"
      ],
      "text/plain": [
       "      One side Both sides   Total\n",
       "BDC12    5,776      9,218  14,994\n",
       "BDC0       818      6,243   7,061\n",
       "Total    6,594     15,461  22,055"
      ]
     },
     "execution_count": 13,
     "metadata": {},
     "output_type": "execute_result"
    }
   ],
   "source": [
    "# Contingency table\n",
    "BDC12_ONE_SIDE = bdc_one_or_both_sides['BDC1']['ONE_SIDE'] + bdc_one_or_both_sides['BDC2']['ONE_SIDE']\n",
    "BDC12_BOTH_SIDES = bdc_one_or_both_sides['BDC1']['BOTH_SIDES'] + bdc_one_or_both_sides['BDC2']['BOTH_SIDES']\n",
    "BDC12_TOTAL = BDC12_ONE_SIDE + BDC12_BOTH_SIDES\n",
    "BDC0_ONE_SIDE = bdc_one_or_both_sides['BDC0']['ONE_SIDE']\n",
    "BDC0_BOTH_SIDES = bdc_one_or_both_sides['BDC0']['BOTH_SIDES']\n",
    "BDC0_TOTAL = BDC0_ONE_SIDE + BDC0_BOTH_SIDES\n",
    "\n",
    "d = {'One side': ['{:,}'.format(BDC12_ONE_SIDE),\n",
    "                  '{:,}'.format(BDC0_ONE_SIDE),\n",
    "                  '{:,}'.format(BDC12_ONE_SIDE + BDC0_ONE_SIDE)],\n",
    "     'Both sides': ['{:,}'.format(BDC12_BOTH_SIDES),\n",
    "                    '{:,}'.format(BDC0_BOTH_SIDES),\n",
    "                    '{:,}'.format(BDC12_BOTH_SIDES + BDC0_BOTH_SIDES)],\n",
    "     'Total': ['{:,}'.format(BDC12_ONE_SIDE + BDC12_BOTH_SIDES),\n",
    "               '{:,}'.format(BDC0_ONE_SIDE + BDC0_BOTH_SIDES),\n",
    "               '{:,}'.format(BDC12_TOTAL + BDC0_TOTAL)]}\n",
    "df = pd.DataFrame(data=d)\n",
    "df.index = ['BDC12', 'BDC0', 'Total']\n",
    "df"
   ]
  },
  {
   "cell_type": "markdown",
   "id": "8bd352c8",
   "metadata": {},
   "source": [
    "Perform a Fisher's exact test for this contingency table."
   ]
  },
  {
   "cell_type": "code",
   "execution_count": 14,
   "id": "d60438bd",
   "metadata": {},
   "outputs": [
    {
     "name": "stdout",
     "output_type": "stream",
     "text": [
      "Prior odds ratio: 4.782230577890287\n",
      "P-value: 0.0\n"
     ]
    }
   ],
   "source": [
    "# Fisher's exact test\n",
    "contingency_table = [\n",
    "    [BDC12_ONE_SIDE, BDC12_BOTH_SIDES],\n",
    "    [BDC0_ONE_SIDE, BDC0_BOTH_SIDES]]\n",
    "\n",
    "odds_ratio, p_value = fisher_exact(contingency_table, alternative='two-sided')\n",
    "print('Prior odds ratio: ' + str(odds_ratio))\n",
    "print('P-value: ' + str(p_value))"
   ]
  },
  {
   "cell_type": "code",
   "execution_count": 15,
   "id": "7ab9e290",
   "metadata": {},
   "outputs": [
    {
     "name": "stdout",
     "output_type": "stream",
     "text": [
      "4.782230577890287\n"
     ]
    }
   ],
   "source": [
    "# This is how the prior odds ratio is calculated\n",
    "prior_odds_ratio = (BDC12_ONE_SIDE/BDC0_ONE_SIDE)/(BDC12_BOTH_SIDES/BDC0_BOTH_SIDES)\n",
    "print(prior_odds_ratio)"
   ]
  },
  {
   "cell_type": "markdown",
   "id": "978aee34",
   "metadata": {},
   "source": [
    "**Conclusion:** The property of a baited digest to have either baits on only one side or baits on both sides and the assignment to the BDC classes are not independent. Among the digests with baits on only one side, the proportion of BDC1 and BDC2 digests is significantly higher than among digests wit two baits."
   ]
  },
  {
   "cell_type": "markdown",
   "id": "93f015c9",
   "metadata": {},
   "source": [
    "## Further analysis of digests with baits on both sides\n",
    "\n",
    "For the following analyzes, we only consider digests that have baits on both sides.\n",
    "\n",
    "||BDC0|BDC1|BDC2|TOTAL|\n",
    "|---|---|---|---|---|\n",
    "|ALL|7,061|6,873|8,121|22,055|\n",
    "|BOTH_SIDES|6,243|4,057|5,161|15,461|\n",
    "\n",
    "\n",
    "For BDC1, we find find many examples where the `5'` end bait is right next to the restriction site (as it should be), and the `3'` end bait is shifted towards the center of the digest (as is it accepted if a bait cannot be placed better).\n",
    "```\n",
    "5'|--------------3'\n",
    "   -          -\n",
    "```\n",
    "BDC1 example: ``chr2:208,144,486-208,147,056``.\n",
    "\n",
    "For BDC2 it is exactly the opposite.\n",
    "```\n",
    "5'--------------|3'\n",
    "    -          -\n",
    "```\n",
    "BDC2 example: ``chr2:102,179,857-102,182,542``."
   ]
  },
  {
   "cell_type": "markdown",
   "id": "ccce7c2f",
   "metadata": {},
   "source": [
    "### Distances between baits and restriction sites"
   ]
  },
  {
   "cell_type": "markdown",
   "id": "7a258b6c",
   "metadata": {},
   "source": [
    "The following function determines the distances from baits to digest ends for given baited digest classes.\n",
    "\n",
    "```\n",
    "5'-------------------3'\n",
    "     -          -\n",
    "  <->             <->\n",
    "  d_l             d_r\n",
    "               \n",
    "```\n",
    "In order to ensure that there is a pair of distances for each digest, it is required that there is exactly one bait for each digest end. If the difference in the distances of a pair is small (`max_diff<20`), this means that both baits have a similar distance from the corresponding digest end. Such digests are added to a dictionary which is returned together with the two lists of distances and will be be used for subsequent analyzes."
   ]
  },
  {
   "cell_type": "code",
   "execution_count": 16,
   "id": "8d87e069",
   "metadata": {},
   "outputs": [],
   "source": [
    "def get_distances_from_baits_to_restriction_site(digest_with_baits_dict, bd_classes=[0,1,2], max_dist=20):\n",
    "    l_dist_list = []\n",
    "    r_dist_list = []\n",
    "    digest_with_baits_well_placed_dict = dict()\n",
    "    for d_key in digest_with_baits_dict.keys():\n",
    "        \n",
    "        # Filter for digests with specified baited digest classes\n",
    "        if DIGESTS_WITH_BAITS_DICT[d_key]['BDC'] not in bd_classes:\n",
    "            continue\n",
    "            \n",
    "        # Make sure that the digest has one 5' and one 3' bait\n",
    "        if len(DIGESTS_WITH_BAITS_DICT[d_key]['L_COORDS'])!=1 or len(DIGESTS_WITH_BAITS_DICT[d_key]['R_COORDS'])!=1:\n",
    "            continue\n",
    "            \n",
    "        # Determine distance for 5' bait\n",
    "        d_sta = int(d_key.split('\\t')[1])\n",
    "        b5_sta = int(digest_with_baits_dict[d_key]['L_COORDS'][0].split('\\t')[1])\n",
    "        l_dist = b5_sta - d_sta\n",
    "        l_dist_list.append(l_dist)\n",
    "        \n",
    "        # Determine distance for 3' bait\n",
    "        d_end = int(d_key.split('\\t')[2])\n",
    "        b3_end = int(digest_with_baits_dict[d_key]['R_COORDS'][0].split('\\t')[2])\n",
    "        r_dist = d_end - b3_end\n",
    "        r_dist_list.append(r_dist)\n",
    "        \n",
    "        # Add digests to dictionary which will be returned along with the lists of distances\n",
    "        if l_dist <= max_dist and r_dist <= max_dist:\n",
    "            digest_with_baits_well_placed_dict[d_key] = DIGESTS_WITH_BAITS_DICT[d_key]\n",
    "            \n",
    "    num_well_placed = len(digest_with_baits_well_placed_dict)           \n",
    "    prop_well_placed = 100*num_well_placed/(len(l_dist_list))\n",
    "    prop_not_well_placed = 100 - prop_well_placed\n",
    "            \n",
    "    print('BDC' + str(bd_classes))\n",
    "    print('\\tNumber 5\\' bait distances: ' + '{:,}'.format(len(l_dist_list)))\n",
    "    print('\\tNumber 3\\' bait distances: ' + '{:,}'.format(len(r_dist_list)))  \n",
    "    print('\\tNumber of digests with well placed baits: ' + '{:,}'.format(num_well_placed) + ' (' + '{:.2f}'.format(prop_well_placed) + '% vs. ' + '{:.2f}'.format(prop_not_well_placed) + ')')\n",
    "\n",
    "    return l_dist_list, r_dist_list, digest_with_baits_well_placed_dict"
   ]
  },
  {
   "cell_type": "markdown",
   "id": "15b3fd9d",
   "metadata": {},
   "source": [
    "We apply the function to the different baited digest classes. For each function call, we get two lists with distances and a dictionary that only contains digests for which the distances of the two baits do not differ much (`max_diff=20`). These dictionaries will be used for the subsequent analyzes of the GC and repeat content of baits."
   ]
  },
  {
   "cell_type": "code",
   "execution_count": 17,
   "id": "6f18521d",
   "metadata": {
    "scrolled": true
   },
   "outputs": [
    {
     "name": "stdout",
     "output_type": "stream",
     "text": [
      "BDC[0]\n",
      "\tNumber 5' bait distances: 6,243\n",
      "\tNumber 3' bait distances: 6,243\n",
      "\tNumber of digests with well placed baits: 2,937 (47.04% vs. 52.96)\n",
      "BDC[1]\n",
      "\tNumber 5' bait distances: 4,057\n",
      "\tNumber 3' bait distances: 4,057\n",
      "\tNumber of digests with well placed baits: 1,095 (26.99% vs. 73.01)\n",
      "BDC[2]\n",
      "\tNumber 5' bait distances: 5,161\n",
      "\tNumber 3' bait distances: 5,161\n",
      "\tNumber of digests with well placed baits: 1,739 (33.70% vs. 66.30)\n",
      "BDC[1, 2]\n",
      "\tNumber 5' bait distances: 9,218\n",
      "\tNumber 3' bait distances: 9,218\n",
      "\tNumber of digests with well placed baits: 2,834 (30.74% vs. 69.26)\n",
      "BDC[0, 1, 2]\n",
      "\tNumber 5' bait distances: 15,461\n",
      "\tNumber 3' bait distances: 15,461\n",
      "\tNumber of digests with well placed baits: 5,771 (37.33% vs. 62.67)\n"
     ]
    }
   ],
   "source": [
    "MAX_DIST = 20\n",
    "bdc0_l_dist_list, bdc0_r_dist_list, bdc0_well_placed_dict = get_distances_from_baits_to_restriction_site(\n",
    "    DIGESTS_WITH_BAITS_DICT,\n",
    "    bd_classes=[0], max_dist=MAX_DIST)\n",
    "\n",
    "bdc1_l_dist_list, bdc1_r_dist_list, bdc1_well_placed_dict = get_distances_from_baits_to_restriction_site(\n",
    "    DIGESTS_WITH_BAITS_DICT,\n",
    "    bd_classes=[1], max_dist=MAX_DIST)\n",
    "\n",
    "bdc2_l_dist_list, bdc2_r_dist_list, bdc2_well_placed_dict = get_distances_from_baits_to_restriction_site(\n",
    "    DIGESTS_WITH_BAITS_DICT,\n",
    "    bd_classes=[2], max_dist=MAX_DIST)\n",
    "\n",
    "bdc12_l_dist_list, bdc12_r_dist_list, bdc12_well_placed_dict = get_distances_from_baits_to_restriction_site(\n",
    "    DIGESTS_WITH_BAITS_DICT,\n",
    "    bd_classes=[1,2], max_dist=MAX_DIST)\n",
    "\n",
    "bdcALL_l_dist_list, bdcALL_r_dist_list, bdcALL_well_placed_dict = get_distances_from_baits_to_restriction_site(\n",
    "    DIGESTS_WITH_BAITS_DICT,\n",
    "    bd_classes=[0,1,2], max_dist=MAX_DIST)"
   ]
  },
  {
   "cell_type": "code",
   "execution_count": 18,
   "id": "366a1d68",
   "metadata": {
    "scrolled": true
   },
   "outputs": [
    {
     "data": {
      "text/html": [
       "<div>\n",
       "<style scoped>\n",
       "    .dataframe tbody tr th:only-of-type {\n",
       "        vertical-align: middle;\n",
       "    }\n",
       "\n",
       "    .dataframe tbody tr th {\n",
       "        vertical-align: top;\n",
       "    }\n",
       "\n",
       "    .dataframe thead th {\n",
       "        text-align: right;\n",
       "    }\n",
       "</style>\n",
       "<table border=\"1\" class=\"dataframe\">\n",
       "  <thead>\n",
       "    <tr style=\"text-align: right;\">\n",
       "      <th></th>\n",
       "      <th>Not well placed</th>\n",
       "      <th>Well placed</th>\n",
       "      <th>Total</th>\n",
       "    </tr>\n",
       "  </thead>\n",
       "  <tbody>\n",
       "    <tr>\n",
       "      <th>BDC12</th>\n",
       "      <td>6,384</td>\n",
       "      <td>2,834</td>\n",
       "      <td>9,218</td>\n",
       "    </tr>\n",
       "    <tr>\n",
       "      <th>BDC0</th>\n",
       "      <td>3,306</td>\n",
       "      <td>2,937</td>\n",
       "      <td>6,243</td>\n",
       "    </tr>\n",
       "    <tr>\n",
       "      <th>Total</th>\n",
       "      <td>9,690</td>\n",
       "      <td>5,771</td>\n",
       "      <td>15,461</td>\n",
       "    </tr>\n",
       "  </tbody>\n",
       "</table>\n",
       "</div>"
      ],
      "text/plain": [
       "      Not well placed Well placed   Total\n",
       "BDC12           6,384       2,834   9,218\n",
       "BDC0            3,306       2,937   6,243\n",
       "Total           9,690       5,771  15,461"
      ]
     },
     "execution_count": 18,
     "metadata": {},
     "output_type": "execute_result"
    }
   ],
   "source": [
    "# Contingency table\n",
    "BDC12_NOT_WELL_PLACED = len(bdc12_l_dist_list) - len(bdc12_well_placed_dict)\n",
    "BDC12_WELL_PLACED = len(bdc12_well_placed_dict)\n",
    "BDC12_TOTAL = BDC12_NOT_WELL_PLACED + BDC12_WELL_PLACED\n",
    "BDC0_NOT_WELL_PLACED = len(bdc0_l_dist_list) - len(bdc0_well_placed_dict)\n",
    "BDC0_WELL_PLACED = len(bdc0_well_placed_dict)\n",
    "BDC0_TOTAL = BDC0_NOT_WELL_PLACED + BDC0_WELL_PLACED\n",
    "\n",
    "d = {'Not well placed': ['{:,}'.format(BDC12_NOT_WELL_PLACED),\n",
    "                  '{:,}'.format(BDC0_NOT_WELL_PLACED),\n",
    "                  '{:,}'.format(BDC12_NOT_WELL_PLACED + BDC0_NOT_WELL_PLACED)],\n",
    "     'Well placed': ['{:,}'.format(BDC12_WELL_PLACED),\n",
    "                    '{:,}'.format(BDC0_WELL_PLACED),\n",
    "                    '{:,}'.format(BDC12_WELL_PLACED + BDC0_WELL_PLACED)],\n",
    "     'Total': ['{:,}'.format(BDC12_NOT_WELL_PLACED + BDC12_WELL_PLACED),\n",
    "               '{:,}'.format(BDC0_NOT_WELL_PLACED + BDC0_WELL_PLACED),\n",
    "               '{:,}'.format(BDC12_TOTAL + BDC0_TOTAL)]}\n",
    "df = pd.DataFrame(data=d)\n",
    "df.index = ['BDC12', 'BDC0', 'Total']\n",
    "df"
   ]
  },
  {
   "cell_type": "code",
   "execution_count": 19,
   "id": "592701d5",
   "metadata": {},
   "outputs": [
    {
     "name": "stdout",
     "output_type": "stream",
     "text": [
      "Prior odds ratio: 2.001216752244908\n",
      "P-value: 2.099519190876713e-93\n"
     ]
    }
   ],
   "source": [
    "# Fisher's exact test\n",
    "contingency_table = [\n",
    "    [BDC12_NOT_WELL_PLACED, BDC12_WELL_PLACED],\n",
    "    [BDC0_NOT_WELL_PLACED, BDC0_WELL_PLACED]]\n",
    "\n",
    "odds_ratio, p_value = fisher_exact(contingency_table, alternative='two-sided')\n",
    "print('Prior odds ratio: ' + str(odds_ratio))\n",
    "print('P-value: ' + str(p_value))"
   ]
  },
  {
   "cell_type": "markdown",
   "id": "f7a732cf",
   "metadata": {},
   "source": [
    "The following function creates a plot in which the distributions of distances are shown in a special layout. We will reuse this function later for the analyzes of GC and repeat content of the bait sequences."
   ]
  },
  {
   "cell_type": "code",
   "execution_count": 20,
   "id": "fe599f94",
   "metadata": {},
   "outputs": [],
   "source": [
    "def create_boxplot(\n",
    "    BDC0_L=None, # BDC0 5' bait\n",
    "    BDC0_R=None, # BDC0 3' bait\n",
    "    BDC1_L=None, # BDC1 5' bait\n",
    "    BDC1_R=None, # BDC1 3' bait\n",
    "    BDC2_L=None, # BDC2 5' bait\n",
    "    BDC2_R=None, # BDC2 3' bait\n",
    "    SHOWFLIERS = True,\n",
    "    TITLE='TITEL',\n",
    "    XLABEL_L='XLAB_L',\n",
    "    XLABEL_R='XLAB_R',\n",
    "    OUTPUT_PDF='OUT.pdf'):\n",
    "\n",
    "    # Set up figure\n",
    "    fig, (ax1, ax2) = plt.subplots(1,2)\n",
    "    box_width = 0.5\n",
    "    ax1.set_title(TITLE, loc='left')\n",
    "    \n",
    "    # Determine range to be displayed    \n",
    "    xmin = min(BDC0_L + BDC0_R  + BDC1_L + BDC1_R + BDC2_L + BDC2_R)\n",
    "    xmax = max(BDC0_L + BDC0_R  + BDC1_L + BDC1_R + BDC2_L + BDC2_R)\n",
    "    padding = (xmax-xmin)/30\n",
    "    xmin = xmin - padding\n",
    "    xmax = xmax + padding        \n",
    "\n",
    "    # Create boxplots for 5' baits (left)\n",
    "    bp1 = ax1.boxplot(\n",
    "        [BDC2_L, BDC1_L, BDC0_L],\n",
    "        widths=(box_width, box_width, box_width),\n",
    "        patch_artist=True,\n",
    "        labels=['BDC2\\nn=' + '{:,}'.format(len(BDC2_L)),\n",
    "                'BDC1\\nn=' + '{:,}'.format(len(BDC1_L)),\n",
    "                'BDC0\\nn=' + '{:,}'.format(len(BDC0_L))],\n",
    "        vert=False,\n",
    "        showfliers=SHOWFLIERS\n",
    "    )\n",
    "    colors = ['green', 'blue', 'gray']\n",
    "    for patch, color in zip(bp1['boxes'], colors):\n",
    "        patch.set_facecolor(color)\n",
    "    ax1.set_xlabel(XLABEL_L)\n",
    "    \n",
    "    # Highlight the area between the first and the third quantiles of the 5' distances from BDC0 in gray\n",
    "    shaded_q1, shaded_q2, shaded_q3 = quantile(BDC0_L, [0.25, 0.50, 0.75])\n",
    "    ax1.axvspan(shaded_q1, shaded_q3, facecolor='gray', alpha=0.2)\n",
    "    ax1.axvline(shaded_q2, color='lightgray', zorder=0)\n",
    "\n",
    "    # Create boxplots for 5' baits (right)\n",
    "    x = ax2.boxplot(\n",
    "        [BDC2_R, BDC1_R, BDC0_R],\n",
    "        widths=(box_width, box_width, box_width),\n",
    "        patch_artist=True,\n",
    "        vert=False,\n",
    "        showfliers=SHOWFLIERS\n",
    "    )\n",
    "    colors = ['green', 'blue', 'gray']\n",
    "    for patch, color in zip(x['boxes'], colors):\n",
    "        patch.set_facecolor(color)\n",
    "    ax2.set_xlabel(XLABEL_R)\n",
    "    \n",
    "    # Hide tick labels\n",
    "    [t.set_color('white') for t in ax2.yaxis.get_ticklabels()]\n",
    "    \n",
    "    # Highlight the area between the first and the third quantiles of the 5' distances from BDC0 in gray\n",
    "    shaded_q1, shaded_q2, shaded_q3 = quantile(BDC0_R, [0.25, 0.50, 0.75])\n",
    "    ax2.axvspan(shaded_q1, shaded_q3, facecolor='gray', alpha=0.2)\n",
    "    ax2.axvline(shaded_q2, color='lightgray', zorder=0)\n",
    "\n",
    "    # Set limits of the x-axes\n",
    "    #if SHOWFLIERS is False:\n",
    "    xmin_1, xmax_1 = ax1.get_xlim()\n",
    "    xmin_2, xmax_2 = ax2.get_xlim()\n",
    "    xmin = min([xmin_1, xmax_1, xmin_2, xmax_2])\n",
    "    xmax = max([xmin_1, xmax_1, xmin_2, xmax_2])\n",
    "    ax1.set_xlim(xmin,xmax)\n",
    "    ax2.set_xlim(xmin,xmax)\n",
    "    padding = (xmax-xmin)/30\n",
    "    xmin = xmin - padding\n",
    "    xmax = xmax + padding\n",
    "\n",
    "    # Format figure and write to PDF file\n",
    "    fig.set_figheight(3)\n",
    "    fig.set_figwidth(12)\n",
    "    fig.tight_layout()\n",
    "    fig.savefig(OUTPUT_PDF)"
   ]
  },
  {
   "cell_type": "markdown",
   "id": "1ef0fb54",
   "metadata": {},
   "source": [
    "Now we apply the plot funtion to all lists with distances at once."
   ]
  },
  {
   "cell_type": "code",
   "execution_count": 21,
   "id": "cccb727e",
   "metadata": {
    "scrolled": false
   },
   "outputs": [
    {
     "data": {
      "image/png": "[encoded data removed]",
      "text/plain": [
       "<Figure size 864x216 with 2 Axes>"
      ]
     },
     "metadata": {},
     "output_type": "display_data"
    }
   ],
   "source": [
    "create_boxplot(\n",
    "    BDC0_L=bdc0_l_dist_list,\n",
    "    BDC0_R=bdc0_r_dist_list,\n",
    "    BDC1_L=bdc1_l_dist_list,\n",
    "    BDC1_R=bdc1_r_dist_list,\n",
    "    BDC2_L=bdc2_l_dist_list,\n",
    "    BDC2_R=bdc2_r_dist_list,\n",
    "    SHOWFLIERS = True,\n",
    "    TITLE='Distances between baits and restriction sites',\n",
    "    XLABEL_L='Distance of 5\\' bait',\n",
    "    XLABEL_R='Distance of 3\\' bait',\n",
    "    OUTPUT_PDF=NOTEBOOK_RESULTS_DIR + '/' + OUT_PREFIX  + '_distances_between_baits_and_restriction_sites.pdf')"
   ]
  },
  {
   "cell_type": "markdown",
   "id": "fc77b8a8",
   "metadata": {},
   "source": [
    "On the left are the boxplots for the distances of the `5'` baits and on the right the boxplots for the distances of the `3'` baits. The top boxplots (gray) show the distributions of distances for baited digests of the class BDC0. The range between the first and third quantile is highlighted in lightgray. Below the boxplots for BDC0, the boxplots for BDC1 (blue) and BDC2 (green) are shown. The distributions of distances for the `5'` and `3'` baits differ only slightly for BDC0, while they differ clearly for BDC1 and BDC2. The boxplots for BDC1 and BDC2 are asymmetrical to each other."
   ]
  },
  {
   "cell_type": "markdown",
   "id": "8cc08576",
   "metadata": {},
   "source": [
    "The boxplots above show the distributions of `5'` and `3'` baits independently. In fact, however, we have a pair of distances for each digest. The following lines of code calculate the differences in distances for each pair."
   ]
  },
  {
   "cell_type": "code",
   "execution_count": 22,
   "id": "e8e5c230",
   "metadata": {},
   "outputs": [],
   "source": [
    "# Get lists with differences for distances\n",
    "bdc0_diff_dist_list = [x[0]-x[1] for x in zip(bdc0_l_dist_list, bdc0_r_dist_list)]\n",
    "bdc1_diff_dist_list = [x[0]-x[1] for x in zip(bdc1_l_dist_list, bdc1_r_dist_list)]\n",
    "bdc2_diff_dist_list = [x[0]-x[1] for x in zip(bdc2_l_dist_list, bdc2_r_dist_list)]"
   ]
  },
  {
   "cell_type": "markdown",
   "id": "833d3e74",
   "metadata": {},
   "source": [
    "We use the same plot function as before, but this time, for each baited digest class, we pass the same list of differences for `5'` and `3'` baits. This results in two identical plots. This way we can reuse the plot function."
   ]
  },
  {
   "cell_type": "code",
   "execution_count": 23,
   "id": "53eec18b",
   "metadata": {
    "scrolled": false
   },
   "outputs": [
    {
     "data": {
      "image/png": "[encoded data removed]",
      "text/plain": [
       "<Figure size 864x216 with 2 Axes>"
      ]
     },
     "metadata": {},
     "output_type": "display_data"
    }
   ],
   "source": [
    "create_boxplot(\n",
    "    BDC0_L=bdc0_diff_dist_list,\n",
    "    BDC0_R=bdc0_diff_dist_list,\n",
    "    BDC1_L=bdc1_diff_dist_list,\n",
    "    BDC1_R=bdc1_diff_dist_list,\n",
    "    BDC2_L=bdc2_diff_dist_list,\n",
    "    BDC2_R=bdc2_diff_dist_list,\n",
    "    SHOWFLIERS = True,\n",
    "    TITLE='Distance differences for digest associated bait pairs',\n",
    "    XLABEL_L='Distance difference for 5\\' and 3\\' bait',\n",
    "    XLABEL_R='Distance difference for 5\\' and 3\\' bait',\n",
    "    OUTPUT_PDF=NOTEBOOK_RESULTS_DIR + '/' + OUT_PREFIX  + '_distance_differences_for_digest_associated_bait_pairs.pdf')"
   ]
  },
  {
   "cell_type": "markdown",
   "id": "a03b83da",
   "metadata": {},
   "source": [
    "The differences of BDC0 are distributed relatively evenly (not perfectly) around zero. In contrast, a strong asymmetry can be seen for BDC1 and BDC2. To assess the deviations from zero for statistical significance, we use the non-parametric Wilcoxon signed rank test."
   ]
  },
  {
   "cell_type": "code",
   "execution_count": 24,
   "id": "a3ee9ede",
   "metadata": {},
   "outputs": [
    {
     "name": "stdout",
     "output_type": "stream",
     "text": [
      "WilcoxonResult(statistic=3293777.0, pvalue=0.004825923561122661)\n",
      "WilcoxonResult(statistic=246015.5, pvalue=0.0)\n",
      "WilcoxonResult(statistic=389393.0, pvalue=0.0)\n"
     ]
    }
   ],
   "source": [
    "# Perform Wilcoxon signed-rank test\n",
    "print(stats.wilcoxon(bdc0_diff_dist_list))\n",
    "print(stats.wilcoxon(bdc1_diff_dist_list))\n",
    "print(stats.wilcoxon(bdc2_diff_dist_list))"
   ]
  },
  {
   "cell_type": "code",
   "execution_count": null,
   "id": "acaa17f5",
   "metadata": {},
   "outputs": [],
   "source": []
  },
  {
   "cell_type": "markdown",
   "id": "cf2d6f90",
   "metadata": {},
   "source": [
    "For BDC0, the deviation from zero is statistically significant. This could be due to differing coordinate systems (0-based or 1-based) or differing definition of the exact restriction sites. For BDC1 and BDC2, the P-value is so small that it is reported as zero."
   ]
  },
  {
   "cell_type": "markdown",
   "id": "923ca34f",
   "metadata": {},
   "source": [
    "We compare the distributions of differences for all pairs of BDC0, BDC1 and BDC2 using a Wilcoxon rank-sum test."
   ]
  },
  {
   "cell_type": "code",
   "execution_count": 25,
   "id": "592e4bb7",
   "metadata": {},
   "outputs": [
    {
     "name": "stdout",
     "output_type": "stream",
     "text": [
      "RanksumsResult(statistic=43.25102148794481, pvalue=0.0)\n",
      "RanksumsResult(statistic=-43.5739344682971, pvalue=0.0)\n",
      "RanksumsResult(statistic=-63.160455020285696, pvalue=0.0)\n"
     ]
    }
   ],
   "source": [
    "# Perform Wilcoxon rank-sum test on differences\n",
    "print(stats.ranksums(bdc0_diff_dist_list, bdc1_diff_dist_list))\n",
    "print(stats.ranksums(bdc0_diff_dist_list, bdc2_diff_dist_list))\n",
    "print(stats.ranksums(bdc1_diff_dist_list, bdc2_diff_dist_list))"
   ]
  },
  {
   "cell_type": "markdown",
   "id": "1148d824",
   "metadata": {},
   "source": [
    "The distributions are very different for all pairs and a P-value of zero is reported in all cases."
   ]
  },
  {
   "cell_type": "markdown",
   "id": "6e918ac4",
   "metadata": {},
   "source": [
    "**Conclusion:** There is a strong correlation between the placment of baits and the assignment of the digests to the classes BDC0, BDC1 and BDC2. If the baits are not placed right next to the restriction site, the probability that the target sequence is part of a chimeric fragment is reduced."
   ]
  },
  {
   "cell_type": "markdown",
   "id": "783d6d90",
   "metadata": {},
   "source": [
    "## Further investigation of digest with two well placed baits\n",
    "\n",
    "Poor placement of baits obviously has a significant impact on bait efficiency. In order to make more subtle influencing factors visible, we have removed all digests where the distances of the two baits to the digest ends are very different.\n",
    "\n",
    "||BDC0|BDC1|BDC2|TOTAL|\n",
    "|---|---|---|---|---|\n",
    "|ALL|7,061|6,873|8,121|22,055|\n",
    "|BOTH_SIDES|6,243|4,057|5,161|15,461|\n",
    "|WELL_PLACED|3,159|1,176|1,821|6,156|"
   ]
  },
  {
   "cell_type": "markdown",
   "id": "437b21f3",
   "metadata": {},
   "source": [
    "### GC content of baits"
   ]
  },
  {
   "cell_type": "markdown",
   "id": "603e7195",
   "metadata": {},
   "source": [
    "First we define a function that that returns the GC and repeat content of a given DNA sequence."
   ]
  },
  {
   "cell_type": "code",
   "execution_count": 26,
   "id": "2b95cf9d",
   "metadata": {},
   "outputs": [],
   "source": [
    "def get_gc_and_repeat_content(sequence):\n",
    "    \n",
    "    # Determine GC content\n",
    "    GC_count = sequence.count('g')\n",
    "    GC_count += sequence.count('G')\n",
    "    GC_count += sequence.count('c')\n",
    "    GC_count += sequence.count('C')\n",
    "    seq_len = len(sequence)\n",
    "    gc_content = GC_count/seq_len\n",
    "    \n",
    "    # Determine repeat content\n",
    "    sequence = sub(\"[a-z]\", 'R', sequence)\n",
    "    R_count = sequence.count('R')\n",
    "    repeat_content = R_count/seq_len\n",
    "    \n",
    "    return gc_content, repeat_content"
   ]
  },
  {
   "cell_type": "markdown",
   "id": "2e5e569b",
   "metadata": {},
   "source": [
    "Here is a fuction call to illustrate how it works."
   ]
  },
  {
   "cell_type": "code",
   "execution_count": 27,
   "id": "20e798f4",
   "metadata": {
    "scrolled": true
   },
   "outputs": [
    {
     "data": {
      "text/plain": [
       "(0.7, 0.4)"
      ]
     },
     "execution_count": 27,
     "metadata": {},
     "output_type": "execute_result"
    }
   ],
   "source": [
    "get_gc_and_repeat_content('NtacgCGCGC')"
   ]
  },
  {
   "cell_type": "markdown",
   "id": "9340a5c3",
   "metadata": {},
   "source": [
    "Lowercase letters represent repeats. The GC content is determined without regard to repeats. Positions with `N` are not taken into account when determining the repeat content."
   ]
  },
  {
   "cell_type": "markdown",
   "id": "42b2810b",
   "metadata": {},
   "source": [
    "A digest dictionaty with well placed baits is passed to the following function. For each digest, the GC and repeat contents of the two baits are determined and appended to lists that are returned at the end."
   ]
  },
  {
   "cell_type": "code",
   "execution_count": 28,
   "id": "99d0754a",
   "metadata": {},
   "outputs": [],
   "source": [
    "def get_gc_and_repeat_content_of_baits(well_placed_baits_dict, bd_classes=[0,1,2]):\n",
    "    l_gc_list = []\n",
    "    r_gc_list = []\n",
    "    l_repeat_list = []\n",
    "    r_repeat_list = []\n",
    "    for d_key in well_placed_baits_dict.keys():\n",
    "    \n",
    "        # Filter for digests with specified baited digest classes\n",
    "        if well_placed_baits_dict[d_key]['BDC'] not in bd_classes:\n",
    "            continue\n",
    "\n",
    "        # Get GC and repeat content of 5' bait\n",
    "        seq = BAIT_SEQ_dict[well_placed_baits_dict[d_key]['L_COORDS'][0]]\n",
    "        gc_content, repeat_content = get_gc_and_repeat_content(seq)\n",
    "        l_gc_list.append(gc_content)\n",
    "        l_repeat_list.append(repeat_content)\n",
    "\n",
    "        # Get GC and repeat content of 3' bait\n",
    "        seq = BAIT_SEQ_dict[well_placed_baits_dict[d_key]['R_COORDS'][0]]\n",
    "        gc_content, repeat_content = get_gc_and_repeat_content(seq)\n",
    "        r_gc_list.append(gc_content)\n",
    "        r_repeat_list.append(repeat_content)\n",
    "      \n",
    "    print('BDC' + str(bd_classes))\n",
    "    print('GC contents 5\\' baits: ' + '{:,}'.format(len(l_gc_list)))\n",
    "    print('GC contents 3\\' baits: ' + '{:,}'.format(len(r_gc_list)))\n",
    "    print('Repeat contents 5\\' baits: ' + '{:,}'.format(len(l_repeat_list)))\n",
    "    print('Repeat contents 3\\' baits: ' + '{:,}'.format(len(r_repeat_list)))\n",
    "    print()\n",
    "        \n",
    "    return l_gc_list, r_gc_list, l_repeat_list, r_repeat_list"
   ]
  },
  {
   "cell_type": "markdown",
   "id": "f474f2b0",
   "metadata": {},
   "source": [
    "We use this funtion to generate separate lists with GC and repeat contents for the baited digests of the different classes."
   ]
  },
  {
   "cell_type": "code",
   "execution_count": 29,
   "id": "25bed5f1",
   "metadata": {},
   "outputs": [
    {
     "name": "stdout",
     "output_type": "stream",
     "text": [
      "BDC[0]\n",
      "GC contents 5' baits: 2,937\n",
      "GC contents 3' baits: 2,937\n",
      "Repeat contents 5' baits: 2,937\n",
      "Repeat contents 3' baits: 2,937\n",
      "\n",
      "BDC[1]\n",
      "GC contents 5' baits: 1,095\n",
      "GC contents 3' baits: 1,095\n",
      "Repeat contents 5' baits: 1,095\n",
      "Repeat contents 3' baits: 1,095\n",
      "\n",
      "BDC[2]\n",
      "GC contents 5' baits: 1,739\n",
      "GC contents 3' baits: 1,739\n",
      "Repeat contents 5' baits: 1,739\n",
      "Repeat contents 3' baits: 1,739\n",
      "\n"
     ]
    }
   ],
   "source": [
    "bdc0_l_gc_list, bdc0_r_gc_list, bdc0_l_repeat_list, bdc0_r_repeat_list = get_gc_and_repeat_content_of_baits(\n",
    "    bdc0_well_placed_dict,\n",
    "    bd_classes=[0])\n",
    "\n",
    "bdc1_l_gc_list, bdc1_r_gc_list, bdc1_l_repeat_list, bdc1_r_repeat_list = get_gc_and_repeat_content_of_baits(\n",
    "    bdc1_well_placed_dict,\n",
    "    bd_classes=[1])\n",
    "\n",
    "bdc2_l_gc_list, bdc2_r_gc_list, bdc2_l_repeat_list, bdc2_r_repeat_list = get_gc_and_repeat_content_of_baits(\n",
    "    bdc2_well_placed_dict,\n",
    "    bd_classes=[2])"
   ]
  },
  {
   "cell_type": "markdown",
   "id": "9c76a2ae",
   "metadata": {},
   "source": [
    "Then we use our boxplot function to compare the distributions of GC contents."
   ]
  },
  {
   "cell_type": "code",
   "execution_count": 30,
   "id": "5cdeebda",
   "metadata": {},
   "outputs": [
    {
     "data": {
      "image/png": "[encoded data removed]",
      "text/plain": [
       "<Figure size 864x216 with 2 Axes>"
      ]
     },
     "metadata": {},
     "output_type": "display_data"
    }
   ],
   "source": [
    "create_boxplot(\n",
    "    BDC0_L=bdc0_l_gc_list,\n",
    "    BDC0_R=bdc0_r_gc_list,\n",
    "    BDC1_L=bdc1_l_gc_list,\n",
    "    BDC1_R=bdc1_r_gc_list,\n",
    "    BDC2_L=bdc2_l_gc_list,\n",
    "    BDC2_R=bdc2_r_gc_list,\n",
    "    SHOWFLIERS = True,\n",
    "    TITLE='GC content of baits',\n",
    "    XLABEL_L='GC content of 5\\' bait',\n",
    "    XLABEL_R='GC content of 3\\' bait',\n",
    "    OUTPUT_PDF=NOTEBOOK_RESULTS_DIR + '/' + OUT_PREFIX  + '_gc_content_of_baits.pdf')"
   ]
  },
  {
   "cell_type": "markdown",
   "id": "9e1a0c1f",
   "metadata": {},
   "source": [
    "For BDC0, the GC contents of the `5'` and `3'` baits show a similar distribution. In contrast, these distributions are very different for BDC1 and BDC2. For BCD1, the distribution for the `3'` baits is shifted towards larger GC contents. For BDC2, it is the other way arround. Here the distribution for the `5'` is shifted towards larger GC contents. This could indicate that too high GC content has a negative impact on the efficiency of baits."
   ]
  },
  {
   "cell_type": "markdown",
   "id": "cecd9a41",
   "metadata": {},
   "source": [
    "We again determine the differences for the bait pairs of all digests, as we did for the distances from baits to digest ends, but this time for the GC contents."
   ]
  },
  {
   "cell_type": "code",
   "execution_count": 31,
   "id": "f5e81bde",
   "metadata": {},
   "outputs": [],
   "source": [
    "# Get lists with differences for GC content\n",
    "bdc0_diff_gc_list = [x[0]-x[1] for x in zip(bdc0_l_gc_list, bdc0_r_gc_list)]\n",
    "bdc1_diff_gc_list = [x[0]-x[1] for x in zip(bdc1_l_gc_list, bdc1_r_gc_list)]\n",
    "bdc2_diff_gc_list = [x[0]-x[1] for x in zip(bdc2_l_gc_list, bdc2_r_gc_list)]"
   ]
  },
  {
   "cell_type": "markdown",
   "id": "244a428e",
   "metadata": {},
   "source": [
    "Then we use our boxplot function to visualize the distributions of differences. Remember that in this case the boxplots on the left and right are identical."
   ]
  },
  {
   "cell_type": "code",
   "execution_count": 32,
   "id": "12ebdc54",
   "metadata": {},
   "outputs": [
    {
     "data": {
      "image/png": "[encoded data removed]",
      "text/plain": [
       "<Figure size 864x216 with 2 Axes>"
      ]
     },
     "metadata": {},
     "output_type": "display_data"
    }
   ],
   "source": [
    "create_boxplot(\n",
    "    BDC0_L=bdc0_diff_gc_list,\n",
    "    BDC0_R=bdc0_diff_gc_list,\n",
    "    BDC1_L=bdc1_diff_gc_list,\n",
    "    BDC1_R=bdc1_diff_gc_list,\n",
    "    BDC2_L=bdc2_diff_gc_list,\n",
    "    BDC2_R=bdc2_diff_gc_list,\n",
    "    SHOWFLIERS = True,\n",
    "    TITLE='GC content differences for digest associated bait pairs',\n",
    "    XLABEL_L='GC content difference for 5\\' and 3\\' bait',\n",
    "    XLABEL_R='GC content difference for 5\\' and 3\\' bait',\n",
    "    OUTPUT_PDF=NOTEBOOK_RESULTS_DIR + '/' + OUT_PREFIX  + '_gc_content_of_digest_associated_bait_pairs.pdf')"
   ]
  },
  {
   "cell_type": "markdown",
   "id": "f9ca5a48",
   "metadata": {},
   "source": [
    "For BDC0, the differences are evenly distributed around zero. For BDC1, the distribution is shifted towards negative differences. This means that there are many bait pairs for which the GC content of the `3'` bait is higher than that of the `5'` bait. For BDC2 it is the exact opposite. Here, there are many pairs where the GC content of the `5'` bait is higher."
   ]
  },
  {
   "cell_type": "markdown",
   "id": "ea203742",
   "metadata": {},
   "source": [
    "We use the Wilcoxon signed rank test to test the deviations from zero for statistical significance."
   ]
  },
  {
   "cell_type": "code",
   "execution_count": 33,
   "id": "b613b189",
   "metadata": {},
   "outputs": [
    {
     "name": "stdout",
     "output_type": "stream",
     "text": [
      "WilcoxonResult(statistic=1940059.0, pvalue=0.10166630827827407)\n",
      "WilcoxonResult(statistic=134071.5, pvalue=3.776729174951578e-51)\n",
      "WilcoxonResult(statistic=409626.5, pvalue=2.2175647039139098e-55)\n"
     ]
    }
   ],
   "source": [
    "# Perform Wilcoxon signed-rank test\n",
    "print(stats.wilcoxon(bdc0_diff_gc_list))\n",
    "print(stats.wilcoxon(bdc1_diff_gc_list))\n",
    "print(stats.wilcoxon(bdc2_diff_gc_list))"
   ]
  },
  {
   "cell_type": "markdown",
   "id": "bcc45dd3",
   "metadata": {},
   "source": [
    "For BDC0, the differences do not deviate significantly from zero. For BDC1 and BDC2, the deviations are significant."
   ]
  },
  {
   "cell_type": "markdown",
   "id": "a24d1ebc",
   "metadata": {},
   "source": [
    "We use the Wilcoxon rank sum test to test the null hypothesis that the differences for BDC0, BDC1 and BDC2 come from the same distribution."
   ]
  },
  {
   "cell_type": "code",
   "execution_count": 34,
   "id": "44ab93a6",
   "metadata": {},
   "outputs": [
    {
     "name": "stdout",
     "output_type": "stream",
     "text": [
      "RanksumsResult(statistic=15.526868490495751, pvalue=2.2825730896505127e-54)\n",
      "RanksumsResult(statistic=-12.758886985997961, pvalue=2.7814688871963198e-37)\n",
      "RanksumsResult(statistic=-21.604068559375243, pvalue=1.644721760470201e-103)\n"
     ]
    }
   ],
   "source": [
    "# Perform Wilcoxon rank-sum test on differences\n",
    "print(stats.ranksums(bdc0_diff_gc_list, bdc1_diff_gc_list))\n",
    "print(stats.ranksums(bdc0_diff_gc_list, bdc2_diff_gc_list))\n",
    "print(stats.ranksums(bdc1_diff_gc_list, bdc2_diff_gc_list))"
   ]
  },
  {
   "cell_type": "markdown",
   "id": "189fed04",
   "metadata": {},
   "source": [
    "The distributions of differences for BDC0, BDC1 and BDC2 differ significantly from each other."
   ]
  },
  {
   "cell_type": "markdown",
   "id": "6aa4afb6",
   "metadata": {},
   "source": [
    "### Repeat content of baits\n",
    "\n",
    "For the repeat content of baits, we perform the same analysis as for the GC content of baits. As before, we use the digest with two well-placed baits for our analysis. First, we create the boxplots showing the distributions of repeat contents separately for `5'` and `3'` baits."
   ]
  },
  {
   "cell_type": "code",
   "execution_count": 35,
   "id": "591a7dfe",
   "metadata": {
    "scrolled": true
   },
   "outputs": [
    {
     "data": {
      "image/png": "[encoded data removed]",
      "text/plain": [
       "<Figure size 864x216 with 2 Axes>"
      ]
     },
     "metadata": {},
     "output_type": "display_data"
    }
   ],
   "source": [
    "create_boxplot(\n",
    "    BDC0_L=bdc0_l_repeat_list,\n",
    "    BDC0_R=bdc0_r_repeat_list,\n",
    "    BDC1_L=bdc1_l_repeat_list,\n",
    "    BDC1_R=bdc1_r_repeat_list,\n",
    "    BDC2_L=bdc2_l_repeat_list,\n",
    "    BDC2_R=bdc2_r_repeat_list,\n",
    "    SHOWFLIERS = True,\n",
    "    TITLE='Repeat content of baits',\n",
    "    XLABEL_L='Repeat content of 5\\' bait',\n",
    "    XLABEL_R='Repeat content of 3\\' bait',\n",
    "    OUTPUT_PDF=NOTEBOOK_RESULTS_DIR + '/' + OUT_PREFIX  + '_repeat_content_of_baits.pdf')"
   ]
  },
  {
   "cell_type": "markdown",
   "id": "abd5c1e2",
   "metadata": {},
   "source": [
    "For BDC0, the repeat content distributions of `5'` and `3'` baits are similar. For BDC1 and BDC2, these distributions are very different. For BDC1, most of the repeat contents of the `3'` baits seem to be zero and, for BDC2, it is the exact opposite."
   ]
  },
  {
   "cell_type": "markdown",
   "id": "bd4ee524",
   "metadata": {},
   "source": [
    "We again determine the differences of repeat contents for all bait pairs and create boxplots."
   ]
  },
  {
   "cell_type": "code",
   "execution_count": 36,
   "id": "c11c4c99",
   "metadata": {},
   "outputs": [],
   "source": [
    "## Get lists with differences for repeat content\n",
    "bdc0_diff_repeat_list = [x[0]-x[1] for x in zip(bdc0_l_repeat_list, bdc0_r_repeat_list)]\n",
    "bdc1_diff_repeat_list = [x[0]-x[1] for x in zip(bdc1_l_repeat_list, bdc1_r_repeat_list)]\n",
    "bdc2_diff_repeat_list = [x[0]-x[1] for x in zip(bdc2_l_repeat_list, bdc2_r_repeat_list)]"
   ]
  },
  {
   "cell_type": "code",
   "execution_count": 37,
   "id": "280d9d60",
   "metadata": {},
   "outputs": [
    {
     "data": {
      "image/png": "[encoded data removed]",
      "text/plain": [
       "<Figure size 864x216 with 2 Axes>"
      ]
     },
     "metadata": {},
     "output_type": "display_data"
    }
   ],
   "source": [
    "create_boxplot(\n",
    "    BDC0_L=bdc0_diff_repeat_list,\n",
    "    BDC0_R=bdc0_diff_repeat_list,\n",
    "    BDC1_L=bdc1_diff_repeat_list,\n",
    "    BDC1_R=bdc1_diff_repeat_list,\n",
    "    BDC2_L=bdc2_diff_repeat_list,\n",
    "    BDC2_R=bdc2_diff_repeat_list,\n",
    "    SHOWFLIERS = True,\n",
    "    TITLE='Repeat content differences for digest associated bait pairs',\n",
    "    XLABEL_L='Repeat content difference for 5\\' and 3\\' bait',\n",
    "    XLABEL_R='Repeat content difference for 5\\' and 3\\' bait',\n",
    "    OUTPUT_PDF=NOTEBOOK_RESULTS_DIR + '/' + OUT_PREFIX  + '_repeat_content_differences_for_digest_associated_bait_pairs.pdf')"
   ]
  },
  {
   "cell_type": "markdown",
   "id": "c7777ade",
   "metadata": {},
   "source": [
    "Then we perform the statistical tests."
   ]
  },
  {
   "cell_type": "code",
   "execution_count": 38,
   "id": "8833f262",
   "metadata": {
    "scrolled": true
   },
   "outputs": [
    {
     "name": "stdout",
     "output_type": "stream",
     "text": [
      "WilcoxonResult(statistic=431947.0, pvalue=0.27842897652585796)\n",
      "WilcoxonResult(statistic=44595.5, pvalue=2.7344518012155937e-05)\n",
      "WilcoxonResult(statistic=123059.5, pvalue=0.0018637193961592983)\n"
     ]
    }
   ],
   "source": [
    "# Perform Wilcoxon signed-rank test\n",
    "print(stats.wilcoxon(bdc0_diff_repeat_list))\n",
    "print(stats.wilcoxon(bdc1_diff_repeat_list))\n",
    "print(stats.wilcoxon(bdc2_diff_repeat_list))"
   ]
  },
  {
   "cell_type": "markdown",
   "id": "9660d2cc",
   "metadata": {},
   "source": [
    "Judging by the test, the differences for BDC1 and BDC2 deviate significantly from zero, but not for BDC0."
   ]
  },
  {
   "cell_type": "code",
   "execution_count": 39,
   "id": "a465eaca",
   "metadata": {},
   "outputs": [
    {
     "name": "stdout",
     "output_type": "stream",
     "text": [
      "RanksumsResult(statistic=-2.793215402248477, pvalue=0.005218692818061219)\n",
      "RanksumsResult(statistic=1.4607286740850376, pvalue=0.14408991669637716)\n",
      "RanksumsResult(statistic=3.703730402421872, pvalue=0.0002124520426915511)\n"
     ]
    }
   ],
   "source": [
    "# Perform Wilcoxon rank_sum test on differences\n",
    "print(stats.ranksums(bdc0_diff_repeat_list, bdc1_diff_repeat_list))\n",
    "print(stats.ranksums(bdc0_diff_repeat_list, bdc2_diff_repeat_list))\n",
    "print(stats.ranksums(bdc1_diff_repeat_list, bdc2_diff_repeat_list))"
   ]
  },
  {
   "cell_type": "markdown",
   "id": "e0752403",
   "metadata": {},
   "source": [
    "BDC1 and BDC2 differ only slightly from BDC0. But among themselves, BDC1 and BDC2 differ significantly."
   ]
  },
  {
   "cell_type": "markdown",
   "id": "fca9bde1",
   "metadata": {},
   "source": [
    "#### Remove all digests for which the repeat content of both baits is zero"
   ]
  },
  {
   "cell_type": "markdown",
   "id": "065dfb19",
   "metadata": {},
   "source": [
    "The boxplot for the repeat content of BDC1 `3'` baits and the BDC2 `5'` baits look strange. This is because in these cases the repeat content is zero for more than 75% of the digests."
   ]
  },
  {
   "cell_type": "code",
   "execution_count": 40,
   "id": "caf30420",
   "metadata": {
    "scrolled": false
   },
   "outputs": [
    {
     "name": "stdout",
     "output_type": "stream",
     "text": [
      "5' baits\n",
      "BDC0: 0.73\n",
      "BDC1: 0.72\n",
      "BDC2: 0.76 !\n",
      "\n",
      "3' baits\n",
      "BDC0: 0.72\n",
      "BDC1: 0.77 !\n",
      "BDC2: 0.72\n"
     ]
    }
   ],
   "source": [
    "print('5\\' baits')\n",
    "print('BDC0: ' + '{:.2f}'.format(bdc0_l_repeat_list.count(0.00)/len(bdc0_l_repeat_list)))\n",
    "print('BDC1: ' + '{:.2f}'.format(bdc1_l_repeat_list.count(0.00)/len(bdc1_l_repeat_list)))\n",
    "print('BDC2: ' + '{:.2f}'.format(bdc2_l_repeat_list.count(0.00)/len(bdc2_l_repeat_list)) + ' !')\n",
    "print()\n",
    "print('3\\' baits')\n",
    "print('BDC0: ' + '{:.2f}'.format(bdc0_r_repeat_list.count(0.00)/len(bdc0_r_repeat_list)))\n",
    "print('BDC1: ' + '{:.2f}'.format(bdc1_r_repeat_list.count(0.00)/len(bdc1_r_repeat_list)) + ' !')\n",
    "print('BDC2: ' + '{:.2f}'.format(bdc2_r_repeat_list.count(0.00)/len(bdc2_r_repeat_list)))"
   ]
  },
  {
   "cell_type": "markdown",
   "id": "f0e8a0f5",
   "metadata": {},
   "source": [
    "More than half of the differences are also equal zero."
   ]
  },
  {
   "cell_type": "code",
   "execution_count": 41,
   "id": "426f1949",
   "metadata": {},
   "outputs": [
    {
     "name": "stdout",
     "output_type": "stream",
     "text": [
      "Differences between 5' and 3' baits\n",
      "BDC0: 0.54\n",
      "BDC1: 0.56\n",
      "BDC2: 0.57\n"
     ]
    }
   ],
   "source": [
    "print('Differences between 5\\' and 3\\' baits')\n",
    "print('BDC0: ' + '{:.2f}'.format(bdc0_diff_repeat_list.count(0.00)/len(bdc0_diff_repeat_list)))\n",
    "print('BDC1: ' + '{:.2f}'.format(bdc1_diff_repeat_list.count(0.00)/len(bdc1_diff_repeat_list)))\n",
    "print('BDC2: ' + '{:.2f}'.format(bdc2_diff_repeat_list.count(0.00)/len(bdc2_diff_repeat_list)))"
   ]
  },
  {
   "cell_type": "markdown",
   "id": "b6ce3dda",
   "metadata": {},
   "source": [
    "This means that more than the half of the digests have two baits with no repeats. These digests are not informative for this analysis (true?) and they interfere with the display in the boxplots. Therefore, we removed all digests for which the repeat content of both digests is zero."
   ]
  },
  {
   "cell_type": "code",
   "execution_count": 42,
   "id": "230e9444",
   "metadata": {},
   "outputs": [],
   "source": [
    "bdc0_l_repeat_list_f1, bdc0_r_repeat_list_f1, bdc0_l_gc_list_f1, bdc0_r_gc_list_f1 = \\\n",
    "    zip(*list(filter(lambda x: 0<x[0] or 0<x[1], zip(bdc0_l_repeat_list, bdc0_r_repeat_list, bdc0_l_gc_list, bdc0_r_gc_list))))\n",
    "\n",
    "bdc1_l_repeat_list_f1, bdc1_r_repeat_list_f1, bdc1_l_gc_list_f1, bdc1_r_gc_list_f1 = \\\n",
    "    zip(*list(filter(lambda x: 0<x[0] or 0<x[1], zip(bdc1_l_repeat_list, bdc1_r_repeat_list, bdc1_l_gc_list, bdc1_r_gc_list))))\n",
    "\n",
    "bdc2_l_repeat_list_f1, bdc2_r_repeat_list_f1, bdc2_l_gc_list_f1, bdc2_r_gc_list_f1 = \\\n",
    "    zip(*list(filter(lambda x: 0<x[0] or 0<x[1], zip(bdc2_l_repeat_list, bdc2_r_repeat_list, bdc2_l_gc_list, bdc2_r_gc_list))))"
   ]
  },
  {
   "cell_type": "markdown",
   "id": "1a44238d",
   "metadata": {},
   "source": [
    "Then we plotted the repeat content of the remaining pairs in a boxplot."
   ]
  },
  {
   "cell_type": "code",
   "execution_count": 43,
   "id": "1e5888d8",
   "metadata": {
    "scrolled": true
   },
   "outputs": [
    {
     "data": {
      "image/png": "[encoded data removed]",
      "text/plain": [
       "<Figure size 864x216 with 2 Axes>"
      ]
     },
     "metadata": {},
     "output_type": "display_data"
    }
   ],
   "source": [
    "create_boxplot(\n",
    "    BDC0_L=bdc0_l_repeat_list_f1,\n",
    "    BDC0_R=bdc0_r_repeat_list_f1,\n",
    "    BDC1_L=bdc1_l_repeat_list_f1,\n",
    "    BDC1_R=bdc1_r_repeat_list_f1,\n",
    "    BDC2_L=bdc2_l_repeat_list_f1,\n",
    "    BDC2_R=bdc2_r_repeat_list_f1,\n",
    "    SHOWFLIERS = True,\n",
    "    TITLE='Repeat content of baits (f1)',\n",
    "    XLABEL_L='Repeat content of 5\\' bait',\n",
    "    XLABEL_R='Repeat content of 3\\' bait',\n",
    "    OUTPUT_PDF=NOTEBOOK_RESULTS_DIR + '/' + OUT_PREFIX  + '_repeat_content_of_baits_f1.pdf')"
   ]
  },
  {
   "cell_type": "markdown",
   "id": "19cad630",
   "metadata": {},
   "source": [
    "For BDC0, the distributions of the repeat contents of `5'` and `3'` baits are almost the same. For BCD1, the `3'` baits have lower repeat content and, for BDC2, the `5'` baits have lower repeat content. This contradicts the explanatory model with the unequal efficiency of baits. Normally, baits with higher repeat content are assumed to less efficient because they bind not only to the target region, but to other regions as well."
   ]
  },
  {
   "cell_type": "markdown",
   "id": "fc2a6066",
   "metadata": {},
   "source": [
    "We again determine the differences of repeat contents for all bait pairs, create boxplots and perform the statistical tests."
   ]
  },
  {
   "cell_type": "code",
   "execution_count": 44,
   "id": "901b2f81",
   "metadata": {},
   "outputs": [],
   "source": [
    "# Get lists with differences for repeat content (filtered)\n",
    "bdc0_diff_repeat_list_f1 = [x[0]-x[1] for x in zip(bdc0_l_repeat_list_f1, bdc0_r_repeat_list_f1)]\n",
    "bdc1_diff_repeat_list_f1 = [x[0]-x[1] for x in zip(bdc1_l_repeat_list_f1, bdc1_r_repeat_list_f1)]\n",
    "bdc2_diff_repeat_list_f1 = [x[0]-x[1] for x in zip(bdc2_l_repeat_list_f1, bdc2_r_repeat_list_f1)]"
   ]
  },
  {
   "cell_type": "code",
   "execution_count": 45,
   "id": "32f418c4",
   "metadata": {},
   "outputs": [
    {
     "data": {
      "image/png": "[encoded data removed]",
      "text/plain": [
       "<Figure size 864x216 with 2 Axes>"
      ]
     },
     "metadata": {},
     "output_type": "display_data"
    }
   ],
   "source": [
    "create_boxplot(\n",
    "    BDC0_L=bdc0_diff_repeat_list_f1,\n",
    "    BDC0_R=bdc0_diff_repeat_list_f1,\n",
    "    BDC1_L=bdc1_diff_repeat_list_f1,\n",
    "    BDC1_R=bdc1_diff_repeat_list_f1,\n",
    "    BDC2_L=bdc2_diff_repeat_list_f1,\n",
    "    BDC2_R=bdc2_diff_repeat_list_f1,\n",
    "    SHOWFLIERS = True,\n",
    "    TITLE='Repeat content differences for digest associated bait pairs (f1)',\n",
    "    XLABEL_L='Repeat content difference for 5\\' and 3\\' bait',\n",
    "    XLABEL_R='Repeat content difference for 5\\' and 3\\' bait',\n",
    "    OUTPUT_PDF=NOTEBOOK_RESULTS_DIR + '/' + OUT_PREFIX  + '_repeat_content_differences_for_digest_associated_bait_pairs_f1.pdf')"
   ]
  },
  {
   "cell_type": "markdown",
   "id": "e1e8bd04",
   "metadata": {},
   "source": [
    "For BDC0, the differences are evenly distributed around zero. For BDC1, the repeat content of the `3'` bait is often less than that of the `5'` bait and, for BDC2, the opposite is true."
   ]
  },
  {
   "cell_type": "code",
   "execution_count": 46,
   "id": "ead7cce7",
   "metadata": {},
   "outputs": [
    {
     "name": "stdout",
     "output_type": "stream",
     "text": [
      "WilcoxonResult(statistic=431947.0, pvalue=0.27842897652585796)\n",
      "WilcoxonResult(statistic=44595.5, pvalue=2.7344518012155937e-05)\n",
      "WilcoxonResult(statistic=123059.5, pvalue=0.0018637193961592983)\n"
     ]
    }
   ],
   "source": [
    "# Perform Wilcoxon signed-rank test\n",
    "print(stats.wilcoxon(bdc0_diff_repeat_list_f1))\n",
    "print(stats.wilcoxon(bdc1_diff_repeat_list_f1))\n",
    "print(stats.wilcoxon(bdc2_diff_repeat_list_f1))"
   ]
  },
  {
   "cell_type": "code",
   "execution_count": 47,
   "id": "3d386c8b",
   "metadata": {},
   "outputs": [
    {
     "name": "stdout",
     "output_type": "stream",
     "text": [
      "RanksumsResult(statistic=-4.224530833939755, pvalue=2.3943906916847852e-05)\n",
      "RanksumsResult(statistic=1.842938397238898, pvalue=0.06533800529269698)\n",
      "RanksumsResult(statistic=5.237162993997502, pvalue=1.630636771373688e-07)\n"
     ]
    }
   ],
   "source": [
    "# Perform Wilcoxon rank-sum test on differences\n",
    "print(stats.ranksums(bdc0_diff_repeat_list_f1, bdc1_diff_repeat_list_f1))\n",
    "print(stats.ranksums(bdc0_diff_repeat_list_f1, bdc2_diff_repeat_list_f1))\n",
    "print(stats.ranksums(bdc1_diff_repeat_list_f1, bdc2_diff_repeat_list_f1))"
   ]
  },
  {
   "cell_type": "markdown",
   "id": "fd8ff9a0",
   "metadata": {},
   "source": [
    "The results of the statistical tests are not very different from those obtained before we removed all digests that have two baits without repeats."
   ]
  },
  {
   "cell_type": "markdown",
   "id": "a35f4f54",
   "metadata": {},
   "source": [
    "Repeat GC content analysis for non-zero repeat digests."
   ]
  },
  {
   "cell_type": "code",
   "execution_count": 48,
   "id": "52f272f0",
   "metadata": {},
   "outputs": [
    {
     "data": {
      "image/png": "[encoded data removed]",
      "text/plain": [
       "<Figure size 864x216 with 2 Axes>"
      ]
     },
     "metadata": {},
     "output_type": "display_data"
    }
   ],
   "source": [
    "create_boxplot(\n",
    "    BDC0_L=bdc0_l_gc_list_f1,\n",
    "    BDC0_R=bdc0_r_gc_list_f1,\n",
    "    BDC1_L=bdc1_l_gc_list_f1,\n",
    "    BDC1_R=bdc1_r_gc_list_f1,\n",
    "    BDC2_L=bdc2_l_gc_list_f1,\n",
    "    BDC2_R=bdc2_r_gc_list_f1,\n",
    "    SHOWFLIERS = True,\n",
    "    TITLE='GC content of baits (f1)',\n",
    "    XLABEL_L='GC content of 5\\' bait',\n",
    "    XLABEL_R='GC content of 3\\' bait',\n",
    "    OUTPUT_PDF=NOTEBOOK_RESULTS_DIR + '/' + OUT_PREFIX  + '_gc_content_of_baits_f1.pdf')"
   ]
  },
  {
   "cell_type": "code",
   "execution_count": 49,
   "id": "a26bd827",
   "metadata": {},
   "outputs": [],
   "source": [
    "# Get lists with differences for gc content (filtered)\n",
    "bdc0_diff_gc_list_f1 = [x[0]-x[1] for x in zip(bdc0_l_gc_list_f1, bdc0_r_gc_list_f1)]\n",
    "bdc1_diff_gc_list_f1 = [x[0]-x[1] for x in zip(bdc1_l_gc_list_f1, bdc1_r_gc_list_f1)]\n",
    "bdc2_diff_gc_list_f1 = [x[0]-x[1] for x in zip(bdc2_l_gc_list_f1, bdc2_r_gc_list_f1)]"
   ]
  },
  {
   "cell_type": "code",
   "execution_count": 50,
   "id": "34f0d433",
   "metadata": {},
   "outputs": [
    {
     "data": {
      "image/png": "[encoded data removed]",
      "text/plain": [
       "<Figure size 864x216 with 2 Axes>"
      ]
     },
     "metadata": {},
     "output_type": "display_data"
    }
   ],
   "source": [
    "create_boxplot(\n",
    "    BDC0_L=bdc0_diff_gc_list_f1,\n",
    "    BDC0_R=bdc0_diff_gc_list_f1,\n",
    "    BDC1_L=bdc1_diff_gc_list_f1,\n",
    "    BDC1_R=bdc1_diff_gc_list_f1,\n",
    "    BDC2_L=bdc2_diff_gc_list_f1,\n",
    "    BDC2_R=bdc2_diff_gc_list_f1,\n",
    "    SHOWFLIERS = True,\n",
    "    TITLE='GC content differences for digest associated bait pairs (f1)',\n",
    "    XLABEL_L='GC content difference for 5\\' and 3\\' bait',\n",
    "    XLABEL_R='GC content difference for 5\\' and 3\\' bait',\n",
    "    OUTPUT_PDF=NOTEBOOK_RESULTS_DIR + '/' + OUT_PREFIX  + '_gc_content_differences_for_digest_associated_bait_pairs_f1.pdf')"
   ]
  },
  {
   "cell_type": "code",
   "execution_count": 51,
   "id": "46db7361",
   "metadata": {},
   "outputs": [
    {
     "name": "stdout",
     "output_type": "stream",
     "text": [
      "WilcoxonResult(statistic=417877.0, pvalue=0.30535123435000056)\n",
      "WilcoxonResult(statistic=25587.0, pvalue=4.796134655227349e-25)\n",
      "WilcoxonResult(statistic=79317.5, pvalue=2.3698947319502146e-25)\n"
     ]
    }
   ],
   "source": [
    "# Perform Wilcoxon signed-rank test\n",
    "print(stats.wilcoxon(bdc0_diff_gc_list_f1))\n",
    "print(stats.wilcoxon(bdc1_diff_gc_list_f1))\n",
    "print(stats.wilcoxon(bdc2_diff_gc_list_f1))"
   ]
  },
  {
   "cell_type": "markdown",
   "id": "c46e187e",
   "metadata": {},
   "source": [
    "### Dependency between GC and repeat content\n",
    "\n",
    "High GC content could be negatively correlated with repeat content. To test this hypothesis, we determined the GC and repeat content of all baits."
   ]
  },
  {
   "cell_type": "code",
   "execution_count": 52,
   "id": "61e6cacb",
   "metadata": {},
   "outputs": [],
   "source": [
    "# Get GC and repeat content of all baits\n",
    "gc_list = []\n",
    "repeat_list = []\n",
    "for bait_seq in BAIT_SEQ_dict.values():\n",
    "    gc_content, repeat_content = get_gc_and_repeat_content(bait_seq)\n",
    "    gc_list.append(gc_content)\n",
    "    repeat_list.append(repeat_content)"
   ]
  },
  {
   "cell_type": "markdown",
   "id": "d6f9e5af",
   "metadata": {},
   "source": [
    "Then we divide all baits into those with and without repeats, and within these groups, we further divide them into low and high GC baits. To distinguish between low and high GC baits, we use the median GC content of all baits as a threshold. Then we determine the numbers of baits in the four groups and perform a Fisher's exact test."
   ]
  },
  {
   "cell_type": "code",
   "execution_count": 53,
   "id": "54fb5da0",
   "metadata": {},
   "outputs": [
    {
     "name": "stdout",
     "output_type": "stream",
     "text": [
      "GC_LOW_HIGH_THRESH: 0.43\n",
      "\n",
      "                 Low GC High GC   Total\n",
      "Zero repeat      11,607  12,380  23,987\n",
      "Non-zero repeat   7,724   5,891  13,615\n",
      "Total            19,331  18,271  37,602\n",
      "Prior odds ratio: 0.7150659484860984\n",
      "P-value: 1.251786508767154e-54\n"
     ]
    }
   ],
   "source": [
    "GC_LOW_HIGH_THRESH = median(gc_list)\n",
    "print('GC_LOW_HIGH_THRESH: ' + '{:.2f}'.format(GC_LOW_HIGH_THRESH))\n",
    "print()\n",
    "x, y = \\\n",
    "    zip(*list(filter(lambda x: x[0]==0 and x[1]<=GC_LOW_HIGH_THRESH, zip(repeat_list, gc_list))))\n",
    "ZERO_REPEAT_GC_LOW = len(y)\n",
    "x, y = \\\n",
    "    zip(*list(filter(lambda x: x[0]==0 and x[1]>GC_LOW_HIGH_THRESH, zip(repeat_list, gc_list))))\n",
    "ZERO_REPEAT_GC_HIGH = len(y)\n",
    "x, y = \\\n",
    "    zip(*list(filter(lambda x: x[0]>0 and x[1]<=GC_LOW_HIGH_THRESH, zip(repeat_list, gc_list))))\n",
    "NON_ZERO_REPEAT_GC_LOW = len(y)\n",
    "x, y = \\\n",
    "    zip(*list(filter(lambda x: x[0]>0 and x[1]>GC_LOW_HIGH_THRESH, zip(repeat_list, gc_list))))\n",
    "NON_ZERO_REPEAT_GC_HIGH = len(y)\n",
    "\n",
    "ZERO_REPEAT_TOTAL = ZERO_REPEAT_GC_LOW + ZERO_REPEAT_GC_HIGH\n",
    "NON_ZERO_REPEAT_TOTAL = NON_ZERO_REPEAT_GC_LOW + NON_ZERO_REPEAT_GC_HIGH\n",
    "GC_LOW_TOTAL = ZERO_REPEAT_GC_LOW + NON_ZERO_REPEAT_GC_LOW\n",
    "GC_HIGH_TOTAL = ZERO_REPEAT_GC_HIGH + NON_ZERO_REPEAT_GC_HIGH\n",
    "\n",
    "d = {'Low GC': ['{:,}'.format(ZERO_REPEAT_GC_LOW),\n",
    "                '{:,}'.format(NON_ZERO_REPEAT_GC_LOW),\n",
    "                '{:,}'.format(GC_LOW_TOTAL)],\n",
    "     'High GC': ['{:,}'.format(ZERO_REPEAT_GC_HIGH),\n",
    "                 '{:,}'.format(NON_ZERO_REPEAT_GC_HIGH),\n",
    "                 '{:,}'.format(GC_HIGH_TOTAL)],\n",
    "     'Total': ['{:,}'.format(ZERO_REPEAT_TOTAL),\n",
    "               '{:,}'.format(NON_ZERO_REPEAT_TOTAL),\n",
    "               '{:,}'.format(ZERO_REPEAT_TOTAL + NON_ZERO_REPEAT_TOTAL)]}\n",
    "df = pd.DataFrame(data=d)\n",
    "df.index = ['Zero repeat', 'Non-zero repeat', 'Total']\n",
    "print(df)\n",
    "\n",
    "# Fisher's exact test\n",
    "contingency_table = [\n",
    "    [ZERO_REPEAT_GC_LOW, ZERO_REPEAT_GC_HIGH],\n",
    "    [NON_ZERO_REPEAT_GC_LOW, NON_ZERO_REPEAT_GC_HIGH]]\n",
    "\n",
    "odds_ratio, p_value = fisher_exact(contingency_table, alternative='two-sided')\n",
    "print('Prior odds ratio: ' + str(odds_ratio))\n",
    "print('P-value: ' + str(p_value))"
   ]
  },
  {
   "cell_type": "markdown",
   "id": "2cc01142",
   "metadata": {},
   "source": [
    "Among the baits with a high GC content, the proportion of baits without repeats is significantly higher."
   ]
  },
  {
   "cell_type": "markdown",
   "id": "ffa0d001",
   "metadata": {},
   "source": [
    "### Remove digests in which one of the baits has very high GC content\n",
    "\n",
    "We have removed all digests for which at least one of the baits has a GC content of more than that of 75% of all baits, which is `0.52`."
   ]
  },
  {
   "cell_type": "code",
   "execution_count": 54,
   "id": "28ee6d16",
   "metadata": {},
   "outputs": [
    {
     "name": "stdout",
     "output_type": "stream",
     "text": [
      "0.5166666666666667\n"
     ]
    }
   ],
   "source": [
    "GC_HIGH_THRESH = quantile(gc_list, 0.75)\n",
    "print(GC_HIGH_THRESH)"
   ]
  },
  {
   "cell_type": "code",
   "execution_count": 56,
   "id": "6e657245",
   "metadata": {},
   "outputs": [],
   "source": [
    "bdc0_l_gc_list_f2, bdc0_r_gc_list_f2, bdc0_l_repeat_list_f2, bdc0_r_repeat_list_f2 = \\\n",
    "    zip(*list(filter(lambda x: x[0]<GC_HIGH_THRESH and x[1]<GC_HIGH_THRESH and (0<x[2] or 0<x[3]), zip(bdc0_l_gc_list, bdc0_r_gc_list, bdc0_l_repeat_list, bdc0_r_repeat_list))))\n",
    "\n",
    "bdc1_l_gc_list_f2, bdc1_r_gc_list_f2, bdc1_l_repeat_list_f2, bdc1_r_repeat_list_f2 = \\\n",
    "    zip(*list(filter(lambda x: x[0]<GC_HIGH_THRESH and x[1]<GC_HIGH_THRESH and (0<x[2] or 0<x[3]), zip(bdc1_l_gc_list, bdc1_r_gc_list, bdc1_l_repeat_list, bdc1_r_repeat_list))))\n",
    "\n",
    "bdc2_l_gc_list_f2, bdc2_r_gc_list_f2, bdc2_l_repeat_list_f2, bdc2_r_repeat_list_f2 = \\\n",
    "    zip(*list(filter(lambda x: x[0]<GC_HIGH_THRESH and x[1]<GC_HIGH_THRESH and (0<x[2] or 0<x[3]), zip(bdc2_l_gc_list, bdc2_r_gc_list, bdc2_l_repeat_list, bdc2_r_repeat_list))))"
   ]
  },
  {
   "cell_type": "markdown",
   "id": "eb222b81",
   "metadata": {},
   "source": [
    "First, we run the analysis for GC content again using the filtered data."
   ]
  },
  {
   "cell_type": "code",
   "execution_count": 57,
   "id": "bb3c84c7",
   "metadata": {},
   "outputs": [
    {
     "data": {
      "image/png": "[encoded data removed]",
      "text/plain": [
       "<Figure size 864x216 with 2 Axes>"
      ]
     },
     "metadata": {},
     "output_type": "display_data"
    }
   ],
   "source": [
    "create_boxplot(\n",
    "    BDC0_L=bdc0_l_gc_list_f2,\n",
    "    BDC0_R=bdc0_r_gc_list_f2,\n",
    "    BDC1_L=bdc1_l_gc_list_f2,\n",
    "    BDC1_R=bdc1_r_gc_list_f2,\n",
    "    BDC2_L=bdc2_l_gc_list_f2,\n",
    "    BDC2_R=bdc2_r_gc_list_f2,\n",
    "    SHOWFLIERS = True,\n",
    "    TITLE='GC content of baits (f2)',\n",
    "    XLABEL_L='GC content of 5\\' bait',\n",
    "    XLABEL_R='GC content of 3\\' bait',\n",
    "    OUTPUT_PDF=NOTEBOOK_RESULTS_DIR + '/' + OUT_PREFIX  + '_gc_content_of_baits_f2.pdf')"
   ]
  },
  {
   "cell_type": "code",
   "execution_count": 58,
   "id": "9a67c60a",
   "metadata": {},
   "outputs": [],
   "source": [
    "# Get lists with differences for GC content (x)\n",
    "bdc0_diff_gc_list_f2 = [x[0]-x[1] for x in zip(bdc0_l_gc_list_f2, bdc0_r_gc_list_f2)]\n",
    "bdc1_diff_gc_list_f2 = [x[0]-x[1] for x in zip(bdc1_l_gc_list_f2, bdc1_r_gc_list_f2)]\n",
    "bdc2_diff_gc_list_f2 = [x[0]-x[1] for x in zip(bdc2_l_gc_list_f2, bdc2_r_gc_list_f2)]"
   ]
  },
  {
   "cell_type": "code",
   "execution_count": 59,
   "id": "1f8943ff",
   "metadata": {
    "scrolled": true
   },
   "outputs": [
    {
     "data": {
      "image/png": "[encoded data removed]",
      "text/plain": [
       "<Figure size 864x216 with 2 Axes>"
      ]
     },
     "metadata": {},
     "output_type": "display_data"
    }
   ],
   "source": [
    "create_boxplot(\n",
    "    BDC0_L=bdc0_diff_gc_list_f2,\n",
    "    BDC0_R=bdc0_diff_gc_list_f2,\n",
    "    BDC1_L=bdc1_diff_gc_list_f2,\n",
    "    BDC1_R=bdc1_diff_gc_list_f2,\n",
    "    BDC2_L=bdc2_diff_gc_list_f2,\n",
    "    BDC2_R=bdc2_diff_gc_list_f2,\n",
    "    SHOWFLIERS = True,\n",
    "    TITLE='GC content differences for digest associated bait pairs (f2)',\n",
    "    XLABEL_L='GC content difference for 5\\' and 3\\' bait',\n",
    "    XLABEL_R='GC content difference for 5\\' and 3\\' bait',\n",
    "    OUTPUT_PDF=NOTEBOOK_RESULTS_DIR + '/' + OUT_PREFIX  + '_gc_content_differences_for_digest_associated_bait_pairs_f2.pdf')"
   ]
  },
  {
   "cell_type": "code",
   "execution_count": 60,
   "id": "98bbf44f",
   "metadata": {},
   "outputs": [
    {
     "name": "stdout",
     "output_type": "stream",
     "text": [
      "WilcoxonResult(statistic=180348.5, pvalue=0.18031017651506742)\n",
      "WilcoxonResult(statistic=10842.0, pvalue=0.976126532967329)\n",
      "WilcoxonResult(statistic=40515.5, pvalue=0.9361132202576986)\n"
     ]
    }
   ],
   "source": [
    "# Perform Wilcoxon signed-rank test\n",
    "print(stats.wilcoxon(bdc0_diff_gc_list_f2))\n",
    "print(stats.wilcoxon(bdc1_diff_gc_list_f2))\n",
    "print(stats.wilcoxon(bdc2_diff_gc_list_f2))"
   ]
  },
  {
   "cell_type": "code",
   "execution_count": 61,
   "id": "7fa9587e",
   "metadata": {
    "scrolled": true
   },
   "outputs": [
    {
     "name": "stdout",
     "output_type": "stream",
     "text": [
      "RanksumsResult(statistic=0.5992516640201206, pvalue=0.5490050753546061)\n",
      "RanksumsResult(statistic=0.6362757793307348, pvalue=0.524596688753221)\n",
      "RanksumsResult(statistic=-0.035199178231717955, pvalue=0.9719209175026491)\n"
     ]
    }
   ],
   "source": [
    "# Perform Wilcoxon rank_sum test on differences\n",
    "print(stats.ranksums(bdc0_diff_gc_list_f2, bdc1_diff_gc_list_f2))\n",
    "print(stats.ranksums(bdc0_diff_gc_list_f2, bdc2_diff_gc_list_f2))\n",
    "print(stats.ranksums(bdc1_diff_gc_list_f2, bdc2_diff_gc_list_f2))"
   ]
  },
  {
   "cell_type": "markdown",
   "id": "ac60e1c9",
   "metadata": {},
   "source": [
    "**No significant deviations from zero!**"
   ]
  },
  {
   "cell_type": "markdown",
   "id": "954dfcbd",
   "metadata": {},
   "source": [
    "Run the repeat content analysis again using the filtered data."
   ]
  },
  {
   "cell_type": "code",
   "execution_count": 62,
   "id": "098d84e2",
   "metadata": {
    "scrolled": true
   },
   "outputs": [
    {
     "data": {
      "image/png": "[encoded data removed]",
      "text/plain": [
       "<Figure size 864x216 with 2 Axes>"
      ]
     },
     "metadata": {},
     "output_type": "display_data"
    }
   ],
   "source": [
    "create_boxplot(\n",
    "    BDC0_L=bdc0_l_repeat_list_f2,\n",
    "    BDC0_R=bdc0_r_repeat_list_f2,\n",
    "    BDC1_L=bdc1_l_repeat_list_f2,\n",
    "    BDC1_R=bdc1_r_repeat_list_f2,\n",
    "    BDC2_L=bdc2_l_repeat_list_f2,\n",
    "    BDC2_R=bdc2_r_repeat_list_f2,\n",
    "    SHOWFLIERS = True,\n",
    "    TITLE='Repeat content of baits (f2)',\n",
    "    XLABEL_L='Repeat content of 5\\' bait',\n",
    "    XLABEL_R='Repeat content of 3\\' bait',\n",
    "    OUTPUT_PDF=NOTEBOOK_RESULTS_DIR + '/' + OUT_PREFIX  + '_repeat_content_of_baits_f2.pdf')"
   ]
  },
  {
   "cell_type": "code",
   "execution_count": 63,
   "id": "70254323",
   "metadata": {},
   "outputs": [],
   "source": [
    "# Get lists with differences for repeat content (x)\n",
    "bdc0_diff_repeat_list_f2 = [x[0]-x[1] for x in zip(bdc0_l_repeat_list_f2, bdc0_r_repeat_list_f2)]\n",
    "bdc1_diff_repeat_list_f2 = [x[0]-x[1] for x in zip(bdc1_l_repeat_list_f2, bdc1_r_repeat_list_f2)]\n",
    "bdc2_diff_repeat_list_f2 = [x[0]-x[1] for x in zip(bdc2_l_repeat_list_f2, bdc2_r_repeat_list_f2)]"
   ]
  },
  {
   "cell_type": "code",
   "execution_count": 64,
   "id": "a82475c7",
   "metadata": {
    "scrolled": true
   },
   "outputs": [
    {
     "data": {
      "image/png": "[encoded data removed]",
      "text/plain": [
       "<Figure size 864x216 with 2 Axes>"
      ]
     },
     "metadata": {},
     "output_type": "display_data"
    }
   ],
   "source": [
    "create_boxplot(\n",
    "    BDC0_L=bdc0_diff_repeat_list_f2,\n",
    "    BDC0_R=bdc0_diff_repeat_list_f2,\n",
    "    BDC1_L=bdc1_diff_repeat_list_f2,\n",
    "    BDC1_R=bdc1_diff_repeat_list_f2,\n",
    "    BDC2_L=bdc2_diff_repeat_list_f2,\n",
    "    BDC2_R=bdc2_diff_repeat_list_f2,\n",
    "    SHOWFLIERS = True,\n",
    "    TITLE='Repeat content differences for digest associated bait pairs (f2)',\n",
    "    XLABEL_L='Repeat content difference for 5\\' and 3\\' bait',\n",
    "    XLABEL_R='Repeat content difference for 5\\' and 3\\' bait',\n",
    "    OUTPUT_PDF=NOTEBOOK_RESULTS_DIR + '/' + OUT_PREFIX  + '_repeat_content_differences_for_digest_associated_bait_pairs_f2.pdf')"
   ]
  },
  {
   "cell_type": "code",
   "execution_count": 65,
   "id": "69488f22",
   "metadata": {},
   "outputs": [
    {
     "name": "stdout",
     "output_type": "stream",
     "text": [
      "WilcoxonResult(statistic=192674.0, pvalue=0.4327228212976092)\n",
      "WilcoxonResult(statistic=10842.5, pvalue=0.7009182930933134)\n",
      "WilcoxonResult(statistic=41505.5, pvalue=0.9971378605210366)\n"
     ]
    }
   ],
   "source": [
    "# Perform Wilcoxon signed-rank test\n",
    "print(stats.wilcoxon(bdc0_diff_repeat_list_f2))\n",
    "print(stats.wilcoxon(bdc1_diff_repeat_list_f2))\n",
    "print(stats.wilcoxon(bdc2_diff_repeat_list_f2))"
   ]
  },
  {
   "cell_type": "code",
   "execution_count": 66,
   "id": "1b34dec3",
   "metadata": {},
   "outputs": [
    {
     "name": "stdout",
     "output_type": "stream",
     "text": [
      "RanksumsResult(statistic=-0.6833853138653327, pvalue=0.49436339760251546)\n",
      "RanksumsResult(statistic=-0.45604874834199294, pvalue=0.6483549238302321)\n",
      "RanksumsResult(statistic=0.2586571871350113, pvalue=0.795899755301414)\n"
     ]
    }
   ],
   "source": [
    "# Perform Wilcoxon rank_sum test on differences\n",
    "print(stats.ranksums(bdc0_diff_repeat_list_f2, bdc1_diff_repeat_list_f2))\n",
    "print(stats.ranksums(bdc0_diff_repeat_list_f2, bdc2_diff_repeat_list_f2))\n",
    "print(stats.ranksums(bdc1_diff_repeat_list_f2, bdc2_diff_repeat_list_f2))"
   ]
  },
  {
   "cell_type": "markdown",
   "id": "cc29bfc1",
   "metadata": {},
   "source": [
    "**No significant deviations from zero!**"
   ]
  },
  {
   "cell_type": "markdown",
   "id": "9ee839fa",
   "metadata": {},
   "source": [
    "### Write files for accessibility and self-dimarization analysis"
   ]
  },
  {
   "cell_type": "markdown",
   "id": "bb8667fd",
   "metadata": {},
   "source": [
    "We restrict the analysis to baited digests with two well placed baits. We write three files each for BDC0, BDC1 and BDC2:\n",
    "1. BED file with baited digest coordinates\n",
    "2. FASTA file with corresponding coordinates and sequence of the 5' bait\n",
    "2. FASTA file with corresponding coordinates and sequence of the 3' bait\n",
    "\n",
    "For now, we are not filtering out digests with high GC baits because we don't know if there is a correlation between GC content and accessibility or GC content and self-dimerization."
   ]
  },
  {
   "cell_type": "code",
   "execution_count": 65,
   "id": "8474553a",
   "metadata": {
    "scrolled": true
   },
   "outputs": [
    {
     "name": "stdout",
     "output_type": "stream",
     "text": [
      "BDC0: 2937\n",
      "BDC1: 1095\n",
      "BDC2: 1739\n"
     ]
    }
   ],
   "source": [
    "fh_bed = open(NOTEBOOK_RESULTS_DIR + '/' + OUT_PREFIX + '_bdc0.bed', 'wt')\n",
    "fh_bed.write(\"track name=\\\"\" + OUT_PREFIX + \"_bdc0\\\" description=\\\"\" + OUT_PREFIX + \"- BDC0\\\" itemRgb=\\\"On\\\"\" + '\\n')\n",
    "fh_fa_l = open(NOTEBOOK_RESULTS_DIR + '/' + OUT_PREFIX + '_bdc0_l.fa', 'wt')\n",
    "fh_fa_r = open(NOTEBOOK_RESULTS_DIR + '/' + OUT_PREFIX + '_bdc0_r.fa', 'wt')\n",
    "cnt = 0\n",
    "for interval in BAITED_DIGEST_FILE:\n",
    "    bd_key = interval.chrom + '\\t' + str(interval.start) + '\\t' + str(interval.end)\n",
    "    if bd_key in bdc0_well_placed_dict:\n",
    "        \n",
    "        # Write digest coordinates to BED file\n",
    "        fh_bed.write(str(interval).rstrip() + '\\n')\n",
    "        \n",
    "        # Write bait coordinates and sequence of the _LEFT_ bait to FASTA file\n",
    "        l_bait_key = bdc0_well_placed_dict[bd_key]['L_COORDS'][0]\n",
    "        l_bait_seq = BAIT_SEQ_dict[l_bait_key]\n",
    "        chrom, sta, end = l_bait_key.split('\\t')\n",
    "        fa_header = '>' + chrom + ':' + sta + '-' + end\n",
    "        fh_fa_l.write(fa_header + '\\n')\n",
    "        fh_fa_l.write(l_bait_seq + '\\n')\n",
    "        \n",
    "        # Write bait coordinates and sequence of the _RIGHT_ bait to FASTA file\n",
    "        r_bait_key = bdc0_well_placed_dict[bd_key]['R_COORDS'][0]\n",
    "        r_bait_seq = BAIT_SEQ_dict[r_bait_key]\n",
    "        chrom, sta, end = r_bait_key.split('\\t')\n",
    "        fa_header = '>' + chrom + ':' + sta + '-' + end\n",
    "        fh_fa_r.write(fa_header + '\\n')\n",
    "        fh_fa_r.write(r_bait_seq + '\\n')\n",
    "        \n",
    "        cnt += 1\n",
    "print(\"BDC0: \" + str(cnt))\n",
    "fh_bed.close()\n",
    "fh_fa_l.close()\n",
    "fh_fa_r.close()\n",
    "\n",
    "fh_bed = open(NOTEBOOK_RESULTS_DIR + '/' + OUT_PREFIX + '_bdc1.bed', 'wt')\n",
    "fh_bed.write(\"track name=\\\"\" + OUT_PREFIX + \"_bdc1\\\" description=\\\"\" + OUT_PREFIX + \"- BDC1\\\" itemRgb=\\\"On\\\"\" + '\\n')\n",
    "fh_fa_l = open(NOTEBOOK_RESULTS_DIR + '/' + OUT_PREFIX + '_bdc1_l.fa', 'wt')\n",
    "fh_fa_r = open(NOTEBOOK_RESULTS_DIR + '/' + OUT_PREFIX + '_bdc1_r.fa', 'wt')\n",
    "cnt = 0\n",
    "for interval in BDC1_DIGEST_FILE:\n",
    "    bd_key = interval.chrom + '\\t' + str(interval.start) + '\\t' + str(interval.end)\n",
    "    if bd_key in bdc1_well_placed_dict:\n",
    "        \n",
    "        # Write digest coordinates to BED file\n",
    "        fh_bed.write(str(interval).rstrip() + '\\n')\n",
    "        \n",
    "        # Write bait coordinates and sequence of the _LEFT_ bait to FASTA file\n",
    "        l_bait_key = bdc1_well_placed_dict[bd_key]['L_COORDS'][0]\n",
    "        l_bait_seq = BAIT_SEQ_dict[l_bait_key]\n",
    "        chrom, sta, end = l_bait_key.split('\\t')\n",
    "        fa_header = '>' + chrom + ':' + sta + '-' + end\n",
    "        fh_fa_l.write(fa_header + '\\n')\n",
    "        fh_fa_l.write(l_bait_seq + '\\n')\n",
    "        \n",
    "        # Write bait coordinates and sequence of the _RIGHT_ bait to FASTA file\n",
    "        r_bait_key = bdc1_well_placed_dict[bd_key]['R_COORDS'][0]\n",
    "        r_bait_seq = BAIT_SEQ_dict[r_bait_key]\n",
    "        chrom, sta, end = r_bait_key.split('\\t')\n",
    "        fa_header = '>' + chrom + ':' + sta + '-' + end\n",
    "        fh_fa_r.write(fa_header + '\\n')\n",
    "        fh_fa_r.write(r_bait_seq + '\\n')\n",
    "        \n",
    "        cnt += 1\n",
    "print(\"BDC1: \" + str(cnt))\n",
    "fh_bed.close()\n",
    "fh_fa_l.close()\n",
    "fh_fa_r.close()\n",
    "\n",
    "fh_bed = open(NOTEBOOK_RESULTS_DIR + '/' + OUT_PREFIX + '_bdc2.bed', 'wt')\n",
    "fh_bed.write(\"track name=\\\"\" + OUT_PREFIX + \"_bdc2\\\" description=\\\"\" + OUT_PREFIX + \"- BDC2\\\" itemRgb=\\\"On\\\"\" + '\\n')\n",
    "fh_fa_l = open(NOTEBOOK_RESULTS_DIR + '/' + OUT_PREFIX + '_bdc2_l.fa', 'wt')\n",
    "fh_fa_r = open(NOTEBOOK_RESULTS_DIR + '/' + OUT_PREFIX + '_bdc2_r.fa', 'wt')\n",
    "cnt = 0\n",
    "for interval in BDC2_DIGEST_FILE:\n",
    "    bd_key = interval.chrom + '\\t' + str(interval.start) + '\\t' + str(interval.end)\n",
    "    if bd_key in bdc2_well_placed_dict:\n",
    "        \n",
    "        # Write digest coordinates to BED file\n",
    "        fh_bed.write(str(interval).rstrip() + '\\n')\n",
    "        \n",
    "        # Write bait coordinates and sequence of the _LEFT_ bait to FASTA file\n",
    "        l_bait_key = bdc2_well_placed_dict[bd_key]['L_COORDS'][0]\n",
    "        l_bait_seq = BAIT_SEQ_dict[l_bait_key]\n",
    "        chrom, sta, end = l_bait_key.split('\\t')\n",
    "        fa_header = '>' + chrom + ':' + sta + '-' + end\n",
    "        fh_fa_l.write(fa_header + '\\n')\n",
    "        fh_fa_l.write(l_bait_seq + '\\n')\n",
    "        \n",
    "        # Write bait coordinates and sequence of the _RIGHT_ bait to FASTA file\n",
    "        r_bait_key = bdc2_well_placed_dict[bd_key]['R_COORDS'][0]\n",
    "        r_bait_seq = BAIT_SEQ_dict[r_bait_key]\n",
    "        chrom, sta, end = r_bait_key.split('\\t')\n",
    "        fa_header = '>' + chrom + ':' + sta + '-' + end\n",
    "        fh_fa_r.write(fa_header + '\\n')\n",
    "        fh_fa_r.write(r_bait_seq + '\\n')\n",
    "        \n",
    "        cnt += 1\n",
    "print(\"BDC2: \" + str(cnt))\n",
    "fh_bed.close()\n",
    "fh_fa_l.close()\n",
    "fh_fa_r.close()"
   ]
  },
  {
   "cell_type": "markdown",
   "id": "aa93edbb",
   "metadata": {},
   "source": [
    "## Average read pair counts for BDC0, BDC1 and BDC2"
   ]
  },
  {
   "cell_type": "code",
   "execution_count": 67,
   "id": "1137341c",
   "metadata": {},
   "outputs": [],
   "source": [
    "import sys\n",
    "sys.path.append(\"..\")\n",
    "from diachr import DiachromaticInteractionSet\n",
    "from diachr import BaitedDigest\n",
    "from diachr import BaitedDigestSet"
   ]
  },
  {
   "cell_type": "code",
   "execution_count": 68,
   "id": "fe121588",
   "metadata": {},
   "outputs": [],
   "source": [
    "CELL_TYPE_SHORT = 'MAC_M0'\n",
    "PROTOCOL = 'CHC'\n",
    "MIN_I_DIST = '20000'\n",
    "if PROTOCOL == 'CHC':\n",
    "    MIN_I_DIST = '20000'\n",
    "RPC_RULE = 'ht'\n",
    "FDR = '05'\n",
    "if PROTOCOL == 'CHC':\n",
    "    INTERACTION_FILE = '../DICer_interactions/' + RPC_RULE.upper() + '/FDR0' + FDR + '/CHC/JAV_' + CELL_TYPE_SHORT + '_RALT_20000_' + RPC_RULE + '_fdr0.' + FDR + '_evaluated_and_categorized_interactions.tsv.gz'\n",
    "    OUT_PREFIX = 'JAV_' + CELL_TYPE_SHORT + '_CHC_RALT_' + MIN_I_DIST + '_' + RPC_RULE.lower()\n",
    "if PROTOCOL == 'HC_POOLED':\n",
    "    INTERACTION_FILE = '../DICer_interactions/HT/FDR005/HC/20000/JAV_ALL_HC_RALL_ALT_20000_ht_fdr0.05_evaluated_and_categorized_interactions.tsv.gz'\n",
    "    OUT_PREFIX = 'JAV_' + 'POOLED_HC_FDR005' + '_HC_RALT_20000_' + RPC_RULE.lower()\n",
    "if PROTOCOL == 'HC':\n",
    "    INTERACTION_FILE = '../DICer_interactions/' + RPC_RULE.upper() + '/FDR0' + FDR + '/HC/' + MIN_I_DIST + '/JAV_' + CELL_TYPE_SHORT + '_HC_RALT_' + MIN_I_DIST + '_' + RPC_RULE + '_fdr0.' + FDR + '_evaluated_and_categorized_interactions.tsv.gz'\n",
    "    OUT_PREFIX = 'JAV_' + CELL_TYPE_SHORT + '_HC_RALT_'  + MIN_I_DIST + '_' + RPC_RULE.lower()"
   ]
  },
  {
   "cell_type": "code",
   "execution_count": 69,
   "id": "2122e75e",
   "metadata": {},
   "outputs": [
    {
     "name": "stdout",
     "output_type": "stream",
     "text": [
      "[INFO] Parsing Diachromatic interaction file ...\n",
      "\t[INFO] ../DICer_interactions/HT/FDR005/CHC/JAV_MAC_M0_RALT_20000_ht_fdr0.05_evaluated_and_categorized_interactions.tsv.gz\n",
      "\t[INFO] Parsed 1,000,000 interaction lines ...\n",
      "\t[INFO] Parsed 2,000,000 interaction lines ...\n",
      "\t[INFO] Parsed 3,000,000 interaction lines ...\n",
      "\t[INFO] Parsed 4,000,000 interaction lines ...\n",
      "\t[INFO] Parsed 5,000,000 interaction lines ...\n",
      "\t[INFO] Parsed 6,000,000 interaction lines ...\n",
      "\t[INFO] Parsed 7,000,000 interaction lines ...\n",
      "\t[INFO] Parsed 8,000,000 interaction lines ...\n",
      "\t[INFO] Parsed 9,000,000 interaction lines ...\n",
      "\t[INFO] Set size: 9,648,210\n",
      "[INFO] ... done.\n",
      "[INFO] Reading interactions and group them according to chromosomes and baited digests ...\n",
      "\t[INFO] Read 1,000,000 interactions ...\n",
      "\t[INFO] Read 2,000,000 interactions ...\n",
      "\t[INFO] Read 3,000,000 interactions ...\n",
      "\t[INFO] Read 4,000,000 interactions ...\n",
      "\t[INFO] Read 5,000,000 interactions ...\n",
      "\t[INFO] Read 6,000,000 interactions ...\n",
      "\t[INFO] Read 7,000,000 interactions ...\n",
      "\t[INFO] Read 8,000,000 interactions ...\n",
      "\t[INFO] Read 9,000,000 interactions ...\n",
      "\t[INFO] Total number of interactions read: 9,648,210\n",
      "\t[INFO] Total number of baited digests: 21,887\n",
      "[INFO] ... done.\n",
      "[INFO] Report on ingestion of interactions:\n",
      "\t[INFO] Total number of interactions read: 9,648,210\n",
      "\t[INFO] Discarded NN and EE interactions: 1,401,816\n",
      "\t[INFO] Total number of ingested NE and EN interactions: 8,246,394\n",
      "\t[INFO] Broken down by interaction category and enrichment status: \n",
      "\t\t[INFO] DIX: \n",
      "\t\t\t[INFO] NE: 556,116\n",
      "\t\t\t[INFO] EN: 561,099\n",
      "\t\t[INFO] DI: \n",
      "\t\t\t[INFO] NE: 1,493,382\n",
      "\t\t\t[INFO] EN: 1,491,985\n",
      "\t\t[INFO] UIR: \n",
      "\t\t\t[INFO] NE: 1,501,032\n",
      "\t\t\t[INFO] EN: 1,484,335\n",
      "\t\t[INFO] UI: \n",
      "\t\t\t[INFO] NE: 583,737\n",
      "\t\t\t[INFO] EN: 574,708\n",
      "\t\t[INFO] ALL: \n",
      "\t\t\t[INFO] NE: 4,134,267\n",
      "\t\t\t[INFO] EN: 4,112,127\n",
      "\t[INFO] Total number of baited digests: 21,887\n",
      "[INFO] End of report.\n",
      "\n"
     ]
    }
   ],
   "source": [
    "# Create DiachromaticInteractionSet\n",
    "d11_interaction_set = DiachromaticInteractionSet(rpc_rule = 'ht')\n",
    "d11_interaction_set.parse_file(\n",
    "    i_file = INTERACTION_FILE,\n",
    "    verbose = True)\n",
    "# Create BaitedDigestSet\n",
    "baited_digest_set = BaitedDigestSet()\n",
    "read_interactions_info_dict = baited_digest_set.ingest_interaction_set(d11_interaction_set, verbose=True)\n",
    "print(baited_digest_set.get_ingest_interaction_set_info_report())"
   ]
  },
  {
   "cell_type": "code",
   "execution_count": 70,
   "id": "48c17f9b",
   "metadata": {},
   "outputs": [],
   "source": [
    "# Get dictionaries with interaction, total read pair and maximum read pair numbers per baited digest\n",
    "BD_NUM_dict = {'BD_KEY': {'IMUM': None, 'RPNUM': None, 'RPMAX': None, 'RPMAX2': None, 'DI_FRAC': None}}\n",
    "for chrom in baited_digest_set._baited_digest_dict.keys():\n",
    "    for bd_key, baited_digest in baited_digest_set._baited_digest_dict[chrom].items():\n",
    "        \n",
    "        # Get list of all NE and EN interactions at this bait\n",
    "        interactions = baited_digest.interactions['ALL']['NE'] + baited_digest.interactions['ALL']['EN']\n",
    "\n",
    "        # Get lists of numbers for all interactions\n",
    "        rp_num_list = []\n",
    "        rp_max_list = []\n",
    "        p_max2_list = []\n",
    "        for d_inter in interactions:\n",
    "            rp_num_list.append(d_inter.rp_total)\n",
    "            rp_max = max([d_inter._simple_1, d_inter._simple_2, d_inter._twisted_1, d_inter._twisted_2])\n",
    "            rp_max_list.append(rp_max)\n",
    "            rp_max2 = max([d_inter._twisted_1, d_inter._twisted_2])\n",
    "            p_max2_list.append(rp_max2)\n",
    "        di_num = len(baited_digest.interactions['DIX']['NE'] + baited_digest.interactions['DIX']['EN'] +\n",
    "                     baited_digest.interactions['DI']['NE'] + baited_digest.interactions['DI']['EN'])\n",
    "        di_frac = di_num/len(interactions)\n",
    "            \n",
    "        # Store numbers in dictionary          \n",
    "        BD_NUM_dict[bd_key] = dict()\n",
    "        BD_NUM_dict[bd_key]['INUM'] = len(interactions)\n",
    "        BD_NUM_dict[bd_key]['RPNUM'] = sum(rp_num_list)\n",
    "        BD_NUM_dict[bd_key]['RPMAX'] = sum(rp_max_list)\n",
    "        BD_NUM_dict[bd_key]['RPMAX2'] = sum(p_max2_list)\n",
    "        BD_NUM_dict[bd_key]['DI_FRAC'] = di_frac"
   ]
  },
  {
   "cell_type": "code",
   "execution_count": 71,
   "id": "e1f94628",
   "metadata": {},
   "outputs": [
    {
     "name": "stdout",
     "output_type": "stream",
     "text": [
      "No NE or EN interactions at 168 of 22,055 baited digests!\n"
     ]
    }
   ],
   "source": [
    "# Collect numbers for baited digests\n",
    "NUM_PER_BD_dict = {\n",
    "    'BDC0': {'INUM': [], 'RPNUM': [], 'RPMAX': [], 'RPMAX2': [], 'DI_FRAC': []},\n",
    "    'BDC1': {'INUM': [], 'RPNUM': [], 'RPMAX': [], 'RPMAX2': [], 'DI_FRAC': []},\n",
    "    'BDC2': {'INUM': [], 'RPNUM': [], 'RPMAX': [], 'RPMAX2': [], 'DI_FRAC': []},\n",
    "}\n",
    "bd_without_interactions = 0\n",
    "for bd_key in DIGESTS_WITH_BAITS_DICT.keys():\n",
    "    \n",
    "    # No NE or EN interaction at this baited digest\n",
    "    if bd_key not in BD_NUM_dict:\n",
    "        bd_without_interactions += 1\n",
    "        continue\n",
    "        \n",
    "    bdc_key = 'BDC' + str(DIGESTS_WITH_BAITS_DICT[bd_key]['BDC'])\n",
    "    NUM_PER_BD_dict[bdc_key]['INUM'].append(BD_NUM_dict[bd_key]['INUM'])\n",
    "    NUM_PER_BD_dict[bdc_key]['RPNUM'].append(BD_NUM_dict[bd_key]['RPNUM'])\n",
    "    NUM_PER_BD_dict[bdc_key]['RPMAX'].append(BD_NUM_dict[bd_key]['RPMAX']) \n",
    "    NUM_PER_BD_dict[bdc_key]['RPMAX2'].append(BD_NUM_dict[bd_key]['RPMAX2'])\n",
    "    NUM_PER_BD_dict[bdc_key]['DI_FRAC'].append(BD_NUM_dict[bd_key]['DI_FRAC'])\n",
    "\n",
    "print('No NE or EN interactions at ' + '{:,}'.format(bd_without_interactions) + ' of ' + '{:,}'.format(len(DIGESTS_WITH_BAITS_DICT)) + ' baited digests!')"
   ]
  },
  {
   "cell_type": "markdown",
   "id": "6645ad00",
   "metadata": {},
   "source": [
    "### Interaction counts per baited digest"
   ]
  },
  {
   "cell_type": "code",
   "execution_count": 72,
   "id": "eb538423",
   "metadata": {
    "scrolled": true
   },
   "outputs": [
    {
     "data": {
      "image/png": "[encoded data removed]",
      "text/plain": [
       "<Figure size 864x216 with 2 Axes>"
      ]
     },
     "metadata": {},
     "output_type": "display_data"
    }
   ],
   "source": [
    "create_boxplot(\n",
    "    BDC0_L=NUM_PER_BD_dict['BDC0']['INUM'],\n",
    "    BDC0_R=NUM_PER_BD_dict['BDC0']['INUM'],\n",
    "    BDC1_L=NUM_PER_BD_dict['BDC1']['INUM'],\n",
    "    BDC1_R=NUM_PER_BD_dict['BDC1']['INUM'],\n",
    "    BDC2_L=NUM_PER_BD_dict['BDC2']['INUM'],\n",
    "    BDC2_R=NUM_PER_BD_dict['BDC2']['INUM'],\n",
    "    SHOWFLIERS = False,\n",
    "    TITLE='Interaction counts per baited digest',\n",
    "    XLABEL_L='Interaction count per digest',\n",
    "    XLABEL_R='Interaction count per digest',\n",
    "    OUTPUT_PDF=NOTEBOOK_RESULTS_DIR + '/' + OUT_PREFIX  + '_interaction_numbers_per_baited_digest.pdf')"
   ]
  },
  {
   "cell_type": "code",
   "execution_count": 73,
   "id": "e3072a0e",
   "metadata": {},
   "outputs": [
    {
     "name": "stdout",
     "output_type": "stream",
     "text": [
      "RanksumsResult(statistic=13.276140772926194, pvalue=3.183851724420754e-40)\n",
      "RanksumsResult(statistic=6.732493504474321, pvalue=1.6677983538491603e-11)\n",
      "RanksumsResult(statistic=-8.306072361759966, pvalue=9.892192200635429e-17)\n",
      "RanksumsResult(statistic=11.232334036668258, pvalue=2.829049913220669e-29)\n"
     ]
    }
   ],
   "source": [
    "# Perform Wilcoxon rank-sum test on differences\n",
    "print(stats.ranksums(NUM_PER_BD_dict['BDC0']['INUM'], NUM_PER_BD_dict['BDC1']['INUM']))\n",
    "print(stats.ranksums(NUM_PER_BD_dict['BDC0']['INUM'], NUM_PER_BD_dict['BDC2']['INUM']))\n",
    "print(stats.ranksums(NUM_PER_BD_dict['BDC1']['INUM'], NUM_PER_BD_dict['BDC2']['INUM']))\n",
    "print(stats.ranksums(NUM_PER_BD_dict['BDC0']['INUM'], NUM_PER_BD_dict['BDC1']['INUM'] + NUM_PER_BD_dict['BDC2']['INUM']))"
   ]
  },
  {
   "cell_type": "markdown",
   "id": "6da2714e",
   "metadata": {},
   "source": [
    "Since we are not dealing with contnious variables, we use the Mann-Whitney U test. The rank-sum test does not handle ties between measurments."
   ]
  },
  {
   "cell_type": "code",
   "execution_count": 74,
   "id": "11e83fd2",
   "metadata": {},
   "outputs": [
    {
     "name": "stdout",
     "output_type": "stream",
     "text": [
      "MannwhitneyuResult(statistic=26782919.5, pvalue=3.1833469345180605e-40)\n",
      "MannwhitneyuResult(statistic=29770818.0, pvalue=1.6677454783119074e-11)\n",
      "MannwhitneyuResult(statistic=25714222.5, pvalue=9.891407252757781e-17)\n",
      "MannwhitneyuResult(statistic=56553737.5, pvalue=2.828721628528619e-29)\n"
     ]
    }
   ],
   "source": [
    "# Perform Wilcoxon rank-sum test on differences\n",
    "print(stats.mannwhitneyu(NUM_PER_BD_dict['BDC0']['INUM'], NUM_PER_BD_dict['BDC1']['INUM']))\n",
    "print(stats.mannwhitneyu(NUM_PER_BD_dict['BDC0']['INUM'], NUM_PER_BD_dict['BDC2']['INUM']))\n",
    "print(stats.mannwhitneyu(NUM_PER_BD_dict['BDC1']['INUM'], NUM_PER_BD_dict['BDC2']['INUM']))\n",
    "print(stats.mannwhitneyu(NUM_PER_BD_dict['BDC0']['INUM'], NUM_PER_BD_dict['BDC1']['INUM'] + NUM_PER_BD_dict['BDC2']['INUM']))"
   ]
  },
  {
   "cell_type": "markdown",
   "id": "e69c0177",
   "metadata": {},
   "source": [
    "### Read pair counts per baited digest"
   ]
  },
  {
   "cell_type": "code",
   "execution_count": 75,
   "id": "7fd601a9",
   "metadata": {},
   "outputs": [
    {
     "data": {
      "image/png": "[encoded data removed]",
      "text/plain": [
       "<Figure size 864x216 with 2 Axes>"
      ]
     },
     "metadata": {},
     "output_type": "display_data"
    }
   ],
   "source": [
    "create_boxplot(\n",
    "    BDC0_L=NUM_PER_BD_dict['BDC0']['RPNUM'],\n",
    "    BDC0_R=NUM_PER_BD_dict['BDC0']['RPNUM'],\n",
    "    BDC1_L=NUM_PER_BD_dict['BDC1']['RPNUM'],\n",
    "    BDC1_R=NUM_PER_BD_dict['BDC1']['RPNUM'],\n",
    "    BDC2_L=NUM_PER_BD_dict['BDC2']['RPNUM'],\n",
    "    BDC2_R=NUM_PER_BD_dict['BDC2']['RPNUM'],\n",
    "    SHOWFLIERS = False,\n",
    "    TITLE='Total read pair counts per baited digest',\n",
    "    XLABEL_L='Read pair count per digest',\n",
    "    XLABEL_R='Read pair count per digest',\n",
    "    OUTPUT_PDF=NOTEBOOK_RESULTS_DIR + '/' + OUT_PREFIX  + '_total_read_pair_count_per_baited_digest.pdf')"
   ]
  },
  {
   "cell_type": "code",
   "execution_count": 76,
   "id": "a0f6a675",
   "metadata": {},
   "outputs": [
    {
     "name": "stdout",
     "output_type": "stream",
     "text": [
      "RanksumsResult(statistic=18.99939332120304, pvalue=1.725271484641474e-80)\n",
      "RanksumsResult(statistic=11.550377331756225, pvalue=7.349704271970546e-31)\n",
      "RanksumsResult(statistic=-9.75013485308899, pvalue=1.8422338904861167e-22)\n",
      "RanksumsResult(statistic=17.242130626807114, pvalue=1.2822274825202178e-66)\n"
     ]
    }
   ],
   "source": [
    "# Perform Wilcoxon rank_sum test\n",
    "print(stats.ranksums(NUM_PER_BD_dict['BDC0']['RPNUM'], NUM_PER_BD_dict['BDC1']['RPNUM']))\n",
    "print(stats.ranksums(NUM_PER_BD_dict['BDC0']['RPNUM'], NUM_PER_BD_dict['BDC2']['RPNUM']))\n",
    "print(stats.ranksums(NUM_PER_BD_dict['BDC1']['RPNUM'], NUM_PER_BD_dict['BDC2']['RPNUM']))\n",
    "print(stats.ranksums(NUM_PER_BD_dict['BDC0']['RPNUM'], NUM_PER_BD_dict['BDC1']['RPNUM'] + NUM_PER_BD_dict['BDC2']['RPNUM']))"
   ]
  },
  {
   "cell_type": "code",
   "execution_count": 77,
   "id": "adaf6b8a",
   "metadata": {
    "scrolled": true
   },
   "outputs": [
    {
     "name": "stdout",
     "output_type": "stream",
     "text": [
      "MannwhitneyuResult(statistic=28117206.5, pvalue=1.725331097038461e-80)\n",
      "MannwhitneyuResult(statistic=31045897.5, pvalue=7.349852018291239e-31)\n",
      "MannwhitneyuResult(statistic=25332852.5, pvalue=1.8422671579323178e-22)\n",
      "MannwhitneyuResult(statistic=59163104.0, pvalue=1.2822504429173596e-66)\n"
     ]
    }
   ],
   "source": [
    "# Perform Wilcoxon rank-sum test on differences\n",
    "print(stats.mannwhitneyu(NUM_PER_BD_dict['BDC0']['RPNUM'], NUM_PER_BD_dict['BDC1']['RPNUM']))\n",
    "print(stats.mannwhitneyu(NUM_PER_BD_dict['BDC0']['RPNUM'], NUM_PER_BD_dict['BDC2']['RPNUM']))\n",
    "print(stats.mannwhitneyu(NUM_PER_BD_dict['BDC1']['RPNUM'], NUM_PER_BD_dict['BDC2']['RPNUM']))\n",
    "print(stats.mannwhitneyu(NUM_PER_BD_dict['BDC0']['RPNUM'], NUM_PER_BD_dict['BDC1']['RPNUM'] + NUM_PER_BD_dict['BDC2']['RPNUM']))"
   ]
  },
  {
   "cell_type": "markdown",
   "id": "23ed801d",
   "metadata": {},
   "source": [
    "### Maximum read pair counts per baited digest (`RPMAX`)"
   ]
  },
  {
   "cell_type": "code",
   "execution_count": 78,
   "id": "56c7de07",
   "metadata": {},
   "outputs": [
    {
     "data": {
      "image/png": "[encoded data removed]",
      "text/plain": [
       "<Figure size 864x216 with 2 Axes>"
      ]
     },
     "metadata": {},
     "output_type": "display_data"
    }
   ],
   "source": [
    "create_boxplot(\n",
    "    BDC0_L=NUM_PER_BD_dict['BDC0']['RPMAX'],\n",
    "    BDC0_R=NUM_PER_BD_dict['BDC0']['RPMAX'],\n",
    "    BDC1_L=NUM_PER_BD_dict['BDC1']['RPMAX'],\n",
    "    BDC1_R=NUM_PER_BD_dict['BDC1']['RPMAX'],\n",
    "    BDC2_L=NUM_PER_BD_dict['BDC2']['RPMAX'],\n",
    "    BDC2_R=NUM_PER_BD_dict['BDC2']['RPMAX'],\n",
    "    SHOWFLIERS = False,\n",
    "    TITLE='Maximum read pair count per baited digest (RPMAX)',\n",
    "    XLABEL_L='Maximum read pair count per digest',\n",
    "    XLABEL_R='Maximum read pair count per digest',\n",
    "    OUTPUT_PDF=NOTEBOOK_RESULTS_DIR + '/' + OUT_PREFIX  + '_maximum_read_pair_count_per_baited_digest_rpmax.pdf')"
   ]
  },
  {
   "cell_type": "code",
   "execution_count": 79,
   "id": "86afc9de",
   "metadata": {
    "scrolled": true
   },
   "outputs": [
    {
     "name": "stdout",
     "output_type": "stream",
     "text": [
      "RanksumsResult(statistic=0.1657713379754545, pvalue=0.8683369029832778)\n",
      "RanksumsResult(statistic=-8.909030470003737, pvalue=5.148076343536456e-19)\n",
      "RanksumsResult(statistic=-9.927182738183037, pvalue=3.170878401848696e-23)\n",
      "RanksumsResult(statistic=-5.341442846962456, pvalue=9.220968870534215e-08)\n"
     ]
    }
   ],
   "source": [
    "# Perform Wilcoxon rank_sum test\n",
    "print(stats.ranksums(NUM_PER_BD_dict['BDC0']['RPMAX'], NUM_PER_BD_dict['BDC1']['RPMAX']))\n",
    "print(stats.ranksums(NUM_PER_BD_dict['BDC0']['RPMAX'], NUM_PER_BD_dict['BDC2']['RPMAX']))\n",
    "print(stats.ranksums(NUM_PER_BD_dict['BDC1']['RPMAX'], NUM_PER_BD_dict['BDC2']['RPMAX']))\n",
    "print(stats.ranksums(NUM_PER_BD_dict['BDC0']['RPMAX'], NUM_PER_BD_dict['BDC1']['RPMAX'] + NUM_PER_BD_dict['BDC2']['RPMAX']))"
   ]
  },
  {
   "cell_type": "markdown",
   "id": "d99ff7f1",
   "metadata": {},
   "source": [
    "### Maximum read pair counts of type `2` and `3` per baited digest (`RPMAX2`)"
   ]
  },
  {
   "cell_type": "code",
   "execution_count": 80,
   "id": "4bea2461",
   "metadata": {},
   "outputs": [
    {
     "data": {
      "image/png": "[encoded data removed]",
      "text/plain": [
       "<Figure size 864x216 with 2 Axes>"
      ]
     },
     "metadata": {},
     "output_type": "display_data"
    }
   ],
   "source": [
    "create_boxplot(\n",
    "    BDC0_L=NUM_PER_BD_dict['BDC0']['RPMAX2'],\n",
    "    BDC0_R=NUM_PER_BD_dict['BDC0']['RPMAX2'],\n",
    "    BDC1_L=NUM_PER_BD_dict['BDC1']['RPMAX2'],\n",
    "    BDC1_R=NUM_PER_BD_dict['BDC1']['RPMAX2'],\n",
    "    BDC2_L=NUM_PER_BD_dict['BDC2']['RPMAX2'],\n",
    "    BDC2_R=NUM_PER_BD_dict['BDC2']['RPMAX2'],\n",
    "    SHOWFLIERS = False,\n",
    "    TITLE='Normalized read pair counts per baited digest (RPMAX2)',\n",
    "    XLABEL_L='Normalized read pair counts per digest',\n",
    "    XLABEL_R='Normalized read pair counts per digest',\n",
    "    OUTPUT_PDF=NOTEBOOK_RESULTS_DIR + '/' + OUT_PREFIX  + '_normalized_read_pair_count_per_baited_digest_rpmax2.pdf')"
   ]
  },
  {
   "cell_type": "code",
   "execution_count": 81,
   "id": "4976799a",
   "metadata": {},
   "outputs": [
    {
     "name": "stdout",
     "output_type": "stream",
     "text": [
      "RanksumsResult(statistic=4.2688274937827275, pvalue=1.9650316096899923e-05)\n",
      "RanksumsResult(statistic=-3.839729243270652, pvalue=0.00012317007252934684)\n",
      "RanksumsResult(statistic=-9.204397976416644, pvalue=3.4359180553681015e-20)\n",
      "RanksumsResult(statistic=-0.04835490890603726, pvalue=0.9614333947183588)\n"
     ]
    }
   ],
   "source": [
    "# Perform Wilcoxon rank_sum test\n",
    "print(stats.ranksums(NUM_PER_BD_dict['BDC0']['RPMAX2'], NUM_PER_BD_dict['BDC1']['RPMAX2']))\n",
    "print(stats.ranksums(NUM_PER_BD_dict['BDC0']['RPMAX2'], NUM_PER_BD_dict['BDC2']['RPMAX2']))\n",
    "print(stats.ranksums(NUM_PER_BD_dict['BDC1']['RPMAX2'], NUM_PER_BD_dict['BDC2']['RPMAX2']))\n",
    "print(stats.ranksums(NUM_PER_BD_dict['BDC0']['RPMAX2'], NUM_PER_BD_dict['BDC1']['RPMAX2'] + NUM_PER_BD_dict['BDC2']['RPMAX2']))"
   ]
  },
  {
   "cell_type": "markdown",
   "id": "f8490d61",
   "metadata": {},
   "source": [
    "### Percentage of unbalanced interactions associated with baited digests of BCD0, BDC1 and BDC2 (`DI_FRAC`)"
   ]
  },
  {
   "cell_type": "code",
   "execution_count": 84,
   "id": "5e86a7ee",
   "metadata": {},
   "outputs": [
    {
     "data": {
      "image/png": "[encoded data removed]",
      "text/plain": [
       "<Figure size 864x216 with 2 Axes>"
      ]
     },
     "metadata": {},
     "output_type": "display_data"
    }
   ],
   "source": [
    "create_boxplot(\n",
    "    BDC0_L=NUM_PER_BD_dict['BDC0']['DI_FRAC'],\n",
    "    BDC0_R=NUM_PER_BD_dict['BDC0']['DI_FRAC'],\n",
    "    BDC1_L=NUM_PER_BD_dict['BDC1']['DI_FRAC'],\n",
    "    BDC1_R=NUM_PER_BD_dict['BDC1']['DI_FRAC'],\n",
    "    BDC2_L=NUM_PER_BD_dict['BDC2']['DI_FRAC'],\n",
    "    BDC2_R=NUM_PER_BD_dict['BDC2']['DI_FRAC'],\n",
    "    SHOWFLIERS = False,\n",
    "    TITLE='Percentage of unbalanced interactions per baited digest',\n",
    "    XLABEL_L='Percentage of unbalanced interactions',\n",
    "    XLABEL_R='Percentage of unbalanced interactions',\n",
    "    OUTPUT_PDF=NOTEBOOK_RESULTS_DIR + '/' + OUT_PREFIX  + '_percentage_of_unbalanced_interactions_di_frac.pdf')"
   ]
  },
  {
   "cell_type": "code",
   "execution_count": 83,
   "id": "4852097b",
   "metadata": {},
   "outputs": [
    {
     "name": "stdout",
     "output_type": "stream",
     "text": [
      "RanksumsResult(statistic=-83.65827486056284, pvalue=0.0)\n",
      "RanksumsResult(statistic=-85.70731070530005, pvalue=0.0)\n",
      "RanksumsResult(statistic=4.9397959743013296, pvalue=7.820435506203399e-07)\n",
      "RanksumsResult(statistic=-97.16246536206405, pvalue=0.0)\n"
     ]
    }
   ],
   "source": [
    "# Perform Wilcoxon rank_sum test\n",
    "print(stats.ranksums(NUM_PER_BD_dict['BDC0']['DI_FRAC'], NUM_PER_BD_dict['BDC1']['DI_FRAC']))\n",
    "print(stats.ranksums(NUM_PER_BD_dict['BDC0']['DI_FRAC'], NUM_PER_BD_dict['BDC2']['DI_FRAC']))\n",
    "print(stats.ranksums(NUM_PER_BD_dict['BDC1']['DI_FRAC'], NUM_PER_BD_dict['BDC2']['DI_FRAC']))\n",
    "print(stats.ranksums(NUM_PER_BD_dict['BDC0']['DI_FRAC'], NUM_PER_BD_dict['BDC1']['DI_FRAC'] + NUM_PER_BD_dict['BDC2']['DI_FRAC']))"
   ]
  },
  {
   "cell_type": "code",
   "execution_count": 95,
   "id": "6a7ee2cf",
   "metadata": {},
   "outputs": [
    {
     "data": {
      "text/plain": [
       "'7.8204355'"
      ]
     },
     "execution_count": 95,
     "metadata": {},
     "output_type": "execute_result"
    }
   ],
   "source": [
    "\"{:.7f}\".format(7.820435506203399e-07*10**7)"
   ]
  }
 ],
 "metadata": {
  "kernelspec": {
   "display_name": "diachrscripts",
   "language": "python",
   "name": "diachrscripts"
  },
  "language_info": {
   "codemirror_mode": {
    "name": "ipython",
    "version": 3
   },
   "file_extension": ".py",
   "mimetype": "text/x-python",
   "name": "python",
   "nbconvert_exporter": "python",
   "pygments_lexer": "ipython3",
   "version": "3.7.11"
  }
 },
 "nbformat": 4,
 "nbformat_minor": 5
}
