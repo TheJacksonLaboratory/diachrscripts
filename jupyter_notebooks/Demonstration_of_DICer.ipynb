{
 "cells": [
  {
   "cell_type": "markdown",
   "metadata": {},
   "source": [
    "# DICer: Directed Interaction Caller\n",
    "\n",
    "We integrated all modules into a single script that evaluates, categorizes and selects directed and undirected reference interactions at a chosen FDR threshold. The script can be executed as follows:"
   ]
  },
  {
   "cell_type": "code",
   "execution_count": 1,
   "metadata": {},
   "outputs": [
    {
     "name": "stdout",
     "output_type": "stream",
     "text": [
      "[INFO] Input parameters\n",
      "\t[INFO] --out-prefix: DEMO_1\n",
      "\t[INFO] --description-tag: DEMO 1\n",
      "\t[INFO] --diachromatic-interaction-file:\n",
      "\t\t[INFO] ../tests/data/test_03/diachromatic_interaction_file_fdr_top_64000.tsv.gz\n",
      "\t[INFO] --min-inter-dist: 20,000\n",
      "\t[INFO] --p-value-threshold: None\n",
      "\t\t[INFO] Will determine a P-value threshold so that the FDR is kept below: 0.05\n",
      "\t\t[INFO] --fdr-threshold: 0.05000\n",
      "\t\t[INFO] --nominal-alpha-max: 0.02500\n",
      "\t\t[INFO] --nominal-alpha-step: 0.00001\n",
      "\t\t[INFO] --iter-num: 100\n",
      "\t\t[INFO] --random-seed: 0\n",
      "\t\t[INFO] --thread-num: 2\n",
      "\t\t[INFO] Use '--fdr-threshold' to set your own FDR threshold.\n",
      "\t\t[INFO] Or use '--p-value-threshold' to skip the FDR procedure.\n",
      "\n",
      "[INFO] Parsing Diachromatic interaction file ...\n",
      "\t[INFO] ../tests/data/test_03/diachromatic_interaction_file_fdr_top_64000.tsv.gz\n",
      "\t[INFO] Set size: 54,742\n",
      "[INFO] ... done.\n",
      "\n",
      "[INFO] Performing randomization analysis with 100 iterations ...\n",
      "\t[INFO] Determining number of significant interactions at each nominal alpha ...\n",
      "\t[INFO] Randomizing interactions ...\n",
      "\t\t[INFO] Created RP_INTER_DICT for 54,742 interactions ...\n",
      "\t\t[INFO] Performing 50 iterations ...\n",
      "\t\t\t[INFO] First iteration indices: 0, 1, 2, 3, 4, 5, 6, 7, 8, 9, ...\n",
      "\t\t[INFO] Performing 50 iterations ...\n",
      "\t\t\t[INFO] First iteration indices: 50, 51, 52, 53, 54, 55, 56, 57, 58, 59, ...\n",
      "\t[INFO] Combining results from all iterations for different nominal alphas ...\n",
      "[INFO] ... done.\n",
      "\n",
      "[INFO] Evaluate and categorize interactions ...\n",
      "[INFO] ... done.\n",
      "\n",
      "[INFO] Select reference interactions ...\n",
      "\t[INFO] First pass: Count directed interactions for different read pair counts ...\n",
      "\t[INFO] Second pass: Select undirected reference interactions for different read pair counts ...\n",
      "[INFO] ... done.\n",
      "\n",
      "[INFO] Writing Diachromatic interaction file ...\n",
      "\t[INFO] Required replicates: 1\n",
      "\t[INFO] Target file: DEMO_1_evaluated_and_categorized_interactions.tsv.gz\n",
      "[INFO] ... done.\n",
      "\n",
      "[INFO] Generated files:\n",
      "\t[INFO] DEMO_1_reports.txt\n",
      "\t[INFO] DEMO_1_randomization_plot.pdf\n",
      "\t[INFO] DEMO_1_randomization_table.txt\n",
      "\t[INFO] DEMO_1_randomization_histogram_at_threshold.pdf\n",
      "\t[INFO] DEMO_1_randomization_histogram_at_001.pdf\n",
      "\t[INFO] DEMO_1_randomization_histogram_at_005.pdf\n",
      "\t[INFO] DEMO_1_evaluated_and_categorized_interactions.tsv.gz\n",
      "\n",
      "\n"
     ]
    }
   ],
   "source": [
    "%run ../DICer.py \\\n",
    "--out-prefix DEMO_1 \\\n",
    "--description-tag \"DEMO 1\" \\\n",
    "--diachromatic-interaction-file ../tests/data/test_03/diachromatic_interaction_file_fdr_top_64000.tsv.gz \\\n",
    "--min-inter-dist 20000 \\\n",
    "--fdr-threshold 0.05 \\\n",
    "--nominal-alpha-max 0.02500 \\\n",
    "--nominal-alpha-step 0.00001 \\\n",
    "--iter-num 100 \\\n",
    "--random-seed 0 \\\n",
    "--thread-num 2"
   ]
  },
  {
   "cell_type": "markdown",
   "metadata": {},
   "source": [
    "## Command line arguments\n",
    "\n",
    "- ``--out-prefix <String>``  \n",
    "Common prefix for all generated files, which can also contain a path.\n",
    "- ``--description-tag <String>``  \n",
    "Short description that appears in generated tables and plots.\n",
    "- ``--diachromatic-interaction-file <String>``  \n",
    "Input file in Diachromatic interaction format.\n",
    "- ``--min-inter-dist <Integer>``  \n",
    "Minimal interaction distance\n",
    "- ``--fdr-threshold <Float>``  \n",
    "The P-value is chosen so that the estimated FDR remains below this threshold.\n",
    "- ``--nominal-alpha-max <Float>``  \n",
    "Maximum nominal alpha at which iteractions are classified as significant.\n",
    "- ``--nominal-alpha-step <Float>``  \n",
    "Step size for nominal alphas.\n",
    "- ``--iter-num <Integer>``  \n",
    "Number of randomizations that will be performed.\n",
    "- ``--random-seed <Integer>``  \n",
    "Random seed that is used for the first iteration. The random seed is incremented by ``1`` for each further iteration.\n",
    "- ``--thread-num <Integer>``  \n",
    "Number of processes in which the iterations are performed in batches of the same size.\n",
    "- ``--p-value-threshold <Float>``  \n",
    "By default, the final P-value threshold is determined via randomization. If a P-value is specified, then this P-value threshold will be used and no randomizations will be performed."
   ]
  },
  {
   "cell_type": "markdown",
   "metadata": {},
   "source": [
    "## Generated files\n",
    "\n",
    "DICer generates a total of seven files:\n",
    "\n",
    "- ``DEMO_1_reports.txt``\n",
    "- ``DEMO_1_randomization_plot.pdf``\n",
    "- ``DEMO_1_randomization_table.txt``\n",
    "- ``DEMO_1_randomization_histogram_at_threshold.pdf``\n",
    "- ``DEMO_1_randomization_histogram_at_001.pdf``\n",
    "- ``DEMO_1_randomization_histogram_at_005.pdf``\n",
    "- ``DEMO_1_evaluated_and_categorized_interactions.tsv.gz``"
   ]
  },
  {
   "cell_type": "markdown",
   "metadata": {},
   "source": [
    "### ``DEMO_1_reports.txt``\n",
    "\n",
    "This file contains a report on each individual processing step."
   ]
  },
  {
   "cell_type": "code",
   "execution_count": 2,
   "metadata": {},
   "outputs": [
    {
     "name": "stdout",
     "output_type": "stream",
     "text": [
      "[INFO] Input parameters\r\n",
      "\t[INFO] --out-prefix: DEMO_1\r\n",
      "\t[INFO] --description-tag: DEMO 1\r\n",
      "\t[INFO] --diachromatic-interaction-file:\r\n",
      "\t\t[INFO] ../tests/data/test_03/diachromatic_interaction_file_fdr_top_64000.tsv.gz\r\n",
      "\t[INFO] --min-inter-dist: 20,000\r\n",
      "\t[INFO] --p-value-threshold: None\r\n",
      "\t\t[INFO] Will determine a P-value threshold so that the FDR is kept below: 0.05\r\n",
      "\t\t[INFO] --fdr-threshold: 0.05000\r\n",
      "\t\t[INFO] --nominal-alpha-max: 0.02500\r\n",
      "\t\t[INFO] --nominal-alpha-step: 0.00001\r\n",
      "\t\t[INFO] --iter-num: 100\r\n",
      "\t\t[INFO] --random-seed: 0\r\n",
      "\t\t[INFO] --thread-num: 2\r\n",
      "\t\t[INFO] Use '--fdr-threshold' to set your own FDR threshold.\r\n",
      "\t\t[INFO] Or use '--p-value-threshold' to skip the FDR procedure.\r\n",
      "\r\n",
      "[INFO] Report on reading files:\r\n",
      "\t[INFO] Read interaction data from 1 files:\r\n",
      "\t\t[INFO] 64,000 interactions from: \r\n",
      "\t\t\t[INFO] ../tests/data/test_03/diachromatic_interaction_file_fdr_top_64000.tsv.gz\r\n",
      "\t\t\t[INFO] Minimum number of read pairs: 7\r\n",
      "\t\t\t[INFO] Skipped because less than 7 read pairs: 9,258\r\n",
      "\t\t\t[INFO] Skipped because shorter than 20,000 bp: 0\r\n",
      "\t\t\t[INFO] Added to set: 54,742\r\n",
      "\t\t\t[INFO] Set size: 54,742\r\n",
      "\t[INFO] The interaction set has 54,742 interactions.\r\n",
      "[INFO] End of report.\r\n",
      "\r\n",
      "[INFO] Report on randomization:\r\n",
      "\t[INFO] Input parameters:\r\n",
      "\t\t[INFO] Number of input interactions: 54,742\r\n",
      "\t\t[INFO] Number of iterations: 100\r\n",
      "\t\t[INFO] Random seed: 0\r\n",
      "\t\t[INFO] Available nominal alphas: \r\n",
      "\t\t\t0.00001, 0.00002, 0.00003, ..., 0.05000\r\n",
      "\t[INFO] Results for a nominal alpha of 0.00390:\r\n",
      "\t\t[INFO] Number of randomized interactions: 54,742\r\n",
      "\t\t[INFO] Significant randomized interaction numbers: \r\n",
      "\t\t\t77, 84, 67, 77, 63, 76, 78, 79, 75, ...\r\n",
      "\t\t[INFO] Potentially significant interactions at this nominal alpha: 38,749\r\n",
      "\t\t[INFO] Observed number of significant interactions: 1,593\r\n",
      "\t\t[INFO] Mean number of significant randomized interactions: 75.20\r\n",
      "\t\t[INFO] Standard deviation of significant randomized interactions: 9.20\r\n",
      "\t\t[INFO] Z-score: 164.90\r\n",
      "\t\t[INFO] Estimated FDR: 0.04721\r\n",
      "\t\t[INFO] Iterations with more significant interactions than observed: 0\r\n",
      "[INFO] End of report.\r\n",
      "\r\n",
      ":TR_RANDOM:\tDESCRIPTION\tINPUT_I_NUM\tITER_NUM\tRANDOM_SEED\tNOMINAL_ALPHA\tPOT_SIG_NUM\tSIG_NUM_O\tSIG_NUM_R_MEAN\tSIG_NUM_R_SD\tZ_SCORE\tFDR\tSIG_NUM_R_GT_OBS\r\n",
      ":TR_RANDOM:\tDEMO_1\t54742\t100\t0\t0.00390\t38749\t1593\t75.20\t9.20\t164.90\t0.04721\t0\r\n",
      ":TR_RANDOM:\tDEMO_1\t54742\t100\t0\t0.01000\t47967\t2284\t252.13\t16.17\t125.67\t0.11039\t0\r\n",
      ":TR_RANDOM:\tDEMO_1\t54742\t100\t0\t0.05000\t54742\t4708\t1462.71\t34.06\t95.29\t0.31069\t0\r\n",
      "\r\n",
      "[INFO] Report on evaluation and categorization interactions:\r\n",
      "\t[INFO] P-value threshold: 0.00390\r\n",
      "\t[INFO] Minimum number of read pairs required for significance: 10\r\n",
      "\t[INFO] Smallest P-value with 10 read pairs: 0.00195\r\n",
      "\t[INFO] Processed interactions: 54,742\r\n",
      "\t[INFO] Discarded interactions: 15,993\r\n",
      "\t[INFO] Not significant interactions (UI): 37,156\r\n",
      "\t[INFO] Significant interactions (DI): 1,593\r\n",
      "[INFO] End of report.\r\n",
      "\r\n",
      ":TR_EVAL_CAT:\tDESCRIPTION\tPVAL_THRESH\tMIN_RP\tMIN_RP_PVAL\tN_PROCESSED\tN_DISCARDED\tN_UNDIRECTED\tN_DIRECTED\r\n",
      ":TR_EVAL_CAT:\tDEMO_1\t0.00390\t10\t0.00195\t54742\t15993\t37156\t1593\r\n",
      "\r\n",
      "[INFO] Report on selection of undirected reference interactions:\r\n",
      "\t[INFO] Numbers of directed interactions\r\n",
      "\t\t[INFO] Interactions in NN: 19\r\n",
      "\t\t[INFO] Interactions in NE: 787\r\n",
      "\t\t[INFO] Interactions in EN: 706\r\n",
      "\t\t[INFO] Interactions in EE: 81\r\n",
      "\t\t[INFO] Total: 1,593\r\n",
      "\t[INFO] Numbers of undirected reference interactions\r\n",
      "\t\t[INFO] Interactions in NN: 16\r\n",
      "\t\t[INFO] Interactions in NE: 765\r\n",
      "\t\t[INFO] Interactions in EN: 678\r\n",
      "\t\t[INFO] Interactions in EE: 57\r\n",
      "\t\t[INFO] Total: 1,516\r\n",
      "\t[INFO] Numbers of missing undirected reference interactions\r\n",
      "\t\t[INFO] Interactions in NN: 3\r\n",
      "\t\t[INFO] Interactions in NE: 22\r\n",
      "\t\t[INFO] Interactions in EN: 28\r\n",
      "\t\t[INFO] Interactions in EE: 24\r\n",
      "\t\t[INFO] Total: 77\r\n",
      "\t[INFO] Numbers undirected interactions\r\n",
      "\t\t[INFO] Interactions in NN: 836\r\n",
      "\t\t[INFO] Interactions in NE: 16,374\r\n",
      "\t\t[INFO] Interactions in EN: 16,961\r\n",
      "\t\t[INFO] Interactions in EE: 1,469\r\n",
      "\t\t[INFO] Total: 35,640\r\n",
      "[INFO] End of report.\r\n",
      "\r\n",
      ":TR_SELECT:\tDESCRIPTION\tDI_NN\tDI_NE\tDI_EN\tDI_EE\tDI_TOTAL\tUIR_NN\tUIR_NE\tUIR_EN\tUIR_EE\tUIR_TOTAL\tM_UIR_NN\tM_UIR_NE\tM_UIR_EN\tM_UIR_EE\tM_UIR_TOTAL\tUI_NN\tUI_NE\tUI_EN\tUI_EE\tUI_TOTAL\r\n",
      ":TR_SELECT:\tDEMO_1\t19\t787\t706\t81\t1593\t16\t765\t678\t57\t1516\t3\t22\t28\t24\t77\t836\t16374\t16961\t1469\t35640\r\n",
      "\r\n",
      "[INFO] Report on writing files:\r\n",
      "\t[INFO] Wrote interactions that occur in at least 1 replicates to:\r\n",
      "\t\t[INFO] DEMO_1_evaluated_and_categorized_interactions.tsv.gz\r\n",
      "\t[INFO] Interactions that occur in at least 1 replicates: 38,749\r\n",
      "\t[INFO] Other interactions: 0\r\n",
      "[INFO] End of report.\r\n",
      "\r\n",
      "[INFO] Generated files:\r\n",
      "\t[INFO] DEMO_1_reports.txt\r\n",
      "\t[INFO] DEMO_1_randomization_plot.pdf\r\n",
      "\t[INFO] DEMO_1_randomization_table.txt\r\n",
      "\t[INFO] DEMO_1_randomization_histogram_at_threshold.pdf\r\n",
      "\t[INFO] DEMO_1_randomization_histogram_at_001.pdf\r\n",
      "\t[INFO] DEMO_1_randomization_histogram_at_005.pdf\r\n",
      "\t[INFO] DEMO_1_evaluated_and_categorized_interactions.tsv.gz\r\n"
     ]
    }
   ],
   "source": [
    "cat DEMO_1_reports.txt"
   ]
  },
  {
   "cell_type": "markdown",
   "metadata": {},
   "source": [
    "The results are output with explanations, followed by corresponding tab separated rows that can be inserted into a table. The first columns contain tags that can be used to extract rows for individual processing steps."
   ]
  },
  {
   "cell_type": "markdown",
   "metadata": {},
   "source": [
    "For example, the following command can be used to extract the rows with the results of the randomizations:"
   ]
  },
  {
   "cell_type": "code",
   "execution_count": 3,
   "metadata": {
    "scrolled": false
   },
   "outputs": [
    {
     "name": "stdout",
     "output_type": "stream",
     "text": [
      ":TR_RANDOM:\tDESCRIPTION\tINPUT_I_NUM\tITER_NUM\tRANDOM_SEED\tNOMINAL_ALPHA\tPOT_SIG_NUM\tSIG_NUM_O\tSIG_NUM_R_MEAN\tSIG_NUM_R_SD\tZ_SCORE\tFDR\tSIG_NUM_R_GT_OBS\r\n",
      ":TR_RANDOM:\tDEMO_1\t54742\t100\t0\t0.00390\t38749\t1593\t75.20\t9.20\t164.90\t0.04721\t0\r\n",
      ":TR_RANDOM:\tDEMO_1\t54742\t100\t0\t0.01000\t47967\t2284\t252.13\t16.17\t125.67\t0.11039\t0\r\n",
      ":TR_RANDOM:\tDEMO_1\t54742\t100\t0\t0.05000\t54742\t4708\t1462.71\t34.06\t95.29\t0.31069\t0\r\n"
     ]
    }
   ],
   "source": [
    "cat DEMO_1_reports.txt | grep ':TR_RANDOM:'"
   ]
  },
  {
   "cell_type": "markdown",
   "metadata": {},
   "source": [
    "Two rows are output for the randomizations. One row for the nominal alpha, which is used as the P-value threshold, and another row for a nominal alpha of ``0.01``. The second row is intended to compare different datasets at a fixed nominal alpha. In this example, a P-value threshold of ``0.00390`` was determined. At this threshold, ``1593`` interactions are significant and the FDR is ``0.04721``. If interactions were selected at a threshold of ``0.01``, the FDR would be ``0.11039``."
   ]
  },
  {
   "cell_type": "markdown",
   "metadata": {},
   "source": [
    "The following command can be used to extract the rows for the evaluation and categorization at the determined P-value threshold:"
   ]
  },
  {
   "cell_type": "code",
   "execution_count": 4,
   "metadata": {
    "scrolled": true
   },
   "outputs": [
    {
     "name": "stdout",
     "output_type": "stream",
     "text": [
      ":TR_EVAL_CAT:\tDESCRIPTION\tPVAL_THRESH\tMIN_RP\tMIN_RP_PVAL\tN_PROCESSED\tN_DISCARDED\tN_UNDIRECTED\tN_DIRECTED\r\n",
      ":TR_EVAL_CAT:\tDEMO_1\t0.00390\t10\t0.00195\t54742\t15993\t37156\t1593\r\n"
     ]
    }
   ],
   "source": [
    "cat DEMO_1_reports.txt | grep ':TR_EVAL_CAT:'"
   ]
  },
  {
   "cell_type": "markdown",
   "metadata": {},
   "source": [
    "We discard interactions that do not have enough read pairs in order to be significant, i.e. that even the most extreme observations (zero simple or zero twisted read pairs) have a P-value that is above the determined threshold. In this example, at least ``10`` read pairs are required for significance and ``25251`` were discarded because they have fewer read pairs. ``37156`` interactions have enough read pairs, but are not significant. We refer to these interactions as *undirected interactions* and to the remaining ``1593`` as *directed interactions*."
   ]
  },
  {
   "cell_type": "markdown",
   "metadata": {},
   "source": [
    "The following command can be used to extract the rows for the selection of undirected reference interactions:"
   ]
  },
  {
   "cell_type": "code",
   "execution_count": 5,
   "metadata": {},
   "outputs": [
    {
     "name": "stdout",
     "output_type": "stream",
     "text": [
      ":TR_SELECT:\tDESCRIPTION\tDI_NN\tDI_NE\tDI_EN\tDI_EE\tDI_TOTAL\tUIR_NN\tUIR_NE\tUIR_EN\tUIR_EE\tUIR_TOTAL\tM_UIR_NN\tM_UIR_NE\tM_UIR_EN\tM_UIR_EE\tM_UIR_TOTAL\tUI_NN\tUI_NE\tUI_EN\tUI_EE\tUI_TOTAL\r\n",
      ":TR_SELECT:\tDEMO_1\t19\t787\t706\t81\t1593\t16\t765\t678\t57\t1516\t3\t22\t28\t24\t77\t836\t16374\t16961\t1469\t35640\r\n"
     ]
    }
   ],
   "source": [
    "cat DEMO_1_reports.txt | grep ':TR_SELECT:'"
   ]
  },
  {
   "cell_type": "markdown",
   "metadata": {},
   "source": [
    "We compare properties of directed interactions (``DI``) with those of undirected reference interactions (``UIR``) that are comparable with respect to the read pair numbers per interaction. When selecting undirected reference interactions, we take into account the enrichment status of digests (``E`` for enriched and ``N`` for not enriched), because we aassume that these have an influence on the read pair number of interactions. An interaction can have four different enrichment states: ``NN``,``NE``,``EN`` or ``EE``. We first determine the read pair numbers of directed interactions in these four categories and then try to select undirected reference interactions with the same read pair numbers in each category. In this example, there are ``19``,``787``,``706`` and ``81`` directed interactions in the categories ``NN``,``NE``,``EN`` or ``EE``, which together gives ``1593``. For some read pair numbers, there are no matching reference interactions. For example, only ``16`` out of ``19`` reference interactions could be selected in the category ``NN``. The columns for directed and undirected interactions are followed by analogous columns for missing reference interactions (``M_UIR``) and undirected interactions (``UI``)."
   ]
  },
  {
   "cell_type": "markdown",
   "metadata": {},
   "source": [
    "### ```DEMO_1_randomization_plot.pdf```\n",
    "\n",
    "This file shows the results for all nominal alphas (``1 * nominal-alpha-step, 2 * nominal-alpha-step, ..., nominal-alpha-max``). It consists of a header that contains the input arguments as well as the results for the determined P-value threshold and seven plots:\n",
    "\n",
    "1. **P-value thresholds**  \n",
    "In this plot, the nominal alphas are plotted agains the logarithmized nominal alphas. Red dashed lines are shown for the largest nominal alpha with an estimated FDR below the chosen threshold.\n",
    "\n",
    "2. **Minimum read pair numbers**  \n",
    "For a given nominal alpha, a certain minimum number of read pairs is required for significance of interactions. \n",
    "\n",
    "3. **Smallest P-value with minimum read pair number**  \n",
    "The smallest possible P-value with minimum number of read pairs required for significance.\n",
    "\n",
    "4. **Number of potentially significant interactions**  \n",
    "Number of interactions that have enough read pairs in order to be significant.\n",
    "\n",
    "5. **Number of significant interactions**  \n",
    "The numbers before randomization are shown in orange and the numbers after randomization in blue.\n",
    "\n",
    "6. **Z-score**  \n",
    "The Z-scores are calculated from the actually observed number of significant interactions and the mean and standard deviation of the numbers of randomized significant interactions.\n",
    "\n",
    "7. **Estimated FDR**  \n",
    "The estimated FDR is the ratio of the mean number of ranndomized interactions (over all iterations) and the observed number of interactions."
   ]
  },
  {
   "cell_type": "code",
   "execution_count": 6,
   "metadata": {
    "scrolled": true
   },
   "outputs": [
    {
     "data": {
      "text/html": [
       "\n",
       "        <iframe\n",
       "            width=\"1000\"\n",
       "            height=\"500\"\n",
       "            src=\"./DEMO_1_randomization_plot.pdf\"\n",
       "            frameborder=\"0\"\n",
       "            allowfullscreen\n",
       "        ></iframe>\n",
       "        "
      ],
      "text/plain": [
       "<IPython.lib.display.IFrame at 0x10b5939d0>"
      ]
     },
     "execution_count": 6,
     "metadata": {},
     "output_type": "execute_result"
    }
   ],
   "source": [
    "from IPython.display import IFrame\n",
    "IFrame(\"./DEMO_1_randomization_plot.pdf\", width=1000, height=500)"
   ]
  },
  {
   "cell_type": "markdown",
   "metadata": {},
   "source": [
    "### ``DEMO_1_randomization_table.txt``\n",
    "\n",
    "This file contains a table with the values shown in ``DEMO_1_randomization_plot.pdf``."
   ]
  },
  {
   "cell_type": "code",
   "execution_count": 7,
   "metadata": {
    "scrolled": false
   },
   "outputs": [
    {
     "name": "stdout",
     "output_type": "stream",
     "text": [
      ":TR_RANDOM:\tDESCRIPTION\tINPUT_I_NUM\tITER_NUM\tRANDOM_SEED\tNOMINAL_ALPHA\tPOT_SIG_NUM\tSIG_NUM_O\tSIG_NUM_R_MEAN\tSIG_NUM_R_SD\tZ_SCORE\tFDR\tSIG_NUM_R_GT_OBS\r\n",
      ":TR_RANDOM:\tDEMO_1\t54742\t100\t0\t0.00001\t22367\t433\t0.13\t0.36\t1186.50\t0.00030\t0\r\n",
      ":TR_RANDOM:\tDEMO_1\t54742\t100\t0\t0.00002\t23607\t492\t0.29\t0.53\t919.61\t0.00059\t0\r\n",
      ":TR_RANDOM:\tDEMO_1\t54742\t100\t0\t0.00003\t23607\t522\t0.35\t0.59\t884.92\t0.00067\t0\r\n",
      ":TR_RANDOM:\tDEMO_1\t54742\t100\t0\t0.00004\t24992\t555\t0.53\t0.73\t762.27\t0.00095\t0\r\n",
      ":TR_RANDOM:\tDEMO_1\t54742\t100\t0\t0.00005\t24992\t569\t0.61\t0.77\t735.08\t0.00107\t0\r\n",
      ":TR_RANDOM:\tDEMO_1\t54742\t100\t0\t0.00006\t24992\t580\t0.72\t0.90\t647.01\t0.00124\t0\r\n",
      ":TR_RANDOM:\tDEMO_1\t54742\t100\t0\t0.00007\t26577\t614\t1.18\t1.11\t553.10\t0.00192\t0\r\n",
      ":TR_RANDOM:\tDEMO_1\t54742\t100\t0\t0.00008\t26577\t625\t1.36\t1.28\t488.41\t0.00218\t0\r\n",
      ":TR_RANDOM:\tDEMO_1\t54742\t100\t0\t0.00009\t26577\t630\t1.46\t1.28\t492.55\t0.00232\t0\r\n"
     ]
    }
   ],
   "source": [
    "!head -n 10 DEMO_1_randomization_table.txt"
   ]
  },
  {
   "cell_type": "markdown",
   "metadata": {},
   "source": [
    "### ``DEMO_1_randomization_histogram_at_threshold.pdf``\n",
    "\n",
    "This file contains two histograms for the total numbers of signnificant randomized interactions at the determined P-value threshold."
   ]
  },
  {
   "cell_type": "code",
   "execution_count": 8,
   "metadata": {
    "scrolled": true
   },
   "outputs": [
    {
     "data": {
      "text/html": [
       "\n",
       "        <iframe\n",
       "            width=\"1000\"\n",
       "            height=\"500\"\n",
       "            src=\"./DEMO_1_randomization_histogram_at_threshold.pdf\"\n",
       "            frameborder=\"0\"\n",
       "            allowfullscreen\n",
       "        ></iframe>\n",
       "        "
      ],
      "text/plain": [
       "<IPython.lib.display.IFrame at 0x1a208b3690>"
      ]
     },
     "execution_count": 8,
     "metadata": {},
     "output_type": "execute_result"
    }
   ],
   "source": [
    "from IPython.display import IFrame\n",
    "IFrame(\"./DEMO_1_randomization_histogram_at_threshold.pdf\", width=1000, height=500)"
   ]
  },
  {
   "cell_type": "markdown",
   "metadata": {},
   "source": [
    "### ``DEMO_1_randomization_histogram_at_001.pdf``\n",
    "\n",
    "This file contains a histogram for the numbers significant randomized interactions at a P-value threshold of ``0.01``."
   ]
  },
  {
   "cell_type": "code",
   "execution_count": 9,
   "metadata": {},
   "outputs": [
    {
     "data": {
      "text/html": [
       "\n",
       "        <iframe\n",
       "            width=\"1000\"\n",
       "            height=\"500\"\n",
       "            src=\"./DEMO_1_randomization_histogram_at_001.pdf\"\n",
       "            frameborder=\"0\"\n",
       "            allowfullscreen\n",
       "        ></iframe>\n",
       "        "
      ],
      "text/plain": [
       "<IPython.lib.display.IFrame at 0x1a210b3110>"
      ]
     },
     "execution_count": 9,
     "metadata": {},
     "output_type": "execute_result"
    }
   ],
   "source": [
    "from IPython.display import IFrame\n",
    "IFrame(\"./DEMO_1_randomization_histogram_at_001.pdf\", width=1000, height=500)"
   ]
  },
  {
   "cell_type": "markdown",
   "metadata": {},
   "source": [
    "### ``DEMO_1_randomization_histogram_at_005.pdf``\n",
    "\n",
    "This file contains a histogram for the numbers significant randomized interactions at a P-value threshold of ``0.05``."
   ]
  },
  {
   "cell_type": "code",
   "execution_count": 10,
   "metadata": {},
   "outputs": [
    {
     "data": {
      "text/html": [
       "\n",
       "        <iframe\n",
       "            width=\"1000\"\n",
       "            height=\"500\"\n",
       "            src=\"./DEMO_1_randomization_histogram_at_005.pdf\"\n",
       "            frameborder=\"0\"\n",
       "            allowfullscreen\n",
       "        ></iframe>\n",
       "        "
      ],
      "text/plain": [
       "<IPython.lib.display.IFrame at 0x1a208e4810>"
      ]
     },
     "execution_count": 10,
     "metadata": {},
     "output_type": "execute_result"
    }
   ],
   "source": [
    "from IPython.display import IFrame\n",
    "IFrame(\"./DEMO_1_randomization_histogram_at_005.pdf\", width=1000, height=500)"
   ]
  },
  {
   "cell_type": "markdown",
   "metadata": {},
   "source": [
    "### ``DEMO_1_evaluated_and_categorized_interactions.tsv.gz``\n",
    "\n",
    "This file contains the evaluated and categorized interactions."
   ]
  },
  {
   "cell_type": "code",
   "execution_count": 11,
   "metadata": {},
   "outputs": [
    {
     "name": "stdout",
     "output_type": "stream",
     "text": [
      "chr4\t102559481\t102562265\tN\tchr4\t102834175\t102837626\tE\t7:8\t0.00\tUIR\r\n",
      "chr11\t114362648\t114362686\tN\tchr11\t114396073\t114404234\tE\t15:11\t0.25\tUIR\r\n",
      "chr15\t56158017\t56158267\tN\tchr15\t56462978\t56465983\tE\t11:14\t0.16\tUIR\r\n",
      "chr2\t132404430\t132407195\tE\tchr2\t133944342\t133945427\tN\t7:6\t0.00\tUIR\r\n",
      "chr6\t89716777\t89716882\tN\tchr6\t89916736\t89920828\tE\t0:21\t6.02\tDI\r\n",
      "chr5\t148169369\t148171652\tE\tchr5\t148544614\t148551217\tN\t9:16\t0.64\tUIR\r\n",
      "chr7\t43316988\t43319996\tN\tchr7\t43522451\t43533844\tE\t5:9\t0.37\tUIR\r\n",
      "chr13\t94169131\t94174190\tN\tchr13\t94463964\t94468140\tE\t15:18\t0.14\tUIR\r\n",
      "chr6\t32572556\t32579030\tN\tchr6\t32665661\t32669176\tE\t6:21\t2.23\tUIR\r\n",
      "chr2\t16841469\t16846902\tE\tchr2\t17018322\t17019298\tN\t21:19\t0.06\tUIR\r\n"
     ]
    }
   ],
   "source": [
    "!gunzip DEMO_1_evaluated_and_categorized_interactions.tsv.gz\n",
    "!head DEMO_1_evaluated_and_categorized_interactions.tsv\n",
    "!gzip DEMO_1_evaluated_and_categorized_interactions.tsv"
   ]
  }
 ],
 "metadata": {
  "kernelspec": {
   "display_name": "Python 3 (diachscripts_p37env)",
   "language": "python",
   "name": "diachscripts_p37env"
  },
  "language_info": {
   "codemirror_mode": {
    "name": "ipython",
    "version": 3
   },
   "file_extension": ".py",
   "mimetype": "text/x-python",
   "name": "python",
   "nbconvert_exporter": "python",
   "pygments_lexer": "ipython3",
   "version": "3.7.4"
  }
 },
 "nbformat": 4,
 "nbformat_minor": 2
}
