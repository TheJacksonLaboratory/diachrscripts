{
 "cells": [
  {
   "cell_type": "markdown",
   "metadata": {},
   "source": [
    "# DICer: Directed Interaction Caller\n",
    "\n",
    "We integrated all modules into a single script that evaluates, categorizes and selects directed and undirected reference  interactions at a given FDR threshold. The script can be executed as follows:"
   ]
  },
  {
   "cell_type": "code",
   "execution_count": 1,
   "metadata": {},
   "outputs": [
    {
     "name": "stdout",
     "output_type": "stream",
     "text": [
      "[INFO] Input parameters\n",
      "\t[INFO] --out-prefix: DEMO_1\n",
      "\t[INFO] --description-tag: DEMO 1\n",
      "\t[INFO] --diachromatic-interaction-file:\n",
      "\t\t[INFO] ../tests/data/test_03/diachromatic_interaction_file_fdr_top_64000.tsv.gz\n",
      "\t[INFO] --p-value-threshold: None\n",
      "\t\t[INFO] Will determine a P-value threshold so that the FDR is kept below: 0.05\n",
      "\t\t[INFO] --fdr-threshold: 0.05000\n",
      "\t\t[INFO] --nominal-alpha-max: 0.02500\n",
      "\t\t[INFO] --nominal-alpha-step: 0.00001\n",
      "\t\t[INFO] --iter-num: 100\n",
      "\t\t[INFO] --random-seed: 0\n",
      "\t\t[INFO] --thread-num: 2\n",
      "\t\t[INFO] Use '--fdr-threshold' to set your own FDR threshold.\n",
      "\t\t[INFO] Or use '--p-value-threshold' to skip the FDR procedure.\n",
      "\n",
      "[INFO] Parsing Diachromatic interaction file ...\n",
      "\t[INFO] ../tests/data/test_03/diachromatic_interaction_file_fdr_top_64000.tsv.gz\n",
      "\t[INFO] Set size: 54,742\n",
      "[INFO] ... done.\n",
      "\n",
      "[INFO] Performing randomization analysis with 100 iterations ...\n",
      "\t[INFO] Determining number of significant interactions at each nominal alpha ...\n",
      "\t[INFO] Randomizing interactions ...\n",
      "\t\t[INFO] Created RP_INTER_DICT for 54,742 interactions ...\n",
      "\t\t[INFO] Performing 50 iterations ...\n",
      "\t\t\t[INFO] First iteration indices: 0, 1, 2, 3, 4, 5, 6, 7, 8, 9, ...\n",
      "\t\t[INFO] Performing 50 iterations ...\n",
      "\t\t\t[INFO] First iteration indices: 50, 51, 52, 53, 54, 55, 56, 57, 58, 59, ...\n",
      "\t[INFO] Combining results from all iterations for different nominal alphas ...\n",
      "[INFO] ... done.\n",
      "\n",
      "[INFO] Evaluate and categorize interactions ...\n",
      "[INFO] ... done.\n",
      "\n",
      "[INFO] Select reference interactions ...\n",
      "\t[INFO] First pass: Count directed interactions for different read pair counts ...\n",
      "\t[INFO] Second pass: Select undirected reference interactions for different read pair counts ...\n",
      "[INFO] ... done.\n",
      "\n",
      "[INFO] Writing Diachromatic interaction file ...\n",
      "\t[INFO] Required replicates: 1\n",
      "\t[INFO] Target file: DEMO_1_evaluated_and_categorized_interactions.tsv.gz\n",
      "[INFO] ... done.\n",
      "\n",
      "[INFO] Generated files:\n",
      "\t[INFO] DEMO_1_evaluated_and_categorized_summary.txt\n",
      "\t[INFO] DEMO_1_evaluated_and_categorized_interactions.tsv.gz\n",
      "\t[INFO] DEMO_1_randomization_table.txt\n",
      "\t[INFO] DEMO_1_randomization_plot_fdr.pdf\n",
      "\t[INFO] DEMO_1_randomization_plot_threshold.pdf\n",
      "\t[INFO] DEMO_1_randomization_plot_001.pdf\n",
      "\n",
      "\n"
     ]
    }
   ],
   "source": [
    "%run ../DICer.py \\\n",
    "--out-prefix DEMO_1 \\\n",
    "--description-tag \"DEMO 1\" \\\n",
    "--diachromatic-interaction-file ../tests/data/test_03/diachromatic_interaction_file_fdr_top_64000.tsv.gz \\\n",
    "--fdr-threshold 0.05 \\\n",
    "--nominal-alpha-max 0.02500 \\\n",
    "--nominal-alpha-step 0.00001 \\\n",
    "--iter-num 100 \\\n",
    "--random-seed 0 \\\n",
    "--thread-num 2"
   ]
  },
  {
   "cell_type": "markdown",
   "metadata": {},
   "source": [
    "## Arguments\n",
    "\n",
    "XX"
   ]
  },
  {
   "cell_type": "markdown",
   "metadata": {},
   "source": [
    "## Generated files\n",
    "\n",
    "XX"
   ]
  }
 ],
 "metadata": {
  "kernelspec": {
   "display_name": "Python 3 (diachscripts_p37env)",
   "language": "python",
   "name": "diachscripts_p37env"
  },
  "language_info": {
   "codemirror_mode": {
    "name": "ipython",
    "version": 3
   },
   "file_extension": ".py",
   "mimetype": "text/x-python",
   "name": "python",
   "nbconvert_exporter": "python",
   "pygments_lexer": "ipython3",
   "version": "3.7.4"
  }
 },
 "nbformat": 4,
 "nbformat_minor": 2
}
