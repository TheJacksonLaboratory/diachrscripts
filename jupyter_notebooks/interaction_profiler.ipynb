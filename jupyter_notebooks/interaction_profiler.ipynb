{
 "cells": [
  {
   "cell_type": "code",
   "execution_count": 1,
   "id": "149e4026",
   "metadata": {},
   "outputs": [],
   "source": [
    "import sys\n",
    "import os\n",
    "import pandas\n",
    "import copy\n",
    "from math import log10\n",
    "sys.path.append(\"..\")\n",
    "from diachr import DiachromaticInteractionSet"
   ]
  },
  {
   "cell_type": "code",
   "execution_count": 2,
   "id": "653c10c1",
   "metadata": {},
   "outputs": [
    {
     "name": "stdout",
     "output_type": "stream",
     "text": [
      "AAAAAX_|IC=ALL|EC=EN|PT=INUM|_profile.bedgraph\n",
      "AAAAAX_|IC=ALL|EC=EN|PT=INUM|_interactions.bed\n"
     ]
    }
   ],
   "source": [
    "# Assign command line arguments to script variables\n",
    "OUT_PREFIX = 'AAAAAX'\n",
    "INTERACTION_FILE = '../DICer_interactions/HT/FDR005/CHC/JAV_MK_RALT_20000_ht_fdr0.05_evaluated_and_categorized_interactions_chr10.tsv.gz'\n",
    "I_CAT = 'ALL'\n",
    "E_CAT = 'EN'\n",
    "PROFILE_TYPE = 'INUM' # 'RPNUM', 'RPMAX'\n",
    "DIGEST_FILE = '../additional_files/template_digest_file_hg38_HindIII.txt'\n",
    "TRACK_NAME = 'TRACK_NAME'\n",
    "TRACK_COLOR = '0,0,0'\n",
    "WRITE_BED = True\n",
    "VERBOSE = True\n",
    "\n",
    "# Define names for output files\n",
    "BEDGRAPH_FILENAME = OUT_PREFIX + '_|IC=' + I_CAT + '|EC=' + E_CAT + '|PT=' + PROFILE_TYPE + '|_profile.bedgraph'\n",
    "BED_FILENAME = OUT_PREFIX + '_|IC=' + I_CAT + '|EC=' + E_CAT + '|PT=' + PROFILE_TYPE + '|_interactions.bed'\n",
    "print(BEDGRAPH_FILENAME)\n",
    "print(BED_FILENAME)\n"
   ]
  },
  {
   "cell_type": "markdown",
   "id": "315a7e44",
   "metadata": {},
   "source": [
    "## Execute the script"
   ]
  },
  {
   "cell_type": "code",
   "execution_count": 3,
   "id": "d837c2c0",
   "metadata": {
    "scrolled": false
   },
   "outputs": [
    {
     "name": "stdout",
     "output_type": "stream",
     "text": [
      "[INFO] Input parameters\n",
      "\t[INFO] --out-prefix: AAAAAX\n",
      "\t[INFO] --diachromatic-interaction-file:\n",
      "\t\t[INFO] ../DICer_interactions/HT/FDR005/CHC/JAV_MK_RALT_20000_ht_fdr0.05_evaluated_and_categorized_interactions_chr10.tsv.gz\n",
      "\t[INFO] --diachromatic-interaction-file:\n",
      "\t[INFO] --select-top-n: 50000,RPNUM\n",
      "\t[INFO] --interaction-category: ALL\n",
      "\t[INFO] --enrichment-category: EN\n",
      "\t[INFO] --profile-type: INUM\n",
      "\t[INFO] --gopher-digest-file: ../additional_files/template_digest_file_hg38_HindIII.txt\n",
      "\t[INFO] --track-name: AAAAAX - ALL - EN - INUM\n",
      "\t[INFO] --track-color: 0,0,0\n",
      "\t[INFO] --write-bed: True\n",
      "\t[INFO] --verbose: True\n",
      "\n",
      "\n",
      "[INFO] Parsing Diachromatic interaction file ...\n",
      "\t[INFO] ../DICer_interactions/HT/FDR005/CHC/JAV_MK_RALT_20000_ht_fdr0.05_evaluated_and_categorized_interactions_chr10.tsv.gz\n",
      "\t[INFO] Set size: 409,940\n",
      "[INFO] ... done.\n",
      "\n",
      "[INFO] Selecting top n interactions...\n",
      "\t[INFO] Sorting parameters: 50000,RPNUM\n",
      "[INFO] ...done.\n",
      "\n",
      "[INFO] Reading digest file into data structure...\n",
      "[INFO] ...done.\n",
      "\n",
      "[INFO] Counting spanning interactions for all restriction fragments...\n",
      "[INFO] ...done.\n",
      "\n",
      "[INFO] Write BedGraph file with profile...\n",
      "[INFO] ...done.\n",
      "\n",
      "[INFO] Generated files:\n",
      "\t[INFO] AAAAAX_profile.bedgraph\n",
      "\t[INFO] AAAAAX_interactions.bed\n",
      "\n",
      "\n"
     ]
    }
   ],
   "source": [
    "%run ../interaction_profiler.py \\\n",
    "--out-prefix $OUT_PREFIX \\\n",
    "--diachromatic-interaction-file $INTERACTION_FILE \\\n",
    "--interaction-category $I_CAT \\\n",
    "--enrichment-category $E_CAT \\\n",
    "--profile-type $PROFILE_TYPE \\\n",
    "--gopher-digest-file $DIGEST_FILE \\\n",
    "--track-name \"$OUT_PREFIX - $I_CAT - $E_CAT - $PROFILE_TYPE\" \\\n",
    "--track-color $TRACK_COLOR \\\n",
    "--write-bed \\\n",
    "--verbose \\\n",
    "--select-top-n 50000,RPNUM"
   ]
  },
  {
   "cell_type": "code",
   "execution_count": 5,
   "id": "581237cf",
   "metadata": {},
   "outputs": [
    {
     "ename": "ValueError",
     "evalue": "invalid literal for int() with base 10: 'Hurz'",
     "output_type": "error",
     "traceback": [
      "\u001b[0;31m---------------------------------------------------------------------------\u001b[0m",
      "\u001b[0;31mValueError\u001b[0m                                Traceback (most recent call last)",
      "\u001b[0;32m<ipython-input-5-2a8f5e396c68>\u001b[0m in \u001b[0;36m<module>\u001b[0;34m\u001b[0m\n\u001b[0;32m----> 1\u001b[0;31m \u001b[0mx\u001b[0m\u001b[0;34m=\u001b[0m\u001b[0mint\u001b[0m\u001b[0;34m(\u001b[0m\u001b[0;34m'Hurz'\u001b[0m\u001b[0;34m)\u001b[0m\u001b[0;34m\u001b[0m\u001b[0;34m\u001b[0m\u001b[0m\n\u001b[0m",
      "\u001b[0;31mValueError\u001b[0m: invalid literal for int() with base 10: 'Hurz'"
     ]
    }
   ],
   "source": []
  }
 ],
 "metadata": {
  "kernelspec": {
   "display_name": "diachrscripts",
   "language": "python",
   "name": "diachrscripts"
  },
  "language_info": {
   "codemirror_mode": {
    "name": "ipython",
    "version": 3
   },
   "file_extension": ".py",
   "mimetype": "text/x-python",
   "name": "python",
   "nbconvert_exporter": "python",
   "pygments_lexer": "ipython3",
   "version": "3.7.11"
  }
 },
 "nbformat": 4,
 "nbformat_minor": 5
}
