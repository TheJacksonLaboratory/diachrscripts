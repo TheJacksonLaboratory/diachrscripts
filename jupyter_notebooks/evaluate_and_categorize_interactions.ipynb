{
 "cells": [
  {
   "cell_type": "markdown",
   "metadata": {},
   "source": [
    "# Evaluate and categorize interactions\n",
    "\n",
    "In this notebook, we describe how to use the modules of ``diachrscripts`` to calculate P-values for interactions and, based on this, to divide them into the categories directed (``DI``) and undirected (``UI``). We also show how to select a set of undirected reference interactions (``UIR``) from the unndirected interactions, which are comparable to the directed interactions in terms of enrichment status of digests and read pair number per interactions."
   ]
  },
  {
   "cell_type": "markdown",
   "metadata": {},
   "source": [
    "## Setting up the notebook"
   ]
  },
  {
   "cell_type": "code",
   "execution_count": 1,
   "metadata": {},
   "outputs": [],
   "source": [
    "import sys\n",
    "import os\n",
    "import pandas\n",
    "sys.path.append(\"..\")\n",
    "from diachr import DiachromaticInteractionSet"
   ]
  },
  {
   "cell_type": "markdown",
   "metadata": {},
   "source": [
    "## Read a Diachromatic interaction file\n",
    "\n",
    "A central class in ``diachrscripts`` is the class ``DiachromaticInteractionSet``. It contain functions for reading, evaluating, categorization and writing of interactions. This class is instantiated as follows:"
   ]
  },
  {
   "cell_type": "code",
   "execution_count": 2,
   "metadata": {},
   "outputs": [],
   "source": [
    "interaction_set = DiachromaticInteractionSet()"
   ]
  },
  {
   "cell_type": "markdown",
   "metadata": {},
   "source": [
    "The function ``DiachromaticInteractionSet.parse_file`` can be used to read interactions from Diachromatic interaction files:"
   ]
  },
  {
   "cell_type": "code",
   "execution_count": 3,
   "metadata": {},
   "outputs": [],
   "source": [
    "interaction_set.parse_file(i_file=\"../tests/data/test_04/diachromatic_interaction_file.tsv\", verbose=False)"
   ]
  },
  {
   "cell_type": "markdown",
   "metadata": {},
   "source": [
    "For a given instance, this function can also be used multiple times, with the interactions remaining unique with regard to their coordinates. If interactions with identical coordinates are read, the numbers of simple and read pairs are added up separtely (see combinning interactions). However, a given interaction file can only be parsed once, otherwise a warning is issued (see below). For this notebook, we only read in one interaction file that is also used for tests."
   ]
  },
  {
   "cell_type": "markdown",
   "metadata": {},
   "source": [
    "An object of the class ``DiachromaticInteractionSet`` keeps track of which interaction files have been read and how many interactions were in each file. This information is stored in a dictionary that can be queried as follows:"
   ]
  },
  {
   "cell_type": "code",
   "execution_count": 4,
   "metadata": {
    "scrolled": true
   },
   "outputs": [
    {
     "data": {
      "text/html": [
       "<div>\n",
       "<style scoped>\n",
       "    .dataframe tbody tr th:only-of-type {\n",
       "        vertical-align: middle;\n",
       "    }\n",
       "\n",
       "    .dataframe tbody tr th {\n",
       "        vertical-align: top;\n",
       "    }\n",
       "\n",
       "    .dataframe thead th {\n",
       "        text-align: right;\n",
       "    }\n",
       "</style>\n",
       "<table border=\"1\" class=\"dataframe\">\n",
       "  <thead>\n",
       "    <tr style=\"text-align: right;\">\n",
       "      <th></th>\n",
       "      <th>I_FILE</th>\n",
       "      <th>I_NUM</th>\n",
       "      <th>I_UNION_NUM</th>\n",
       "    </tr>\n",
       "  </thead>\n",
       "  <tbody>\n",
       "    <tr>\n",
       "      <td>0</td>\n",
       "      <td>../tests/data/test_04/diachromatic_interaction...</td>\n",
       "      <td>50</td>\n",
       "      <td>50</td>\n",
       "    </tr>\n",
       "  </tbody>\n",
       "</table>\n",
       "</div>"
      ],
      "text/plain": [
       "                                              I_FILE  I_NUM  I_UNION_NUM\n",
       "0  ../tests/data/test_04/diachromatic_interaction...     50           50"
      ]
     },
     "execution_count": 4,
     "metadata": {},
     "output_type": "execute_result"
    }
   ],
   "source": [
    "read_file_info_dict = interaction_set.get_read_file_info_dict()\n",
    "pandas.DataFrame(read_file_info_dict)"
   ]
  },
  {
   "cell_type": "markdown",
   "metadata": {},
   "source": [
    "Alternatively, the same information can be returned in form of a string that is formatted as follows:"
   ]
  },
  {
   "cell_type": "code",
   "execution_count": 5,
   "metadata": {},
   "outputs": [
    {
     "name": "stdout",
     "output_type": "stream",
     "text": [
      "[INFO] Report on reading files:\n",
      "\t[INFO] Read interaction data from 1 files:\n",
      "\t\t[INFO] 50 interactions from ../tests/data/test_04/diachromatic_interaction_file.tsv (Union: 50)\n",
      "\t[INFO] The union of all interactions has 50 interactions.\n",
      "[INFO] End of report.\n",
      "\n"
     ]
    }
   ],
   "source": [
    "print(interaction_set.get_read_file_info_report())"
   ]
  },
  {
   "cell_type": "markdown",
   "metadata": {},
   "source": [
    "Such strings can be used to compile the output of scripts in which different modules are used."
   ]
  },
  {
   "cell_type": "markdown",
   "metadata": {},
   "source": [
    "### Warnings\n",
    "\n",
    "The function ``DiachromaticInteractionSet.parse_file`` can be used multiple times for a given interaction set. However, it is not possible to add the same file more than once. In this case, no real new interaction would be added to the set, but the simple and twisted read pair counts would still be added up. An interaction set keeps track of the names (including path) of the files that have already been read. If a file is read in repeatedly, a warning is issued and the interaction set remains unchanged. Execute the following cell to trigger the warning."
   ]
  },
  {
   "cell_type": "code",
   "execution_count": 6,
   "metadata": {},
   "outputs": [
    {
     "name": "stderr",
     "output_type": "stream",
     "text": [
      "../diachr/diachromatic_interaction_set.py:80: UserWarning: This interaction file has already been read!\n",
      "Filename: ../tests/data/test_04/diachromatic_interaction_file.tsv\n",
      "Won't add interactions from this file to the interaction set.\n",
      "  \"Won't add interactions from this file to the interaction set.\")\n"
     ]
    }
   ],
   "source": [
    "interaction_set.parse_file(i_file=\"../tests/data/test_04/diachromatic_interaction_file.tsv\", verbose=False)"
   ]
  },
  {
   "cell_type": "markdown",
   "metadata": {},
   "source": [
    "## Calculate P-values and divide into directed and undirected interactions\n",
    "\n",
    "We test the imbalance of simple and twisted read pairs within individual interactions using a two-sided binomial test. The function ``evaluate_and_categorize_interactions`` can be used to calculate P-values for all interactions in an ``DiachromaticInteractionSet`` object. The function takes a P-value threshold as an argument. Interactions that do not have enough read pairs to have a P-value that is less than or equal to the threshold are discarded, i.e. they are removed from the interaction set. All other interactions are categorized as undirected (``UI``), if they have a P-value greater than the threshold value, and as directed (``DI``), if they have a P-value less than or equal to the threshold value."
   ]
  },
  {
   "cell_type": "code",
   "execution_count": 7,
   "metadata": {},
   "outputs": [],
   "source": [
    "pval_thresh = 0.01\n",
    "eval_cat_info_dict = interaction_set.evaluate_and_categorize_interactions(pval_thresh=pval_thresh, verbose=False)"
   ]
  },
  {
   "cell_type": "markdown",
   "metadata": {},
   "source": [
    "The function ``evaluate_and_categorize_interactions`` returns a dictionary that contains information about the evaluation and categorization of interactions."
   ]
  },
  {
   "cell_type": "code",
   "execution_count": 8,
   "metadata": {},
   "outputs": [
    {
     "data": {
      "text/html": [
       "<div>\n",
       "<style scoped>\n",
       "    .dataframe tbody tr th:only-of-type {\n",
       "        vertical-align: middle;\n",
       "    }\n",
       "\n",
       "    .dataframe tbody tr th {\n",
       "        vertical-align: top;\n",
       "    }\n",
       "\n",
       "    .dataframe thead th {\n",
       "        text-align: right;\n",
       "    }\n",
       "</style>\n",
       "<table border=\"1\" class=\"dataframe\">\n",
       "  <thead>\n",
       "    <tr style=\"text-align: right;\">\n",
       "      <th></th>\n",
       "      <th>PVAL_THRESH</th>\n",
       "      <th>MIN_RP</th>\n",
       "      <th>MIN_RP_PVAL</th>\n",
       "      <th>N_PROCESSED</th>\n",
       "      <th>N_DISCARDED</th>\n",
       "      <th>N_UNDIRECTED</th>\n",
       "      <th>N_DIRECTED</th>\n",
       "    </tr>\n",
       "  </thead>\n",
       "  <tbody>\n",
       "    <tr>\n",
       "      <td>0</td>\n",
       "      <td>0.01</td>\n",
       "      <td>8</td>\n",
       "      <td>0.007813</td>\n",
       "      <td>50</td>\n",
       "      <td>4</td>\n",
       "      <td>28</td>\n",
       "      <td>18</td>\n",
       "    </tr>\n",
       "  </tbody>\n",
       "</table>\n",
       "</div>"
      ],
      "text/plain": [
       "   PVAL_THRESH  MIN_RP  MIN_RP_PVAL  N_PROCESSED  N_DISCARDED  N_UNDIRECTED  \\\n",
       "0         0.01       8     0.007813           50            4            28   \n",
       "\n",
       "   N_DIRECTED  \n",
       "0          18  "
      ]
     },
     "execution_count": 8,
     "metadata": {},
     "output_type": "execute_result"
    }
   ],
   "source": [
    "pandas.DataFrame(eval_cat_info_dict)"
   ]
  },
  {
   "cell_type": "markdown",
   "metadata": {},
   "source": [
    "Alternatively, the same information can be retieved as a formatted string."
   ]
  },
  {
   "cell_type": "code",
   "execution_count": 9,
   "metadata": {},
   "outputs": [
    {
     "name": "stdout",
     "output_type": "stream",
     "text": [
      "[INFO] Report on evaluation and categorization interactions:\n",
      "\t[INFO] P-value threshold: 0.0100000\n",
      "\t[INFO] Minimum number of read pairs required for significance: 8\n",
      "\t[INFO] Corresponding largest P-value: 0.0078125\n",
      "\t[INFO] Processed interactions: 50\n",
      "\t[INFO] Discarded interactions: 4\n",
      "\t[INFO] Not significant interactions (UI): 28\n",
      "\t[INFO] Significant interactions (DI): 18\n",
      "[INFO] End of report.\n",
      "\n"
     ]
    }
   ],
   "source": [
    "print(interaction_set.get_eval_cat_info_report())"
   ]
  },
  {
   "cell_type": "markdown",
   "metadata": {},
   "source": [
    "Or in form of a table that consists only of two tab separated lines, a header line and a line with values."
   ]
  },
  {
   "cell_type": "code",
   "execution_count": 10,
   "metadata": {},
   "outputs": [
    {
     "name": "stdout",
     "output_type": "stream",
     "text": [
      "OUT_PREFIX\tPVAL_THRESH\tMIN_RP\tMIN_RP_PVAL\tN_PROCESSED\tN_DISCARDED\tN_UNDIRECTED\tN_DIRECTED\n",
      "None\t0.0100000\t8\t0.0078125\t50\t4\t28\t18\n",
      "\n"
     ]
    }
   ],
   "source": [
    "print(interaction_set.get_eval_cat_info_table_row())"
   ]
  },
  {
   "cell_type": "markdown",
   "metadata": {},
   "source": [
    "This type of output is useful if want to compile the output from different datasets in one table."
   ]
  },
  {
   "cell_type": "markdown",
   "metadata": {},
   "source": [
    "### Warnings"
   ]
  },
  {
   "cell_type": "markdown",
   "metadata": {},
   "source": [
    "An interaction set can be evaluated and categorized multiple times. However, if a larger P-value is used than before, then  interactions may already have been discarded because they did not have enough read pairs at the smaller threshold. Therefore, it is only possible to evaluate and re-categorize an interaction set, if a smaller threshold value is used as before. Otherwise, a warning is issued and the interaction set remains unchanged. Execute the cell below to trigger a warning."
   ]
  },
  {
   "cell_type": "code",
   "execution_count": 11,
   "metadata": {},
   "outputs": [
    {
     "name": "stderr",
     "output_type": "stream",
     "text": [
      "../diachr/diachromatic_interaction_set.py:189: UserWarning: This interaction set has previously categorized using an equal or smaller threshold value!\n",
      "Nothing is done. Interaction set remains unchanged.\n",
      "  warnings.warn(\"This interaction set has previously categorized using an equal or smaller threshold value!\" + '\\n'\n"
     ]
    }
   ],
   "source": [
    "pval_thresh = 0.02\n",
    "eval_cat_info_dict = interaction_set.evaluate_and_categorize_interactions(pval_thresh=pval_thresh, verbose=False)"
   ]
  },
  {
   "cell_type": "markdown",
   "metadata": {},
   "source": [
    "## Select undirected reference interactions\n",
    "\n",
    "We use a binomial test with a fixed P-value threshold to categorize interactions as directed or undirected. The power of the test depends on the total number of read pairs per interaction, which can differ for different interactions. The test has a lower power for interactions with few read pairs. In order to compare directed with undirected interactions, regardless of the number of read pairs per interaction, we select a comparison set of reference interactions (``UIR``) from the undirected interactions (``UI``) that is comparable to the directed interactions (``DI``) with regard to the numbers of read pairs per interaction. Interactions also differ with regard to the enrichment states of the digests involved (``E`` stands for *enriched* and ``N`` for *not enriched*). Since it can be assumed that the enrichment status of interactions (``NN``,``NE``,``EN`` or ``EE``) affects the number of read pairs per interaction, we carry out the selection in different enrichment categories separately. For a given interaction set, the selction of reference interactions can be performed with the function ``DiachromaticInteractionSet.select_reference_interactions``:"
   ]
  },
  {
   "cell_type": "code",
   "execution_count": 12,
   "metadata": {
    "scrolled": true
   },
   "outputs": [
    {
     "name": "stdout",
     "output_type": "stream",
     "text": [
      "[INFO] Select reference interactions ...\n",
      "\t[INFO] First pass: Count directed interactions for different read pair counts ...\n",
      "\t[INFO] Second pass: Select undirected reference interactions for different read pair counts ...\n",
      "[INFO] ...done.\n"
     ]
    }
   ],
   "source": [
    "select_ref_report_dict = interaction_set.select_reference_interactions(verbose=True)"
   ]
  },
  {
   "cell_type": "markdown",
   "metadata": {},
   "source": [
    "In a first run, the function determines the numbers of directed interactions for different read pair numbers per interaction. In a second run, the function tries to selected the same number of undirected reference interactions for each read pair number."
   ]
  },
  {
   "cell_type": "markdown",
   "metadata": {},
   "source": [
    "It can happen that there is no undirected reference interaction for a certain number of read pairs per interaction. However, because there are many more undirected than directed interactions, such cases are rare. To keep track of such cases, the function ``select_reference_interactions`` returns a dictionary that contains, for each interaction enrichment category, information on how many directed, undirected, undirected reference interactions there are and how many reference interactions are missing. We also use this dictionary to test the function."
   ]
  },
  {
   "cell_type": "markdown",
   "metadata": {},
   "source": [
    "The dictionary returned is nested, with the first key being the enrichment status (``NN``,``NE``,``EN`` or``EE``) and the second key being the interaction category (``DI``,``UIR``,``M_UIR`` or ``UI``). Execute the cell below to print out the interaction counts for the enrichment category ``NN``."
   ]
  },
  {
   "cell_type": "code",
   "execution_count": 13,
   "metadata": {},
   "outputs": [
    {
     "data": {
      "text/html": [
       "<div>\n",
       "<style scoped>\n",
       "    .dataframe tbody tr th:only-of-type {\n",
       "        vertical-align: middle;\n",
       "    }\n",
       "\n",
       "    .dataframe tbody tr th {\n",
       "        vertical-align: top;\n",
       "    }\n",
       "\n",
       "    .dataframe thead th {\n",
       "        text-align: right;\n",
       "    }\n",
       "</style>\n",
       "<table border=\"1\" class=\"dataframe\">\n",
       "  <thead>\n",
       "    <tr style=\"text-align: right;\">\n",
       "      <th></th>\n",
       "      <th>Interaction counts for NN</th>\n",
       "    </tr>\n",
       "  </thead>\n",
       "  <tbody>\n",
       "    <tr>\n",
       "      <td>DI</td>\n",
       "      <td>3</td>\n",
       "    </tr>\n",
       "    <tr>\n",
       "      <td>UIR</td>\n",
       "      <td>3</td>\n",
       "    </tr>\n",
       "    <tr>\n",
       "      <td>M_UIR</td>\n",
       "      <td>0</td>\n",
       "    </tr>\n",
       "    <tr>\n",
       "      <td>UI</td>\n",
       "      <td>3</td>\n",
       "    </tr>\n",
       "  </tbody>\n",
       "</table>\n",
       "</div>"
      ],
      "text/plain": [
       "       Interaction counts for NN\n",
       "DI                             3\n",
       "UIR                            3\n",
       "M_UIR                          0\n",
       "UI                             3"
      ]
     },
     "execution_count": 13,
     "metadata": {},
     "output_type": "execute_result"
    }
   ],
   "source": [
    "df_nn = pandas.DataFrame(select_ref_report_dict['NN']).transpose()\n",
    "df_nn.columns = ['Interaction counts for NN']\n",
    "df_nn"
   ]
  },
  {
   "cell_type": "markdown",
   "metadata": {},
   "source": [
    "within ``NN``, we have three directed interactions and an undirected reference could be selected for each of these interactions. In addition, there are three undirected interactions that were not selected as reference."
   ]
  },
  {
   "cell_type": "markdown",
   "metadata": {},
   "source": [
    "Now execute the cell below to print out the interaction counts for the enrichment category ``NE``."
   ]
  },
  {
   "cell_type": "code",
   "execution_count": 14,
   "metadata": {},
   "outputs": [
    {
     "data": {
      "text/html": [
       "<div>\n",
       "<style scoped>\n",
       "    .dataframe tbody tr th:only-of-type {\n",
       "        vertical-align: middle;\n",
       "    }\n",
       "\n",
       "    .dataframe tbody tr th {\n",
       "        vertical-align: top;\n",
       "    }\n",
       "\n",
       "    .dataframe thead th {\n",
       "        text-align: right;\n",
       "    }\n",
       "</style>\n",
       "<table border=\"1\" class=\"dataframe\">\n",
       "  <thead>\n",
       "    <tr style=\"text-align: right;\">\n",
       "      <th></th>\n",
       "      <th>Interaction counts for NE</th>\n",
       "    </tr>\n",
       "  </thead>\n",
       "  <tbody>\n",
       "    <tr>\n",
       "      <td>DI</td>\n",
       "      <td>4</td>\n",
       "    </tr>\n",
       "    <tr>\n",
       "      <td>UIR</td>\n",
       "      <td>3</td>\n",
       "    </tr>\n",
       "    <tr>\n",
       "      <td>M_UIR</td>\n",
       "      <td>1</td>\n",
       "    </tr>\n",
       "    <tr>\n",
       "      <td>UI</td>\n",
       "      <td>3</td>\n",
       "    </tr>\n",
       "  </tbody>\n",
       "</table>\n",
       "</div>"
      ],
      "text/plain": [
       "       Interaction counts for NE\n",
       "DI                             4\n",
       "UIR                            3\n",
       "M_UIR                          1\n",
       "UI                             3"
      ]
     },
     "execution_count": 14,
     "metadata": {},
     "output_type": "execute_result"
    }
   ],
   "source": [
    "df_ne = pandas.DataFrame(select_ref_report_dict['NE']).transpose()\n",
    "df_ne.columns = ['Interaction counts for NE']\n",
    "df_ne"
   ]
  },
  {
   "cell_type": "markdown",
   "metadata": {},
   "source": [
    "Within ``NE``, we have four directed interactions and a reference could be selected only for three of these interactions. In addition, there are three undirected interactions that were not selected as reference. Use the keys ``EN`` and ``EE`` to print out the interaction numbers for the two other enrichment categories."
   ]
  },
  {
   "cell_type": "markdown",
   "metadata": {},
   "source": [
    "Alternatively, the same information can be retieved as a formatted string."
   ]
  },
  {
   "cell_type": "code",
   "execution_count": 15,
   "metadata": {},
   "outputs": [
    {
     "name": "stdout",
     "output_type": "stream",
     "text": [
      "[INFO] Report on selection of undirected reference interactions:\n",
      "\t[INFO] Numbers of directed interactions\n",
      "\t\t[INFO] Interactions in NN: 3\n",
      "\t\t[INFO] Interactions in NE: 4\n",
      "\t\t[INFO] Interactions in EN: 5\n",
      "\t\t[INFO] Interactions in EE: 6\n",
      "\t\t[INFO] Total: 18\n",
      "\t[INFO] Numbers of undirected reference interactions\n",
      "\t\t[INFO] Interactions in NN: 3\n",
      "\t\t[INFO] Interactions in NE: 3\n",
      "\t\t[INFO] Interactions in EN: 5\n",
      "\t\t[INFO] Interactions in EE: 5\n",
      "\t\t[INFO] Total: 16\n",
      "\t[INFO] Numbers of missing undirected reference interactions\n",
      "\t\t[INFO] Interactions in NN: 0\n",
      "\t\t[INFO] Interactions in NE: 1\n",
      "\t\t[INFO] Interactions in EN: 0\n",
      "\t\t[INFO] Interactions in EE: 1\n",
      "\t\t[INFO] Total: 2\n",
      "\t[INFO] Numbers undirected interactions\n",
      "\t\t[INFO] Interactions in NN: 3\n",
      "\t\t[INFO] Interactions in NE: 3\n",
      "\t\t[INFO] Interactions in EN: 3\n",
      "\t\t[INFO] Interactions in EE: 3\n",
      "\t\t[INFO] Total: 12\n",
      "[INFO] End of report.\n",
      "\n"
     ]
    }
   ],
   "source": [
    "print(interaction_set.get_select_ref_info_report())"
   ]
  },
  {
   "cell_type": "markdown",
   "metadata": {},
   "source": [
    "In this type of output, it is easy to see that no reference could be selected for two directed interactions, one in ``NE`` and one in ``EE``. This corresponds to the result that we expect for this test dataset."
   ]
  },
  {
   "cell_type": "markdown",
   "metadata": {},
   "source": [
    "Or in form of a table that consists only of two tab separated lines, a header line and a line with values."
   ]
  },
  {
   "cell_type": "code",
   "execution_count": 16,
   "metadata": {
    "scrolled": true
   },
   "outputs": [
    {
     "name": "stdout",
     "output_type": "stream",
     "text": [
      "OUT_PREFIX\tDI_NN\tDI_NE\tDI_EN\tDI_EE\tUIR_NN\tUIR_NE\tUIR_EN\tUIR_EE\tM_UIR_NN\tM_UIR_NE\tM_UIR_EN\tM_UIR_EE\tUI_NN\tUI_NE\tUI_EN\tUI_EE\n",
      "None\t3\t4\t5\t6\t3\t3\t5\t5\t0\t1\t0\t1\t3\t3\t3\t3\n",
      "\n"
     ]
    }
   ],
   "source": [
    "print(interaction_set.get_select_ref_info_table_row())"
   ]
  },
  {
   "cell_type": "markdown",
   "metadata": {},
   "source": [
    "This type of output is useful if want to compile the output from different datasets in one table."
   ]
  },
  {
   "cell_type": "markdown",
   "metadata": {},
   "source": [
    "## Write evaluated and categorized interactions to a Diachromatic interaction file\n",
    "\n",
    "As soon as interactions have been read in to a ``DiachromaticInteractionSet`` object, the interactions can be written out at any time to a file in Diachromatic interaction format using the function ``write_diachromatic_interaction_file``. The function expects a path to an output file as an argument."
   ]
  },
  {
   "cell_type": "code",
   "execution_count": 17,
   "metadata": {},
   "outputs": [],
   "source": [
    "target_file = \"evaluated_and_categorized_interactions.tsv.gz\"\n",
    "write_file_info_dict = interaction_set.write_diachromatic_interaction_file(target_file=target_file)"
   ]
  },
  {
   "cell_type": "markdown",
   "metadata": {},
   "source": [
    "As the other functions of class ``DiachromaticInteractionSet``, this function returns a dictionary with informations about the performed operation."
   ]
  },
  {
   "cell_type": "code",
   "execution_count": 18,
   "metadata": {
    "scrolled": true
   },
   "outputs": [
    {
     "data": {
      "text/html": [
       "<div>\n",
       "<style scoped>\n",
       "    .dataframe tbody tr th:only-of-type {\n",
       "        vertical-align: middle;\n",
       "    }\n",
       "\n",
       "    .dataframe tbody tr th {\n",
       "        vertical-align: top;\n",
       "    }\n",
       "\n",
       "    .dataframe thead th {\n",
       "        text-align: right;\n",
       "    }\n",
       "</style>\n",
       "<table border=\"1\" class=\"dataframe\">\n",
       "  <thead>\n",
       "    <tr style=\"text-align: right;\">\n",
       "      <th></th>\n",
       "      <th>TARGET_FILE</th>\n",
       "      <th>REQUIRED_REPLICATES</th>\n",
       "      <th>N_INCOMPLETE_DATA</th>\n",
       "      <th>N_COMPLETE_DATA</th>\n",
       "    </tr>\n",
       "  </thead>\n",
       "  <tbody>\n",
       "    <tr>\n",
       "      <td>0</td>\n",
       "      <td>evaluated_and_categorized_interactions.tsv.gz</td>\n",
       "      <td>1</td>\n",
       "      <td>0</td>\n",
       "      <td>46</td>\n",
       "    </tr>\n",
       "  </tbody>\n",
       "</table>\n",
       "</div>"
      ],
      "text/plain": [
       "                                     TARGET_FILE  REQUIRED_REPLICATES  \\\n",
       "0  evaluated_and_categorized_interactions.tsv.gz                    1   \n",
       "\n",
       "   N_INCOMPLETE_DATA  N_COMPLETE_DATA  \n",
       "0                  0               46  "
      ]
     },
     "execution_count": 18,
     "metadata": {},
     "output_type": "execute_result"
    }
   ],
   "source": [
    "pandas.DataFrame(write_file_info_dict)"
   ]
  },
  {
   "cell_type": "markdown",
   "metadata": {},
   "source": [
    "The dictionary contains the following information:\n",
    "- ``TARGET_FILE``: Output file in Diachromatic interaction format\n",
    "- ``REQUIRED_REPLICATES``: Chosen number of required replicates (defaults to 1)\n",
    "- ``N_INCOMPLETE_DATA``: Number of interactions that occur in fewer replicates than required\n",
    "- ``N_COMPLETE_DATA``: Number of interactions that occur in required number of replicates and were written to the output file"
   ]
  },
  {
   "cell_type": "markdown",
   "metadata": {},
   "source": [
    "If an interaction set prviously has been evaluated and categorized, as in this case, then the output file will contain two additional columns on the right. Column 10 then contains the negative of the natural logarithm of the P-value and column 11 the interaction category, either ``DI`` or ``UI``. If reference interactions have been selected, then column 11 can also contain ``UIR``. Execute the cell below to view the contents of the generated file."
   ]
  },
  {
   "cell_type": "code",
   "execution_count": 19,
   "metadata": {},
   "outputs": [
    {
     "data": {
      "text/html": [
       "<div>\n",
       "<style scoped>\n",
       "    .dataframe tbody tr th:only-of-type {\n",
       "        vertical-align: middle;\n",
       "    }\n",
       "\n",
       "    .dataframe tbody tr th {\n",
       "        vertical-align: top;\n",
       "    }\n",
       "\n",
       "    .dataframe thead th {\n",
       "        text-align: right;\n",
       "    }\n",
       "</style>\n",
       "<table border=\"1\" class=\"dataframe\">\n",
       "  <thead>\n",
       "    <tr style=\"text-align: right;\">\n",
       "      <th></th>\n",
       "      <th>CHR_D1</th>\n",
       "      <th>STA_D1</th>\n",
       "      <th>END_D1</th>\n",
       "      <th>ENR_CAT_D1</th>\n",
       "      <th>CHR_D2</th>\n",
       "      <th>STA_D2</th>\n",
       "      <th>END_D2</th>\n",
       "      <th>ENR_CAT_D2</th>\n",
       "      <th>RP_S:RP_T</th>\n",
       "      <th>NLN_PVAL</th>\n",
       "      <th>I_CAT</th>\n",
       "    </tr>\n",
       "  </thead>\n",
       "  <tbody>\n",
       "    <tr>\n",
       "      <td>0</td>\n",
       "      <td>chr14</td>\n",
       "      <td>43059116</td>\n",
       "      <td>43059494</td>\n",
       "      <td>N</td>\n",
       "      <td>chr14</td>\n",
       "      <td>43101212</td>\n",
       "      <td>43101810</td>\n",
       "      <td>N</td>\n",
       "      <td>100:1</td>\n",
       "      <td>64.69</td>\n",
       "      <td>DI</td>\n",
       "    </tr>\n",
       "    <tr>\n",
       "      <td>1</td>\n",
       "      <td>chr8</td>\n",
       "      <td>129042054</td>\n",
       "      <td>129044258</td>\n",
       "      <td>N</td>\n",
       "      <td>chr8</td>\n",
       "      <td>129121269</td>\n",
       "      <td>129121986</td>\n",
       "      <td>N</td>\n",
       "      <td>100:2</td>\n",
       "      <td>61.44</td>\n",
       "      <td>DI</td>\n",
       "    </tr>\n",
       "    <tr>\n",
       "      <td>2</td>\n",
       "      <td>chr15</td>\n",
       "      <td>73467156</td>\n",
       "      <td>73468652</td>\n",
       "      <td>N</td>\n",
       "      <td>chr15</td>\n",
       "      <td>73526903</td>\n",
       "      <td>73528438</td>\n",
       "      <td>N</td>\n",
       "      <td>100:3</td>\n",
       "      <td>58.59</td>\n",
       "      <td>DI</td>\n",
       "    </tr>\n",
       "    <tr>\n",
       "      <td>3</td>\n",
       "      <td>chr17</td>\n",
       "      <td>72411026</td>\n",
       "      <td>72411616</td>\n",
       "      <td>N</td>\n",
       "      <td>chr17</td>\n",
       "      <td>72712662</td>\n",
       "      <td>72724357</td>\n",
       "      <td>E</td>\n",
       "      <td>100:1</td>\n",
       "      <td>64.69</td>\n",
       "      <td>DI</td>\n",
       "    </tr>\n",
       "    <tr>\n",
       "      <td>4</td>\n",
       "      <td>chr18</td>\n",
       "      <td>38724804</td>\n",
       "      <td>38726198</td>\n",
       "      <td>N</td>\n",
       "      <td>chr18</td>\n",
       "      <td>76794986</td>\n",
       "      <td>76803172</td>\n",
       "      <td>E</td>\n",
       "      <td>100:2</td>\n",
       "      <td>61.44</td>\n",
       "      <td>DI</td>\n",
       "    </tr>\n",
       "    <tr>\n",
       "      <td>5</td>\n",
       "      <td>chr11</td>\n",
       "      <td>114362648</td>\n",
       "      <td>114362686</td>\n",
       "      <td>N</td>\n",
       "      <td>chr11</td>\n",
       "      <td>114396073</td>\n",
       "      <td>114404234</td>\n",
       "      <td>E</td>\n",
       "      <td>100:3</td>\n",
       "      <td>58.59</td>\n",
       "      <td>DI</td>\n",
       "    </tr>\n",
       "    <tr>\n",
       "      <td>6</td>\n",
       "      <td>chr15</td>\n",
       "      <td>56158017</td>\n",
       "      <td>56158267</td>\n",
       "      <td>N</td>\n",
       "      <td>chr15</td>\n",
       "      <td>56462978</td>\n",
       "      <td>56465983</td>\n",
       "      <td>E</td>\n",
       "      <td>100:4</td>\n",
       "      <td>56.01</td>\n",
       "      <td>DI</td>\n",
       "    </tr>\n",
       "    <tr>\n",
       "      <td>7</td>\n",
       "      <td>chr14</td>\n",
       "      <td>34714080</td>\n",
       "      <td>34716362</td>\n",
       "      <td>E</td>\n",
       "      <td>chr14</td>\n",
       "      <td>50135355</td>\n",
       "      <td>50139051</td>\n",
       "      <td>N</td>\n",
       "      <td>100:1</td>\n",
       "      <td>64.69</td>\n",
       "      <td>DI</td>\n",
       "    </tr>\n",
       "    <tr>\n",
       "      <td>8</td>\n",
       "      <td>chr1</td>\n",
       "      <td>91022201</td>\n",
       "      <td>91023797</td>\n",
       "      <td>E</td>\n",
       "      <td>chr1</td>\n",
       "      <td>116561813</td>\n",
       "      <td>116566655</td>\n",
       "      <td>N</td>\n",
       "      <td>100:2</td>\n",
       "      <td>61.44</td>\n",
       "      <td>DI</td>\n",
       "    </tr>\n",
       "    <tr>\n",
       "      <td>9</td>\n",
       "      <td>chr1</td>\n",
       "      <td>15681566</td>\n",
       "      <td>15697108</td>\n",
       "      <td>E</td>\n",
       "      <td>chr1</td>\n",
       "      <td>19411358</td>\n",
       "      <td>19417940</td>\n",
       "      <td>N</td>\n",
       "      <td>100:3</td>\n",
       "      <td>58.59</td>\n",
       "      <td>DI</td>\n",
       "    </tr>\n",
       "    <tr>\n",
       "      <td>10</td>\n",
       "      <td>chr12</td>\n",
       "      <td>13586326</td>\n",
       "      <td>13591414</td>\n",
       "      <td>E</td>\n",
       "      <td>chr12</td>\n",
       "      <td>101116206</td>\n",
       "      <td>101119138</td>\n",
       "      <td>N</td>\n",
       "      <td>100:4</td>\n",
       "      <td>56.01</td>\n",
       "      <td>DI</td>\n",
       "    </tr>\n",
       "    <tr>\n",
       "      <td>11</td>\n",
       "      <td>chr2</td>\n",
       "      <td>113676580</td>\n",
       "      <td>113686263</td>\n",
       "      <td>E</td>\n",
       "      <td>chr2</td>\n",
       "      <td>202796295</td>\n",
       "      <td>202797013</td>\n",
       "      <td>N</td>\n",
       "      <td>100:5</td>\n",
       "      <td>53.65</td>\n",
       "      <td>DI</td>\n",
       "    </tr>\n",
       "    <tr>\n",
       "      <td>12</td>\n",
       "      <td>chr7</td>\n",
       "      <td>25228385</td>\n",
       "      <td>25228778</td>\n",
       "      <td>E</td>\n",
       "      <td>chr7</td>\n",
       "      <td>42234764</td>\n",
       "      <td>42240281</td>\n",
       "      <td>E</td>\n",
       "      <td>100:1</td>\n",
       "      <td>64.69</td>\n",
       "      <td>DI</td>\n",
       "    </tr>\n",
       "    <tr>\n",
       "      <td>13</td>\n",
       "      <td>chr6</td>\n",
       "      <td>117448209</td>\n",
       "      <td>117455412</td>\n",
       "      <td>E</td>\n",
       "      <td>chr6</td>\n",
       "      <td>152981947</td>\n",
       "      <td>152991467</td>\n",
       "      <td>E</td>\n",
       "      <td>100:2</td>\n",
       "      <td>61.44</td>\n",
       "      <td>DI</td>\n",
       "    </tr>\n",
       "    <tr>\n",
       "      <td>14</td>\n",
       "      <td>chr7</td>\n",
       "      <td>123787495</td>\n",
       "      <td>123793134</td>\n",
       "      <td>E</td>\n",
       "      <td>chr7</td>\n",
       "      <td>141015018</td>\n",
       "      <td>141017643</td>\n",
       "      <td>E</td>\n",
       "      <td>100:3</td>\n",
       "      <td>58.59</td>\n",
       "      <td>DI</td>\n",
       "    </tr>\n",
       "    <tr>\n",
       "      <td>15</td>\n",
       "      <td>chr10</td>\n",
       "      <td>100185111</td>\n",
       "      <td>100188716</td>\n",
       "      <td>E</td>\n",
       "      <td>chr10</td>\n",
       "      <td>100911854</td>\n",
       "      <td>100914842</td>\n",
       "      <td>E</td>\n",
       "      <td>100:4</td>\n",
       "      <td>56.01</td>\n",
       "      <td>DI</td>\n",
       "    </tr>\n",
       "    <tr>\n",
       "      <td>16</td>\n",
       "      <td>chr10</td>\n",
       "      <td>73301814</td>\n",
       "      <td>73302637</td>\n",
       "      <td>E</td>\n",
       "      <td>chr10</td>\n",
       "      <td>112212615</td>\n",
       "      <td>112226039</td>\n",
       "      <td>E</td>\n",
       "      <td>100:5</td>\n",
       "      <td>53.65</td>\n",
       "      <td>DI</td>\n",
       "    </tr>\n",
       "    <tr>\n",
       "      <td>17</td>\n",
       "      <td>chr8</td>\n",
       "      <td>11066997</td>\n",
       "      <td>11069837</td>\n",
       "      <td>E</td>\n",
       "      <td>chr8</td>\n",
       "      <td>11473293</td>\n",
       "      <td>11485455</td>\n",
       "      <td>E</td>\n",
       "      <td>100:6</td>\n",
       "      <td>51.46</td>\n",
       "      <td>DI</td>\n",
       "    </tr>\n",
       "    <tr>\n",
       "      <td>18</td>\n",
       "      <td>chr1</td>\n",
       "      <td>68750175</td>\n",
       "      <td>68752699</td>\n",
       "      <td>N</td>\n",
       "      <td>chr1</td>\n",
       "      <td>68795323</td>\n",
       "      <td>68796512</td>\n",
       "      <td>N</td>\n",
       "      <td>50:51</td>\n",
       "      <td>0.00</td>\n",
       "      <td>UIR</td>\n",
       "    </tr>\n",
       "    <tr>\n",
       "      <td>19</td>\n",
       "      <td>chr10</td>\n",
       "      <td>24701259</td>\n",
       "      <td>24703782</td>\n",
       "      <td>N</td>\n",
       "      <td>chr10</td>\n",
       "      <td>24993210</td>\n",
       "      <td>24994662</td>\n",
       "      <td>N</td>\n",
       "      <td>50:52</td>\n",
       "      <td>0.08</td>\n",
       "      <td>UIR</td>\n",
       "    </tr>\n",
       "    <tr>\n",
       "      <td>20</td>\n",
       "      <td>chr13</td>\n",
       "      <td>77661563</td>\n",
       "      <td>77666713</td>\n",
       "      <td>N</td>\n",
       "      <td>chr13</td>\n",
       "      <td>77716416</td>\n",
       "      <td>77717610</td>\n",
       "      <td>N</td>\n",
       "      <td>50:53</td>\n",
       "      <td>0.17</td>\n",
       "      <td>UIR</td>\n",
       "    </tr>\n",
       "    <tr>\n",
       "      <td>21</td>\n",
       "      <td>chr11</td>\n",
       "      <td>86392415</td>\n",
       "      <td>86393959</td>\n",
       "      <td>N</td>\n",
       "      <td>chr11</td>\n",
       "      <td>125833282</td>\n",
       "      <td>125834157</td>\n",
       "      <td>E</td>\n",
       "      <td>50:51</td>\n",
       "      <td>0.00</td>\n",
       "      <td>UIR</td>\n",
       "    </tr>\n",
       "    <tr>\n",
       "      <td>22</td>\n",
       "      <td>chr4</td>\n",
       "      <td>143079578</td>\n",
       "      <td>143081309</td>\n",
       "      <td>N</td>\n",
       "      <td>chr4</td>\n",
       "      <td>146945582</td>\n",
       "      <td>146955674</td>\n",
       "      <td>E</td>\n",
       "      <td>50:52</td>\n",
       "      <td>0.08</td>\n",
       "      <td>UIR</td>\n",
       "    </tr>\n",
       "    <tr>\n",
       "      <td>23</td>\n",
       "      <td>chr14</td>\n",
       "      <td>97520062</td>\n",
       "      <td>97521143</td>\n",
       "      <td>N</td>\n",
       "      <td>chr14</td>\n",
       "      <td>99641271</td>\n",
       "      <td>99654714</td>\n",
       "      <td>E</td>\n",
       "      <td>50:53</td>\n",
       "      <td>0.17</td>\n",
       "      <td>UIR</td>\n",
       "    </tr>\n",
       "    <tr>\n",
       "      <td>24</td>\n",
       "      <td>chr12</td>\n",
       "      <td>92715804</td>\n",
       "      <td>92721658</td>\n",
       "      <td>E</td>\n",
       "      <td>chr12</td>\n",
       "      <td>97575775</td>\n",
       "      <td>97576200</td>\n",
       "      <td>N</td>\n",
       "      <td>50:51</td>\n",
       "      <td>0.00</td>\n",
       "      <td>UIR</td>\n",
       "    </tr>\n",
       "    <tr>\n",
       "      <td>25</td>\n",
       "      <td>chr3</td>\n",
       "      <td>149470667</td>\n",
       "      <td>149475062</td>\n",
       "      <td>E</td>\n",
       "      <td>chr3</td>\n",
       "      <td>150148068</td>\n",
       "      <td>150150290</td>\n",
       "      <td>N</td>\n",
       "      <td>50:52</td>\n",
       "      <td>0.08</td>\n",
       "      <td>UIR</td>\n",
       "    </tr>\n",
       "    <tr>\n",
       "      <td>26</td>\n",
       "      <td>chr18</td>\n",
       "      <td>31373121</td>\n",
       "      <td>31377878</td>\n",
       "      <td>E</td>\n",
       "      <td>chr18</td>\n",
       "      <td>53036132</td>\n",
       "      <td>53037663</td>\n",
       "      <td>N</td>\n",
       "      <td>50:53</td>\n",
       "      <td>0.17</td>\n",
       "      <td>UIR</td>\n",
       "    </tr>\n",
       "    <tr>\n",
       "      <td>27</td>\n",
       "      <td>chr2</td>\n",
       "      <td>16841469</td>\n",
       "      <td>16846902</td>\n",
       "      <td>E</td>\n",
       "      <td>chr2</td>\n",
       "      <td>17018322</td>\n",
       "      <td>17019298</td>\n",
       "      <td>N</td>\n",
       "      <td>50:54</td>\n",
       "      <td>0.26</td>\n",
       "      <td>UIR</td>\n",
       "    </tr>\n",
       "    <tr>\n",
       "      <td>28</td>\n",
       "      <td>chr14</td>\n",
       "      <td>92748029</td>\n",
       "      <td>92749630</td>\n",
       "      <td>E</td>\n",
       "      <td>chr14</td>\n",
       "      <td>96578956</td>\n",
       "      <td>96580826</td>\n",
       "      <td>N</td>\n",
       "      <td>50:55</td>\n",
       "      <td>0.36</td>\n",
       "      <td>UIR</td>\n",
       "    </tr>\n",
       "    <tr>\n",
       "      <td>29</td>\n",
       "      <td>chr3</td>\n",
       "      <td>185935734</td>\n",
       "      <td>185943372</td>\n",
       "      <td>E</td>\n",
       "      <td>chr3</td>\n",
       "      <td>194132402</td>\n",
       "      <td>194139770</td>\n",
       "      <td>E</td>\n",
       "      <td>50:51</td>\n",
       "      <td>0.00</td>\n",
       "      <td>UIR</td>\n",
       "    </tr>\n",
       "    <tr>\n",
       "      <td>30</td>\n",
       "      <td>chr5</td>\n",
       "      <td>65953726</td>\n",
       "      <td>65970373</td>\n",
       "      <td>E</td>\n",
       "      <td>chr5</td>\n",
       "      <td>71582365</td>\n",
       "      <td>71588637</td>\n",
       "      <td>E</td>\n",
       "      <td>50:52</td>\n",
       "      <td>0.08</td>\n",
       "      <td>UIR</td>\n",
       "    </tr>\n",
       "    <tr>\n",
       "      <td>31</td>\n",
       "      <td>chr5</td>\n",
       "      <td>138607182</td>\n",
       "      <td>138612232</td>\n",
       "      <td>E</td>\n",
       "      <td>chr5</td>\n",
       "      <td>151368315</td>\n",
       "      <td>151371525</td>\n",
       "      <td>E</td>\n",
       "      <td>50:53</td>\n",
       "      <td>0.17</td>\n",
       "      <td>UIR</td>\n",
       "    </tr>\n",
       "    <tr>\n",
       "      <td>32</td>\n",
       "      <td>chr1</td>\n",
       "      <td>23789605</td>\n",
       "      <td>23791509</td>\n",
       "      <td>E</td>\n",
       "      <td>chr1</td>\n",
       "      <td>153951062</td>\n",
       "      <td>153962812</td>\n",
       "      <td>E</td>\n",
       "      <td>50:54</td>\n",
       "      <td>0.26</td>\n",
       "      <td>UIR</td>\n",
       "    </tr>\n",
       "    <tr>\n",
       "      <td>33</td>\n",
       "      <td>chr5</td>\n",
       "      <td>112154251</td>\n",
       "      <td>112162055</td>\n",
       "      <td>E</td>\n",
       "      <td>chr5</td>\n",
       "      <td>115769718</td>\n",
       "      <td>115774925</td>\n",
       "      <td>E</td>\n",
       "      <td>50:55</td>\n",
       "      <td>0.36</td>\n",
       "      <td>UIR</td>\n",
       "    </tr>\n",
       "    <tr>\n",
       "      <td>34</td>\n",
       "      <td>chr8</td>\n",
       "      <td>110169057</td>\n",
       "      <td>110171420</td>\n",
       "      <td>N</td>\n",
       "      <td>chr8</td>\n",
       "      <td>110203244</td>\n",
       "      <td>110203772</td>\n",
       "      <td>N</td>\n",
       "      <td>25:25</td>\n",
       "      <td>0.00</td>\n",
       "      <td>UI</td>\n",
       "    </tr>\n",
       "    <tr>\n",
       "      <td>35</td>\n",
       "      <td>chr21</td>\n",
       "      <td>24706442</td>\n",
       "      <td>24708010</td>\n",
       "      <td>N</td>\n",
       "      <td>chr21</td>\n",
       "      <td>24802647</td>\n",
       "      <td>24806351</td>\n",
       "      <td>N</td>\n",
       "      <td>25:26</td>\n",
       "      <td>0.00</td>\n",
       "      <td>UI</td>\n",
       "    </tr>\n",
       "    <tr>\n",
       "      <td>36</td>\n",
       "      <td>chr1</td>\n",
       "      <td>21038219</td>\n",
       "      <td>21041845</td>\n",
       "      <td>N</td>\n",
       "      <td>chr1</td>\n",
       "      <td>21139524</td>\n",
       "      <td>21140811</td>\n",
       "      <td>N</td>\n",
       "      <td>25:27</td>\n",
       "      <td>0.12</td>\n",
       "      <td>UI</td>\n",
       "    </tr>\n",
       "    <tr>\n",
       "      <td>37</td>\n",
       "      <td>chr7</td>\n",
       "      <td>105237629</td>\n",
       "      <td>105238078</td>\n",
       "      <td>N</td>\n",
       "      <td>chr7</td>\n",
       "      <td>128862293</td>\n",
       "      <td>128872009</td>\n",
       "      <td>E</td>\n",
       "      <td>25:25</td>\n",
       "      <td>0.00</td>\n",
       "      <td>UI</td>\n",
       "    </tr>\n",
       "    <tr>\n",
       "      <td>38</td>\n",
       "      <td>chr6</td>\n",
       "      <td>89716777</td>\n",
       "      <td>89716882</td>\n",
       "      <td>N</td>\n",
       "      <td>chr6</td>\n",
       "      <td>89916736</td>\n",
       "      <td>89920828</td>\n",
       "      <td>E</td>\n",
       "      <td>25:26</td>\n",
       "      <td>0.00</td>\n",
       "      <td>UI</td>\n",
       "    </tr>\n",
       "    <tr>\n",
       "      <td>39</td>\n",
       "      <td>chr9</td>\n",
       "      <td>120719242</td>\n",
       "      <td>120724112</td>\n",
       "      <td>N</td>\n",
       "      <td>chr9</td>\n",
       "      <td>135466848</td>\n",
       "      <td>135469617</td>\n",
       "      <td>E</td>\n",
       "      <td>25:27</td>\n",
       "      <td>0.12</td>\n",
       "      <td>UI</td>\n",
       "    </tr>\n",
       "    <tr>\n",
       "      <td>40</td>\n",
       "      <td>chr14</td>\n",
       "      <td>24167761</td>\n",
       "      <td>24173500</td>\n",
       "      <td>E</td>\n",
       "      <td>chr14</td>\n",
       "      <td>75079406</td>\n",
       "      <td>75087746</td>\n",
       "      <td>N</td>\n",
       "      <td>25:25</td>\n",
       "      <td>0.00</td>\n",
       "      <td>UI</td>\n",
       "    </tr>\n",
       "    <tr>\n",
       "      <td>41</td>\n",
       "      <td>chr12</td>\n",
       "      <td>132700658</td>\n",
       "      <td>132715264</td>\n",
       "      <td>E</td>\n",
       "      <td>chr12</td>\n",
       "      <td>133104166</td>\n",
       "      <td>133106284</td>\n",
       "      <td>N</td>\n",
       "      <td>25:26</td>\n",
       "      <td>0.00</td>\n",
       "      <td>UI</td>\n",
       "    </tr>\n",
       "    <tr>\n",
       "      <td>42</td>\n",
       "      <td>chr8</td>\n",
       "      <td>142668614</td>\n",
       "      <td>142673077</td>\n",
       "      <td>E</td>\n",
       "      <td>chr8</td>\n",
       "      <td>142903855</td>\n",
       "      <td>142904484</td>\n",
       "      <td>N</td>\n",
       "      <td>25:27</td>\n",
       "      <td>0.12</td>\n",
       "      <td>UI</td>\n",
       "    </tr>\n",
       "    <tr>\n",
       "      <td>43</td>\n",
       "      <td>chr17</td>\n",
       "      <td>80806561</td>\n",
       "      <td>80813742</td>\n",
       "      <td>E</td>\n",
       "      <td>chr17</td>\n",
       "      <td>80880355</td>\n",
       "      <td>80886553</td>\n",
       "      <td>E</td>\n",
       "      <td>25:25</td>\n",
       "      <td>0.00</td>\n",
       "      <td>UI</td>\n",
       "    </tr>\n",
       "    <tr>\n",
       "      <td>44</td>\n",
       "      <td>chr2</td>\n",
       "      <td>197200527</td>\n",
       "      <td>197202476</td>\n",
       "      <td>E</td>\n",
       "      <td>chr2</td>\n",
       "      <td>197253179</td>\n",
       "      <td>197256110</td>\n",
       "      <td>E</td>\n",
       "      <td>25:26</td>\n",
       "      <td>0.00</td>\n",
       "      <td>UI</td>\n",
       "    </tr>\n",
       "    <tr>\n",
       "      <td>45</td>\n",
       "      <td>chr2</td>\n",
       "      <td>139005552</td>\n",
       "      <td>139005761</td>\n",
       "      <td>E</td>\n",
       "      <td>chr2</td>\n",
       "      <td>139026311</td>\n",
       "      <td>139029719</td>\n",
       "      <td>E</td>\n",
       "      <td>25:27</td>\n",
       "      <td>0.12</td>\n",
       "      <td>UI</td>\n",
       "    </tr>\n",
       "  </tbody>\n",
       "</table>\n",
       "</div>"
      ],
      "text/plain": [
       "   CHR_D1     STA_D1     END_D1 ENR_CAT_D1 CHR_D2     STA_D2     END_D2  \\\n",
       "0   chr14   43059116   43059494          N  chr14   43101212   43101810   \n",
       "1    chr8  129042054  129044258          N   chr8  129121269  129121986   \n",
       "2   chr15   73467156   73468652          N  chr15   73526903   73528438   \n",
       "3   chr17   72411026   72411616          N  chr17   72712662   72724357   \n",
       "4   chr18   38724804   38726198          N  chr18   76794986   76803172   \n",
       "5   chr11  114362648  114362686          N  chr11  114396073  114404234   \n",
       "6   chr15   56158017   56158267          N  chr15   56462978   56465983   \n",
       "7   chr14   34714080   34716362          E  chr14   50135355   50139051   \n",
       "8    chr1   91022201   91023797          E   chr1  116561813  116566655   \n",
       "9    chr1   15681566   15697108          E   chr1   19411358   19417940   \n",
       "10  chr12   13586326   13591414          E  chr12  101116206  101119138   \n",
       "11   chr2  113676580  113686263          E   chr2  202796295  202797013   \n",
       "12   chr7   25228385   25228778          E   chr7   42234764   42240281   \n",
       "13   chr6  117448209  117455412          E   chr6  152981947  152991467   \n",
       "14   chr7  123787495  123793134          E   chr7  141015018  141017643   \n",
       "15  chr10  100185111  100188716          E  chr10  100911854  100914842   \n",
       "16  chr10   73301814   73302637          E  chr10  112212615  112226039   \n",
       "17   chr8   11066997   11069837          E   chr8   11473293   11485455   \n",
       "18   chr1   68750175   68752699          N   chr1   68795323   68796512   \n",
       "19  chr10   24701259   24703782          N  chr10   24993210   24994662   \n",
       "20  chr13   77661563   77666713          N  chr13   77716416   77717610   \n",
       "21  chr11   86392415   86393959          N  chr11  125833282  125834157   \n",
       "22   chr4  143079578  143081309          N   chr4  146945582  146955674   \n",
       "23  chr14   97520062   97521143          N  chr14   99641271   99654714   \n",
       "24  chr12   92715804   92721658          E  chr12   97575775   97576200   \n",
       "25   chr3  149470667  149475062          E   chr3  150148068  150150290   \n",
       "26  chr18   31373121   31377878          E  chr18   53036132   53037663   \n",
       "27   chr2   16841469   16846902          E   chr2   17018322   17019298   \n",
       "28  chr14   92748029   92749630          E  chr14   96578956   96580826   \n",
       "29   chr3  185935734  185943372          E   chr3  194132402  194139770   \n",
       "30   chr5   65953726   65970373          E   chr5   71582365   71588637   \n",
       "31   chr5  138607182  138612232          E   chr5  151368315  151371525   \n",
       "32   chr1   23789605   23791509          E   chr1  153951062  153962812   \n",
       "33   chr5  112154251  112162055          E   chr5  115769718  115774925   \n",
       "34   chr8  110169057  110171420          N   chr8  110203244  110203772   \n",
       "35  chr21   24706442   24708010          N  chr21   24802647   24806351   \n",
       "36   chr1   21038219   21041845          N   chr1   21139524   21140811   \n",
       "37   chr7  105237629  105238078          N   chr7  128862293  128872009   \n",
       "38   chr6   89716777   89716882          N   chr6   89916736   89920828   \n",
       "39   chr9  120719242  120724112          N   chr9  135466848  135469617   \n",
       "40  chr14   24167761   24173500          E  chr14   75079406   75087746   \n",
       "41  chr12  132700658  132715264          E  chr12  133104166  133106284   \n",
       "42   chr8  142668614  142673077          E   chr8  142903855  142904484   \n",
       "43  chr17   80806561   80813742          E  chr17   80880355   80886553   \n",
       "44   chr2  197200527  197202476          E   chr2  197253179  197256110   \n",
       "45   chr2  139005552  139005761          E   chr2  139026311  139029719   \n",
       "\n",
       "   ENR_CAT_D2 RP_S:RP_T  NLN_PVAL I_CAT  \n",
       "0           N     100:1     64.69    DI  \n",
       "1           N     100:2     61.44    DI  \n",
       "2           N     100:3     58.59    DI  \n",
       "3           E     100:1     64.69    DI  \n",
       "4           E     100:2     61.44    DI  \n",
       "5           E     100:3     58.59    DI  \n",
       "6           E     100:4     56.01    DI  \n",
       "7           N     100:1     64.69    DI  \n",
       "8           N     100:2     61.44    DI  \n",
       "9           N     100:3     58.59    DI  \n",
       "10          N     100:4     56.01    DI  \n",
       "11          N     100:5     53.65    DI  \n",
       "12          E     100:1     64.69    DI  \n",
       "13          E     100:2     61.44    DI  \n",
       "14          E     100:3     58.59    DI  \n",
       "15          E     100:4     56.01    DI  \n",
       "16          E     100:5     53.65    DI  \n",
       "17          E     100:6     51.46    DI  \n",
       "18          N     50:51      0.00   UIR  \n",
       "19          N     50:52      0.08   UIR  \n",
       "20          N     50:53      0.17   UIR  \n",
       "21          E     50:51      0.00   UIR  \n",
       "22          E     50:52      0.08   UIR  \n",
       "23          E     50:53      0.17   UIR  \n",
       "24          N     50:51      0.00   UIR  \n",
       "25          N     50:52      0.08   UIR  \n",
       "26          N     50:53      0.17   UIR  \n",
       "27          N     50:54      0.26   UIR  \n",
       "28          N     50:55      0.36   UIR  \n",
       "29          E     50:51      0.00   UIR  \n",
       "30          E     50:52      0.08   UIR  \n",
       "31          E     50:53      0.17   UIR  \n",
       "32          E     50:54      0.26   UIR  \n",
       "33          E     50:55      0.36   UIR  \n",
       "34          N     25:25      0.00    UI  \n",
       "35          N     25:26      0.00    UI  \n",
       "36          N     25:27      0.12    UI  \n",
       "37          E     25:25      0.00    UI  \n",
       "38          E     25:26      0.00    UI  \n",
       "39          E     25:27      0.12    UI  \n",
       "40          N     25:25      0.00    UI  \n",
       "41          N     25:26      0.00    UI  \n",
       "42          N     25:27      0.12    UI  \n",
       "43          E     25:25      0.00    UI  \n",
       "44          E     25:26      0.00    UI  \n",
       "45          E     25:27      0.12    UI  "
      ]
     },
     "execution_count": 19,
     "metadata": {},
     "output_type": "execute_result"
    }
   ],
   "source": [
    "df_interaction_file = pandas.read_csv('evaluated_and_categorized_interactions.tsv.gz', compression='gzip', sep='\\t', header=None)\n",
    "df_interaction_file.columns = ['CHR_D1','STA_D1','END_D1','ENR_CAT_D1',\n",
    "                               'CHR_D2','STA_D2','END_D2','ENR_CAT_D2',\n",
    "                               'RP_S:RP_T',\n",
    "                               'NLN_PVAL',\n",
    "                               'I_CAT']\n",
    "df_interaction_file"
   ]
  }
 ],
 "metadata": {
  "kernelspec": {
   "display_name": "Python 3 (diachscripts_p37env)",
   "language": "python",
   "name": "diachscripts_p37env"
  },
  "language_info": {
   "codemirror_mode": {
    "name": "ipython",
    "version": 3
   },
   "file_extension": ".py",
   "mimetype": "text/x-python",
   "name": "python",
   "nbconvert_exporter": "python",
   "pygments_lexer": "ipython3",
   "version": "3.7.4"
  }
 },
 "nbformat": 4,
 "nbformat_minor": 2
}
