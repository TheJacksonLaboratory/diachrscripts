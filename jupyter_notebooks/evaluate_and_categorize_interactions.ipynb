{
 "cells": [
  {
   "cell_type": "markdown",
   "metadata": {},
   "source": [
    "# Evaluate and categorize interactions\n",
    "\n",
    "In this notebook, we describe how to use the modules of ``diachrscripts`` to calculate P-values for interactions and, based on this, to divide them into the categories directed (``DI``) and undirected (``UI``). We also show how to select a set of undirected reference interactions (``UIR``) from the unndirected interactions, which are comparable to the directed interactions in terms of enrichment status of digests and read pair number per interactions."
   ]
  },
  {
   "cell_type": "markdown",
   "metadata": {},
   "source": [
    "## Setting up the notebook"
   ]
  },
  {
   "cell_type": "code",
   "execution_count": 1,
   "metadata": {},
   "outputs": [],
   "source": [
    "import sys\n",
    "import os\n",
    "import pandas\n",
    "sys.path.append(\"..\")\n",
    "from diachr import DiachromaticInteractionSet"
   ]
  },
  {
   "cell_type": "markdown",
   "metadata": {},
   "source": [
    "In this notebook, we use only the class ``DiachromaticInteractionSet`` and the following functions from this class:\n",
    "- ``parse_file``: Reading in interaction files\n",
    "- ``get_read_file_info_dict``: Get information about files that have already been read\n",
    "- ``get_read_file_info_report``: Get information about files that have already been read in form of a formatted string\n",
    "- ``evaluate_and_categorize_interactions``: Calculation of P-values and assignment to categories ``DI`` and ``UI``\n",
    "- ``get_eval_cat_info_report``: Get information about P-value calculation and categorization in form of a formatted string\n",
    "- ``get_eval_cat_info_table_row``: Get information about P-value calculation and categorization in form of a table\n",
    "- ``select_reference_interactions``: Select undirected reference interactions ``UIR`` from ``UI``\n",
    "- ``get_select_ref_info_report``: Get information about reference interaction selection in form of a formatted string\n",
    "- ``get_select_ref_info_table_row``: Get information about reference interaction selection in form of a table\n",
    "- ``write_diachromatic_interaction_file``: Writing to interaction file\n",
    "- ``get_write_file_info_report``: Get information about written interaction file in form of a formatted string\n",
    "- ``get_write_file_info_table_row``: Get information about written interaction file in form of a table"
   ]
  },
  {
   "cell_type": "markdown",
   "metadata": {},
   "source": [
    "## Test file\n",
    "\n",
    "To test this section of the analysis, we constructed a test file that contains a certain number of directed and undirected interactions. In addition, this file contains interactions that cannot be significant at a P-value threshold of ``0.01`` because they do not have enough read pairs. Finally, we have chosen the numbers of read pairs in such a way that no matching undirected reference interaction can be selected for some directed interactions. More details on this file can be found below in this notebook and in the unit test in which it is used."
   ]
  },
  {
   "cell_type": "code",
   "execution_count": 2,
   "metadata": {},
   "outputs": [
    {
     "name": "stdout",
     "output_type": "stream",
     "text": [
      "chr14\t43059116\t43059494\tN\tchr14\t43101212\t43101810\tN\t100:1\r\n",
      "chr8\t129042054\t129044258\tN\tchr8\t129121269\t129121986\tN\t100:2\r\n",
      "chr15\t73467156\t73468652\tN\tchr15\t73526903\t73528438\tN\t100:3\r\n",
      "chr17\t72411026\t72411616\tN\tchr17\t72712662\t72724357\tE\t100:1\r\n",
      "chr18\t38724804\t38726198\tN\tchr18\t76794986\t76803172\tE\t100:2\r\n",
      "chr11\t114362648\t114362686\tN\tchr11\t114396073\t114404234\tE\t100:3\r\n",
      "chr15\t56158017\t56158267\tN\tchr15\t56462978\t56465983\tE\t100:4\r\n",
      "chr14\t34714080\t34716362\tE\tchr14\t50135355\t50139051\tN\t100:1\r\n",
      "chr1\t91022201\t91023797\tE\tchr1\t116561813\t116566655\tN\t100:2\r\n",
      "chr1\t15681566\t15697108\tE\tchr1\t19411358\t19417940\tN\t100:3\r\n"
     ]
    }
   ],
   "source": [
    "!head ../tests/data/test_04/diachromatic_interaction_file.tsv"
   ]
  },
  {
   "cell_type": "markdown",
   "metadata": {},
   "source": [
    "## Reading in a Diachromatic interaction file\n",
    "\n",
    "A central class in ``diachrscripts`` is the class ``DiachromaticInteractionSet``. It contain functions for reading, evaluating, categorization and writing of interactions. This class is instantiated as follows:"
   ]
  },
  {
   "cell_type": "code",
   "execution_count": 3,
   "metadata": {},
   "outputs": [],
   "source": [
    "interaction_set = DiachromaticInteractionSet()"
   ]
  },
  {
   "cell_type": "markdown",
   "metadata": {},
   "source": [
    "The function ``parse_file`` can be used to read interactions from Diachromatic interaction files:"
   ]
  },
  {
   "cell_type": "code",
   "execution_count": 4,
   "metadata": {},
   "outputs": [],
   "source": [
    "interaction_set.parse_file(i_file=\"../tests/data/test_04/diachromatic_interaction_file.tsv\", verbose=False)"
   ]
  },
  {
   "cell_type": "markdown",
   "metadata": {},
   "source": [
    "For a given ``DiachromaticInteractionSet`` object, this function can also be used multiple times, with the interactions remaining unique with regard to their coordinates (see combining interactions). For this notebook, we only read in one interaction file."
   ]
  },
  {
   "cell_type": "markdown",
   "metadata": {},
   "source": [
    "An object of the class ``DiachromaticInteractionSet`` keeps track of which interaction files have been read and how many interactions were in each file. This information is stored in a dictionary that can be queried as follows:"
   ]
  },
  {
   "cell_type": "code",
   "execution_count": 5,
   "metadata": {
    "scrolled": true
   },
   "outputs": [
    {
     "data": {
      "text/html": [
       "<div>\n",
       "<style scoped>\n",
       "    .dataframe tbody tr th:only-of-type {\n",
       "        vertical-align: middle;\n",
       "    }\n",
       "\n",
       "    .dataframe tbody tr th {\n",
       "        vertical-align: top;\n",
       "    }\n",
       "\n",
       "    .dataframe thead th {\n",
       "        text-align: right;\n",
       "    }\n",
       "</style>\n",
       "<table border=\"1\" class=\"dataframe\">\n",
       "  <thead>\n",
       "    <tr style=\"text-align: right;\">\n",
       "      <th></th>\n",
       "      <th>I_FILE</th>\n",
       "      <th>I_NUM</th>\n",
       "      <th>MIN_RP_NUM</th>\n",
       "      <th>MIN_DIST</th>\n",
       "      <th>I_NUM_SKIPPED_RP</th>\n",
       "      <th>I_NUM_SKIPPED_DIST</th>\n",
       "      <th>I_NUM_ADDED</th>\n",
       "      <th>I_SET_SIZE</th>\n",
       "    </tr>\n",
       "  </thead>\n",
       "  <tbody>\n",
       "    <tr>\n",
       "      <td>0</td>\n",
       "      <td>../tests/data/test_04/diachromatic_interaction...</td>\n",
       "      <td>50</td>\n",
       "      <td>0</td>\n",
       "      <td>0</td>\n",
       "      <td>0</td>\n",
       "      <td>0</td>\n",
       "      <td>50</td>\n",
       "      <td>50</td>\n",
       "    </tr>\n",
       "  </tbody>\n",
       "</table>\n",
       "</div>"
      ],
      "text/plain": [
       "                                              I_FILE  I_NUM  MIN_RP_NUM  \\\n",
       "0  ../tests/data/test_04/diachromatic_interaction...     50           0   \n",
       "\n",
       "   MIN_DIST  I_NUM_SKIPPED_RP  I_NUM_SKIPPED_DIST  I_NUM_ADDED  I_SET_SIZE  \n",
       "0         0                 0                   0           50          50  "
      ]
     },
     "execution_count": 5,
     "metadata": {},
     "output_type": "execute_result"
    }
   ],
   "source": [
    "read_file_info_dict = interaction_set.get_read_file_info_dict()\n",
    "pandas.DataFrame(read_file_info_dict)"
   ]
  },
  {
   "cell_type": "markdown",
   "metadata": {},
   "source": [
    "Alternatively, the same information can be returned in form of a string that is formatted as follows:"
   ]
  },
  {
   "cell_type": "code",
   "execution_count": 6,
   "metadata": {},
   "outputs": [
    {
     "name": "stdout",
     "output_type": "stream",
     "text": [
      "[INFO] Report on reading files:\n",
      "\t[INFO] Read interaction data from 1 files:\n",
      "\t\t[INFO] 50 interactions from: \n",
      "\t\t\t[INFO] ../tests/data/test_04/diachromatic_interaction_file.tsv\n",
      "\t\t\t[INFO] Minimum number of read pairs: 0\n",
      "\t\t\t[INFO] Skipped because less than 0 read pairs: 0\n",
      "\t\t\t[INFO] Minimum interaction distance: 0\n",
      "\t\t\t[INFO] Skipped because shorter than 0 bp: 0\n",
      "\t\t\t[INFO] Added to set: 50\n",
      "\t\t\t[INFO] Set size: 50\n",
      "\t[INFO] The interaction set has 50 interactions.\n",
      "[INFO] End of report.\n",
      "\n"
     ]
    }
   ],
   "source": [
    "print(interaction_set.get_read_file_info_report())"
   ]
  },
  {
   "cell_type": "markdown",
   "metadata": {},
   "source": [
    "Such strings can be used to compile the output of scripts in which different modules are used."
   ]
  },
  {
   "cell_type": "markdown",
   "metadata": {},
   "source": [
    "### Warning when reading the same file multiple times\n",
    "\n",
    "The function ``DiachromaticInteractionSet.parse_file`` can be used multiple times for a given interaction set. However, it is not possible to add the same file more than once. In this case, a warning is issued and the interaction set remains unchanged (see combining interactions)."
   ]
  },
  {
   "cell_type": "markdown",
   "metadata": {},
   "source": [
    "## P-value threshold\n",
    "\n",
    "We use an empirical method to determine a P-value threshold for a given dataset so that the FDR remains below a chosen threshold. This method is demonstrated in a separate notebook. The test file used in this notebook is not suitable for estimating the FDR. Therefore, we are specifying an arbitary P-value threshold here."
   ]
  },
  {
   "cell_type": "code",
   "execution_count": 7,
   "metadata": {},
   "outputs": [],
   "source": [
    "pval_thresh = 0.01"
   ]
  },
  {
   "cell_type": "markdown",
   "metadata": {},
   "source": [
    "## Calculate P-values and divide into directed and undirected interactions\n",
    "\n",
    "We test the imbalance of simple and twisted read pairs within individual interactions using a two-sided binomial test. The function ``evaluate_and_categorize_interactions`` can be used to calculate P-values for all interactions in an ``DiachromaticInteractionSet`` object. The function takes a P-value threshold as an argument. Interactions that do not have enough read pairs to have a P-value that is less than or equal to the threshold are discarded, i.e. they are removed from the interaction set. All other interactions are categorized as undirected (``UI``), if they have a P-value greater than the threshold value, and as directed (``DI``), if they have a P-value less than or equal to the threshold value."
   ]
  },
  {
   "cell_type": "code",
   "execution_count": 8,
   "metadata": {},
   "outputs": [],
   "source": [
    "eval_cat_info_dict = interaction_set.evaluate_and_categorize_interactions(pval_thresh=pval_thresh, verbose=False)"
   ]
  },
  {
   "cell_type": "markdown",
   "metadata": {},
   "source": [
    "The function ``evaluate_and_categorize_interactions`` returns a dictionary that contains information about the evaluation and categorization of interactions."
   ]
  },
  {
   "cell_type": "code",
   "execution_count": 9,
   "metadata": {},
   "outputs": [
    {
     "data": {
      "text/html": [
       "<div>\n",
       "<style scoped>\n",
       "    .dataframe tbody tr th:only-of-type {\n",
       "        vertical-align: middle;\n",
       "    }\n",
       "\n",
       "    .dataframe tbody tr th {\n",
       "        vertical-align: top;\n",
       "    }\n",
       "\n",
       "    .dataframe thead th {\n",
       "        text-align: right;\n",
       "    }\n",
       "</style>\n",
       "<table border=\"1\" class=\"dataframe\">\n",
       "  <thead>\n",
       "    <tr style=\"text-align: right;\">\n",
       "      <th></th>\n",
       "      <th>PVAL_THRESH</th>\n",
       "      <th>MIN_RP</th>\n",
       "      <th>MIN_RP_PVAL</th>\n",
       "      <th>N_PROCESSED</th>\n",
       "      <th>N_DISCARDED</th>\n",
       "      <th>N_UNDIRECTED</th>\n",
       "      <th>N_DIRECTED</th>\n",
       "    </tr>\n",
       "  </thead>\n",
       "  <tbody>\n",
       "    <tr>\n",
       "      <td>0</td>\n",
       "      <td>0.01</td>\n",
       "      <td>8</td>\n",
       "      <td>0.007813</td>\n",
       "      <td>50</td>\n",
       "      <td>4</td>\n",
       "      <td>28</td>\n",
       "      <td>18</td>\n",
       "    </tr>\n",
       "  </tbody>\n",
       "</table>\n",
       "</div>"
      ],
      "text/plain": [
       "   PVAL_THRESH  MIN_RP  MIN_RP_PVAL  N_PROCESSED  N_DISCARDED  N_UNDIRECTED  \\\n",
       "0         0.01       8     0.007813           50            4            28   \n",
       "\n",
       "   N_DIRECTED  \n",
       "0          18  "
      ]
     },
     "execution_count": 9,
     "metadata": {},
     "output_type": "execute_result"
    }
   ],
   "source": [
    "pandas.DataFrame(eval_cat_info_dict)"
   ]
  },
  {
   "cell_type": "markdown",
   "metadata": {},
   "source": [
    "Alternatively, the same information can be retieved as a formatted string."
   ]
  },
  {
   "cell_type": "code",
   "execution_count": 10,
   "metadata": {},
   "outputs": [
    {
     "name": "stdout",
     "output_type": "stream",
     "text": [
      "[INFO] Report on evaluation and categorization interactions:\n",
      "\t[INFO] P-value threshold: 0.01000\n",
      "\t[INFO] Minimum number of read pairs required for significance: 8\n",
      "\t[INFO] Smallest P-value with 8 read pairs: 0.00781\n",
      "\t[INFO] Processed interactions: 50\n",
      "\t[INFO] Discarded interactions: 4\n",
      "\t[INFO] Not significant interactions (UI): 28\n",
      "\t[INFO] Significant interactions (DI): 18\n",
      "[INFO] End of report.\n",
      "\n"
     ]
    }
   ],
   "source": [
    "print(interaction_set.get_eval_cat_info_report())"
   ]
  },
  {
   "cell_type": "markdown",
   "metadata": {},
   "source": [
    "Or in form of a table that consists only of two tab separated lines, a header line and a line with values."
   ]
  },
  {
   "cell_type": "code",
   "execution_count": 11,
   "metadata": {},
   "outputs": [
    {
     "name": "stdout",
     "output_type": "stream",
     "text": [
      ":TR_EVAL_CAT:\tDESCRIPTION\tPVAL_THRESH\tMIN_RP\tMIN_RP_PVAL\tN_PROCESSED\tN_DISCARDED\tN_UNDIRECTED\tN_DIRECTED\n",
      ":TR_EVAL_CAT:\tNone\t0.01000\t8\t0.00781\t50\t4\t28\t18\n",
      "\n"
     ]
    }
   ],
   "source": [
    "print(interaction_set.get_eval_cat_info_table_row())"
   ]
  },
  {
   "cell_type": "markdown",
   "metadata": {},
   "source": [
    "This type of output is useful if want to compile the output from different datasets in one table."
   ]
  },
  {
   "cell_type": "markdown",
   "metadata": {},
   "source": [
    "### Warnings"
   ]
  },
  {
   "cell_type": "markdown",
   "metadata": {},
   "source": [
    "An interaction set can be evaluated and categorized multiple times. However, if a larger P-value is used than before, then  interactions may already have been discarded because they did not have enough read pairs at the smaller threshold. Therefore, it is only possible to evaluate and re-categorize an interaction set, if a smaller threshold value is used as before. Otherwise, a warning is issued and the interaction set remains unchanged. Execute the cell below to trigger a warning."
   ]
  },
  {
   "cell_type": "code",
   "execution_count": 12,
   "metadata": {},
   "outputs": [
    {
     "name": "stderr",
     "output_type": "stream",
     "text": [
      "../diachr/diachromatic_interaction_set.py:238: UserWarning: This interaction set has previously categorized using an equal or smaller threshold value!\n",
      "Nothing is done. Interaction set remains unchanged.\n",
      "  warnings.warn(\"This interaction set has previously categorized using an equal or smaller threshold value!\" + '\\n'\n"
     ]
    }
   ],
   "source": [
    "pval_thresh = 0.02\n",
    "eval_cat_info_dict = interaction_set.evaluate_and_categorize_interactions(pval_thresh=pval_thresh, verbose=False)"
   ]
  },
  {
   "cell_type": "markdown",
   "metadata": {},
   "source": [
    "## Select undirected reference interactions\n",
    "\n",
    "We use a binomial test with a fixed P-value threshold to categorize interactions as directed or undirected. The power of the test depends on the total number of read pairs per interaction, which can differ for different interactions. The test has a lower power for interactions with few read pairs. In order to compare directed with undirected interactions, regardless of the number of read pairs per interaction, we select a comparison set of reference interactions (``UIR``) from the undirected interactions (``UI``) that is comparable to the directed interactions (``DI``) with regard to the numbers of read pairs per interaction. Interactions also differ with regard to the enrichment states of the digests involved (``E`` stands for *enriched* and ``N`` for *not enriched*). Since it can be assumed that the enrichment status of interactions (``NN``,``NE``,``EN`` or ``EE``) affects the number of read pairs per interaction, we carry out the selection in different enrichment categories separately. For a given interaction set, the selction of reference interactions can be performed with the function ``DiachromaticInteractionSet.select_reference_interactions``:"
   ]
  },
  {
   "cell_type": "code",
   "execution_count": 13,
   "metadata": {
    "scrolled": true
   },
   "outputs": [
    {
     "name": "stdout",
     "output_type": "stream",
     "text": [
      "[INFO] Select reference interactions ...\n",
      "\t[INFO] Treating NE and EN as one category ...\n",
      "\t[INFO] First pass: Count directed interactions for different read pair counts ...\n",
      "\t[INFO] Second pass: Select undirected reference interactions for different read pair counts ...\n",
      "[INFO] ... done.\n"
     ]
    }
   ],
   "source": [
    "interaction_set.shuffle_inter_dict(random_seed=1)\n",
    "select_ref_report_dict = interaction_set.select_reference_interactions_2(verbose=True)"
   ]
  },
  {
   "cell_type": "markdown",
   "metadata": {},
   "source": [
    "In a first run, the function determines the numbers of directed interactions for different read pair numbers per interaction. In a second run, the function tries to selected the same number of undirected reference interactions for each read pair number."
   ]
  },
  {
   "cell_type": "markdown",
   "metadata": {},
   "source": [
    "It can happen that there is no undirected reference interaction for a certain number of read pairs per interaction. However, because there are many more undirected than directed interactions, such cases are rare. To keep track of such cases, the function ``select_reference_interactions`` returns a dictionary that contains, for each interaction enrichment category, information on how many directed, undirected, undirected reference interactions there are and how many reference interactions are missing. We also use this dictionary to test the function."
   ]
  },
  {
   "cell_type": "markdown",
   "metadata": {},
   "source": [
    "The dictionary returned is nested, with the first key being the enrichment status (``NN``,``NE``,``EN`` or``EE``) and the second key being the interaction category (``DI``,``UIR``,``M_UIR`` or ``UI``). Execute the cell below to print out the interaction counts for the enrichment category ``NN``."
   ]
  },
  {
   "cell_type": "code",
   "execution_count": 14,
   "metadata": {},
   "outputs": [
    {
     "data": {
      "text/html": [
       "<div>\n",
       "<style scoped>\n",
       "    .dataframe tbody tr th:only-of-type {\n",
       "        vertical-align: middle;\n",
       "    }\n",
       "\n",
       "    .dataframe tbody tr th {\n",
       "        vertical-align: top;\n",
       "    }\n",
       "\n",
       "    .dataframe thead th {\n",
       "        text-align: right;\n",
       "    }\n",
       "</style>\n",
       "<table border=\"1\" class=\"dataframe\">\n",
       "  <thead>\n",
       "    <tr style=\"text-align: right;\">\n",
       "      <th></th>\n",
       "      <th>Interaction counts for NN</th>\n",
       "    </tr>\n",
       "  </thead>\n",
       "  <tbody>\n",
       "    <tr>\n",
       "      <td>DI</td>\n",
       "      <td>3</td>\n",
       "    </tr>\n",
       "    <tr>\n",
       "      <td>UIR</td>\n",
       "      <td>3</td>\n",
       "    </tr>\n",
       "    <tr>\n",
       "      <td>M_UIR</td>\n",
       "      <td>0</td>\n",
       "    </tr>\n",
       "    <tr>\n",
       "      <td>UI</td>\n",
       "      <td>3</td>\n",
       "    </tr>\n",
       "  </tbody>\n",
       "</table>\n",
       "</div>"
      ],
      "text/plain": [
       "       Interaction counts for NN\n",
       "DI                             3\n",
       "UIR                            3\n",
       "M_UIR                          0\n",
       "UI                             3"
      ]
     },
     "execution_count": 14,
     "metadata": {},
     "output_type": "execute_result"
    }
   ],
   "source": [
    "df_nn = pandas.DataFrame(select_ref_report_dict['NN']).transpose()\n",
    "df_nn.columns = ['Interaction counts for NN']\n",
    "df_nn"
   ]
  },
  {
   "cell_type": "markdown",
   "metadata": {},
   "source": [
    "within ``NN``, we have three directed interactions and an undirected reference could be selected for each of these interactions. In addition, there are three undirected interactions that were not selected as reference."
   ]
  },
  {
   "cell_type": "markdown",
   "metadata": {},
   "source": [
    "Now execute the cell below to print out the interaction counts for the enrichment category ``NE``."
   ]
  },
  {
   "cell_type": "code",
   "execution_count": 15,
   "metadata": {},
   "outputs": [
    {
     "data": {
      "text/html": [
       "<div>\n",
       "<style scoped>\n",
       "    .dataframe tbody tr th:only-of-type {\n",
       "        vertical-align: middle;\n",
       "    }\n",
       "\n",
       "    .dataframe tbody tr th {\n",
       "        vertical-align: top;\n",
       "    }\n",
       "\n",
       "    .dataframe thead th {\n",
       "        text-align: right;\n",
       "    }\n",
       "</style>\n",
       "<table border=\"1\" class=\"dataframe\">\n",
       "  <thead>\n",
       "    <tr style=\"text-align: right;\">\n",
       "      <th></th>\n",
       "      <th>Interaction counts for NE</th>\n",
       "    </tr>\n",
       "  </thead>\n",
       "  <tbody>\n",
       "    <tr>\n",
       "      <td>DI</td>\n",
       "      <td>4</td>\n",
       "    </tr>\n",
       "    <tr>\n",
       "      <td>UIR</td>\n",
       "      <td>3</td>\n",
       "    </tr>\n",
       "    <tr>\n",
       "      <td>M_UIR</td>\n",
       "      <td>1</td>\n",
       "    </tr>\n",
       "    <tr>\n",
       "      <td>UI</td>\n",
       "      <td>3</td>\n",
       "    </tr>\n",
       "  </tbody>\n",
       "</table>\n",
       "</div>"
      ],
      "text/plain": [
       "       Interaction counts for NE\n",
       "DI                             4\n",
       "UIR                            3\n",
       "M_UIR                          1\n",
       "UI                             3"
      ]
     },
     "execution_count": 15,
     "metadata": {},
     "output_type": "execute_result"
    }
   ],
   "source": [
    "df_ne = pandas.DataFrame(select_ref_report_dict['NE']).transpose()\n",
    "df_ne.columns = ['Interaction counts for NE']\n",
    "df_ne"
   ]
  },
  {
   "cell_type": "markdown",
   "metadata": {},
   "source": [
    "Within ``NE``, we have four directed interactions and a reference could be selected only for three of these interactions. In addition, there are three undirected interactions that were not selected as reference. Use the keys ``EN`` and ``EE`` to print out the interaction numbers for the two other enrichment categories."
   ]
  },
  {
   "cell_type": "markdown",
   "metadata": {},
   "source": [
    "Alternatively, the same information can be retieved as a formatted string."
   ]
  },
  {
   "cell_type": "code",
   "execution_count": 16,
   "metadata": {},
   "outputs": [
    {
     "name": "stdout",
     "output_type": "stream",
     "text": [
      "[INFO] Report on selection of undirected reference interactions:\n",
      "\t[INFO] Numbers of directed interactions\n",
      "\t\t[INFO] Interactions in NN: 3\n",
      "\t\t[INFO] Interactions in NE: 4\n",
      "\t\t[INFO] Interactions in EN: 5\n",
      "\t\t[INFO] Interactions in EE: 6\n",
      "\t\t[INFO] Total: 18\n",
      "\t[INFO] Numbers of undirected reference interactions\n",
      "\t\t[INFO] Interactions in NN: 3\n",
      "\t\t[INFO] Interactions in NE: 3\n",
      "\t\t[INFO] Interactions in EN: 5\n",
      "\t\t[INFO] Interactions in EE: 5\n",
      "\t\t[INFO] Total: 16\n",
      "\t[INFO] Numbers of missing undirected reference interactions\n",
      "\t\t[INFO] Interactions in NN: 0\n",
      "\t\t[INFO] Interactions in NE: 1\n",
      "\t\t[INFO] Interactions in EN: 0\n",
      "\t\t[INFO] Interactions in EE: 1\n",
      "\t\t[INFO] Total: 2\n",
      "\t[INFO] Numbers undirected interactions\n",
      "\t\t[INFO] Interactions in NN: 3\n",
      "\t\t[INFO] Interactions in NE: 3\n",
      "\t\t[INFO] Interactions in EN: 3\n",
      "\t\t[INFO] Interactions in EE: 3\n",
      "\t\t[INFO] Total: 12\n",
      "[INFO] End of report.\n",
      "\n"
     ]
    }
   ],
   "source": [
    "print(interaction_set.get_select_ref_info_report())"
   ]
  },
  {
   "cell_type": "markdown",
   "metadata": {},
   "source": [
    "In this type of output, it is easy to see that no reference could be selected for two directed interactions, one in ``NE`` and one in ``EE``. This is what we expect for this test dataset."
   ]
  },
  {
   "cell_type": "markdown",
   "metadata": {},
   "source": [
    "Or in form of a table that consists only of two tab separated lines, a header line and a line with values."
   ]
  },
  {
   "cell_type": "code",
   "execution_count": 17,
   "metadata": {
    "scrolled": true
   },
   "outputs": [
    {
     "name": "stdout",
     "output_type": "stream",
     "text": [
      ":TR_SELECT:\tDESCRIPTION\tDI_NN\tDI_NE\tDI_EN\tDI_EE\tDI_TOTAL\tUIR_NN\tUIR_NE\tUIR_EN\tUIR_EE\tUIR_TOTAL\tM_UIR_NN\tM_UIR_NE\tM_UIR_EN\tM_UIR_EE\tM_UIR_TOTAL\tUI_NN\tUI_NE\tUI_EN\tUI_EE\tUI_TOTAL\n",
      ":TR_SELECT:\tNone\t3\t4\t5\t6\t18\t3\t3\t5\t5\t16\t0\t1\t0\t1\t2\t3\t3\t3\t3\t12\n",
      "\n"
     ]
    }
   ],
   "source": [
    "print(interaction_set.get_select_ref_info_table_row())"
   ]
  },
  {
   "cell_type": "markdown",
   "metadata": {},
   "source": [
    "This type of output is useful if want to compile the output from different datasets in one table."
   ]
  },
  {
   "cell_type": "markdown",
   "metadata": {},
   "source": [
    "## Write evaluated and categorized interactions to a Diachromatic interaction file\n",
    "\n",
    "As soon as interactions have been read in to a ``DiachromaticInteractionSet`` object, they can be written out to a file in Diachromatic interaction format using the function ``write_diachromatic_interaction_file``. This function is also used when combining and is decribed in this context. In this case, only a path to an output file is passed to the function."
   ]
  },
  {
   "cell_type": "code",
   "execution_count": 18,
   "metadata": {},
   "outputs": [],
   "source": [
    "target_file = \"evaluated_and_categorized_interactions.tsv.gz\"\n",
    "write_file_info_dict = interaction_set.write_diachromatic_interaction_file(target_file=target_file)"
   ]
  },
  {
   "cell_type": "markdown",
   "metadata": {},
   "source": [
    "As the other functions of class ``DiachromaticInteractionSet``, this function returns a dictionary with informations about the performed operation."
   ]
  },
  {
   "cell_type": "code",
   "execution_count": 19,
   "metadata": {
    "scrolled": true
   },
   "outputs": [
    {
     "data": {
      "text/html": [
       "<div>\n",
       "<style scoped>\n",
       "    .dataframe tbody tr th:only-of-type {\n",
       "        vertical-align: middle;\n",
       "    }\n",
       "\n",
       "    .dataframe tbody tr th {\n",
       "        vertical-align: top;\n",
       "    }\n",
       "\n",
       "    .dataframe thead th {\n",
       "        text-align: right;\n",
       "    }\n",
       "</style>\n",
       "<table border=\"1\" class=\"dataframe\">\n",
       "  <thead>\n",
       "    <tr style=\"text-align: right;\">\n",
       "      <th></th>\n",
       "      <th>TARGET_FILE</th>\n",
       "      <th>REQUIRED_REPLICATES</th>\n",
       "      <th>N_INCOMPLETE_DATA</th>\n",
       "      <th>N_COMPLETE_DATA</th>\n",
       "    </tr>\n",
       "  </thead>\n",
       "  <tbody>\n",
       "    <tr>\n",
       "      <td>0</td>\n",
       "      <td>evaluated_and_categorized_interactions.tsv.gz</td>\n",
       "      <td>1</td>\n",
       "      <td>0</td>\n",
       "      <td>46</td>\n",
       "    </tr>\n",
       "  </tbody>\n",
       "</table>\n",
       "</div>"
      ],
      "text/plain": [
       "                                     TARGET_FILE  REQUIRED_REPLICATES  \\\n",
       "0  evaluated_and_categorized_interactions.tsv.gz                    1   \n",
       "\n",
       "   N_INCOMPLETE_DATA  N_COMPLETE_DATA  \n",
       "0                  0               46  "
      ]
     },
     "execution_count": 19,
     "metadata": {},
     "output_type": "execute_result"
    }
   ],
   "source": [
    "pandas.DataFrame(write_file_info_dict)"
   ]
  },
  {
   "cell_type": "markdown",
   "metadata": {},
   "source": [
    "By default the number of required replicates is 1, i.e. all interactions from the interaction set have been written to file.\n",
    "\n",
    "There are other functions that embed the contents of the dictionary in strings that can be used for logging (see combine interactions)."
   ]
  },
  {
   "cell_type": "markdown",
   "metadata": {},
   "source": [
    "### Diachromatic11 interaction format\n",
    "\n",
    "If an interaction set prviously has been evaluated and categorized, as in this case, then the output file will contain two additional columns on the right. Column 10 then contains the negative of the natural logarithm of the P-value and column 11 the interaction category, either ``DI`` or ``UI``. If reference interactions have been selected, then column 11 can also contain ``UIR``. Execute the cell below to view the contents of the generated file."
   ]
  },
  {
   "cell_type": "code",
   "execution_count": 20,
   "metadata": {
    "scrolled": true
   },
   "outputs": [
    {
     "data": {
      "text/html": [
       "<div>\n",
       "<style scoped>\n",
       "    .dataframe tbody tr th:only-of-type {\n",
       "        vertical-align: middle;\n",
       "    }\n",
       "\n",
       "    .dataframe tbody tr th {\n",
       "        vertical-align: top;\n",
       "    }\n",
       "\n",
       "    .dataframe thead th {\n",
       "        text-align: right;\n",
       "    }\n",
       "</style>\n",
       "<table border=\"1\" class=\"dataframe\">\n",
       "  <thead>\n",
       "    <tr style=\"text-align: right;\">\n",
       "      <th></th>\n",
       "      <th>CHR_D1</th>\n",
       "      <th>STA_D1</th>\n",
       "      <th>END_D1</th>\n",
       "      <th>ENR_CAT_D1</th>\n",
       "      <th>CHR_D2</th>\n",
       "      <th>STA_D2</th>\n",
       "      <th>END_D2</th>\n",
       "      <th>ENR_CAT_D2</th>\n",
       "      <th>RP_S:RP_T</th>\n",
       "      <th>NLN_PVAL</th>\n",
       "      <th>I_CAT</th>\n",
       "    </tr>\n",
       "  </thead>\n",
       "  <tbody>\n",
       "    <tr>\n",
       "      <td>0</td>\n",
       "      <td>chr15</td>\n",
       "      <td>73467156</td>\n",
       "      <td>73468652</td>\n",
       "      <td>N</td>\n",
       "      <td>chr15</td>\n",
       "      <td>73526903</td>\n",
       "      <td>73528438</td>\n",
       "      <td>N</td>\n",
       "      <td>100:3</td>\n",
       "      <td>25.44</td>\n",
       "      <td>DI</td>\n",
       "    </tr>\n",
       "    <tr>\n",
       "      <td>1</td>\n",
       "      <td>chr1</td>\n",
       "      <td>15681566</td>\n",
       "      <td>15697108</td>\n",
       "      <td>E</td>\n",
       "      <td>chr1</td>\n",
       "      <td>19411358</td>\n",
       "      <td>19417940</td>\n",
       "      <td>N</td>\n",
       "      <td>100:3</td>\n",
       "      <td>25.44</td>\n",
       "      <td>DI</td>\n",
       "    </tr>\n",
       "    <tr>\n",
       "      <td>2</td>\n",
       "      <td>chr17</td>\n",
       "      <td>80806561</td>\n",
       "      <td>80813742</td>\n",
       "      <td>E</td>\n",
       "      <td>chr17</td>\n",
       "      <td>80880355</td>\n",
       "      <td>80886553</td>\n",
       "      <td>E</td>\n",
       "      <td>25:25</td>\n",
       "      <td>0.00</td>\n",
       "      <td>UI</td>\n",
       "    </tr>\n",
       "    <tr>\n",
       "      <td>3</td>\n",
       "      <td>chr5</td>\n",
       "      <td>112154251</td>\n",
       "      <td>112162055</td>\n",
       "      <td>E</td>\n",
       "      <td>chr5</td>\n",
       "      <td>115769718</td>\n",
       "      <td>115774925</td>\n",
       "      <td>E</td>\n",
       "      <td>50:55</td>\n",
       "      <td>0.16</td>\n",
       "      <td>UIR</td>\n",
       "    </tr>\n",
       "    <tr>\n",
       "      <td>4</td>\n",
       "      <td>chr11</td>\n",
       "      <td>114362648</td>\n",
       "      <td>114362686</td>\n",
       "      <td>N</td>\n",
       "      <td>chr11</td>\n",
       "      <td>114396073</td>\n",
       "      <td>114404234</td>\n",
       "      <td>E</td>\n",
       "      <td>100:3</td>\n",
       "      <td>25.44</td>\n",
       "      <td>DI</td>\n",
       "    </tr>\n",
       "    <tr>\n",
       "      <td>5</td>\n",
       "      <td>chr18</td>\n",
       "      <td>31373121</td>\n",
       "      <td>31377878</td>\n",
       "      <td>E</td>\n",
       "      <td>chr18</td>\n",
       "      <td>53036132</td>\n",
       "      <td>53037663</td>\n",
       "      <td>N</td>\n",
       "      <td>50:53</td>\n",
       "      <td>0.07</td>\n",
       "      <td>UIR</td>\n",
       "    </tr>\n",
       "    <tr>\n",
       "      <td>6</td>\n",
       "      <td>chr7</td>\n",
       "      <td>25228385</td>\n",
       "      <td>25228778</td>\n",
       "      <td>E</td>\n",
       "      <td>chr7</td>\n",
       "      <td>42234764</td>\n",
       "      <td>42240281</td>\n",
       "      <td>E</td>\n",
       "      <td>100:1</td>\n",
       "      <td>28.09</td>\n",
       "      <td>DI</td>\n",
       "    </tr>\n",
       "    <tr>\n",
       "      <td>7</td>\n",
       "      <td>chr2</td>\n",
       "      <td>113676580</td>\n",
       "      <td>113686263</td>\n",
       "      <td>E</td>\n",
       "      <td>chr2</td>\n",
       "      <td>202796295</td>\n",
       "      <td>202797013</td>\n",
       "      <td>N</td>\n",
       "      <td>100:5</td>\n",
       "      <td>23.30</td>\n",
       "      <td>DI</td>\n",
       "    </tr>\n",
       "    <tr>\n",
       "      <td>8</td>\n",
       "      <td>chr9</td>\n",
       "      <td>120719242</td>\n",
       "      <td>120724112</td>\n",
       "      <td>N</td>\n",
       "      <td>chr9</td>\n",
       "      <td>135466848</td>\n",
       "      <td>135469617</td>\n",
       "      <td>E</td>\n",
       "      <td>25:27</td>\n",
       "      <td>0.05</td>\n",
       "      <td>UI</td>\n",
       "    </tr>\n",
       "    <tr>\n",
       "      <td>9</td>\n",
       "      <td>chr10</td>\n",
       "      <td>100185111</td>\n",
       "      <td>100188716</td>\n",
       "      <td>E</td>\n",
       "      <td>chr10</td>\n",
       "      <td>100911854</td>\n",
       "      <td>100914842</td>\n",
       "      <td>E</td>\n",
       "      <td>100:4</td>\n",
       "      <td>24.33</td>\n",
       "      <td>DI</td>\n",
       "    </tr>\n",
       "    <tr>\n",
       "      <td>10</td>\n",
       "      <td>chr2</td>\n",
       "      <td>197200527</td>\n",
       "      <td>197202476</td>\n",
       "      <td>E</td>\n",
       "      <td>chr2</td>\n",
       "      <td>197253179</td>\n",
       "      <td>197256110</td>\n",
       "      <td>E</td>\n",
       "      <td>25:26</td>\n",
       "      <td>0.00</td>\n",
       "      <td>UI</td>\n",
       "    </tr>\n",
       "    <tr>\n",
       "      <td>11</td>\n",
       "      <td>chr13</td>\n",
       "      <td>77661563</td>\n",
       "      <td>77666713</td>\n",
       "      <td>N</td>\n",
       "      <td>chr13</td>\n",
       "      <td>77716416</td>\n",
       "      <td>77717610</td>\n",
       "      <td>N</td>\n",
       "      <td>50:53</td>\n",
       "      <td>0.07</td>\n",
       "      <td>UIR</td>\n",
       "    </tr>\n",
       "    <tr>\n",
       "      <td>12</td>\n",
       "      <td>chr6</td>\n",
       "      <td>89716777</td>\n",
       "      <td>89716882</td>\n",
       "      <td>N</td>\n",
       "      <td>chr6</td>\n",
       "      <td>89916736</td>\n",
       "      <td>89920828</td>\n",
       "      <td>E</td>\n",
       "      <td>25:26</td>\n",
       "      <td>0.00</td>\n",
       "      <td>UI</td>\n",
       "    </tr>\n",
       "    <tr>\n",
       "      <td>13</td>\n",
       "      <td>chr21</td>\n",
       "      <td>24706442</td>\n",
       "      <td>24708010</td>\n",
       "      <td>N</td>\n",
       "      <td>chr21</td>\n",
       "      <td>24802647</td>\n",
       "      <td>24806351</td>\n",
       "      <td>N</td>\n",
       "      <td>25:26</td>\n",
       "      <td>0.00</td>\n",
       "      <td>UI</td>\n",
       "    </tr>\n",
       "    <tr>\n",
       "      <td>14</td>\n",
       "      <td>chr3</td>\n",
       "      <td>149470667</td>\n",
       "      <td>149475062</td>\n",
       "      <td>E</td>\n",
       "      <td>chr3</td>\n",
       "      <td>150148068</td>\n",
       "      <td>150150290</td>\n",
       "      <td>N</td>\n",
       "      <td>50:52</td>\n",
       "      <td>0.04</td>\n",
       "      <td>UIR</td>\n",
       "    </tr>\n",
       "    <tr>\n",
       "      <td>15</td>\n",
       "      <td>chr8</td>\n",
       "      <td>142668614</td>\n",
       "      <td>142673077</td>\n",
       "      <td>E</td>\n",
       "      <td>chr8</td>\n",
       "      <td>142903855</td>\n",
       "      <td>142904484</td>\n",
       "      <td>N</td>\n",
       "      <td>25:27</td>\n",
       "      <td>0.05</td>\n",
       "      <td>UI</td>\n",
       "    </tr>\n",
       "    <tr>\n",
       "      <td>16</td>\n",
       "      <td>chr8</td>\n",
       "      <td>11066997</td>\n",
       "      <td>11069837</td>\n",
       "      <td>E</td>\n",
       "      <td>chr8</td>\n",
       "      <td>11473293</td>\n",
       "      <td>11485455</td>\n",
       "      <td>E</td>\n",
       "      <td>100:6</td>\n",
       "      <td>22.35</td>\n",
       "      <td>DI</td>\n",
       "    </tr>\n",
       "    <tr>\n",
       "      <td>17</td>\n",
       "      <td>chr11</td>\n",
       "      <td>86392415</td>\n",
       "      <td>86393959</td>\n",
       "      <td>N</td>\n",
       "      <td>chr11</td>\n",
       "      <td>125833282</td>\n",
       "      <td>125834157</td>\n",
       "      <td>E</td>\n",
       "      <td>50:51</td>\n",
       "      <td>0.00</td>\n",
       "      <td>UIR</td>\n",
       "    </tr>\n",
       "    <tr>\n",
       "      <td>18</td>\n",
       "      <td>chr8</td>\n",
       "      <td>110169057</td>\n",
       "      <td>110171420</td>\n",
       "      <td>N</td>\n",
       "      <td>chr8</td>\n",
       "      <td>110203244</td>\n",
       "      <td>110203772</td>\n",
       "      <td>N</td>\n",
       "      <td>25:25</td>\n",
       "      <td>0.00</td>\n",
       "      <td>UI</td>\n",
       "    </tr>\n",
       "    <tr>\n",
       "      <td>19</td>\n",
       "      <td>chr12</td>\n",
       "      <td>13586326</td>\n",
       "      <td>13591414</td>\n",
       "      <td>E</td>\n",
       "      <td>chr12</td>\n",
       "      <td>101116206</td>\n",
       "      <td>101119138</td>\n",
       "      <td>N</td>\n",
       "      <td>100:4</td>\n",
       "      <td>24.33</td>\n",
       "      <td>DI</td>\n",
       "    </tr>\n",
       "    <tr>\n",
       "      <td>20</td>\n",
       "      <td>chr17</td>\n",
       "      <td>72411026</td>\n",
       "      <td>72411616</td>\n",
       "      <td>N</td>\n",
       "      <td>chr17</td>\n",
       "      <td>72712662</td>\n",
       "      <td>72724357</td>\n",
       "      <td>E</td>\n",
       "      <td>100:1</td>\n",
       "      <td>28.09</td>\n",
       "      <td>DI</td>\n",
       "    </tr>\n",
       "    <tr>\n",
       "      <td>21</td>\n",
       "      <td>chr1</td>\n",
       "      <td>68750175</td>\n",
       "      <td>68752699</td>\n",
       "      <td>N</td>\n",
       "      <td>chr1</td>\n",
       "      <td>68795323</td>\n",
       "      <td>68796512</td>\n",
       "      <td>N</td>\n",
       "      <td>50:51</td>\n",
       "      <td>0.00</td>\n",
       "      <td>UIR</td>\n",
       "    </tr>\n",
       "    <tr>\n",
       "      <td>22</td>\n",
       "      <td>chr12</td>\n",
       "      <td>132700658</td>\n",
       "      <td>132715264</td>\n",
       "      <td>E</td>\n",
       "      <td>chr12</td>\n",
       "      <td>133104166</td>\n",
       "      <td>133106284</td>\n",
       "      <td>N</td>\n",
       "      <td>25:26</td>\n",
       "      <td>0.00</td>\n",
       "      <td>UI</td>\n",
       "    </tr>\n",
       "    <tr>\n",
       "      <td>23</td>\n",
       "      <td>chr14</td>\n",
       "      <td>97520062</td>\n",
       "      <td>97521143</td>\n",
       "      <td>N</td>\n",
       "      <td>chr14</td>\n",
       "      <td>99641271</td>\n",
       "      <td>99654714</td>\n",
       "      <td>E</td>\n",
       "      <td>50:53</td>\n",
       "      <td>0.07</td>\n",
       "      <td>UIR</td>\n",
       "    </tr>\n",
       "    <tr>\n",
       "      <td>24</td>\n",
       "      <td>chr2</td>\n",
       "      <td>139005552</td>\n",
       "      <td>139005761</td>\n",
       "      <td>E</td>\n",
       "      <td>chr2</td>\n",
       "      <td>139026311</td>\n",
       "      <td>139029719</td>\n",
       "      <td>E</td>\n",
       "      <td>25:27</td>\n",
       "      <td>0.05</td>\n",
       "      <td>UI</td>\n",
       "    </tr>\n",
       "    <tr>\n",
       "      <td>25</td>\n",
       "      <td>chr7</td>\n",
       "      <td>123787495</td>\n",
       "      <td>123793134</td>\n",
       "      <td>E</td>\n",
       "      <td>chr7</td>\n",
       "      <td>141015018</td>\n",
       "      <td>141017643</td>\n",
       "      <td>E</td>\n",
       "      <td>100:3</td>\n",
       "      <td>25.44</td>\n",
       "      <td>DI</td>\n",
       "    </tr>\n",
       "    <tr>\n",
       "      <td>26</td>\n",
       "      <td>chr4</td>\n",
       "      <td>143079578</td>\n",
       "      <td>143081309</td>\n",
       "      <td>N</td>\n",
       "      <td>chr4</td>\n",
       "      <td>146945582</td>\n",
       "      <td>146955674</td>\n",
       "      <td>E</td>\n",
       "      <td>50:52</td>\n",
       "      <td>0.04</td>\n",
       "      <td>UIR</td>\n",
       "    </tr>\n",
       "    <tr>\n",
       "      <td>27</td>\n",
       "      <td>chr14</td>\n",
       "      <td>43059116</td>\n",
       "      <td>43059494</td>\n",
       "      <td>N</td>\n",
       "      <td>chr14</td>\n",
       "      <td>43101212</td>\n",
       "      <td>43101810</td>\n",
       "      <td>N</td>\n",
       "      <td>100:1</td>\n",
       "      <td>28.09</td>\n",
       "      <td>DI</td>\n",
       "    </tr>\n",
       "    <tr>\n",
       "      <td>28</td>\n",
       "      <td>chr3</td>\n",
       "      <td>185935734</td>\n",
       "      <td>185943372</td>\n",
       "      <td>E</td>\n",
       "      <td>chr3</td>\n",
       "      <td>194132402</td>\n",
       "      <td>194139770</td>\n",
       "      <td>E</td>\n",
       "      <td>50:51</td>\n",
       "      <td>0.00</td>\n",
       "      <td>UIR</td>\n",
       "    </tr>\n",
       "    <tr>\n",
       "      <td>29</td>\n",
       "      <td>chr1</td>\n",
       "      <td>23789605</td>\n",
       "      <td>23791509</td>\n",
       "      <td>E</td>\n",
       "      <td>chr1</td>\n",
       "      <td>153951062</td>\n",
       "      <td>153962812</td>\n",
       "      <td>E</td>\n",
       "      <td>50:54</td>\n",
       "      <td>0.11</td>\n",
       "      <td>UIR</td>\n",
       "    </tr>\n",
       "    <tr>\n",
       "      <td>30</td>\n",
       "      <td>chr10</td>\n",
       "      <td>24701259</td>\n",
       "      <td>24703782</td>\n",
       "      <td>N</td>\n",
       "      <td>chr10</td>\n",
       "      <td>24993210</td>\n",
       "      <td>24994662</td>\n",
       "      <td>N</td>\n",
       "      <td>50:52</td>\n",
       "      <td>0.04</td>\n",
       "      <td>UIR</td>\n",
       "    </tr>\n",
       "    <tr>\n",
       "      <td>31</td>\n",
       "      <td>chr2</td>\n",
       "      <td>16841469</td>\n",
       "      <td>16846902</td>\n",
       "      <td>E</td>\n",
       "      <td>chr2</td>\n",
       "      <td>17018322</td>\n",
       "      <td>17019298</td>\n",
       "      <td>N</td>\n",
       "      <td>50:54</td>\n",
       "      <td>0.11</td>\n",
       "      <td>UIR</td>\n",
       "    </tr>\n",
       "    <tr>\n",
       "      <td>32</td>\n",
       "      <td>chr7</td>\n",
       "      <td>105237629</td>\n",
       "      <td>105238078</td>\n",
       "      <td>N</td>\n",
       "      <td>chr7</td>\n",
       "      <td>128862293</td>\n",
       "      <td>128872009</td>\n",
       "      <td>E</td>\n",
       "      <td>25:25</td>\n",
       "      <td>0.00</td>\n",
       "      <td>UI</td>\n",
       "    </tr>\n",
       "    <tr>\n",
       "      <td>33</td>\n",
       "      <td>chr8</td>\n",
       "      <td>129042054</td>\n",
       "      <td>129044258</td>\n",
       "      <td>N</td>\n",
       "      <td>chr8</td>\n",
       "      <td>129121269</td>\n",
       "      <td>129121986</td>\n",
       "      <td>N</td>\n",
       "      <td>100:2</td>\n",
       "      <td>26.68</td>\n",
       "      <td>DI</td>\n",
       "    </tr>\n",
       "    <tr>\n",
       "      <td>34</td>\n",
       "      <td>chr14</td>\n",
       "      <td>24167761</td>\n",
       "      <td>24173500</td>\n",
       "      <td>E</td>\n",
       "      <td>chr14</td>\n",
       "      <td>75079406</td>\n",
       "      <td>75087746</td>\n",
       "      <td>N</td>\n",
       "      <td>25:25</td>\n",
       "      <td>0.00</td>\n",
       "      <td>UI</td>\n",
       "    </tr>\n",
       "    <tr>\n",
       "      <td>35</td>\n",
       "      <td>chr15</td>\n",
       "      <td>56158017</td>\n",
       "      <td>56158267</td>\n",
       "      <td>N</td>\n",
       "      <td>chr15</td>\n",
       "      <td>56462978</td>\n",
       "      <td>56465983</td>\n",
       "      <td>E</td>\n",
       "      <td>100:4</td>\n",
       "      <td>24.33</td>\n",
       "      <td>DI</td>\n",
       "    </tr>\n",
       "    <tr>\n",
       "      <td>36</td>\n",
       "      <td>chr6</td>\n",
       "      <td>117448209</td>\n",
       "      <td>117455412</td>\n",
       "      <td>E</td>\n",
       "      <td>chr6</td>\n",
       "      <td>152981947</td>\n",
       "      <td>152991467</td>\n",
       "      <td>E</td>\n",
       "      <td>100:2</td>\n",
       "      <td>26.68</td>\n",
       "      <td>DI</td>\n",
       "    </tr>\n",
       "    <tr>\n",
       "      <td>37</td>\n",
       "      <td>chr12</td>\n",
       "      <td>92715804</td>\n",
       "      <td>92721658</td>\n",
       "      <td>E</td>\n",
       "      <td>chr12</td>\n",
       "      <td>97575775</td>\n",
       "      <td>97576200</td>\n",
       "      <td>N</td>\n",
       "      <td>50:51</td>\n",
       "      <td>0.00</td>\n",
       "      <td>UIR</td>\n",
       "    </tr>\n",
       "    <tr>\n",
       "      <td>38</td>\n",
       "      <td>chr5</td>\n",
       "      <td>65953726</td>\n",
       "      <td>65970373</td>\n",
       "      <td>E</td>\n",
       "      <td>chr5</td>\n",
       "      <td>71582365</td>\n",
       "      <td>71588637</td>\n",
       "      <td>E</td>\n",
       "      <td>50:52</td>\n",
       "      <td>0.04</td>\n",
       "      <td>UIR</td>\n",
       "    </tr>\n",
       "    <tr>\n",
       "      <td>39</td>\n",
       "      <td>chr14</td>\n",
       "      <td>92748029</td>\n",
       "      <td>92749630</td>\n",
       "      <td>E</td>\n",
       "      <td>chr14</td>\n",
       "      <td>96578956</td>\n",
       "      <td>96580826</td>\n",
       "      <td>N</td>\n",
       "      <td>50:55</td>\n",
       "      <td>0.16</td>\n",
       "      <td>UIR</td>\n",
       "    </tr>\n",
       "    <tr>\n",
       "      <td>40</td>\n",
       "      <td>chr5</td>\n",
       "      <td>138607182</td>\n",
       "      <td>138612232</td>\n",
       "      <td>E</td>\n",
       "      <td>chr5</td>\n",
       "      <td>151368315</td>\n",
       "      <td>151371525</td>\n",
       "      <td>E</td>\n",
       "      <td>50:53</td>\n",
       "      <td>0.07</td>\n",
       "      <td>UIR</td>\n",
       "    </tr>\n",
       "    <tr>\n",
       "      <td>41</td>\n",
       "      <td>chr14</td>\n",
       "      <td>34714080</td>\n",
       "      <td>34716362</td>\n",
       "      <td>E</td>\n",
       "      <td>chr14</td>\n",
       "      <td>50135355</td>\n",
       "      <td>50139051</td>\n",
       "      <td>N</td>\n",
       "      <td>100:1</td>\n",
       "      <td>28.09</td>\n",
       "      <td>DI</td>\n",
       "    </tr>\n",
       "    <tr>\n",
       "      <td>42</td>\n",
       "      <td>chr10</td>\n",
       "      <td>73301814</td>\n",
       "      <td>73302637</td>\n",
       "      <td>E</td>\n",
       "      <td>chr10</td>\n",
       "      <td>112212615</td>\n",
       "      <td>112226039</td>\n",
       "      <td>E</td>\n",
       "      <td>100:5</td>\n",
       "      <td>23.30</td>\n",
       "      <td>DI</td>\n",
       "    </tr>\n",
       "    <tr>\n",
       "      <td>43</td>\n",
       "      <td>chr18</td>\n",
       "      <td>38724804</td>\n",
       "      <td>38726198</td>\n",
       "      <td>N</td>\n",
       "      <td>chr18</td>\n",
       "      <td>76794986</td>\n",
       "      <td>76803172</td>\n",
       "      <td>E</td>\n",
       "      <td>100:2</td>\n",
       "      <td>26.68</td>\n",
       "      <td>DI</td>\n",
       "    </tr>\n",
       "    <tr>\n",
       "      <td>44</td>\n",
       "      <td>chr1</td>\n",
       "      <td>21038219</td>\n",
       "      <td>21041845</td>\n",
       "      <td>N</td>\n",
       "      <td>chr1</td>\n",
       "      <td>21139524</td>\n",
       "      <td>21140811</td>\n",
       "      <td>N</td>\n",
       "      <td>25:27</td>\n",
       "      <td>0.05</td>\n",
       "      <td>UI</td>\n",
       "    </tr>\n",
       "    <tr>\n",
       "      <td>45</td>\n",
       "      <td>chr1</td>\n",
       "      <td>91022201</td>\n",
       "      <td>91023797</td>\n",
       "      <td>E</td>\n",
       "      <td>chr1</td>\n",
       "      <td>116561813</td>\n",
       "      <td>116566655</td>\n",
       "      <td>N</td>\n",
       "      <td>100:2</td>\n",
       "      <td>26.68</td>\n",
       "      <td>DI</td>\n",
       "    </tr>\n",
       "  </tbody>\n",
       "</table>\n",
       "</div>"
      ],
      "text/plain": [
       "   CHR_D1     STA_D1     END_D1 ENR_CAT_D1 CHR_D2     STA_D2     END_D2  \\\n",
       "0   chr15   73467156   73468652          N  chr15   73526903   73528438   \n",
       "1    chr1   15681566   15697108          E   chr1   19411358   19417940   \n",
       "2   chr17   80806561   80813742          E  chr17   80880355   80886553   \n",
       "3    chr5  112154251  112162055          E   chr5  115769718  115774925   \n",
       "4   chr11  114362648  114362686          N  chr11  114396073  114404234   \n",
       "5   chr18   31373121   31377878          E  chr18   53036132   53037663   \n",
       "6    chr7   25228385   25228778          E   chr7   42234764   42240281   \n",
       "7    chr2  113676580  113686263          E   chr2  202796295  202797013   \n",
       "8    chr9  120719242  120724112          N   chr9  135466848  135469617   \n",
       "9   chr10  100185111  100188716          E  chr10  100911854  100914842   \n",
       "10   chr2  197200527  197202476          E   chr2  197253179  197256110   \n",
       "11  chr13   77661563   77666713          N  chr13   77716416   77717610   \n",
       "12   chr6   89716777   89716882          N   chr6   89916736   89920828   \n",
       "13  chr21   24706442   24708010          N  chr21   24802647   24806351   \n",
       "14   chr3  149470667  149475062          E   chr3  150148068  150150290   \n",
       "15   chr8  142668614  142673077          E   chr8  142903855  142904484   \n",
       "16   chr8   11066997   11069837          E   chr8   11473293   11485455   \n",
       "17  chr11   86392415   86393959          N  chr11  125833282  125834157   \n",
       "18   chr8  110169057  110171420          N   chr8  110203244  110203772   \n",
       "19  chr12   13586326   13591414          E  chr12  101116206  101119138   \n",
       "20  chr17   72411026   72411616          N  chr17   72712662   72724357   \n",
       "21   chr1   68750175   68752699          N   chr1   68795323   68796512   \n",
       "22  chr12  132700658  132715264          E  chr12  133104166  133106284   \n",
       "23  chr14   97520062   97521143          N  chr14   99641271   99654714   \n",
       "24   chr2  139005552  139005761          E   chr2  139026311  139029719   \n",
       "25   chr7  123787495  123793134          E   chr7  141015018  141017643   \n",
       "26   chr4  143079578  143081309          N   chr4  146945582  146955674   \n",
       "27  chr14   43059116   43059494          N  chr14   43101212   43101810   \n",
       "28   chr3  185935734  185943372          E   chr3  194132402  194139770   \n",
       "29   chr1   23789605   23791509          E   chr1  153951062  153962812   \n",
       "30  chr10   24701259   24703782          N  chr10   24993210   24994662   \n",
       "31   chr2   16841469   16846902          E   chr2   17018322   17019298   \n",
       "32   chr7  105237629  105238078          N   chr7  128862293  128872009   \n",
       "33   chr8  129042054  129044258          N   chr8  129121269  129121986   \n",
       "34  chr14   24167761   24173500          E  chr14   75079406   75087746   \n",
       "35  chr15   56158017   56158267          N  chr15   56462978   56465983   \n",
       "36   chr6  117448209  117455412          E   chr6  152981947  152991467   \n",
       "37  chr12   92715804   92721658          E  chr12   97575775   97576200   \n",
       "38   chr5   65953726   65970373          E   chr5   71582365   71588637   \n",
       "39  chr14   92748029   92749630          E  chr14   96578956   96580826   \n",
       "40   chr5  138607182  138612232          E   chr5  151368315  151371525   \n",
       "41  chr14   34714080   34716362          E  chr14   50135355   50139051   \n",
       "42  chr10   73301814   73302637          E  chr10  112212615  112226039   \n",
       "43  chr18   38724804   38726198          N  chr18   76794986   76803172   \n",
       "44   chr1   21038219   21041845          N   chr1   21139524   21140811   \n",
       "45   chr1   91022201   91023797          E   chr1  116561813  116566655   \n",
       "\n",
       "   ENR_CAT_D2 RP_S:RP_T  NLN_PVAL I_CAT  \n",
       "0           N     100:3     25.44    DI  \n",
       "1           N     100:3     25.44    DI  \n",
       "2           E     25:25      0.00    UI  \n",
       "3           E     50:55      0.16   UIR  \n",
       "4           E     100:3     25.44    DI  \n",
       "5           N     50:53      0.07   UIR  \n",
       "6           E     100:1     28.09    DI  \n",
       "7           N     100:5     23.30    DI  \n",
       "8           E     25:27      0.05    UI  \n",
       "9           E     100:4     24.33    DI  \n",
       "10          E     25:26      0.00    UI  \n",
       "11          N     50:53      0.07   UIR  \n",
       "12          E     25:26      0.00    UI  \n",
       "13          N     25:26      0.00    UI  \n",
       "14          N     50:52      0.04   UIR  \n",
       "15          N     25:27      0.05    UI  \n",
       "16          E     100:6     22.35    DI  \n",
       "17          E     50:51      0.00   UIR  \n",
       "18          N     25:25      0.00    UI  \n",
       "19          N     100:4     24.33    DI  \n",
       "20          E     100:1     28.09    DI  \n",
       "21          N     50:51      0.00   UIR  \n",
       "22          N     25:26      0.00    UI  \n",
       "23          E     50:53      0.07   UIR  \n",
       "24          E     25:27      0.05    UI  \n",
       "25          E     100:3     25.44    DI  \n",
       "26          E     50:52      0.04   UIR  \n",
       "27          N     100:1     28.09    DI  \n",
       "28          E     50:51      0.00   UIR  \n",
       "29          E     50:54      0.11   UIR  \n",
       "30          N     50:52      0.04   UIR  \n",
       "31          N     50:54      0.11   UIR  \n",
       "32          E     25:25      0.00    UI  \n",
       "33          N     100:2     26.68    DI  \n",
       "34          N     25:25      0.00    UI  \n",
       "35          E     100:4     24.33    DI  \n",
       "36          E     100:2     26.68    DI  \n",
       "37          N     50:51      0.00   UIR  \n",
       "38          E     50:52      0.04   UIR  \n",
       "39          N     50:55      0.16   UIR  \n",
       "40          E     50:53      0.07   UIR  \n",
       "41          N     100:1     28.09    DI  \n",
       "42          E     100:5     23.30    DI  \n",
       "43          E     100:2     26.68    DI  \n",
       "44          N     25:27      0.05    UI  \n",
       "45          N     100:2     26.68    DI  "
      ]
     },
     "execution_count": 20,
     "metadata": {},
     "output_type": "execute_result"
    }
   ],
   "source": [
    "df_interaction_file = pandas.read_csv('evaluated_and_categorized_interactions.tsv.gz', compression='gzip', sep='\\t', header=None)\n",
    "df_interaction_file.columns = ['CHR_D1','STA_D1','END_D1','ENR_CAT_D1',\n",
    "                               'CHR_D2','STA_D2','END_D2','ENR_CAT_D2',\n",
    "                               'RP_S:RP_T',\n",
    "                               'NLN_PVAL',\n",
    "                               'I_CAT']\n",
    "df_interaction_file"
   ]
  },
  {
   "cell_type": "markdown",
   "metadata": {},
   "source": [
    "## Run the entire workflow with one script\n",
    "\n",
    "The steps described in this notebook are summarized in a script that can be executed as follows:"
   ]
  },
  {
   "cell_type": "code",
   "execution_count": 21,
   "metadata": {},
   "outputs": [
    {
     "name": "stdout",
     "output_type": "stream",
     "text": [
      "[INFO] Input parameters\n",
      "\t[INFO] --out-prefix: DEMO\n",
      "\t[INFO] --description-tag: DESCRIPTION_TAG\n",
      "\t[INFO] --diachromatic-interaction-file:\n",
      "\t\t[INFO] ../tests/data/test_04/diachromatic_interaction_file.tsv\n",
      "\t[INFO] --min-inter-dist: 0\n",
      "\t[INFO] --p-value-threshold: 0.01\n",
      "\t[INFO] --random-seed-shuff-inter: 1\n",
      "\t\t[INFO] Will use this P-value threshold instead of the one determined by the FDR procedure.\n",
      "\t\t[INFO] We use the negative decadic logarithm of the P-values.\n",
      "\t\t\t[INFO] The chosen threshold corresponds to: -log10(0.01) = 2.0\n",
      "\n",
      "[INFO] Parsing Diachromatic interaction file ...\n",
      "\t[INFO] ../tests/data/test_04/diachromatic_interaction_file.tsv\n",
      "\t[INFO] Set size: 50\n",
      "[INFO] ... done.\n",
      "\n",
      "[INFO] Shuffling dictionary with interactions ...\n",
      "\t[INFO] Random seed: 1\n",
      "[INFO] ... done.\n",
      "\n",
      "[INFO] Evaluate and categorize interactions ...\n",
      "[INFO] ... done.\n",
      "\n",
      "[INFO] Select reference interactions ...\n",
      "\t[INFO] Treating NE and EN as one category ...\n",
      "\t[INFO] First pass: Count directed interactions for different read pair counts ...\n",
      "\t[INFO] Second pass: Select undirected reference interactions for different read pair counts ...\n",
      "[INFO] ... done.\n",
      "\n",
      "[INFO] Writing Diachromatic interaction file ...\n",
      "\t[INFO] Required replicates: 1\n",
      "\t[INFO] Target file: DEMO_evaluated_and_categorized_interactions.tsv.gz\n",
      "[INFO] ... done.\n",
      "\n",
      "[INFO] Generated files:\n",
      "\t[INFO] DEMO_reports.txt\n",
      "\t[INFO] DEMO_evaluated_and_categorized_interactions.tsv.gz\n",
      "\n",
      "\n"
     ]
    }
   ],
   "source": [
    "%run ../DICer.py \\\n",
    "--out-prefix DEMO \\\n",
    "--p-value-threshold 0.01 \\\n",
    "--diachromatic-interaction-file ../tests/data/test_04/diachromatic_interaction_file.tsv"
   ]
  },
  {
   "cell_type": "markdown",
   "metadata": {},
   "source": [
    "The script outputs information about the status of processing and creates two files. The first file contains the reports and summary statistics that were presented above for each step individually."
   ]
  },
  {
   "cell_type": "code",
   "execution_count": 22,
   "metadata": {
    "scrolled": true
   },
   "outputs": [
    {
     "name": "stdout",
     "output_type": "stream",
     "text": [
      "[INFO] Input parameters\r\n",
      "\t[INFO] --out-prefix: DEMO\r\n",
      "\t[INFO] --description-tag: DESCRIPTION_TAG\r\n",
      "\t[INFO] --diachromatic-interaction-file:\r\n",
      "\t\t[INFO] ../tests/data/test_04/diachromatic_interaction_file.tsv\r\n",
      "\t[INFO] --min-inter-dist: 0\r\n",
      "\t[INFO] --p-value-threshold: 0.01\r\n",
      "\t[INFO] --random-seed-shuff-inter: 1\r\n",
      "\t\t[INFO] Will use this P-value threshold instead of the one determined by the FDR procedure.\r\n",
      "\t\t[INFO] We use the negative decadic logarithm of the P-values.\r\n",
      "\t\t\t[INFO] The chosen threshold corresponds to: -log10(0.01) = 2.0\r\n",
      "\r\n",
      "[INFO] Report on reading files:\r\n",
      "\t[INFO] Read interaction data from 1 files:\r\n",
      "\t\t[INFO] 50 interactions from: \r\n",
      "\t\t\t[INFO] ../tests/data/test_04/diachromatic_interaction_file.tsv\r\n",
      "\t\t\t[INFO] Minimum number of read pairs: 5\r\n",
      "\t\t\t[INFO] Skipped because less than 5 read pairs: 0\r\n",
      "\t\t\t[INFO] Minimum interaction distance: 0\r\n",
      "\t\t\t[INFO] Skipped because shorter than 0 bp: 0\r\n",
      "\t\t\t[INFO] Added to set: 50\r\n",
      "\t\t\t[INFO] Set size: 50\r\n",
      "\t[INFO] The interaction set has 50 interactions.\r\n",
      "[INFO] End of report.\r",
      "\r\n",
      "\r\n",
      ":TR_READ:\tI_FILE\tI_NUM\tMIN_RP_NUM\tI_NUM_SKIPPED_RP\tMIN_DIST\tI_NUM_SKIPPED_DIST\tI_NUM_ADDED\tI_SET_SIZE\r\n",
      ":TR_READ:\t../tests/data/test_04/diachromatic_interaction_file.tsv\t50\t5\t0\t0\t0\t50\t50\r\n",
      "\r\n",
      "[INFO] Report on evaluation and categorization interactions:\r\n",
      "\t[INFO] P-value threshold: 0.01000\r\n",
      "\t[INFO] Minimum number of read pairs required for significance: 8\r\n",
      "\t[INFO] Smallest P-value with 8 read pairs: 0.00781\r\n",
      "\t[INFO] Processed interactions: 50\r\n",
      "\t[INFO] Discarded interactions: 4\r\n",
      "\t[INFO] Not significant interactions (UI): 28\r\n",
      "\t[INFO] Significant interactions (DI): 18\r\n",
      "[INFO] End of report.\r\n",
      "\r\n",
      ":TR_EVAL_CAT:\tDESCRIPTION\tPVAL_THRESH\tMIN_RP\tMIN_RP_PVAL\tN_PROCESSED\tN_DISCARDED\tN_UNDIRECTED\tN_DIRECTED\r\n",
      ":TR_EVAL_CAT:\tDEMO\t0.01000\t8\t0.00781\t50\t4\t28\t18\r\n",
      "\r\n",
      "[INFO] Report on selection of undirected reference interactions:\r\n",
      "\t[INFO] Numbers of directed interactions\r\n",
      "\t\t[INFO] Interactions in NN: 3\r\n",
      "\t\t[INFO] Interactions in NE: 4\r\n",
      "\t\t[INFO] Interactions in EN: 5\r\n",
      "\t\t[INFO] Interactions in EE: 6\r\n",
      "\t\t[INFO] Total: 18\r\n",
      "\t[INFO] Numbers of undirected reference interactions\r\n",
      "\t\t[INFO] Interactions in NN: 3\r\n",
      "\t\t[INFO] Interactions in NE: 3\r\n",
      "\t\t[INFO] Interactions in EN: 5\r\n",
      "\t\t[INFO] Interactions in EE: 5\r\n",
      "\t\t[INFO] Total: 16\r\n",
      "\t[INFO] Numbers of missing undirected reference interactions\r\n",
      "\t\t[INFO] Interactions in NN: 0\r\n",
      "\t\t[INFO] Interactions in NE: 1\r\n",
      "\t\t[INFO] Interactions in EN: 0\r\n",
      "\t\t[INFO] Interactions in EE: 1\r\n",
      "\t\t[INFO] Total: 2\r\n",
      "\t[INFO] Numbers undirected interactions\r\n",
      "\t\t[INFO] Interactions in NN: 3\r\n",
      "\t\t[INFO] Interactions in NE: 3\r\n",
      "\t\t[INFO] Interactions in EN: 3\r\n",
      "\t\t[INFO] Interactions in EE: 3\r\n",
      "\t\t[INFO] Total: 12\r\n",
      "[INFO] End of report.\r\n",
      "\r\n",
      ":TR_SELECT:\tDESCRIPTION\tDI_NN\tDI_NE\tDI_EN\tDI_EE\tDI_TOTAL\tUIR_NN\tUIR_NE\tUIR_EN\tUIR_EE\tUIR_TOTAL\tM_UIR_NN\tM_UIR_NE\tM_UIR_EN\tM_UIR_EE\tM_UIR_TOTAL\tUI_NN\tUI_NE\tUI_EN\tUI_EE\tUI_TOTAL\r\n",
      ":TR_SELECT:\tDEMO\t3\t4\t5\t6\t18\t3\t3\t5\t5\t16\t0\t1\t0\t1\t2\t3\t3\t3\t3\t12\r\n",
      "\r\n",
      "[INFO] Report on writing files:\r\n",
      "\t[INFO] Wrote interactions that occur in at least 1 replicates to:\r\n",
      "\t\t[INFO] DEMO_evaluated_and_categorized_interactions.tsv.gz\r\n",
      "\t[INFO] Interactions that occur in at least 1 replicates: 46\r\n",
      "\t[INFO] Other interactions: 0\r\n",
      "[INFO] End of report.\r\n",
      "\r\n",
      ":TR_WRITE:\tTARGET_FILE\tREQUIRED_REPLICATES\tN_INCOMPLETE_DATA\tN_COMPLETE_DATA\r\n",
      ":TR_WRITE:\tDEMO_evaluated_and_categorized_interactions.tsv.gz\t1\t0\t46\r\n",
      "\r\n",
      "[INFO] Generated files:\r\n",
      "\t[INFO] DEMO_reports.txt\r\n",
      "\t[INFO] DEMO_evaluated_and_categorized_interactions.tsv.gz\r\n"
     ]
    }
   ],
   "source": [
    "cat DEMO_reports.txt"
   ]
  },
  {
   "cell_type": "markdown",
   "metadata": {},
   "source": [
    "The second file contains the evaluated and categorized interactions."
   ]
  },
  {
   "cell_type": "code",
   "execution_count": 23,
   "metadata": {},
   "outputs": [
    {
     "name": "stdout",
     "output_type": "stream",
     "text": [
      "chr15\t73467156\t73468652\tN\tchr15\t73526903\t73528438\tN\t100:3\t25.44\tDI\r\n",
      "chr10\t100185111\t100188716\tE\tchr10\t100911854\t100914842\tE\t100:4\t24.33\tDI\r\n",
      "chr1\t15681566\t15697108\tE\tchr1\t19411358\t19417940\tN\t100:3\t25.44\tDI\r\n",
      "chr11\t86392415\t86393959\tN\tchr11\t125833282\t125834157\tE\t50:51\t0.00\tUIR\r\n",
      "chr3\t185935734\t185943372\tE\tchr3\t194132402\t194139770\tE\t50:51\t0.00\tUIR\r\n",
      "chr11\t114362648\t114362686\tN\tchr11\t114396073\t114404234\tE\t100:3\t25.44\tDI\r\n",
      "chr7\t123787495\t123793134\tE\tchr7\t141015018\t141017643\tE\t100:3\t25.44\tDI\r\n",
      "chr2\t113676580\t113686263\tE\tchr2\t202796295\t202797013\tN\t100:5\t23.30\tDI\r\n",
      "chr1\t23789605\t23791509\tE\tchr1\t153951062\t153962812\tE\t50:54\t0.11\tUIR\r\n",
      "chr8\t110169057\t110171420\tN\tchr8\t110203244\t110203772\tN\t25:25\t0.00\tUI\r\n"
     ]
    }
   ],
   "source": [
    "!gunzip -c DEMO_evaluated_and_categorized_interactions.tsv.gz | head"
   ]
  }
 ],
 "metadata": {
  "kernelspec": {
   "display_name": "Python 3 (diachscripts_p37env)",
   "language": "python",
   "name": "diachscripts_p37env"
  },
  "language_info": {
   "codemirror_mode": {
    "name": "ipython",
    "version": 3
   },
   "file_extension": ".py",
   "mimetype": "text/x-python",
   "name": "python",
   "nbconvert_exporter": "python",
   "pygments_lexer": "ipython3",
   "version": "3.7.4"
  }
 },
 "nbformat": 4,
 "nbformat_minor": 2
}
