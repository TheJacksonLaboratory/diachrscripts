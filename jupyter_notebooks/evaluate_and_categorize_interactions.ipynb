{
 "cells": [
  {
   "cell_type": "markdown",
   "metadata": {},
   "source": [
    "# Evaluate and categorize interactions"
   ]
  },
  {
   "cell_type": "markdown",
   "metadata": {},
   "source": [
    "## Setting up the notebook"
   ]
  },
  {
   "cell_type": "code",
   "execution_count": 1,
   "metadata": {},
   "outputs": [],
   "source": [
    "import sys\n",
    "import os\n",
    "import matplotlib.pyplot as plt\n",
    "import scipy, scipy.stats, numpy\n",
    "import pandas\n",
    "\n",
    "%matplotlib inline\n",
    "sys.path.append(\"..\")\n",
    "\n",
    "from diachr import DiachromaticInteractionSet"
   ]
  },
  {
   "cell_type": "markdown",
   "metadata": {},
   "source": [
    "## Read a Diachromatic interaction file"
   ]
  },
  {
   "cell_type": "code",
   "execution_count": 2,
   "metadata": {},
   "outputs": [
    {
     "data": {
      "text/html": [
       "<div>\n",
       "<style scoped>\n",
       "    .dataframe tbody tr th:only-of-type {\n",
       "        vertical-align: middle;\n",
       "    }\n",
       "\n",
       "    .dataframe tbody tr th {\n",
       "        vertical-align: top;\n",
       "    }\n",
       "\n",
       "    .dataframe thead th {\n",
       "        text-align: right;\n",
       "    }\n",
       "</style>\n",
       "<table border=\"1\" class=\"dataframe\">\n",
       "  <thead>\n",
       "    <tr style=\"text-align: right;\">\n",
       "      <th></th>\n",
       "      <th>I_FILE</th>\n",
       "      <th>I_NUM</th>\n",
       "    </tr>\n",
       "  </thead>\n",
       "  <tbody>\n",
       "    <tr>\n",
       "      <td>0</td>\n",
       "      <td>../tests/data/test_04/diachromatic_interaction...</td>\n",
       "      <td>50</td>\n",
       "    </tr>\n",
       "    <tr>\n",
       "      <td>1</td>\n",
       "      <td>UNION</td>\n",
       "      <td>50</td>\n",
       "    </tr>\n",
       "  </tbody>\n",
       "</table>\n",
       "</div>"
      ],
      "text/plain": [
       "                                              I_FILE  I_NUM\n",
       "0  ../tests/data/test_04/diachromatic_interaction...     50\n",
       "1                                              UNION     50"
      ]
     },
     "execution_count": 2,
     "metadata": {},
     "output_type": "execute_result"
    }
   ],
   "source": [
    "interaction_set = DiachromaticInteractionSet()\n",
    "interaction_set.parse_file(i_file=\"../tests/data/test_04/diachromatic_interaction_file.tsv\")\n",
    "file_dict_info = interaction_set.get_file_info_dict()\n",
    "pandas.DataFrame(file_dict_info)"
   ]
  },
  {
   "cell_type": "code",
   "execution_count": 10,
   "metadata": {},
   "outputs": [
    {
     "name": "stdout",
     "output_type": "stream",
     "text": [
      "__init__.py\r\n",
      "__init__.pyc\r\n",
      "\u001b[34m__pycache__\u001b[m\u001b[m/\r\n",
      "\u001b[34mdata\u001b[m\u001b[m/\r\n",
      "test_binomial.py\r\n",
      "test_binomial.pyc\r\n",
      "test_combine_interactions.py\r\n",
      "test_diachromatic_interaction.py\r\n",
      "test_diachromatic_interaction.pyc\r\n",
      "test_eif_parser.py\r\n",
      "test_eif_parser.pyc\r\n",
      "test_rate_and_categorize_interactions.py\r\n"
     ]
    }
   ],
   "source": [
    "ls ../tests/data\n"
   ]
  },
  {
   "cell_type": "markdown",
   "metadata": {},
   "source": [
    "## Calculate P-values and divide into directed and undirected interactions"
   ]
  },
  {
   "cell_type": "code",
   "execution_count": 3,
   "metadata": {},
   "outputs": [
    {
     "name": "stdout",
     "output_type": "stream",
     "text": [
      "[INFO] Rate and categorize interactions ...\n",
      "[INFO] ...done.\n"
     ]
    }
   ],
   "source": [
    "nln_p_val_thresh = -numpy.log(0.01)\n",
    "rate_and_cat_report_dict = interaction_set.rate_and_categorize_interactions(nln_pval_thresh=nln_p_val_thresh, verbose=True)"
   ]
  },
  {
   "cell_type": "markdown",
   "metadata": {},
   "source": [
    "Use ``pandas`` to print out the dictionary returned by the function ``rate_and_categorize_interactions``."
   ]
  },
  {
   "cell_type": "code",
   "execution_count": 5,
   "metadata": {},
   "outputs": [
    {
     "data": {
      "text/html": [
       "<div>\n",
       "<style scoped>\n",
       "    .dataframe tbody tr th:only-of-type {\n",
       "        vertical-align: middle;\n",
       "    }\n",
       "\n",
       "    .dataframe tbody tr th {\n",
       "        vertical-align: top;\n",
       "    }\n",
       "\n",
       "    .dataframe thead th {\n",
       "        text-align: right;\n",
       "    }\n",
       "</style>\n",
       "<table border=\"1\" class=\"dataframe\">\n",
       "  <thead>\n",
       "    <tr style=\"text-align: right;\">\n",
       "      <th></th>\n",
       "      <th>NLN_PVAL_THRESH</th>\n",
       "      <th>MIN_RP</th>\n",
       "      <th>MIN_RP_PVAL</th>\n",
       "      <th>N_PROCESSED</th>\n",
       "      <th>N_DISCARDED</th>\n",
       "      <th>N_UNDIRECTED</th>\n",
       "      <th>N_DIRECTED</th>\n",
       "    </tr>\n",
       "  </thead>\n",
       "  <tbody>\n",
       "    <tr>\n",
       "      <td>0</td>\n",
       "      <td>4.60517</td>\n",
       "      <td>8</td>\n",
       "      <td>0.007813</td>\n",
       "      <td>50</td>\n",
       "      <td>4</td>\n",
       "      <td>28</td>\n",
       "      <td>18</td>\n",
       "    </tr>\n",
       "  </tbody>\n",
       "</table>\n",
       "</div>"
      ],
      "text/plain": [
       "   NLN_PVAL_THRESH  MIN_RP  MIN_RP_PVAL  N_PROCESSED  N_DISCARDED  \\\n",
       "0          4.60517       8     0.007813           50            4   \n",
       "\n",
       "   N_UNDIRECTED  N_DIRECTED  \n",
       "0            28          18  "
      ]
     },
     "execution_count": 5,
     "metadata": {},
     "output_type": "execute_result"
    }
   ],
   "source": [
    "pandas.DataFrame(rate_and_cat_report_dict)"
   ]
  },
  {
   "cell_type": "markdown",
   "metadata": {},
   "source": [
    "## Select undirected reference interactions"
   ]
  },
  {
   "cell_type": "code",
   "execution_count": 6,
   "metadata": {},
   "outputs": [
    {
     "name": "stdout",
     "output_type": "stream",
     "text": [
      "[INFO] Select reference interactions ...\n",
      "\t[INFO] First pass: Count directed interactions for different read pair counts ...\n",
      "\t[INFO] Second pass: Select undirected reference interactions for different read pair counts ...\n",
      "[INFO] ...done.\n"
     ]
    }
   ],
   "source": [
    "select_ref_report_dict = interaction_set.select_reference_interactions(verbose=True)"
   ]
  },
  {
   "cell_type": "markdown",
   "metadata": {},
   "source": [
    "Use ``pandas`` to print out the dictionary returned by the function ``select_reference_interactions``."
   ]
  },
  {
   "cell_type": "code",
   "execution_count": 43,
   "metadata": {},
   "outputs": [],
   "source": [
    "df_nn = pandas.DataFrame(select_ref_report_dict).transpose()[:4]\n",
    "df_ne = pandas.DataFrame(select_ref_report_dict).transpose()[4:8]\n",
    "df_en = pandas.DataFrame(select_ref_report_dict).transpose()[8:12]\n",
    "df_ee = pandas.DataFrame(select_ref_report_dict).transpose()[12:16]"
   ]
  },
  {
   "cell_type": "markdown",
   "metadata": {},
   "source": [
    "The first four columns contain the interaction counts for the enrichment category ``NN``. In this category, we have three directed interactions (``DI_NN``) for which three undirected reference interactions (``UIR_NN``) could be selected. Since a reference interaction could be selected for all directed interactions, there are no missing reference interactions (``M_UIR_NN``). Finally, we have three undirected interactions (``UI_NN``)."
   ]
  },
  {
   "cell_type": "code",
   "execution_count": 49,
   "metadata": {
    "scrolled": true
   },
   "outputs": [
    {
     "data": {
      "text/html": [
       "<div>\n",
       "<style scoped>\n",
       "    .dataframe tbody tr th:only-of-type {\n",
       "        vertical-align: middle;\n",
       "    }\n",
       "\n",
       "    .dataframe tbody tr th {\n",
       "        vertical-align: top;\n",
       "    }\n",
       "\n",
       "    .dataframe thead th {\n",
       "        text-align: right;\n",
       "    }\n",
       "</style>\n",
       "<table border=\"1\" class=\"dataframe\">\n",
       "  <thead>\n",
       "    <tr style=\"text-align: right;\">\n",
       "      <th></th>\n",
       "      <th>Interaction counts</th>\n",
       "    </tr>\n",
       "  </thead>\n",
       "  <tbody>\n",
       "    <tr>\n",
       "      <td>DI_NN</td>\n",
       "      <td>3</td>\n",
       "    </tr>\n",
       "    <tr>\n",
       "      <td>UIR_NN</td>\n",
       "      <td>3</td>\n",
       "    </tr>\n",
       "    <tr>\n",
       "      <td>M_UIR_NN</td>\n",
       "      <td>0</td>\n",
       "    </tr>\n",
       "    <tr>\n",
       "      <td>UI_NN</td>\n",
       "      <td>3</td>\n",
       "    </tr>\n",
       "  </tbody>\n",
       "</table>\n",
       "</div>"
      ],
      "text/plain": [
       "          Interaction counts\n",
       "DI_NN                      3\n",
       "UIR_NN                     3\n",
       "M_UIR_NN                   0\n",
       "UI_NN                      3"
      ]
     },
     "execution_count": 49,
     "metadata": {},
     "output_type": "execute_result"
    }
   ],
   "source": [
    "df_nn.columns = ['Interaction counts']\n",
    "df_nn"
   ]
  },
  {
   "cell_type": "markdown",
   "metadata": {},
   "source": [
    "Columns five to eight contain the interaction counts for the category ``NE``. In this category, there is one directed interaction for which no matching reference interaction could be selected (``M_UIR_NE``). "
   ]
  },
  {
   "cell_type": "code",
   "execution_count": 50,
   "metadata": {},
   "outputs": [
    {
     "data": {
      "text/html": [
       "<div>\n",
       "<style scoped>\n",
       "    .dataframe tbody tr th:only-of-type {\n",
       "        vertical-align: middle;\n",
       "    }\n",
       "\n",
       "    .dataframe tbody tr th {\n",
       "        vertical-align: top;\n",
       "    }\n",
       "\n",
       "    .dataframe thead th {\n",
       "        text-align: right;\n",
       "    }\n",
       "</style>\n",
       "<table border=\"1\" class=\"dataframe\">\n",
       "  <thead>\n",
       "    <tr style=\"text-align: right;\">\n",
       "      <th></th>\n",
       "      <th>Interaction counts</th>\n",
       "    </tr>\n",
       "  </thead>\n",
       "  <tbody>\n",
       "    <tr>\n",
       "      <td>DI_NE</td>\n",
       "      <td>4</td>\n",
       "    </tr>\n",
       "    <tr>\n",
       "      <td>UIR_NE</td>\n",
       "      <td>3</td>\n",
       "    </tr>\n",
       "    <tr>\n",
       "      <td>M_UIR_NE</td>\n",
       "      <td>1</td>\n",
       "    </tr>\n",
       "    <tr>\n",
       "      <td>UI_NE</td>\n",
       "      <td>3</td>\n",
       "    </tr>\n",
       "  </tbody>\n",
       "</table>\n",
       "</div>"
      ],
      "text/plain": [
       "          Interaction counts\n",
       "DI_NE                      4\n",
       "UIR_NE                     3\n",
       "M_UIR_NE                   1\n",
       "UI_NE                      3"
      ]
     },
     "execution_count": 50,
     "metadata": {},
     "output_type": "execute_result"
    }
   ],
   "source": [
    "df_ne.columns = ['Interaction counts']\n",
    "df_ne"
   ]
  },
  {
   "cell_type": "markdown",
   "metadata": {},
   "source": [
    "Columns nine to twelve contain the interaction counts for the category ``EN``."
   ]
  },
  {
   "cell_type": "code",
   "execution_count": 51,
   "metadata": {},
   "outputs": [
    {
     "data": {
      "text/html": [
       "<div>\n",
       "<style scoped>\n",
       "    .dataframe tbody tr th:only-of-type {\n",
       "        vertical-align: middle;\n",
       "    }\n",
       "\n",
       "    .dataframe tbody tr th {\n",
       "        vertical-align: top;\n",
       "    }\n",
       "\n",
       "    .dataframe thead th {\n",
       "        text-align: right;\n",
       "    }\n",
       "</style>\n",
       "<table border=\"1\" class=\"dataframe\">\n",
       "  <thead>\n",
       "    <tr style=\"text-align: right;\">\n",
       "      <th></th>\n",
       "      <th>Interaction counts</th>\n",
       "    </tr>\n",
       "  </thead>\n",
       "  <tbody>\n",
       "    <tr>\n",
       "      <td>DI_EN</td>\n",
       "      <td>5</td>\n",
       "    </tr>\n",
       "    <tr>\n",
       "      <td>UIR_EN</td>\n",
       "      <td>5</td>\n",
       "    </tr>\n",
       "    <tr>\n",
       "      <td>M_UIR_EN</td>\n",
       "      <td>0</td>\n",
       "    </tr>\n",
       "    <tr>\n",
       "      <td>UI_EN</td>\n",
       "      <td>3</td>\n",
       "    </tr>\n",
       "  </tbody>\n",
       "</table>\n",
       "</div>"
      ],
      "text/plain": [
       "          Interaction counts\n",
       "DI_EN                      5\n",
       "UIR_EN                     5\n",
       "M_UIR_EN                   0\n",
       "UI_EN                      3"
      ]
     },
     "execution_count": 51,
     "metadata": {},
     "output_type": "execute_result"
    }
   ],
   "source": [
    "df_en.columns = ['Interaction counts']\n",
    "df_en"
   ]
  },
  {
   "cell_type": "markdown",
   "metadata": {},
   "source": [
    "Columns 12 to 16 contain the interaction counts for the category ``EE``. In this category, there is again one directed interaction for which no matching reference interaction could be selected (``M_UIR_EE``)."
   ]
  },
  {
   "cell_type": "code",
   "execution_count": 52,
   "metadata": {},
   "outputs": [
    {
     "data": {
      "text/html": [
       "<div>\n",
       "<style scoped>\n",
       "    .dataframe tbody tr th:only-of-type {\n",
       "        vertical-align: middle;\n",
       "    }\n",
       "\n",
       "    .dataframe tbody tr th {\n",
       "        vertical-align: top;\n",
       "    }\n",
       "\n",
       "    .dataframe thead th {\n",
       "        text-align: right;\n",
       "    }\n",
       "</style>\n",
       "<table border=\"1\" class=\"dataframe\">\n",
       "  <thead>\n",
       "    <tr style=\"text-align: right;\">\n",
       "      <th></th>\n",
       "      <th>Interaction counts</th>\n",
       "    </tr>\n",
       "  </thead>\n",
       "  <tbody>\n",
       "    <tr>\n",
       "      <td>DI_EE</td>\n",
       "      <td>6</td>\n",
       "    </tr>\n",
       "    <tr>\n",
       "      <td>UIR_EE</td>\n",
       "      <td>5</td>\n",
       "    </tr>\n",
       "    <tr>\n",
       "      <td>M_UIR_EE</td>\n",
       "      <td>1</td>\n",
       "    </tr>\n",
       "    <tr>\n",
       "      <td>UI_EE</td>\n",
       "      <td>3</td>\n",
       "    </tr>\n",
       "  </tbody>\n",
       "</table>\n",
       "</div>"
      ],
      "text/plain": [
       "          Interaction counts\n",
       "DI_EE                      6\n",
       "UIR_EE                     5\n",
       "M_UIR_EE                   1\n",
       "UI_EE                      3"
      ]
     },
     "execution_count": 52,
     "metadata": {},
     "output_type": "execute_result"
    }
   ],
   "source": [
    "df_ee.columns = ['Interaction counts']\n",
    "df_ee"
   ]
  },
  {
   "cell_type": "markdown",
   "metadata": {},
   "source": [
    "## Write evaluated and categorized interactions to a Diachromatic interaction file"
   ]
  },
  {
   "cell_type": "code",
   "execution_count": 10,
   "metadata": {},
   "outputs": [],
   "source": [
    "write_report_dict = interaction_set.write_diachromatic_interaction_file(target_file=\"evaluated_and_categorized_interactions.tsv.gz\")"
   ]
  },
  {
   "cell_type": "markdown",
   "metadata": {},
   "source": [
    "Use ``pandas`` to print out the dictionary returned by the function ``write_diachromatic_interaction_file``."
   ]
  },
  {
   "cell_type": "code",
   "execution_count": 9,
   "metadata": {
    "scrolled": true
   },
   "outputs": [
    {
     "data": {
      "text/html": [
       "<div>\n",
       "<style scoped>\n",
       "    .dataframe tbody tr th:only-of-type {\n",
       "        vertical-align: middle;\n",
       "    }\n",
       "\n",
       "    .dataframe tbody tr th {\n",
       "        vertical-align: top;\n",
       "    }\n",
       "\n",
       "    .dataframe thead th {\n",
       "        text-align: right;\n",
       "    }\n",
       "</style>\n",
       "<table border=\"1\" class=\"dataframe\">\n",
       "  <thead>\n",
       "    <tr style=\"text-align: right;\">\n",
       "      <th></th>\n",
       "      <th>TARGET_FILE</th>\n",
       "      <th>INTERACTIONS_NUMBERS</th>\n",
       "      <th>REQUIRED_REPLICATES</th>\n",
       "      <th>HAS_ALL_DATA</th>\n",
       "      <th>INCOMPLETE_DATA</th>\n",
       "    </tr>\n",
       "  </thead>\n",
       "  <tbody>\n",
       "    <tr>\n",
       "      <td>0</td>\n",
       "      <td>evaluated_and_categorized_interactions.tsv.gz</td>\n",
       "      <td>[50]</td>\n",
       "      <td>1</td>\n",
       "      <td>46</td>\n",
       "      <td>0</td>\n",
       "    </tr>\n",
       "  </tbody>\n",
       "</table>\n",
       "</div>"
      ],
      "text/plain": [
       "                                     TARGET_FILE INTERACTIONS_NUMBERS  \\\n",
       "0  evaluated_and_categorized_interactions.tsv.gz                 [50]   \n",
       "\n",
       "   REQUIRED_REPLICATES  HAS_ALL_DATA  INCOMPLETE_DATA  \n",
       "0                    1            46                0  "
      ]
     },
     "execution_count": 9,
     "metadata": {},
     "output_type": "execute_result"
    }
   ],
   "source": [
    "pandas.DataFrame(write_report_dict)"
   ]
  },
  {
   "cell_type": "code",
   "execution_count": 83,
   "metadata": {},
   "outputs": [
    {
     "data": {
      "text/html": [
       "<div>\n",
       "<style scoped>\n",
       "    .dataframe tbody tr th:only-of-type {\n",
       "        vertical-align: middle;\n",
       "    }\n",
       "\n",
       "    .dataframe tbody tr th {\n",
       "        vertical-align: top;\n",
       "    }\n",
       "\n",
       "    .dataframe thead th {\n",
       "        text-align: right;\n",
       "    }\n",
       "</style>\n",
       "<table border=\"1\" class=\"dataframe\">\n",
       "  <thead>\n",
       "    <tr style=\"text-align: right;\">\n",
       "      <th></th>\n",
       "      <th>CHR_D1</th>\n",
       "      <th>STA_D1</th>\n",
       "      <th>END_D1</th>\n",
       "      <th>ENR_CAT_D1</th>\n",
       "      <th>CHR_D2</th>\n",
       "      <th>STA_D2</th>\n",
       "      <th>END_D2</th>\n",
       "      <th>ENR_CAT_D2</th>\n",
       "      <th>RP_S:RP_T</th>\n",
       "      <th>NLN_PVAL</th>\n",
       "      <th>I_CAT</th>\n",
       "    </tr>\n",
       "  </thead>\n",
       "  <tbody>\n",
       "    <tr>\n",
       "      <td>0</td>\n",
       "      <td>chr14</td>\n",
       "      <td>43059116</td>\n",
       "      <td>43059494</td>\n",
       "      <td>N</td>\n",
       "      <td>chr14</td>\n",
       "      <td>43101212</td>\n",
       "      <td>43101810</td>\n",
       "      <td>N</td>\n",
       "      <td>100:1</td>\n",
       "      <td>64.69</td>\n",
       "      <td>DI</td>\n",
       "    </tr>\n",
       "    <tr>\n",
       "      <td>1</td>\n",
       "      <td>chr8</td>\n",
       "      <td>129042054</td>\n",
       "      <td>129044258</td>\n",
       "      <td>N</td>\n",
       "      <td>chr8</td>\n",
       "      <td>129121269</td>\n",
       "      <td>129121986</td>\n",
       "      <td>N</td>\n",
       "      <td>100:2</td>\n",
       "      <td>61.44</td>\n",
       "      <td>DI</td>\n",
       "    </tr>\n",
       "    <tr>\n",
       "      <td>2</td>\n",
       "      <td>chr15</td>\n",
       "      <td>73467156</td>\n",
       "      <td>73468652</td>\n",
       "      <td>N</td>\n",
       "      <td>chr15</td>\n",
       "      <td>73526903</td>\n",
       "      <td>73528438</td>\n",
       "      <td>N</td>\n",
       "      <td>100:3</td>\n",
       "      <td>58.59</td>\n",
       "      <td>DI</td>\n",
       "    </tr>\n",
       "    <tr>\n",
       "      <td>3</td>\n",
       "      <td>chr17</td>\n",
       "      <td>72411026</td>\n",
       "      <td>72411616</td>\n",
       "      <td>N</td>\n",
       "      <td>chr17</td>\n",
       "      <td>72712662</td>\n",
       "      <td>72724357</td>\n",
       "      <td>E</td>\n",
       "      <td>100:1</td>\n",
       "      <td>64.69</td>\n",
       "      <td>DI</td>\n",
       "    </tr>\n",
       "    <tr>\n",
       "      <td>4</td>\n",
       "      <td>chr18</td>\n",
       "      <td>38724804</td>\n",
       "      <td>38726198</td>\n",
       "      <td>N</td>\n",
       "      <td>chr18</td>\n",
       "      <td>76794986</td>\n",
       "      <td>76803172</td>\n",
       "      <td>E</td>\n",
       "      <td>100:2</td>\n",
       "      <td>61.44</td>\n",
       "      <td>DI</td>\n",
       "    </tr>\n",
       "    <tr>\n",
       "      <td>5</td>\n",
       "      <td>chr11</td>\n",
       "      <td>114362648</td>\n",
       "      <td>114362686</td>\n",
       "      <td>N</td>\n",
       "      <td>chr11</td>\n",
       "      <td>114396073</td>\n",
       "      <td>114404234</td>\n",
       "      <td>E</td>\n",
       "      <td>100:3</td>\n",
       "      <td>58.59</td>\n",
       "      <td>DI</td>\n",
       "    </tr>\n",
       "    <tr>\n",
       "      <td>6</td>\n",
       "      <td>chr15</td>\n",
       "      <td>56158017</td>\n",
       "      <td>56158267</td>\n",
       "      <td>N</td>\n",
       "      <td>chr15</td>\n",
       "      <td>56462978</td>\n",
       "      <td>56465983</td>\n",
       "      <td>E</td>\n",
       "      <td>100:4</td>\n",
       "      <td>56.01</td>\n",
       "      <td>DI</td>\n",
       "    </tr>\n",
       "    <tr>\n",
       "      <td>7</td>\n",
       "      <td>chr14</td>\n",
       "      <td>34714080</td>\n",
       "      <td>34716362</td>\n",
       "      <td>E</td>\n",
       "      <td>chr14</td>\n",
       "      <td>50135355</td>\n",
       "      <td>50139051</td>\n",
       "      <td>N</td>\n",
       "      <td>100:1</td>\n",
       "      <td>64.69</td>\n",
       "      <td>DI</td>\n",
       "    </tr>\n",
       "    <tr>\n",
       "      <td>8</td>\n",
       "      <td>chr1</td>\n",
       "      <td>91022201</td>\n",
       "      <td>91023797</td>\n",
       "      <td>E</td>\n",
       "      <td>chr1</td>\n",
       "      <td>116561813</td>\n",
       "      <td>116566655</td>\n",
       "      <td>N</td>\n",
       "      <td>100:2</td>\n",
       "      <td>61.44</td>\n",
       "      <td>DI</td>\n",
       "    </tr>\n",
       "    <tr>\n",
       "      <td>9</td>\n",
       "      <td>chr1</td>\n",
       "      <td>15681566</td>\n",
       "      <td>15697108</td>\n",
       "      <td>E</td>\n",
       "      <td>chr1</td>\n",
       "      <td>19411358</td>\n",
       "      <td>19417940</td>\n",
       "      <td>N</td>\n",
       "      <td>100:3</td>\n",
       "      <td>58.59</td>\n",
       "      <td>DI</td>\n",
       "    </tr>\n",
       "    <tr>\n",
       "      <td>10</td>\n",
       "      <td>chr12</td>\n",
       "      <td>13586326</td>\n",
       "      <td>13591414</td>\n",
       "      <td>E</td>\n",
       "      <td>chr12</td>\n",
       "      <td>101116206</td>\n",
       "      <td>101119138</td>\n",
       "      <td>N</td>\n",
       "      <td>100:4</td>\n",
       "      <td>56.01</td>\n",
       "      <td>DI</td>\n",
       "    </tr>\n",
       "    <tr>\n",
       "      <td>11</td>\n",
       "      <td>chr2</td>\n",
       "      <td>113676580</td>\n",
       "      <td>113686263</td>\n",
       "      <td>E</td>\n",
       "      <td>chr2</td>\n",
       "      <td>202796295</td>\n",
       "      <td>202797013</td>\n",
       "      <td>N</td>\n",
       "      <td>100:5</td>\n",
       "      <td>53.65</td>\n",
       "      <td>DI</td>\n",
       "    </tr>\n",
       "    <tr>\n",
       "      <td>12</td>\n",
       "      <td>chr7</td>\n",
       "      <td>25228385</td>\n",
       "      <td>25228778</td>\n",
       "      <td>E</td>\n",
       "      <td>chr7</td>\n",
       "      <td>42234764</td>\n",
       "      <td>42240281</td>\n",
       "      <td>E</td>\n",
       "      <td>100:1</td>\n",
       "      <td>64.69</td>\n",
       "      <td>DI</td>\n",
       "    </tr>\n",
       "    <tr>\n",
       "      <td>13</td>\n",
       "      <td>chr6</td>\n",
       "      <td>117448209</td>\n",
       "      <td>117455412</td>\n",
       "      <td>E</td>\n",
       "      <td>chr6</td>\n",
       "      <td>152981947</td>\n",
       "      <td>152991467</td>\n",
       "      <td>E</td>\n",
       "      <td>100:2</td>\n",
       "      <td>61.44</td>\n",
       "      <td>DI</td>\n",
       "    </tr>\n",
       "    <tr>\n",
       "      <td>14</td>\n",
       "      <td>chr7</td>\n",
       "      <td>123787495</td>\n",
       "      <td>123793134</td>\n",
       "      <td>E</td>\n",
       "      <td>chr7</td>\n",
       "      <td>141015018</td>\n",
       "      <td>141017643</td>\n",
       "      <td>E</td>\n",
       "      <td>100:3</td>\n",
       "      <td>58.59</td>\n",
       "      <td>DI</td>\n",
       "    </tr>\n",
       "    <tr>\n",
       "      <td>15</td>\n",
       "      <td>chr10</td>\n",
       "      <td>100185111</td>\n",
       "      <td>100188716</td>\n",
       "      <td>E</td>\n",
       "      <td>chr10</td>\n",
       "      <td>100911854</td>\n",
       "      <td>100914842</td>\n",
       "      <td>E</td>\n",
       "      <td>100:4</td>\n",
       "      <td>56.01</td>\n",
       "      <td>DI</td>\n",
       "    </tr>\n",
       "    <tr>\n",
       "      <td>16</td>\n",
       "      <td>chr10</td>\n",
       "      <td>73301814</td>\n",
       "      <td>73302637</td>\n",
       "      <td>E</td>\n",
       "      <td>chr10</td>\n",
       "      <td>112212615</td>\n",
       "      <td>112226039</td>\n",
       "      <td>E</td>\n",
       "      <td>100:5</td>\n",
       "      <td>53.65</td>\n",
       "      <td>DI</td>\n",
       "    </tr>\n",
       "    <tr>\n",
       "      <td>17</td>\n",
       "      <td>chr8</td>\n",
       "      <td>11066997</td>\n",
       "      <td>11069837</td>\n",
       "      <td>E</td>\n",
       "      <td>chr8</td>\n",
       "      <td>11473293</td>\n",
       "      <td>11485455</td>\n",
       "      <td>E</td>\n",
       "      <td>100:6</td>\n",
       "      <td>51.46</td>\n",
       "      <td>DI</td>\n",
       "    </tr>\n",
       "    <tr>\n",
       "      <td>18</td>\n",
       "      <td>chr1</td>\n",
       "      <td>68750175</td>\n",
       "      <td>68752699</td>\n",
       "      <td>N</td>\n",
       "      <td>chr1</td>\n",
       "      <td>68795323</td>\n",
       "      <td>68796512</td>\n",
       "      <td>N</td>\n",
       "      <td>50:51</td>\n",
       "      <td>0.00</td>\n",
       "      <td>UIR</td>\n",
       "    </tr>\n",
       "    <tr>\n",
       "      <td>19</td>\n",
       "      <td>chr10</td>\n",
       "      <td>24701259</td>\n",
       "      <td>24703782</td>\n",
       "      <td>N</td>\n",
       "      <td>chr10</td>\n",
       "      <td>24993210</td>\n",
       "      <td>24994662</td>\n",
       "      <td>N</td>\n",
       "      <td>50:52</td>\n",
       "      <td>0.08</td>\n",
       "      <td>UIR</td>\n",
       "    </tr>\n",
       "  </tbody>\n",
       "</table>\n",
       "</div>"
      ],
      "text/plain": [
       "   CHR_D1     STA_D1     END_D1 ENR_CAT_D1 CHR_D2     STA_D2     END_D2  \\\n",
       "0   chr14   43059116   43059494          N  chr14   43101212   43101810   \n",
       "1    chr8  129042054  129044258          N   chr8  129121269  129121986   \n",
       "2   chr15   73467156   73468652          N  chr15   73526903   73528438   \n",
       "3   chr17   72411026   72411616          N  chr17   72712662   72724357   \n",
       "4   chr18   38724804   38726198          N  chr18   76794986   76803172   \n",
       "5   chr11  114362648  114362686          N  chr11  114396073  114404234   \n",
       "6   chr15   56158017   56158267          N  chr15   56462978   56465983   \n",
       "7   chr14   34714080   34716362          E  chr14   50135355   50139051   \n",
       "8    chr1   91022201   91023797          E   chr1  116561813  116566655   \n",
       "9    chr1   15681566   15697108          E   chr1   19411358   19417940   \n",
       "10  chr12   13586326   13591414          E  chr12  101116206  101119138   \n",
       "11   chr2  113676580  113686263          E   chr2  202796295  202797013   \n",
       "12   chr7   25228385   25228778          E   chr7   42234764   42240281   \n",
       "13   chr6  117448209  117455412          E   chr6  152981947  152991467   \n",
       "14   chr7  123787495  123793134          E   chr7  141015018  141017643   \n",
       "15  chr10  100185111  100188716          E  chr10  100911854  100914842   \n",
       "16  chr10   73301814   73302637          E  chr10  112212615  112226039   \n",
       "17   chr8   11066997   11069837          E   chr8   11473293   11485455   \n",
       "18   chr1   68750175   68752699          N   chr1   68795323   68796512   \n",
       "19  chr10   24701259   24703782          N  chr10   24993210   24994662   \n",
       "\n",
       "   ENR_CAT_D2 RP_S:RP_T  NLN_PVAL I_CAT  \n",
       "0           N     100:1     64.69    DI  \n",
       "1           N     100:2     61.44    DI  \n",
       "2           N     100:3     58.59    DI  \n",
       "3           E     100:1     64.69    DI  \n",
       "4           E     100:2     61.44    DI  \n",
       "5           E     100:3     58.59    DI  \n",
       "6           E     100:4     56.01    DI  \n",
       "7           N     100:1     64.69    DI  \n",
       "8           N     100:2     61.44    DI  \n",
       "9           N     100:3     58.59    DI  \n",
       "10          N     100:4     56.01    DI  \n",
       "11          N     100:5     53.65    DI  \n",
       "12          E     100:1     64.69    DI  \n",
       "13          E     100:2     61.44    DI  \n",
       "14          E     100:3     58.59    DI  \n",
       "15          E     100:4     56.01    DI  \n",
       "16          E     100:5     53.65    DI  \n",
       "17          E     100:6     51.46    DI  \n",
       "18          N     50:51      0.00   UIR  \n",
       "19          N     50:52      0.08   UIR  "
      ]
     },
     "execution_count": 83,
     "metadata": {},
     "output_type": "execute_result"
    }
   ],
   "source": [
    "df_interaction_file = pandas.read_csv('evaluated_and_categorized_interactions.tsv.gz', compression='gzip', sep='\\t', header=None)\n",
    "df_interaction_file.columns = ['CHR_D1','STA_D1','END_D1','ENR_CAT_D1', \\\n",
    "                               'CHR_D2','STA_D2','END_D2','ENR_CAT_D2', \\\n",
    "                               'RP_S:RP_T', \\\n",
    "                               'NLN_PVAL', \\\n",
    "                               'I_CAT']\n",
    "df_interaction_file.head(20)"
   ]
  }
 ],
 "metadata": {
  "kernelspec": {
   "display_name": "Python 3 (diachscripts_p37env)",
   "language": "python",
   "name": "diachscripts_p37env"
  },
  "language_info": {
   "codemirror_mode": {
    "name": "ipython",
    "version": 3
   },
   "file_extension": ".py",
   "mimetype": "text/x-python",
   "name": "python",
   "nbconvert_exporter": "python",
   "pygments_lexer": "ipython3",
   "version": "3.7.4"
  }
 },
 "nbformat": 4,
 "nbformat_minor": 2
}
