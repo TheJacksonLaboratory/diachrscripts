{
 "cells": [
  {
   "cell_type": "code",
   "execution_count": 1,
   "id": "b5081013",
   "metadata": {},
   "outputs": [],
   "source": [
    "import pyfaidx"
   ]
  },
  {
   "cell_type": "markdown",
   "id": "5a15626c",
   "metadata": {},
   "source": [
    "# Preparation of input files\n",
    "\n",
    "The analysis of Hi-C and CHi-C data is generally very complex. For the preparatory analysis with `Diachromatic`, a tutorial can be found in the Read The Docs for this repository. Here we provide intermediate files for different steps of the analysis with `diachrscripts`."
   ]
  },
  {
   "cell_type": "markdown",
   "id": "231a92fe",
   "metadata": {},
   "source": [
    "## Diachromatic output files\n",
    "\n",
    "`Diachromatic` generates tab-delimited interaction files in which the read pair counts are reported separately according to their relative paired-end orientation. `diachrscripts` is a collection of Python modules, scripts and Jupyter notebooks that can be used to examine interactions for imbalances in the four read pair counts. We have prepared `Diachromatic` output files for publicly available data from three biological replicates ([Mifsud et al. (2015)](https://pubmed.ncbi.nlm.nih.gov/25938943/)) and made them available for download."
   ]
  },
  {
   "cell_type": "code",
   "execution_count": null,
   "id": "88cd7176",
   "metadata": {},
   "outputs": [],
   "source": [
    "# Robin -> Link"
   ]
  },
  {
   "cell_type": "markdown",
   "id": "5c7e64a8",
   "metadata": {},
   "source": [
    "## Pooled Diachromatic interaction files\n",
    "\n",
    "The script `pooler.py` can be used to pool the read pair counts of `Diachromatic` interactions occurring in different replicates. How this script works is documented here: [jupyter_notebooks/usage/usage_of_pooler.ipynb](https://github.com/TheJacksonLaboratory/diachrscripts/blob/master/jupyter_notebooks/usage/usage_of_pooler.ipynb).\n",
    "\n",
    "We pool interactions by discarding those occurring in only one biological replicate and separately summing up the four counts for the remaining, overlapping interactions. Because Diachromatic reports all interactions with at least one supporting read pair, this step can be extremely memory intensive. We have prepared a Diachromatic interaction file with pooled counts from the files for the three biological replicates and made it available for download."
   ]
  },
  {
   "cell_type": "code",
   "execution_count": null,
   "id": "ba13f070",
   "metadata": {},
   "outputs": [],
   "source": [
    "# Robin -> Link"
   ]
  },
  {
   "cell_type": "markdown",
   "id": "a31032d8",
   "metadata": {},
   "source": [
    "## Diachromatic11 files with classified and scored interactions\n",
    "\n",
    "The script `UICer.py` (Unbalanced Interaction Caller) can be used to classify and score interactions from diachromatic interaction files as balanced or unbalanced with regard to imbalances in the four read pair counts."
   ]
  },
  {
   "cell_type": "code",
   "execution_count": null,
   "id": "1e21607c",
   "metadata": {},
   "outputs": [],
   "source": [
    "!mkdir -p ../../UICer_interactions/CHC\n",
    "!wget -O ../../UICer_interactions/CHC/MIF_GM12878_CHC_REPC_evaluated_and_categorized_interactions.tsv.gz https://www.genecascade.org/downloads/diachrscripts/MIF_GM12878_CHC_REPC_evaluated_and_categorized_interactions.tsv.gz"
   ]
  },
  {
   "cell_type": "markdown",
   "id": "12dbbd01",
   "metadata": {},
   "source": [
    "## Reference sequence for GC and repeat content analysis"
   ]
  },
  {
   "cell_type": "code",
   "execution_count": 31,
   "id": "8a53dd1f",
   "metadata": {},
   "outputs": [],
   "source": [
    "GENOME = 'hg38' # hg38, mm10\n",
    "REF_DIR = '../additional_files/reference_sequence/'\n",
    "G_LINK = 'http://hgdownload.soe.ucsc.edu/goldenPath/' + GENOME + '/bigZips/' + GENOME + '.fa.gz'"
   ]
  },
  {
   "cell_type": "code",
   "execution_count": 30,
   "id": "d2404bb9",
   "metadata": {},
   "outputs": [
    {
     "name": "stdout",
     "output_type": "stream",
     "text": [
      "--2023-01-31 07:32:46--  http://hgdownload.soe.ucsc.edu/goldenPath/mm10/bigZips/mm10.fa.gz\n",
      "Resolving hgdownload.soe.ucsc.edu (hgdownload.soe.ucsc.edu)... 128.114.119.163\n",
      "Connecting to hgdownload.soe.ucsc.edu (hgdownload.soe.ucsc.edu)|128.114.119.163|:80... connected.\n",
      "HTTP request sent, awaiting response... 200 OK\n",
      "Length: 870703359 (830M) [application/x-gzip]\n",
      "Saving to: ‘../additional_files/reference_sequence/mm10_genome.fa.gz’\n",
      "\n",
      "../additional_files 100%[===================>] 830.37M  5.93MB/s    in 2m 30s  \n",
      "\n",
      "2023-01-31 07:35:18 (5.55 MB/s) - ‘../additional_files/reference_sequence/mm10_genome.fa.gz’ saved [870703359/870703359]\n",
      "\n"
     ]
    },
    {
     "data": {
      "text/plain": [
       "Faidx(\"../additional_files/reference_sequence/mm10_genome.fa\")"
      ]
     },
     "execution_count": 30,
     "metadata": {},
     "output_type": "execute_result"
    }
   ],
   "source": [
    "!mkdir -p $REF_DIR\n",
    "!wget -O $REF_DIR$GENOME'_genome.fa.gz' $G_LINK\n",
    "!gunzip $REF_DIR$GENOME'_genome.fa.gz'  \n",
    "pyfaidx.Faidx(REF_DIR + GENOME + '_genome.fa')"
   ]
  }
 ],
 "metadata": {
  "kernelspec": {
   "display_name": "dscripts",
   "language": "python",
   "name": "dscripts"
  },
  "language_info": {
   "codemirror_mode": {
    "name": "ipython",
    "version": 3
   },
   "file_extension": ".py",
   "mimetype": "text/x-python",
   "name": "python",
   "nbconvert_exporter": "python",
   "pygments_lexer": "ipython3",
   "version": "3.8.8"
  }
 },
 "nbformat": 4,
 "nbformat_minor": 5
}
