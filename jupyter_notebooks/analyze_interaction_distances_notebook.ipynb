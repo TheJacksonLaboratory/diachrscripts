{
 "cells": [
  {
   "cell_type": "markdown",
   "metadata": {},
   "source": [
    "# Analysis distances between interacting digests\n",
    "\n",
    "In this notebook, we use the script ```diachrscripts/analyze_interaction_distances_script.py``` in order to analyse the distances between interacting digests for simple, twisted, undirected and indefinable interactions. The distance between digests is defined as the distance between the inner ends of two cis interacting digests. Interactions with a distance of less than 10,000 bp are excluded from this analysis.\n",
    "\n",
    "The categories simple, twisted, undirected and indefinable are defined using a binomial distribution. Let ```ks``` and ```kt``` the numbers of simple and twisted read pairs of a given interaction. An interaction is defined to be *simple*, if ```1 - binom.cdf(k = kt-1, n = ks + kt, p = 0.5) <= 0.05``` and ```ks < kt```. Otherwise, if ```1 - binom.cdf(k = ks-1, n = ks + kt, p = 0.5) <= 0.05``` and ```kt < ks``` the interaction is defined to be *twisted*. All remaining interactions are defined to be *undirected*, if ```4 < kt + ks```, or indefinable, if ```kt + ks < 5```.\n",
    "\n",
    "This analysis can be restricted to particular subsets of interactions depending on the status of interacting digest using the ```STATUS_PAIR_FLAG```. The default is ```ALL```. ```AA```, for instance, can be used to restrict the analysis to interactions between digests that were selected for enrichment."
   ]
  },
  {
   "cell_type": "markdown",
   "metadata": {},
   "source": [
    "## Choose dataset\n",
    "\n",
    "We analyzed four datasets, three capture Hi-C (Mifsud 2015, Schoenfelder 2015, Chesi 2019) and one Hi-C dataset (Nora 2017). In this section, individual datasets can be selected for the analysis that can be performed in the third section of this notebook."
   ]
  },
  {
   "cell_type": "markdown",
   "metadata": {},
   "source": [
    "### Mifsud 2015 (capture Hi-C, hg38, HindIII)"
   ]
  },
  {
   "cell_type": "code",
   "execution_count": 76,
   "metadata": {},
   "outputs": [],
   "source": [
    "# Create output directory\n",
    "!mkdir -p ../results/mifsud"
   ]
  },
  {
   "cell_type": "markdown",
   "metadata": {},
   "source": [
    "#### Replicate 1"
   ]
  },
  {
   "cell_type": "code",
   "execution_count": 77,
   "metadata": {},
   "outputs": [],
   "source": [
    "OUT_PREFIX = \"../results/mifsud/k_interaction_analysis_mifsud_r1\"\n",
    "STATUS_PAIR_FLAG = \"ALL\"\n",
    "INTERACTION_FILE = \"../diachrscripts_data/mifsud_2015_hg38/data/gzdir/MIFSUD_R10.interaction.counts.table.gt1.tsv.gz\""
   ]
  },
  {
   "cell_type": "markdown",
   "metadata": {},
   "source": [
    "#### Replicate 2"
   ]
  },
  {
   "cell_type": "code",
   "execution_count": null,
   "metadata": {},
   "outputs": [],
   "source": [
    "OUT_PREFIX = \"../results/mifsud/k_interaction_analysis_mifsud_r2\"\n",
    "STATUS_PAIR_FLAG = \"ALL\"\n",
    "INTERACTION_FILE = \"../diachrscripts_data/mifsud_2015_hg38/data/gzdir/MIFSUD_R20.interaction.counts.table.gt1.tsv.gz\""
   ]
  },
  {
   "cell_type": "markdown",
   "metadata": {},
   "source": [
    "#### Replicate 3"
   ]
  },
  {
   "cell_type": "code",
   "execution_count": null,
   "metadata": {},
   "outputs": [],
   "source": [
    "OUT_PREFIX = \"../results/mifsud/k_interaction_analysis_mifsud_r3\"\n",
    "STATUS_PAIR_FLAG = \"ALL\"\n",
    "INTERACTION_FILE = \"../diachrscripts_data/mifsud_2015_hg38/data/gzdir/MIFSUD_R30.interaction.counts.table.gt1.tsv.gz\""
   ]
  },
  {
   "cell_type": "markdown",
   "metadata": {},
   "source": [
    "### Schoenfelder 2015"
   ]
  },
  {
   "cell_type": "code",
   "execution_count": 86,
   "metadata": {},
   "outputs": [],
   "source": [
    "# Create output directory\n",
    "!mkdir -p ../results/schoenefelder"
   ]
  },
  {
   "cell_type": "markdown",
   "metadata": {},
   "source": [
    "#### Replicate 1"
   ]
  },
  {
   "cell_type": "code",
   "execution_count": 79,
   "metadata": {},
   "outputs": [],
   "source": [
    "OUT_PREFIX = \"../results/schoenefelder/k_interaction_analysis_schoenefelder_r1\"\n",
    "STATUS_PAIR_FLAG = \"ALL\"\n",
    "INTERACTION_FILE = \"../diachrscripts_data/schoenefelder_2015_mm10/data/gzdir/SCHOEN_R10.interaction.counts.table.gt1.tsv.gz\""
   ]
  },
  {
   "cell_type": "markdown",
   "metadata": {},
   "source": [
    "#### Replicate 2"
   ]
  },
  {
   "cell_type": "code",
   "execution_count": 92,
   "metadata": {},
   "outputs": [],
   "source": [
    "OUT_PREFIX = \"../results/schoenefelder/k_interaction_analysis_schoenefelder_r2\"\n",
    "STATUS_PAIR_FLAG = \"ALL\"\n",
    "INTERACTION_FILE = \"../diachrscripts_data/schoenefelder_2015_mm10/data/gzdir/SCHOEN_R20.interaction.counts.table.gt1.tsv.gz\""
   ]
  },
  {
   "cell_type": "markdown",
   "metadata": {},
   "source": [
    "### Chesi 2019"
   ]
  },
  {
   "cell_type": "code",
   "execution_count": 76,
   "metadata": {},
   "outputs": [],
   "source": [
    "# Create output directory\n",
    "!mkdir -p ../results/chesi"
   ]
  },
  {
   "cell_type": "markdown",
   "metadata": {},
   "source": [
    "### Nora 2017 (gone boundary bins)"
   ]
  },
  {
   "cell_type": "code",
   "execution_count": 97,
   "metadata": {},
   "outputs": [],
   "source": [
    "# Create output directory\n",
    "!mkdir -p ../results/nora"
   ]
  },
  {
   "cell_type": "code",
   "execution_count": 98,
   "metadata": {},
   "outputs": [],
   "source": [
    "OUT_PREFIX = \"../results/nora/k_interaction_analysis_nora_GSM2644945\"\n",
    "STATUS_PAIR_FLAG = \"ALL\"\n",
    "INTERACTION_FILE = \"../diachrscripts_data/nora_2017_mm9/data/gzdir_bins/GSM2644945_bins.interaction.counts.table.gt1.tsv.gz\""
   ]
  },
  {
   "cell_type": "markdown",
   "metadata": {},
   "source": [
    "## Perform analysis"
   ]
  },
  {
   "cell_type": "code",
   "execution_count": null,
   "metadata": {
    "scrolled": true
   },
   "outputs": [
    {
     "name": "stdout",
     "output_type": "stream",
     "text": [
      "\t[INFO] 0 interactions processed ...\n",
      "\t[INFO] 1000000 interactions processed ...\n",
      "\t[INFO] 2000000 interactions processed ...\n",
      "\t[INFO] 3000000 interactions processed ...\n",
      "\t[INFO] 4000000 interactions processed ...\n",
      "\t[INFO] 5000000 interactions processed ...\n",
      "\t[INFO] 6000000 interactions processed ...\n",
      "\t[INFO] 7000000 interactions processed ...\n",
      "\t[INFO] 8000000 interactions processed ...\n",
      "\t[INFO] 9000000 interactions processed ...\n",
      "\t[INFO] 10000000 interactions processed ...\n",
      "\t[INFO] 11000000 interactions processed ...\n"
     ]
    }
   ],
   "source": [
    "# Run Python script\n",
    "!python ../analyze_interaction_distances_script.py --out-prefix $OUT_PREFIX --status-pair-flag $STATUS_PAIR_FLAG --interaction-file $INTERACTION_FILE"
   ]
  },
  {
   "cell_type": "code",
   "execution_count": 94,
   "metadata": {},
   "outputs": [
    {
     "name": "stdout",
     "output_type": "stream",
     "text": [
      "Mean distances:\n",
      "\tSimple: 56623\n",
      "\tTwisted: 72224\n",
      "\tUndirected: 65260\n",
      "\tIndefinable: 7509062\n",
      "Median distances:\n",
      "\tSimple: 24348\n",
      "\tTwisted: 31323\n",
      "\tUndirected: 31965\n",
      "\tIndefinable: 224541\n",
      " T-tests:\n",
      "\tSimple vs. Twisted: Ttest_indResult(statistic=-3.439780486931736, pvalue=0.000585444667182493)\n",
      "\tSimple vs. Undirected: Ttest_indResult(statistic=-5.675448196792727, pvalue=1.3867698746972696e-08)\n",
      "\tSimple vs. Indefinable: Ttest_indResult(statistic=-18.976076765368113, pvalue=2.7901487285564247e-80)\n",
      "\tTwisted vs. Undirected: Ttest_indResult(statistic=3.8487769332241153, pvalue=0.00011877727412793397)\n",
      "\tTwisted vs. Indefinable: Ttest_indResult(statistic=-17.5859946611067, pvalue=3.2408105228882374e-69)\n",
      "\tUndirected vs. Indefinable: Ttest_indResult(statistic=-97.9651510084545, pvalue=0.0)\n"
     ]
    }
   ],
   "source": [
    "import numpy as np\n",
    "\n",
    "# Load saved numpy arrays from disk\n",
    "distance_array_simple = np.load(\"../results/mifsud/k_interaction_analysis_mifsud_r1_distance_array_simple.npy\")\n",
    "distance_array_twisted = np.load(\"../results/mifsud/k_interaction_analysis_mifsud_r1_distance_array_twisted.npy\")\n",
    "distance_array_undirected = np.load(\"../results/mifsud/k_interaction_analysis_mifsud_r1_distance_array_undirected.npy\")\n",
    "distance_array_indefinable = np.load(\"../results/mifsud/k_interaction_analysis_mifsud_r1_distance_array_indefinable.npy\")\n",
    "\n",
    "# Determine mean distances\n",
    "print(\"Mean distances:\")\n",
    "print(\"\\tSimple: \" + str(int(distance_array_simple.mean())))\n",
    "print(\"\\tTwisted: \" + str(int(distance_array_twisted.mean())))\n",
    "print(\"\\tUndirected: \" + str(int(distance_array_undirected.mean())))\n",
    "print(\"\\tIndefinable: \" + str(int(distance_array_indefinable.mean())))\n",
    "\n",
    "# Determine median distances\n",
    "print(\"Median distances:\")\n",
    "print(\"\\tSimple: \" + str(int(np.median(distance_array_simple))))\n",
    "print(\"\\tTwisted: \" + str(int(np.median(distance_array_twisted))))\n",
    "print(\"\\tUndirected: \" + str(int(np.median(distance_array_undirected))))\n",
    "print(\"\\tIndefinable: \" + str(int(np.median(distance_array_indefinable))))\n",
    "\n",
    "# Perform T-tests\n",
    "print(\" T-tests:\")\n",
    "from scipy import stats\n",
    "\n",
    "res = stats.ttest_ind(distance_array_simple, distance_array_twisted)\n",
    "print(\"\\tSimple vs. Twisted: \" + str(res))\n",
    "\n",
    "res = stats.ttest_ind(distance_array_simple, distance_array_undirected)\n",
    "print(\"\\tSimple vs. Undirected: \" + str(res))\n",
    "\n",
    "res = stats.ttest_ind(distance_array_simple, distance_array_indefinable)\n",
    "print(\"\\tSimple vs. Indefinable: \" + str(res))\n",
    "\n",
    "res = stats.ttest_ind(distance_array_twisted, distance_array_undirected)\n",
    "print(\"\\tTwisted vs. Undirected: \" + str(res))\n",
    "\n",
    "res = stats.ttest_ind(distance_array_twisted, distance_array_indefinable)\n",
    "print(\"\\tTwisted vs. Indefinable: \" + str(res))\n",
    "\n",
    "res = stats.ttest_ind(distance_array_undirected, distance_array_indefinable)\n",
    "print(\"\\tUndirected vs. Indefinable: \" + str(res))\n",
    "\n"
   ]
  },
  {
   "cell_type": "code",
   "execution_count": 89,
   "metadata": {},
   "outputs": [
    {
     "data": {
      "image/png": "[encoded data removed]",
      "text/plain": [
       "<Figure size 1440x720 with 4 Axes>"
      ]
     },
     "metadata": {
      "needs_background": "light"
     },
     "output_type": "display_data"
    }
   ],
   "source": [
    "# Create distance histograms\n",
    "import matplotlib.pyplot as plt\n",
    "plt.rcParams['figure.figsize'] = [20, 10]\n",
    "num_bins = 1000\n",
    "f, (ax1, ax2, ax3, ax4) = plt.subplots(4, sharex=True, sharey=False)\n",
    "f.canvas.set_window_title('Distances between interacting digests')\n",
    "plt.xlabel(\"Distance\")\n",
    "plt.ylabel(\"Frequency\")\n",
    "\n",
    "ax1.set_title(\"Simple\")\n",
    "n, bins, patches = ax1.hist(distance_array_simple, num_bins, facecolor='blue', alpha=0.5, range=(0,2000000))\n",
    "\n",
    "ax2.set_title(\"Twisted\")\n",
    "n, bins, patches = ax2.hist(distance_array_twisted, num_bins, facecolor='blue', alpha=0.5, range=(0,2000000))\n",
    "\n",
    "ax3.set_title(\"Undirected\")\n",
    "n, bins, patches = ax3.hist(distance_array_undirected, num_bins, facecolor='blue', alpha=0.5, range=(0,2000000))\n",
    "\n",
    "ax4.set_title(\"Indefinable\")\n",
    "n, bins, patches = ax4.hist(distance_array_indefinable, num_bins, facecolor='blue', alpha=0.5, range=(0,2000000))\n",
    "\n",
    "plt.show()"
   ]
  },
  {
   "cell_type": "code",
   "execution_count": 90,
   "metadata": {},
   "outputs": [
    {
     "data": {
      "image/png": "[encoded data removed]",
      "text/plain": [
       "<Figure size 648x432 with 1 Axes>"
      ]
     },
     "metadata": {
      "needs_background": "light"
     },
     "output_type": "display_data"
    }
   ],
   "source": [
    "# Create boxplot for simple, twisted, undirected and indefinable\n",
    "\n",
    "# Combine arrays into a list    \n",
    "data_to_plot = [distance_array_simple, distance_array_twisted, distance_array_undirected, distance_array_indefinable]\n",
    "\n",
    "# Create a figure instance\n",
    "fig = plt.figure(1, figsize=(9, 6))\n",
    "\n",
    "# Create an axes instance\n",
    "ax = fig.add_subplot(111)\n",
    "\n",
    "# Create the boxplot\n",
    "bp = ax.boxplot(data_to_plot, showfliers=False)\n",
    "plt.xticks([1, 2, 3, 4], ['Simple', 'Twisted', 'Undirected', 'Indefinable'])\n",
    "\n",
    "# Save the figure\n",
    "fig.savefig('boxplot_1.png', bbox_inches='tight')\n"
   ]
  },
  {
   "cell_type": "code",
   "execution_count": 91,
   "metadata": {},
   "outputs": [
    {
     "data": {
      "image/png": "[encoded data removed]",
      "text/plain": [
       "<Figure size 648x432 with 1 Axes>"
      ]
     },
     "metadata": {
      "needs_background": "light"
     },
     "output_type": "display_data"
    }
   ],
   "source": [
    "# Create boxplot for simple, twisted, undirected only\n",
    "\n",
    "# Combine these different collections into a list    \n",
    "data_to_plot = [distance_array_simple, distance_array_twisted, distance_array_undirected]\n",
    "\n",
    "# Create a figure instance\n",
    "fig = plt.figure(1, figsize=(9, 6))\n",
    "\n",
    "# Create an axes instance\n",
    "ax = fig.add_subplot(111)\n",
    "\n",
    "# Create the boxplot\n",
    "bp = ax.boxplot(data_to_plot, showfliers=False)\n",
    "plt.xticks([1, 2, 3], ['Simple', 'Twisted', 'Undirected'])\n",
    "\n",
    "# Save the figure\n",
    "fig.savefig('boxplot_2.png', bbox_inches='tight')"
   ]
  }
 ],
 "metadata": {
  "kernelspec": {
   "display_name": "Python 3 (diachscripts_p37env)",
   "language": "python",
   "name": "diachscripts_p37env"
  },
  "language_info": {
   "codemirror_mode": {
    "name": "ipython",
    "version": 3
   },
   "file_extension": ".py",
   "mimetype": "text/x-python",
   "name": "python",
   "nbconvert_exporter": "python",
   "pygments_lexer": "ipython3",
   "version": "3.7.4"
  }
 },
 "nbformat": 4,
 "nbformat_minor": 2
}
