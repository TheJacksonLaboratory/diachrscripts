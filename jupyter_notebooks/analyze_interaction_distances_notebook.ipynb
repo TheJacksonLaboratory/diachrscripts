{
 "cells": [
  {
   "cell_type": "markdown",
   "metadata": {},
   "source": [
    "# Analysis of distances between interacting digests"
   ]
  },
  {
   "cell_type": "markdown",
   "metadata": {},
   "source": [
    "## Description of the analysis\n",
    "\n",
    "In this notebook, we use the script [```diachrscripts/analyze_interaction_distances_script.py```](https://github.com/TheJacksonLaboratory/diachrscripts/blob/master/analyze_interaction_distances_script.py) in order to analyse the distances between interacting digests for simple, twisted, undirected and indefinable interactions. The distance between digests is defined as the distance between the inner ends of two cis interacting digests. Interactions with a distance of less than 10,000 bp are excluded from this analysis.\n",
    "\n",
    "The categories simple, twisted, undirected and indefinable are defined using a binomial distribution. Let ```ks``` and ```kt``` the numbers of simple and twisted read pairs of a given interaction. An interaction is defined to be *simple*, if ```1 - binom.cdf(k = kt-1, n = ks + kt, p = 0.5) <= 0.05``` and ```ks < kt```. Otherwise, if ```1 - binom.cdf(k = ks-1, n = ks + kt, p = 0.5) <= 0.05``` and ```kt < ks``` the interaction is defined to be *twisted*. All remaining interactions are defined to be *undirected*, if ```4 < kt + ks```, or indefinable, if ```kt + ks < 5```.\n",
    "\n",
    "This analysis can be restricted to particular subsets of interactions depending on the status of interacting digest using the ```STATUS_PAIR_FLAG```. The default is ```ALL```. ```AA```, for instance, can be used to restrict the analysis to interactions between digests that were selected for enrichment."
   ]
  },
  {
   "cell_type": "markdown",
   "metadata": {},
   "source": [
    "## Choose dataset\n",
    "\n",
    "We analyzed four datasets, three capture Hi-C (Mifsud 2015, Schoenfelder 2015, Chesi 2019) and one Hi-C dataset (Nora 2017). In this section, individual datasets can be selected for the analysis that can be performed in the third section of this notebook."
   ]
  },
  {
   "cell_type": "markdown",
   "metadata": {},
   "source": [
    "### Mifsud 2015 (Promoter capture Hi-C, GM12878 and CD34+ blood cells, hg38, HindIII)"
   ]
  },
  {
   "cell_type": "code",
   "execution_count": 15,
   "metadata": {},
   "outputs": [],
   "source": [
    "# Create output directory\n",
    "!mkdir -p ../results/mifsud/digest_distance"
   ]
  },
  {
   "cell_type": "markdown",
   "metadata": {},
   "source": [
    "#### Replicate 1"
   ]
  },
  {
   "cell_type": "code",
   "execution_count": 17,
   "metadata": {},
   "outputs": [],
   "source": [
    "OUT_PREFIX = \"../results/mifsud/digest_distance/digest_distance_analysis_mifsud_r1\"\n",
    "STATUS_PAIR_FLAG = \"ALL\"\n",
    "INTERACTION_FILE = \"../diachrscripts_data/mifsud_2015_hg38/data/gzdir/MIFSUD_R10.interaction.counts.table.gt1.tsv.gz\"\n",
    "INTERACTION_FILE = \"../XXX_interactions.txt.gz\""
   ]
  },
  {
   "cell_type": "markdown",
   "metadata": {},
   "source": [
    "#### Replicate 2"
   ]
  },
  {
   "cell_type": "code",
   "execution_count": 165,
   "metadata": {},
   "outputs": [],
   "source": [
    "OUT_PREFIX = \"../results/mifsud/digest_distance/digest_distance_analysis_mifsud_r2\"\n",
    "STATUS_PAIR_FLAG = \"ALL\"\n",
    "INTERACTION_FILE = \"../diachrscripts_data/mifsud_2015_hg38/data/gzdir/MIFSUD_R20.interaction.counts.table.gt1.tsv.gz\""
   ]
  },
  {
   "cell_type": "markdown",
   "metadata": {},
   "source": [
    "#### Replicate 3"
   ]
  },
  {
   "cell_type": "code",
   "execution_count": 47,
   "metadata": {},
   "outputs": [],
   "source": [
    "OUT_PREFIX = \"../results/mifsud/digest_distance/digest_distance_analysis_mifsud_r3\"\n",
    "STATUS_PAIR_FLAG = \"ALL\"\n",
    "INTERACTION_FILE = \"../diachrscripts_data/mifsud_2015_hg38/data/gzdir/MIFSUD_R30.interaction.counts.table.gt1.tsv.gz\""
   ]
  },
  {
   "cell_type": "markdown",
   "metadata": {},
   "source": [
    "#### Interactions in at least two replicates"
   ]
  },
  {
   "cell_type": "code",
   "execution_count": null,
   "metadata": {},
   "outputs": [],
   "source": [
    "OUT_PREFIX = \"../results/mifsud/digest_distance/digest_distance_analysis_mifsud_at_least_2\"\n",
    "STATUS_PAIR_FLAG = \"ALL\"\n",
    "INTERACTION_FILE = \"../diachrscripts_data/mifsud_2015_hg38/data/gzdir/MIFSUD_R30.interaction.counts.table.gt1.tsv.gz\""
   ]
  },
  {
   "cell_type": "markdown",
   "metadata": {},
   "source": [
    "### Schoenfelder 2015 (Promoter capture Hi-C, mES cells, mm10, HindIII)"
   ]
  },
  {
   "cell_type": "code",
   "execution_count": 2,
   "metadata": {},
   "outputs": [],
   "source": [
    "# Create output directory\n",
    "!mkdir -p ../results/schoenefelder/digest_distance"
   ]
  },
  {
   "cell_type": "markdown",
   "metadata": {},
   "source": [
    "#### Replicate 1"
   ]
  },
  {
   "cell_type": "code",
   "execution_count": 81,
   "metadata": {},
   "outputs": [],
   "source": [
    "OUT_PREFIX = \"../results/schoenefelder/digest_distance/digest_distance_analysis_schoenefelder_r1\"\n",
    "STATUS_PAIR_FLAG = \"ALL\"\n",
    "INTERACTION_FILE = \"../diachrscripts_data/schoenefelder_2015_mm10/data/gzdir/SCHOEN_R10.interaction.counts.table.gt1.tsv.gz\""
   ]
  },
  {
   "cell_type": "markdown",
   "metadata": {},
   "source": [
    "#### Replicate 2"
   ]
  },
  {
   "cell_type": "code",
   "execution_count": 87,
   "metadata": {},
   "outputs": [],
   "source": [
    "OUT_PREFIX = \"../results/schoenefelder/digest_distance/digest_distance_analysis_schoenefelder_r2\"\n",
    "STATUS_PAIR_FLAG = \"ALL\"\n",
    "INTERACTION_FILE = \"../diachrscripts_data/schoenefelder_2015_mm10/data/gzdir/SCHOEN_R20.interaction.counts.table.gt1.tsv.gz\""
   ]
  },
  {
   "cell_type": "markdown",
   "metadata": {},
   "source": [
    "#### Interactions in at least two replicates (Schönefelder)"
   ]
  },
  {
   "cell_type": "code",
   "execution_count": 53,
   "metadata": {},
   "outputs": [],
   "source": [
    "OUT_PREFIX = \"../results/schoenefelder/digest_distance/digest_distance_analysis_schoenefelder_at_least_2\"\n",
    "STATUS_PAIR_FLAG = \"ALL\"\n",
    "INTERACTION_FILE = \"../schoenefelder_interactions.txt.gz\""
   ]
  },
  {
   "cell_type": "markdown",
   "metadata": {},
   "source": [
    "### Chesi 2019 (Promoter Capture-C, BMP2 induced osteoblasts and HepG2 cells, hg38, DpnII)"
   ]
  },
  {
   "cell_type": "code",
   "execution_count": 10,
   "metadata": {},
   "outputs": [],
   "source": [
    "# Create output directory\n",
    "!mkdir -p ../results/chesi/digest_distance"
   ]
  },
  {
   "cell_type": "markdown",
   "metadata": {},
   "source": [
    "#### Replicate 1 - BMP2"
   ]
  },
  {
   "cell_type": "code",
   "execution_count": 94,
   "metadata": {},
   "outputs": [],
   "source": [
    "OUT_PREFIX = \"../results/chesi/digest_distance/digest_distance_analysis_chesi_bmp2_r1\"\n",
    "STATUS_PAIR_FLAG = \"ALL\"\n",
    "INTERACTION_FILE = \"../diachrscripts_data/chesi_2019_hg38/data/gzdir_bmp2/CHESI_BMP2_R10.interaction.counts.table.gt1.tsv.gz\""
   ]
  },
  {
   "cell_type": "markdown",
   "metadata": {},
   "source": [
    "#### Replicate 2 - BMP2"
   ]
  },
  {
   "cell_type": "code",
   "execution_count": 100,
   "metadata": {},
   "outputs": [],
   "source": [
    "OUT_PREFIX = \"../results/chesi/digest_distance/digest_distance_analysis_chesi_bmp2_r2\"\n",
    "STATUS_PAIR_FLAG = \"ALL\"\n",
    "INTERACTION_FILE = \"../diachrscripts_data/chesi_2019_hg38/data/gzdir_bmp2/CHESI_BMP2_R20.interaction.counts.table.gt1.tsv.gz\""
   ]
  },
  {
   "cell_type": "markdown",
   "metadata": {},
   "source": [
    "#### Replicate 3 - BMP2"
   ]
  },
  {
   "cell_type": "code",
   "execution_count": 113,
   "metadata": {},
   "outputs": [],
   "source": [
    "OUT_PREFIX = \"../results/chesi/digest_distance/digest_distance_analysis_chesi_bmp2_r3\"\n",
    "STATUS_PAIR_FLAG = \"ALL\"\n",
    "INTERACTION_FILE = \"../diachrscripts_data/chesi_2019_hg38/data/gzdir_bmp2/CHESI_BMP2_R30.interaction.counts.table.gt1.tsv.gz\""
   ]
  },
  {
   "cell_type": "markdown",
   "metadata": {},
   "source": [
    "#### Replicate 1 - HEPG2"
   ]
  },
  {
   "cell_type": "code",
   "execution_count": 119,
   "metadata": {},
   "outputs": [],
   "source": [
    "OUT_PREFIX = \"../results/chesi/digest_distance/digest_distance_analysis_chesi_hepg2_r1\"\n",
    "STATUS_PAIR_FLAG = \"ALL\"\n",
    "INTERACTION_FILE = \"../diachrscripts_data/chesi_2019_hg38/data/gzdir_hepg2/CHESI_HEPG2_R10.interaction.counts.table.gt1.tsv.gz\""
   ]
  },
  {
   "cell_type": "markdown",
   "metadata": {},
   "source": [
    "#### Replicate 2 - HEPG2"
   ]
  },
  {
   "cell_type": "code",
   "execution_count": 126,
   "metadata": {},
   "outputs": [],
   "source": [
    "OUT_PREFIX = \"../results/chesi/digest_distance/digest_distance_analysis_chesi_hepg2_r2\"\n",
    "STATUS_PAIR_FLAG = \"ALL\"\n",
    "INTERACTION_FILE = \"../diachrscripts_data/chesi_2019_hg38/data/gzdir_hepg2/CHESI_HEPG2_R20.interaction.counts.table.gt1.tsv.gz\""
   ]
  },
  {
   "cell_type": "markdown",
   "metadata": {},
   "source": [
    "#### Replicate 3 - HEPG2"
   ]
  },
  {
   "cell_type": "code",
   "execution_count": 132,
   "metadata": {},
   "outputs": [],
   "source": [
    "OUT_PREFIX = \"../results/chesi/digest_distance/digest_distance_analysis_chesi_hepg2_r3\"\n",
    "STATUS_PAIR_FLAG = \"ALL\"\n",
    "INTERACTION_FILE = \"../diachrscripts_data/chesi_2019_hg38/data/gzdir_hepg2/CHESI_HEPG2_R30.interaction.counts.table.gt1.tsv.gz\""
   ]
  },
  {
   "cell_type": "markdown",
   "metadata": {},
   "source": [
    "### Nora 2017 (gone boundary bins)"
   ]
  },
  {
   "cell_type": "code",
   "execution_count": 138,
   "metadata": {},
   "outputs": [],
   "source": [
    "# Create output directory\n",
    "!mkdir -p ../results/nora/digest_distance"
   ]
  },
  {
   "cell_type": "markdown",
   "metadata": {},
   "source": [
    "#### Replicate 1 - before CTCF-depletion"
   ]
  },
  {
   "cell_type": "code",
   "execution_count": 141,
   "metadata": {},
   "outputs": [],
   "source": [
    "OUT_PREFIX = \"../results/nora/digest_distance/digest_distance_analysis_nora_GSM2644945\"\n",
    "STATUS_PAIR_FLAG = \"ALL\"\n",
    "INTERACTION_FILE = \"../diachrscripts_data/nora_2017_mm9/data/gzdir_bins/GSM2644945_bins.interaction.counts.table.gt1.tsv.gz\""
   ]
  },
  {
   "cell_type": "markdown",
   "metadata": {},
   "source": [
    "#### Replicate 2 - before CTCF-depletion"
   ]
  },
  {
   "cell_type": "code",
   "execution_count": 147,
   "metadata": {},
   "outputs": [],
   "source": [
    "OUT_PREFIX = \"../results/nora/digest_distance/digest_distance_analysis_nora_GSM2644946\"\n",
    "STATUS_PAIR_FLAG = \"ALL\"\n",
    "INTERACTION_FILE = \"../diachrscripts_data/nora_2017_mm9/data/gzdir_bins/GSM2644946_bins.interaction.counts.table.gt1.tsv.gz\""
   ]
  },
  {
   "cell_type": "markdown",
   "metadata": {},
   "source": [
    "#### Replicate 1 - after CTCF-depletion"
   ]
  },
  {
   "cell_type": "code",
   "execution_count": 153,
   "metadata": {},
   "outputs": [],
   "source": [
    "OUT_PREFIX = \"../results/nora/digest_distance/digest_distance_analysis_nora_GSM2644947\"\n",
    "STATUS_PAIR_FLAG = \"ALL\"\n",
    "INTERACTION_FILE = \"../diachrscripts_data/nora_2017_mm9/data/gzdir_bins/GSM2644947_bins.interaction.counts.table.gt1.tsv.gz\""
   ]
  },
  {
   "cell_type": "markdown",
   "metadata": {},
   "source": [
    "#### Replicate 2 - after CTCF-depletion"
   ]
  },
  {
   "cell_type": "code",
   "execution_count": 159,
   "metadata": {},
   "outputs": [],
   "source": [
    "OUT_PREFIX = \"../results/nora/digest_distance/digest_distance_analysis_nora_GSM2644948\"\n",
    "STATUS_PAIR_FLAG = \"ALL\"\n",
    "INTERACTION_FILE = \"../diachrscripts_data/nora_2017_mm9/data/gzdir_bins/GSM2644948_bins.interaction.counts.table.gt1.tsv.gz\""
   ]
  },
  {
   "cell_type": "markdown",
   "metadata": {},
   "source": [
    "### Interactions in at least two replicates"
   ]
  },
  {
   "cell_type": "markdown",
   "metadata": {},
   "source": [
    "#### Interactions in at least two replicates (Mifsud)"
   ]
  },
  {
   "cell_type": "code",
   "execution_count": 25,
   "metadata": {},
   "outputs": [],
   "source": [
    "OUT_PREFIX = \"../results/mifsud/digest_distance/digest_distance_analysis_mifsud_at_least_2\"\n",
    "STATUS_PAIR_FLAG = \"ALL\"\n",
    "INTERACTION_FILE = \"../mifsud_interactions.txt.gz\"\n",
    "INTERACTION_FILE = \"../alt_interactions/mifsud_alt_interactions.txt.gz\"\n",
    "P_VALUE_CUTOFF = 0.0035"
   ]
  },
  {
   "cell_type": "markdown",
   "metadata": {},
   "source": [
    "#### Interactions in at least two replicates (Schönefelder)"
   ]
  },
  {
   "cell_type": "code",
   "execution_count": 2,
   "metadata": {},
   "outputs": [],
   "source": [
    "OUT_PREFIX = \"../results/schoenefelder/digest_distance/digest_distance_analysis_schoenefelder_at_least_2\"\n",
    "STATUS_PAIR_FLAG = \"ALL\"\n",
    "INTERACTION_FILE = \"../schoenefelder_interactions.txt.gz\"\n",
    "#INTERACTION_FILE = \"../schoenefelder_pv_interactions.txt.gz\"\n",
    "P_VALUE_CUTOFF = 0.003"
   ]
  },
  {
   "cell_type": "markdown",
   "metadata": {},
   "source": [
    "#### Interactions in at least two replicates (Chesi - BMP2)"
   ]
  },
  {
   "cell_type": "code",
   "execution_count": 31,
   "metadata": {},
   "outputs": [],
   "source": [
    "OUT_PREFIX = \"../results/chesi/digest_distance/digest_distance_analysis_chesi_bmp2_at_least_2\"\n",
    "STATUS_PAIR_FLAG = \"ALL\"\n",
    "INTERACTION_FILE = \"../chesi_bmp2_interactions.txt.gz\"\n",
    "INTERACTION_FILE = \"../alt_interactions/chesi_bmp2_alt_interactions.txt.gz\"\n",
    "P_VALUE_CUTOFF = 0.003"
   ]
  },
  {
   "cell_type": "markdown",
   "metadata": {},
   "source": [
    "#### Interactions in at least two replicates (Chesi - HEPG2)"
   ]
  },
  {
   "cell_type": "code",
   "execution_count": 35,
   "metadata": {},
   "outputs": [],
   "source": [
    "OUT_PREFIX = \"../results/chesi/digest_distance/digest_distance_analysis_chesi_hepg2_at_least_2\"\n",
    "STATUS_PAIR_FLAG = \"ALL\"\n",
    "INTERACTION_FILE = \"../alt_interactions/chesi_hepg2_alt_interactions.txt.gz\"\n",
    "P_VALUE_CUTOFF = 0.0005"
   ]
  },
  {
   "cell_type": "markdown",
   "metadata": {},
   "source": [
    "#### Interactions in at least two replicates (Nora - untreated)"
   ]
  },
  {
   "cell_type": "code",
   "execution_count": 63,
   "metadata": {},
   "outputs": [],
   "source": [
    "OUT_PREFIX = \"../results/nora/digest_distance/digest_distance_analysis_nora_untreated_pv_at_least_2\"\n",
    "STATUS_PAIR_FLAG = \"ALL\"\n",
    "INTERACTION_FILE = \"../nora_untreated_pv_interactions.txt.gz\"\n",
    "P_VALUE_CUTOFF = 0.05"
   ]
  },
  {
   "cell_type": "markdown",
   "metadata": {},
   "source": [
    "#### Interactions in at least two replicates (Nora - treated)"
   ]
  },
  {
   "cell_type": "code",
   "execution_count": 65,
   "metadata": {},
   "outputs": [],
   "source": [
    "OUT_PREFIX = \"../results/nora/digest_distance/digest_distance_analysis_nora_treated_pv_at_least_2\"\n",
    "STATUS_PAIR_FLAG = \"ALL\"\n",
    "INTERACTION_FILE = \"../nora_treated_pv_interactions.txt.gz\"\n",
    "P_VALUE_CUTOFF = 0.05"
   ]
  },
  {
   "cell_type": "markdown",
   "metadata": {},
   "source": [
    "## Perform analysis"
   ]
  },
  {
   "cell_type": "code",
   "execution_count": 19,
   "metadata": {
    "scrolled": true
   },
   "outputs": [
    {
     "name": "stdout",
     "output_type": "stream",
     "text": [
      "[INFO] Input parameters\n",
      "\t[INFO] --out-prefix: ../results/schoenefelder/digest_distance/digest_distance_analysis_schoenefelder_at_least_2\n",
      "\t[INFO] --interaction-file: ../schoenefelder_interactions.txt.gz\n",
      "\t[INFO] --status-pair-flag: ALL\n",
      "\t[INFO] --p-value-cutoff: 0.003\n",
      "[INFO] Determining distances between digest pairs in ../schoenefelder_interactions.txt.gz ...\n",
      "\t[INFO] 0 interactions processed ...\n",
      "\t[INFO] 1000000 interactions processed ...\n",
      "\t[INFO] 2000000 interactions processed ...\n",
      "[INFO] Summary statistics\n",
      "\t[INFO] Total number of interactions: 2897721\n",
      "\t[INFO] Number of non ALL interactions: 0 (discarded)\n",
      "\t[INFO] Number of trans and short range interactions: 495430 (discarded)\n",
      "\t[INFO] Number of simple interactions: 5986\n",
      "\t[INFO] Number of twisted interactions: 5629\n",
      "\t[INFO] Number of undirected interactions: 2076345\n",
      "\t[INFO] Number of indefinable interactions: 314331\n",
      "\t[INFO] Number of read pairs in simple interactions: 128113 (21.402104911460075)\n",
      "\t[INFO] Number of read pairs in twisted interactions: 115990 (20.605791437200214)\n",
      "\t[INFO] Number of read pairs in undirected interactions: 24076445 (11.595589846581372)\n",
      "\t[INFO] Number of read pairs in indefinable interactions: 1257324 (4.0)\n",
      "[INFO] Writing numpy arrays with distances to disk ...\n",
      "[INFO] Writing arrays with distances to files ...\n",
      "[INFO] ... done.\n"
     ]
    }
   ],
   "source": [
    "# Run Python script\n",
    "!python ../analyze_interaction_distances_script.py --p-value-cutoff $P_VALUE_CUTOFF --out-prefix $OUT_PREFIX --status-pair-flag $STATUS_PAIR_FLAG --interaction-file $INTERACTION_FILE"
   ]
  },
  {
   "cell_type": "code",
   "execution_count": 6,
   "metadata": {},
   "outputs": [],
   "source": [
    "# Load modules\n",
    "import numpy as np\n",
    "from scipy import stats\n",
    "import matplotlib.pyplot as plt"
   ]
  },
  {
   "cell_type": "code",
   "execution_count": 20,
   "metadata": {},
   "outputs": [
    {
     "name": "stdout",
     "output_type": "stream",
     "text": [
      "Interaction numbers:\n",
      "\tSimple: 5986\n",
      "\tTwisted: 5629\n",
      "\tUndirected: 2076345\n",
      "Mean distances:\n",
      "\tSimple: 596024\n",
      "\tTwisted: 785630\n",
      "\tUndirected: 297708\n",
      "Median distances:\n",
      "\tSimple: 45851\n",
      "\tTwisted: 53919\n",
      "\tUndirected: 177805\n",
      " t-tests:\n",
      "\tSimple vs. Twisted: (19.277783674671504, 1.1301372867971265e-05, 49727.0, array([[2874, 2933],\n",
      "       [3112, 2696]]))\n",
      "\tSimple vs. Undirected: (2776.5958725981977, 0.0, 177302.0, array([[    957, 1040206],\n",
      "       [   5029, 1036139]]))\n",
      "\tTwisted vs. Undirected: (2459.778194584748, 0.0, 177347.5, array([[    956, 1040031],\n",
      "       [   4673, 1036314]]))\n"
     ]
    }
   ],
   "source": [
    "# Load saved numpy arrays from disk\n",
    "array_path = OUT_PREFIX + \"_distance_array_simple.npy\"\n",
    "distance_array_simple = np.load(array_path)\n",
    "array_path = OUT_PREFIX + \"_distance_array_twisted.npy\"\n",
    "distance_array_twisted = np.load(array_path)\n",
    "array_path = OUT_PREFIX + \"_distance_array_undirected.npy\"\n",
    "distance_array_undirected = np.load(array_path)\n",
    "array_path = OUT_PREFIX + \"_distance_array_indefinable.npy\"\n",
    "distance_array_indefinable = np.load(array_path)\n",
    "\n",
    "# Dertermine interaction numbers\n",
    "print(\"Interaction numbers:\")\n",
    "print(\"\\tSimple: \" + str(len(distance_array_simple)))\n",
    "print(\"\\tTwisted: \" + str(len(distance_array_twisted)))\n",
    "print(\"\\tUndirected: \" + str(len(distance_array_undirected)))\n",
    "#print(\"\\tIndefinable: \" + str(len(distance_array_indefinable)))\n",
    "\n",
    "# Determine mean distances\n",
    "print(\"Mean distances:\")\n",
    "print(\"\\tSimple: \" + str(int(distance_array_simple.mean())))\n",
    "print(\"\\tTwisted: \" + str(int(distance_array_twisted.mean())))\n",
    "print(\"\\tUndirected: \" + str(int(distance_array_undirected.mean())))\n",
    "#print(\"\\tIndefinable: \" + str(int(distance_array_indefinable.mean())))\n",
    "\n",
    "# Determine median distances\n",
    "print(\"Median distances:\")\n",
    "print(\"\\tSimple: \" + str(int(np.median(distance_array_simple))))\n",
    "print(\"\\tTwisted: \" + str(int(np.median(distance_array_twisted))))\n",
    "print(\"\\tUndirected: \" + str(int(np.median(distance_array_undirected))))\n",
    "#print(\"\\tIndefinable: \" + str(int(np.median(distance_array_indefinable))))\n",
    "\n",
    "# Perform t-tests\n",
    "print(\" t-tests:\")\n",
    "\n",
    "res = stats.median_test(distance_array_simple, distance_array_twisted)\n",
    "print(\"\\tSimple vs. Twisted: \" + str(res))\n",
    "\n",
    "res = stats.median_test(distance_array_simple, distance_array_undirected)\n",
    "print(\"\\tSimple vs. Undirected: \" + str(res))\n",
    "\n",
    "#res = stats.median_test(distance_array_simple, distance_array_indefinable)\n",
    "#print(\"\\tSimple vs. Indefinable: \" + str(res))\n",
    "\n",
    "res = stats.median_test(distance_array_twisted, distance_array_undirected)\n",
    "print(\"\\tTwisted vs. Undirected: \" + str(res))\n",
    "\n",
    "#res = stats.median_test(distance_array_twisted, distance_array_indefinable)\n",
    "#print(\"\\tTwisted vs. Indefinable: \" + str(res))\n",
    "\n",
    "#res = stats.median_test(distance_array_undirected, distance_array_indefinable)\n",
    "#print(\"\\tUndirected vs. Indefinable: \" + str(res))\n"
   ]
  },
  {
   "cell_type": "code",
   "execution_count": 21,
   "metadata": {},
   "outputs": [
    {
     "data": {
      "image/png": "[encoded data removed]",
      "text/plain": [
       "<Figure size 648x432 with 1 Axes>"
      ]
     },
     "metadata": {
      "needs_background": "light"
     },
     "output_type": "display_data"
    }
   ],
   "source": [
    "# Create boxplot for simple, twisted, undirected and indefinable\n",
    "\n",
    "# Combine arrays into a list    \n",
    "data_to_plot = [distance_array_simple, distance_array_twisted, distance_array_undirected, distance_array_indefinable]\n",
    "\n",
    "# Create a figure instance\n",
    "fig = plt.figure(1, figsize=(9, 6))\n",
    "\n",
    "# Create an axes instance\n",
    "ax = fig.add_subplot(111)\n",
    "\n",
    "# Create the boxplot\n",
    "bp = ax.boxplot(data_to_plot, showfliers=False)\n",
    "\n",
    "# Add interaction numbers to boxplot\n",
    "ax.xaxis.tick_top()\n",
    "plt.xticks([1, 2, 3, 4], [\"Simple: \" + str(len(distance_array_simple)), \"Twisted: \" + str(len(distance_array_twisted)), \"Undirected: \" + str(len(distance_array_undirected)), \"Indefinable: \" + str(len(distance_array_indefinable))])\n",
    "\n",
    "# Save the figure\n",
    "plt.title(OUT_PREFIX)\n",
    "figure_name = OUT_PREFIX + \"_boxplot_1.pdf\"\n",
    "fig.savefig(figure_name, bbox_inches='tight', format = \"pdf\")\n"
   ]
  },
  {
   "cell_type": "code",
   "execution_count": 22,
   "metadata": {},
   "outputs": [
    {
     "data": {
      "image/png": "[encoded data removed]",
      "text/plain": [
       "<Figure size 648x432 with 1 Axes>"
      ]
     },
     "metadata": {
      "needs_background": "light"
     },
     "output_type": "display_data"
    }
   ],
   "source": [
    "# Create boxplot for simple, twisted, undirected only\n",
    "\n",
    "# Combine these different collections into a list    \n",
    "data_to_plot = [distance_array_simple, distance_array_twisted, distance_array_undirected]\n",
    "\n",
    "# Create a figure instance\n",
    "fig = plt.figure(1, figsize=(9, 6))\n",
    "\n",
    "# Create an axes instance\n",
    "ax = fig.add_subplot(111)\n",
    "\n",
    "# Create the boxplot\n",
    "bp = ax.boxplot(data_to_plot, showfliers=False)\n",
    "#plt.xticks([1, 2, 3], ['Simple', 'Twisted', 'Undirected'])\n",
    "\n",
    "# Add interaction numbers to boxplot\n",
    "ax.xaxis.tick_top()\n",
    "plt.xticks([1, 2, 3], [\"Simple: \" + str(len(distance_array_simple)), \"Twisted: \" + str(len(distance_array_twisted)), \"Undirected: \" + str(len(distance_array_undirected))])\n",
    "\n",
    "\n",
    "\n",
    "# Save the figure\n",
    "plt.title(OUT_PREFIX)\n",
    "figure_name = OUT_PREFIX + \"_boxplot_2.pdf\"\n",
    "fig.savefig(figure_name, bbox_inches='tight', format = \"pdf\")"
   ]
  },
  {
   "cell_type": "code",
   "execution_count": 23,
   "metadata": {},
   "outputs": [
    {
     "data": {
      "image/png": "[encoded data removed]",
      "text/plain": [
       "<Figure size 1440x720 with 4 Axes>"
      ]
     },
     "metadata": {
      "needs_background": "light"
     },
     "output_type": "display_data"
    }
   ],
   "source": [
    "# Create distance histograms\n",
    "plt.rcParams['figure.figsize'] = [20, 10]\n",
    "num_bins = 1000\n",
    "f, (ax1, ax2, ax3, ax4) = plt.subplots(4, sharex=True, sharey=False)\n",
    "f.canvas.set_window_title('Distances between interacting digests')\n",
    "plt.title(OUT_PREFIX)\n",
    "plt.xlabel(\"Distance\")\n",
    "plt.ylabel(\"Frequency\")\n",
    "\n",
    "ax1.set_title(\"Simple\")\n",
    "n, bins, patches = ax1.hist(distance_array_simple, num_bins, facecolor='blue', alpha=0.5, range=(0,2000000))\n",
    "\n",
    "ax2.set_title(\"Twisted\")\n",
    "n, bins, patches = ax2.hist(distance_array_twisted, num_bins, facecolor='blue', alpha=0.5, range=(0,2000000))\n",
    "\n",
    "ax3.set_title(\"Undirected\")\n",
    "n, bins, patches = ax3.hist(distance_array_undirected, num_bins, facecolor='blue', alpha=0.5, range=(0,2000000))\n",
    "\n",
    "ax4.set_title(\"Indefinable\")\n",
    "n, bins, patches = ax4.hist(distance_array_indefinable, num_bins, facecolor='blue', alpha=0.5, range=(0,2000000))\n",
    "\n",
    "# Save the figure\n",
    "f.suptitle(OUT_PREFIX)\n",
    "figure_name = OUT_PREFIX + \"_histogram.pdf\"\n",
    "f.savefig(figure_name, bbox_inches='tight', format = \"pdf\")"
   ]
  }
 ],
 "metadata": {
  "kernelspec": {
   "display_name": "Python 3 (diachscripts_p37env)",
   "language": "python",
   "name": "diachscripts_p37env"
  },
  "language_info": {
   "codemirror_mode": {
    "name": "ipython",
    "version": 3
   },
   "file_extension": ".py",
   "mimetype": "text/x-python",
   "name": "python",
   "nbconvert_exporter": "python",
   "pygments_lexer": "ipython3",
   "version": "3.7.4"
  }
 },
 "nbformat": 4,
 "nbformat_minor": 2
}
