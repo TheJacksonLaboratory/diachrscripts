{
 "cells": [
  {
   "cell_type": "markdown",
   "metadata": {},
   "source": [
    "# Analysis of distances between interacting digests"
   ]
  },
  {
   "cell_type": "markdown",
   "metadata": {},
   "source": [
    "## Description of the analysis\n",
    "\n",
    "In this notebook, we use the script [```diachrscripts/analyze_interaction_distances_script.py```](https://github.com/TheJacksonLaboratory/diachrscripts/blob/master/analyze_interaction_distances_script.py) in order to analyse the distances between interacting digests for simple, twisted, undirected and indefinable interactions. The distance between digests is defined as the distance between the inner ends of two cis interacting digests. Interactions with a distance of less than 10,000 bp are excluded from this analysis.\n",
    "\n",
    "The categories simple, twisted, undirected and indefinable are defined using a binomial distribution. Let ```ks``` and ```kt``` the numbers of simple and twisted read pairs of a given interaction. An interaction is defined to be *simple*, if ```1 - binom.cdf(k = kt-1, n = ks + kt, p = 0.5) <= 0.05``` and ```ks < kt```. Otherwise, if ```1 - binom.cdf(k = ks-1, n = ks + kt, p = 0.5) <= 0.05``` and ```kt < ks``` the interaction is defined to be *twisted*. All remaining interactions are defined to be *undirected*, if ```4 < kt + ks```, or indefinable, if ```kt + ks < 5```.\n",
    "\n",
    "This analysis can be restricted to particular subsets of interactions depending on the status of interacting digest using the ```STATUS_PAIR_FLAG```. The default is ```ALL```. ```AA```, for instance, can be used to restrict the analysis to interactions between digests that were selected for enrichment."
   ]
  },
  {
   "cell_type": "markdown",
   "metadata": {},
   "source": [
    "## Choose dataset\n",
    "\n",
    "We analyzed four datasets, three capture Hi-C (Mifsud 2015, Schoenfelder 2015, Chesi 2019) and one Hi-C dataset (Nora 2017). In this section, individual datasets can be selected for the analysis that can be performed in the third section of this notebook."
   ]
  },
  {
   "cell_type": "markdown",
   "metadata": {},
   "source": [
    "### Mifsud 2015 (Promoter capture Hi-C, GM12878 and CD34+ blood cells, hg38, HindIII)"
   ]
  },
  {
   "cell_type": "code",
   "execution_count": 15,
   "metadata": {},
   "outputs": [],
   "source": [
    "# Create output directory\n",
    "!mkdir -p ../results/mifsud/digest_distance"
   ]
  },
  {
   "cell_type": "markdown",
   "metadata": {},
   "source": [
    "#### Replicate 1"
   ]
  },
  {
   "cell_type": "code",
   "execution_count": 97,
   "metadata": {},
   "outputs": [],
   "source": [
    "OUT_PREFIX = \"../results/mifsud/digest_distance/digest_distance_analysis_mifsud_r1\"\n",
    "STATUS_PAIR_FLAG = \"ALL\"\n",
    "INTERACTION_FILE = \"../diachrscripts_data/mifsud_2015_hg38/data/gzdir/MIFSUD_R10.interaction.counts.table.gt1.tsv.gz\"\n",
    "P_VALUE_CUTOFF = 0.003"
   ]
  },
  {
   "cell_type": "markdown",
   "metadata": {},
   "source": [
    "#### Replicate 2"
   ]
  },
  {
   "cell_type": "code",
   "execution_count": 102,
   "metadata": {},
   "outputs": [],
   "source": [
    "OUT_PREFIX = \"../results/mifsud/digest_distance/digest_distance_analysis_mifsud_r2\"\n",
    "STATUS_PAIR_FLAG = \"ALL\"\n",
    "INTERACTION_FILE = \"../diachrscripts_data/mifsud_2015_hg38/data/gzdir/MIFSUD_R20.interaction.counts.table.gt1.tsv.gz\"\n",
    "P_VALUE_CUTOFF = 0.003"
   ]
  },
  {
   "cell_type": "markdown",
   "metadata": {},
   "source": [
    "#### Replicate 3"
   ]
  },
  {
   "cell_type": "code",
   "execution_count": 47,
   "metadata": {},
   "outputs": [],
   "source": [
    "OUT_PREFIX = \"../results/mifsud/digest_distance/digest_distance_analysis_mifsud_r3\"\n",
    "STATUS_PAIR_FLAG = \"ALL\"\n",
    "INTERACTION_FILE = \"../diachrscripts_data/mifsud_2015_hg38/data/gzdir/MIFSUD_R30.interaction.counts.table.gt1.tsv.gz\"\n",
    "P_VALUE_CUTOFF = \"NA\""
   ]
  },
  {
   "cell_type": "markdown",
   "metadata": {},
   "source": [
    "#### Interactions in at least two replicates"
   ]
  },
  {
   "cell_type": "code",
   "execution_count": null,
   "metadata": {},
   "outputs": [],
   "source": [
    "OUT_PREFIX = \"../results/mifsud/digest_distance/digest_distance_analysis_mifsud_at_least_2\"\n",
    "STATUS_PAIR_FLAG = \"ALL\"\n",
    "INTERACTION_FILE = \"../diachrscripts_data/mifsud_2015_hg38/data/gzdir/MIFSUD_R30.interaction.counts.table.gt1.tsv.gz\""
   ]
  },
  {
   "cell_type": "markdown",
   "metadata": {},
   "source": [
    "### Schoenfelder 2015 (Promoter capture Hi-C, mES cells, mm10, HindIII)"
   ]
  },
  {
   "cell_type": "code",
   "execution_count": 13,
   "metadata": {},
   "outputs": [],
   "source": [
    "# Create output directory\n",
    "!mkdir -p ../results/schoenefelder/digest_distance"
   ]
  },
  {
   "cell_type": "markdown",
   "metadata": {},
   "source": [
    "#### Replicate 1"
   ]
  },
  {
   "cell_type": "code",
   "execution_count": 81,
   "metadata": {},
   "outputs": [],
   "source": [
    "OUT_PREFIX = \"../results/schoenefelder/digest_distance/digest_distance_analysis_schoenefelder_r1\"\n",
    "STATUS_PAIR_FLAG = \"ALL\"\n",
    "INTERACTION_FILE = \"../diachrscripts_data/schoenefelder_2015_mm10/data/gzdir/SCHOEN_R10.interaction.counts.table.gt1.tsv.gz\"\n",
    "P_VALUE_CUTOFF = \"NA\""
   ]
  },
  {
   "cell_type": "markdown",
   "metadata": {},
   "source": [
    "#### Replicate 2"
   ]
  },
  {
   "cell_type": "code",
   "execution_count": 107,
   "metadata": {},
   "outputs": [],
   "source": [
    "OUT_PREFIX = \"../results/schoenefelder/digest_distance/digest_distance_analysis_schoenefelder_r2\"\n",
    "STATUS_PAIR_FLAG = \"ALL\"\n",
    "INTERACTION_FILE = \"../diachrscripts_data/schoenefelder_2015_mm10/data/gzdir/SCHOEN_R20.interaction.counts.table.gt1.tsv.gz\"\n",
    "P_VALUE_CUTOFF = 0.0015"
   ]
  },
  {
   "cell_type": "markdown",
   "metadata": {},
   "source": [
    "#### Interactions in at least two replicates (Schönefelder)"
   ]
  },
  {
   "cell_type": "code",
   "execution_count": 53,
   "metadata": {},
   "outputs": [],
   "source": [
    "OUT_PREFIX = \"../results/schoenefelder/digest_distance/digest_distance_analysis_schoenefelder_at_least_2\"\n",
    "STATUS_PAIR_FLAG = \"ALL\"\n",
    "INTERACTION_FILE = \"../schoenefelder_interactions.txt.gz\""
   ]
  },
  {
   "cell_type": "markdown",
   "metadata": {},
   "source": [
    "### Chesi 2019 (Promoter Capture-C, BMP2 induced osteoblasts and HepG2 cells, hg38, DpnII)"
   ]
  },
  {
   "cell_type": "code",
   "execution_count": 10,
   "metadata": {},
   "outputs": [],
   "source": [
    "# Create output directory\n",
    "!mkdir -p ../results/chesi/digest_distance"
   ]
  },
  {
   "cell_type": "markdown",
   "metadata": {},
   "source": [
    "#### Replicate 1 - BMP2"
   ]
  },
  {
   "cell_type": "code",
   "execution_count": 94,
   "metadata": {},
   "outputs": [],
   "source": [
    "OUT_PREFIX = \"../results/chesi/digest_distance/digest_distance_analysis_chesi_bmp2_r1\"\n",
    "STATUS_PAIR_FLAG = \"ALL\"\n",
    "INTERACTION_FILE = \"../diachrscripts_data/chesi_2019_hg38/data/gzdir_bmp2/CHESI_BMP2_R10.interaction.counts.table.gt1.tsv.gz\""
   ]
  },
  {
   "cell_type": "markdown",
   "metadata": {},
   "source": [
    "#### Replicate 2 - BMP2"
   ]
  },
  {
   "cell_type": "code",
   "execution_count": 100,
   "metadata": {},
   "outputs": [],
   "source": [
    "OUT_PREFIX = \"../results/chesi/digest_distance/digest_distance_analysis_chesi_bmp2_r2\"\n",
    "STATUS_PAIR_FLAG = \"ALL\"\n",
    "INTERACTION_FILE = \"../diachrscripts_data/chesi_2019_hg38/data/gzdir_bmp2/CHESI_BMP2_R20.interaction.counts.table.gt1.tsv.gz\""
   ]
  },
  {
   "cell_type": "markdown",
   "metadata": {},
   "source": [
    "#### Replicate 3 - BMP2"
   ]
  },
  {
   "cell_type": "code",
   "execution_count": 113,
   "metadata": {},
   "outputs": [],
   "source": [
    "OUT_PREFIX = \"../results/chesi/digest_distance/digest_distance_analysis_chesi_bmp2_r3\"\n",
    "STATUS_PAIR_FLAG = \"ALL\"\n",
    "INTERACTION_FILE = \"../diachrscripts_data/chesi_2019_hg38/data/gzdir_bmp2/CHESI_BMP2_R30.interaction.counts.table.gt1.tsv.gz\""
   ]
  },
  {
   "cell_type": "markdown",
   "metadata": {},
   "source": [
    "#### Replicate 1 - HEPG2"
   ]
  },
  {
   "cell_type": "code",
   "execution_count": 119,
   "metadata": {},
   "outputs": [],
   "source": [
    "OUT_PREFIX = \"../results/chesi/digest_distance/digest_distance_analysis_chesi_hepg2_r1\"\n",
    "STATUS_PAIR_FLAG = \"ALL\"\n",
    "INTERACTION_FILE = \"../diachrscripts_data/chesi_2019_hg38/data/gzdir_hepg2/CHESI_HEPG2_R10.interaction.counts.table.gt1.tsv.gz\""
   ]
  },
  {
   "cell_type": "markdown",
   "metadata": {},
   "source": [
    "#### Replicate 2 - HEPG2"
   ]
  },
  {
   "cell_type": "code",
   "execution_count": 126,
   "metadata": {},
   "outputs": [],
   "source": [
    "OUT_PREFIX = \"../results/chesi/digest_distance/digest_distance_analysis_chesi_hepg2_r2\"\n",
    "STATUS_PAIR_FLAG = \"ALL\"\n",
    "INTERACTION_FILE = \"../diachrscripts_data/chesi_2019_hg38/data/gzdir_hepg2/CHESI_HEPG2_R20.interaction.counts.table.gt1.tsv.gz\""
   ]
  },
  {
   "cell_type": "markdown",
   "metadata": {},
   "source": [
    "#### Replicate 3 - HEPG2"
   ]
  },
  {
   "cell_type": "code",
   "execution_count": 132,
   "metadata": {},
   "outputs": [],
   "source": [
    "OUT_PREFIX = \"../results/chesi/digest_distance/digest_distance_analysis_chesi_hepg2_r3\"\n",
    "STATUS_PAIR_FLAG = \"ALL\"\n",
    "INTERACTION_FILE = \"../diachrscripts_data/chesi_2019_hg38/data/gzdir_hepg2/CHESI_HEPG2_R30.interaction.counts.table.gt1.tsv.gz\""
   ]
  },
  {
   "cell_type": "markdown",
   "metadata": {},
   "source": [
    "### Nora 2017 (gone boundary bins)"
   ]
  },
  {
   "cell_type": "code",
   "execution_count": 138,
   "metadata": {},
   "outputs": [],
   "source": [
    "# Create output directory\n",
    "!mkdir -p ../results/nora/digest_distance"
   ]
  },
  {
   "cell_type": "markdown",
   "metadata": {},
   "source": [
    "#### Replicate 1 - before CTCF-depletion"
   ]
  },
  {
   "cell_type": "code",
   "execution_count": 141,
   "metadata": {},
   "outputs": [],
   "source": [
    "OUT_PREFIX = \"../results/nora/digest_distance/digest_distance_analysis_nora_GSM2644945\"\n",
    "STATUS_PAIR_FLAG = \"ALL\"\n",
    "INTERACTION_FILE = \"../diachrscripts_data/nora_2017_mm9/data/gzdir_bins/GSM2644945_bins.interaction.counts.table.gt1.tsv.gz\""
   ]
  },
  {
   "cell_type": "markdown",
   "metadata": {},
   "source": [
    "#### Replicate 2 - before CTCF-depletion"
   ]
  },
  {
   "cell_type": "code",
   "execution_count": 147,
   "metadata": {},
   "outputs": [],
   "source": [
    "OUT_PREFIX = \"../results/nora/digest_distance/digest_distance_analysis_nora_GSM2644946\"\n",
    "STATUS_PAIR_FLAG = \"ALL\"\n",
    "INTERACTION_FILE = \"../diachrscripts_data/nora_2017_mm9/data/gzdir_bins/GSM2644946_bins.interaction.counts.table.gt1.tsv.gz\""
   ]
  },
  {
   "cell_type": "markdown",
   "metadata": {},
   "source": [
    "#### Replicate 1 - after CTCF-depletion"
   ]
  },
  {
   "cell_type": "code",
   "execution_count": 153,
   "metadata": {},
   "outputs": [],
   "source": [
    "OUT_PREFIX = \"../results/nora/digest_distance/digest_distance_analysis_nora_GSM2644947\"\n",
    "STATUS_PAIR_FLAG = \"ALL\"\n",
    "INTERACTION_FILE = \"../diachrscripts_data/nora_2017_mm9/data/gzdir_bins/GSM2644947_bins.interaction.counts.table.gt1.tsv.gz\""
   ]
  },
  {
   "cell_type": "markdown",
   "metadata": {},
   "source": [
    "#### Replicate 2 - after CTCF-depletion"
   ]
  },
  {
   "cell_type": "code",
   "execution_count": 159,
   "metadata": {},
   "outputs": [],
   "source": [
    "OUT_PREFIX = \"../results/nora/digest_distance/digest_distance_analysis_nora_GSM2644948\"\n",
    "STATUS_PAIR_FLAG = \"ALL\"\n",
    "INTERACTION_FILE = \"../diachrscripts_data/nora_2017_mm9/data/gzdir_bins/GSM2644948_bins.interaction.counts.table.gt1.tsv.gz\""
   ]
  },
  {
   "cell_type": "markdown",
   "metadata": {},
   "source": [
    "### Interactions in at least two replicates"
   ]
  },
  {
   "cell_type": "markdown",
   "metadata": {},
   "source": [
    "#### Interactions in at least two replicates (Mifsud)"
   ]
  },
  {
   "cell_type": "code",
   "execution_count": 48,
   "metadata": {},
   "outputs": [],
   "source": [
    "OUT_PREFIX = \"../results/mifsud/digest_distance/digest_distance_analysis_mifsud_at_least_2\"\n",
    "STATUS_PAIR_FLAG = \"ALL\"\n",
    "INTERACTION_FILE = \"../results_1/mifsud/mifsud_at_least_in_2_replicates_interactions.tsv.gz\"\n",
    "P_VALUE_CUTOFF = 0.00375 # FDR < 25%"
   ]
  },
  {
   "cell_type": "markdown",
   "metadata": {},
   "source": [
    "#### Interactions in at least two replicates (Schönefelder)"
   ]
  },
  {
   "cell_type": "code",
   "execution_count": 39,
   "metadata": {},
   "outputs": [],
   "source": [
    "OUT_PREFIX = \"../results/schoenefelder/digest_distance/digest_distance_analysis_schoenefelder_at_least_2\"\n",
    "STATUS_PAIR_FLAG = \"ALL\"\n",
    "INTERACTION_FILE = \"../results_1/schoenefelder/schoenefelder_at_least_in_2_replicates_interactions.tsv.gz\"\n",
    "P_VALUE_CUTOFF = 0.003 # FDR < 25%"
   ]
  },
  {
   "cell_type": "markdown",
   "metadata": {},
   "source": [
    "#### Interactions in at least two replicates (Chesi - BMP2)"
   ]
  },
  {
   "cell_type": "code",
   "execution_count": 31,
   "metadata": {},
   "outputs": [],
   "source": [
    "OUT_PREFIX = \"../results/chesi/digest_distance/digest_distance_analysis_chesi_bmp2_at_least_2\"\n",
    "STATUS_PAIR_FLAG = \"ALL\"\n",
    "INTERACTION_FILE = \"../alt_interactions/chesi_bmp2_at_least_in_2_replicates_interactions.tsv.gz\"\n",
    "P_VALUE_CUTOFF = 0.00175 # FDR < 25%"
   ]
  },
  {
   "cell_type": "markdown",
   "metadata": {},
   "source": [
    "#### Interactions in at least two replicates (Chesi - HEPG2)"
   ]
  },
  {
   "cell_type": "code",
   "execution_count": 129,
   "metadata": {},
   "outputs": [],
   "source": [
    "OUT_PREFIX = \"../results/chesi/digest_distance/digest_distance_analysis_chesi_hepg2_at_least_2\"\n",
    "STATUS_PAIR_FLAG = \"ALL\"\n",
    "INTERACTION_FILE = \"../alt_interactions/chesi_hepg2_at_least_in_2_replicates_interactions.tsv.gz\"\n",
    "P_VALUE_CUTOFF = 0.00175 # FDR < 25%"
   ]
  },
  {
   "cell_type": "markdown",
   "metadata": {},
   "source": [
    "#### Interactions in at least two replicates (Nora - untreated)"
   ]
  },
  {
   "cell_type": "code",
   "execution_count": 27,
   "metadata": {},
   "outputs": [],
   "source": [
    "OUT_PREFIX = \"../results/nora/digest_distance/digest_distance_analysis_nora_untreated_at_least_2\"\n",
    "STATUS_PAIR_FLAG = \"ALL\"\n",
    "INTERACTION_FILE = \"../alt_interactions/nora_untreated_at_least_in_2_replicates_interactions.tsv.gz\"\n",
    "P_VALUE_CUTOFF = \"NA\""
   ]
  },
  {
   "cell_type": "markdown",
   "metadata": {},
   "source": [
    "#### Interactions in at least two replicates (Nora - treated)"
   ]
  },
  {
   "cell_type": "code",
   "execution_count": 33,
   "metadata": {},
   "outputs": [],
   "source": [
    "OUT_PREFIX = \"../results/nora/digest_distance/digest_distance_analysis_nora_treated_at_least_2\"\n",
    "STATUS_PAIR_FLAG = \"ALL\"\n",
    "INTERACTION_FILE = \"../alt_interactions/nora_treated_at_least_in_2_replicates_interactions.tsv.gz\"\n",
    "P_VALUE_CUTOFF = \"NA\""
   ]
  },
  {
   "cell_type": "markdown",
   "metadata": {},
   "source": [
    "## Perform analysis"
   ]
  },
  {
   "cell_type": "code",
   "execution_count": 49,
   "metadata": {
    "scrolled": true
   },
   "outputs": [
    {
     "name": "stdout",
     "output_type": "stream",
     "text": [
      "[INFO] Input parameters\n",
      "\t[INFO] --out-prefix: ../results/mifsud/digest_distance/digest_distance_analysis_mifsud_at_least_2\n",
      "\t[INFO] --interaction-file: ../results_1/mifsud/mifsud_at_least_in_2_replicates_interactions.tsv.gz\n",
      "\t[INFO] --status-pair-flag: ALL\n",
      "\t[INFO] --p-value-cutoff: 0.00375\n",
      "[INFO] Looking for smallest number of read pairs n that yields a significant P-value with the given threshold of 0.00375.\n",
      "\t[INFO] Smallest n: 9 read pairs\n",
      "[INFO] Determining distribution of n in significant interactions in: ../results_1/mifsud/mifsud_at_least_in_2_replicates_interactions.tsv.gz ...\n",
      "\t[INFO] 100000 interactions processed ...\n",
      "\t[INFO] 200000 interactions processed ...\n",
      "\t[INFO] 300000 interactions processed ...\n",
      "\t[INFO] 400000 interactions processed ...\n",
      "\t[INFO] 500000 interactions processed ...\n",
      "\t[INFO] 600000 interactions processed ...\n",
      "\t[INFO] 700000 interactions processed ...\n",
      "\t[INFO] 800000 interactions processed ...\n",
      "\t[INFO] 900000 interactions processed ...\n",
      "\t[INFO] 1000000 interactions processed ...\n",
      "\t[INFO] 1100000 interactions processed ...\n",
      "\t[INFO] 1200000 interactions processed ...\n",
      "\t[INFO] 1300000 interactions processed ...\n",
      "\t[INFO] 1400000 interactions processed ...\n",
      "\t[INFO] 1500000 interactions processed ...\n",
      "\t[INFO] 1600000 interactions processed ...\n",
      "\t[INFO] 1700000 interactions processed ...\n",
      "\t[INFO] 1800000 interactions processed ...\n",
      "\t[INFO] 1900000 interactions processed ...\n",
      "\t[INFO] 2000000 interactions processed ...\n",
      "\t[INFO] 2100000 interactions processed ...\n",
      "\t[INFO] 2200000 interactions processed ...\n",
      "\t[INFO] 2300000 interactions processed ...\n",
      "\t[INFO] 2400000 interactions processed ...\n",
      "\t[INFO] 2500000 interactions processed ...\n",
      "\t[INFO] 2600000 interactions processed ...\n",
      "\t[INFO] 2700000 interactions processed ...\n",
      "\t[INFO] 2800000 interactions processed ...\n",
      "... done.\n",
      "[INFO] Determining distances between digest pairs in ../results_1/mifsud/mifsud_at_least_in_2_replicates_interactions.tsv.gz ...\n",
      "\t[INFO] 100000 interactions processed ...\n",
      "\t[INFO] 200000 interactions processed ...\n",
      "\t[INFO] 300000 interactions processed ...\n",
      "\t[INFO] 400000 interactions processed ...\n",
      "\t[INFO] 500000 interactions processed ...\n",
      "\t[INFO] 600000 interactions processed ...\n",
      "\t[INFO] 700000 interactions processed ...\n",
      "\t[INFO] 800000 interactions processed ...\n",
      "\t[INFO] 1000000 interactions processed ...\n",
      "\t[INFO] 1100000 interactions processed ...\n",
      "\t[INFO] 1200000 interactions processed ...\n",
      "\t[INFO] 1500000 interactions processed ...\n",
      "\t[INFO] 1600000 interactions processed ...\n",
      "\t[INFO] 1700000 interactions processed ...\n",
      "\t[INFO] 1800000 interactions processed ...\n",
      "\t[INFO] 1900000 interactions processed ...\n",
      "\t[INFO] 2000000 interactions processed ...\n",
      "\t[INFO] 2100000 interactions processed ...\n",
      "\t[INFO] 2300000 interactions processed ...\n",
      "\t[INFO] 2400000 interactions processed ...\n",
      "\t[INFO] 2500000 interactions processed ...\n",
      "\t[INFO] 2600000 interactions processed ...\n",
      "\t[INFO] 2700000 interactions processed ...\n",
      "\t[INFO] 2800000 interactions processed ...\n",
      "[INFO] Summary statistics\n",
      "\t[INFO] Total number of interactions: 2837557\n",
      "\t[INFO] Number of non ALL interactions: 0 (discarded)\n",
      "\t[INFO] Number of trans and short range interactions: 310124 (discarded)\n",
      "\t------------------------------------------------------------------\n",
      "\t[INFO] Number of simple interactions: 6517\n",
      "\t[INFO] Number of twisted interactions: 6695\n",
      "\t[INFO] Number of undirected interactions: 927816\n",
      "\t[INFO] Number of undirected interactions reference: 13212\n",
      "\t[INFO] Number of indefinable interactions: 1586405\n",
      "\t------------------------------------------------------------------\n",
      "\t[INFO] Number of read pairs in simple interactions: 101281 (15.541046493785483)\n",
      "\t[INFO] Number of read pairs in twisted interactions: 104142 (15.555190440627333)\n",
      "\t[INFO] Number of read pairs in undirected interactions: 12955150 (13.963059485932556)\n",
      "\t[INFO] Number of read pairs in undirected interactions reference: 205423 (15.548213745080231)\n",
      "\t[INFO] Number of read pairs in indefinable interactions: 9021852 (5.6869790501164585)\n",
      "\t------------------------------------------------------------------\n",
      "[INFO] Writing numpy arrays with distances to disk ...\n",
      "[INFO] Writing arrays with distances to files ...\n",
      "[INFO] ... done.\n"
     ]
    }
   ],
   "source": [
    "# Run Python script\n",
    "!python ../analyze_interaction_distances_script.py --p-value-cutoff $P_VALUE_CUTOFF --out-prefix $OUT_PREFIX --status-pair-flag $STATUS_PAIR_FLAG --interaction-file $INTERACTION_FILE"
   ]
  },
  {
   "cell_type": "code",
   "execution_count": 20,
   "metadata": {},
   "outputs": [],
   "source": [
    "# Load modules\n",
    "import numpy as np\n",
    "from scipy import stats\n",
    "import matplotlib.pyplot as plt"
   ]
  },
  {
   "cell_type": "code",
   "execution_count": 41,
   "metadata": {},
   "outputs": [
    {
     "name": "stdout",
     "output_type": "stream",
     "text": [
      "Interaction numbers:\n",
      "\tSimple: 4397\n",
      "\tTwisted: 4429\n",
      "\tUndirected reference: 8812\n",
      "\tUndirected all: 962890\n",
      "\tIndefinable: 1313916\n",
      "Mean distances:\n",
      "\tSimple: 160443\n",
      "\tTwisted: 163387\n",
      "\tUndirected reference: 178590\n",
      "\tUndirected all: 186644\n",
      "\tIndefinable: 500603\n",
      "Median distances:\n",
      "\tSimple: 71418\n",
      "\tTwisted: 72976\n",
      "\tUndirected reference: 116079\n",
      "\tUndirected all: 124122\n",
      "\tIndefinable: 310821\n",
      " t-tests:\n",
      "\tSimple vs. Twisted: (0.8774191931699978, 0.34890951718155594, 72117.5, array([[2176, 2237],\n",
      "       [2221, 2192]]))\n",
      "\tSimple vs. Undirected: (677.4210619307247, 2.430845754220197e-149, 123837.0, array([[  1337, 482300],\n",
      "       [  3060, 480590]]))\n",
      "\tTwisted vs. Undirected: (607.0742411327208, 4.842952136422828e-134, 123851.0, array([[  1396, 482261],\n",
      "       [  3033, 480629]]))\n",
      "\tSimple vs. Undirected reference: (368.4916134453429, 3.986744477182647e-82, 99096.0, array([[1678, 4926],\n",
      "       [2719, 3886]]))\n",
      "\tTwisted vs. Undirected reference: (344.4874509714703, 6.723604524143654e-77, 99516.0, array([[1710, 4910],\n",
      "       [2719, 3902]]))\n"
     ]
    }
   ],
   "source": [
    "# Load saved numpy arrays from disk\n",
    "array_path = OUT_PREFIX + \"_distance_array_simple.npy\"\n",
    "distance_array_simple = np.load(array_path)\n",
    "array_path = OUT_PREFIX + \"_distance_array_twisted.npy\"\n",
    "distance_array_twisted = np.load(array_path)\n",
    "array_path = OUT_PREFIX + \"_distance_array_undirected.npy\"\n",
    "distance_array_undirected = np.load(array_path)\n",
    "array_path = OUT_PREFIX + \"_distance_array_undirected_reference.npy\"\n",
    "distance_array_undirected_reference = np.load(array_path)\n",
    "array_path = OUT_PREFIX + \"_distance_array_indefinable.npy\"\n",
    "distance_array_indefinable = np.load(array_path)\n",
    "\n",
    "# Dertermine interaction numbers\n",
    "print(\"Interaction numbers:\")\n",
    "print(\"\\tSimple: \" + str(len(distance_array_simple)))\n",
    "print(\"\\tTwisted: \" + str(len(distance_array_twisted)))\n",
    "print(\"\\tUndirected reference: \" + str(len(distance_array_undirected_reference)))\n",
    "print(\"\\tUndirected all: \" + str(len(distance_array_undirected)))\n",
    "print(\"\\tIndefinable: \" + str(len(distance_array_indefinable)))\n",
    "\n",
    "# Determine mean distances\n",
    "print(\"Mean distances:\")\n",
    "print(\"\\tSimple: \" + str(int(distance_array_simple.mean())))\n",
    "print(\"\\tTwisted: \" + str(int(distance_array_twisted.mean())))\n",
    "print(\"\\tUndirected reference: \" + str(int(distance_array_undirected_reference.mean())))\n",
    "print(\"\\tUndirected all: \" + str(int(distance_array_undirected.mean())))\n",
    "print(\"\\tIndefinable: \" + str(int(distance_array_indefinable.mean())))\n",
    "\n",
    "# Determine median distances\n",
    "print(\"Median distances:\")\n",
    "print(\"\\tSimple: \" + str(int(np.median(distance_array_simple))))\n",
    "print(\"\\tTwisted: \" + str(int(np.median(distance_array_twisted))))\n",
    "print(\"\\tUndirected reference: \" + str(int(np.median(distance_array_undirected_reference))))\n",
    "print(\"\\tUndirected all: \" + str(int(np.median(distance_array_undirected))))\n",
    "print(\"\\tIndefinable: \" + str(int(np.median(distance_array_indefinable))))\n",
    "\n",
    "# Perform t-tests\n",
    "print(\" t-tests:\")\n",
    "\n",
    "res = stats.median_test(distance_array_simple, distance_array_twisted)\n",
    "print(\"\\tSimple vs. Twisted: \" + str(res))\n",
    "\n",
    "res = stats.median_test(distance_array_simple, distance_array_undirected)\n",
    "print(\"\\tSimple vs. Undirected: \" + str(res))\n",
    "\n",
    "#res = stats.median_test(distance_array_simple, distance_array_indefinable)\n",
    "#print(\"\\tSimple vs. Indefinable: \" + str(res))\n",
    "\n",
    "res = stats.median_test(distance_array_twisted, distance_array_undirected)\n",
    "print(\"\\tTwisted vs. Undirected: \" + str(res))\n",
    "\n",
    "res = stats.median_test(distance_array_simple, distance_array_undirected_reference)\n",
    "print(\"\\tSimple vs. Undirected reference: \" + str(res))\n",
    "\n",
    "res = stats.median_test(distance_array_twisted, distance_array_undirected_reference)\n",
    "#stats.wilcoxon(distance_array_twisted, distance_array_undirected_reference)\n",
    "print(\"\\tTwisted vs. Undirected reference: \" + str(res))\n",
    "\n",
    "#res = stats.median_test(distance_array_twisted, distance_array_indefinable)\n",
    "#print(\"\\tTwisted vs. Indefinable: \" + str(res))\n",
    "\n",
    "#res = stats.median_test(distance_array_undirected, distance_array_indefinable)\n",
    "#print(\"\\tUndirected vs. Indefinable: \" + str(res))\n"
   ]
  },
  {
   "cell_type": "code",
   "execution_count": 42,
   "metadata": {},
   "outputs": [
    {
     "data": {
      "image/png": "[encoded data removed]",
      "text/plain": [
       "<Figure size 864x432 with 1 Axes>"
      ]
     },
     "metadata": {
      "needs_background": "light"
     },
     "output_type": "display_data"
    }
   ],
   "source": [
    "# Create boxplot for simple, twisted, undirected and indefinable\n",
    "\n",
    "# Combine arrays into a list    \n",
    "data_to_plot = [distance_array_simple, distance_array_twisted, distance_array_undirected_reference, distance_array_undirected, distance_array_indefinable]\n",
    "\n",
    "# Create a figure instance\n",
    "fig = plt.figure(1, figsize=(12, 6))\n",
    "\n",
    "# Create an axes instance\n",
    "ax = fig.add_subplot(111)\n",
    "\n",
    "# Create the boxplot\n",
    "bp = ax.boxplot(data_to_plot, showfliers=False)\n",
    "\n",
    "# Add interaction numbers to boxplot\n",
    "ax.xaxis.tick_top()\n",
    "plt.xticks([1, 2, 3, 4, 5], [\"Simple: \" + str(len(distance_array_simple)), \"Twisted: \" + str(len(distance_array_twisted)), \"Undirected Ref.: \" + str(len(distance_array_undirected_reference)), \"Undirected ALL: \" + str(len(distance_array_undirected)), \"Indefinable: \" + str(len(distance_array_indefinable))])\n",
    "\n",
    "# Save the figure\n",
    "plt.title(OUT_PREFIX)\n",
    "figure_name = OUT_PREFIX + \"_boxplot_1.pdf\"\n",
    "fig.savefig(figure_name, bbox_inches='tight', format = \"pdf\")\n",
    "\n",
    "\n"
   ]
  },
  {
   "cell_type": "code",
   "execution_count": 43,
   "metadata": {},
   "outputs": [
    {
     "data": {
      "image/png": "[encoded data removed]",
      "text/plain": [
       "<Figure size 648x432 with 1 Axes>"
      ]
     },
     "metadata": {
      "needs_background": "light"
     },
     "output_type": "display_data"
    }
   ],
   "source": [
    "# Create boxplot for simple, twisted, undirected only\n",
    "\n",
    "# Combine these different collections into a list    \n",
    "data_to_plot = [distance_array_simple, distance_array_twisted, distance_array_undirected_reference, distance_array_undirected]\n",
    "\n",
    "# Create a figure instance\n",
    "fig = plt.figure(1, figsize=(9, 6))\n",
    "\n",
    "# Create an axes instance\n",
    "ax = fig.add_subplot(111)\n",
    "\n",
    "# Create the boxplot\n",
    "bp = ax.boxplot(data_to_plot, showfliers=False)\n",
    "\n",
    "# Add interaction numbers to boxplot\n",
    "ax.xaxis.tick_top()\n",
    "plt.xticks([1, 2, 3, 4], [\"Simple: \" + str(len(distance_array_simple)), \"Twisted: \" + str(len(distance_array_twisted)), \"Undirected R: \" + str(len(distance_array_undirected_reference)), \"Undirected ALL: \" + str(len(distance_array_undirected))])\n",
    "\n",
    "\n",
    "\n",
    "# Save the figure\n",
    "plt.title(OUT_PREFIX)\n",
    "figure_name = OUT_PREFIX + \"_boxplot_2.pdf\"\n",
    "fig.savefig(figure_name, bbox_inches='tight', format = \"pdf\")"
   ]
  },
  {
   "cell_type": "code",
   "execution_count": 44,
   "metadata": {},
   "outputs": [
    {
     "name": "stdout",
     "output_type": "stream",
     "text": [
      "4397\n",
      "4429\n",
      "8794\n",
      "8812\n",
      "1313916\n"
     ]
    },
    {
     "data": {
      "image/png": "[encoded data removed]",
      "text/plain": [
       "<Figure size 1440x1440 with 5 Axes>"
      ]
     },
     "metadata": {
      "needs_background": "light"
     },
     "output_type": "display_data"
    }
   ],
   "source": [
    "# Create distance histograms\n",
    "plt.rcParams['figure.figsize'] = [20, 20]\n",
    "num_bins = 100\n",
    "f, (ax1, ax2, ax3, ax4, ax5) = plt.subplots(5, sharex=True, sharey=False)\n",
    "f.canvas.set_window_title('Distances between interacting digests')\n",
    "plt.title(OUT_PREFIX)\n",
    "plt.xlabel(\"Distance\")\n",
    "plt.ylabel(\"Frequency\")\n",
    "x_max=1000000\n",
    "\n",
    "distance_array_directed = np.concatenate((distance_array_simple,distance_array_simple))\n",
    "\n",
    "distance_array_simple\n",
    "\n",
    "ax1.set_title(\"Simple\")\n",
    "n, bins, patches = ax1.hist(distance_array_simple, num_bins, facecolor='blue', alpha=0.5, range=(0,x_max), density=True)\n",
    "\n",
    "ax2.set_title(\"Twisted\")\n",
    "n, bins, patches = ax2.hist(distance_array_twisted, num_bins, facecolor='blue', alpha=0.5, range=(0,x_max), density=True)\n",
    "\n",
    "ax3.set_title(\"Undirected referece\")\n",
    "n, bins, patches = ax3.hist(distance_array_undirected_reference, num_bins, facecolor='blue', alpha=0.5, range=(0,x_max), density=True)\n",
    "\n",
    "ax4.set_title(\"Undirected all\")\n",
    "n, bins, patches = ax4.hist(distance_array_undirected, num_bins, facecolor='blue', alpha=0.5, range=(0,x_max))\n",
    "\n",
    "ax5.set_title(\"Indefinable\")\n",
    "n, bins, patches = ax5.hist(distance_array_indefinable, num_bins, facecolor='blue', alpha=0.5, range=(0,x_max))\n",
    "\n",
    "# Save the figure\n",
    "f.suptitle(OUT_PREFIX)\n",
    "figure_name = OUT_PREFIX + \"_histogram.pdf\"\n",
    "f.savefig(figure_name, bbox_inches='tight', format = \"pdf\")\n",
    "\n",
    "print(len(distance_array_simple))\n",
    "print(len(distance_array_twisted))\n",
    "print(len(distance_array_directed))\n",
    "print(len(distance_array_undirected_reference))\n",
    "print(len(distance_array_indefinable))\n",
    "\n"
   ]
  }
 ],
 "metadata": {
  "kernelspec": {
   "display_name": "Python 3 (diachscripts_p37env)",
   "language": "python",
   "name": "diachscripts_p37env"
  },
  "language_info": {
   "codemirror_mode": {
    "name": "ipython",
    "version": 3
   },
   "file_extension": ".py",
   "mimetype": "text/x-python",
   "name": "python",
   "nbconvert_exporter": "python",
   "pygments_lexer": "ipython3",
   "version": "3.7.4"
  }
 },
 "nbformat": 4,
 "nbformat_minor": 2
}
